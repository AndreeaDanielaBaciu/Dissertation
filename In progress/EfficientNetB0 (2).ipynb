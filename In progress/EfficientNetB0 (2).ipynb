{
  "cells": [
    {
      "cell_type": "code",
      "execution_count": 2,
      "metadata": {
        "id": "mXIVASVwVv9L"
      },
      "outputs": [],
      "source": [
        "import tensorflow as tf\n",
        "import numpy as np\n",
        "from tensorflow.keras.layers import Input, Dense, Conv2D, MaxPool2D, Flatten, Dropout\n",
        "from tensorflow.keras.models import Model\n",
        "from tensorflow.keras.optimizers import SGD\n",
        "from tensorflow.keras.utils import to_categorical\n",
        "from tensorflow.keras.callbacks import ModelCheckpoint\n",
        "\n",
        "import tensorflow_datasets as tfds\n"
      ]
    },
    {
      "cell_type": "code",
      "execution_count": 3,
      "metadata": {
        "colab": {
          "base_uri": "https://localhost:8080/"
        },
        "id": "arBNae2vWb33",
        "outputId": "c888c900-25cf-42bc-9834-e1d042cda62e"
      },
      "outputs": [
        {
          "output_type": "stream",
          "name": "stdout",
          "text": [
            "tfds.core.DatasetInfo(\n",
            "    name='patch_camelyon',\n",
            "    version=2.0.0,\n",
            "    description='The PatchCamelyon benchmark is a new and challenging image classification\n",
            "dataset. It consists of 327.680 color images (96 x 96px) extracted from\n",
            "histopathologic scans of lymph node sections. Each image is annoted with a\n",
            "binary label indicating presence of metastatic tissue. PCam provides a new\n",
            "benchmark for machine learning models: bigger than CIFAR10, smaller than\n",
            "Imagenet, trainable on a single GPU.',\n",
            "    homepage='https://patchcamelyon.grand-challenge.org/',\n",
            "    features=FeaturesDict({\n",
            "        'id': Text(shape=(), dtype=tf.string),\n",
            "        'image': Image(shape=(96, 96, 3), dtype=tf.uint8),\n",
            "        'label': ClassLabel(shape=(), dtype=tf.int64, num_classes=2),\n",
            "    }),\n",
            "    total_num_examples=327680,\n",
            "    splits={\n",
            "        'test': 32768,\n",
            "        'train': 262144,\n",
            "        'validation': 32768,\n",
            "    },\n",
            "    supervised_keys=('image', 'label'),\n",
            "    citation=\"\"\"@misc{b_s_veeling_j_linmans_j_winkens_t_cohen_2018_2546921,\n",
            "      author       = {B. S. Veeling, J. Linmans, J. Winkens, T. Cohen, M. Welling},\n",
            "      title        = {Rotation Equivariant CNNs for Digital Pathology},\n",
            "      month        = sep,\n",
            "      year         = 2018,\n",
            "      doi          = {10.1007/978-3-030-00934-2_24},\n",
            "      url          = {https://doi.org/10.1007/978-3-030-00934-2_24}\n",
            "    }\"\"\",\n",
            "    redistribution_info=,\n",
            ")\n",
            "\n"
          ]
        }
      ],
      "source": [
        "# Load the data\n",
        "\n",
        "p_camelyon, p_camelyon_info = tfds.load(\"patch_camelyon\", with_info=True)\n",
        "print(p_camelyon_info)"
      ]
    },
    {
      "cell_type": "code",
      "execution_count": 4,
      "metadata": {
        "id": "jJqIYf5K5P1m"
      },
      "outputs": [],
      "source": [
        "from tensorflow.keras.applications import EfficientNetB0\n",
        "\n",
        "\n",
        "# Resizing the images, based on the model choice. For EfficientNetB0 the size is 224\n",
        "# Preparing inputs: categorical encoding\n",
        "image_size = 224\n",
        "size = (image_size, image_size)\n",
        "\n",
        "def get_img_lbs(data):\n",
        "  image, label = data['image'], data['label']\n",
        "  return image, label\n",
        "\n",
        "\n",
        "def process(data):\n",
        "  image, label = data['image'], data['label']\n",
        "  label = tf.one_hot(label, 2, dtype=tf.float32)\n",
        "  image = tf.image.convert_image_dtype(image, tf.float32)\n",
        "  image = tf.image.resize(image, size)\n",
        "  return image, label\n",
        "\n",
        "train = p_camelyon['train']\n",
        "validation = p_camelyon['validation']\n",
        "test = p_camelyon['test']\n",
        "\n",
        "train = train.map(process, num_parallel_calls=tf.data.AUTOTUNE)\n",
        "train = train.cache()\n",
        "train = train.batch(batch_size = 16, drop_remainder = True)\n",
        "train = train.prefetch(tf.data.AUTOTUNE)\n",
        "\n",
        "validation = validation.map(process, num_parallel_calls=tf.data.AUTOTUNE)\n",
        "validation = validation.batch(batch_size = 32, drop_remainder = True)\n",
        "validation = validation.prefetch(tf.data.AUTOTUNE)\n",
        "\n",
        "test = test.map(process, num_parallel_calls = tf.data.AUTOTUNE)\n",
        "test = test.batch(batch_size = 32, drop_remainder = True)\n"
      ]
    },
    {
      "cell_type": "code",
      "execution_count": 5,
      "metadata": {
        "id": "wjNokujN9lVv",
        "colab": {
          "base_uri": "https://localhost:8080/"
        },
        "outputId": "13a961b0-31af-4390-f5df-b12e41899896"
      },
      "outputs": [
        {
          "output_type": "stream",
          "name": "stdout",
          "text": [
            "WARNING:tensorflow:There are non-GPU devices in `tf.distribute.Strategy`, not using nccl allreduce.\n"
          ]
        },
        {
          "output_type": "stream",
          "name": "stderr",
          "text": [
            "WARNING:tensorflow:There are non-GPU devices in `tf.distribute.Strategy`, not using nccl allreduce.\n"
          ]
        },
        {
          "output_type": "stream",
          "name": "stdout",
          "text": [
            "INFO:tensorflow:Using MirroredStrategy with devices ('/job:localhost/replica:0/task:0/device:CPU:0',)\n"
          ]
        },
        {
          "output_type": "stream",
          "name": "stderr",
          "text": [
            "INFO:tensorflow:Using MirroredStrategy with devices ('/job:localhost/replica:0/task:0/device:CPU:0',)\n"
          ]
        },
        {
          "output_type": "stream",
          "name": "stdout",
          "text": [
            "Model: \"model\"\n",
            "_________________________________________________________________\n",
            " Layer (type)                Output Shape              Param #   \n",
            "=================================================================\n",
            " input_1 (InputLayer)        [(None, 224, 224, 3)]     0         \n",
            "                                                                 \n",
            " efficientnetb0 (Functional)  (None, 2)                4052133   \n",
            "                                                                 \n",
            "=================================================================\n",
            "Total params: 4,052,133\n",
            "Trainable params: 4,010,110\n",
            "Non-trainable params: 42,023\n",
            "_________________________________________________________________\n",
            "Epoch 1/5\n",
            "512/512 [==============================] - 712s 1s/step - loss: 0.8565 - accuracy: 0.7268 - val_loss: 3.2141 - val_accuracy: 0.5066\n",
            "Epoch 2/5\n",
            "512/512 [==============================] - 608s 1s/step - loss: 0.4929 - accuracy: 0.7917 - val_loss: 0.4530 - val_accuracy: 0.7996\n",
            "Epoch 3/5\n",
            "512/512 [==============================] - 644s 1s/step - loss: 0.4472 - accuracy: 0.8146 - val_loss: 0.5241 - val_accuracy: 0.7651\n",
            "Epoch 4/5\n",
            "512/512 [==============================] - 644s 1s/step - loss: 0.4230 - accuracy: 0.8176 - val_loss: 1.2265 - val_accuracy: 0.7539\n",
            "Epoch 5/5\n",
            "512/512 [==============================] - 591s 1s/step - loss: 0.4030 - accuracy: 0.8218 - val_loss: 0.4513 - val_accuracy: 0.8003\n"
          ]
        }
      ],
      "source": [
        "from tensorflow.keras.applications import EfficientNetB0\n",
        "from tensorflow.keras import layers\n",
        "\n",
        "strategy = tf.distribute.MirroredStrategy()\n",
        "\n",
        "with strategy.scope():\n",
        "  input = layers.Input(shape=(image_size, image_size, 3))\n",
        "  output = EfficientNetB0(include_top = True, weights = None, classes = 2, classifier_activation=\"softmax\")(input)\n",
        "\n",
        "  model = tf.keras.Model(input, output)\n",
        "  model.compile(optimizer=\"adam\", loss=\"binary_crossentropy\", metrics=[\"accuracy\"])\n",
        "\n",
        "model.summary()\n",
        "\n",
        "epochs = 5\n",
        "hist = model.fit(train, epochs = epochs, validation_data = validation, verbose = 1, steps_per_epoch = 512, validation_steps = 128)"
      ]
    },
    {
      "cell_type": "code",
      "execution_count": 6,
      "metadata": {
        "id": "mNA9aqq-_EXv",
        "colab": {
          "base_uri": "https://localhost:8080/",
          "height": 295
        },
        "outputId": "6f8010a2-01a9-4917-e2ef-d6a6684dc91e"
      },
      "outputs": [
        {
          "output_type": "display_data",
          "data": {
            "text/plain": [
              "<Figure size 432x288 with 1 Axes>"
            ],
            "image/png": "[encoded data removed]"
          },
          "metadata": {
            "needs_background": "light"
          }
        }
      ],
      "source": [
        "import matplotlib.pyplot as plt\n",
        "\n",
        "def plot_hist(hist):\n",
        "  plt.plot(hist.history[\"accuracy\"])\n",
        "  plt.plot(hist.history[\"val_accuracy\"])\n",
        "  plt.title(\"Model Accuracy\")\n",
        "  plt.ylabel(\"Accuracy\")\n",
        "  plt.xlabel(\"Epochs\")\n",
        "  plt.legend([\"train\", \"validation\"], loc=\"upper left\")\n",
        "  plt.show()\n",
        "\n",
        "plot_hist(hist)"
      ]
    },
    {
      "cell_type": "code",
      "execution_count": 7,
      "metadata": {
        "id": "ztxTU1iK6AKY",
        "colab": {
          "base_uri": "https://localhost:8080/",
          "height": 105
        },
        "outputId": "ec17efe2-bf2c-4aa5-960a-297f2138fc00"
      },
      "outputs": [
        {
          "output_type": "execute_result",
          "data": {
            "text/plain": [
              "\"# Confusion matrix\\n\\nfrom sklearn import metrics\\nfrom sklearn.metrics import confusion_matrix, ConfusionMatrixDisplay\\n\\n\\n#metrics.ConfusionMatrixDisplay.from_predictions(train['image'], train['label'])\\n#plt.show()\\n\\n#metrics.ConfusionMatrixDisplay.from_predictions(validation)\\n#plt.show()\\n\\nlabels = validation['labels']\\ncm = confusion_matrix(validation, hist, labels=labels)\\ndisp = ConfusionMatrixDisplay(confusion_matrix=cm,\\n                               display_labels=labels)\\ndisp.plot()\\n\\nplt.show()\\n\""
            ],
            "application/vnd.google.colaboratory.intrinsic+json": {
              "type": "string"
            }
          },
          "metadata": {},
          "execution_count": 7
        }
      ],
      "source": [
        "'''# Confusion matrix\n",
        "\n",
        "from sklearn import metrics\n",
        "from sklearn.metrics import confusion_matrix, ConfusionMatrixDisplay\n",
        "\n",
        "\n",
        "#metrics.ConfusionMatrixDisplay.from_predictions(train['image'], train['label'])\n",
        "#plt.show()\n",
        "\n",
        "#metrics.ConfusionMatrixDisplay.from_predictions(validation)\n",
        "#plt.show()\n",
        "\n",
        "labels = validation['labels']\n",
        "cm = confusion_matrix(validation, hist, labels=labels)\n",
        "disp = ConfusionMatrixDisplay(confusion_matrix=cm,\n",
        "                               display_labels=labels)\n",
        "disp.plot()\n",
        "\n",
        "plt.show()\n",
        "'''"
      ]
    }
  ],
  "metadata": {
    "accelerator": "TPU",
    "colab": {
      "machine_shape": "hm",
      "name": "EfficientNetB0.ipynb",
      "provenance": []
    },
    "kernelspec": {
      "display_name": "Python 3",
      "name": "python3"
    },
    "language_info": {
      "name": "python"
    }
  },
  "nbformat": 4,
  "nbformat_minor": 0
}