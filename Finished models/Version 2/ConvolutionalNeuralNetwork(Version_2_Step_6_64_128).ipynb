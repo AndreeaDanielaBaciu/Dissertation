{
  "nbformat": 4,
  "nbformat_minor": 0,
  "metadata": {
    "colab": {
      "name": "ConvolutionalNeuralNetwork(Version_2_Step_6_64_128).ipynb",
      "provenance": [],
      "collapsed_sections": [],
      "machine_shape": "hm"
    },
    "kernelspec": {
      "name": "python3",
      "display_name": "Python 3"
    },
    "language_info": {
      "name": "python"
    },
    "accelerator": "GPU"
  },
  "cells": [
    {
      "cell_type": "markdown",
      "source": [
        "Step 4: In this phase different optimizers will be implemented for the 6 models from Step 3."
      ],
      "metadata": {
        "id": "Wk8XOratppQl"
      }
    },
    {
      "cell_type": "code",
      "execution_count": 42,
      "metadata": {
        "id": "EtdpbtRMpN-0"
      },
      "outputs": [],
      "source": [
        "# Import libraries\n",
        "\n",
        "import tensorflow as tf\n",
        "import numpy as np\n",
        "from tensorflow.keras.layers import Input, Dense, Conv2D, MaxPool2D, Flatten, Dropout\n",
        "from tensorflow.keras.models import Model\n",
        "from tensorflow.keras.optimizers import SGD\n",
        "from tensorflow.keras.utils import to_categorical\n",
        "from tensorflow.keras.callbacks import ModelCheckpoint\n",
        "from sklearn import metrics\n",
        "from sklearn.metrics import confusion_matrix, ConfusionMatrixDisplay\n",
        "from tensorflow.keras.utils import plot_model\n",
        "\n",
        "\n",
        "\n",
        "import tensorflow_datasets as tfds"
      ]
    },
    {
      "cell_type": "code",
      "source": [
        "# Load the data\n",
        "\n",
        "p_camelyon, p_camelyon_info = tfds.load(\"patch_camelyon\", with_info=True)"
      ],
      "metadata": {
        "id": "bSVV1okbqNYR"
      },
      "execution_count": 43,
      "outputs": []
    },
    {
      "cell_type": "code",
      "source": [
        "# Defining a \"normalize\" function to process the data before feeding it into the deep neural network. \n",
        "\n",
        "def normalize(x):\n",
        "  image, label = x['image'], x['label']\n",
        "  image = tf.image.convert_image_dtype(image, tf.float32)\n",
        "  label = tf.one_hot(label, 2, dtype=tf.float32)\n",
        "  return image, label"
      ],
      "metadata": {
        "id": "Xqz4ycyQqOD2"
      },
      "execution_count": 44,
      "outputs": []
    },
    {
      "cell_type": "code",
      "source": [
        "# Applying \"normalize\" function along with others to the data\n",
        "\n",
        "# Processing the training dataset\n",
        "train_ds = p_camelyon['train'].map(normalize, num_parallel_calls=8)\n",
        "train_ds = train_ds.shuffle(1024)\n",
        "train_ds = train_ds.repeat()\n",
        "train_ds = train_ds.batch(64)\n",
        "train_ds = train_ds.prefetch(2)\n",
        "\n",
        "# Processing validation dataset\n",
        "validation_ds = p_camelyon['validation'].map(normalize, num_parallel_calls=8)\n",
        "validation_ds = validation_ds.repeat()\n",
        "validation_ds = validation_ds.batch(128)\n",
        "validation_ds = validation_ds.prefetch(2)\n",
        "\n",
        "#Processing the test dataset\n",
        "test_ds = p_camelyon['test'].map(normalize, num_parallel_calls=8)\n",
        "test_ds = test_ds.batch(128)\n",
        "test_ds = test_ds.prefetch(2)\n",
        "\n",
        "#Seperating image and label into different variables\n",
        "train_images, train_labels = next(iter(train_ds))\n",
        "valid_images, valid_labels = next(iter(validation_ds))\n",
        "test_images, test_labels  = next(iter(test_ds))\n"
      ],
      "metadata": {
        "id": "U_fw0QJFqPLA"
      },
      "execution_count": 45,
      "outputs": []
    },
    {
      "cell_type": "code",
      "source": [
        "import math\n",
        "\n",
        "batch_size_for_training = 64\n",
        "batch_size_for_validation = 128\n",
        "batch_size_for_test = 128\n",
        "\n",
        "training_size = 262144\n",
        "validation_size = 32768\n",
        "test_size =  32768\n",
        "        \n",
        "\n",
        "# Calculate steps for training and testing the model\n",
        "calculate_steps_training = lambda x: int(math.ceil(1. * x / batch_size_for_training))\n",
        "calculate_steps_validation = lambda x: int(math.ceil(1. * x / batch_size_for_validation))\n",
        "calculate_steps_test= lambda x: int(math.ceil(1. * x / batch_size_for_test))\n",
        "\n",
        "steps_per_epoch = calculate_steps_training(training_size) \n",
        "validation_steps = calculate_steps_validation(validation_size)\n",
        "steps = calculate_steps_test(test_size)\n",
        "\n",
        "print(\"Training steps: \", steps_per_epoch)\n",
        "print(\"Validation steps: \", validation_steps)\n",
        "print(\"Testing steps: \", steps)\n"
      ],
      "metadata": {
        "colab": {
          "base_uri": "https://localhost:8080/"
        },
        "id": "DJouK7rMGqqg",
        "outputId": "3ca38389-0a7e-4af0-d5d8-4dde6ab56e24"
      },
      "execution_count": 46,
      "outputs": [
        {
          "output_type": "stream",
          "name": "stdout",
          "text": [
            "Training steps:  4096\n",
            "Validation steps:  256\n",
            "Testing steps:  256\n"
          ]
        }
      ]
    },
    {
      "cell_type": "code",
      "source": [
        "import matplotlib.pyplot as plt\n",
        "\n",
        "def plot_hist(history):\n",
        "  plt.plot(history.history[\"acc\"])\n",
        "  plt.plot(history.history[\"val_acc\"])\n",
        "  plt.title(\"Model Accuracy\")\n",
        "  plt.ylabel(\"Accuracy\")\n",
        "  plt.xlabel(\"Epochs\")\n",
        "  plt.legend([\"train\", \"validation\"], loc=\"upper left\")\n",
        "  plt.show()"
      ],
      "metadata": {
        "id": "-F3QjhfEGmOR"
      },
      "execution_count": 47,
      "outputs": []
    },
    {
      "cell_type": "code",
      "source": [
        "# Building the Convolutonal Neural Network Version 2 Model 5.1\n",
        "\n",
        "# Setting up the output with the right size\n",
        "input = Input(shape=(96,96,3))\n",
        "\n",
        "# Rely activation functions only, with softmax activation function for the last Dense layer\n",
        "x = Conv2D(16, (2,2), activation='relu', padding='valid')(input)\n",
        "x = Conv2D(16, (3,3), activation='relu', padding='valid')(x)\n",
        "x = MaxPool2D(pool_size=(2,2), strides=(2,2))(x)\n",
        "x = Conv2D(32, (3,3), activation='relu', padding='valid')(x)\n",
        "x = Conv2D(32, (3,3), activation='relu', padding='valid')(x)\n",
        "x = MaxPool2D(pool_size=(2,2), strides=(2,2))(x)\n",
        "x = Conv2D(64, (3,3), activation='relu', padding='valid')(x)\n",
        "x = Conv2D(64, (3,3), activation='relu', padding='valid')(x)\n",
        "x = MaxPool2D(pool_size=(2,2), strides=(2,2))(x)\n",
        "x = Flatten()(x)\n",
        "x = Dense(256, activation='relu')(x)\n",
        "x = Dropout(rate=0.8)(x)\n",
        "x = Dense(128, activation='relu')(x)\n",
        "x = Dropout(rate=0.8)(x)\n",
        "output = Dense(2, activation='softmax')(x)\n",
        "\n",
        "# Optimizer = adam\n",
        "# Loss function = binary_cross_entropy\n",
        "model_5_1_version_2 = Model(inputs=input, outputs = output)\n",
        "model_5_1_version_2.compile(optimizer='adam', \n",
        "              loss='binary_crossentropy',\n",
        "              metrics=['acc'])\n",
        "\n",
        "model_5_1_version_2.summary()\n",
        "#plot_model(model_5_1_version_2)"
      ],
      "metadata": {
        "colab": {
          "base_uri": "https://localhost:8080/"
        },
        "id": "GJj6kYCcpfvk",
        "outputId": "11fe547f-4706-4413-afda-b4816cb8169d"
      },
      "execution_count": 48,
      "outputs": [
        {
          "output_type": "stream",
          "name": "stdout",
          "text": [
            "Model: \"model_12\"\n",
            "_________________________________________________________________\n",
            " Layer (type)                Output Shape              Param #   \n",
            "=================================================================\n",
            " input_13 (InputLayer)       [(None, 96, 96, 3)]       0         \n",
            "                                                                 \n",
            " conv2d_54 (Conv2D)          (None, 95, 95, 16)        208       \n",
            "                                                                 \n",
            " conv2d_55 (Conv2D)          (None, 93, 93, 16)        2320      \n",
            "                                                                 \n",
            " max_pooling2d_36 (MaxPoolin  (None, 46, 46, 16)       0         \n",
            " g2D)                                                            \n",
            "                                                                 \n",
            " conv2d_56 (Conv2D)          (None, 44, 44, 32)        4640      \n",
            "                                                                 \n",
            " conv2d_57 (Conv2D)          (None, 42, 42, 32)        9248      \n",
            "                                                                 \n",
            " max_pooling2d_37 (MaxPoolin  (None, 21, 21, 32)       0         \n",
            " g2D)                                                            \n",
            "                                                                 \n",
            " conv2d_58 (Conv2D)          (None, 19, 19, 64)        18496     \n",
            "                                                                 \n",
            " conv2d_59 (Conv2D)          (None, 17, 17, 64)        36928     \n",
            "                                                                 \n",
            " max_pooling2d_38 (MaxPoolin  (None, 8, 8, 64)         0         \n",
            " g2D)                                                            \n",
            "                                                                 \n",
            " flatten_12 (Flatten)        (None, 4096)              0         \n",
            "                                                                 \n",
            " dense_36 (Dense)            (None, 256)               1048832   \n",
            "                                                                 \n",
            " dropout_24 (Dropout)        (None, 256)               0         \n",
            "                                                                 \n",
            " dense_37 (Dense)            (None, 128)               32896     \n",
            "                                                                 \n",
            " dropout_25 (Dropout)        (None, 128)               0         \n",
            "                                                                 \n",
            " dense_38 (Dense)            (None, 2)                 258       \n",
            "                                                                 \n",
            "=================================================================\n",
            "Total params: 1,153,826\n",
            "Trainable params: 1,153,826\n",
            "Non-trainable params: 0\n",
            "_________________________________________________________________\n"
          ]
        }
      ]
    },
    {
      "cell_type": "code",
      "source": [
        "# Building the Convolutonal Nueral Network Version 2 Model 5.2\n",
        "\n",
        "# Setting up the output with the right size\n",
        "input = Input(shape=(96,96,3))\n",
        "\n",
        "# Relu activation functions only, with softmax activation function for the last Dense layer\n",
        "x = Conv2D(16, (2,2), activation='relu', padding='valid')(input)\n",
        "x = Conv2D(16, (3,3), activation='relu', padding='valid')(x)\n",
        "x = MaxPool2D(pool_size=(2,2), strides=(2,2))(x)\n",
        "x = Conv2D(32, (3,3), activation='relu', padding='valid')(x)\n",
        "x = Conv2D(32, (3,3), activation='relu', padding='valid')(x)\n",
        "x = MaxPool2D(pool_size=(2,2), strides=(2,2))(x)\n",
        "x = Conv2D(64, (3,3), activation='relu', padding='valid')(x)\n",
        "x = Conv2D(64, (3,3), activation='relu', padding='valid')(x)\n",
        "x = MaxPool2D(pool_size=(2,2), strides=(2,2))(x)\n",
        "\n",
        "x = Flatten()(x)\n",
        "x = Dense(256, activation='relu')(x)\n",
        "x = Dropout(rate=0.8)(x)\n",
        "x = Dense(128, activation='relu')(x)\n",
        "x = Dropout(rate=0.8)(x)\n",
        "output = Dense(2, activation='softmax')(x)\n",
        "\n",
        "# Optimizer = sgd\n",
        "# Loss function = hinge\n",
        "model_5_2_version_2 = Model(inputs=input, outputs = output)\n",
        "model_5_2_version_2.compile(optimizer='sgd', \n",
        "              loss=tf.keras.losses.Hinge(),\n",
        "              metrics=['acc'])\n",
        "\n",
        "model_5_2_version_2.summary()\n",
        "#plot_model(model_5_2_version_2)"
      ],
      "metadata": {
        "colab": {
          "base_uri": "https://localhost:8080/"
        },
        "id": "FDApJskkpfyK",
        "outputId": "55376721-5630-4279-b878-78b7d6df7d1e"
      },
      "execution_count": 49,
      "outputs": [
        {
          "output_type": "stream",
          "name": "stdout",
          "text": [
            "Model: \"model_13\"\n",
            "_________________________________________________________________\n",
            " Layer (type)                Output Shape              Param #   \n",
            "=================================================================\n",
            " input_14 (InputLayer)       [(None, 96, 96, 3)]       0         \n",
            "                                                                 \n",
            " conv2d_60 (Conv2D)          (None, 95, 95, 16)        208       \n",
            "                                                                 \n",
            " conv2d_61 (Conv2D)          (None, 93, 93, 16)        2320      \n",
            "                                                                 \n",
            " max_pooling2d_39 (MaxPoolin  (None, 46, 46, 16)       0         \n",
            " g2D)                                                            \n",
            "                                                                 \n",
            " conv2d_62 (Conv2D)          (None, 44, 44, 32)        4640      \n",
            "                                                                 \n",
            " conv2d_63 (Conv2D)          (None, 42, 42, 32)        9248      \n",
            "                                                                 \n",
            " max_pooling2d_40 (MaxPoolin  (None, 21, 21, 32)       0         \n",
            " g2D)                                                            \n",
            "                                                                 \n",
            " conv2d_64 (Conv2D)          (None, 19, 19, 64)        18496     \n",
            "                                                                 \n",
            " conv2d_65 (Conv2D)          (None, 17, 17, 64)        36928     \n",
            "                                                                 \n",
            " max_pooling2d_41 (MaxPoolin  (None, 8, 8, 64)         0         \n",
            " g2D)                                                            \n",
            "                                                                 \n",
            " flatten_13 (Flatten)        (None, 4096)              0         \n",
            "                                                                 \n",
            " dense_39 (Dense)            (None, 256)               1048832   \n",
            "                                                                 \n",
            " dropout_26 (Dropout)        (None, 256)               0         \n",
            "                                                                 \n",
            " dense_40 (Dense)            (None, 128)               32896     \n",
            "                                                                 \n",
            " dropout_27 (Dropout)        (None, 128)               0         \n",
            "                                                                 \n",
            " dense_41 (Dense)            (None, 2)                 258       \n",
            "                                                                 \n",
            "=================================================================\n",
            "Total params: 1,153,826\n",
            "Trainable params: 1,153,826\n",
            "Non-trainable params: 0\n",
            "_________________________________________________________________\n"
          ]
        }
      ]
    },
    {
      "cell_type": "code",
      "source": [
        "# Building the Convolutonal Nueral Network Version 2 Model 5.3\n",
        "\n",
        "# Setting up the output with the right size\n",
        "input = Input(shape=(96,96,3))\n",
        "\n",
        "# Relu activation functions only, with softmax activation function for the last Dense layer\n",
        "x = Conv2D(16, (2,2), activation='relu', padding='valid')(input)\n",
        "x = Conv2D(16, (3,3), activation='relu', padding='valid')(x)\n",
        "x = MaxPool2D(pool_size=(2,2), strides=(2,2))(x)\n",
        "x = Conv2D(32, (3,3), activation='relu', padding='valid')(x)\n",
        "x = Conv2D(32, (3,3), activation='relu', padding='valid')(x)\n",
        "x = MaxPool2D(pool_size=(2,2), strides=(2,2))(x)\n",
        "x = Conv2D(64, (3,3), activation='relu', padding='valid')(x)\n",
        "x = Conv2D(64, (3,3), activation='relu', padding='valid')(x)\n",
        "x = MaxPool2D(pool_size=(2,2), strides=(2,2))(x)\n",
        "\n",
        "x = Flatten()(x)\n",
        "x = Dense(256, activation='relu')(x)\n",
        "x = Dropout(rate=0.8)(x)\n",
        "x = Dense(128, activation='relu')(x)\n",
        "x = Dropout(rate=0.8)(x)\n",
        "output = Dense(2, activation='softmax')(x)\n",
        "\n",
        "# Optimizer = adagrad\n",
        "# Loss function =   MSE\n",
        "model_5_3_version_2 = Model(inputs=input, outputs = output)\n",
        "model_5_3_version_2.compile(optimizer='adagrad', \n",
        "              loss='MSE',\n",
        "              metrics=['acc'])\n",
        "\n",
        "model_5_3_version_2.summary()\n",
        "#plot_model(model_5_3_version_2)"
      ],
      "metadata": {
        "colab": {
          "base_uri": "https://localhost:8080/"
        },
        "id": "huM6CoQqpf0x",
        "outputId": "d901833b-22af-4bff-c594-d90932c731ea"
      },
      "execution_count": 50,
      "outputs": [
        {
          "output_type": "stream",
          "name": "stdout",
          "text": [
            "Model: \"model_14\"\n",
            "_________________________________________________________________\n",
            " Layer (type)                Output Shape              Param #   \n",
            "=================================================================\n",
            " input_15 (InputLayer)       [(None, 96, 96, 3)]       0         \n",
            "                                                                 \n",
            " conv2d_66 (Conv2D)          (None, 95, 95, 16)        208       \n",
            "                                                                 \n",
            " conv2d_67 (Conv2D)          (None, 93, 93, 16)        2320      \n",
            "                                                                 \n",
            " max_pooling2d_42 (MaxPoolin  (None, 46, 46, 16)       0         \n",
            " g2D)                                                            \n",
            "                                                                 \n",
            " conv2d_68 (Conv2D)          (None, 44, 44, 32)        4640      \n",
            "                                                                 \n",
            " conv2d_69 (Conv2D)          (None, 42, 42, 32)        9248      \n",
            "                                                                 \n",
            " max_pooling2d_43 (MaxPoolin  (None, 21, 21, 32)       0         \n",
            " g2D)                                                            \n",
            "                                                                 \n",
            " conv2d_70 (Conv2D)          (None, 19, 19, 64)        18496     \n",
            "                                                                 \n",
            " conv2d_71 (Conv2D)          (None, 17, 17, 64)        36928     \n",
            "                                                                 \n",
            " max_pooling2d_44 (MaxPoolin  (None, 8, 8, 64)         0         \n",
            " g2D)                                                            \n",
            "                                                                 \n",
            " flatten_14 (Flatten)        (None, 4096)              0         \n",
            "                                                                 \n",
            " dense_42 (Dense)            (None, 256)               1048832   \n",
            "                                                                 \n",
            " dropout_28 (Dropout)        (None, 256)               0         \n",
            "                                                                 \n",
            " dense_43 (Dense)            (None, 128)               32896     \n",
            "                                                                 \n",
            " dropout_29 (Dropout)        (None, 128)               0         \n",
            "                                                                 \n",
            " dense_44 (Dense)            (None, 2)                 258       \n",
            "                                                                 \n",
            "=================================================================\n",
            "Total params: 1,153,826\n",
            "Trainable params: 1,153,826\n",
            "Non-trainable params: 0\n",
            "_________________________________________________________________\n"
          ]
        }
      ]
    },
    {
      "cell_type": "code",
      "source": [
        "# Training the model 5.1 Version 2\n",
        "history_5_1_version_2= model_5_1_version_2.fit(train_ds, validation_data=validation_ds, epochs = 10, verbose = 1, steps_per_epoch=steps_per_epoch, validation_steps=validation_steps)\n",
        "plot_hist(history_5_1_version_2)"
      ],
      "metadata": {
        "colab": {
          "base_uri": "https://localhost:8080/",
          "height": 662
        },
        "id": "T5UXeikYfYLo",
        "outputId": "0b77bfb1-a1fb-4aa2-b05b-a1b934ff0398"
      },
      "execution_count": 51,
      "outputs": [
        {
          "output_type": "stream",
          "name": "stdout",
          "text": [
            "Epoch 1/10\n",
            "4096/4096 [==============================] - 108s 26ms/step - loss: 0.4202 - acc: 0.8158 - val_loss: 0.3859 - val_acc: 0.8286\n",
            "Epoch 2/10\n",
            "4096/4096 [==============================] - 107s 26ms/step - loss: 0.3060 - acc: 0.8795 - val_loss: 0.3622 - val_acc: 0.8513\n",
            "Epoch 3/10\n",
            "4096/4096 [==============================] - 110s 27ms/step - loss: 0.2666 - acc: 0.8972 - val_loss: 0.3501 - val_acc: 0.8581\n",
            "Epoch 4/10\n",
            "4096/4096 [==============================] - 134s 33ms/step - loss: 0.2479 - acc: 0.9059 - val_loss: 0.4231 - val_acc: 0.8414\n",
            "Epoch 5/10\n",
            "4096/4096 [==============================] - 111s 27ms/step - loss: 0.2324 - acc: 0.9130 - val_loss: 0.3842 - val_acc: 0.8484\n",
            "Epoch 6/10\n",
            "4096/4096 [==============================] - 130s 32ms/step - loss: 0.2209 - acc: 0.9175 - val_loss: 0.3424 - val_acc: 0.8627\n",
            "Epoch 7/10\n",
            "4096/4096 [==============================] - 111s 27ms/step - loss: 0.2156 - acc: 0.9204 - val_loss: 0.4135 - val_acc: 0.8414\n",
            "Epoch 8/10\n",
            "4096/4096 [==============================] - 126s 31ms/step - loss: 0.2077 - acc: 0.9233 - val_loss: 0.5302 - val_acc: 0.8216\n",
            "Epoch 9/10\n",
            "4096/4096 [==============================] - 108s 26ms/step - loss: 0.2037 - acc: 0.9254 - val_loss: 0.3627 - val_acc: 0.8572\n",
            "Epoch 10/10\n",
            "4096/4096 [==============================] - 130s 32ms/step - loss: 0.2000 - acc: 0.9270 - val_loss: 0.3740 - val_acc: 0.8600\n"
          ]
        },
        {
          "output_type": "display_data",
          "data": {
            "text/plain": [
              "<Figure size 432x288 with 1 Axes>"
            ],
            "image/png": "[encoded data removed]"
          },
          "metadata": {
            "needs_background": "light"
          }
        }
      ]
    },
    {
      "cell_type": "code",
      "source": [
        "# Training the model 5.2 Version 2\n",
        "history_5_2_version_2= model_5_2_version_2.fit(train_ds, validation_data=validation_ds, epochs = 10, verbose = 1, steps_per_epoch=steps_per_epoch, validation_steps=validation_steps)\n",
        "plot_hist(history_5_2_version_2)"
      ],
      "metadata": {
        "colab": {
          "base_uri": "https://localhost:8080/",
          "height": 662
        },
        "id": "6LtPXNVHGvXl",
        "outputId": "df0a721d-d3d0-4bd8-fc05-ae0020f7a2e5"
      },
      "execution_count": 52,
      "outputs": [
        {
          "output_type": "stream",
          "name": "stdout",
          "text": [
            "Epoch 1/10\n",
            "4096/4096 [==============================] - 111s 27ms/step - loss: 0.8537 - acc: 0.6514 - val_loss: 0.7579 - val_acc: 0.7422\n",
            "Epoch 2/10\n",
            "4096/4096 [==============================] - 109s 27ms/step - loss: 0.7461 - acc: 0.7552 - val_loss: 0.7279 - val_acc: 0.7720\n",
            "Epoch 3/10\n",
            "4096/4096 [==============================] - 107s 26ms/step - loss: 0.7279 - acc: 0.7731 - val_loss: 0.7522 - val_acc: 0.7478\n",
            "Epoch 4/10\n",
            "4096/4096 [==============================] - 124s 30ms/step - loss: 0.7080 - acc: 0.7928 - val_loss: 0.7097 - val_acc: 0.7899\n",
            "Epoch 5/10\n",
            "4096/4096 [==============================] - 123s 30ms/step - loss: 0.6951 - acc: 0.8059 - val_loss: 0.7155 - val_acc: 0.7844\n",
            "Epoch 6/10\n",
            "4096/4096 [==============================] - 109s 27ms/step - loss: 0.6951 - acc: 0.8055 - val_loss: 0.7162 - val_acc: 0.7841\n",
            "Epoch 7/10\n",
            "4096/4096 [==============================] - 109s 27ms/step - loss: 0.6925 - acc: 0.8080 - val_loss: 0.7291 - val_acc: 0.7713\n",
            "Epoch 8/10\n",
            "4096/4096 [==============================] - 107s 26ms/step - loss: 0.6949 - acc: 0.8055 - val_loss: 0.7011 - val_acc: 0.7990\n",
            "Epoch 9/10\n",
            "4096/4096 [==============================] - 107s 26ms/step - loss: 0.6936 - acc: 0.8067 - val_loss: 0.6978 - val_acc: 0.8025\n",
            "Epoch 10/10\n",
            "4096/4096 [==============================] - 106s 26ms/step - loss: 0.6864 - acc: 0.8138 - val_loss: 0.6964 - val_acc: 0.8037\n"
          ]
        },
        {
          "output_type": "display_data",
          "data": {
            "text/plain": [
              "<Figure size 432x288 with 1 Axes>"
            ],
            "image/png": "[encoded data removed]"
          },
          "metadata": {
            "needs_background": "light"
          }
        }
      ]
    },
    {
      "cell_type": "code",
      "source": [
        "# Training the model 5.3 Version 2\n",
        "history_5_3_version_2= model_5_3_version_2.fit(train_ds, validation_data=validation_ds, epochs = 10, verbose = 1, steps_per_epoch=steps_per_epoch, validation_steps=validation_steps)\n",
        "plot_hist(history_5_3_version_2)"
      ],
      "metadata": {
        "colab": {
          "base_uri": "https://localhost:8080/",
          "height": 662
        },
        "id": "Dwi_sY8MGvnE",
        "outputId": "7aaa400c-7670-41f7-8497-27d6b2cd69b9"
      },
      "execution_count": 53,
      "outputs": [
        {
          "output_type": "stream",
          "name": "stdout",
          "text": [
            "Epoch 1/10\n",
            "4096/4096 [==============================] - 110s 27ms/step - loss: 0.2459 - acc: 0.5543 - val_loss: 0.2229 - val_acc: 0.7220\n",
            "Epoch 2/10\n",
            "4096/4096 [==============================] - 108s 26ms/step - loss: 0.2027 - acc: 0.6990 - val_loss: 0.1755 - val_acc: 0.7403\n",
            "Epoch 3/10\n",
            "4096/4096 [==============================] - 108s 26ms/step - loss: 0.1782 - acc: 0.7501 - val_loss: 0.1660 - val_acc: 0.7515\n",
            "Epoch 4/10\n",
            "4096/4096 [==============================] - 124s 30ms/step - loss: 0.1699 - acc: 0.7640 - val_loss: 0.1660 - val_acc: 0.7505\n",
            "Epoch 5/10\n",
            "4096/4096 [==============================] - 122s 30ms/step - loss: 0.1662 - acc: 0.7704 - val_loss: 0.1619 - val_acc: 0.7545\n",
            "Epoch 6/10\n",
            "4096/4096 [==============================] - 108s 26ms/step - loss: 0.1632 - acc: 0.7751 - val_loss: 0.1607 - val_acc: 0.7556\n",
            "Epoch 7/10\n",
            "4096/4096 [==============================] - 107s 26ms/step - loss: 0.1609 - acc: 0.7779 - val_loss: 0.1611 - val_acc: 0.7556\n",
            "Epoch 8/10\n",
            "4096/4096 [==============================] - 108s 26ms/step - loss: 0.1590 - acc: 0.7813 - val_loss: 0.1559 - val_acc: 0.7638\n",
            "Epoch 9/10\n",
            "4096/4096 [==============================] - 108s 26ms/step - loss: 0.1573 - acc: 0.7842 - val_loss: 0.1564 - val_acc: 0.7623\n",
            "Epoch 10/10\n",
            "4096/4096 [==============================] - 107s 26ms/step - loss: 0.1556 - acc: 0.7869 - val_loss: 0.1554 - val_acc: 0.7665\n"
          ]
        },
        {
          "output_type": "display_data",
          "data": {
            "text/plain": [
              "<Figure size 432x288 with 1 Axes>"
            ],
            "image/png": "[encoded data removed]"
          },
          "metadata": {
            "needs_background": "light"
          }
        }
      ]
    },
    {
      "cell_type": "code",
      "source": [
        "# Saving the models\n",
        "\n",
        "import joblib\n",
        "\n",
        "joblib.dump(model_5_1_version_2, 'model_5_1_version_2')\n",
        "joblib.dump(model_5_2_version_2, 'model_5_2_version_2')\n",
        "joblib.dump(model_5_3_version_2, 'model_5_3_version_2')"
      ],
      "metadata": {
        "colab": {
          "base_uri": "https://localhost:8080/"
        },
        "id": "CmSZsv4fHL81",
        "outputId": "378e4a85-4f6a-41b4-e69d-9eef1c062a6d"
      },
      "execution_count": 54,
      "outputs": [
        {
          "output_type": "stream",
          "name": "stdout",
          "text": [
            "INFO:tensorflow:Assets written to: ram://2d60ddb3-51dd-45d4-9a17-67cfe97465a3/assets\n"
          ]
        },
        {
          "output_type": "stream",
          "name": "stderr",
          "text": [
            "INFO:tensorflow:Assets written to: ram://2d60ddb3-51dd-45d4-9a17-67cfe97465a3/assets\n"
          ]
        },
        {
          "output_type": "stream",
          "name": "stdout",
          "text": [
            "INFO:tensorflow:Assets written to: ram://25282005-a0d7-4623-aec0-3930213388ae/assets\n"
          ]
        },
        {
          "output_type": "stream",
          "name": "stderr",
          "text": [
            "INFO:tensorflow:Assets written to: ram://25282005-a0d7-4623-aec0-3930213388ae/assets\n"
          ]
        },
        {
          "output_type": "stream",
          "name": "stdout",
          "text": [
            "INFO:tensorflow:Assets written to: ram://1301cf89-264b-4252-b808-3425014995a9/assets\n"
          ]
        },
        {
          "output_type": "stream",
          "name": "stderr",
          "text": [
            "INFO:tensorflow:Assets written to: ram://1301cf89-264b-4252-b808-3425014995a9/assets\n"
          ]
        },
        {
          "output_type": "execute_result",
          "data": {
            "text/plain": [
              "['model_5_3_version_2']"
            ]
          },
          "metadata": {},
          "execution_count": 54
        }
      ]
    },
    {
      "cell_type": "code",
      "source": [
        "# Loading the models\n",
        "\n",
        "model_5_1_version_2_object = joblib.load('model_5_1_version_2')\n",
        "model_5_2_version_2_object = joblib.load('model_5_2_version_2')\n",
        "model_5_3_version_2_object = joblib.load('model_5_3_version_2')"
      ],
      "metadata": {
        "id": "j_Dwq_yUHNe5"
      },
      "execution_count": 55,
      "outputs": []
    },
    {
      "cell_type": "code",
      "source": [
        "# Evaluating the models\n",
        "\n",
        "print(\"Test dataset accuracy for model 5.1 version 2 is: {0:.4f}\".format(model_5_1_version_2_object.evaluate(test_ds, steps=steps, verbose=1)[1]))\n",
        "print(\"Test dataset accuracy for model 5.2 version 2 is: {0:.4f}\".format(model_5_2_version_2_object.evaluate(test_ds, steps=steps, verbose=1)[1]))\n",
        "print(\"Test dataset accuracy for model 5.3 version 2 is: {0:.4f}\".format(model_5_3_version_2_object.evaluate(test_ds, steps=steps, verbose=1)[1]))"
      ],
      "metadata": {
        "colab": {
          "base_uri": "https://localhost:8080/"
        },
        "id": "-Y1hLYHMHNk9",
        "outputId": "63cfac15-4013-4c5d-b3c6-0f1c3becd0d7"
      },
      "execution_count": 56,
      "outputs": [
        {
          "output_type": "stream",
          "name": "stdout",
          "text": [
            "256/256 [==============================] - 8s 31ms/step - loss: 0.4911 - acc: 0.8289\n",
            "Test dataset accuracy for model 5.1 version 2 is: 0.8289\n",
            "256/256 [==============================] - 9s 35ms/step - loss: 0.6848 - acc: 0.8152\n",
            "Test dataset accuracy for model 5.2 version 2 is: 0.8152\n",
            "256/256 [==============================] - 10s 36ms/step - loss: 0.1727 - acc: 0.7540\n",
            "Test dataset accuracy for model 5.3 version 2 is: 0.7540\n"
          ]
        }
      ]
    }
  ]
}