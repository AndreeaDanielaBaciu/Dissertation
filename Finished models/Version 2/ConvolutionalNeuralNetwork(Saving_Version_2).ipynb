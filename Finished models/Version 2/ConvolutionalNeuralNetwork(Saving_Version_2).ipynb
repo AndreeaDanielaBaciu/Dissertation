{
  "cells": [
    {
      "cell_type": "code",
      "execution_count": 1,
      "metadata": {
        "id": "c9IaRB8XqVBd"
      },
      "outputs": [],
      "source": [
        "# Import libraries\n",
        "\n",
        "import tensorflow as tf\n",
        "import numpy as np\n",
        "from tensorflow.keras.layers import Input, Dense, Conv2D, MaxPool2D, Flatten, Dropout\n",
        "from tensorflow.keras.models import Model\n",
        "from tensorflow.keras.optimizers import SGD\n",
        "from tensorflow.keras.utils import to_categorical\n",
        "from tensorflow.keras.callbacks import ModelCheckpoint\n",
        "from sklearn import metrics\n",
        "from sklearn.metrics import confusion_matrix, ConfusionMatrixDisplay\n",
        "\n",
        "\n",
        "\n",
        "import tensorflow_datasets as tfds"
      ]
    },
    {
      "cell_type": "code",
      "execution_count": 2,
      "metadata": {
        "colab": {
          "base_uri": "https://localhost:8080/",
          "height": 452,
          "referenced_widgets": [
            "fd07d4c50e51487bb775788259bbecc4",
            "07086b677f8e46ecb6700710f0a85edf",
            "ac5325608c194c8ca0968a1301fec9e6",
            "b2aeb367806043b1890d7676c5555cc0",
            "9aaf1f1863154729ba43519cd082046c",
            "515b5729962d402abcb8a3473838daf1",
            "73b97ca7d7f947309ca6da49b08d1c77",
            "8d0f36b902014dafb8a169c64e35cf3f",
            "2b8ed2b601fd49eb9a3f574f0a8c238c",
            "4853780752e64b6dafb57a089af7d155",
            "409044f5bf994930b07629781793ccb7",
            "b5c4bb76c1b94bde9c69f5080635daab",
            "f7a0eed362e840a5af550e0c1bcc1ef0",
            "6ebe787c7b7743628c567228f0a5a052",
            "b3a5d8b14df24bb4b55bb1d9edd29032",
            "5ea1d1f898fa4a85865633f29c6da875",
            "fa40d3b063764b88968399ec48865e04",
            "705954764912478aa1f4db09bde4cfec",
            "87e89cf687c94cb996bbd9dde8ef89fd",
            "6ecdcc05fca54c08a77c92c7ce5242f8",
            "6c8fa47b63494dea99be67acc1c6d443",
            "9b724a957c704cffadeed642f1389e76",
            "0969aeb0e04b4ac2a65b000d7c7bd774",
            "21df3f13a2ba429580a96cc6d46919f8",
            "70cfb4b8d0e543eebf0401c5e05b00dd",
            "984f02986c90408fb89cfff97ea09f5c",
            "39859f0538434442958d771eba6d00bb",
            "f6d743bd74f94d528eddc6ac8ba74e5d",
            "aa0369da68444864bb6b794ff52fe80d",
            "3bca585886284c609f7dfedda7dbeaeb",
            "f25b2b8403ed47b7a059678744a0c673",
            "c8f3123167a4435d8873824a2a53124e",
            "48e0a8c7f644431fbe1840268be3319a",
            "77cf2ef021fc4125b63133475f1cf1d6",
            "9f5add146bb043079748299a4fe61bea",
            "bb66b2a010d94830942df39de7a7b915",
            "4248d05caf944ff29ac575221f4a74f8",
            "6aded1cf751b45aabdc8a75d8db87265",
            "6d39f984452741dea7e80c485107a667",
            "054dd02548dd4b5c97f49e78c4d3c0c8",
            "59a7e24dbfe04306b716eb403e9bb7e2",
            "2f9d9e5d8bf74725b32e88726c0d9f16",
            "9ee58f3dc6f1407d9a993c8ac6773677",
            "4b26e25aceb847258aeae68349dd94b8",
            "3746c2950f58466aa4a4ae775c61a3c2",
            "cd65720434e54852a033a0af4357b6c5",
            "ae40ae50736447159569090c5dd447f5",
            "a0740bfe424241b88f4baf31061bd6cf",
            "ad8efcb4fd534f29a0df8a94f3bfb71a",
            "5ceab3f1107f4bf795db54717bfc7646",
            "ffdab5643bea4478838f7be025d5485e",
            "ad43180a88ac492d86b41a79bfc56dc1",
            "72d07b9c34bd49a9a5612954d6baa77c",
            "3ca1641617c94349b2bbf0c253560bd0",
            "c0b14486834849dfa9a9074f41bce122",
            "186783cc1b1e4d68aa7ccc103a91ad89",
            "4c91b9ed74a74d208d3225155b8ccc1d",
            "4d4ae965e19d40c5b1b4405b4dd3da05",
            "3c8ad45efece4a0bb6d5bea224702f36",
            "4c09cfe1908841e7a2019d40ec42affe",
            "dc6b493c625e4b0aacab28c982a752ef",
            "ec8f4272294a469fb9863036384b3b40",
            "55288378b2334933ad5dffafaa08c27c",
            "38169e9e671447fba80e72dc3f691ea4",
            "a7e4cfd3ba66441389fccd02ae679da6",
            "da036ddb1f794f38bb6bd3981de5effe",
            "2ae9ea25471149a99c62c74dd5ac3b3e",
            "e868868b26d34ba4b9641b4c8b30f16e",
            "b468ad0f3b7a4514971d6e7ceb43ad7f",
            "909b8c1fa10d46179974b7d646063351",
            "8bd97919890c46d3839facdd5c394faa",
            "db82b44c06bf4b82be4284c058bfa3fb",
            "f1795aa769a44142a455fd3ada02f1b5",
            "bcebcd5447584e1898f6916d143388e3",
            "cf9cbba66cb849a3b446858218ffbe7c",
            "7e083683c40b4ab4bd47d4341be4afed",
            "93b7a4532eaa44f0af75a8e84b1acdfb",
            "bf7a67ae3edb41d19dba9f0a9f04e7be",
            "b99c03fb72ea440a981dce882a339590",
            "5601295861934b019b494500ccf468e5",
            "b6809c7637e948238686a2b3da61b0b2",
            "e29f1a7529594d249de6e88d7481fc4c",
            "3ea3922946a0432099df01b9fcdfe49e",
            "1ab57d9a03ee449ea3c1de8b8e2f08b6",
            "3552aca11bc3407d9416e3efdbebb622",
            "c385aafd8df04d30bb51874c572d594c",
            "61f073dfbfbb4dc887636adf67c8508b",
            "753ccbf204aa4f43bea7dcf90c032770",
            "c700656635db4da0a8824aee8a01473f",
            "fbc91b86e6874ef4ab1a67551475d4e3",
            "57ec808ea2554e7ba200c7ac92362ce6",
            "a892433c2c424e068a72fca0a29dc101",
            "993eb3963596426089f496b0dd5add39",
            "6818a8f7d5964172a916aa8a5fe20ce5",
            "ac2a95aebe70401aa1858bf490ac1396",
            "df2b8fa7102b4c8f917614a34bf0560b",
            "5c0d9253d1514a0c955de5f4b6a6e957",
            "66396be346b24095a14021b6e882324d",
            "010e2bae801e4d98b886a86cd4a3f2a0"
          ]
        },
        "id": "ViW45fTnqXlF",
        "outputId": "5a14b637-8db9-4748-b4e8-47289de3db89"
      },
      "outputs": [
        {
          "name": "stdout",
          "output_type": "stream",
          "text": [
            "\u001b[1mDownloading and preparing dataset patch_camelyon/2.0.0 (download: 7.48 GiB, generated: Unknown size, total: 7.48 GiB) to /root/tensorflow_datasets/patch_camelyon/2.0.0...\u001b[0m\n"
          ]
        },
        {
          "data": {
            "application/vnd.jupyter.widget-view+json": {
              "model_id": "fd07d4c50e51487bb775788259bbecc4",
              "version_major": 2,
              "version_minor": 0
            },
            "text/plain": [
              "Dl Completed...: 0 url [00:00, ? url/s]"
            ]
          },
          "metadata": {},
          "output_type": "display_data"
        },
        {
          "data": {
            "application/vnd.jupyter.widget-view+json": {
              "model_id": "b5c4bb76c1b94bde9c69f5080635daab",
              "version_major": 2,
              "version_minor": 0
            },
            "text/plain": [
              "Dl Size...: 0 MiB [00:00, ? MiB/s]"
            ]
          },
          "metadata": {},
          "output_type": "display_data"
        },
        {
          "data": {
            "application/vnd.jupyter.widget-view+json": {
              "model_id": "0969aeb0e04b4ac2a65b000d7c7bd774",
              "version_major": 2,
              "version_minor": 0
            },
            "text/plain": [
              "Extraction completed...: 0 file [00:00, ? file/s]"
            ]
          },
          "metadata": {},
          "output_type": "display_data"
        },
        {
          "name": "stdout",
          "output_type": "stream",
          "text": [
            "\n",
            "\n",
            "\n"
          ]
        },
        {
          "data": {
            "application/vnd.jupyter.widget-view+json": {
              "model_id": "77cf2ef021fc4125b63133475f1cf1d6",
              "version_major": 2,
              "version_minor": 0
            },
            "text/plain": [
              "0 examples [00:00, ? examples/s]"
            ]
          },
          "metadata": {},
          "output_type": "display_data"
        },
        {
          "name": "stdout",
          "output_type": "stream",
          "text": [
            "Shuffling and writing examples to /root/tensorflow_datasets/patch_camelyon/2.0.0.incompleteEEHBDX/patch_camelyon-test.tfrecord\n"
          ]
        },
        {
          "data": {
            "application/vnd.jupyter.widget-view+json": {
              "model_id": "3746c2950f58466aa4a4ae775c61a3c2",
              "version_major": 2,
              "version_minor": 0
            },
            "text/plain": [
              "  0%|          | 0/32768 [00:00<?, ? examples/s]"
            ]
          },
          "metadata": {},
          "output_type": "display_data"
        },
        {
          "data": {
            "application/vnd.jupyter.widget-view+json": {
              "model_id": "186783cc1b1e4d68aa7ccc103a91ad89",
              "version_major": 2,
              "version_minor": 0
            },
            "text/plain": [
              "0 examples [00:00, ? examples/s]"
            ]
          },
          "metadata": {},
          "output_type": "display_data"
        },
        {
          "name": "stdout",
          "output_type": "stream",
          "text": [
            "Shuffling and writing examples to /root/tensorflow_datasets/patch_camelyon/2.0.0.incompleteEEHBDX/patch_camelyon-train.tfrecord\n"
          ]
        },
        {
          "data": {
            "application/vnd.jupyter.widget-view+json": {
              "model_id": "2ae9ea25471149a99c62c74dd5ac3b3e",
              "version_major": 2,
              "version_minor": 0
            },
            "text/plain": [
              "  0%|          | 0/262144 [00:00<?, ? examples/s]"
            ]
          },
          "metadata": {},
          "output_type": "display_data"
        },
        {
          "data": {
            "application/vnd.jupyter.widget-view+json": {
              "model_id": "bf7a67ae3edb41d19dba9f0a9f04e7be",
              "version_major": 2,
              "version_minor": 0
            },
            "text/plain": [
              "0 examples [00:00, ? examples/s]"
            ]
          },
          "metadata": {},
          "output_type": "display_data"
        },
        {
          "name": "stdout",
          "output_type": "stream",
          "text": [
            "Shuffling and writing examples to /root/tensorflow_datasets/patch_camelyon/2.0.0.incompleteEEHBDX/patch_camelyon-validation.tfrecord\n"
          ]
        },
        {
          "data": {
            "application/vnd.jupyter.widget-view+json": {
              "model_id": "c700656635db4da0a8824aee8a01473f",
              "version_major": 2,
              "version_minor": 0
            },
            "text/plain": [
              "  0%|          | 0/32768 [00:00<?, ? examples/s]"
            ]
          },
          "metadata": {},
          "output_type": "display_data"
        },
        {
          "name": "stdout",
          "output_type": "stream",
          "text": [
            "\u001b[1mDataset patch_camelyon downloaded and prepared to /root/tensorflow_datasets/patch_camelyon/2.0.0. Subsequent calls will reuse this data.\u001b[0m\n"
          ]
        }
      ],
      "source": [
        "# Load the data\n",
        "\n",
        "p_camelyon, p_camelyon_info = tfds.load(\"patch_camelyon\", with_info=True)"
      ]
    },
    {
      "cell_type": "code",
      "execution_count": 3,
      "metadata": {
        "id": "CZkbwSnOqaob"
      },
      "outputs": [],
      "source": [
        "# Defining a \"normalize\" function to process the data before feeding it into the deep neural network. \n",
        "\n",
        "def normalize(x):\n",
        "  image, label = x['image'], x['label']\n",
        "  image = tf.image.convert_image_dtype(image, tf.float32)\n",
        "  label = tf.one_hot(label, 2, dtype=tf.float32)\n",
        "  return image, label"
      ]
    },
    {
      "cell_type": "code",
      "execution_count": 68,
      "metadata": {
        "id": "BmHZkpfRqcri"
      },
      "outputs": [],
      "source": [
        "# Applying \"normalize\" function along with others to the data\n",
        "\n",
        "# Processing the training dataset\n",
        "train_ds = p_camelyon['train'].map(normalize, num_parallel_calls=8)\n",
        "train_ds = train_ds.shuffle(1024)\n",
        "train_ds = train_ds.repeat()\n",
        "train_ds = train_ds.batch(64)\n",
        "train_ds = train_ds.prefetch(2)\n",
        "\n",
        "# Processing validation dataset\n",
        "validation_ds = p_camelyon['validation'].map(normalize, num_parallel_calls=8)\n",
        "validation_ds = validation_ds.repeat()\n",
        "validation_ds = validation_ds.batch(128)\n",
        "validation_ds = validation_ds.prefetch(2)\n",
        "\n",
        "#Processing the test dataset\n",
        "test_ds = p_camelyon['test'].map(normalize, num_parallel_calls=8)\n",
        "test_ds = test_ds.batch(128)\n",
        "test_ds = test_ds.prefetch(2)\n",
        "\n",
        "#Seperating image and label into different variables\n",
        "train_images, train_labels = next(iter(train_ds))\n",
        "valid_images, valid_labels = next(iter(validation_ds))\n",
        "test_images, test_labels  = next(iter(test_ds))\n"
      ]
    },
    {
      "cell_type": "code",
      "execution_count": 69,
      "metadata": {
        "colab": {
          "base_uri": "https://localhost:8080/"
        },
        "id": "RnqJru3lqks4",
        "outputId": "bd2c1011-387d-4aa8-da4f-d5103f4843b7"
      },
      "outputs": [
        {
          "name": "stdout",
          "output_type": "stream",
          "text": [
            "Training steps:  4096\n",
            "Validation steps:  256\n",
            "Testing steps:  256\n"
          ]
        }
      ],
      "source": [
        "import math\n",
        "\n",
        "batch_size_for_training = 64\n",
        "batch_size_for_validation = 128\n",
        "batch_size_for_test = 128\n",
        "\n",
        "training_size = 262144\n",
        "validation_size = 32768\n",
        "test_size =  32768\n",
        "        \n",
        "\n",
        "# Calculate steps for training and testing the model\n",
        "calculate_steps_training = lambda x: int(math.ceil(1. * x / batch_size_for_training))\n",
        "calculate_steps_validation = lambda x: int(math.ceil(1. * x / batch_size_for_validation))\n",
        "calculate_steps_test= lambda x: int(math.ceil(1. * x / batch_size_for_test))\n",
        "\n",
        "steps_per_epoch = calculate_steps_training(training_size) \n",
        "validation_steps = calculate_steps_validation(validation_size)\n",
        "steps = calculate_steps_test(test_size)\n",
        "\n",
        "print(\"Training steps: \", steps_per_epoch)\n",
        "print(\"Validation steps: \", validation_steps)\n",
        "print(\"Testing steps: \", steps)\n"
      ]
    },
    {
      "cell_type": "code",
      "execution_count": 8,
      "metadata": {
        "id": "293c_cxwt8BK"
      },
      "outputs": [],
      "source": [
        "import matplotlib.pyplot as plt\n",
        "\n",
        "def plot_hist(history):\n",
        "  plt.plot(history.history[\"acc\"])\n",
        "  plt.plot(history.history[\"val_acc\"])\n",
        "  plt.title(\"Model Accuracy\")\n",
        "  plt.ylabel(\"Accuracy\")\n",
        "  plt.xlabel(\"Epochs\")\n",
        "  plt.legend([\"train\", \"validation\"], loc=\"upper left\")\n",
        "  plt.show()"
      ]
    },
    {
      "cell_type": "markdown",
      "metadata": {
        "id": "WCfgqwqAADNy"
      },
      "source": [
        "Models"
      ]
    },
    {
      "cell_type": "markdown",
      "metadata": {
        "id": "FZXgk23cJKm8"
      },
      "source": [
        "Models 1, 2, 3"
      ]
    },
    {
      "cell_type": "code",
      "execution_count": 19,
      "metadata": {
        "colab": {
          "base_uri": "https://localhost:8080/"
        },
        "id": "Kpu2Y_O2ARsH",
        "outputId": "dc80b24b-a291-4478-a006-93c27491fe6b"
      },
      "outputs": [
        {
          "name": "stdout",
          "output_type": "stream",
          "text": [
            "Model: \"model_1\"\n",
            "_________________________________________________________________\n",
            " Layer (type)                Output Shape              Param #   \n",
            "=================================================================\n",
            " input_2 (InputLayer)        [(None, 96, 96, 3)]       0         \n",
            "                                                                 \n",
            " conv2d_3 (Conv2D)           (None, 94, 94, 16)        448       \n",
            "                                                                 \n",
            " conv2d_4 (Conv2D)           (None, 92, 92, 16)        2320      \n",
            "                                                                 \n",
            " max_pooling2d_3 (MaxPooling  (None, 46, 46, 16)       0         \n",
            " 2D)                                                             \n",
            "                                                                 \n",
            " conv2d_5 (Conv2D)           (None, 44, 44, 32)        4640      \n",
            "                                                                 \n",
            " conv2d_6 (Conv2D)           (None, 42, 42, 16)        4624      \n",
            "                                                                 \n",
            " max_pooling2d_4 (MaxPooling  (None, 21, 21, 16)       0         \n",
            " 2D)                                                             \n",
            "                                                                 \n",
            " conv2d_7 (Conv2D)           (None, 19, 19, 64)        9280      \n",
            "                                                                 \n",
            " conv2d_8 (Conv2D)           (None, 17, 17, 16)        9232      \n",
            "                                                                 \n",
            " max_pooling2d_5 (MaxPooling  (None, 8, 8, 16)         0         \n",
            " 2D)                                                             \n",
            "                                                                 \n",
            " flatten_1 (Flatten)         (None, 1024)              0         \n",
            "                                                                 \n",
            " dense_3 (Dense)             (None, 256)               262400    \n",
            "                                                                 \n",
            " dropout_2 (Dropout)         (None, 256)               0         \n",
            "                                                                 \n",
            " dense_4 (Dense)             (None, 128)               32896     \n",
            "                                                                 \n",
            " dropout_3 (Dropout)         (None, 128)               0         \n",
            "                                                                 \n",
            " dense_5 (Dense)             (None, 2)                 258       \n",
            "                                                                 \n",
            "=================================================================\n",
            "Total params: 326,098\n",
            "Trainable params: 326,098\n",
            "Non-trainable params: 0\n",
            "_________________________________________________________________\n"
          ]
        }
      ],
      "source": [
        "# Building the Convolutonal Neural Network Version 2 Model 1\n",
        "\n",
        "# Setting up the output with the right size\n",
        "input = Input(shape=(96,96,3))\n",
        "\n",
        "# Rely activation functions only, with softmax activation function for the last Dense layer\n",
        "x = Conv2D(16, (3,3), activation='relu', padding='valid')(input)\n",
        "x = Conv2D(16, (3,3), activation='relu', padding='valid')(x)\n",
        "x = MaxPool2D(pool_size=(2,2), strides=(2,2))(x)\n",
        "x = Conv2D(32, (3,3), activation='relu', padding='valid')(x)\n",
        "x = Conv2D(16, (3,3), activation='relu', padding='valid')(x)\n",
        "x = MaxPool2D(pool_size=(2,2), strides=(2,2))(x)\n",
        "x = Conv2D(64, (3,3), activation='relu', padding='valid')(x)\n",
        "x = Conv2D(16, (3,3), activation='relu', padding='valid')(x)\n",
        "x = MaxPool2D(pool_size=(2,2), strides=(2,2))(x)\n",
        "x = Flatten()(x)\n",
        "x = Dense(256, activation='relu')(x)\n",
        "x = Dropout(rate=0.3)(x)\n",
        "x = Dense(128, activation='relu')(x)\n",
        "x = Dropout(rate=0.2)(x)\n",
        "output = Dense(2, activation='softmax')(x)\n",
        "\n",
        "# Optimizer = adam\n",
        "# Loss function = binary_cross_entropy\n",
        "model_1_version_2 = Model(inputs=input, outputs = output)\n",
        "model_1_version_2.compile(optimizer='adam', \n",
        "              loss='binary_crossentropy',\n",
        "              metrics=['acc'])\n",
        "\n",
        "model_1_version_2.summary()\n",
        "#plot_model(model_1_version_2)"
      ]
    },
    {
      "cell_type": "code",
      "execution_count": 20,
      "metadata": {
        "colab": {
          "base_uri": "https://localhost:8080/"
        },
        "id": "ckGxV8YvARoV",
        "outputId": "92305678-3727-4808-9428-68771dae46af"
      },
      "outputs": [
        {
          "name": "stdout",
          "output_type": "stream",
          "text": [
            "Model: \"model_2\"\n",
            "_________________________________________________________________\n",
            " Layer (type)                Output Shape              Param #   \n",
            "=================================================================\n",
            " input_3 (InputLayer)        [(None, 96, 96, 3)]       0         \n",
            "                                                                 \n",
            " conv2d_9 (Conv2D)           (None, 94, 94, 16)        448       \n",
            "                                                                 \n",
            " conv2d_10 (Conv2D)          (None, 92, 92, 16)        2320      \n",
            "                                                                 \n",
            " max_pooling2d_6 (MaxPooling  (None, 46, 46, 16)       0         \n",
            " 2D)                                                             \n",
            "                                                                 \n",
            " conv2d_11 (Conv2D)          (None, 44, 44, 32)        4640      \n",
            "                                                                 \n",
            " conv2d_12 (Conv2D)          (None, 42, 42, 16)        4624      \n",
            "                                                                 \n",
            " max_pooling2d_7 (MaxPooling  (None, 21, 21, 16)       0         \n",
            " 2D)                                                             \n",
            "                                                                 \n",
            " conv2d_13 (Conv2D)          (None, 19, 19, 64)        9280      \n",
            "                                                                 \n",
            " conv2d_14 (Conv2D)          (None, 17, 17, 16)        9232      \n",
            "                                                                 \n",
            " max_pooling2d_8 (MaxPooling  (None, 8, 8, 16)         0         \n",
            " 2D)                                                             \n",
            "                                                                 \n",
            " flatten_2 (Flatten)         (None, 1024)              0         \n",
            "                                                                 \n",
            " dense_6 (Dense)             (None, 256)               262400    \n",
            "                                                                 \n",
            " dropout_4 (Dropout)         (None, 256)               0         \n",
            "                                                                 \n",
            " dense_7 (Dense)             (None, 128)               32896     \n",
            "                                                                 \n",
            " dropout_5 (Dropout)         (None, 128)               0         \n",
            "                                                                 \n",
            " dense_8 (Dense)             (None, 2)                 258       \n",
            "                                                                 \n",
            "=================================================================\n",
            "Total params: 326,098\n",
            "Trainable params: 326,098\n",
            "Non-trainable params: 0\n",
            "_________________________________________________________________\n"
          ]
        }
      ],
      "source": [
        "# Building the Convolutonal Neural Network Version 2 Model 2\n",
        "\n",
        "# Setting up the output with the right size\n",
        "input = Input(shape=(96,96,3))\n",
        "\n",
        "# Rely activation functions only, with softmax activation function for the last Dense layer\n",
        "x = Conv2D(16, (3,3), activation='sigmoid', padding='valid')(input)\n",
        "x = Conv2D(16, (3,3), activation='sigmoid', padding='valid')(x)\n",
        "x = MaxPool2D(pool_size=(2,2), strides=(2,2))(x)\n",
        "x = Conv2D(32, (3,3), activation='sigmoid', padding='valid')(x)\n",
        "x = Conv2D(16, (3,3), activation='sigmoid', padding='valid')(x)\n",
        "x = MaxPool2D(pool_size=(2,2), strides=(2,2))(x)\n",
        "x = Conv2D(64, (3,3), activation='sigmoid', padding='valid')(x)\n",
        "x = Conv2D(16, (3,3), activation='sigmoid', padding='valid')(x)\n",
        "x = MaxPool2D(pool_size=(2,2), strides=(2,2))(x)\n",
        "x = Flatten()(x)\n",
        "x = Dense(256, activation='relu')(x)\n",
        "x = Dropout(rate=0.3)(x)\n",
        "x = Dense(128, activation='relu')(x)\n",
        "x = Dropout(rate=0.2)(x)\n",
        "output = Dense(2, activation='softmax')(x)\n",
        "\n",
        "# Optimizer = adam\n",
        "# Loss function = binary_cross_entropy\n",
        "model_2_version_2 = Model(inputs=input, outputs = output)\n",
        "model_2_version_2.compile(optimizer='adam', \n",
        "              loss='binary_crossentropy',\n",
        "              metrics=['acc'])\n",
        "\n",
        "model_2_version_2.summary()\n",
        "#plot_model(model_2_version_2)"
      ]
    },
    {
      "cell_type": "code",
      "execution_count": 21,
      "metadata": {
        "colab": {
          "base_uri": "https://localhost:8080/"
        },
        "id": "v9LEk0B-ARf5",
        "outputId": "162ab52b-7c01-42b7-b86c-d8c613372390"
      },
      "outputs": [
        {
          "name": "stdout",
          "output_type": "stream",
          "text": [
            "Model: \"model_3\"\n",
            "_________________________________________________________________\n",
            " Layer (type)                Output Shape              Param #   \n",
            "=================================================================\n",
            " input_4 (InputLayer)        [(None, 96, 96, 3)]       0         \n",
            "                                                                 \n",
            " conv2d_15 (Conv2D)          (None, 94, 94, 16)        448       \n",
            "                                                                 \n",
            " conv2d_16 (Conv2D)          (None, 92, 92, 16)        2320      \n",
            "                                                                 \n",
            " max_pooling2d_9 (MaxPooling  (None, 46, 46, 16)       0         \n",
            " 2D)                                                             \n",
            "                                                                 \n",
            " conv2d_17 (Conv2D)          (None, 44, 44, 32)        4640      \n",
            "                                                                 \n",
            " conv2d_18 (Conv2D)          (None, 42, 42, 16)        4624      \n",
            "                                                                 \n",
            " max_pooling2d_10 (MaxPoolin  (None, 21, 21, 16)       0         \n",
            " g2D)                                                            \n",
            "                                                                 \n",
            " conv2d_19 (Conv2D)          (None, 19, 19, 64)        9280      \n",
            "                                                                 \n",
            " conv2d_20 (Conv2D)          (None, 17, 17, 16)        9232      \n",
            "                                                                 \n",
            " max_pooling2d_11 (MaxPoolin  (None, 8, 8, 16)         0         \n",
            " g2D)                                                            \n",
            "                                                                 \n",
            " flatten_3 (Flatten)         (None, 1024)              0         \n",
            "                                                                 \n",
            " dense_9 (Dense)             (None, 256)               262400    \n",
            "                                                                 \n",
            " dropout_6 (Dropout)         (None, 256)               0         \n",
            "                                                                 \n",
            " dense_10 (Dense)            (None, 128)               32896     \n",
            "                                                                 \n",
            " dropout_7 (Dropout)         (None, 128)               0         \n",
            "                                                                 \n",
            " dense_11 (Dense)            (None, 2)                 258       \n",
            "                                                                 \n",
            "=================================================================\n",
            "Total params: 326,098\n",
            "Trainable params: 326,098\n",
            "Non-trainable params: 0\n",
            "_________________________________________________________________\n"
          ]
        }
      ],
      "source": [
        "# Building the Convolutonal Neural Network Version 2 Model 3\n",
        "\n",
        "# Setting up the output with the right size\n",
        "input = Input(shape=(96,96,3))\n",
        "\n",
        "# Rely activation functions only, with softmax activation function for the last Dense layer\n",
        "x = Conv2D(16, (3,3), activation='sigmoid', padding='valid')(input)\n",
        "x = Conv2D(16, (3,3), activation='sigmoid', padding='valid')(x)\n",
        "x = MaxPool2D(pool_size=(2,2), strides=(2,2))(x)\n",
        "x = Conv2D(32, (3,3), activation='relu', padding='valid')(x)\n",
        "x = Conv2D(16, (3,3), activation='relu', padding='valid')(x)\n",
        "x = MaxPool2D(pool_size=(2,2), strides=(2,2))(x)\n",
        "x = Conv2D(64, (3,3), activation='sigmoid', padding='valid')(x)\n",
        "x = Conv2D(16, (3,3), activation='sigmoid', padding='valid')(x)\n",
        "x = MaxPool2D(pool_size=(2,2), strides=(2,2))(x)\n",
        "x = Flatten()(x)\n",
        "x = Dense(256, activation='relu')(x)\n",
        "x = Dropout(rate=0.3)(x)\n",
        "x = Dense(128, activation='relu')(x)\n",
        "x = Dropout(rate=0.2)(x)\n",
        "output = Dense(2, activation='softmax')(x)\n",
        "\n",
        "# Optimizer = adam\n",
        "# Loss function = binary_cross_entropy\n",
        "model_3_version_2 = Model(inputs=input, outputs = output)\n",
        "model_3_version_2.compile(optimizer='adam', \n",
        "              loss='binary_crossentropy',\n",
        "              metrics=['acc'])\n",
        "\n",
        "model_3_version_2.summary()\n",
        "#plot_model(model_3_version_2)"
      ]
    },
    {
      "cell_type": "markdown",
      "metadata": {
        "id": "HqDjRUviJNC6"
      },
      "source": [
        "Models 1.1, 1.2, 2.1, 2.2, 3.1, 3.2"
      ]
    },
    {
      "cell_type": "code",
      "execution_count": 31,
      "metadata": {
        "colab": {
          "base_uri": "https://localhost:8080/"
        },
        "id": "GGTbUtp0ARXV",
        "outputId": "94f6222b-b189-4789-aa13-79bacd02192b"
      },
      "outputs": [
        {
          "name": "stdout",
          "output_type": "stream",
          "text": [
            "Model: \"model_4\"\n",
            "_________________________________________________________________\n",
            " Layer (type)                Output Shape              Param #   \n",
            "=================================================================\n",
            " input_5 (InputLayer)        [(None, 96, 96, 3)]       0         \n",
            "                                                                 \n",
            " conv2d_21 (Conv2D)          (None, 94, 94, 16)        448       \n",
            "                                                                 \n",
            " conv2d_22 (Conv2D)          (None, 92, 92, 16)        2320      \n",
            "                                                                 \n",
            " max_pooling2d_12 (MaxPoolin  (None, 46, 46, 16)       0         \n",
            " g2D)                                                            \n",
            "                                                                 \n",
            " conv2d_23 (Conv2D)          (None, 44, 44, 32)        4640      \n",
            "                                                                 \n",
            " conv2d_24 (Conv2D)          (None, 42, 42, 16)        4624      \n",
            "                                                                 \n",
            " max_pooling2d_13 (MaxPoolin  (None, 21, 21, 16)       0         \n",
            " g2D)                                                            \n",
            "                                                                 \n",
            " conv2d_25 (Conv2D)          (None, 19, 19, 64)        9280      \n",
            "                                                                 \n",
            " conv2d_26 (Conv2D)          (None, 17, 17, 16)        9232      \n",
            "                                                                 \n",
            " max_pooling2d_14 (MaxPoolin  (None, 8, 8, 16)         0         \n",
            " g2D)                                                            \n",
            "                                                                 \n",
            " flatten_4 (Flatten)         (None, 1024)              0         \n",
            "                                                                 \n",
            " dense_12 (Dense)            (None, 256)               262400    \n",
            "                                                                 \n",
            " dropout_8 (Dropout)         (None, 256)               0         \n",
            "                                                                 \n",
            " dense_13 (Dense)            (None, 128)               32896     \n",
            "                                                                 \n",
            " dropout_9 (Dropout)         (None, 128)               0         \n",
            "                                                                 \n",
            " dense_14 (Dense)            (None, 2)                 258       \n",
            "                                                                 \n",
            "=================================================================\n",
            "Total params: 326,098\n",
            "Trainable params: 326,098\n",
            "Non-trainable params: 0\n",
            "_________________________________________________________________\n"
          ]
        }
      ],
      "source": [
        "# Building the Convolutonal Nueral Network Model 1.1 (Version 2)\n",
        "\n",
        "# Setting up the output with the right size\n",
        "input = Input(shape=(96,96,3))\n",
        "\n",
        "# Relu activation functions only, with softmax activation function for the last Dense layer\n",
        "x = Conv2D(16, (3,3), activation='relu', padding='valid')(input)\n",
        "x = Conv2D(16, (3,3), activation='relu', padding='valid')(x)\n",
        "x = MaxPool2D(pool_size=(2,2), strides=(2,2))(x)\n",
        "x = Conv2D(32, (3,3), activation='relu', padding='valid')(x)\n",
        "x = Conv2D(16, (3,3), activation='relu', padding='valid')(x)\n",
        "x = MaxPool2D(pool_size=(2,2), strides=(2,2))(x)\n",
        "x = Conv2D(64, (3,3), activation='relu', padding='valid')(x)\n",
        "x = Conv2D(16, (3,3), activation='relu', padding='valid')(x)\n",
        "x = MaxPool2D(pool_size=(2,2), strides=(2,2))(x)\n",
        "\n",
        "x = Flatten()(x)\n",
        "x = Dense(256, activation='relu')(x)\n",
        "x = Dropout(rate=0.3)(x)\n",
        "x = Dense(128, activation='relu')(x)\n",
        "x = Dropout(rate=0.2)(x)\n",
        "output = Dense(2, activation='softmax')(x)\n",
        "\n",
        "# Optimizer = adam\n",
        "# Loss function = hinge\n",
        "model_1_1_version_2 = Model(inputs=input, outputs = output)\n",
        "model_1_1_version_2.compile(optimizer='adam', \n",
        "              loss=tf.keras.losses.Hinge(),\n",
        "              metrics=['acc'])\n",
        "\n",
        "model_1_1_version_2.summary()\n",
        "#plot_model(model_1_1_version_2)"
      ]
    },
    {
      "cell_type": "code",
      "execution_count": 32,
      "metadata": {
        "colab": {
          "base_uri": "https://localhost:8080/"
        },
        "id": "EgK3JJ2FARTS",
        "outputId": "4c904e8f-7653-47ac-c53b-08446c67bd09"
      },
      "outputs": [
        {
          "name": "stdout",
          "output_type": "stream",
          "text": [
            "Model: \"model_5\"\n",
            "_________________________________________________________________\n",
            " Layer (type)                Output Shape              Param #   \n",
            "=================================================================\n",
            " input_6 (InputLayer)        [(None, 96, 96, 3)]       0         \n",
            "                                                                 \n",
            " conv2d_27 (Conv2D)          (None, 94, 94, 16)        448       \n",
            "                                                                 \n",
            " conv2d_28 (Conv2D)          (None, 92, 92, 16)        2320      \n",
            "                                                                 \n",
            " max_pooling2d_15 (MaxPoolin  (None, 46, 46, 16)       0         \n",
            " g2D)                                                            \n",
            "                                                                 \n",
            " conv2d_29 (Conv2D)          (None, 44, 44, 32)        4640      \n",
            "                                                                 \n",
            " conv2d_30 (Conv2D)          (None, 42, 42, 16)        4624      \n",
            "                                                                 \n",
            " max_pooling2d_16 (MaxPoolin  (None, 21, 21, 16)       0         \n",
            " g2D)                                                            \n",
            "                                                                 \n",
            " conv2d_31 (Conv2D)          (None, 19, 19, 64)        9280      \n",
            "                                                                 \n",
            " conv2d_32 (Conv2D)          (None, 17, 17, 16)        9232      \n",
            "                                                                 \n",
            " max_pooling2d_17 (MaxPoolin  (None, 8, 8, 16)         0         \n",
            " g2D)                                                            \n",
            "                                                                 \n",
            " flatten_5 (Flatten)         (None, 1024)              0         \n",
            "                                                                 \n",
            " dense_15 (Dense)            (None, 256)               262400    \n",
            "                                                                 \n",
            " dropout_10 (Dropout)        (None, 256)               0         \n",
            "                                                                 \n",
            " dense_16 (Dense)            (None, 128)               32896     \n",
            "                                                                 \n",
            " dropout_11 (Dropout)        (None, 128)               0         \n",
            "                                                                 \n",
            " dense_17 (Dense)            (None, 2)                 258       \n",
            "                                                                 \n",
            "=================================================================\n",
            "Total params: 326,098\n",
            "Trainable params: 326,098\n",
            "Non-trainable params: 0\n",
            "_________________________________________________________________\n"
          ]
        }
      ],
      "source": [
        "# Building the Convolutonal Nueral Network Model 1.2 (Version 2)\n",
        "\n",
        "# Setting up the output with the right size\n",
        "input = Input(shape=(96,96,3))\n",
        "\n",
        "# Relu activation functions only, with softmax activation function for the last Dense layer\n",
        "x = Conv2D(16, (3,3), activation='relu', padding='valid')(input)\n",
        "x = Conv2D(16, (3,3), activation='relu', padding='valid')(x)\n",
        "x = MaxPool2D(pool_size=(2,2), strides=(2,2))(x)\n",
        "x = Conv2D(32, (3,3), activation='relu', padding='valid')(x)\n",
        "x = Conv2D(16, (3,3), activation='relu', padding='valid')(x)\n",
        "x = MaxPool2D(pool_size=(2,2), strides=(2,2))(x)\n",
        "x = Conv2D(64, (3,3), activation='relu', padding='valid')(x)\n",
        "x = Conv2D(16, (3,3), activation='relu', padding='valid')(x)\n",
        "x = MaxPool2D(pool_size=(2,2), strides=(2,2))(x)\n",
        "\n",
        "x = Flatten()(x)\n",
        "x = Dense(256, activation='relu')(x)\n",
        "x = Dropout(rate=0.3)(x)\n",
        "x = Dense(128, activation='relu')(x)\n",
        "x = Dropout(rate=0.2)(x)\n",
        "output = Dense(2, activation='softmax')(x)\n",
        "\n",
        "# Optimizer = adam\n",
        "# Loss function =   MSE\n",
        "model_1_2_version_2 = Model(inputs=input, outputs = output)\n",
        "model_1_2_version_2.compile(optimizer='adam', \n",
        "              loss='MSE',\n",
        "              metrics=['acc'])\n",
        "\n",
        "model_1_2_version_2.summary()\n",
        "#plot_model(model_1_2_version_2)"
      ]
    },
    {
      "cell_type": "code",
      "execution_count": 33,
      "metadata": {
        "colab": {
          "base_uri": "https://localhost:8080/"
        },
        "id": "_7gnWzF3AROh",
        "outputId": "39295ead-0a56-443e-aa6d-1226fe793b09"
      },
      "outputs": [
        {
          "name": "stdout",
          "output_type": "stream",
          "text": [
            "Model: \"model_6\"\n",
            "_________________________________________________________________\n",
            " Layer (type)                Output Shape              Param #   \n",
            "=================================================================\n",
            " input_7 (InputLayer)        [(None, 96, 96, 3)]       0         \n",
            "                                                                 \n",
            " conv2d_33 (Conv2D)          (None, 94, 94, 16)        448       \n",
            "                                                                 \n",
            " conv2d_34 (Conv2D)          (None, 92, 92, 16)        2320      \n",
            "                                                                 \n",
            " max_pooling2d_18 (MaxPoolin  (None, 46, 46, 16)       0         \n",
            " g2D)                                                            \n",
            "                                                                 \n",
            " conv2d_35 (Conv2D)          (None, 44, 44, 32)        4640      \n",
            "                                                                 \n",
            " conv2d_36 (Conv2D)          (None, 42, 42, 16)        4624      \n",
            "                                                                 \n",
            " max_pooling2d_19 (MaxPoolin  (None, 21, 21, 16)       0         \n",
            " g2D)                                                            \n",
            "                                                                 \n",
            " conv2d_37 (Conv2D)          (None, 19, 19, 64)        9280      \n",
            "                                                                 \n",
            " conv2d_38 (Conv2D)          (None, 17, 17, 16)        9232      \n",
            "                                                                 \n",
            " max_pooling2d_20 (MaxPoolin  (None, 8, 8, 16)         0         \n",
            " g2D)                                                            \n",
            "                                                                 \n",
            " flatten_6 (Flatten)         (None, 1024)              0         \n",
            "                                                                 \n",
            " dense_18 (Dense)            (None, 256)               262400    \n",
            "                                                                 \n",
            " dropout_12 (Dropout)        (None, 256)               0         \n",
            "                                                                 \n",
            " dense_19 (Dense)            (None, 128)               32896     \n",
            "                                                                 \n",
            " dropout_13 (Dropout)        (None, 128)               0         \n",
            "                                                                 \n",
            " dense_20 (Dense)            (None, 2)                 258       \n",
            "                                                                 \n",
            "=================================================================\n",
            "Total params: 326,098\n",
            "Trainable params: 326,098\n",
            "Non-trainable params: 0\n",
            "_________________________________________________________________\n"
          ]
        }
      ],
      "source": [
        "# Building the Convolutonal Nueral Network Model 2.1 (Version 2)\n",
        "\n",
        "# Setting up the output with the right size\n",
        "input = Input(shape=(96,96,3))\n",
        "\n",
        "# Sigmoid activation functions only with softmax for the last Dense layer\n",
        "\n",
        "x = Conv2D(16, (3,3), activation='sigmoid', padding='valid')(input)\n",
        "x = Conv2D(16, (3,3), activation='sigmoid', padding='valid')(x)\n",
        "x = MaxPool2D(pool_size=(2,2), strides=(2,2))(x)\n",
        "x = Conv2D(32, (3,3), activation='sigmoid', padding='valid')(x)\n",
        "x = Conv2D(16, (3,3), activation='sigmoid', padding='valid')(x)\n",
        "x = MaxPool2D(pool_size=(2,2), strides=(2,2))(x)\n",
        "x = Conv2D(64, (3,3), activation='sigmoid', padding='valid')(x)\n",
        "x = Conv2D(16, (3,3), activation='sigmoid', padding='valid')(x)\n",
        "x = MaxPool2D(pool_size=(2,2), strides=(2,2))(x)\n",
        "x = Flatten()(x)\n",
        "x = Dense(256, activation='sigmoid')(x)\n",
        "x = Dropout(rate=0.3)(x)\n",
        "x = Dense(128, activation='sigmoid')(x)\n",
        "x = Dropout(rate=0.2)(x)\n",
        "output = Dense(2, activation='softmax')(x)\n",
        "\n",
        "# Optimizer = adam\n",
        "# Loss function = hinge\n",
        "model_2_1_version_2 = Model(inputs=input, outputs = output)\n",
        "model_2_1_version_2.compile(optimizer='adam', \n",
        "              loss=tf.keras.losses.Hinge(),\n",
        "              metrics=['acc'])\n",
        "\n",
        "model_2_1_version_2.summary()\n",
        "#plot_model(model_2_2_version_2)"
      ]
    },
    {
      "cell_type": "code",
      "execution_count": 34,
      "metadata": {
        "colab": {
          "base_uri": "https://localhost:8080/"
        },
        "id": "NrFU171-AQ37",
        "outputId": "9e3dd3cb-fdd7-45b6-a1c6-c3d79e21effd"
      },
      "outputs": [
        {
          "name": "stdout",
          "output_type": "stream",
          "text": [
            "Model: \"model_7\"\n",
            "_________________________________________________________________\n",
            " Layer (type)                Output Shape              Param #   \n",
            "=================================================================\n",
            " input_8 (InputLayer)        [(None, 96, 96, 3)]       0         \n",
            "                                                                 \n",
            " conv2d_39 (Conv2D)          (None, 94, 94, 16)        448       \n",
            "                                                                 \n",
            " conv2d_40 (Conv2D)          (None, 92, 92, 16)        2320      \n",
            "                                                                 \n",
            " max_pooling2d_21 (MaxPoolin  (None, 46, 46, 16)       0         \n",
            " g2D)                                                            \n",
            "                                                                 \n",
            " conv2d_41 (Conv2D)          (None, 44, 44, 32)        4640      \n",
            "                                                                 \n",
            " conv2d_42 (Conv2D)          (None, 42, 42, 16)        4624      \n",
            "                                                                 \n",
            " max_pooling2d_22 (MaxPoolin  (None, 21, 21, 16)       0         \n",
            " g2D)                                                            \n",
            "                                                                 \n",
            " conv2d_43 (Conv2D)          (None, 19, 19, 64)        9280      \n",
            "                                                                 \n",
            " conv2d_44 (Conv2D)          (None, 17, 17, 16)        9232      \n",
            "                                                                 \n",
            " max_pooling2d_23 (MaxPoolin  (None, 8, 8, 16)         0         \n",
            " g2D)                                                            \n",
            "                                                                 \n",
            " flatten_7 (Flatten)         (None, 1024)              0         \n",
            "                                                                 \n",
            " dense_21 (Dense)            (None, 256)               262400    \n",
            "                                                                 \n",
            " dropout_14 (Dropout)        (None, 256)               0         \n",
            "                                                                 \n",
            " dense_22 (Dense)            (None, 128)               32896     \n",
            "                                                                 \n",
            " dropout_15 (Dropout)        (None, 128)               0         \n",
            "                                                                 \n",
            " dense_23 (Dense)            (None, 2)                 258       \n",
            "                                                                 \n",
            "=================================================================\n",
            "Total params: 326,098\n",
            "Trainable params: 326,098\n",
            "Non-trainable params: 0\n",
            "_________________________________________________________________\n"
          ]
        }
      ],
      "source": [
        "# Building the Convolutonal Nueral Network Model 2.2 (Version 2)\n",
        "\n",
        "# Setting up the output with the right size\n",
        "input = Input(shape=(96,96,3))\n",
        "\n",
        "# Sigmoid activation functions only with softmax for the last Dense layer\n",
        "\n",
        "x = Conv2D(16, (3,3), activation='sigmoid', padding='valid')(input)\n",
        "x = Conv2D(16, (3,3), activation='sigmoid', padding='valid')(x)\n",
        "x = MaxPool2D(pool_size=(2,2), strides=(2,2))(x)\n",
        "x = Conv2D(32, (3,3), activation='sigmoid', padding='valid')(x)\n",
        "x = Conv2D(16, (3,3), activation='sigmoid', padding='valid')(x)\n",
        "x = MaxPool2D(pool_size=(2,2), strides=(2,2))(x)\n",
        "x = Conv2D(64, (3,3), activation='sigmoid', padding='valid')(x)\n",
        "x = Conv2D(16, (3,3), activation='sigmoid', padding='valid')(x)\n",
        "x = MaxPool2D(pool_size=(2,2), strides=(2,2))(x)\n",
        "\n",
        "x = Flatten()(x)\n",
        "x = Dense(256, activation='sigmoid')(x)\n",
        "x = Dropout(rate=0.3)(x)\n",
        "x = Dense(128, activation='sigmoid')(x)\n",
        "x = Dropout(rate=0.2)(x)\n",
        "output = Dense(2, activation='softmax')(x)\n",
        "\n",
        "# Optimizer = adam\n",
        "# Loss function = MSE\n",
        "model_2_2_version_2 = Model(inputs=input, outputs = output)\n",
        "model_2_2_version_2.compile(optimizer='adam', \n",
        "              loss='MSE',\n",
        "              metrics=['acc'])\n",
        "\n",
        "model_2_2_version_2.summary()\n",
        "#plot_model(model_2_2_version_2)"
      ]
    },
    {
      "cell_type": "code",
      "execution_count": 35,
      "metadata": {
        "colab": {
          "base_uri": "https://localhost:8080/"
        },
        "id": "tqRnl43HAQyi",
        "outputId": "f89dfb65-95fa-4c4d-a3fc-8d9235fd2c68"
      },
      "outputs": [
        {
          "name": "stdout",
          "output_type": "stream",
          "text": [
            "Model: \"model_8\"\n",
            "_________________________________________________________________\n",
            " Layer (type)                Output Shape              Param #   \n",
            "=================================================================\n",
            " input_9 (InputLayer)        [(None, 96, 96, 3)]       0         \n",
            "                                                                 \n",
            " conv2d_45 (Conv2D)          (None, 94, 94, 16)        448       \n",
            "                                                                 \n",
            " conv2d_46 (Conv2D)          (None, 92, 92, 16)        2320      \n",
            "                                                                 \n",
            " max_pooling2d_24 (MaxPoolin  (None, 46, 46, 16)       0         \n",
            " g2D)                                                            \n",
            "                                                                 \n",
            " conv2d_47 (Conv2D)          (None, 44, 44, 32)        4640      \n",
            "                                                                 \n",
            " conv2d_48 (Conv2D)          (None, 42, 42, 32)        9248      \n",
            "                                                                 \n",
            " max_pooling2d_25 (MaxPoolin  (None, 21, 21, 32)       0         \n",
            " g2D)                                                            \n",
            "                                                                 \n",
            " conv2d_49 (Conv2D)          (None, 19, 19, 64)        18496     \n",
            "                                                                 \n",
            " conv2d_50 (Conv2D)          (None, 17, 17, 16)        9232      \n",
            "                                                                 \n",
            " max_pooling2d_26 (MaxPoolin  (None, 8, 8, 16)         0         \n",
            " g2D)                                                            \n",
            "                                                                 \n",
            " flatten_8 (Flatten)         (None, 1024)              0         \n",
            "                                                                 \n",
            " dense_24 (Dense)            (None, 256)               262400    \n",
            "                                                                 \n",
            " dropout_16 (Dropout)        (None, 256)               0         \n",
            "                                                                 \n",
            " dense_25 (Dense)            (None, 128)               32896     \n",
            "                                                                 \n",
            " dropout_17 (Dropout)        (None, 128)               0         \n",
            "                                                                 \n",
            " dense_26 (Dense)            (None, 2)                 258       \n",
            "                                                                 \n",
            "=================================================================\n",
            "Total params: 339,938\n",
            "Trainable params: 339,938\n",
            "Non-trainable params: 0\n",
            "_________________________________________________________________\n"
          ]
        }
      ],
      "source": [
        "# Building the Convolutonal Neural Network Model 3.1 (Version 2)\n",
        "\n",
        "# Setting up the output with the right size\n",
        "input = Input(shape=(96,96,3))\n",
        "\n",
        "# A conbination of relu and sigmoid activation functions\n",
        "x = Conv2D(16, (3,3), activation='sigmoid', padding='valid')(input)\n",
        "x = Conv2D(16, (3,3), activation='sigmoid', padding='valid')(x)\n",
        "x = MaxPool2D(pool_size=(2,2), strides=(2,2))(x)\n",
        "x = Conv2D(32, (3,3), activation='relu', padding='valid')(x)\n",
        "x = Conv2D(32, (3,3), activation='relu', padding='valid')(x)\n",
        "x = MaxPool2D(pool_size=(2,2), strides=(2,2))(x)\n",
        "x = Conv2D(64, (3,3), activation='sigmoid', padding='valid')(x)\n",
        "x = Conv2D(16, (3,3), activation='sigmoid', padding='valid')(x)\n",
        "x = MaxPool2D(pool_size=(2,2), strides=(2,2))(x)\n",
        "\n",
        "x = Flatten()(x)\n",
        "x = Dense(256, activation='relu')(x)\n",
        "x = Dropout(rate=0.3)(x)\n",
        "x = Dense(128, activation='sigmoid')(x)\n",
        "x = Dropout(rate=0.2)(x)\n",
        "output = Dense(2, activation='softmax')(x)\n",
        "\n",
        "# Optimizer = adam\n",
        "# Loss function = hinge\n",
        "model_3_1_version_2 = Model(inputs=input, outputs = output)\n",
        "model_3_1_version_2.compile(optimizer='adam', \n",
        "              loss=tf.keras.losses.Hinge(),\n",
        "              metrics=['acc'])\n",
        "\n",
        "model_3_1_version_2.summary()\n",
        "#plot_model(model_3_1_version_2)"
      ]
    },
    {
      "cell_type": "code",
      "execution_count": 36,
      "metadata": {
        "colab": {
          "base_uri": "https://localhost:8080/"
        },
        "id": "Dybrvq1wAQuT",
        "outputId": "a138f906-a397-479f-c53d-1f8ab7232c3b"
      },
      "outputs": [
        {
          "name": "stdout",
          "output_type": "stream",
          "text": [
            "Model: \"model_9\"\n",
            "_________________________________________________________________\n",
            " Layer (type)                Output Shape              Param #   \n",
            "=================================================================\n",
            " input_10 (InputLayer)       [(None, 96, 96, 3)]       0         \n",
            "                                                                 \n",
            " conv2d_51 (Conv2D)          (None, 94, 94, 16)        448       \n",
            "                                                                 \n",
            " conv2d_52 (Conv2D)          (None, 92, 92, 16)        2320      \n",
            "                                                                 \n",
            " max_pooling2d_27 (MaxPoolin  (None, 46, 46, 16)       0         \n",
            " g2D)                                                            \n",
            "                                                                 \n",
            " conv2d_53 (Conv2D)          (None, 44, 44, 32)        4640      \n",
            "                                                                 \n",
            " conv2d_54 (Conv2D)          (None, 42, 42, 32)        9248      \n",
            "                                                                 \n",
            " max_pooling2d_28 (MaxPoolin  (None, 21, 21, 32)       0         \n",
            " g2D)                                                            \n",
            "                                                                 \n",
            " conv2d_55 (Conv2D)          (None, 19, 19, 64)        18496     \n",
            "                                                                 \n",
            " conv2d_56 (Conv2D)          (None, 17, 17, 64)        36928     \n",
            "                                                                 \n",
            " max_pooling2d_29 (MaxPoolin  (None, 8, 8, 64)         0         \n",
            " g2D)                                                            \n",
            "                                                                 \n",
            " flatten_9 (Flatten)         (None, 4096)              0         \n",
            "                                                                 \n",
            " dense_27 (Dense)            (None, 256)               1048832   \n",
            "                                                                 \n",
            " dropout_18 (Dropout)        (None, 256)               0         \n",
            "                                                                 \n",
            " dense_28 (Dense)            (None, 128)               32896     \n",
            "                                                                 \n",
            " dropout_19 (Dropout)        (None, 128)               0         \n",
            "                                                                 \n",
            " dense_29 (Dense)            (None, 2)                 258       \n",
            "                                                                 \n",
            "=================================================================\n",
            "Total params: 1,154,066\n",
            "Trainable params: 1,154,066\n",
            "Non-trainable params: 0\n",
            "_________________________________________________________________\n"
          ]
        }
      ],
      "source": [
        "# Building the Convolutonal Neural Network Model 3.2 (Version 2)\n",
        "\n",
        "# Setting up the output with the right size\n",
        "input = Input(shape=(96,96,3))\n",
        "\n",
        "# A conbination of relu and sigmoid activation functions\n",
        "x = Conv2D(16, (3,3), activation='sigmoid', padding='valid')(input)\n",
        "x = Conv2D(16, (3,3), activation='sigmoid', padding='valid')(x)\n",
        "x = MaxPool2D(pool_size=(2,2), strides=(2,2))(x)\n",
        "x = Conv2D(32, (3,3), activation='relu', padding='valid')(x)\n",
        "x = Conv2D(32, (3,3), activation='relu', padding='valid')(x)\n",
        "x = MaxPool2D(pool_size=(2,2), strides=(2,2))(x)\n",
        "x = Conv2D(64, (3,3), activation='sigmoid', padding='valid')(x)\n",
        "x = Conv2D(64, (3,3), activation='sigmoid', padding='valid')(x)\n",
        "x = MaxPool2D(pool_size=(2,2), strides=(2,2))(x)\n",
        "x = Flatten()(x)\n",
        "x = Dense(256, activation='relu')(x)\n",
        "x = Dropout(rate=0.3)(x)\n",
        "x = Dense(128, activation='sigmoid')(x)\n",
        "x = Dropout(rate=0.2)(x)\n",
        "output = Dense(2, activation='softmax')(x)\n",
        "\n",
        "# Optimizer = adam\n",
        "# Loss function = MSE\n",
        "model_3_2_version_2 = Model(inputs=input, outputs = output)\n",
        "model_3_2_version_2.compile(optimizer='adam', \n",
        "              loss='MSE',\n",
        "              metrics=['acc'])\n",
        "\n",
        "model_3_2_version_2.summary()\n",
        "#plot_model(model_3_2_version_2)"
      ]
    },
    {
      "cell_type": "markdown",
      "metadata": {
        "id": "hIedK10LRn1f"
      },
      "source": [
        "Models 1.1.1, 1.1.2, 1.1.3;\n",
        "1.2.1, 1.2.2, 1.2.3, 2.1.1, 2.1.2, 2.1.3, 2.2.1, 2.2.2, 2.2.3, 3.1.1, 3.1.2, 3.1.3, 3.2.1, 3.2.2, 3.2.3."
      ]
    },
    {
      "cell_type": "code",
      "execution_count": 45,
      "metadata": {
        "colab": {
          "base_uri": "https://localhost:8080/"
        },
        "id": "2aLu4mZvAQld",
        "outputId": "29b70826-93d7-42e9-e25b-1dc95d65019a"
      },
      "outputs": [
        {
          "name": "stdout",
          "output_type": "stream",
          "text": [
            "Model: \"model_10\"\n",
            "_________________________________________________________________\n",
            " Layer (type)                Output Shape              Param #   \n",
            "=================================================================\n",
            " input_11 (InputLayer)       [(None, 96, 96, 3)]       0         \n",
            "                                                                 \n",
            " conv2d_57 (Conv2D)          (None, 94, 94, 16)        448       \n",
            "                                                                 \n",
            " conv2d_58 (Conv2D)          (None, 92, 92, 16)        2320      \n",
            "                                                                 \n",
            " max_pooling2d_30 (MaxPoolin  (None, 46, 46, 16)       0         \n",
            " g2D)                                                            \n",
            "                                                                 \n",
            " conv2d_59 (Conv2D)          (None, 44, 44, 32)        4640      \n",
            "                                                                 \n",
            " conv2d_60 (Conv2D)          (None, 42, 42, 16)        4624      \n",
            "                                                                 \n",
            " max_pooling2d_31 (MaxPoolin  (None, 21, 21, 16)       0         \n",
            " g2D)                                                            \n",
            "                                                                 \n",
            " conv2d_61 (Conv2D)          (None, 19, 19, 64)        9280      \n",
            "                                                                 \n",
            " conv2d_62 (Conv2D)          (None, 17, 17, 16)        9232      \n",
            "                                                                 \n",
            " max_pooling2d_32 (MaxPoolin  (None, 8, 8, 16)         0         \n",
            " g2D)                                                            \n",
            "                                                                 \n",
            " flatten_10 (Flatten)        (None, 1024)              0         \n",
            "                                                                 \n",
            " dense_30 (Dense)            (None, 256)               262400    \n",
            "                                                                 \n",
            " dropout_20 (Dropout)        (None, 256)               0         \n",
            "                                                                 \n",
            " dense_31 (Dense)            (None, 128)               32896     \n",
            "                                                                 \n",
            " dropout_21 (Dropout)        (None, 128)               0         \n",
            "                                                                 \n",
            " dense_32 (Dense)            (None, 2)                 258       \n",
            "                                                                 \n",
            "=================================================================\n",
            "Total params: 326,098\n",
            "Trainable params: 326,098\n",
            "Non-trainable params: 0\n",
            "_________________________________________________________________\n"
          ]
        }
      ],
      "source": [
        "# Building the Convolutonal Nueral Network Model 1.1.1 (Version 2)\n",
        "\n",
        "# Setting up the output with the right size\n",
        "input = Input(shape=(96,96,3))\n",
        "\n",
        "# Relu activation functions only, with softmax activation function for the last Dense layer\n",
        "x = Conv2D(16, (3,3), activation='relu', padding='valid')(input)\n",
        "x = Conv2D(16, (3,3), activation='relu', padding='valid')(x)\n",
        "x = MaxPool2D(pool_size=(2,2), strides=(2,2))(x)\n",
        "x = Conv2D(32, (3,3), activation='relu', padding='valid')(x)\n",
        "x = Conv2D(16, (3,3), activation='relu', padding='valid')(x)\n",
        "x = MaxPool2D(pool_size=(2,2), strides=(2,2))(x)\n",
        "x = Conv2D(64, (3,3), activation='relu', padding='valid')(x)\n",
        "x = Conv2D(16, (3,3), activation='relu', padding='valid')(x)\n",
        "x = MaxPool2D(pool_size=(2,2), strides=(2,2))(x)\n",
        "\n",
        "x = Flatten()(x)\n",
        "x = Dense(256, activation='relu')(x)\n",
        "x = Dropout(rate=0.3)(x)\n",
        "x = Dense(128, activation='relu')(x)\n",
        "x = Dropout(rate=0.2)(x)\n",
        "output = Dense(2, activation='softmax')(x)\n",
        "\n",
        "# Optimizer = sgd\n",
        "# Loss function = hinge\n",
        "model_1_1_1_version_2 = Model(inputs=input, outputs = output)\n",
        "model_1_1_1_version_2.compile(optimizer='sgd', \n",
        "              loss=tf.keras.losses.Hinge(),\n",
        "              metrics=['acc'])\n",
        "\n",
        "model_1_1_1_version_2.summary()\n",
        "#plot_model(model_1_1_1_version_2)"
      ]
    },
    {
      "cell_type": "code",
      "execution_count": 46,
      "metadata": {
        "colab": {
          "base_uri": "https://localhost:8080/"
        },
        "id": "inFp8Um1AQg5",
        "outputId": "c83cd008-27b6-4ee5-8b03-0f872c1908d2"
      },
      "outputs": [
        {
          "name": "stdout",
          "output_type": "stream",
          "text": [
            "Model: \"model_11\"\n",
            "_________________________________________________________________\n",
            " Layer (type)                Output Shape              Param #   \n",
            "=================================================================\n",
            " input_12 (InputLayer)       [(None, 96, 96, 3)]       0         \n",
            "                                                                 \n",
            " conv2d_63 (Conv2D)          (None, 94, 94, 16)        448       \n",
            "                                                                 \n",
            " conv2d_64 (Conv2D)          (None, 92, 92, 16)        2320      \n",
            "                                                                 \n",
            " max_pooling2d_33 (MaxPoolin  (None, 46, 46, 16)       0         \n",
            " g2D)                                                            \n",
            "                                                                 \n",
            " conv2d_65 (Conv2D)          (None, 44, 44, 32)        4640      \n",
            "                                                                 \n",
            " conv2d_66 (Conv2D)          (None, 42, 42, 16)        4624      \n",
            "                                                                 \n",
            " max_pooling2d_34 (MaxPoolin  (None, 21, 21, 16)       0         \n",
            " g2D)                                                            \n",
            "                                                                 \n",
            " conv2d_67 (Conv2D)          (None, 19, 19, 64)        9280      \n",
            "                                                                 \n",
            " conv2d_68 (Conv2D)          (None, 17, 17, 16)        9232      \n",
            "                                                                 \n",
            " max_pooling2d_35 (MaxPoolin  (None, 8, 8, 16)         0         \n",
            " g2D)                                                            \n",
            "                                                                 \n",
            " flatten_11 (Flatten)        (None, 1024)              0         \n",
            "                                                                 \n",
            " dense_33 (Dense)            (None, 256)               262400    \n",
            "                                                                 \n",
            " dropout_22 (Dropout)        (None, 256)               0         \n",
            "                                                                 \n",
            " dense_34 (Dense)            (None, 128)               32896     \n",
            "                                                                 \n",
            " dropout_23 (Dropout)        (None, 128)               0         \n",
            "                                                                 \n",
            " dense_35 (Dense)            (None, 2)                 258       \n",
            "                                                                 \n",
            "=================================================================\n",
            "Total params: 326,098\n",
            "Trainable params: 326,098\n",
            "Non-trainable params: 0\n",
            "_________________________________________________________________\n"
          ]
        }
      ],
      "source": [
        "# Building the Convolutonal Nueral Network Model 1.1.2 (Version 2)\n",
        "\n",
        "# Setting up the output with the right size\n",
        "input = Input(shape=(96,96,3))\n",
        "\n",
        "# Relu activation functions only, with softmax activation function for the last Dense layer\n",
        "x = Conv2D(16, (3,3), activation='relu', padding='valid')(input)\n",
        "x = Conv2D(16, (3,3), activation='relu', padding='valid')(x)\n",
        "x = MaxPool2D(pool_size=(2,2), strides=(2,2))(x)\n",
        "x = Conv2D(32, (3,3), activation='relu', padding='valid')(x)\n",
        "x = Conv2D(16, (3,3), activation='relu', padding='valid')(x)\n",
        "x = MaxPool2D(pool_size=(2,2), strides=(2,2))(x)\n",
        "x = Conv2D(64, (3,3), activation='relu', padding='valid')(x)\n",
        "x = Conv2D(16, (3,3), activation='relu', padding='valid')(x)\n",
        "x = MaxPool2D(pool_size=(2,2), strides=(2,2))(x)\n",
        "\n",
        "x = Flatten()(x)\n",
        "x = Dense(256, activation='relu')(x)\n",
        "x = Dropout(rate=0.3)(x)\n",
        "x = Dense(128, activation='relu')(x)\n",
        "x = Dropout(rate=0.2)(x)\n",
        "output = Dense(2, activation='softmax')(x)\n",
        "\n",
        "# Optimizer = adagrad\n",
        "# Loss function = hinge\n",
        "model_1_1_2_version_2 = Model(inputs=input, outputs = output)\n",
        "model_1_1_2_version_2.compile(optimizer='adagrad', \n",
        "              loss=tf.keras.losses.Hinge(),\n",
        "              metrics=['acc'])\n",
        "\n",
        "model_1_1_2_version_2.summary()\n",
        "#plot_model(model_1_1_2_version_2)"
      ]
    },
    {
      "cell_type": "code",
      "execution_count": 48,
      "metadata": {
        "colab": {
          "base_uri": "https://localhost:8080/"
        },
        "id": "Iy-HSAAZAQbi",
        "outputId": "d4f6479b-0092-429d-9c52-fd073002b088"
      },
      "outputs": [
        {
          "name": "stdout",
          "output_type": "stream",
          "text": [
            "Model: \"model_13\"\n",
            "_________________________________________________________________\n",
            " Layer (type)                Output Shape              Param #   \n",
            "=================================================================\n",
            " input_14 (InputLayer)       [(None, 96, 96, 3)]       0         \n",
            "                                                                 \n",
            " conv2d_75 (Conv2D)          (None, 94, 94, 16)        448       \n",
            "                                                                 \n",
            " conv2d_76 (Conv2D)          (None, 92, 92, 16)        2320      \n",
            "                                                                 \n",
            " max_pooling2d_39 (MaxPoolin  (None, 46, 46, 16)       0         \n",
            " g2D)                                                            \n",
            "                                                                 \n",
            " conv2d_77 (Conv2D)          (None, 44, 44, 32)        4640      \n",
            "                                                                 \n",
            " conv2d_78 (Conv2D)          (None, 42, 42, 16)        4624      \n",
            "                                                                 \n",
            " max_pooling2d_40 (MaxPoolin  (None, 21, 21, 16)       0         \n",
            " g2D)                                                            \n",
            "                                                                 \n",
            " conv2d_79 (Conv2D)          (None, 19, 19, 64)        9280      \n",
            "                                                                 \n",
            " conv2d_80 (Conv2D)          (None, 17, 17, 16)        9232      \n",
            "                                                                 \n",
            " max_pooling2d_41 (MaxPoolin  (None, 8, 8, 16)         0         \n",
            " g2D)                                                            \n",
            "                                                                 \n",
            " flatten_13 (Flatten)        (None, 1024)              0         \n",
            "                                                                 \n",
            " dense_39 (Dense)            (None, 256)               262400    \n",
            "                                                                 \n",
            " dropout_26 (Dropout)        (None, 256)               0         \n",
            "                                                                 \n",
            " dense_40 (Dense)            (None, 128)               32896     \n",
            "                                                                 \n",
            " dropout_27 (Dropout)        (None, 128)               0         \n",
            "                                                                 \n",
            " dense_41 (Dense)            (None, 2)                 258       \n",
            "                                                                 \n",
            "=================================================================\n",
            "Total params: 326,098\n",
            "Trainable params: 326,098\n",
            "Non-trainable params: 0\n",
            "_________________________________________________________________\n"
          ]
        }
      ],
      "source": [
        "# Building the Convolutonal Nueral Network Model 1.1.3 (Version 2)\n",
        "\n",
        "# Setting up the output with the right size\n",
        "input = Input(shape=(96,96,3))\n",
        "\n",
        "# Relu activation functions only, with softmax activation function for the last Dense layer\n",
        "x = Conv2D(16, (3,3), activation='relu', padding='valid')(input)\n",
        "x = Conv2D(16, (3,3), activation='relu', padding='valid')(x)\n",
        "x = MaxPool2D(pool_size=(2,2), strides=(2,2))(x)\n",
        "x = Conv2D(32, (3,3), activation='relu', padding='valid')(x)\n",
        "x = Conv2D(16, (3,3), activation='relu', padding='valid')(x)\n",
        "x = MaxPool2D(pool_size=(2,2), strides=(2,2))(x)\n",
        "x = Conv2D(64, (3,3), activation='relu', padding='valid')(x)\n",
        "x = Conv2D(16, (3,3), activation='relu', padding='valid')(x)\n",
        "x = MaxPool2D(pool_size=(2,2), strides=(2,2))(x)\n",
        "\n",
        "x = Flatten()(x)\n",
        "x = Dense(256, activation='relu')(x)\n",
        "x = Dropout(rate=0.3)(x)\n",
        "x = Dense(128, activation='relu')(x)\n",
        "x = Dropout(rate=0.2)(x)\n",
        "output = Dense(2, activation='softmax')(x)\n",
        "\n",
        "# Optimizer = RMSprop\n",
        "# Loss function = hinge\n",
        "model_1_1_3_version_2 = Model(inputs=input, outputs = output)\n",
        "model_1_1_3_version_2.compile(optimizer='RMSprop', \n",
        "              loss=tf.keras.losses.Hinge(),\n",
        "              metrics=['acc'])\n",
        "\n",
        "model_1_1_3_version_2.summary()\n",
        "#plot_model(model_1_1_3_version_2)"
      ]
    },
    {
      "cell_type": "code",
      "execution_count": 49,
      "metadata": {
        "colab": {
          "base_uri": "https://localhost:8080/"
        },
        "id": "2Il6jI9fAQSu",
        "outputId": "81f560c0-372b-46c0-989c-587de4fe5569"
      },
      "outputs": [
        {
          "name": "stdout",
          "output_type": "stream",
          "text": [
            "Model: \"model_14\"\n",
            "_________________________________________________________________\n",
            " Layer (type)                Output Shape              Param #   \n",
            "=================================================================\n",
            " input_15 (InputLayer)       [(None, 96, 96, 3)]       0         \n",
            "                                                                 \n",
            " conv2d_81 (Conv2D)          (None, 94, 94, 16)        448       \n",
            "                                                                 \n",
            " conv2d_82 (Conv2D)          (None, 92, 92, 16)        2320      \n",
            "                                                                 \n",
            " max_pooling2d_42 (MaxPoolin  (None, 46, 46, 16)       0         \n",
            " g2D)                                                            \n",
            "                                                                 \n",
            " conv2d_83 (Conv2D)          (None, 44, 44, 32)        4640      \n",
            "                                                                 \n",
            " conv2d_84 (Conv2D)          (None, 42, 42, 16)        4624      \n",
            "                                                                 \n",
            " max_pooling2d_43 (MaxPoolin  (None, 21, 21, 16)       0         \n",
            " g2D)                                                            \n",
            "                                                                 \n",
            " conv2d_85 (Conv2D)          (None, 19, 19, 64)        9280      \n",
            "                                                                 \n",
            " conv2d_86 (Conv2D)          (None, 17, 17, 16)        9232      \n",
            "                                                                 \n",
            " max_pooling2d_44 (MaxPoolin  (None, 8, 8, 16)         0         \n",
            " g2D)                                                            \n",
            "                                                                 \n",
            " flatten_14 (Flatten)        (None, 1024)              0         \n",
            "                                                                 \n",
            " dense_42 (Dense)            (None, 256)               262400    \n",
            "                                                                 \n",
            " dropout_28 (Dropout)        (None, 256)               0         \n",
            "                                                                 \n",
            " dense_43 (Dense)            (None, 128)               32896     \n",
            "                                                                 \n",
            " dropout_29 (Dropout)        (None, 128)               0         \n",
            "                                                                 \n",
            " dense_44 (Dense)            (None, 2)                 258       \n",
            "                                                                 \n",
            "=================================================================\n",
            "Total params: 326,098\n",
            "Trainable params: 326,098\n",
            "Non-trainable params: 0\n",
            "_________________________________________________________________\n"
          ]
        }
      ],
      "source": [
        "# Building the Convolutonal Nueral Network Model 1.2.1 (Version 2)\n",
        "\n",
        "# Setting up the output with the right size\n",
        "input = Input(shape=(96,96,3))\n",
        "\n",
        "# Relu activation functions only, with softmax activation function for the last Dense layer\n",
        "x = Conv2D(16, (3,3), activation='relu', padding='valid')(input)\n",
        "x = Conv2D(16, (3,3), activation='relu', padding='valid')(x)\n",
        "x = MaxPool2D(pool_size=(2,2), strides=(2,2))(x)\n",
        "x = Conv2D(32, (3,3), activation='relu', padding='valid')(x)\n",
        "x = Conv2D(16, (3,3), activation='relu', padding='valid')(x)\n",
        "x = MaxPool2D(pool_size=(2,2), strides=(2,2))(x)\n",
        "x = Conv2D(64, (3,3), activation='relu', padding='valid')(x)\n",
        "x = Conv2D(16, (3,3), activation='relu', padding='valid')(x)\n",
        "x = MaxPool2D(pool_size=(2,2), strides=(2,2))(x)\n",
        "\n",
        "x = Flatten()(x)\n",
        "x = Dense(256, activation='relu')(x)\n",
        "x = Dropout(rate=0.3)(x)\n",
        "x = Dense(128, activation='relu')(x)\n",
        "x = Dropout(rate=0.2)(x)\n",
        "output = Dense(2, activation='softmax')(x)\n",
        "\n",
        "# Optimizer = sgd\n",
        "# Loss function =   MSE\n",
        "model_1_2_1_version_2 = Model(inputs=input, outputs = output)\n",
        "model_1_2_1_version_2.compile(optimizer='sgd', \n",
        "              loss='MSE',\n",
        "              metrics=['acc'])\n",
        "\n",
        "model_1_2_1_version_2.summary()\n",
        "#plot_model(model_1_2_1_version_2)"
      ]
    },
    {
      "cell_type": "code",
      "execution_count": 50,
      "metadata": {
        "colab": {
          "base_uri": "https://localhost:8080/"
        },
        "id": "etVke2-7AQNK",
        "outputId": "b90479fc-a3d7-46be-e0ef-858c72f62fa7"
      },
      "outputs": [
        {
          "name": "stdout",
          "output_type": "stream",
          "text": [
            "Model: \"model_15\"\n",
            "_________________________________________________________________\n",
            " Layer (type)                Output Shape              Param #   \n",
            "=================================================================\n",
            " input_16 (InputLayer)       [(None, 96, 96, 3)]       0         \n",
            "                                                                 \n",
            " conv2d_87 (Conv2D)          (None, 94, 94, 16)        448       \n",
            "                                                                 \n",
            " conv2d_88 (Conv2D)          (None, 92, 92, 16)        2320      \n",
            "                                                                 \n",
            " max_pooling2d_45 (MaxPoolin  (None, 46, 46, 16)       0         \n",
            " g2D)                                                            \n",
            "                                                                 \n",
            " conv2d_89 (Conv2D)          (None, 44, 44, 32)        4640      \n",
            "                                                                 \n",
            " conv2d_90 (Conv2D)          (None, 42, 42, 16)        4624      \n",
            "                                                                 \n",
            " max_pooling2d_46 (MaxPoolin  (None, 21, 21, 16)       0         \n",
            " g2D)                                                            \n",
            "                                                                 \n",
            " conv2d_91 (Conv2D)          (None, 19, 19, 64)        9280      \n",
            "                                                                 \n",
            " conv2d_92 (Conv2D)          (None, 17, 17, 16)        9232      \n",
            "                                                                 \n",
            " max_pooling2d_47 (MaxPoolin  (None, 8, 8, 16)         0         \n",
            " g2D)                                                            \n",
            "                                                                 \n",
            " flatten_15 (Flatten)        (None, 1024)              0         \n",
            "                                                                 \n",
            " dense_45 (Dense)            (None, 256)               262400    \n",
            "                                                                 \n",
            " dropout_30 (Dropout)        (None, 256)               0         \n",
            "                                                                 \n",
            " dense_46 (Dense)            (None, 128)               32896     \n",
            "                                                                 \n",
            " dropout_31 (Dropout)        (None, 128)               0         \n",
            "                                                                 \n",
            " dense_47 (Dense)            (None, 2)                 258       \n",
            "                                                                 \n",
            "=================================================================\n",
            "Total params: 326,098\n",
            "Trainable params: 326,098\n",
            "Non-trainable params: 0\n",
            "_________________________________________________________________\n"
          ]
        }
      ],
      "source": [
        "# Building the Convolutonal Nueral Network Model 1.2.2 (Version 2)\n",
        "\n",
        "# Setting up the output with the right size\n",
        "input = Input(shape=(96,96,3))\n",
        "\n",
        "# Relu activation functions only, with softmax activation function for the last Dense layer\n",
        "x = Conv2D(16, (3,3), activation='relu', padding='valid')(input)\n",
        "x = Conv2D(16, (3,3), activation='relu', padding='valid')(x)\n",
        "x = MaxPool2D(pool_size=(2,2), strides=(2,2))(x)\n",
        "x = Conv2D(32, (3,3), activation='relu', padding='valid')(x)\n",
        "x = Conv2D(16, (3,3), activation='relu', padding='valid')(x)\n",
        "x = MaxPool2D(pool_size=(2,2), strides=(2,2))(x)\n",
        "x = Conv2D(64, (3,3), activation='relu', padding='valid')(x)\n",
        "x = Conv2D(16, (3,3), activation='relu', padding='valid')(x)\n",
        "x = MaxPool2D(pool_size=(2,2), strides=(2,2))(x)\n",
        "\n",
        "x = Flatten()(x)\n",
        "x = Dense(256, activation='relu')(x)\n",
        "x = Dropout(rate=0.3)(x)\n",
        "x = Dense(128, activation='relu')(x)\n",
        "x = Dropout(rate=0.2)(x)\n",
        "output = Dense(2, activation='softmax')(x)\n",
        "\n",
        "# Optimizer = adagrad\n",
        "# Loss function =   MSE\n",
        "model_1_2_2_version_2 = Model(inputs=input, outputs = output)\n",
        "model_1_2_2_version_2.compile(optimizer='adagrad', \n",
        "              loss='MSE',\n",
        "              metrics=['acc'])\n",
        "\n",
        "model_1_2_2_version_2.summary()\n",
        "#plot_model(model_1_2_2_version_2)"
      ]
    },
    {
      "cell_type": "code",
      "execution_count": 51,
      "metadata": {
        "colab": {
          "base_uri": "https://localhost:8080/"
        },
        "id": "obDwCNIJAQHe",
        "outputId": "d253e11a-ebde-47f5-8a78-a61c578424bb"
      },
      "outputs": [
        {
          "name": "stdout",
          "output_type": "stream",
          "text": [
            "Model: \"model_16\"\n",
            "_________________________________________________________________\n",
            " Layer (type)                Output Shape              Param #   \n",
            "=================================================================\n",
            " input_17 (InputLayer)       [(None, 96, 96, 3)]       0         \n",
            "                                                                 \n",
            " conv2d_93 (Conv2D)          (None, 94, 94, 16)        448       \n",
            "                                                                 \n",
            " conv2d_94 (Conv2D)          (None, 92, 92, 16)        2320      \n",
            "                                                                 \n",
            " max_pooling2d_48 (MaxPoolin  (None, 46, 46, 16)       0         \n",
            " g2D)                                                            \n",
            "                                                                 \n",
            " conv2d_95 (Conv2D)          (None, 44, 44, 32)        4640      \n",
            "                                                                 \n",
            " conv2d_96 (Conv2D)          (None, 42, 42, 16)        4624      \n",
            "                                                                 \n",
            " max_pooling2d_49 (MaxPoolin  (None, 21, 21, 16)       0         \n",
            " g2D)                                                            \n",
            "                                                                 \n",
            " conv2d_97 (Conv2D)          (None, 19, 19, 64)        9280      \n",
            "                                                                 \n",
            " conv2d_98 (Conv2D)          (None, 17, 17, 16)        9232      \n",
            "                                                                 \n",
            " max_pooling2d_50 (MaxPoolin  (None, 8, 8, 16)         0         \n",
            " g2D)                                                            \n",
            "                                                                 \n",
            " flatten_16 (Flatten)        (None, 1024)              0         \n",
            "                                                                 \n",
            " dense_48 (Dense)            (None, 256)               262400    \n",
            "                                                                 \n",
            " dropout_32 (Dropout)        (None, 256)               0         \n",
            "                                                                 \n",
            " dense_49 (Dense)            (None, 128)               32896     \n",
            "                                                                 \n",
            " dropout_33 (Dropout)        (None, 128)               0         \n",
            "                                                                 \n",
            " dense_50 (Dense)            (None, 2)                 258       \n",
            "                                                                 \n",
            "=================================================================\n",
            "Total params: 326,098\n",
            "Trainable params: 326,098\n",
            "Non-trainable params: 0\n",
            "_________________________________________________________________\n"
          ]
        }
      ],
      "source": [
        "# Building the Convolutonal Nueral Network Model 1.2.3 (Version 2)\n",
        "\n",
        "# Setting up the output with the right size\n",
        "input = Input(shape=(96,96,3))\n",
        "\n",
        "# Relu activation functions only, with softmax activation function for the last Dense layer\n",
        "x = Conv2D(16, (3,3), activation='relu', padding='valid')(input)\n",
        "x = Conv2D(16, (3,3), activation='relu', padding='valid')(x)\n",
        "x = MaxPool2D(pool_size=(2,2), strides=(2,2))(x)\n",
        "x = Conv2D(32, (3,3), activation='relu', padding='valid')(x)\n",
        "x = Conv2D(16, (3,3), activation='relu', padding='valid')(x)\n",
        "x = MaxPool2D(pool_size=(2,2), strides=(2,2))(x)\n",
        "x = Conv2D(64, (3,3), activation='relu', padding='valid')(x)\n",
        "x = Conv2D(16, (3,3), activation='relu', padding='valid')(x)\n",
        "x = MaxPool2D(pool_size=(2,2), strides=(2,2))(x)\n",
        "\n",
        "x = Flatten()(x)\n",
        "x = Dense(256, activation='relu')(x)\n",
        "x = Dropout(rate=0.3)(x)\n",
        "x = Dense(128, activation='relu')(x)\n",
        "x = Dropout(rate=0.2)(x)\n",
        "output = Dense(2, activation='softmax')(x)\n",
        "\n",
        "# Optimizer = RMSprop\n",
        "# Loss function =   MSE\n",
        "model_1_2_3_version_2 = Model(inputs=input, outputs = output)\n",
        "model_1_2_3_version_2.compile(optimizer='RMSprop', \n",
        "              loss='MSE',\n",
        "              metrics=['acc'])\n",
        "\n",
        "model_1_2_3_version_2.summary()\n",
        "#plot_model(model_1_2_3_version_2)"
      ]
    },
    {
      "cell_type": "code",
      "execution_count": 52,
      "metadata": {
        "colab": {
          "base_uri": "https://localhost:8080/"
        },
        "id": "SpcCLchAAP_X",
        "outputId": "e796182a-6302-4df6-9276-4c6bbff580a1"
      },
      "outputs": [
        {
          "name": "stdout",
          "output_type": "stream",
          "text": [
            "Model: \"model_17\"\n",
            "_________________________________________________________________\n",
            " Layer (type)                Output Shape              Param #   \n",
            "=================================================================\n",
            " input_18 (InputLayer)       [(None, 96, 96, 3)]       0         \n",
            "                                                                 \n",
            " conv2d_99 (Conv2D)          (None, 94, 94, 16)        448       \n",
            "                                                                 \n",
            " conv2d_100 (Conv2D)         (None, 92, 92, 16)        2320      \n",
            "                                                                 \n",
            " max_pooling2d_51 (MaxPoolin  (None, 46, 46, 16)       0         \n",
            " g2D)                                                            \n",
            "                                                                 \n",
            " conv2d_101 (Conv2D)         (None, 44, 44, 32)        4640      \n",
            "                                                                 \n",
            " conv2d_102 (Conv2D)         (None, 42, 42, 16)        4624      \n",
            "                                                                 \n",
            " max_pooling2d_52 (MaxPoolin  (None, 21, 21, 16)       0         \n",
            " g2D)                                                            \n",
            "                                                                 \n",
            " conv2d_103 (Conv2D)         (None, 19, 19, 64)        9280      \n",
            "                                                                 \n",
            " conv2d_104 (Conv2D)         (None, 17, 17, 16)        9232      \n",
            "                                                                 \n",
            " max_pooling2d_53 (MaxPoolin  (None, 8, 8, 16)         0         \n",
            " g2D)                                                            \n",
            "                                                                 \n",
            " flatten_17 (Flatten)        (None, 1024)              0         \n",
            "                                                                 \n",
            " dense_51 (Dense)            (None, 256)               262400    \n",
            "                                                                 \n",
            " dropout_34 (Dropout)        (None, 256)               0         \n",
            "                                                                 \n",
            " dense_52 (Dense)            (None, 128)               32896     \n",
            "                                                                 \n",
            " dropout_35 (Dropout)        (None, 128)               0         \n",
            "                                                                 \n",
            " dense_53 (Dense)            (None, 2)                 258       \n",
            "                                                                 \n",
            "=================================================================\n",
            "Total params: 326,098\n",
            "Trainable params: 326,098\n",
            "Non-trainable params: 0\n",
            "_________________________________________________________________\n"
          ]
        }
      ],
      "source": [
        "# Building the Convolutonal Nueral Network Model 2.1.1 (Version 2)\n",
        "\n",
        "# Setting up the output with the right size\n",
        "input = Input(shape=(96,96,3))\n",
        "\n",
        "# Sigmoid activation functions only with softmax for the last Dense layer\n",
        "\n",
        "x = Conv2D(16, (3,3), activation='sigmoid', padding='valid')(input)\n",
        "x = Conv2D(16, (3,3), activation='sigmoid', padding='valid')(x)\n",
        "x = MaxPool2D(pool_size=(2,2), strides=(2,2))(x)\n",
        "x = Conv2D(32, (3,3), activation='sigmoid', padding='valid')(x)\n",
        "x = Conv2D(16, (3,3), activation='sigmoid', padding='valid')(x)\n",
        "x = MaxPool2D(pool_size=(2,2), strides=(2,2))(x)\n",
        "x = Conv2D(64, (3,3), activation='sigmoid', padding='valid')(x)\n",
        "x = Conv2D(16, (3,3), activation='sigmoid', padding='valid')(x)\n",
        "x = MaxPool2D(pool_size=(2,2), strides=(2,2))(x)\n",
        "x = Flatten()(x)\n",
        "x = Dense(256, activation='sigmoid')(x)\n",
        "x = Dropout(rate=0.3)(x)\n",
        "x = Dense(128, activation='sigmoid')(x)\n",
        "x = Dropout(rate=0.2)(x)\n",
        "output = Dense(2, activation='softmax')(x)\n",
        "\n",
        "# Optimizer = sgd\n",
        "# Loss function = hinge\n",
        "model_2_1_1_version_2 = Model(inputs=input, outputs = output)\n",
        "model_2_1_1_version_2.compile(optimizer='sgd', \n",
        "              loss=tf.keras.losses.Hinge(),\n",
        "              metrics=['acc'])\n",
        "\n",
        "model_2_1_1_version_2.summary()\n",
        "#plot_model(model_2_1_1_version_2)"
      ]
    },
    {
      "cell_type": "code",
      "execution_count": 53,
      "metadata": {
        "colab": {
          "base_uri": "https://localhost:8080/"
        },
        "id": "Tmh-dlb_AP51",
        "outputId": "de7cd6e5-77a0-4120-e8e8-ded04b1a695a"
      },
      "outputs": [
        {
          "name": "stdout",
          "output_type": "stream",
          "text": [
            "Model: \"model_18\"\n",
            "_________________________________________________________________\n",
            " Layer (type)                Output Shape              Param #   \n",
            "=================================================================\n",
            " input_19 (InputLayer)       [(None, 96, 96, 3)]       0         \n",
            "                                                                 \n",
            " conv2d_105 (Conv2D)         (None, 94, 94, 16)        448       \n",
            "                                                                 \n",
            " conv2d_106 (Conv2D)         (None, 92, 92, 16)        2320      \n",
            "                                                                 \n",
            " max_pooling2d_54 (MaxPoolin  (None, 46, 46, 16)       0         \n",
            " g2D)                                                            \n",
            "                                                                 \n",
            " conv2d_107 (Conv2D)         (None, 44, 44, 32)        4640      \n",
            "                                                                 \n",
            " conv2d_108 (Conv2D)         (None, 42, 42, 16)        4624      \n",
            "                                                                 \n",
            " max_pooling2d_55 (MaxPoolin  (None, 21, 21, 16)       0         \n",
            " g2D)                                                            \n",
            "                                                                 \n",
            " conv2d_109 (Conv2D)         (None, 19, 19, 64)        9280      \n",
            "                                                                 \n",
            " conv2d_110 (Conv2D)         (None, 17, 17, 16)        9232      \n",
            "                                                                 \n",
            " max_pooling2d_56 (MaxPoolin  (None, 8, 8, 16)         0         \n",
            " g2D)                                                            \n",
            "                                                                 \n",
            " flatten_18 (Flatten)        (None, 1024)              0         \n",
            "                                                                 \n",
            " dense_54 (Dense)            (None, 256)               262400    \n",
            "                                                                 \n",
            " dropout_36 (Dropout)        (None, 256)               0         \n",
            "                                                                 \n",
            " dense_55 (Dense)            (None, 128)               32896     \n",
            "                                                                 \n",
            " dropout_37 (Dropout)        (None, 128)               0         \n",
            "                                                                 \n",
            " dense_56 (Dense)            (None, 2)                 258       \n",
            "                                                                 \n",
            "=================================================================\n",
            "Total params: 326,098\n",
            "Trainable params: 326,098\n",
            "Non-trainable params: 0\n",
            "_________________________________________________________________\n"
          ]
        }
      ],
      "source": [
        "# Building the Convolutonal Nueral Network Model 2.1.2 (Version 2)\n",
        "\n",
        "# Setting up the output with the right size\n",
        "input = Input(shape=(96,96,3))\n",
        "\n",
        "# Sigmoid activation functions only with softmax for the last Dense layer\n",
        "\n",
        "x = Conv2D(16, (3,3), activation='sigmoid', padding='valid')(input)\n",
        "x = Conv2D(16, (3,3), activation='sigmoid', padding='valid')(x)\n",
        "x = MaxPool2D(pool_size=(2,2), strides=(2,2))(x)\n",
        "x = Conv2D(32, (3,3), activation='sigmoid', padding='valid')(x)\n",
        "x = Conv2D(16, (3,3), activation='sigmoid', padding='valid')(x)\n",
        "x = MaxPool2D(pool_size=(2,2), strides=(2,2))(x)\n",
        "x = Conv2D(64, (3,3), activation='sigmoid', padding='valid')(x)\n",
        "x = Conv2D(16, (3,3), activation='sigmoid', padding='valid')(x)\n",
        "x = MaxPool2D(pool_size=(2,2), strides=(2,2))(x)\n",
        "x = Flatten()(x)\n",
        "x = Dense(256, activation='sigmoid')(x)\n",
        "x = Dropout(rate=0.3)(x)\n",
        "x = Dense(128, activation='sigmoid')(x)\n",
        "x = Dropout(rate=0.2)(x)\n",
        "output = Dense(2, activation='softmax')(x)\n",
        "\n",
        "# Optimizer = adagrad\n",
        "# Loss function = hinge\n",
        "model_2_1_2_version_2 = Model(inputs=input, outputs = output)\n",
        "model_2_1_2_version_2.compile(optimizer='adagrad', \n",
        "              loss=tf.keras.losses.Hinge(),\n",
        "              metrics=['acc'])\n",
        "\n",
        "model_2_1_2_version_2.summary()\n",
        "#plot_model(model_2_1_2_version_2)"
      ]
    },
    {
      "cell_type": "code",
      "execution_count": 54,
      "metadata": {
        "colab": {
          "base_uri": "https://localhost:8080/"
        },
        "id": "W85stPFwAPyu",
        "outputId": "599e25c9-2a3d-4a7f-cf46-b733c0d40d7d"
      },
      "outputs": [
        {
          "name": "stdout",
          "output_type": "stream",
          "text": [
            "Model: \"model_19\"\n",
            "_________________________________________________________________\n",
            " Layer (type)                Output Shape              Param #   \n",
            "=================================================================\n",
            " input_20 (InputLayer)       [(None, 96, 96, 3)]       0         \n",
            "                                                                 \n",
            " conv2d_111 (Conv2D)         (None, 94, 94, 16)        448       \n",
            "                                                                 \n",
            " conv2d_112 (Conv2D)         (None, 92, 92, 16)        2320      \n",
            "                                                                 \n",
            " max_pooling2d_57 (MaxPoolin  (None, 46, 46, 16)       0         \n",
            " g2D)                                                            \n",
            "                                                                 \n",
            " conv2d_113 (Conv2D)         (None, 44, 44, 32)        4640      \n",
            "                                                                 \n",
            " conv2d_114 (Conv2D)         (None, 42, 42, 16)        4624      \n",
            "                                                                 \n",
            " max_pooling2d_58 (MaxPoolin  (None, 21, 21, 16)       0         \n",
            " g2D)                                                            \n",
            "                                                                 \n",
            " conv2d_115 (Conv2D)         (None, 19, 19, 64)        9280      \n",
            "                                                                 \n",
            " conv2d_116 (Conv2D)         (None, 17, 17, 16)        9232      \n",
            "                                                                 \n",
            " max_pooling2d_59 (MaxPoolin  (None, 8, 8, 16)         0         \n",
            " g2D)                                                            \n",
            "                                                                 \n",
            " flatten_19 (Flatten)        (None, 1024)              0         \n",
            "                                                                 \n",
            " dense_57 (Dense)            (None, 256)               262400    \n",
            "                                                                 \n",
            " dropout_38 (Dropout)        (None, 256)               0         \n",
            "                                                                 \n",
            " dense_58 (Dense)            (None, 128)               32896     \n",
            "                                                                 \n",
            " dropout_39 (Dropout)        (None, 128)               0         \n",
            "                                                                 \n",
            " dense_59 (Dense)            (None, 2)                 258       \n",
            "                                                                 \n",
            "=================================================================\n",
            "Total params: 326,098\n",
            "Trainable params: 326,098\n",
            "Non-trainable params: 0\n",
            "_________________________________________________________________\n"
          ]
        }
      ],
      "source": [
        "# Building the Convolutonal Nueral Network Model 2.1.3 (Version 2)\n",
        "\n",
        "# Setting up the output with the right size\n",
        "input = Input(shape=(96,96,3))\n",
        "\n",
        "# Sigmoid activation functions only with softmax for the last Dense layer\n",
        "\n",
        "x = Conv2D(16, (3,3), activation='sigmoid', padding='valid')(input)\n",
        "x = Conv2D(16, (3,3), activation='sigmoid', padding='valid')(x)\n",
        "x = MaxPool2D(pool_size=(2,2), strides=(2,2))(x)\n",
        "x = Conv2D(32, (3,3), activation='sigmoid', padding='valid')(x)\n",
        "x = Conv2D(16, (3,3), activation='sigmoid', padding='valid')(x)\n",
        "x = MaxPool2D(pool_size=(2,2), strides=(2,2))(x)\n",
        "x = Conv2D(64, (3,3), activation='sigmoid', padding='valid')(x)\n",
        "x = Conv2D(16, (3,3), activation='sigmoid', padding='valid')(x)\n",
        "x = MaxPool2D(pool_size=(2,2), strides=(2,2))(x)\n",
        "x = Flatten()(x)\n",
        "x = Dense(256, activation='sigmoid')(x)\n",
        "x = Dropout(rate=0.3)(x)\n",
        "x = Dense(128, activation='sigmoid')(x)\n",
        "x = Dropout(rate=0.2)(x)\n",
        "output = Dense(2, activation='softmax')(x)\n",
        "\n",
        "# Optimizer = RMSprop\n",
        "# Loss function = hinge\n",
        "model_2_1_3_version_2 = Model(inputs=input, outputs = output)\n",
        "model_2_1_3_version_2.compile(optimizer='RMSprop', \n",
        "              loss=tf.keras.losses.Hinge(),\n",
        "              metrics=['acc'])\n",
        "\n",
        "model_2_1_3_version_2.summary()\n",
        "#plot_model(model_2_1_3_version_2)"
      ]
    },
    {
      "cell_type": "code",
      "execution_count": 55,
      "metadata": {
        "colab": {
          "base_uri": "https://localhost:8080/"
        },
        "id": "zi7k_tNuAPgR",
        "outputId": "4614c5bc-86fd-4186-9aad-ddea3e316cf4"
      },
      "outputs": [
        {
          "name": "stdout",
          "output_type": "stream",
          "text": [
            "Model: \"model_20\"\n",
            "_________________________________________________________________\n",
            " Layer (type)                Output Shape              Param #   \n",
            "=================================================================\n",
            " input_21 (InputLayer)       [(None, 96, 96, 3)]       0         \n",
            "                                                                 \n",
            " conv2d_117 (Conv2D)         (None, 94, 94, 16)        448       \n",
            "                                                                 \n",
            " conv2d_118 (Conv2D)         (None, 92, 92, 16)        2320      \n",
            "                                                                 \n",
            " max_pooling2d_60 (MaxPoolin  (None, 46, 46, 16)       0         \n",
            " g2D)                                                            \n",
            "                                                                 \n",
            " conv2d_119 (Conv2D)         (None, 44, 44, 32)        4640      \n",
            "                                                                 \n",
            " conv2d_120 (Conv2D)         (None, 42, 42, 16)        4624      \n",
            "                                                                 \n",
            " max_pooling2d_61 (MaxPoolin  (None, 21, 21, 16)       0         \n",
            " g2D)                                                            \n",
            "                                                                 \n",
            " conv2d_121 (Conv2D)         (None, 19, 19, 64)        9280      \n",
            "                                                                 \n",
            " conv2d_122 (Conv2D)         (None, 17, 17, 16)        9232      \n",
            "                                                                 \n",
            " max_pooling2d_62 (MaxPoolin  (None, 8, 8, 16)         0         \n",
            " g2D)                                                            \n",
            "                                                                 \n",
            " flatten_20 (Flatten)        (None, 1024)              0         \n",
            "                                                                 \n",
            " dense_60 (Dense)            (None, 256)               262400    \n",
            "                                                                 \n",
            " dropout_40 (Dropout)        (None, 256)               0         \n",
            "                                                                 \n",
            " dense_61 (Dense)            (None, 128)               32896     \n",
            "                                                                 \n",
            " dropout_41 (Dropout)        (None, 128)               0         \n",
            "                                                                 \n",
            " dense_62 (Dense)            (None, 2)                 258       \n",
            "                                                                 \n",
            "=================================================================\n",
            "Total params: 326,098\n",
            "Trainable params: 326,098\n",
            "Non-trainable params: 0\n",
            "_________________________________________________________________\n"
          ]
        }
      ],
      "source": [
        "# Building the Convolutonal Nueral Network Model 2.2.1 (Version 2)\n",
        "\n",
        "# Setting up the output with the right size\n",
        "input = Input(shape=(96,96,3))\n",
        "\n",
        "# Sigmoid activation functions only with softmax for the last Dense layer\n",
        "\n",
        "x = Conv2D(16, (3,3), activation='sigmoid', padding='valid')(input)\n",
        "x = Conv2D(16, (3,3), activation='sigmoid', padding='valid')(x)\n",
        "x = MaxPool2D(pool_size=(2,2), strides=(2,2))(x)\n",
        "x = Conv2D(32, (3,3), activation='sigmoid', padding='valid')(x)\n",
        "x = Conv2D(16, (3,3), activation='sigmoid', padding='valid')(x)\n",
        "x = MaxPool2D(pool_size=(2,2), strides=(2,2))(x)\n",
        "x = Conv2D(64, (3,3), activation='sigmoid', padding='valid')(x)\n",
        "x = Conv2D(16, (3,3), activation='sigmoid', padding='valid')(x)\n",
        "x = MaxPool2D(pool_size=(2,2), strides=(2,2))(x)\n",
        "\n",
        "x = Flatten()(x)\n",
        "x = Dense(256, activation='sigmoid')(x)\n",
        "x = Dropout(rate=0.3)(x)\n",
        "x = Dense(128, activation='sigmoid')(x)\n",
        "x = Dropout(rate=0.2)(x)\n",
        "output = Dense(2, activation='softmax')(x)\n",
        "\n",
        "# Optimizer = sgd\n",
        "# Loss function = MSE\n",
        "model_2_2_1_version_2 = Model(inputs=input, outputs = output)\n",
        "model_2_2_1_version_2.compile(optimizer='sgd', \n",
        "              loss='MSE',\n",
        "              metrics=['acc'])\n",
        "\n",
        "model_2_2_1_version_2.summary()\n",
        "#plot_model(model_2_2_1_version_2)"
      ]
    },
    {
      "cell_type": "code",
      "execution_count": 56,
      "metadata": {
        "colab": {
          "base_uri": "https://localhost:8080/"
        },
        "id": "mazp_uUTAPTT",
        "outputId": "abb95bd6-b52f-4b67-b90c-23a1bd8d33da"
      },
      "outputs": [
        {
          "name": "stdout",
          "output_type": "stream",
          "text": [
            "Model: \"model_21\"\n",
            "_________________________________________________________________\n",
            " Layer (type)                Output Shape              Param #   \n",
            "=================================================================\n",
            " input_22 (InputLayer)       [(None, 96, 96, 3)]       0         \n",
            "                                                                 \n",
            " conv2d_123 (Conv2D)         (None, 94, 94, 16)        448       \n",
            "                                                                 \n",
            " conv2d_124 (Conv2D)         (None, 92, 92, 16)        2320      \n",
            "                                                                 \n",
            " max_pooling2d_63 (MaxPoolin  (None, 46, 46, 16)       0         \n",
            " g2D)                                                            \n",
            "                                                                 \n",
            " conv2d_125 (Conv2D)         (None, 44, 44, 32)        4640      \n",
            "                                                                 \n",
            " conv2d_126 (Conv2D)         (None, 42, 42, 16)        4624      \n",
            "                                                                 \n",
            " max_pooling2d_64 (MaxPoolin  (None, 21, 21, 16)       0         \n",
            " g2D)                                                            \n",
            "                                                                 \n",
            " conv2d_127 (Conv2D)         (None, 19, 19, 64)        9280      \n",
            "                                                                 \n",
            " conv2d_128 (Conv2D)         (None, 17, 17, 16)        9232      \n",
            "                                                                 \n",
            " max_pooling2d_65 (MaxPoolin  (None, 8, 8, 16)         0         \n",
            " g2D)                                                            \n",
            "                                                                 \n",
            " flatten_21 (Flatten)        (None, 1024)              0         \n",
            "                                                                 \n",
            " dense_63 (Dense)            (None, 256)               262400    \n",
            "                                                                 \n",
            " dropout_42 (Dropout)        (None, 256)               0         \n",
            "                                                                 \n",
            " dense_64 (Dense)            (None, 128)               32896     \n",
            "                                                                 \n",
            " dropout_43 (Dropout)        (None, 128)               0         \n",
            "                                                                 \n",
            " dense_65 (Dense)            (None, 2)                 258       \n",
            "                                                                 \n",
            "=================================================================\n",
            "Total params: 326,098\n",
            "Trainable params: 326,098\n",
            "Non-trainable params: 0\n",
            "_________________________________________________________________\n"
          ]
        }
      ],
      "source": [
        "# Building the Convolutonal Nueral Network Model 2.2.2 (Version 2)\n",
        "\n",
        "# Setting up the output with the right size\n",
        "input = Input(shape=(96,96,3))\n",
        "\n",
        "# Sigmoid activation functions only with softmax for the last Dense layer\n",
        "\n",
        "x = Conv2D(16, (3,3), activation='sigmoid', padding='valid')(input)\n",
        "x = Conv2D(16, (3,3), activation='sigmoid', padding='valid')(x)\n",
        "x = MaxPool2D(pool_size=(2,2), strides=(2,2))(x)\n",
        "x = Conv2D(32, (3,3), activation='sigmoid', padding='valid')(x)\n",
        "x = Conv2D(16, (3,3), activation='sigmoid', padding='valid')(x)\n",
        "x = MaxPool2D(pool_size=(2,2), strides=(2,2))(x)\n",
        "x = Conv2D(64, (3,3), activation='sigmoid', padding='valid')(x)\n",
        "x = Conv2D(16, (3,3), activation='sigmoid', padding='valid')(x)\n",
        "x = MaxPool2D(pool_size=(2,2), strides=(2,2))(x)\n",
        "\n",
        "x = Flatten()(x)\n",
        "x = Dense(256, activation='sigmoid')(x)\n",
        "x = Dropout(rate=0.3)(x)\n",
        "x = Dense(128, activation='sigmoid')(x)\n",
        "x = Dropout(rate=0.2)(x)\n",
        "output = Dense(2, activation='softmax')(x)\n",
        "\n",
        "# Optimizer = adagrad\n",
        "# Loss function = MSE\n",
        "model_2_2_2_version_2 = Model(inputs=input, outputs = output)\n",
        "model_2_2_2_version_2.compile(optimizer='adagrad', \n",
        "              loss='MSE',\n",
        "              metrics=['acc'])\n",
        "\n",
        "model_2_2_2_version_2.summary()\n",
        "#plot_model(model_2_2_2_version_2)"
      ]
    },
    {
      "cell_type": "code",
      "execution_count": 57,
      "metadata": {
        "colab": {
          "base_uri": "https://localhost:8080/"
        },
        "id": "qgfWxxtYAPP9",
        "outputId": "6f911aa8-6bd1-49da-90fe-dffe87adc69d"
      },
      "outputs": [
        {
          "name": "stdout",
          "output_type": "stream",
          "text": [
            "Model: \"model_22\"\n",
            "_________________________________________________________________\n",
            " Layer (type)                Output Shape              Param #   \n",
            "=================================================================\n",
            " input_23 (InputLayer)       [(None, 96, 96, 3)]       0         \n",
            "                                                                 \n",
            " conv2d_129 (Conv2D)         (None, 94, 94, 16)        448       \n",
            "                                                                 \n",
            " conv2d_130 (Conv2D)         (None, 92, 92, 16)        2320      \n",
            "                                                                 \n",
            " max_pooling2d_66 (MaxPoolin  (None, 46, 46, 16)       0         \n",
            " g2D)                                                            \n",
            "                                                                 \n",
            " conv2d_131 (Conv2D)         (None, 44, 44, 32)        4640      \n",
            "                                                                 \n",
            " conv2d_132 (Conv2D)         (None, 42, 42, 16)        4624      \n",
            "                                                                 \n",
            " max_pooling2d_67 (MaxPoolin  (None, 21, 21, 16)       0         \n",
            " g2D)                                                            \n",
            "                                                                 \n",
            " conv2d_133 (Conv2D)         (None, 19, 19, 64)        9280      \n",
            "                                                                 \n",
            " conv2d_134 (Conv2D)         (None, 17, 17, 16)        9232      \n",
            "                                                                 \n",
            " max_pooling2d_68 (MaxPoolin  (None, 8, 8, 16)         0         \n",
            " g2D)                                                            \n",
            "                                                                 \n",
            " flatten_22 (Flatten)        (None, 1024)              0         \n",
            "                                                                 \n",
            " dense_66 (Dense)            (None, 256)               262400    \n",
            "                                                                 \n",
            " dropout_44 (Dropout)        (None, 256)               0         \n",
            "                                                                 \n",
            " dense_67 (Dense)            (None, 128)               32896     \n",
            "                                                                 \n",
            " dropout_45 (Dropout)        (None, 128)               0         \n",
            "                                                                 \n",
            " dense_68 (Dense)            (None, 2)                 258       \n",
            "                                                                 \n",
            "=================================================================\n",
            "Total params: 326,098\n",
            "Trainable params: 326,098\n",
            "Non-trainable params: 0\n",
            "_________________________________________________________________\n"
          ]
        }
      ],
      "source": [
        "# Building the Convolutonal Nueral Network Model 2.2.3 (Version 2)\n",
        "\n",
        "# Setting up the output with the right size\n",
        "input = Input(shape=(96,96,3))\n",
        "\n",
        "# Sigmoid activation functions only with softmax for the last Dense layer\n",
        "\n",
        "x = Conv2D(16, (3,3), activation='sigmoid', padding='valid')(input)\n",
        "x = Conv2D(16, (3,3), activation='sigmoid', padding='valid')(x)\n",
        "x = MaxPool2D(pool_size=(2,2), strides=(2,2))(x)\n",
        "x = Conv2D(32, (3,3), activation='sigmoid', padding='valid')(x)\n",
        "x = Conv2D(16, (3,3), activation='sigmoid', padding='valid')(x)\n",
        "x = MaxPool2D(pool_size=(2,2), strides=(2,2))(x)\n",
        "x = Conv2D(64, (3,3), activation='sigmoid', padding='valid')(x)\n",
        "x = Conv2D(16, (3,3), activation='sigmoid', padding='valid')(x)\n",
        "x = MaxPool2D(pool_size=(2,2), strides=(2,2))(x)\n",
        "\n",
        "x = Flatten()(x)\n",
        "x = Dense(256, activation='sigmoid')(x)\n",
        "x = Dropout(rate=0.3)(x)\n",
        "x = Dense(128, activation='sigmoid')(x)\n",
        "x = Dropout(rate=0.2)(x)\n",
        "output = Dense(2, activation='softmax')(x)\n",
        "\n",
        "# Optimizer = RMSprop\n",
        "# Loss function = MSE\n",
        "model_2_2_3_version_2 = Model(inputs=input, outputs = output)\n",
        "model_2_2_3_version_2.compile(optimizer='RMSprop', \n",
        "              loss='MSE',\n",
        "              metrics=['acc'])\n",
        "\n",
        "model_2_2_3_version_2.summary()\n",
        "#plot_model(model_2_2_3_version_2)"
      ]
    },
    {
      "cell_type": "code",
      "execution_count": 58,
      "metadata": {
        "colab": {
          "base_uri": "https://localhost:8080/"
        },
        "id": "Vc_ffNDRAO1m",
        "outputId": "12fa1825-1932-4fd4-8bb3-c06162f6e5c0"
      },
      "outputs": [
        {
          "name": "stdout",
          "output_type": "stream",
          "text": [
            "Model: \"model_23\"\n",
            "_________________________________________________________________\n",
            " Layer (type)                Output Shape              Param #   \n",
            "=================================================================\n",
            " input_24 (InputLayer)       [(None, 96, 96, 3)]       0         \n",
            "                                                                 \n",
            " conv2d_135 (Conv2D)         (None, 94, 94, 16)        448       \n",
            "                                                                 \n",
            " conv2d_136 (Conv2D)         (None, 92, 92, 16)        2320      \n",
            "                                                                 \n",
            " max_pooling2d_69 (MaxPoolin  (None, 46, 46, 16)       0         \n",
            " g2D)                                                            \n",
            "                                                                 \n",
            " conv2d_137 (Conv2D)         (None, 44, 44, 32)        4640      \n",
            "                                                                 \n",
            " conv2d_138 (Conv2D)         (None, 42, 42, 32)        9248      \n",
            "                                                                 \n",
            " max_pooling2d_70 (MaxPoolin  (None, 21, 21, 32)       0         \n",
            " g2D)                                                            \n",
            "                                                                 \n",
            " conv2d_139 (Conv2D)         (None, 19, 19, 64)        18496     \n",
            "                                                                 \n",
            " conv2d_140 (Conv2D)         (None, 17, 17, 16)        9232      \n",
            "                                                                 \n",
            " max_pooling2d_71 (MaxPoolin  (None, 8, 8, 16)         0         \n",
            " g2D)                                                            \n",
            "                                                                 \n",
            " flatten_23 (Flatten)        (None, 1024)              0         \n",
            "                                                                 \n",
            " dense_69 (Dense)            (None, 256)               262400    \n",
            "                                                                 \n",
            " dropout_46 (Dropout)        (None, 256)               0         \n",
            "                                                                 \n",
            " dense_70 (Dense)            (None, 128)               32896     \n",
            "                                                                 \n",
            " dropout_47 (Dropout)        (None, 128)               0         \n",
            "                                                                 \n",
            " dense_71 (Dense)            (None, 2)                 258       \n",
            "                                                                 \n",
            "=================================================================\n",
            "Total params: 339,938\n",
            "Trainable params: 339,938\n",
            "Non-trainable params: 0\n",
            "_________________________________________________________________\n"
          ]
        }
      ],
      "source": [
        "# Building the Convolutonal Neural Network Model 3.1.1 (Version 2)\n",
        "\n",
        "# Setting up the output with the right size\n",
        "input = Input(shape=(96,96,3))\n",
        "\n",
        "# A conbination of relu and sigmoid activation functions\n",
        "x = Conv2D(16, (3,3), activation='sigmoid', padding='valid')(input)\n",
        "x = Conv2D(16, (3,3), activation='sigmoid', padding='valid')(x)\n",
        "x = MaxPool2D(pool_size=(2,2), strides=(2,2))(x)\n",
        "x = Conv2D(32, (3,3), activation='relu', padding='valid')(x)\n",
        "x = Conv2D(32, (3,3), activation='relu', padding='valid')(x)\n",
        "x = MaxPool2D(pool_size=(2,2), strides=(2,2))(x)\n",
        "x = Conv2D(64, (3,3), activation='sigmoid', padding='valid')(x)\n",
        "x = Conv2D(16, (3,3), activation='sigmoid', padding='valid')(x)\n",
        "x = MaxPool2D(pool_size=(2,2), strides=(2,2))(x)\n",
        "\n",
        "x = Flatten()(x)\n",
        "x = Dense(256, activation='relu')(x)\n",
        "x = Dropout(rate=0.3)(x)\n",
        "x = Dense(128, activation='sigmoid')(x)\n",
        "x = Dropout(rate=0.2)(x)\n",
        "output = Dense(2, activation='softmax')(x)\n",
        "\n",
        "# Optimizer = sgd\n",
        "# Loss function = hinge\n",
        "model_3_1_1_version_2 = Model(inputs=input, outputs = output)\n",
        "model_3_1_1_version_2.compile(optimizer='sgd', \n",
        "              loss=tf.keras.losses.Hinge(),\n",
        "              metrics=['acc'])\n",
        "\n",
        "model_3_1_1_version_2.summary()\n",
        "#plot_model(model_3_1_1_version_2)"
      ]
    },
    {
      "cell_type": "code",
      "execution_count": 59,
      "metadata": {
        "colab": {
          "base_uri": "https://localhost:8080/"
        },
        "id": "bpvNMUNFAOvQ",
        "outputId": "40a31e21-3821-449b-e7c3-f098c41a6466"
      },
      "outputs": [
        {
          "name": "stdout",
          "output_type": "stream",
          "text": [
            "Model: \"model_24\"\n",
            "_________________________________________________________________\n",
            " Layer (type)                Output Shape              Param #   \n",
            "=================================================================\n",
            " input_25 (InputLayer)       [(None, 96, 96, 3)]       0         \n",
            "                                                                 \n",
            " conv2d_141 (Conv2D)         (None, 94, 94, 16)        448       \n",
            "                                                                 \n",
            " conv2d_142 (Conv2D)         (None, 92, 92, 16)        2320      \n",
            "                                                                 \n",
            " max_pooling2d_72 (MaxPoolin  (None, 46, 46, 16)       0         \n",
            " g2D)                                                            \n",
            "                                                                 \n",
            " conv2d_143 (Conv2D)         (None, 44, 44, 32)        4640      \n",
            "                                                                 \n",
            " conv2d_144 (Conv2D)         (None, 42, 42, 32)        9248      \n",
            "                                                                 \n",
            " max_pooling2d_73 (MaxPoolin  (None, 21, 21, 32)       0         \n",
            " g2D)                                                            \n",
            "                                                                 \n",
            " conv2d_145 (Conv2D)         (None, 19, 19, 64)        18496     \n",
            "                                                                 \n",
            " conv2d_146 (Conv2D)         (None, 17, 17, 16)        9232      \n",
            "                                                                 \n",
            " max_pooling2d_74 (MaxPoolin  (None, 8, 8, 16)         0         \n",
            " g2D)                                                            \n",
            "                                                                 \n",
            " flatten_24 (Flatten)        (None, 1024)              0         \n",
            "                                                                 \n",
            " dense_72 (Dense)            (None, 256)               262400    \n",
            "                                                                 \n",
            " dropout_48 (Dropout)        (None, 256)               0         \n",
            "                                                                 \n",
            " dense_73 (Dense)            (None, 128)               32896     \n",
            "                                                                 \n",
            " dropout_49 (Dropout)        (None, 128)               0         \n",
            "                                                                 \n",
            " dense_74 (Dense)            (None, 2)                 258       \n",
            "                                                                 \n",
            "=================================================================\n",
            "Total params: 339,938\n",
            "Trainable params: 339,938\n",
            "Non-trainable params: 0\n",
            "_________________________________________________________________\n"
          ]
        }
      ],
      "source": [
        "# Building the Convolutonal Neural Network Model 3.1.2 (Version 2)\n",
        "\n",
        "# Setting up the output with the right size\n",
        "input = Input(shape=(96,96,3))\n",
        "\n",
        "# A conbination of relu and sigmoid activation functions\n",
        "x = Conv2D(16, (3,3), activation='sigmoid', padding='valid')(input)\n",
        "x = Conv2D(16, (3,3), activation='sigmoid', padding='valid')(x)\n",
        "x = MaxPool2D(pool_size=(2,2), strides=(2,2))(x)\n",
        "x = Conv2D(32, (3,3), activation='relu', padding='valid')(x)\n",
        "x = Conv2D(32, (3,3), activation='relu', padding='valid')(x)\n",
        "x = MaxPool2D(pool_size=(2,2), strides=(2,2))(x)\n",
        "x = Conv2D(64, (3,3), activation='sigmoid', padding='valid')(x)\n",
        "x = Conv2D(16, (3,3), activation='sigmoid', padding='valid')(x)\n",
        "x = MaxPool2D(pool_size=(2,2), strides=(2,2))(x)\n",
        "\n",
        "x = Flatten()(x)\n",
        "x = Dense(256, activation='relu')(x)\n",
        "x = Dropout(rate=0.3)(x)\n",
        "x = Dense(128, activation='sigmoid')(x)\n",
        "x = Dropout(rate=0.2)(x)\n",
        "output = Dense(2, activation='softmax')(x)\n",
        "\n",
        "# Optimizer = adagrad\n",
        "# Loss function = hinge\n",
        "model_3_1_2_version_2 = Model(inputs=input, outputs = output)\n",
        "model_3_1_2_version_2.compile(optimizer='adagrad', \n",
        "              loss=tf.keras.losses.Hinge(),\n",
        "              metrics=['acc'])\n",
        "\n",
        "model_3_1_2_version_2.summary()\n",
        "#plot_model(model_3_1_2_version_2)"
      ]
    },
    {
      "cell_type": "code",
      "execution_count": 61,
      "metadata": {
        "colab": {
          "base_uri": "https://localhost:8080/"
        },
        "id": "Q6hPNsbtAOnq",
        "outputId": "b8b515bc-f2d9-4371-e742-c8274d85d79b"
      },
      "outputs": [
        {
          "name": "stdout",
          "output_type": "stream",
          "text": [
            "Model: \"model_26\"\n",
            "_________________________________________________________________\n",
            " Layer (type)                Output Shape              Param #   \n",
            "=================================================================\n",
            " input_27 (InputLayer)       [(None, 96, 96, 3)]       0         \n",
            "                                                                 \n",
            " conv2d_153 (Conv2D)         (None, 94, 94, 16)        448       \n",
            "                                                                 \n",
            " conv2d_154 (Conv2D)         (None, 92, 92, 16)        2320      \n",
            "                                                                 \n",
            " max_pooling2d_78 (MaxPoolin  (None, 46, 46, 16)       0         \n",
            " g2D)                                                            \n",
            "                                                                 \n",
            " conv2d_155 (Conv2D)         (None, 44, 44, 32)        4640      \n",
            "                                                                 \n",
            " conv2d_156 (Conv2D)         (None, 42, 42, 32)        9248      \n",
            "                                                                 \n",
            " max_pooling2d_79 (MaxPoolin  (None, 21, 21, 32)       0         \n",
            " g2D)                                                            \n",
            "                                                                 \n",
            " conv2d_157 (Conv2D)         (None, 19, 19, 64)        18496     \n",
            "                                                                 \n",
            " conv2d_158 (Conv2D)         (None, 17, 17, 16)        9232      \n",
            "                                                                 \n",
            " max_pooling2d_80 (MaxPoolin  (None, 8, 8, 16)         0         \n",
            " g2D)                                                            \n",
            "                                                                 \n",
            " flatten_26 (Flatten)        (None, 1024)              0         \n",
            "                                                                 \n",
            " dense_78 (Dense)            (None, 256)               262400    \n",
            "                                                                 \n",
            " dropout_52 (Dropout)        (None, 256)               0         \n",
            "                                                                 \n",
            " dense_79 (Dense)            (None, 128)               32896     \n",
            "                                                                 \n",
            " dropout_53 (Dropout)        (None, 128)               0         \n",
            "                                                                 \n",
            " dense_80 (Dense)            (None, 2)                 258       \n",
            "                                                                 \n",
            "=================================================================\n",
            "Total params: 339,938\n",
            "Trainable params: 339,938\n",
            "Non-trainable params: 0\n",
            "_________________________________________________________________\n"
          ]
        }
      ],
      "source": [
        "# Building the Convolutonal Neural Network Model 3.1.3 (Version 2)\n",
        "\n",
        "# Setting up the output with the right size\n",
        "input = Input(shape=(96,96,3))\n",
        "\n",
        "# A conbination of relu and sigmoid activation functions\n",
        "x = Conv2D(16, (3,3), activation='sigmoid', padding='valid')(input)\n",
        "x = Conv2D(16, (3,3), activation='sigmoid', padding='valid')(x)\n",
        "x = MaxPool2D(pool_size=(2,2), strides=(2,2))(x)\n",
        "x = Conv2D(32, (3,3), activation='relu', padding='valid')(x)\n",
        "x = Conv2D(32, (3,3), activation='relu', padding='valid')(x)\n",
        "x = MaxPool2D(pool_size=(2,2), strides=(2,2))(x)\n",
        "x = Conv2D(64, (3,3), activation='sigmoid', padding='valid')(x)\n",
        "x = Conv2D(16, (3,3), activation='sigmoid', padding='valid')(x)\n",
        "x = MaxPool2D(pool_size=(2,2), strides=(2,2))(x)\n",
        "\n",
        "x = Flatten()(x)\n",
        "x = Dense(256, activation='relu')(x)\n",
        "x = Dropout(rate=0.3)(x)\n",
        "x = Dense(128, activation='sigmoid')(x)\n",
        "x = Dropout(rate=0.2)(x)\n",
        "output = Dense(2, activation='softmax')(x)\n",
        "\n",
        "# Optimizer = RMSprop\n",
        "# Loss function = hinge\n",
        "model_3_1_3_version_2 = Model(inputs=input, outputs = output)\n",
        "model_3_1_3_version_2.compile(optimizer='RMSprop', \n",
        "              loss=tf.keras.losses.Hinge(),\n",
        "              metrics=['acc'])\n",
        "\n",
        "model_3_1_3_version_2.summary()\n",
        "#plot_model(model_3_1_3_version_2)"
      ]
    },
    {
      "cell_type": "code",
      "execution_count": 60,
      "metadata": {
        "colab": {
          "base_uri": "https://localhost:8080/"
        },
        "id": "LrmFkTwOAOfv",
        "outputId": "ef4102be-394a-4936-9a41-c104e4b56f4c"
      },
      "outputs": [
        {
          "name": "stdout",
          "output_type": "stream",
          "text": [
            "Model: \"model_25\"\n",
            "_________________________________________________________________\n",
            " Layer (type)                Output Shape              Param #   \n",
            "=================================================================\n",
            " input_26 (InputLayer)       [(None, 96, 96, 3)]       0         \n",
            "                                                                 \n",
            " conv2d_147 (Conv2D)         (None, 94, 94, 16)        448       \n",
            "                                                                 \n",
            " conv2d_148 (Conv2D)         (None, 92, 92, 16)        2320      \n",
            "                                                                 \n",
            " max_pooling2d_75 (MaxPoolin  (None, 46, 46, 16)       0         \n",
            " g2D)                                                            \n",
            "                                                                 \n",
            " conv2d_149 (Conv2D)         (None, 44, 44, 32)        4640      \n",
            "                                                                 \n",
            " conv2d_150 (Conv2D)         (None, 42, 42, 32)        9248      \n",
            "                                                                 \n",
            " max_pooling2d_76 (MaxPoolin  (None, 21, 21, 32)       0         \n",
            " g2D)                                                            \n",
            "                                                                 \n",
            " conv2d_151 (Conv2D)         (None, 19, 19, 64)        18496     \n",
            "                                                                 \n",
            " conv2d_152 (Conv2D)         (None, 17, 17, 64)        36928     \n",
            "                                                                 \n",
            " max_pooling2d_77 (MaxPoolin  (None, 8, 8, 64)         0         \n",
            " g2D)                                                            \n",
            "                                                                 \n",
            " flatten_25 (Flatten)        (None, 4096)              0         \n",
            "                                                                 \n",
            " dense_75 (Dense)            (None, 256)               1048832   \n",
            "                                                                 \n",
            " dropout_50 (Dropout)        (None, 256)               0         \n",
            "                                                                 \n",
            " dense_76 (Dense)            (None, 128)               32896     \n",
            "                                                                 \n",
            " dropout_51 (Dropout)        (None, 128)               0         \n",
            "                                                                 \n",
            " dense_77 (Dense)            (None, 2)                 258       \n",
            "                                                                 \n",
            "=================================================================\n",
            "Total params: 1,154,066\n",
            "Trainable params: 1,154,066\n",
            "Non-trainable params: 0\n",
            "_________________________________________________________________\n"
          ]
        }
      ],
      "source": [
        "# Building the Convolutonal Neural Network Model 3.2.1 (Version 2)\n",
        "\n",
        "# Setting up the output with the right size\n",
        "input = Input(shape=(96,96,3))\n",
        "\n",
        "# A conbination of relu and sigmoid activation functions\n",
        "x = Conv2D(16, (3,3), activation='sigmoid', padding='valid')(input)\n",
        "x = Conv2D(16, (3,3), activation='sigmoid', padding='valid')(x)\n",
        "x = MaxPool2D(pool_size=(2,2), strides=(2,2))(x)\n",
        "x = Conv2D(32, (3,3), activation='relu', padding='valid')(x)\n",
        "x = Conv2D(32, (3,3), activation='relu', padding='valid')(x)\n",
        "x = MaxPool2D(pool_size=(2,2), strides=(2,2))(x)\n",
        "x = Conv2D(64, (3,3), activation='sigmoid', padding='valid')(x)\n",
        "x = Conv2D(64, (3,3), activation='sigmoid', padding='valid')(x)\n",
        "x = MaxPool2D(pool_size=(2,2), strides=(2,2))(x)\n",
        "x = Flatten()(x)\n",
        "x = Dense(256, activation='relu')(x)\n",
        "x = Dropout(rate=0.3)(x)\n",
        "x = Dense(128, activation='sigmoid')(x)\n",
        "x = Dropout(rate=0.2)(x)\n",
        "output = Dense(2, activation='softmax')(x)\n",
        "\n",
        "# Optimizer = sgd\n",
        "# Loss function = MSE\n",
        "model_3_2_1_version_2 = Model(inputs=input, outputs = output)\n",
        "model_3_2_1_version_2.compile(optimizer='sgd', \n",
        "              loss='MSE',\n",
        "              metrics=['acc'])\n",
        "\n",
        "model_3_2_1_version_2.summary()\n",
        "#plot_model(model_3_2_1_version_2)"
      ]
    },
    {
      "cell_type": "code",
      "execution_count": 62,
      "metadata": {
        "colab": {
          "base_uri": "https://localhost:8080/"
        },
        "id": "iNu-3PXWAOY_",
        "outputId": "8469cb99-72d6-4eae-9947-117087f2dd36"
      },
      "outputs": [
        {
          "name": "stdout",
          "output_type": "stream",
          "text": [
            "Model: \"model_27\"\n",
            "_________________________________________________________________\n",
            " Layer (type)                Output Shape              Param #   \n",
            "=================================================================\n",
            " input_28 (InputLayer)       [(None, 96, 96, 3)]       0         \n",
            "                                                                 \n",
            " conv2d_159 (Conv2D)         (None, 94, 94, 16)        448       \n",
            "                                                                 \n",
            " conv2d_160 (Conv2D)         (None, 92, 92, 16)        2320      \n",
            "                                                                 \n",
            " max_pooling2d_81 (MaxPoolin  (None, 46, 46, 16)       0         \n",
            " g2D)                                                            \n",
            "                                                                 \n",
            " conv2d_161 (Conv2D)         (None, 44, 44, 32)        4640      \n",
            "                                                                 \n",
            " conv2d_162 (Conv2D)         (None, 42, 42, 32)        9248      \n",
            "                                                                 \n",
            " max_pooling2d_82 (MaxPoolin  (None, 21, 21, 32)       0         \n",
            " g2D)                                                            \n",
            "                                                                 \n",
            " conv2d_163 (Conv2D)         (None, 19, 19, 64)        18496     \n",
            "                                                                 \n",
            " conv2d_164 (Conv2D)         (None, 17, 17, 64)        36928     \n",
            "                                                                 \n",
            " max_pooling2d_83 (MaxPoolin  (None, 8, 8, 64)         0         \n",
            " g2D)                                                            \n",
            "                                                                 \n",
            " flatten_27 (Flatten)        (None, 4096)              0         \n",
            "                                                                 \n",
            " dense_81 (Dense)            (None, 256)               1048832   \n",
            "                                                                 \n",
            " dropout_54 (Dropout)        (None, 256)               0         \n",
            "                                                                 \n",
            " dense_82 (Dense)            (None, 128)               32896     \n",
            "                                                                 \n",
            " dropout_55 (Dropout)        (None, 128)               0         \n",
            "                                                                 \n",
            " dense_83 (Dense)            (None, 2)                 258       \n",
            "                                                                 \n",
            "=================================================================\n",
            "Total params: 1,154,066\n",
            "Trainable params: 1,154,066\n",
            "Non-trainable params: 0\n",
            "_________________________________________________________________\n"
          ]
        }
      ],
      "source": [
        "# Building the Convolutonal Neural Network Model 3.2.2 (Version 2)\n",
        "\n",
        "# Setting up the output with the right size\n",
        "input = Input(shape=(96,96,3))\n",
        "\n",
        "# A conbination of relu and sigmoid activation functions\n",
        "x = Conv2D(16, (3,3), activation='sigmoid', padding='valid')(input)\n",
        "x = Conv2D(16, (3,3), activation='sigmoid', padding='valid')(x)\n",
        "x = MaxPool2D(pool_size=(2,2), strides=(2,2))(x)\n",
        "x = Conv2D(32, (3,3), activation='relu', padding='valid')(x)\n",
        "x = Conv2D(32, (3,3), activation='relu', padding='valid')(x)\n",
        "x = MaxPool2D(pool_size=(2,2), strides=(2,2))(x)\n",
        "x = Conv2D(64, (3,3), activation='sigmoid', padding='valid')(x)\n",
        "x = Conv2D(64, (3,3), activation='sigmoid', padding='valid')(x)\n",
        "x = MaxPool2D(pool_size=(2,2), strides=(2,2))(x)\n",
        "x = Flatten()(x)\n",
        "x = Dense(256, activation='relu')(x)\n",
        "x = Dropout(rate=0.3)(x)\n",
        "x = Dense(128, activation='sigmoid')(x)\n",
        "x = Dropout(rate=0.2)(x)\n",
        "output = Dense(2, activation='softmax')(x)\n",
        "\n",
        "# Optimizer = adagrad\n",
        "# Loss function = MSE\n",
        "model_3_2_2_version_2 = Model(inputs=input, outputs = output)\n",
        "model_3_2_2_version_2.compile(optimizer='adagrad', \n",
        "              loss='MSE',\n",
        "              metrics=['acc'])\n",
        "\n",
        "model_3_2_2_version_2.summary()\n",
        "#plot_model(model_3_2_2_version_2)"
      ]
    },
    {
      "cell_type": "code",
      "execution_count": 63,
      "metadata": {
        "colab": {
          "base_uri": "https://localhost:8080/"
        },
        "id": "Bua-_h5GALry",
        "outputId": "0f902fa0-2480-4bb2-aeeb-b7b2c3f76106"
      },
      "outputs": [
        {
          "name": "stdout",
          "output_type": "stream",
          "text": [
            "Model: \"model_28\"\n",
            "_________________________________________________________________\n",
            " Layer (type)                Output Shape              Param #   \n",
            "=================================================================\n",
            " input_29 (InputLayer)       [(None, 96, 96, 3)]       0         \n",
            "                                                                 \n",
            " conv2d_165 (Conv2D)         (None, 94, 94, 16)        448       \n",
            "                                                                 \n",
            " conv2d_166 (Conv2D)         (None, 92, 92, 16)        2320      \n",
            "                                                                 \n",
            " max_pooling2d_84 (MaxPoolin  (None, 46, 46, 16)       0         \n",
            " g2D)                                                            \n",
            "                                                                 \n",
            " conv2d_167 (Conv2D)         (None, 44, 44, 32)        4640      \n",
            "                                                                 \n",
            " conv2d_168 (Conv2D)         (None, 42, 42, 32)        9248      \n",
            "                                                                 \n",
            " max_pooling2d_85 (MaxPoolin  (None, 21, 21, 32)       0         \n",
            " g2D)                                                            \n",
            "                                                                 \n",
            " conv2d_169 (Conv2D)         (None, 19, 19, 64)        18496     \n",
            "                                                                 \n",
            " conv2d_170 (Conv2D)         (None, 17, 17, 64)        36928     \n",
            "                                                                 \n",
            " max_pooling2d_86 (MaxPoolin  (None, 8, 8, 64)         0         \n",
            " g2D)                                                            \n",
            "                                                                 \n",
            " flatten_28 (Flatten)        (None, 4096)              0         \n",
            "                                                                 \n",
            " dense_84 (Dense)            (None, 256)               1048832   \n",
            "                                                                 \n",
            " dropout_56 (Dropout)        (None, 256)               0         \n",
            "                                                                 \n",
            " dense_85 (Dense)            (None, 128)               32896     \n",
            "                                                                 \n",
            " dropout_57 (Dropout)        (None, 128)               0         \n",
            "                                                                 \n",
            " dense_86 (Dense)            (None, 2)                 258       \n",
            "                                                                 \n",
            "=================================================================\n",
            "Total params: 1,154,066\n",
            "Trainable params: 1,154,066\n",
            "Non-trainable params: 0\n",
            "_________________________________________________________________\n"
          ]
        }
      ],
      "source": [
        "# Building the Convolutonal Neural Network Model 3.2.3 (Version 2)\n",
        "\n",
        "# Setting up the output with the right size\n",
        "input = Input(shape=(96,96,3))\n",
        "\n",
        "# A conbination of relu and sigmoid activation functions\n",
        "x = Conv2D(16, (3,3), activation='sigmoid', padding='valid')(input)\n",
        "x = Conv2D(16, (3,3), activation='sigmoid', padding='valid')(x)\n",
        "x = MaxPool2D(pool_size=(2,2), strides=(2,2))(x)\n",
        "x = Conv2D(32, (3,3), activation='relu', padding='valid')(x)\n",
        "x = Conv2D(32, (3,3), activation='relu', padding='valid')(x)\n",
        "x = MaxPool2D(pool_size=(2,2), strides=(2,2))(x)\n",
        "x = Conv2D(64, (3,3), activation='sigmoid', padding='valid')(x)\n",
        "x = Conv2D(64, (3,3), activation='sigmoid', padding='valid')(x)\n",
        "x = MaxPool2D(pool_size=(2,2), strides=(2,2))(x)\n",
        "x = Flatten()(x)\n",
        "x = Dense(256, activation='relu')(x)\n",
        "x = Dropout(rate=0.3)(x)\n",
        "x = Dense(128, activation='sigmoid')(x)\n",
        "x = Dropout(rate=0.2)(x)\n",
        "output = Dense(2, activation='softmax')(x)\n",
        "\n",
        "# Optimizer = RMSprop\n",
        "# Loss function = MSE\n",
        "model_3_2_3_version_2 = Model(inputs=input, outputs = output)\n",
        "model_3_2_3_version_2.compile(optimizer='RMSprop', \n",
        "              loss='MSE',\n",
        "              metrics=['acc'])\n",
        "\n",
        "model_3_2_3_version_2.summary()\n",
        "#plot_model(model_3_2_3_version_2)"
      ]
    },
    {
      "cell_type": "code",
      "execution_count": 70,
      "metadata": {
        "colab": {
          "base_uri": "https://localhost:8080/"
        },
        "id": "5UISVo3xYUej",
        "outputId": "a27919db-047c-4792-cf17-f6b6e3af2de5"
      },
      "outputs": [
        {
          "name": "stdout",
          "output_type": "stream",
          "text": [
            "Epoch 1/10\n",
            "4096/4096 [==============================] - 97s 24ms/step - loss: 0.7062 - acc: 0.7948 - val_loss: 0.7093 - val_acc: 0.7913\n",
            "Epoch 2/10\n",
            "4096/4096 [==============================] - 88s 21ms/step - loss: 0.6908 - acc: 0.8103 - val_loss: 0.6966 - val_acc: 0.8034\n",
            "Epoch 3/10\n",
            "4096/4096 [==============================] - 90s 22ms/step - loss: 0.6820 - acc: 0.8188 - val_loss: 0.6872 - val_acc: 0.8133\n",
            "Epoch 4/10\n",
            "4096/4096 [==============================] - 89s 22ms/step - loss: 0.6750 - acc: 0.8258 - val_loss: 0.6859 - val_acc: 0.8165\n",
            "Epoch 5/10\n",
            "4096/4096 [==============================] - 90s 22ms/step - loss: 0.6679 - acc: 0.8329 - val_loss: 0.6810 - val_acc: 0.8190\n",
            "Epoch 6/10\n",
            "4096/4096 [==============================] - 90s 22ms/step - loss: 0.6620 - acc: 0.8386 - val_loss: 0.6847 - val_acc: 0.8168\n",
            "Epoch 7/10\n",
            "4096/4096 [==============================] - 91s 22ms/step - loss: 0.6577 - acc: 0.8428 - val_loss: 0.6849 - val_acc: 0.8155\n",
            "Epoch 8/10\n",
            "4096/4096 [==============================] - 89s 22ms/step - loss: 0.6516 - acc: 0.8491 - val_loss: 0.6752 - val_acc: 0.8251\n",
            "Epoch 9/10\n",
            "4096/4096 [==============================] - 89s 22ms/step - loss: 0.6495 - acc: 0.8514 - val_loss: 0.6758 - val_acc: 0.8247\n",
            "Epoch 10/10\n",
            "4096/4096 [==============================] - 88s 22ms/step - loss: 0.6467 - acc: 0.8540 - val_loss: 0.6951 - val_acc: 0.8061\n"
          ]
        }
      ],
      "source": [
        "history_1_1_1_version_2= model_1_1_1_version_2.fit(train_ds, validation_data=validation_ds, epochs = 10, verbose = 1, steps_per_epoch=steps_per_epoch, validation_steps=validation_steps)\n"
      ]
    },
    {
      "cell_type": "code",
      "execution_count": 71,
      "metadata": {
        "colab": {
          "base_uri": "https://localhost:8080/"
        },
        "id": "ck967AtOYUth",
        "outputId": "aac5017a-6325-4dcd-de43-bf2f4b3d9dfb"
      },
      "outputs": [
        {
          "name": "stdout",
          "output_type": "stream",
          "text": [
            "Epoch 1/10\n",
            "4096/4096 [==============================] - 92s 22ms/step - loss: 0.9667 - acc: 0.5397 - val_loss: 0.8133 - val_acc: 0.7005\n",
            "Epoch 2/10\n",
            "4096/4096 [==============================] - 88s 22ms/step - loss: 0.7583 - acc: 0.7492 - val_loss: 0.7642 - val_acc: 0.7378\n",
            "Epoch 3/10\n",
            "4096/4096 [==============================] - 89s 22ms/step - loss: 0.7383 - acc: 0.7644 - val_loss: 0.7616 - val_acc: 0.7400\n",
            "Epoch 4/10\n",
            "4096/4096 [==============================] - 110s 27ms/step - loss: 0.7338 - acc: 0.7683 - val_loss: 0.7625 - val_acc: 0.7378\n",
            "Epoch 5/10\n",
            "4096/4096 [==============================] - 90s 22ms/step - loss: 0.7303 - acc: 0.7714 - val_loss: 0.7582 - val_acc: 0.7428\n",
            "Epoch 6/10\n",
            "4096/4096 [==============================] - 89s 22ms/step - loss: 0.7281 - acc: 0.7734 - val_loss: 0.7551 - val_acc: 0.7456\n",
            "Epoch 7/10\n",
            "4096/4096 [==============================] - 90s 22ms/step - loss: 0.7265 - acc: 0.7750 - val_loss: 0.7580 - val_acc: 0.7426\n",
            "Epoch 8/10\n",
            "4096/4096 [==============================] - 93s 23ms/step - loss: 0.7252 - acc: 0.7762 - val_loss: 0.7544 - val_acc: 0.7461\n",
            "Epoch 9/10\n",
            "4096/4096 [==============================] - 113s 27ms/step - loss: 0.7242 - acc: 0.7769 - val_loss: 0.7568 - val_acc: 0.7446\n",
            "Epoch 10/10\n",
            "4096/4096 [==============================] - 90s 22ms/step - loss: 0.7230 - acc: 0.7778 - val_loss: 0.7520 - val_acc: 0.7478\n"
          ]
        }
      ],
      "source": [
        "history_1_1_2_version_2= model_1_1_2_version_2.fit(train_ds, validation_data=validation_ds, epochs = 10, verbose = 1, steps_per_epoch=steps_per_epoch, validation_steps=validation_steps)\n"
      ]
    },
    {
      "cell_type": "code",
      "execution_count": 72,
      "metadata": {
        "colab": {
          "base_uri": "https://localhost:8080/"
        },
        "id": "ilUGkJGJYU5p",
        "outputId": "ed5e68bf-e1d3-4f38-fd1f-50a0054e8fbd"
      },
      "outputs": [
        {
          "name": "stdout",
          "output_type": "stream",
          "text": [
            "Epoch 1/10\n",
            "4096/4096 [==============================] - 91s 22ms/step - loss: 0.1765 - acc: 0.7390 - val_loss: 0.1485 - val_acc: 0.7856\n",
            "Epoch 2/10\n",
            "4096/4096 [==============================] - 108s 26ms/step - loss: 0.1443 - acc: 0.7978 - val_loss: 0.1531 - val_acc: 0.7844\n",
            "Epoch 3/10\n",
            "4096/4096 [==============================] - 89s 22ms/step - loss: 0.1305 - acc: 0.8194 - val_loss: 0.1338 - val_acc: 0.8081\n",
            "Epoch 4/10\n",
            "4096/4096 [==============================] - 88s 21ms/step - loss: 0.1231 - acc: 0.8305 - val_loss: 0.1580 - val_acc: 0.7691\n",
            "Epoch 5/10\n",
            "4096/4096 [==============================] - 89s 22ms/step - loss: 0.1176 - acc: 0.8383 - val_loss: 0.1399 - val_acc: 0.8057\n",
            "Epoch 6/10\n",
            "4096/4096 [==============================] - 88s 21ms/step - loss: 0.1126 - acc: 0.8457 - val_loss: 0.1273 - val_acc: 0.8214\n",
            "Epoch 7/10\n",
            "4096/4096 [==============================] - 88s 22ms/step - loss: 0.1080 - acc: 0.8519 - val_loss: 0.1166 - val_acc: 0.8369\n",
            "Epoch 8/10\n",
            "4096/4096 [==============================] - 87s 21ms/step - loss: 0.1037 - acc: 0.8589 - val_loss: 0.1157 - val_acc: 0.8375\n",
            "Epoch 9/10\n",
            "4096/4096 [==============================] - 89s 22ms/step - loss: 0.1000 - acc: 0.8645 - val_loss: 0.1147 - val_acc: 0.8385\n",
            "Epoch 10/10\n",
            "4096/4096 [==============================] - 89s 22ms/step - loss: 0.0963 - acc: 0.8697 - val_loss: 0.1286 - val_acc: 0.8196\n"
          ]
        }
      ],
      "source": [
        "history_1_2_1_version_2= model_1_2_1_version_2.fit(train_ds, validation_data=validation_ds, epochs = 10, verbose = 1, steps_per_epoch=steps_per_epoch, validation_steps=validation_steps)\n"
      ]
    },
    {
      "cell_type": "code",
      "execution_count": 73,
      "metadata": {
        "colab": {
          "base_uri": "https://localhost:8080/"
        },
        "id": "9eVP7fIKYVFH",
        "outputId": "ee34d7c6-6a3c-4062-d514-b3ada3fa671b"
      },
      "outputs": [
        {
          "name": "stdout",
          "output_type": "stream",
          "text": [
            "Epoch 1/10\n",
            "4096/4096 [==============================] - 92s 22ms/step - loss: 0.2449 - acc: 0.5876 - val_loss: 0.2134 - val_acc: 0.7097\n",
            "Epoch 2/10\n",
            "4096/4096 [==============================] - 109s 27ms/step - loss: 0.1707 - acc: 0.7596 - val_loss: 0.1719 - val_acc: 0.7474\n",
            "Epoch 3/10\n",
            "4096/4096 [==============================] - 89s 22ms/step - loss: 0.1586 - acc: 0.7774 - val_loss: 0.1675 - val_acc: 0.7527\n",
            "Epoch 4/10\n",
            "4096/4096 [==============================] - 88s 22ms/step - loss: 0.1559 - acc: 0.7816 - val_loss: 0.1665 - val_acc: 0.7539\n",
            "Epoch 5/10\n",
            "4096/4096 [==============================] - 89s 22ms/step - loss: 0.1539 - acc: 0.7844 - val_loss: 0.1628 - val_acc: 0.7583\n",
            "Epoch 6/10\n",
            "4096/4096 [==============================] - 88s 21ms/step - loss: 0.1523 - acc: 0.7867 - val_loss: 0.1661 - val_acc: 0.7535\n",
            "Epoch 7/10\n",
            "4096/4096 [==============================] - 89s 22ms/step - loss: 0.1509 - acc: 0.7889 - val_loss: 0.1590 - val_acc: 0.7634\n",
            "Epoch 8/10\n",
            "4096/4096 [==============================] - 88s 21ms/step - loss: 0.1496 - acc: 0.7914 - val_loss: 0.1589 - val_acc: 0.7643\n",
            "Epoch 9/10\n",
            "4096/4096 [==============================] - 88s 22ms/step - loss: 0.1481 - acc: 0.7932 - val_loss: 0.1577 - val_acc: 0.7660\n",
            "Epoch 10/10\n",
            "4096/4096 [==============================] - 87s 21ms/step - loss: 0.1470 - acc: 0.7947 - val_loss: 0.1557 - val_acc: 0.7693\n"
          ]
        }
      ],
      "source": [
        "history_1_2_2_version_2= model_1_2_2_version_2.fit(train_ds, validation_data=validation_ds, epochs = 10, verbose = 1, steps_per_epoch=steps_per_epoch, validation_steps=validation_steps)\n"
      ]
    },
    {
      "cell_type": "code",
      "execution_count": 74,
      "metadata": {
        "colab": {
          "base_uri": "https://localhost:8080/"
        },
        "id": "0-9yTqJYYVTH",
        "outputId": "15ed39a4-6b3a-4a8a-92e4-db5a354b89d7"
      },
      "outputs": [
        {
          "name": "stdout",
          "output_type": "stream",
          "text": [
            "Epoch 1/10\n",
            "4096/4096 [==============================] - 92s 22ms/step - loss: 0.1356 - acc: 0.8106 - val_loss: 0.1363 - val_acc: 0.8116\n",
            "Epoch 2/10\n",
            "4096/4096 [==============================] - 109s 27ms/step - loss: 0.0973 - acc: 0.8693 - val_loss: 0.1259 - val_acc: 0.8242\n",
            "Epoch 3/10\n",
            "4096/4096 [==============================] - 89s 22ms/step - loss: 0.0850 - acc: 0.8882 - val_loss: 0.1356 - val_acc: 0.8084\n",
            "Epoch 4/10\n",
            "4096/4096 [==============================] - 88s 22ms/step - loss: 0.0789 - acc: 0.8965 - val_loss: 0.1680 - val_acc: 0.7815\n",
            "Epoch 5/10\n",
            "4096/4096 [==============================] - 88s 22ms/step - loss: 0.0753 - acc: 0.9021 - val_loss: 0.1016 - val_acc: 0.8608\n",
            "Epoch 6/10\n",
            "4096/4096 [==============================] - 88s 22ms/step - loss: 0.0738 - acc: 0.9050 - val_loss: 0.1116 - val_acc: 0.8572\n",
            "Epoch 7/10\n",
            "4096/4096 [==============================] - 89s 22ms/step - loss: 0.0722 - acc: 0.9075 - val_loss: 0.1144 - val_acc: 0.8481\n",
            "Epoch 8/10\n",
            "4096/4096 [==============================] - 88s 22ms/step - loss: 0.0725 - acc: 0.9078 - val_loss: 0.1164 - val_acc: 0.8442\n",
            "Epoch 9/10\n",
            "4096/4096 [==============================] - 88s 22ms/step - loss: 0.0736 - acc: 0.9073 - val_loss: 0.1405 - val_acc: 0.8008\n",
            "Epoch 10/10\n",
            "4096/4096 [==============================] - 88s 21ms/step - loss: 0.0762 - acc: 0.9045 - val_loss: 0.1100 - val_acc: 0.8589\n"
          ]
        }
      ],
      "source": [
        "history_1_2_3_version_2= model_1_2_3_version_2.fit(train_ds, validation_data=validation_ds, epochs = 10, verbose = 1, steps_per_epoch=steps_per_epoch, validation_steps=validation_steps)\n"
      ]
    },
    {
      "cell_type": "code",
      "execution_count": 79,
      "metadata": {
        "colab": {
          "base_uri": "https://localhost:8080/"
        },
        "id": "IFstGG4rw4nH",
        "outputId": "0a80b89e-c64f-4aba-9b9c-b2aefd54b945"
      },
      "outputs": [
        {
          "name": "stdout",
          "output_type": "stream",
          "text": [
            "Model: \"model_29\"\n",
            "_________________________________________________________________\n",
            " Layer (type)                Output Shape              Param #   \n",
            "=================================================================\n",
            " input_30 (InputLayer)       [(None, 96, 96, 3)]       0         \n",
            "                                                                 \n",
            " conv2d_171 (Conv2D)         (None, 94, 94, 16)        448       \n",
            "                                                                 \n",
            " conv2d_172 (Conv2D)         (None, 92, 92, 16)        2320      \n",
            "                                                                 \n",
            " max_pooling2d_87 (MaxPoolin  (None, 46, 46, 16)       0         \n",
            " g2D)                                                            \n",
            "                                                                 \n",
            " conv2d_173 (Conv2D)         (None, 44, 44, 32)        4640      \n",
            "                                                                 \n",
            " conv2d_174 (Conv2D)         (None, 42, 42, 16)        4624      \n",
            "                                                                 \n",
            " max_pooling2d_88 (MaxPoolin  (None, 21, 21, 16)       0         \n",
            " g2D)                                                            \n",
            "                                                                 \n",
            " conv2d_175 (Conv2D)         (None, 19, 19, 64)        9280      \n",
            "                                                                 \n",
            " conv2d_176 (Conv2D)         (None, 17, 17, 16)        9232      \n",
            "                                                                 \n",
            " max_pooling2d_89 (MaxPoolin  (None, 8, 8, 16)         0         \n",
            " g2D)                                                            \n",
            "                                                                 \n",
            " flatten_29 (Flatten)        (None, 1024)              0         \n",
            "                                                                 \n",
            " dense_87 (Dense)            (None, 256)               262400    \n",
            "                                                                 \n",
            " dropout_58 (Dropout)        (None, 256)               0         \n",
            "                                                                 \n",
            " dense_88 (Dense)            (None, 128)               32896     \n",
            "                                                                 \n",
            " dropout_59 (Dropout)        (None, 128)               0         \n",
            "                                                                 \n",
            " dense_89 (Dense)            (None, 2)                 258       \n",
            "                                                                 \n",
            "=================================================================\n",
            "Total params: 326,098\n",
            "Trainable params: 326,098\n",
            "Non-trainable params: 0\n",
            "_________________________________________________________________\n"
          ]
        }
      ],
      "source": [
        "# Building the Convolutonal Nueral Network Model 4.01 (Version 2)\n",
        "\n",
        "# Setting up the output with the right size\n",
        "input = Input(shape=(96,96,3))\n",
        "\n",
        "# Relu activation functions only, with softmax activation function for the last Dense layer\n",
        "x = Conv2D(16, (3,3), activation='relu', padding='valid')(input)\n",
        "x = Conv2D(16, (3,3), activation='relu', padding='valid')(x)\n",
        "x = MaxPool2D(pool_size=(2,2), strides=(2,2))(x)\n",
        "x = Conv2D(32, (3,3), activation='relu', padding='valid')(x)\n",
        "x = Conv2D(16, (3,3), activation='relu', padding='valid')(x)\n",
        "x = MaxPool2D(pool_size=(2,2), strides=(2,2))(x)\n",
        "x = Conv2D(64, (3,3), activation='relu', padding='valid')(x)\n",
        "x = Conv2D(16, (3,3), activation='relu', padding='valid')(x)\n",
        "x = MaxPool2D(pool_size=(2,2), strides=(2,2))(x)\n",
        "\n",
        "x = Flatten()(x)\n",
        "x = Dense(256, activation='relu')(x)\n",
        "x = Dropout(rate=0.1)(x)\n",
        "x = Dense(128, activation='relu')(x)\n",
        "x = Dropout(rate=0.1)(x)\n",
        "output = Dense(2, activation='softmax')(x)\n",
        "\n",
        "# Optimizer = adam\n",
        "# Loss function = hinge\n",
        "model_4_01_version_2 = Model(inputs=input, outputs = output)\n",
        "model_4_01_version_2.compile(optimizer='adam', \n",
        "              loss='binary_crossentropy',\n",
        "              metrics=['acc'])\n",
        "\n",
        "model_4_01_version_2.summary()\n",
        "#plot_model(model_4_01_version_2)"
      ]
    },
    {
      "cell_type": "code",
      "execution_count": 83,
      "metadata": {
        "colab": {
          "base_uri": "https://localhost:8080/"
        },
        "id": "t7HPkYDRxppc",
        "outputId": "74949d75-3a9b-42f3-84a5-061ba4406c03"
      },
      "outputs": [
        {
          "name": "stdout",
          "output_type": "stream",
          "text": [
            "Epoch 1/10\n",
            "4096/4096 [==============================] - 91s 22ms/step - loss: 0.4036 - acc: 0.8184 - val_loss: 0.3973 - val_acc: 0.8219\n",
            "Epoch 2/10\n",
            "4096/4096 [==============================] - 108s 26ms/step - loss: 0.2863 - acc: 0.8813 - val_loss: 0.4561 - val_acc: 0.8055\n",
            "Epoch 3/10\n",
            "4096/4096 [==============================] - 89s 22ms/step - loss: 0.2457 - acc: 0.9015 - val_loss: 0.4408 - val_acc: 0.8149\n",
            "Epoch 4/10\n",
            "4096/4096 [==============================] - 87s 21ms/step - loss: 0.2222 - acc: 0.9126 - val_loss: 0.4171 - val_acc: 0.8263\n",
            "Epoch 5/10\n",
            "4096/4096 [==============================] - 88s 21ms/step - loss: 0.2074 - acc: 0.9189 - val_loss: 0.3814 - val_acc: 0.8548\n",
            "Epoch 6/10\n",
            "4096/4096 [==============================] - 87s 21ms/step - loss: 0.1936 - acc: 0.9251 - val_loss: 0.3808 - val_acc: 0.8483\n",
            "Epoch 7/10\n",
            "4096/4096 [==============================] - 88s 21ms/step - loss: 0.1831 - acc: 0.9297 - val_loss: 0.3622 - val_acc: 0.8572\n",
            "Epoch 8/10\n",
            "4096/4096 [==============================] - 86s 21ms/step - loss: 0.1738 - acc: 0.9337 - val_loss: 0.4776 - val_acc: 0.8406\n",
            "Epoch 9/10\n",
            "4096/4096 [==============================] - 88s 22ms/step - loss: 0.1646 - acc: 0.9374 - val_loss: 0.6255 - val_acc: 0.7966\n",
            "Epoch 10/10\n",
            "4096/4096 [==============================] - 88s 21ms/step - loss: 0.1563 - acc: 0.9403 - val_loss: 0.4715 - val_acc: 0.8360\n"
          ]
        },
        {
          "data": {
            "text/plain": [
              "<keras.callbacks.History at 0x7f96e1ee83d0>"
            ]
          },
          "execution_count": 83,
          "metadata": {},
          "output_type": "execute_result"
        }
      ],
      "source": [
        "model_4_01_version_2.fit(train_ds, validation_data=validation_ds, epochs = 10, verbose = 1, steps_per_epoch=steps_per_epoch, validation_steps=validation_steps)"
      ]
    },
    {
      "cell_type": "code",
      "execution_count": 84,
      "metadata": {
        "colab": {
          "base_uri": "https://localhost:8080/"
        },
        "id": "Npb-dXavw4vy",
        "outputId": "642670a0-d788-4bc0-9130-8430927bda0c"
      },
      "outputs": [
        {
          "name": "stdout",
          "output_type": "stream",
          "text": [
            "Model: \"model_30\"\n",
            "_________________________________________________________________\n",
            " Layer (type)                Output Shape              Param #   \n",
            "=================================================================\n",
            " input_31 (InputLayer)       [(None, 96, 96, 3)]       0         \n",
            "                                                                 \n",
            " conv2d_177 (Conv2D)         (None, 94, 94, 16)        448       \n",
            "                                                                 \n",
            " conv2d_178 (Conv2D)         (None, 92, 92, 16)        2320      \n",
            "                                                                 \n",
            " max_pooling2d_90 (MaxPoolin  (None, 46, 46, 16)       0         \n",
            " g2D)                                                            \n",
            "                                                                 \n",
            " conv2d_179 (Conv2D)         (None, 44, 44, 32)        4640      \n",
            "                                                                 \n",
            " conv2d_180 (Conv2D)         (None, 42, 42, 16)        4624      \n",
            "                                                                 \n",
            " max_pooling2d_91 (MaxPoolin  (None, 21, 21, 16)       0         \n",
            " g2D)                                                            \n",
            "                                                                 \n",
            " conv2d_181 (Conv2D)         (None, 19, 19, 64)        9280      \n",
            "                                                                 \n",
            " conv2d_182 (Conv2D)         (None, 17, 17, 16)        9232      \n",
            "                                                                 \n",
            " max_pooling2d_92 (MaxPoolin  (None, 8, 8, 16)         0         \n",
            " g2D)                                                            \n",
            "                                                                 \n",
            " flatten_30 (Flatten)        (None, 1024)              0         \n",
            "                                                                 \n",
            " dense_90 (Dense)            (None, 256)               262400    \n",
            "                                                                 \n",
            " dropout_60 (Dropout)        (None, 256)               0         \n",
            "                                                                 \n",
            " dense_91 (Dense)            (None, 128)               32896     \n",
            "                                                                 \n",
            " dropout_61 (Dropout)        (None, 128)               0         \n",
            "                                                                 \n",
            " dense_92 (Dense)            (None, 2)                 258       \n",
            "                                                                 \n",
            "=================================================================\n",
            "Total params: 326,098\n",
            "Trainable params: 326,098\n",
            "Non-trainable params: 0\n",
            "_________________________________________________________________\n"
          ]
        }
      ],
      "source": [
        "# Building the Convolutonal Nueral Network Model 4.06 (Version 2)\n",
        "\n",
        "# Setting up the output with the right size\n",
        "input = Input(shape=(96,96,3))\n",
        "\n",
        "# Relu activation functions only, with softmax activation function for the last Dense layer\n",
        "x = Conv2D(16, (3,3), activation='relu', padding='valid')(input)\n",
        "x = Conv2D(16, (3,3), activation='relu', padding='valid')(x)\n",
        "x = MaxPool2D(pool_size=(2,2), strides=(2,2))(x)\n",
        "x = Conv2D(32, (3,3), activation='relu', padding='valid')(x)\n",
        "x = Conv2D(16, (3,3), activation='relu', padding='valid')(x)\n",
        "x = MaxPool2D(pool_size=(2,2), strides=(2,2))(x)\n",
        "x = Conv2D(64, (3,3), activation='relu', padding='valid')(x)\n",
        "x = Conv2D(16, (3,3), activation='relu', padding='valid')(x)\n",
        "x = MaxPool2D(pool_size=(2,2), strides=(2,2))(x)\n",
        "\n",
        "x = Flatten()(x)\n",
        "x = Dense(256, activation='relu')(x)\n",
        "x = Dropout(rate=0.6)(x)\n",
        "x = Dense(128, activation='relu')(x)\n",
        "x = Dropout(rate=0.6)(x)\n",
        "output = Dense(2, activation='softmax')(x)\n",
        "\n",
        "# Optimizer = adam\n",
        "# Loss function = hinge\n",
        "model_4_06_version_2 = Model(inputs=input, outputs = output)\n",
        "model_4_06_version_2.compile(optimizer='adam', \n",
        "              loss='binary_crossentropy',\n",
        "              metrics=['acc'])\n",
        "\n",
        "model_4_06_version_2.summary()\n",
        "#plot_model(model_4_06_version_2)"
      ]
    },
    {
      "cell_type": "code",
      "execution_count": 85,
      "metadata": {
        "colab": {
          "base_uri": "https://localhost:8080/"
        },
        "id": "H2fUUye3w43j",
        "outputId": "a66c985c-7bc6-4306-93f0-c5b85afbdb46"
      },
      "outputs": [
        {
          "name": "stdout",
          "output_type": "stream",
          "text": [
            "Epoch 1/10\n",
            "4096/4096 [==============================] - 92s 22ms/step - loss: 0.4082 - acc: 0.8184 - val_loss: 0.4099 - val_acc: 0.8192\n",
            "Epoch 2/10\n",
            "4096/4096 [==============================] - 109s 27ms/step - loss: 0.3064 - acc: 0.8736 - val_loss: 0.3963 - val_acc: 0.8274\n",
            "Epoch 3/10\n",
            "4096/4096 [==============================] - 89s 22ms/step - loss: 0.2700 - acc: 0.8916 - val_loss: 0.3963 - val_acc: 0.8248\n",
            "Epoch 4/10\n",
            "4096/4096 [==============================] - 88s 21ms/step - loss: 0.2485 - acc: 0.9019 - val_loss: 0.3414 - val_acc: 0.8533\n",
            "Epoch 5/10\n",
            "4096/4096 [==============================] - 89s 22ms/step - loss: 0.2322 - acc: 0.9098 - val_loss: 0.3506 - val_acc: 0.8562\n",
            "Epoch 6/10\n",
            "4096/4096 [==============================] - 89s 22ms/step - loss: 0.2223 - acc: 0.9147 - val_loss: 0.3565 - val_acc: 0.8574\n",
            "Epoch 7/10\n",
            "4096/4096 [==============================] - 89s 22ms/step - loss: 0.2131 - acc: 0.9188 - val_loss: 0.3579 - val_acc: 0.8600\n",
            "Epoch 8/10\n",
            "4096/4096 [==============================] - 88s 21ms/step - loss: 0.2075 - acc: 0.9208 - val_loss: 0.3984 - val_acc: 0.8458\n",
            "Epoch 9/10\n",
            "4096/4096 [==============================] - 89s 22ms/step - loss: 0.1994 - acc: 0.9248 - val_loss: 0.3668 - val_acc: 0.8565\n",
            "Epoch 10/10\n",
            "4096/4096 [==============================] - 88s 22ms/step - loss: 0.1956 - acc: 0.9262 - val_loss: 0.5003 - val_acc: 0.8250\n"
          ]
        },
        {
          "data": {
            "text/plain": [
              "<keras.callbacks.History at 0x7f96e2527c50>"
            ]
          },
          "execution_count": 85,
          "metadata": {},
          "output_type": "execute_result"
        }
      ],
      "source": [
        "model_4_06_version_2.fit(train_ds, validation_data=validation_ds, epochs = 10, verbose = 1, steps_per_epoch=steps_per_epoch, validation_steps=validation_steps)"
      ]
    },
    {
      "cell_type": "code",
      "execution_count": 86,
      "metadata": {
        "colab": {
          "base_uri": "https://localhost:8080/"
        },
        "id": "0QvROXFBw49k",
        "outputId": "b7a80337-1498-4621-e0b9-1a7fd68fdffc"
      },
      "outputs": [
        {
          "name": "stdout",
          "output_type": "stream",
          "text": [
            "Model: \"model_31\"\n",
            "_________________________________________________________________\n",
            " Layer (type)                Output Shape              Param #   \n",
            "=================================================================\n",
            " input_32 (InputLayer)       [(None, 96, 96, 3)]       0         \n",
            "                                                                 \n",
            " conv2d_183 (Conv2D)         (None, 94, 94, 16)        448       \n",
            "                                                                 \n",
            " conv2d_184 (Conv2D)         (None, 92, 92, 16)        2320      \n",
            "                                                                 \n",
            " max_pooling2d_93 (MaxPoolin  (None, 46, 46, 16)       0         \n",
            " g2D)                                                            \n",
            "                                                                 \n",
            " conv2d_185 (Conv2D)         (None, 44, 44, 32)        4640      \n",
            "                                                                 \n",
            " conv2d_186 (Conv2D)         (None, 42, 42, 16)        4624      \n",
            "                                                                 \n",
            " max_pooling2d_94 (MaxPoolin  (None, 21, 21, 16)       0         \n",
            " g2D)                                                            \n",
            "                                                                 \n",
            " conv2d_187 (Conv2D)         (None, 19, 19, 64)        9280      \n",
            "                                                                 \n",
            " conv2d_188 (Conv2D)         (None, 17, 17, 16)        9232      \n",
            "                                                                 \n",
            " max_pooling2d_95 (MaxPoolin  (None, 8, 8, 16)         0         \n",
            " g2D)                                                            \n",
            "                                                                 \n",
            " flatten_31 (Flatten)        (None, 1024)              0         \n",
            "                                                                 \n",
            " dense_93 (Dense)            (None, 256)               262400    \n",
            "                                                                 \n",
            " dropout_62 (Dropout)        (None, 256)               0         \n",
            "                                                                 \n",
            " dense_94 (Dense)            (None, 128)               32896     \n",
            "                                                                 \n",
            " dropout_63 (Dropout)        (None, 128)               0         \n",
            "                                                                 \n",
            " dense_95 (Dense)            (None, 2)                 258       \n",
            "                                                                 \n",
            "=================================================================\n",
            "Total params: 326,098\n",
            "Trainable params: 326,098\n",
            "Non-trainable params: 0\n",
            "_________________________________________________________________\n"
          ]
        }
      ],
      "source": [
        "# Building the Convolutonal Nueral Network Model 4.07 (Version 2)\n",
        "\n",
        "# Setting up the output with the right size\n",
        "input = Input(shape=(96,96,3))\n",
        "\n",
        "# Relu activation functions only, with softmax activation function for the last Dense layer\n",
        "x = Conv2D(16, (3,3), activation='relu', padding='valid')(input)\n",
        "x = Conv2D(16, (3,3), activation='relu', padding='valid')(x)\n",
        "x = MaxPool2D(pool_size=(2,2), strides=(2,2))(x)\n",
        "x = Conv2D(32, (3,3), activation='relu', padding='valid')(x)\n",
        "x = Conv2D(16, (3,3), activation='relu', padding='valid')(x)\n",
        "x = MaxPool2D(pool_size=(2,2), strides=(2,2))(x)\n",
        "x = Conv2D(64, (3,3), activation='relu', padding='valid')(x)\n",
        "x = Conv2D(16, (3,3), activation='relu', padding='valid')(x)\n",
        "x = MaxPool2D(pool_size=(2,2), strides=(2,2))(x)\n",
        "\n",
        "x = Flatten()(x)\n",
        "x = Dense(256, activation='relu')(x)\n",
        "x = Dropout(rate=0.7)(x)\n",
        "x = Dense(128, activation='relu')(x)\n",
        "x = Dropout(rate=0.)(x)\n",
        "output = Dense(2, activation='softmax')(x)\n",
        "\n",
        "# Optimizer = adam\n",
        "# Loss function = hinge\n",
        "model_4_07_version_2 = Model(inputs=input, outputs = output)\n",
        "model_4_07_version_2.compile(optimizer='adam', \n",
        "              loss='binary_crossentropy',\n",
        "              metrics=['acc'])\n",
        "\n",
        "model_4_07_version_2.summary()\n",
        "#plot_model(model_4_07_version_2)"
      ]
    },
    {
      "cell_type": "code",
      "execution_count": 87,
      "metadata": {
        "colab": {
          "base_uri": "https://localhost:8080/"
        },
        "id": "MgaBkNg9yVab",
        "outputId": "0f9eeb9d-50cb-48da-afc2-658581840346"
      },
      "outputs": [
        {
          "name": "stdout",
          "output_type": "stream",
          "text": [
            "Epoch 1/10\n",
            "4096/4096 [==============================] - 92s 22ms/step - loss: 0.4179 - acc: 0.8124 - val_loss: 0.4206 - val_acc: 0.8098\n",
            "Epoch 2/10\n",
            "4096/4096 [==============================] - 87s 21ms/step - loss: 0.3076 - acc: 0.8726 - val_loss: 0.3745 - val_acc: 0.8363\n",
            "Epoch 3/10\n",
            "4096/4096 [==============================] - 88s 21ms/step - loss: 0.2695 - acc: 0.8907 - val_loss: 0.4356 - val_acc: 0.8116\n",
            "Epoch 4/10\n",
            "4096/4096 [==============================] - 110s 27ms/step - loss: 0.2460 - acc: 0.9028 - val_loss: 0.3667 - val_acc: 0.8464\n",
            "Epoch 5/10\n",
            "4096/4096 [==============================] - 89s 22ms/step - loss: 0.2293 - acc: 0.9107 - val_loss: 0.3843 - val_acc: 0.8504\n",
            "Epoch 6/10\n",
            "4096/4096 [==============================] - 89s 22ms/step - loss: 0.2193 - acc: 0.9149 - val_loss: 0.4000 - val_acc: 0.8413\n",
            "Epoch 7/10\n",
            "4096/4096 [==============================] - 89s 22ms/step - loss: 0.2086 - acc: 0.9192 - val_loss: 0.4053 - val_acc: 0.8347\n",
            "Epoch 8/10\n",
            "4096/4096 [==============================] - 88s 21ms/step - loss: 0.1999 - acc: 0.9233 - val_loss: 0.3777 - val_acc: 0.8484\n",
            "Epoch 9/10\n",
            "4096/4096 [==============================] - 89s 22ms/step - loss: 0.1926 - acc: 0.9265 - val_loss: 0.4896 - val_acc: 0.7882\n",
            "Epoch 10/10\n",
            "4096/4096 [==============================] - 88s 22ms/step - loss: 0.1867 - acc: 0.9289 - val_loss: 0.4722 - val_acc: 0.8065\n"
          ]
        },
        {
          "data": {
            "text/plain": [
              "<keras.callbacks.History at 0x7f9601b52850>"
            ]
          },
          "execution_count": 87,
          "metadata": {},
          "output_type": "execute_result"
        }
      ],
      "source": [
        "model_4_07_version_2.fit(train_ds, validation_data=validation_ds, epochs = 10, verbose = 1, steps_per_epoch=steps_per_epoch, validation_steps=validation_steps)"
      ]
    },
    {
      "cell_type": "code",
      "execution_count": 88,
      "metadata": {
        "colab": {
          "base_uri": "https://localhost:8080/"
        },
        "id": "3voumUBUyYY4",
        "outputId": "133d6cf0-07e8-4652-ebcc-78d55f8450fc"
      },
      "outputs": [
        {
          "name": "stdout",
          "output_type": "stream",
          "text": [
            "Model: \"model_32\"\n",
            "_________________________________________________________________\n",
            " Layer (type)                Output Shape              Param #   \n",
            "=================================================================\n",
            " input_33 (InputLayer)       [(None, 96, 96, 3)]       0         \n",
            "                                                                 \n",
            " conv2d_189 (Conv2D)         (None, 94, 94, 16)        448       \n",
            "                                                                 \n",
            " conv2d_190 (Conv2D)         (None, 92, 92, 16)        2320      \n",
            "                                                                 \n",
            " max_pooling2d_96 (MaxPoolin  (None, 46, 46, 16)       0         \n",
            " g2D)                                                            \n",
            "                                                                 \n",
            " conv2d_191 (Conv2D)         (None, 44, 44, 32)        4640      \n",
            "                                                                 \n",
            " conv2d_192 (Conv2D)         (None, 42, 42, 16)        4624      \n",
            "                                                                 \n",
            " max_pooling2d_97 (MaxPoolin  (None, 21, 21, 16)       0         \n",
            " g2D)                                                            \n",
            "                                                                 \n",
            " conv2d_193 (Conv2D)         (None, 19, 19, 64)        9280      \n",
            "                                                                 \n",
            " conv2d_194 (Conv2D)         (None, 17, 17, 16)        9232      \n",
            "                                                                 \n",
            " max_pooling2d_98 (MaxPoolin  (None, 8, 8, 16)         0         \n",
            " g2D)                                                            \n",
            "                                                                 \n",
            " flatten_32 (Flatten)        (None, 1024)              0         \n",
            "                                                                 \n",
            " dense_96 (Dense)            (None, 256)               262400    \n",
            "                                                                 \n",
            " dropout_64 (Dropout)        (None, 256)               0         \n",
            "                                                                 \n",
            " dense_97 (Dense)            (None, 128)               32896     \n",
            "                                                                 \n",
            " dropout_65 (Dropout)        (None, 128)               0         \n",
            "                                                                 \n",
            " dense_98 (Dense)            (None, 2)                 258       \n",
            "                                                                 \n",
            "=================================================================\n",
            "Total params: 326,098\n",
            "Trainable params: 326,098\n",
            "Non-trainable params: 0\n",
            "_________________________________________________________________\n"
          ]
        }
      ],
      "source": [
        "# Building the Convolutonal Nueral Network Model 4.08 (Version 2)\n",
        "\n",
        "# Setting up the output with the right size\n",
        "input = Input(shape=(96,96,3))\n",
        "\n",
        "# Relu activation functions only, with softmax activation function for the last Dense layer\n",
        "x = Conv2D(16, (3,3), activation='relu', padding='valid')(input)\n",
        "x = Conv2D(16, (3,3), activation='relu', padding='valid')(x)\n",
        "x = MaxPool2D(pool_size=(2,2), strides=(2,2))(x)\n",
        "x = Conv2D(32, (3,3), activation='relu', padding='valid')(x)\n",
        "x = Conv2D(16, (3,3), activation='relu', padding='valid')(x)\n",
        "x = MaxPool2D(pool_size=(2,2), strides=(2,2))(x)\n",
        "x = Conv2D(64, (3,3), activation='relu', padding='valid')(x)\n",
        "x = Conv2D(16, (3,3), activation='relu', padding='valid')(x)\n",
        "x = MaxPool2D(pool_size=(2,2), strides=(2,2))(x)\n",
        "\n",
        "x = Flatten()(x)\n",
        "x = Dense(256, activation='relu')(x)\n",
        "x = Dropout(rate=0.7)(x)\n",
        "x = Dense(128, activation='relu')(x)\n",
        "x = Dropout(rate=0.)(x)\n",
        "output = Dense(2, activation='softmax')(x)\n",
        "\n",
        "# Optimizer = adam\n",
        "# Loss function = hinge\n",
        "model_4_08_version_2 = Model(inputs=input, outputs = output)\n",
        "model_4_08_version_2.compile(optimizer='adam', \n",
        "              loss='binary_crossentropy',\n",
        "              metrics=['acc'])\n",
        "\n",
        "model_4_08_version_2.summary()\n",
        "#plot_model(model_4_08_version_2)"
      ]
    },
    {
      "cell_type": "code",
      "execution_count": 89,
      "metadata": {
        "colab": {
          "base_uri": "https://localhost:8080/"
        },
        "id": "RxJl12hVyjfU",
        "outputId": "76b48af8-b978-48d4-c9ae-691349ba67cb"
      },
      "outputs": [
        {
          "name": "stdout",
          "output_type": "stream",
          "text": [
            "Epoch 1/10\n",
            "4096/4096 [==============================] - 91s 22ms/step - loss: 0.4032 - acc: 0.8208 - val_loss: 0.3601 - val_acc: 0.8377\n",
            "Epoch 2/10\n",
            "4096/4096 [==============================] - 109s 27ms/step - loss: 0.2977 - acc: 0.8768 - val_loss: 0.3853 - val_acc: 0.8320\n",
            "Epoch 3/10\n",
            "4096/4096 [==============================] - 89s 22ms/step - loss: 0.2593 - acc: 0.8946 - val_loss: 0.3243 - val_acc: 0.8591\n",
            "Epoch 4/10\n",
            "4096/4096 [==============================] - 88s 22ms/step - loss: 0.2385 - acc: 0.9054 - val_loss: 0.3928 - val_acc: 0.8290\n",
            "Epoch 5/10\n",
            "4096/4096 [==============================] - 89s 22ms/step - loss: 0.2228 - acc: 0.9120 - val_loss: 0.3949 - val_acc: 0.8432\n",
            "Epoch 6/10\n",
            "4096/4096 [==============================] - 88s 21ms/step - loss: 0.2112 - acc: 0.9178 - val_loss: 0.3455 - val_acc: 0.8519\n",
            "Epoch 7/10\n",
            "4096/4096 [==============================] - 89s 22ms/step - loss: 0.2028 - acc: 0.9214 - val_loss: 0.4486 - val_acc: 0.8264\n",
            "Epoch 8/10\n",
            "4096/4096 [==============================] - 87s 21ms/step - loss: 0.1949 - acc: 0.9247 - val_loss: 0.4172 - val_acc: 0.8328\n",
            "Epoch 9/10\n",
            "4096/4096 [==============================] - 88s 21ms/step - loss: 0.1901 - acc: 0.9268 - val_loss: 0.5026 - val_acc: 0.8101\n",
            "Epoch 10/10\n",
            "4096/4096 [==============================] - 86s 21ms/step - loss: 0.1849 - acc: 0.9292 - val_loss: 0.3518 - val_acc: 0.8567\n"
          ]
        },
        {
          "data": {
            "text/plain": [
              "<keras.callbacks.History at 0x7f95fff68050>"
            ]
          },
          "execution_count": 89,
          "metadata": {},
          "output_type": "execute_result"
        }
      ],
      "source": [
        "model_4_08_version_2.fit(train_ds, validation_data=validation_ds, epochs = 10, verbose = 1, steps_per_epoch=steps_per_epoch, validation_steps=validation_steps)"
      ]
    },
    {
      "cell_type": "markdown",
      "metadata": {
        "id": "tYaTbmuaAIFJ"
      },
      "source": [
        "Saving the models"
      ]
    },
    {
      "cell_type": "code",
      "execution_count": 28,
      "metadata": {
        "colab": {
          "base_uri": "https://localhost:8080/"
        },
        "id": "hGtG0eyoe3zY",
        "outputId": "79e4b351-b893-4774-f2f4-97ba9c994ce2"
      },
      "outputs": [
        {
          "name": "stdout",
          "output_type": "stream",
          "text": [
            "INFO:tensorflow:Assets written to: ram://a6818ad0-b7ea-41c9-9465-16f9e09f4f7b/assets\n"
          ]
        },
        {
          "name": "stderr",
          "output_type": "stream",
          "text": [
            "INFO:tensorflow:Assets written to: ram://a6818ad0-b7ea-41c9-9465-16f9e09f4f7b/assets\n"
          ]
        },
        {
          "data": {
            "text/plain": [
              "['model_1_version_2']"
            ]
          },
          "execution_count": 28,
          "metadata": {},
          "output_type": "execute_result"
        }
      ],
      "source": [
        "import joblib\n",
        "\n",
        "# Models 1, 2, 3\n",
        "joblib.dump(model_1_version_2, 'model_1_version_2')\n",
        "joblib.dump(model_2_version_2, 'model_2_version_2')\n",
        "joblib.dump(model_3_version_2, 'model_3_version_2')"
      ]
    },
    {
      "cell_type": "code",
      "execution_count": 75,
      "metadata": {
        "colab": {
          "base_uri": "https://localhost:8080/"
        },
        "id": "RXDMeNtTL9zk",
        "outputId": "fe89327e-da95-4279-b029-8196f0b29f72"
      },
      "outputs": [
        {
          "name": "stdout",
          "output_type": "stream",
          "text": [
            "INFO:tensorflow:Assets written to: ram://248fc3e2-aecb-4b54-ad36-1e1732ec2abb/assets\n"
          ]
        },
        {
          "name": "stderr",
          "output_type": "stream",
          "text": [
            "INFO:tensorflow:Assets written to: ram://248fc3e2-aecb-4b54-ad36-1e1732ec2abb/assets\n"
          ]
        },
        {
          "name": "stdout",
          "output_type": "stream",
          "text": [
            "INFO:tensorflow:Assets written to: ram://2201679e-44f1-4542-9fca-d7c68ba1df77/assets\n"
          ]
        },
        {
          "name": "stderr",
          "output_type": "stream",
          "text": [
            "INFO:tensorflow:Assets written to: ram://2201679e-44f1-4542-9fca-d7c68ba1df77/assets\n"
          ]
        },
        {
          "name": "stdout",
          "output_type": "stream",
          "text": [
            "INFO:tensorflow:Assets written to: ram://d24223d0-4985-4d56-b75c-b0bf0d751394/assets\n"
          ]
        },
        {
          "name": "stderr",
          "output_type": "stream",
          "text": [
            "INFO:tensorflow:Assets written to: ram://d24223d0-4985-4d56-b75c-b0bf0d751394/assets\n"
          ]
        },
        {
          "name": "stdout",
          "output_type": "stream",
          "text": [
            "INFO:tensorflow:Assets written to: ram://90ea020a-fa0b-42c7-a6b8-092f19f233d8/assets\n"
          ]
        },
        {
          "name": "stderr",
          "output_type": "stream",
          "text": [
            "INFO:tensorflow:Assets written to: ram://90ea020a-fa0b-42c7-a6b8-092f19f233d8/assets\n"
          ]
        },
        {
          "name": "stdout",
          "output_type": "stream",
          "text": [
            "INFO:tensorflow:Assets written to: ram://a18668d6-fba0-40fe-b1d4-3eb5e7e93c55/assets\n"
          ]
        },
        {
          "name": "stderr",
          "output_type": "stream",
          "text": [
            "INFO:tensorflow:Assets written to: ram://a18668d6-fba0-40fe-b1d4-3eb5e7e93c55/assets\n"
          ]
        },
        {
          "name": "stdout",
          "output_type": "stream",
          "text": [
            "INFO:tensorflow:Assets written to: ram://76beb2e6-02a1-4b21-be5b-888b8aaa600d/assets\n"
          ]
        },
        {
          "name": "stderr",
          "output_type": "stream",
          "text": [
            "INFO:tensorflow:Assets written to: ram://76beb2e6-02a1-4b21-be5b-888b8aaa600d/assets\n"
          ]
        },
        {
          "data": {
            "text/plain": [
              "['model_3_2_version_2']"
            ]
          },
          "execution_count": 75,
          "metadata": {},
          "output_type": "execute_result"
        }
      ],
      "source": [
        "# Models 1.1., 1.2, 2.1, 2.2, 3.1, 3.2\n",
        "joblib.dump(model_1_1_version_2, 'model_1_1_version_2')\n",
        "joblib.dump(model_1_2_version_2, 'model_1_2_version_2')\n",
        "joblib.dump(model_2_1_version_2, 'model_2_1_version_2')\n",
        "joblib.dump(model_2_2_version_2, 'model_2_2_version_2')\n",
        "joblib.dump(model_3_1_version_2, 'model_3_1_version_2')\n",
        "joblib.dump(model_3_2_version_2, 'model_3_2_version_2')"
      ]
    },
    {
      "cell_type": "code",
      "execution_count": 76,
      "metadata": {
        "colab": {
          "base_uri": "https://localhost:8080/"
        },
        "id": "3oyaZ0LFUDtS",
        "outputId": "98b6c925-3f5b-4206-c2db-7dd156c5fff9"
      },
      "outputs": [
        {
          "name": "stdout",
          "output_type": "stream",
          "text": [
            "INFO:tensorflow:Assets written to: ram://2f3d10b1-ff60-45e6-b08a-2da433e99109/assets\n"
          ]
        },
        {
          "name": "stderr",
          "output_type": "stream",
          "text": [
            "INFO:tensorflow:Assets written to: ram://2f3d10b1-ff60-45e6-b08a-2da433e99109/assets\n"
          ]
        },
        {
          "name": "stdout",
          "output_type": "stream",
          "text": [
            "INFO:tensorflow:Assets written to: ram://2e205d7c-20c8-45a5-ad46-4ef79eefb639/assets\n"
          ]
        },
        {
          "name": "stderr",
          "output_type": "stream",
          "text": [
            "INFO:tensorflow:Assets written to: ram://2e205d7c-20c8-45a5-ad46-4ef79eefb639/assets\n"
          ]
        },
        {
          "name": "stdout",
          "output_type": "stream",
          "text": [
            "INFO:tensorflow:Assets written to: ram://a589e7d7-8ac9-417b-8bb9-4ea873f560e6/assets\n"
          ]
        },
        {
          "name": "stderr",
          "output_type": "stream",
          "text": [
            "INFO:tensorflow:Assets written to: ram://a589e7d7-8ac9-417b-8bb9-4ea873f560e6/assets\n"
          ]
        },
        {
          "name": "stdout",
          "output_type": "stream",
          "text": [
            "INFO:tensorflow:Assets written to: ram://20fd52d4-66fd-476c-aeb0-485a739a8a50/assets\n"
          ]
        },
        {
          "name": "stderr",
          "output_type": "stream",
          "text": [
            "INFO:tensorflow:Assets written to: ram://20fd52d4-66fd-476c-aeb0-485a739a8a50/assets\n"
          ]
        },
        {
          "name": "stdout",
          "output_type": "stream",
          "text": [
            "INFO:tensorflow:Assets written to: ram://3f41e740-dbf4-4dd9-b984-54e58b6257e6/assets\n"
          ]
        },
        {
          "name": "stderr",
          "output_type": "stream",
          "text": [
            "INFO:tensorflow:Assets written to: ram://3f41e740-dbf4-4dd9-b984-54e58b6257e6/assets\n"
          ]
        },
        {
          "name": "stdout",
          "output_type": "stream",
          "text": [
            "INFO:tensorflow:Assets written to: ram://67f6a5e2-5ffb-4a71-b9b5-003469b5f059/assets\n"
          ]
        },
        {
          "name": "stderr",
          "output_type": "stream",
          "text": [
            "INFO:tensorflow:Assets written to: ram://67f6a5e2-5ffb-4a71-b9b5-003469b5f059/assets\n"
          ]
        },
        {
          "name": "stdout",
          "output_type": "stream",
          "text": [
            "INFO:tensorflow:Assets written to: ram://a5c94a1d-9fa9-4c9d-8797-b316301ea3a1/assets\n"
          ]
        },
        {
          "name": "stderr",
          "output_type": "stream",
          "text": [
            "INFO:tensorflow:Assets written to: ram://a5c94a1d-9fa9-4c9d-8797-b316301ea3a1/assets\n"
          ]
        },
        {
          "name": "stdout",
          "output_type": "stream",
          "text": [
            "INFO:tensorflow:Assets written to: ram://0993b1a3-9d6d-420e-bf00-e3a8900816c2/assets\n"
          ]
        },
        {
          "name": "stderr",
          "output_type": "stream",
          "text": [
            "INFO:tensorflow:Assets written to: ram://0993b1a3-9d6d-420e-bf00-e3a8900816c2/assets\n"
          ]
        },
        {
          "name": "stdout",
          "output_type": "stream",
          "text": [
            "INFO:tensorflow:Assets written to: ram://0f9830f9-a5f8-4f9b-96b6-5367341b5219/assets\n"
          ]
        },
        {
          "name": "stderr",
          "output_type": "stream",
          "text": [
            "INFO:tensorflow:Assets written to: ram://0f9830f9-a5f8-4f9b-96b6-5367341b5219/assets\n"
          ]
        },
        {
          "name": "stdout",
          "output_type": "stream",
          "text": [
            "INFO:tensorflow:Assets written to: ram://b27142d3-935f-4efd-a39d-393d0591d7cc/assets\n"
          ]
        },
        {
          "name": "stderr",
          "output_type": "stream",
          "text": [
            "INFO:tensorflow:Assets written to: ram://b27142d3-935f-4efd-a39d-393d0591d7cc/assets\n"
          ]
        },
        {
          "name": "stdout",
          "output_type": "stream",
          "text": [
            "INFO:tensorflow:Assets written to: ram://250150a2-2e40-4e20-9546-ae8f69c3d458/assets\n"
          ]
        },
        {
          "name": "stderr",
          "output_type": "stream",
          "text": [
            "INFO:tensorflow:Assets written to: ram://250150a2-2e40-4e20-9546-ae8f69c3d458/assets\n"
          ]
        },
        {
          "name": "stdout",
          "output_type": "stream",
          "text": [
            "INFO:tensorflow:Assets written to: ram://abc62314-066e-44bb-8a37-d1c9c93691fa/assets\n"
          ]
        },
        {
          "name": "stderr",
          "output_type": "stream",
          "text": [
            "INFO:tensorflow:Assets written to: ram://abc62314-066e-44bb-8a37-d1c9c93691fa/assets\n"
          ]
        },
        {
          "name": "stdout",
          "output_type": "stream",
          "text": [
            "INFO:tensorflow:Assets written to: ram://d8d6918f-6c1e-48f5-b333-62b07d0edd22/assets\n"
          ]
        },
        {
          "name": "stderr",
          "output_type": "stream",
          "text": [
            "INFO:tensorflow:Assets written to: ram://d8d6918f-6c1e-48f5-b333-62b07d0edd22/assets\n"
          ]
        },
        {
          "name": "stdout",
          "output_type": "stream",
          "text": [
            "INFO:tensorflow:Assets written to: ram://f62e6e4e-9b0a-4c19-a809-8d67554323a7/assets\n"
          ]
        },
        {
          "name": "stderr",
          "output_type": "stream",
          "text": [
            "INFO:tensorflow:Assets written to: ram://f62e6e4e-9b0a-4c19-a809-8d67554323a7/assets\n"
          ]
        },
        {
          "name": "stdout",
          "output_type": "stream",
          "text": [
            "INFO:tensorflow:Assets written to: ram://051614b5-0329-455e-a208-dc63afa0c147/assets\n"
          ]
        },
        {
          "name": "stderr",
          "output_type": "stream",
          "text": [
            "INFO:tensorflow:Assets written to: ram://051614b5-0329-455e-a208-dc63afa0c147/assets\n"
          ]
        },
        {
          "name": "stdout",
          "output_type": "stream",
          "text": [
            "INFO:tensorflow:Assets written to: ram://25ce4481-e3f8-435e-a3f8-cc276649beb0/assets\n"
          ]
        },
        {
          "name": "stderr",
          "output_type": "stream",
          "text": [
            "INFO:tensorflow:Assets written to: ram://25ce4481-e3f8-435e-a3f8-cc276649beb0/assets\n"
          ]
        },
        {
          "name": "stdout",
          "output_type": "stream",
          "text": [
            "INFO:tensorflow:Assets written to: ram://21daaa96-7b30-4283-b2c5-c95a28d694e2/assets\n"
          ]
        },
        {
          "name": "stderr",
          "output_type": "stream",
          "text": [
            "INFO:tensorflow:Assets written to: ram://21daaa96-7b30-4283-b2c5-c95a28d694e2/assets\n"
          ]
        },
        {
          "name": "stdout",
          "output_type": "stream",
          "text": [
            "INFO:tensorflow:Assets written to: ram://23365eca-06e7-4c99-8417-bab0c2467735/assets\n"
          ]
        },
        {
          "name": "stderr",
          "output_type": "stream",
          "text": [
            "INFO:tensorflow:Assets written to: ram://23365eca-06e7-4c99-8417-bab0c2467735/assets\n"
          ]
        },
        {
          "data": {
            "text/plain": [
              "['model_3_2_3_version_2']"
            ]
          },
          "execution_count": 76,
          "metadata": {},
          "output_type": "execute_result"
        }
      ],
      "source": [
        "#Models 1.1.1, 1.1.2, 1.1.3, 1.2.1, 1.2.2, 1.2.3, 2.1.1, 2.1.2, 2.1.3, 2.2.1, 2.2.2, 2.2.3, 3.1.1, 3.1.2, 3.1.3, 3.2.1, 3.2.2, 3.2.3.\n",
        "\n",
        "joblib.dump(model_1_1_1_version_2, 'model_1_1_1_version_2')\n",
        "joblib.dump(model_1_1_2_version_2, 'model_1_1_2_version_2')\n",
        "joblib.dump(model_1_1_3_version_2, 'model_1_1_3_version_2')\n",
        "\n",
        "joblib.dump(model_1_2_1_version_2, 'model_1_2_1_version_2')\n",
        "joblib.dump(model_1_2_2_version_2, 'model_1_2_2_version_2')\n",
        "joblib.dump(model_1_2_3_version_2, 'model_1_2_3_version_2')\n",
        "\n",
        "joblib.dump(model_2_1_1_version_2, 'model_2_1_1_version_2')\n",
        "joblib.dump(model_2_1_2_version_2, 'model_2_1_2_version_2')\n",
        "joblib.dump(model_2_1_3_version_2, 'model_2_1_3_version_2')\n",
        "\n",
        "joblib.dump(model_2_2_1_version_2, 'model_2_2_1_version_2')\n",
        "joblib.dump(model_2_2_2_version_2, 'model_2_2_2_version_2')\n",
        "joblib.dump(model_2_2_3_version_2, 'model_2_2_3_version_2')\n",
        "\n",
        "joblib.dump(model_3_1_1_version_2, 'model_3_1_1_version_2')\n",
        "joblib.dump(model_3_1_2_version_2, 'model_3_1_2_version_2')\n",
        "joblib.dump(model_3_1_3_version_2, 'model_3_1_3_version_2')\n",
        "\n",
        "joblib.dump(model_3_2_1_version_2, 'model_3_2_1_version_2')\n",
        "joblib.dump(model_3_2_2_version_2, 'model_3_2_2_version_2')\n",
        "joblib.dump(model_3_2_3_version_2, 'model_3_2_3_version_2')"
      ]
    },
    {
      "cell_type": "code",
      "execution_count": 80,
      "metadata": {
        "colab": {
          "base_uri": "https://localhost:8080/"
        },
        "id": "J0kZ7UFuxJYx",
        "outputId": "35204429-1c67-418b-9873-92555f0b2db1"
      },
      "outputs": [
        {
          "name": "stdout",
          "output_type": "stream",
          "text": [
            "INFO:tensorflow:Assets written to: ram://395754e7-a043-4aa0-9ec4-e9aed5d0ebfa/assets\n"
          ]
        },
        {
          "name": "stderr",
          "output_type": "stream",
          "text": [
            "INFO:tensorflow:Assets written to: ram://395754e7-a043-4aa0-9ec4-e9aed5d0ebfa/assets\n"
          ]
        },
        {
          "data": {
            "text/plain": [
              "['model_4_01_version_2']"
            ]
          },
          "execution_count": 80,
          "metadata": {},
          "output_type": "execute_result"
        }
      ],
      "source": [
        "joblib.dump(model_4_01_version_2, 'model_4_01_version_2')"
      ]
    },
    {
      "cell_type": "code",
      "execution_count": 93,
      "metadata": {
        "colab": {
          "base_uri": "https://localhost:8080/"
        },
        "id": "yszYc_pgy73k",
        "outputId": "0b4abf7a-8484-4d30-de5d-3e822cfc9c61"
      },
      "outputs": [
        {
          "name": "stdout",
          "output_type": "stream",
          "text": [
            "INFO:tensorflow:Assets written to: ram://46424e75-fa97-47ee-a2be-2cdffab90217/assets\n"
          ]
        },
        {
          "name": "stderr",
          "output_type": "stream",
          "text": [
            "INFO:tensorflow:Assets written to: ram://46424e75-fa97-47ee-a2be-2cdffab90217/assets\n"
          ]
        },
        {
          "data": {
            "text/plain": [
              "['model_4_06_version_2']"
            ]
          },
          "execution_count": 93,
          "metadata": {},
          "output_type": "execute_result"
        }
      ],
      "source": [
        "joblib.dump(model_4_06_version_2, 'model_4_06_version_2')"
      ]
    },
    {
      "cell_type": "code",
      "execution_count": 94,
      "metadata": {
        "colab": {
          "base_uri": "https://localhost:8080/"
        },
        "id": "copAtmHpy76t",
        "outputId": "27c41621-b8aa-4ad0-f8f1-f113e2a9e165"
      },
      "outputs": [
        {
          "name": "stdout",
          "output_type": "stream",
          "text": [
            "INFO:tensorflow:Assets written to: ram://6cc32f53-1f64-4d5a-9079-39964860cb12/assets\n"
          ]
        },
        {
          "name": "stderr",
          "output_type": "stream",
          "text": [
            "INFO:tensorflow:Assets written to: ram://6cc32f53-1f64-4d5a-9079-39964860cb12/assets\n"
          ]
        },
        {
          "data": {
            "text/plain": [
              "['model_4_07_version_2']"
            ]
          },
          "execution_count": 94,
          "metadata": {},
          "output_type": "execute_result"
        }
      ],
      "source": [
        "joblib.dump(model_4_07_version_2, 'model_4_07_version_2')"
      ]
    },
    {
      "cell_type": "code",
      "execution_count": 95,
      "metadata": {
        "colab": {
          "base_uri": "https://localhost:8080/"
        },
        "id": "861AbxPBy7-U",
        "outputId": "0edb07a4-01c6-49be-dfca-b2057aa67b12"
      },
      "outputs": [
        {
          "name": "stdout",
          "output_type": "stream",
          "text": [
            "INFO:tensorflow:Assets written to: ram://dfd0ffda-9b27-428e-b165-1c0fe02b513a/assets\n"
          ]
        },
        {
          "name": "stderr",
          "output_type": "stream",
          "text": [
            "INFO:tensorflow:Assets written to: ram://dfd0ffda-9b27-428e-b165-1c0fe02b513a/assets\n"
          ]
        },
        {
          "data": {
            "text/plain": [
              "['model_4_08_version_2']"
            ]
          },
          "execution_count": 95,
          "metadata": {},
          "output_type": "execute_result"
        }
      ],
      "source": [
        "joblib.dump(model_4_08_version_2, 'model_4_08_version_2')"
      ]
    },
    {
      "cell_type": "markdown",
      "metadata": {
        "id": "qkXvx9TxVLX2"
      },
      "source": [
        "Loading the saved models"
      ]
    },
    {
      "cell_type": "code",
      "execution_count": 43,
      "metadata": {
        "id": "6P35TFZ5gQWP"
      },
      "outputs": [],
      "source": [
        "# Models 1, 2, 3\n",
        "model_1_version_2_object = joblib.load('model_1_version_2')\n",
        "model_2_version_2_object = joblib.load('model_2_version_2')\n",
        "model_3_version_2_object = joblib.load('model_3_version_2')"
      ]
    },
    {
      "cell_type": "code",
      "execution_count": 38,
      "metadata": {
        "id": "ZWJBefA3MBHc"
      },
      "outputs": [],
      "source": [
        "\n",
        "# Models 1.1., 1.2, 2.1, 2.2, 3.1, 3.2\n",
        "model_1_1_version_2_object = joblib.load('model_1_1_version_2')\n",
        "model_1_2_version_2_object = joblib.load('model_1_2_version_2')\n",
        "model_2_1_version_2_object = joblib.load('model_2_1_version_2')\n",
        "model_2_2_version_2_object = joblib.load('model_2_2_version_2')\n",
        "model_3_1_version_2_object = joblib.load('model_3_1_version_2')\n",
        "model_3_2_version_2_object = joblib.load('model_3_2_version_2')"
      ]
    },
    {
      "cell_type": "code",
      "execution_count": 77,
      "metadata": {
        "id": "KD2_SzAqVRbj"
      },
      "outputs": [],
      "source": [
        "#Models 1.1.1, 1.1.2, 1.1.3, 1.2.1, 1.2.2, 1.2.3, 2.1.1, 2.1.2, 2.1.3, 2.2.1, 2.2.2, 2.2.3, 3.1.1, 3.1.2, 3.1.3, 3.2.1, 3.2.2, 3.2.3.\n",
        "\n",
        "model_1_1_1_version_2_object= joblib.load('model_1_1_1_version_2')\n",
        "model_1_1_2_version_2_object= joblib.load('model_1_1_2_version_2')\n",
        "model_1_1_3_version_2_object= joblib.load('model_1_1_3_version_2')\n",
        "\n",
        "model_1_2_1_version_2_object= joblib.load('model_1_2_1_version_2')\n",
        "model_1_2_2_version_2_object= joblib.load('model_1_2_2_version_2')\n",
        "model_1_2_3_version_2_object= joblib.load('model_1_2_3_version_2')\n",
        "\n",
        "model_2_1_1_version_2_object= joblib.load('model_2_1_1_version_2')\n",
        "model_2_1_2_version_2_object= joblib.load('model_2_1_2_version_2')\n",
        "model_2_1_3_version_2_object= joblib.load('model_2_1_3_version_2')\n",
        "\n",
        "model_2_2_1_version_2_object= joblib.load('model_2_2_1_version_2')\n",
        "model_2_2_2_version_2_object= joblib.load('model_2_2_2_version_2')\n",
        "model_2_2_3_version_2_object= joblib.load('model_2_2_3_version_2')\n",
        "\n",
        "model_3_1_1_version_2_object= joblib.load('model_3_1_1_version_2')\n",
        "model_3_1_2_version_2_object= joblib.load('model_3_1_2_version_2')\n",
        "model_3_1_3_version_2_object= joblib.load('model_3_1_3_version_2')\n",
        "\n",
        "model_3_2_1_version_2_object= joblib.load('model_3_2_1_version_2')\n",
        "model_3_2_2_version_2_object= joblib.load('model_3_2_2_version_2')\n",
        "model_3_2_3_version_2_object= joblib.load('model_3_2_3_version_2')"
      ]
    },
    {
      "cell_type": "code",
      "execution_count": 81,
      "metadata": {
        "id": "eb2w1tzZxWc_"
      },
      "outputs": [],
      "source": [
        "model_4_01_version_2_object = joblib.load('model_4_01_version_2')"
      ]
    },
    {
      "cell_type": "code",
      "execution_count": 96,
      "metadata": {
        "id": "jSBggy3ayyRx"
      },
      "outputs": [],
      "source": [
        "model_4_06_version_2_object = joblib.load('model_4_06_version_2')"
      ]
    },
    {
      "cell_type": "code",
      "execution_count": 97,
      "metadata": {
        "id": "pm3x24ffyyVQ"
      },
      "outputs": [],
      "source": [
        "model_4_07_version_2_object = joblib.load('model_4_07_version_2')"
      ]
    },
    {
      "cell_type": "code",
      "execution_count": 98,
      "metadata": {
        "id": "duNSQ--pyyYv"
      },
      "outputs": [],
      "source": [
        "model_4_08_version_2_object = joblib.load('model_4_08_version_2')"
      ]
    },
    {
      "cell_type": "markdown",
      "metadata": {
        "id": "zoAW6aBXVPB_"
      },
      "source": [
        "Evaluating models"
      ]
    },
    {
      "cell_type": "code",
      "execution_count": 30,
      "metadata": {
        "colab": {
          "base_uri": "https://localhost:8080/"
        },
        "id": "aPuXE01CwgGs",
        "outputId": "f10418ef-12f8-4660-8b32-2b33721f1c4b"
      },
      "outputs": [
        {
          "name": "stdout",
          "output_type": "stream",
          "text": [
            "256/256 [==============================] - 8s 31ms/step - loss: 0.4693 - acc: 0.8337\n",
            "Test dataset accuracy for model 1 version 2 is: 0.8337\n",
            "256/256 [==============================] - 8s 31ms/step - loss: 0.6988 - acc: 0.4998\n",
            "Test dataset accuracy for model 2 version 2 is: 0.4998\n",
            "256/256 [==============================] - 8s 29ms/step - loss: 0.6963 - acc: 0.4998\n",
            "Test dataset accuracy for model 3 version 2 is: 0.4998\n"
          ]
        }
      ],
      "source": [
        "# Model 1, 2, 3\n",
        "\n",
        "print(\"Test dataset accuracy for model 1 version 2 is: {0:.4f}\".format(model_1_version_2_object.evaluate(test_ds, steps=steps, verbose=1)[1]))\n",
        "print(\"Test dataset accuracy for model 2 version 2 is: {0:.4f}\".format(model_2_version_2_object.evaluate(test_ds, steps=steps, verbose=1)[1]))\n",
        "print(\"Test dataset accuracy for model 3 version 2 is: {0:.4f}\".format(model_3_version_2_object.evaluate(test_ds, steps=steps, verbose=1)[1]))"
      ]
    },
    {
      "cell_type": "code",
      "execution_count": 44,
      "metadata": {
        "colab": {
          "base_uri": "https://localhost:8080/"
        },
        "id": "Yy-dCL5VKrgr",
        "outputId": "8b715644-f212-44cb-ebd0-7112171af836"
      },
      "outputs": [
        {
          "name": "stdout",
          "output_type": "stream",
          "text": [
            "256/256 [==============================] - 8s 30ms/step - loss: 1.0017 - acc: 0.4998\n",
            "Test dataset accuracy for model 1.1 version 2 is: 0.4998\n",
            "256/256 [==============================] - 8s 32ms/step - loss: 0.2497 - acc: 0.5002\n",
            "Test dataset accuracy for model 1.2 version 2 is: 0.5002\n",
            "256/256 [==============================] - 8s 32ms/step - loss: 0.2497 - acc: 0.5002\n",
            "Test dataset accuracy for model 1.2 version 2 is: 0.5002\n",
            "256/256 [==============================] - 8s 32ms/step - loss: 0.2497 - acc: 0.5002\n",
            "Test dataset accuracy for model 1.2 version 2 is: 0.5002\n",
            "256/256 [==============================] - 8s 33ms/step - loss: 0.2497 - acc: 0.5002\n",
            "Test dataset accuracy for model 1.2 version 2 is: 0.5002\n",
            "256/256 [==============================] - 8s 33ms/step - loss: 0.2497 - acc: 0.5002\n",
            "Test dataset accuracy for model 1.2 version 2 is: 0.5002\n"
          ]
        }
      ],
      "source": [
        "# Models 1.1., 1.2, 2.1, 2.2, 3.1, 3.2\n",
        "\n",
        "\n",
        "print(\"Test dataset accuracy for model 1.1 version 2 is: {0:.4f}\".format(model_1_1_version_2_object.evaluate(test_ds, steps=steps, verbose=1)[1]))\n",
        "print(\"Test dataset accuracy for model 1.2 version 2 is: {0:.4f}\".format(model_1_2_version_2_object.evaluate(test_ds, steps=steps, verbose=1)[1]))\n",
        "\n",
        "print(\"Test dataset accuracy for model 2.1 version 2 is: {0:.4f}\".format(model_2_1_version_2_object.evaluate(test_ds, steps=steps, verbose=1)[1]))\n",
        "print(\"Test dataset accuracy for model 1.2 version 2 is: {0:.4f}\".format(model_2_2_version_2_object.evaluate(test_ds, steps=steps, verbose=1)[1]))\n",
        "\n",
        "print(\"Test dataset accuracy for model 3.1 version 2 is: {0:.4f}\".format(model_3_1_version_2_object.evaluate(test_ds, steps=steps, verbose=1)[1]))\n",
        "print(\"Test dataset accuracy for model 3.2 version 2 is: {0:.4f}\".format(model_3_2_version_2_object.evaluate(test_ds, steps=steps, verbose=1)[1]))\n"
      ]
    },
    {
      "cell_type": "code",
      "execution_count": 78,
      "metadata": {
        "colab": {
          "base_uri": "https://localhost:8080/"
        },
        "id": "DvWz-iGnWWjb",
        "outputId": "0fd493c6-e417-491f-a5a1-a27a3c8bcd1b"
      },
      "outputs": [
        {
          "name": "stdout",
          "output_type": "stream",
          "text": [
            "256/256 [==============================] - 8s 31ms/step - loss: 0.6757 - acc: 0.8244\n",
            "Test dataset accuracy for model 1.1.1 version 2 is: 0.8244\n",
            "256/256 [==============================] - 8s 29ms/step - loss: 0.7736 - acc: 0.7270\n",
            "Test dataset accuracy for model 1.1.2 version 2 is: 0.7270\n",
            "256/256 [==============================] - 8s 31ms/step - loss: 1.0005 - acc: 0.4016\n",
            "Test dataset accuracy for model 1.1.3 version 2 is: 0.4016\n",
            "256/256 [==============================] - 8s 31ms/step - loss: 0.1524 - acc: 0.7840\n",
            "Test dataset accuracy for model 1.2.1 version 2 is: 0.7840\n",
            "256/256 [==============================] - 8s 31ms/step - loss: 0.1631 - acc: 0.7670\n",
            "Test dataset accuracy for model 1.2.2 version 2 is: 0.7670\n",
            "256/256 [==============================] - 8s 31ms/step - loss: 0.1331 - acc: 0.8386\n",
            "Test dataset accuracy for model 1.2.3 version 2 is: 0.8386\n",
            "256/256 [==============================] - 8s 31ms/step - loss: 1.0000 - acc: 0.5002\n",
            "Test dataset accuracy for model 2.1.1 version 2 is: 0.5002\n",
            "256/256 [==============================] - 8s 31ms/step - loss: 0.9999 - acc: 0.5002\n",
            "Test dataset accuracy for model 2.1.2 version 2 is: 0.5002\n",
            "256/256 [==============================] - 8s 30ms/step - loss: 1.0000 - acc: 0.4998\n",
            "Test dataset accuracy for model 2.1.3 version 2 is: 0.4998\n",
            "256/256 [==============================] - 8s 31ms/step - loss: 0.3147 - acc: 0.5002\n",
            "Test dataset accuracy for model 2.2.1 version 2 is: 0.5002\n",
            "256/256 [==============================] - 8s 30ms/step - loss: 0.3712 - acc: 0.5002\n",
            "Test dataset accuracy for model 2.2.2 version 2 is: 0.5002\n",
            "256/256 [==============================] - 8s 30ms/step - loss: 0.2559 - acc: 0.4998\n",
            "Test dataset accuracy for model 2.2.3 version 2 is: 0.4998\n",
            "256/256 [==============================] - 8s 31ms/step - loss: 1.0000 - acc: 0.4998\n",
            "Test dataset accuracy for model 3.1.1 version 2 is: 0.4998\n",
            "256/256 [==============================] - 8s 31ms/step - loss: 1.0000 - acc: 0.5002\n",
            "Test dataset accuracy for model 3.1.2 version 2 is: 0.5002\n",
            "256/256 [==============================] - 8s 30ms/step - loss: 0.9999 - acc: 0.5002\n",
            "Test dataset accuracy for model 3.1.3 version 2 is: 0.5002\n",
            "256/256 [==============================] - 8s 31ms/step - loss: 0.2741 - acc: 0.4998\n",
            "Test dataset accuracy for model 3.2.1 version 2 is: 0.4998\n",
            "256/256 [==============================] - 8s 31ms/step - loss: 0.2500 - acc: 0.4998\n",
            "Test dataset accuracy for model 3.2.2 version 2 is: 0.4998\n",
            "256/256 [==============================] - 8s 30ms/step - loss: 0.2580 - acc: 0.5002\n",
            "Test dataset accuracy for model 3.2.3 version 2 is: 0.5002\n"
          ]
        }
      ],
      "source": [
        "# Model 1.1.1, 1.1.2, 1.1.3, 1.2.1, 1.2.2, 1.2.3, 2.1.1, 2.1.2, 2.1.3, 2.2.1, 2.2.2, 2.2.3, 3.1.1, 3.1.2, 3.1.3, 3.2.1, 3.2.2, 3.2.3\n",
        "\n",
        "print(\"Test dataset accuracy for model 1.1.1 version 2 is: {0:.4f}\".format(model_1_1_1_version_2_object.evaluate(test_ds, steps=steps, verbose=1)[1]))\n",
        "print(\"Test dataset accuracy for model 1.1.2 version 2 is: {0:.4f}\".format(model_1_1_2_version_2_object.evaluate(test_ds, steps=steps, verbose=1)[1]))\n",
        "print(\"Test dataset accuracy for model 1.1.3 version 2 is: {0:.4f}\".format(model_1_1_3_version_2_object.evaluate(test_ds, steps=steps, verbose=1)[1]))\n",
        "\n",
        "print(\"Test dataset accuracy for model 1.2.1 version 2 is: {0:.4f}\".format(model_1_2_1_version_2_object.evaluate(test_ds, steps=steps, verbose=1)[1]))\n",
        "print(\"Test dataset accuracy for model 1.2.2 version 2 is: {0:.4f}\".format(model_1_2_2_version_2_object.evaluate(test_ds, steps=steps, verbose=1)[1]))\n",
        "print(\"Test dataset accuracy for model 1.2.3 version 2 is: {0:.4f}\".format(model_1_2_3_version_2_object.evaluate(test_ds, steps=steps, verbose=1)[1]))\n",
        "\n",
        "print(\"Test dataset accuracy for model 2.1.1 version 2 is: {0:.4f}\".format(model_2_1_1_version_2_object.evaluate(test_ds, steps=steps, verbose=1)[1]))\n",
        "print(\"Test dataset accuracy for model 2.1.2 version 2 is: {0:.4f}\".format(model_2_1_2_version_2_object.evaluate(test_ds, steps=steps, verbose=1)[1]))\n",
        "print(\"Test dataset accuracy for model 2.1.3 version 2 is: {0:.4f}\".format(model_2_1_3_version_2_object.evaluate(test_ds, steps=steps, verbose=1)[1]))\n",
        "\n",
        "print(\"Test dataset accuracy for model 2.2.1 version 2 is: {0:.4f}\".format(model_2_2_1_version_2_object.evaluate(test_ds, steps=steps, verbose=1)[1]))\n",
        "print(\"Test dataset accuracy for model 2.2.2 version 2 is: {0:.4f}\".format(model_2_2_2_version_2_object.evaluate(test_ds, steps=steps, verbose=1)[1]))\n",
        "print(\"Test dataset accuracy for model 2.2.3 version 2 is: {0:.4f}\".format(model_2_2_3_version_2_object.evaluate(test_ds, steps=steps, verbose=1)[1]))\n",
        "\n",
        "print(\"Test dataset accuracy for model 3.1.1 version 2 is: {0:.4f}\".format(model_3_1_1_version_2_object.evaluate(test_ds, steps=steps, verbose=1)[1]))\n",
        "print(\"Test dataset accuracy for model 3.1.2 version 2 is: {0:.4f}\".format(model_3_1_2_version_2_object.evaluate(test_ds, steps=steps, verbose=1)[1]))\n",
        "print(\"Test dataset accuracy for model 3.1.3 version 2 is: {0:.4f}\".format(model_3_1_3_version_2_object.evaluate(test_ds, steps=steps, verbose=1)[1]))\n",
        "\n",
        "print(\"Test dataset accuracy for model 3.2.1 version 2 is: {0:.4f}\".format(model_3_2_1_version_2_object.evaluate(test_ds, steps=steps, verbose=1)[1]))\n",
        "print(\"Test dataset accuracy for model 3.2.2 version 2 is: {0:.4f}\".format(model_3_2_2_version_2_object.evaluate(test_ds, steps=steps, verbose=1)[1]))\n",
        "print(\"Test dataset accuracy for model 3.2.3 version 2 is: {0:.4f}\".format(model_3_2_3_version_2_object.evaluate(test_ds, steps=steps, verbose=1)[1]))"
      ]
    },
    {
      "cell_type": "code",
      "execution_count": 82,
      "metadata": {
        "colab": {
          "base_uri": "https://localhost:8080/"
        },
        "id": "dddYYbRsxgIK",
        "outputId": "8cbbef17-3a31-4ed6-e71d-2d7b3632adeb"
      },
      "outputs": [
        {
          "name": "stdout",
          "output_type": "stream",
          "text": [
            "256/256 [==============================] - 8s 30ms/step - loss: 0.6937 - acc: 0.4962\n",
            "Test dataset accuracy for model 4.01 version 2 is: 0.4962\n"
          ]
        }
      ],
      "source": [
        "print(\"Test dataset accuracy for model 4.01 version 2 is: {0:.4f}\".format(model_4_01_version_2_object.evaluate(test_ds, steps=steps, verbose=1)[1]))"
      ]
    },
    {
      "cell_type": "code",
      "execution_count": 99,
      "metadata": {
        "colab": {
          "base_uri": "https://localhost:8080/"
        },
        "id": "sxKj5jlqzHzA",
        "outputId": "56a959b8-c9ba-4280-ef29-5feeefa2a9f8"
      },
      "outputs": [
        {
          "name": "stdout",
          "output_type": "stream",
          "text": [
            "256/256 [==============================] - 8s 31ms/step - loss: 0.5021 - acc: 0.8087\n",
            "Test dataset accuracy for model 4.06 version 2 is: 0.8087\n"
          ]
        }
      ],
      "source": [
        "print(\"Test dataset accuracy for model 4.06 version 2 is: {0:.4f}\".format(model_4_06_version_2_object.evaluate(test_ds, steps=steps, verbose=1)[1]))"
      ]
    },
    {
      "cell_type": "code",
      "execution_count": 100,
      "metadata": {
        "colab": {
          "base_uri": "https://localhost:8080/"
        },
        "id": "p2HJoVIezH5f",
        "outputId": "05431469-4fda-413e-87d4-ee9dd9aad6cb"
      },
      "outputs": [
        {
          "name": "stdout",
          "output_type": "stream",
          "text": [
            "256/256 [==============================] - 8s 31ms/step - loss: 0.5330 - acc: 0.7910\n",
            "Test dataset accuracy for model 4.07 version 2 is: 0.7910\n"
          ]
        }
      ],
      "source": [
        "print(\"Test dataset accuracy for model 4.07 version 2 is: {0:.4f}\".format(model_4_07_version_2_object.evaluate(test_ds, steps=steps, verbose=1)[1]))"
      ]
    },
    {
      "cell_type": "code",
      "execution_count": 101,
      "metadata": {
        "colab": {
          "base_uri": "https://localhost:8080/"
        },
        "id": "vNBgRH2MzIBB",
        "outputId": "897bcc54-259b-408c-d4d6-73ef412407b5"
      },
      "outputs": [
        {
          "name": "stdout",
          "output_type": "stream",
          "text": [
            "256/256 [==============================] - 8s 31ms/step - loss: 0.5602 - acc: 0.8125\n",
            "Test dataset accuracy for model 4.08 version 2 is: 0.8125\n"
          ]
        }
      ],
      "source": [
        "print(\"Test dataset accuracy for model 4.08 version 2 is: {0:.4f}\".format(model_4_08_version_2_object.evaluate(test_ds, steps=steps, verbose=1)[1]))"
      ]
    }
  ],
  "metadata": {
    "accelerator": "GPU",
    "colab": {
      "collapsed_sections": [],
      "machine_shape": "hm",
      "name": "ConvolutionalNeuralNetwork(Saving_Version_2).ipynb",
      "provenance": []
    },
    "kernelspec": {
      "display_name": "Python 3",
      "name": "python3"
    },
    "language_info": {
      "name": "python"
    },
    "widgets": {
      "application/vnd.jupyter.widget-state+json": {
        "010e2bae801e4d98b886a86cd4a3f2a0": {
          "model_module": "@jupyter-widgets/controls",
          "model_module_version": "1.5.0",
          "model_name": "DescriptionStyleModel",
          "state": {
            "_model_module": "@jupyter-widgets/controls",
            "_model_module_version": "1.5.0",
            "_model_name": "DescriptionStyleModel",
            "_view_count": null,
            "_view_module": "@jupyter-widgets/base",
            "_view_module_version": "1.2.0",
            "_view_name": "StyleView",
            "description_width": ""
          }
        },
        "054dd02548dd4b5c97f49e78c4d3c0c8": {
          "model_module": "@jupyter-widgets/controls",
          "model_module_version": "1.5.0",
          "model_name": "DescriptionStyleModel",
          "state": {
            "_model_module": "@jupyter-widgets/controls",
            "_model_module_version": "1.5.0",
            "_model_name": "DescriptionStyleModel",
            "_view_count": null,
            "_view_module": "@jupyter-widgets/base",
            "_view_module_version": "1.2.0",
            "_view_name": "StyleView",
            "description_width": ""
          }
        },
        "07086b677f8e46ecb6700710f0a85edf": {
          "model_module": "@jupyter-widgets/controls",
          "model_module_version": "1.5.0",
          "model_name": "HTMLModel",
          "state": {
            "_dom_classes": [],
            "_model_module": "@jupyter-widgets/controls",
            "_model_module_version": "1.5.0",
            "_model_name": "HTMLModel",
            "_view_count": null,
            "_view_module": "@jupyter-widgets/controls",
            "_view_module_version": "1.5.0",
            "_view_name": "HTMLView",
            "description": "",
            "description_tooltip": null,
            "layout": "IPY_MODEL_515b5729962d402abcb8a3473838daf1",
            "placeholder": "​",
            "style": "IPY_MODEL_73b97ca7d7f947309ca6da49b08d1c77",
            "value": "Dl Completed...: 100%"
          }
        },
        "0969aeb0e04b4ac2a65b000d7c7bd774": {
          "model_module": "@jupyter-widgets/controls",
          "model_module_version": "1.5.0",
          "model_name": "HBoxModel",
          "state": {
            "_dom_classes": [],
            "_model_module": "@jupyter-widgets/controls",
            "_model_module_version": "1.5.0",
            "_model_name": "HBoxModel",
            "_view_count": null,
            "_view_module": "@jupyter-widgets/controls",
            "_view_module_version": "1.5.0",
            "_view_name": "HBoxView",
            "box_style": "",
            "children": [
              "IPY_MODEL_21df3f13a2ba429580a96cc6d46919f8",
              "IPY_MODEL_70cfb4b8d0e543eebf0401c5e05b00dd",
              "IPY_MODEL_984f02986c90408fb89cfff97ea09f5c"
            ],
            "layout": "IPY_MODEL_39859f0538434442958d771eba6d00bb"
          }
        },
        "186783cc1b1e4d68aa7ccc103a91ad89": {
          "model_module": "@jupyter-widgets/controls",
          "model_module_version": "1.5.0",
          "model_name": "HBoxModel",
          "state": {
            "_dom_classes": [],
            "_model_module": "@jupyter-widgets/controls",
            "_model_module_version": "1.5.0",
            "_model_name": "HBoxModel",
            "_view_count": null,
            "_view_module": "@jupyter-widgets/controls",
            "_view_module_version": "1.5.0",
            "_view_name": "HBoxView",
            "box_style": "",
            "children": [
              "IPY_MODEL_4c91b9ed74a74d208d3225155b8ccc1d",
              "IPY_MODEL_4d4ae965e19d40c5b1b4405b4dd3da05",
              "IPY_MODEL_3c8ad45efece4a0bb6d5bea224702f36"
            ],
            "layout": "IPY_MODEL_4c09cfe1908841e7a2019d40ec42affe"
          }
        },
        "1ab57d9a03ee449ea3c1de8b8e2f08b6": {
          "model_module": "@jupyter-widgets/controls",
          "model_module_version": "1.5.0",
          "model_name": "DescriptionStyleModel",
          "state": {
            "_model_module": "@jupyter-widgets/controls",
            "_model_module_version": "1.5.0",
            "_model_name": "DescriptionStyleModel",
            "_view_count": null,
            "_view_module": "@jupyter-widgets/base",
            "_view_module_version": "1.2.0",
            "_view_name": "StyleView",
            "description_width": ""
          }
        },
        "21df3f13a2ba429580a96cc6d46919f8": {
          "model_module": "@jupyter-widgets/controls",
          "model_module_version": "1.5.0",
          "model_name": "HTMLModel",
          "state": {
            "_dom_classes": [],
            "_model_module": "@jupyter-widgets/controls",
            "_model_module_version": "1.5.0",
            "_model_name": "HTMLModel",
            "_view_count": null,
            "_view_module": "@jupyter-widgets/controls",
            "_view_module_version": "1.5.0",
            "_view_name": "HTMLView",
            "description": "",
            "description_tooltip": null,
            "layout": "IPY_MODEL_f6d743bd74f94d528eddc6ac8ba74e5d",
            "placeholder": "​",
            "style": "IPY_MODEL_aa0369da68444864bb6b794ff52fe80d",
            "value": "Extraction completed...: 100%"
          }
        },
        "2ae9ea25471149a99c62c74dd5ac3b3e": {
          "model_module": "@jupyter-widgets/controls",
          "model_module_version": "1.5.0",
          "model_name": "HBoxModel",
          "state": {
            "_dom_classes": [],
            "_model_module": "@jupyter-widgets/controls",
            "_model_module_version": "1.5.0",
            "_model_name": "HBoxModel",
            "_view_count": null,
            "_view_module": "@jupyter-widgets/controls",
            "_view_module_version": "1.5.0",
            "_view_name": "HBoxView",
            "box_style": "",
            "children": [
              "IPY_MODEL_e868868b26d34ba4b9641b4c8b30f16e",
              "IPY_MODEL_b468ad0f3b7a4514971d6e7ceb43ad7f",
              "IPY_MODEL_909b8c1fa10d46179974b7d646063351"
            ],
            "layout": "IPY_MODEL_8bd97919890c46d3839facdd5c394faa"
          }
        },
        "2b8ed2b601fd49eb9a3f574f0a8c238c": {
          "model_module": "@jupyter-widgets/controls",
          "model_module_version": "1.5.0",
          "model_name": "ProgressStyleModel",
          "state": {
            "_model_module": "@jupyter-widgets/controls",
            "_model_module_version": "1.5.0",
            "_model_name": "ProgressStyleModel",
            "_view_count": null,
            "_view_module": "@jupyter-widgets/base",
            "_view_module_version": "1.2.0",
            "_view_name": "StyleView",
            "bar_color": null,
            "description_width": ""
          }
        },
        "2f9d9e5d8bf74725b32e88726c0d9f16": {
          "model_module": "@jupyter-widgets/controls",
          "model_module_version": "1.5.0",
          "model_name": "ProgressStyleModel",
          "state": {
            "_model_module": "@jupyter-widgets/controls",
            "_model_module_version": "1.5.0",
            "_model_name": "ProgressStyleModel",
            "_view_count": null,
            "_view_module": "@jupyter-widgets/base",
            "_view_module_version": "1.2.0",
            "_view_name": "StyleView",
            "bar_color": null,
            "description_width": ""
          }
        },
        "3552aca11bc3407d9416e3efdbebb622": {
          "model_module": "@jupyter-widgets/base",
          "model_module_version": "1.2.0",
          "model_name": "LayoutModel",
          "state": {
            "_model_module": "@jupyter-widgets/base",
            "_model_module_version": "1.2.0",
            "_model_name": "LayoutModel",
            "_view_count": null,
            "_view_module": "@jupyter-widgets/base",
            "_view_module_version": "1.2.0",
            "_view_name": "LayoutView",
            "align_content": null,
            "align_items": null,
            "align_self": null,
            "border": null,
            "bottom": null,
            "display": null,
            "flex": null,
            "flex_flow": null,
            "grid_area": null,
            "grid_auto_columns": null,
            "grid_auto_flow": null,
            "grid_auto_rows": null,
            "grid_column": null,
            "grid_gap": null,
            "grid_row": null,
            "grid_template_areas": null,
            "grid_template_columns": null,
            "grid_template_rows": null,
            "height": null,
            "justify_content": null,
            "justify_items": null,
            "left": null,
            "margin": null,
            "max_height": null,
            "max_width": null,
            "min_height": null,
            "min_width": null,
            "object_fit": null,
            "object_position": null,
            "order": null,
            "overflow": null,
            "overflow_x": null,
            "overflow_y": null,
            "padding": null,
            "right": null,
            "top": null,
            "visibility": null,
            "width": "20px"
          }
        },
        "3746c2950f58466aa4a4ae775c61a3c2": {
          "model_module": "@jupyter-widgets/controls",
          "model_module_version": "1.5.0",
          "model_name": "HBoxModel",
          "state": {
            "_dom_classes": [],
            "_model_module": "@jupyter-widgets/controls",
            "_model_module_version": "1.5.0",
            "_model_name": "HBoxModel",
            "_view_count": null,
            "_view_module": "@jupyter-widgets/controls",
            "_view_module_version": "1.5.0",
            "_view_name": "HBoxView",
            "box_style": "",
            "children": [
              "IPY_MODEL_cd65720434e54852a033a0af4357b6c5",
              "IPY_MODEL_ae40ae50736447159569090c5dd447f5",
              "IPY_MODEL_a0740bfe424241b88f4baf31061bd6cf"
            ],
            "layout": "IPY_MODEL_ad8efcb4fd534f29a0df8a94f3bfb71a"
          }
        },
        "38169e9e671447fba80e72dc3f691ea4": {
          "model_module": "@jupyter-widgets/controls",
          "model_module_version": "1.5.0",
          "model_name": "ProgressStyleModel",
          "state": {
            "_model_module": "@jupyter-widgets/controls",
            "_model_module_version": "1.5.0",
            "_model_name": "ProgressStyleModel",
            "_view_count": null,
            "_view_module": "@jupyter-widgets/base",
            "_view_module_version": "1.2.0",
            "_view_name": "StyleView",
            "bar_color": null,
            "description_width": ""
          }
        },
        "39859f0538434442958d771eba6d00bb": {
          "model_module": "@jupyter-widgets/base",
          "model_module_version": "1.2.0",
          "model_name": "LayoutModel",
          "state": {
            "_model_module": "@jupyter-widgets/base",
            "_model_module_version": "1.2.0",
            "_model_name": "LayoutModel",
            "_view_count": null,
            "_view_module": "@jupyter-widgets/base",
            "_view_module_version": "1.2.0",
            "_view_name": "LayoutView",
            "align_content": null,
            "align_items": null,
            "align_self": null,
            "border": null,
            "bottom": null,
            "display": null,
            "flex": null,
            "flex_flow": null,
            "grid_area": null,
            "grid_auto_columns": null,
            "grid_auto_flow": null,
            "grid_auto_rows": null,
            "grid_column": null,
            "grid_gap": null,
            "grid_row": null,
            "grid_template_areas": null,
            "grid_template_columns": null,
            "grid_template_rows": null,
            "height": null,
            "justify_content": null,
            "justify_items": null,
            "left": null,
            "margin": null,
            "max_height": null,
            "max_width": null,
            "min_height": null,
            "min_width": null,
            "object_fit": null,
            "object_position": null,
            "order": null,
            "overflow": null,
            "overflow_x": null,
            "overflow_y": null,
            "padding": null,
            "right": null,
            "top": null,
            "visibility": null,
            "width": null
          }
        },
        "3bca585886284c609f7dfedda7dbeaeb": {
          "model_module": "@jupyter-widgets/base",
          "model_module_version": "1.2.0",
          "model_name": "LayoutModel",
          "state": {
            "_model_module": "@jupyter-widgets/base",
            "_model_module_version": "1.2.0",
            "_model_name": "LayoutModel",
            "_view_count": null,
            "_view_module": "@jupyter-widgets/base",
            "_view_module_version": "1.2.0",
            "_view_name": "LayoutView",
            "align_content": null,
            "align_items": null,
            "align_self": null,
            "border": null,
            "bottom": null,
            "display": null,
            "flex": null,
            "flex_flow": null,
            "grid_area": null,
            "grid_auto_columns": null,
            "grid_auto_flow": null,
            "grid_auto_rows": null,
            "grid_column": null,
            "grid_gap": null,
            "grid_row": null,
            "grid_template_areas": null,
            "grid_template_columns": null,
            "grid_template_rows": null,
            "height": null,
            "justify_content": null,
            "justify_items": null,
            "left": null,
            "margin": null,
            "max_height": null,
            "max_width": null,
            "min_height": null,
            "min_width": null,
            "object_fit": null,
            "object_position": null,
            "order": null,
            "overflow": null,
            "overflow_x": null,
            "overflow_y": null,
            "padding": null,
            "right": null,
            "top": null,
            "visibility": null,
            "width": "20px"
          }
        },
        "3c8ad45efece4a0bb6d5bea224702f36": {
          "model_module": "@jupyter-widgets/controls",
          "model_module_version": "1.5.0",
          "model_name": "HTMLModel",
          "state": {
            "_dom_classes": [],
            "_model_module": "@jupyter-widgets/controls",
            "_model_module_version": "1.5.0",
            "_model_name": "HTMLModel",
            "_view_count": null,
            "_view_module": "@jupyter-widgets/controls",
            "_view_module_version": "1.5.0",
            "_view_name": "HTMLView",
            "description": "",
            "description_tooltip": null,
            "layout": "IPY_MODEL_a7e4cfd3ba66441389fccd02ae679da6",
            "placeholder": "​",
            "style": "IPY_MODEL_da036ddb1f794f38bb6bd3981de5effe",
            "value": " 262125/0 [10:37&lt;00:00, 397.46 examples/s]"
          }
        },
        "3ca1641617c94349b2bbf0c253560bd0": {
          "model_module": "@jupyter-widgets/base",
          "model_module_version": "1.2.0",
          "model_name": "LayoutModel",
          "state": {
            "_model_module": "@jupyter-widgets/base",
            "_model_module_version": "1.2.0",
            "_model_name": "LayoutModel",
            "_view_count": null,
            "_view_module": "@jupyter-widgets/base",
            "_view_module_version": "1.2.0",
            "_view_name": "LayoutView",
            "align_content": null,
            "align_items": null,
            "align_self": null,
            "border": null,
            "bottom": null,
            "display": null,
            "flex": null,
            "flex_flow": null,
            "grid_area": null,
            "grid_auto_columns": null,
            "grid_auto_flow": null,
            "grid_auto_rows": null,
            "grid_column": null,
            "grid_gap": null,
            "grid_row": null,
            "grid_template_areas": null,
            "grid_template_columns": null,
            "grid_template_rows": null,
            "height": null,
            "justify_content": null,
            "justify_items": null,
            "left": null,
            "margin": null,
            "max_height": null,
            "max_width": null,
            "min_height": null,
            "min_width": null,
            "object_fit": null,
            "object_position": null,
            "order": null,
            "overflow": null,
            "overflow_x": null,
            "overflow_y": null,
            "padding": null,
            "right": null,
            "top": null,
            "visibility": null,
            "width": null
          }
        },
        "3ea3922946a0432099df01b9fcdfe49e": {
          "model_module": "@jupyter-widgets/base",
          "model_module_version": "1.2.0",
          "model_name": "LayoutModel",
          "state": {
            "_model_module": "@jupyter-widgets/base",
            "_model_module_version": "1.2.0",
            "_model_name": "LayoutModel",
            "_view_count": null,
            "_view_module": "@jupyter-widgets/base",
            "_view_module_version": "1.2.0",
            "_view_name": "LayoutView",
            "align_content": null,
            "align_items": null,
            "align_self": null,
            "border": null,
            "bottom": null,
            "display": null,
            "flex": null,
            "flex_flow": null,
            "grid_area": null,
            "grid_auto_columns": null,
            "grid_auto_flow": null,
            "grid_auto_rows": null,
            "grid_column": null,
            "grid_gap": null,
            "grid_row": null,
            "grid_template_areas": null,
            "grid_template_columns": null,
            "grid_template_rows": null,
            "height": null,
            "justify_content": null,
            "justify_items": null,
            "left": null,
            "margin": null,
            "max_height": null,
            "max_width": null,
            "min_height": null,
            "min_width": null,
            "object_fit": null,
            "object_position": null,
            "order": null,
            "overflow": null,
            "overflow_x": null,
            "overflow_y": null,
            "padding": null,
            "right": null,
            "top": null,
            "visibility": null,
            "width": null
          }
        },
        "409044f5bf994930b07629781793ccb7": {
          "model_module": "@jupyter-widgets/controls",
          "model_module_version": "1.5.0",
          "model_name": "DescriptionStyleModel",
          "state": {
            "_model_module": "@jupyter-widgets/controls",
            "_model_module_version": "1.5.0",
            "_model_name": "DescriptionStyleModel",
            "_view_count": null,
            "_view_module": "@jupyter-widgets/base",
            "_view_module_version": "1.2.0",
            "_view_name": "StyleView",
            "description_width": ""
          }
        },
        "4248d05caf944ff29ac575221f4a74f8": {
          "model_module": "@jupyter-widgets/controls",
          "model_module_version": "1.5.0",
          "model_name": "HTMLModel",
          "state": {
            "_dom_classes": [],
            "_model_module": "@jupyter-widgets/controls",
            "_model_module_version": "1.5.0",
            "_model_name": "HTMLModel",
            "_view_count": null,
            "_view_module": "@jupyter-widgets/controls",
            "_view_module_version": "1.5.0",
            "_view_name": "HTMLView",
            "description": "",
            "description_tooltip": null,
            "layout": "IPY_MODEL_9ee58f3dc6f1407d9a993c8ac6773677",
            "placeholder": "​",
            "style": "IPY_MODEL_4b26e25aceb847258aeae68349dd94b8",
            "value": " 32752/0 [01:22&lt;00:00, 420.94 examples/s]"
          }
        },
        "4853780752e64b6dafb57a089af7d155": {
          "model_module": "@jupyter-widgets/base",
          "model_module_version": "1.2.0",
          "model_name": "LayoutModel",
          "state": {
            "_model_module": "@jupyter-widgets/base",
            "_model_module_version": "1.2.0",
            "_model_name": "LayoutModel",
            "_view_count": null,
            "_view_module": "@jupyter-widgets/base",
            "_view_module_version": "1.2.0",
            "_view_name": "LayoutView",
            "align_content": null,
            "align_items": null,
            "align_self": null,
            "border": null,
            "bottom": null,
            "display": null,
            "flex": null,
            "flex_flow": null,
            "grid_area": null,
            "grid_auto_columns": null,
            "grid_auto_flow": null,
            "grid_auto_rows": null,
            "grid_column": null,
            "grid_gap": null,
            "grid_row": null,
            "grid_template_areas": null,
            "grid_template_columns": null,
            "grid_template_rows": null,
            "height": null,
            "justify_content": null,
            "justify_items": null,
            "left": null,
            "margin": null,
            "max_height": null,
            "max_width": null,
            "min_height": null,
            "min_width": null,
            "object_fit": null,
            "object_position": null,
            "order": null,
            "overflow": null,
            "overflow_x": null,
            "overflow_y": null,
            "padding": null,
            "right": null,
            "top": null,
            "visibility": null,
            "width": null
          }
        },
        "48e0a8c7f644431fbe1840268be3319a": {
          "model_module": "@jupyter-widgets/controls",
          "model_module_version": "1.5.0",
          "model_name": "DescriptionStyleModel",
          "state": {
            "_model_module": "@jupyter-widgets/controls",
            "_model_module_version": "1.5.0",
            "_model_name": "DescriptionStyleModel",
            "_view_count": null,
            "_view_module": "@jupyter-widgets/base",
            "_view_module_version": "1.2.0",
            "_view_name": "StyleView",
            "description_width": ""
          }
        },
        "4b26e25aceb847258aeae68349dd94b8": {
          "model_module": "@jupyter-widgets/controls",
          "model_module_version": "1.5.0",
          "model_name": "DescriptionStyleModel",
          "state": {
            "_model_module": "@jupyter-widgets/controls",
            "_model_module_version": "1.5.0",
            "_model_name": "DescriptionStyleModel",
            "_view_count": null,
            "_view_module": "@jupyter-widgets/base",
            "_view_module_version": "1.2.0",
            "_view_name": "StyleView",
            "description_width": ""
          }
        },
        "4c09cfe1908841e7a2019d40ec42affe": {
          "model_module": "@jupyter-widgets/base",
          "model_module_version": "1.2.0",
          "model_name": "LayoutModel",
          "state": {
            "_model_module": "@jupyter-widgets/base",
            "_model_module_version": "1.2.0",
            "_model_name": "LayoutModel",
            "_view_count": null,
            "_view_module": "@jupyter-widgets/base",
            "_view_module_version": "1.2.0",
            "_view_name": "LayoutView",
            "align_content": null,
            "align_items": null,
            "align_self": null,
            "border": null,
            "bottom": null,
            "display": null,
            "flex": null,
            "flex_flow": null,
            "grid_area": null,
            "grid_auto_columns": null,
            "grid_auto_flow": null,
            "grid_auto_rows": null,
            "grid_column": null,
            "grid_gap": null,
            "grid_row": null,
            "grid_template_areas": null,
            "grid_template_columns": null,
            "grid_template_rows": null,
            "height": null,
            "justify_content": null,
            "justify_items": null,
            "left": null,
            "margin": null,
            "max_height": null,
            "max_width": null,
            "min_height": null,
            "min_width": null,
            "object_fit": null,
            "object_position": null,
            "order": null,
            "overflow": null,
            "overflow_x": null,
            "overflow_y": null,
            "padding": null,
            "right": null,
            "top": null,
            "visibility": null,
            "width": null
          }
        },
        "4c91b9ed74a74d208d3225155b8ccc1d": {
          "model_module": "@jupyter-widgets/controls",
          "model_module_version": "1.5.0",
          "model_name": "HTMLModel",
          "state": {
            "_dom_classes": [],
            "_model_module": "@jupyter-widgets/controls",
            "_model_module_version": "1.5.0",
            "_model_name": "HTMLModel",
            "_view_count": null,
            "_view_module": "@jupyter-widgets/controls",
            "_view_module_version": "1.5.0",
            "_view_name": "HTMLView",
            "description": "",
            "description_tooltip": null,
            "layout": "IPY_MODEL_dc6b493c625e4b0aacab28c982a752ef",
            "placeholder": "​",
            "style": "IPY_MODEL_ec8f4272294a469fb9863036384b3b40",
            "value": ""
          }
        },
        "4d4ae965e19d40c5b1b4405b4dd3da05": {
          "model_module": "@jupyter-widgets/controls",
          "model_module_version": "1.5.0",
          "model_name": "FloatProgressModel",
          "state": {
            "_dom_classes": [],
            "_model_module": "@jupyter-widgets/controls",
            "_model_module_version": "1.5.0",
            "_model_name": "FloatProgressModel",
            "_view_count": null,
            "_view_module": "@jupyter-widgets/controls",
            "_view_module_version": "1.5.0",
            "_view_name": "ProgressView",
            "bar_style": "info",
            "description": "",
            "description_tooltip": null,
            "layout": "IPY_MODEL_55288378b2334933ad5dffafaa08c27c",
            "max": 1,
            "min": 0,
            "orientation": "horizontal",
            "style": "IPY_MODEL_38169e9e671447fba80e72dc3f691ea4",
            "value": 1
          }
        },
        "515b5729962d402abcb8a3473838daf1": {
          "model_module": "@jupyter-widgets/base",
          "model_module_version": "1.2.0",
          "model_name": "LayoutModel",
          "state": {
            "_model_module": "@jupyter-widgets/base",
            "_model_module_version": "1.2.0",
            "_model_name": "LayoutModel",
            "_view_count": null,
            "_view_module": "@jupyter-widgets/base",
            "_view_module_version": "1.2.0",
            "_view_name": "LayoutView",
            "align_content": null,
            "align_items": null,
            "align_self": null,
            "border": null,
            "bottom": null,
            "display": null,
            "flex": null,
            "flex_flow": null,
            "grid_area": null,
            "grid_auto_columns": null,
            "grid_auto_flow": null,
            "grid_auto_rows": null,
            "grid_column": null,
            "grid_gap": null,
            "grid_row": null,
            "grid_template_areas": null,
            "grid_template_columns": null,
            "grid_template_rows": null,
            "height": null,
            "justify_content": null,
            "justify_items": null,
            "left": null,
            "margin": null,
            "max_height": null,
            "max_width": null,
            "min_height": null,
            "min_width": null,
            "object_fit": null,
            "object_position": null,
            "order": null,
            "overflow": null,
            "overflow_x": null,
            "overflow_y": null,
            "padding": null,
            "right": null,
            "top": null,
            "visibility": null,
            "width": null
          }
        },
        "55288378b2334933ad5dffafaa08c27c": {
          "model_module": "@jupyter-widgets/base",
          "model_module_version": "1.2.0",
          "model_name": "LayoutModel",
          "state": {
            "_model_module": "@jupyter-widgets/base",
            "_model_module_version": "1.2.0",
            "_model_name": "LayoutModel",
            "_view_count": null,
            "_view_module": "@jupyter-widgets/base",
            "_view_module_version": "1.2.0",
            "_view_name": "LayoutView",
            "align_content": null,
            "align_items": null,
            "align_self": null,
            "border": null,
            "bottom": null,
            "display": null,
            "flex": null,
            "flex_flow": null,
            "grid_area": null,
            "grid_auto_columns": null,
            "grid_auto_flow": null,
            "grid_auto_rows": null,
            "grid_column": null,
            "grid_gap": null,
            "grid_row": null,
            "grid_template_areas": null,
            "grid_template_columns": null,
            "grid_template_rows": null,
            "height": null,
            "justify_content": null,
            "justify_items": null,
            "left": null,
            "margin": null,
            "max_height": null,
            "max_width": null,
            "min_height": null,
            "min_width": null,
            "object_fit": null,
            "object_position": null,
            "order": null,
            "overflow": null,
            "overflow_x": null,
            "overflow_y": null,
            "padding": null,
            "right": null,
            "top": null,
            "visibility": null,
            "width": "20px"
          }
        },
        "5601295861934b019b494500ccf468e5": {
          "model_module": "@jupyter-widgets/controls",
          "model_module_version": "1.5.0",
          "model_name": "FloatProgressModel",
          "state": {
            "_dom_classes": [],
            "_model_module": "@jupyter-widgets/controls",
            "_model_module_version": "1.5.0",
            "_model_name": "FloatProgressModel",
            "_view_count": null,
            "_view_module": "@jupyter-widgets/controls",
            "_view_module_version": "1.5.0",
            "_view_name": "ProgressView",
            "bar_style": "info",
            "description": "",
            "description_tooltip": null,
            "layout": "IPY_MODEL_3552aca11bc3407d9416e3efdbebb622",
            "max": 1,
            "min": 0,
            "orientation": "horizontal",
            "style": "IPY_MODEL_c385aafd8df04d30bb51874c572d594c",
            "value": 1
          }
        },
        "57ec808ea2554e7ba200c7ac92362ce6": {
          "model_module": "@jupyter-widgets/controls",
          "model_module_version": "1.5.0",
          "model_name": "FloatProgressModel",
          "state": {
            "_dom_classes": [],
            "_model_module": "@jupyter-widgets/controls",
            "_model_module_version": "1.5.0",
            "_model_name": "FloatProgressModel",
            "_view_count": null,
            "_view_module": "@jupyter-widgets/controls",
            "_view_module_version": "1.5.0",
            "_view_name": "ProgressView",
            "bar_style": "danger",
            "description": "",
            "description_tooltip": null,
            "layout": "IPY_MODEL_df2b8fa7102b4c8f917614a34bf0560b",
            "max": 32768,
            "min": 0,
            "orientation": "horizontal",
            "style": "IPY_MODEL_5c0d9253d1514a0c955de5f4b6a6e957",
            "value": 32767
          }
        },
        "59a7e24dbfe04306b716eb403e9bb7e2": {
          "model_module": "@jupyter-widgets/base",
          "model_module_version": "1.2.0",
          "model_name": "LayoutModel",
          "state": {
            "_model_module": "@jupyter-widgets/base",
            "_model_module_version": "1.2.0",
            "_model_name": "LayoutModel",
            "_view_count": null,
            "_view_module": "@jupyter-widgets/base",
            "_view_module_version": "1.2.0",
            "_view_name": "LayoutView",
            "align_content": null,
            "align_items": null,
            "align_self": null,
            "border": null,
            "bottom": null,
            "display": null,
            "flex": null,
            "flex_flow": null,
            "grid_area": null,
            "grid_auto_columns": null,
            "grid_auto_flow": null,
            "grid_auto_rows": null,
            "grid_column": null,
            "grid_gap": null,
            "grid_row": null,
            "grid_template_areas": null,
            "grid_template_columns": null,
            "grid_template_rows": null,
            "height": null,
            "justify_content": null,
            "justify_items": null,
            "left": null,
            "margin": null,
            "max_height": null,
            "max_width": null,
            "min_height": null,
            "min_width": null,
            "object_fit": null,
            "object_position": null,
            "order": null,
            "overflow": null,
            "overflow_x": null,
            "overflow_y": null,
            "padding": null,
            "right": null,
            "top": null,
            "visibility": null,
            "width": "20px"
          }
        },
        "5c0d9253d1514a0c955de5f4b6a6e957": {
          "model_module": "@jupyter-widgets/controls",
          "model_module_version": "1.5.0",
          "model_name": "ProgressStyleModel",
          "state": {
            "_model_module": "@jupyter-widgets/controls",
            "_model_module_version": "1.5.0",
            "_model_name": "ProgressStyleModel",
            "_view_count": null,
            "_view_module": "@jupyter-widgets/base",
            "_view_module_version": "1.2.0",
            "_view_name": "StyleView",
            "bar_color": null,
            "description_width": ""
          }
        },
        "5ceab3f1107f4bf795db54717bfc7646": {
          "model_module": "@jupyter-widgets/base",
          "model_module_version": "1.2.0",
          "model_name": "LayoutModel",
          "state": {
            "_model_module": "@jupyter-widgets/base",
            "_model_module_version": "1.2.0",
            "_model_name": "LayoutModel",
            "_view_count": null,
            "_view_module": "@jupyter-widgets/base",
            "_view_module_version": "1.2.0",
            "_view_name": "LayoutView",
            "align_content": null,
            "align_items": null,
            "align_self": null,
            "border": null,
            "bottom": null,
            "display": null,
            "flex": null,
            "flex_flow": null,
            "grid_area": null,
            "grid_auto_columns": null,
            "grid_auto_flow": null,
            "grid_auto_rows": null,
            "grid_column": null,
            "grid_gap": null,
            "grid_row": null,
            "grid_template_areas": null,
            "grid_template_columns": null,
            "grid_template_rows": null,
            "height": null,
            "justify_content": null,
            "justify_items": null,
            "left": null,
            "margin": null,
            "max_height": null,
            "max_width": null,
            "min_height": null,
            "min_width": null,
            "object_fit": null,
            "object_position": null,
            "order": null,
            "overflow": null,
            "overflow_x": null,
            "overflow_y": null,
            "padding": null,
            "right": null,
            "top": null,
            "visibility": null,
            "width": null
          }
        },
        "5ea1d1f898fa4a85865633f29c6da875": {
          "model_module": "@jupyter-widgets/base",
          "model_module_version": "1.2.0",
          "model_name": "LayoutModel",
          "state": {
            "_model_module": "@jupyter-widgets/base",
            "_model_module_version": "1.2.0",
            "_model_name": "LayoutModel",
            "_view_count": null,
            "_view_module": "@jupyter-widgets/base",
            "_view_module_version": "1.2.0",
            "_view_name": "LayoutView",
            "align_content": null,
            "align_items": null,
            "align_self": null,
            "border": null,
            "bottom": null,
            "display": null,
            "flex": null,
            "flex_flow": null,
            "grid_area": null,
            "grid_auto_columns": null,
            "grid_auto_flow": null,
            "grid_auto_rows": null,
            "grid_column": null,
            "grid_gap": null,
            "grid_row": null,
            "grid_template_areas": null,
            "grid_template_columns": null,
            "grid_template_rows": null,
            "height": null,
            "justify_content": null,
            "justify_items": null,
            "left": null,
            "margin": null,
            "max_height": null,
            "max_width": null,
            "min_height": null,
            "min_width": null,
            "object_fit": null,
            "object_position": null,
            "order": null,
            "overflow": null,
            "overflow_x": null,
            "overflow_y": null,
            "padding": null,
            "right": null,
            "top": null,
            "visibility": null,
            "width": null
          }
        },
        "61f073dfbfbb4dc887636adf67c8508b": {
          "model_module": "@jupyter-widgets/base",
          "model_module_version": "1.2.0",
          "model_name": "LayoutModel",
          "state": {
            "_model_module": "@jupyter-widgets/base",
            "_model_module_version": "1.2.0",
            "_model_name": "LayoutModel",
            "_view_count": null,
            "_view_module": "@jupyter-widgets/base",
            "_view_module_version": "1.2.0",
            "_view_name": "LayoutView",
            "align_content": null,
            "align_items": null,
            "align_self": null,
            "border": null,
            "bottom": null,
            "display": null,
            "flex": null,
            "flex_flow": null,
            "grid_area": null,
            "grid_auto_columns": null,
            "grid_auto_flow": null,
            "grid_auto_rows": null,
            "grid_column": null,
            "grid_gap": null,
            "grid_row": null,
            "grid_template_areas": null,
            "grid_template_columns": null,
            "grid_template_rows": null,
            "height": null,
            "justify_content": null,
            "justify_items": null,
            "left": null,
            "margin": null,
            "max_height": null,
            "max_width": null,
            "min_height": null,
            "min_width": null,
            "object_fit": null,
            "object_position": null,
            "order": null,
            "overflow": null,
            "overflow_x": null,
            "overflow_y": null,
            "padding": null,
            "right": null,
            "top": null,
            "visibility": null,
            "width": null
          }
        },
        "66396be346b24095a14021b6e882324d": {
          "model_module": "@jupyter-widgets/base",
          "model_module_version": "1.2.0",
          "model_name": "LayoutModel",
          "state": {
            "_model_module": "@jupyter-widgets/base",
            "_model_module_version": "1.2.0",
            "_model_name": "LayoutModel",
            "_view_count": null,
            "_view_module": "@jupyter-widgets/base",
            "_view_module_version": "1.2.0",
            "_view_name": "LayoutView",
            "align_content": null,
            "align_items": null,
            "align_self": null,
            "border": null,
            "bottom": null,
            "display": null,
            "flex": null,
            "flex_flow": null,
            "grid_area": null,
            "grid_auto_columns": null,
            "grid_auto_flow": null,
            "grid_auto_rows": null,
            "grid_column": null,
            "grid_gap": null,
            "grid_row": null,
            "grid_template_areas": null,
            "grid_template_columns": null,
            "grid_template_rows": null,
            "height": null,
            "justify_content": null,
            "justify_items": null,
            "left": null,
            "margin": null,
            "max_height": null,
            "max_width": null,
            "min_height": null,
            "min_width": null,
            "object_fit": null,
            "object_position": null,
            "order": null,
            "overflow": null,
            "overflow_x": null,
            "overflow_y": null,
            "padding": null,
            "right": null,
            "top": null,
            "visibility": null,
            "width": null
          }
        },
        "6818a8f7d5964172a916aa8a5fe20ce5": {
          "model_module": "@jupyter-widgets/base",
          "model_module_version": "1.2.0",
          "model_name": "LayoutModel",
          "state": {
            "_model_module": "@jupyter-widgets/base",
            "_model_module_version": "1.2.0",
            "_model_name": "LayoutModel",
            "_view_count": null,
            "_view_module": "@jupyter-widgets/base",
            "_view_module_version": "1.2.0",
            "_view_name": "LayoutView",
            "align_content": null,
            "align_items": null,
            "align_self": null,
            "border": null,
            "bottom": null,
            "display": null,
            "flex": null,
            "flex_flow": null,
            "grid_area": null,
            "grid_auto_columns": null,
            "grid_auto_flow": null,
            "grid_auto_rows": null,
            "grid_column": null,
            "grid_gap": null,
            "grid_row": null,
            "grid_template_areas": null,
            "grid_template_columns": null,
            "grid_template_rows": null,
            "height": null,
            "justify_content": null,
            "justify_items": null,
            "left": null,
            "margin": null,
            "max_height": null,
            "max_width": null,
            "min_height": null,
            "min_width": null,
            "object_fit": null,
            "object_position": null,
            "order": null,
            "overflow": null,
            "overflow_x": null,
            "overflow_y": null,
            "padding": null,
            "right": null,
            "top": null,
            "visibility": null,
            "width": null
          }
        },
        "6aded1cf751b45aabdc8a75d8db87265": {
          "model_module": "@jupyter-widgets/base",
          "model_module_version": "1.2.0",
          "model_name": "LayoutModel",
          "state": {
            "_model_module": "@jupyter-widgets/base",
            "_model_module_version": "1.2.0",
            "_model_name": "LayoutModel",
            "_view_count": null,
            "_view_module": "@jupyter-widgets/base",
            "_view_module_version": "1.2.0",
            "_view_name": "LayoutView",
            "align_content": null,
            "align_items": null,
            "align_self": null,
            "border": null,
            "bottom": null,
            "display": null,
            "flex": null,
            "flex_flow": null,
            "grid_area": null,
            "grid_auto_columns": null,
            "grid_auto_flow": null,
            "grid_auto_rows": null,
            "grid_column": null,
            "grid_gap": null,
            "grid_row": null,
            "grid_template_areas": null,
            "grid_template_columns": null,
            "grid_template_rows": null,
            "height": null,
            "justify_content": null,
            "justify_items": null,
            "left": null,
            "margin": null,
            "max_height": null,
            "max_width": null,
            "min_height": null,
            "min_width": null,
            "object_fit": null,
            "object_position": null,
            "order": null,
            "overflow": null,
            "overflow_x": null,
            "overflow_y": null,
            "padding": null,
            "right": null,
            "top": null,
            "visibility": null,
            "width": null
          }
        },
        "6c8fa47b63494dea99be67acc1c6d443": {
          "model_module": "@jupyter-widgets/base",
          "model_module_version": "1.2.0",
          "model_name": "LayoutModel",
          "state": {
            "_model_module": "@jupyter-widgets/base",
            "_model_module_version": "1.2.0",
            "_model_name": "LayoutModel",
            "_view_count": null,
            "_view_module": "@jupyter-widgets/base",
            "_view_module_version": "1.2.0",
            "_view_name": "LayoutView",
            "align_content": null,
            "align_items": null,
            "align_self": null,
            "border": null,
            "bottom": null,
            "display": null,
            "flex": null,
            "flex_flow": null,
            "grid_area": null,
            "grid_auto_columns": null,
            "grid_auto_flow": null,
            "grid_auto_rows": null,
            "grid_column": null,
            "grid_gap": null,
            "grid_row": null,
            "grid_template_areas": null,
            "grid_template_columns": null,
            "grid_template_rows": null,
            "height": null,
            "justify_content": null,
            "justify_items": null,
            "left": null,
            "margin": null,
            "max_height": null,
            "max_width": null,
            "min_height": null,
            "min_width": null,
            "object_fit": null,
            "object_position": null,
            "order": null,
            "overflow": null,
            "overflow_x": null,
            "overflow_y": null,
            "padding": null,
            "right": null,
            "top": null,
            "visibility": null,
            "width": null
          }
        },
        "6d39f984452741dea7e80c485107a667": {
          "model_module": "@jupyter-widgets/base",
          "model_module_version": "1.2.0",
          "model_name": "LayoutModel",
          "state": {
            "_model_module": "@jupyter-widgets/base",
            "_model_module_version": "1.2.0",
            "_model_name": "LayoutModel",
            "_view_count": null,
            "_view_module": "@jupyter-widgets/base",
            "_view_module_version": "1.2.0",
            "_view_name": "LayoutView",
            "align_content": null,
            "align_items": null,
            "align_self": null,
            "border": null,
            "bottom": null,
            "display": null,
            "flex": null,
            "flex_flow": null,
            "grid_area": null,
            "grid_auto_columns": null,
            "grid_auto_flow": null,
            "grid_auto_rows": null,
            "grid_column": null,
            "grid_gap": null,
            "grid_row": null,
            "grid_template_areas": null,
            "grid_template_columns": null,
            "grid_template_rows": null,
            "height": null,
            "justify_content": null,
            "justify_items": null,
            "left": null,
            "margin": null,
            "max_height": null,
            "max_width": null,
            "min_height": null,
            "min_width": null,
            "object_fit": null,
            "object_position": null,
            "order": null,
            "overflow": null,
            "overflow_x": null,
            "overflow_y": null,
            "padding": null,
            "right": null,
            "top": null,
            "visibility": null,
            "width": null
          }
        },
        "6ebe787c7b7743628c567228f0a5a052": {
          "model_module": "@jupyter-widgets/controls",
          "model_module_version": "1.5.0",
          "model_name": "FloatProgressModel",
          "state": {
            "_dom_classes": [],
            "_model_module": "@jupyter-widgets/controls",
            "_model_module_version": "1.5.0",
            "_model_name": "FloatProgressModel",
            "_view_count": null,
            "_view_module": "@jupyter-widgets/controls",
            "_view_module_version": "1.5.0",
            "_view_name": "ProgressView",
            "bar_style": "success",
            "description": "",
            "description_tooltip": null,
            "layout": "IPY_MODEL_87e89cf687c94cb996bbd9dde8ef89fd",
            "max": 1,
            "min": 0,
            "orientation": "horizontal",
            "style": "IPY_MODEL_6ecdcc05fca54c08a77c92c7ce5242f8",
            "value": 1
          }
        },
        "6ecdcc05fca54c08a77c92c7ce5242f8": {
          "model_module": "@jupyter-widgets/controls",
          "model_module_version": "1.5.0",
          "model_name": "ProgressStyleModel",
          "state": {
            "_model_module": "@jupyter-widgets/controls",
            "_model_module_version": "1.5.0",
            "_model_name": "ProgressStyleModel",
            "_view_count": null,
            "_view_module": "@jupyter-widgets/base",
            "_view_module_version": "1.2.0",
            "_view_name": "StyleView",
            "bar_color": null,
            "description_width": ""
          }
        },
        "705954764912478aa1f4db09bde4cfec": {
          "model_module": "@jupyter-widgets/controls",
          "model_module_version": "1.5.0",
          "model_name": "DescriptionStyleModel",
          "state": {
            "_model_module": "@jupyter-widgets/controls",
            "_model_module_version": "1.5.0",
            "_model_name": "DescriptionStyleModel",
            "_view_count": null,
            "_view_module": "@jupyter-widgets/base",
            "_view_module_version": "1.2.0",
            "_view_name": "StyleView",
            "description_width": ""
          }
        },
        "70cfb4b8d0e543eebf0401c5e05b00dd": {
          "model_module": "@jupyter-widgets/controls",
          "model_module_version": "1.5.0",
          "model_name": "FloatProgressModel",
          "state": {
            "_dom_classes": [],
            "_model_module": "@jupyter-widgets/controls",
            "_model_module_version": "1.5.0",
            "_model_name": "FloatProgressModel",
            "_view_count": null,
            "_view_module": "@jupyter-widgets/controls",
            "_view_module_version": "1.5.0",
            "_view_name": "ProgressView",
            "bar_style": "success",
            "description": "",
            "description_tooltip": null,
            "layout": "IPY_MODEL_3bca585886284c609f7dfedda7dbeaeb",
            "max": 1,
            "min": 0,
            "orientation": "horizontal",
            "style": "IPY_MODEL_f25b2b8403ed47b7a059678744a0c673",
            "value": 1
          }
        },
        "72d07b9c34bd49a9a5612954d6baa77c": {
          "model_module": "@jupyter-widgets/controls",
          "model_module_version": "1.5.0",
          "model_name": "ProgressStyleModel",
          "state": {
            "_model_module": "@jupyter-widgets/controls",
            "_model_module_version": "1.5.0",
            "_model_name": "ProgressStyleModel",
            "_view_count": null,
            "_view_module": "@jupyter-widgets/base",
            "_view_module_version": "1.2.0",
            "_view_name": "StyleView",
            "bar_color": null,
            "description_width": ""
          }
        },
        "73b97ca7d7f947309ca6da49b08d1c77": {
          "model_module": "@jupyter-widgets/controls",
          "model_module_version": "1.5.0",
          "model_name": "DescriptionStyleModel",
          "state": {
            "_model_module": "@jupyter-widgets/controls",
            "_model_module_version": "1.5.0",
            "_model_name": "DescriptionStyleModel",
            "_view_count": null,
            "_view_module": "@jupyter-widgets/base",
            "_view_module_version": "1.2.0",
            "_view_name": "StyleView",
            "description_width": ""
          }
        },
        "753ccbf204aa4f43bea7dcf90c032770": {
          "model_module": "@jupyter-widgets/controls",
          "model_module_version": "1.5.0",
          "model_name": "DescriptionStyleModel",
          "state": {
            "_model_module": "@jupyter-widgets/controls",
            "_model_module_version": "1.5.0",
            "_model_name": "DescriptionStyleModel",
            "_view_count": null,
            "_view_module": "@jupyter-widgets/base",
            "_view_module_version": "1.2.0",
            "_view_name": "StyleView",
            "description_width": ""
          }
        },
        "77cf2ef021fc4125b63133475f1cf1d6": {
          "model_module": "@jupyter-widgets/controls",
          "model_module_version": "1.5.0",
          "model_name": "HBoxModel",
          "state": {
            "_dom_classes": [],
            "_model_module": "@jupyter-widgets/controls",
            "_model_module_version": "1.5.0",
            "_model_name": "HBoxModel",
            "_view_count": null,
            "_view_module": "@jupyter-widgets/controls",
            "_view_module_version": "1.5.0",
            "_view_name": "HBoxView",
            "box_style": "",
            "children": [
              "IPY_MODEL_9f5add146bb043079748299a4fe61bea",
              "IPY_MODEL_bb66b2a010d94830942df39de7a7b915",
              "IPY_MODEL_4248d05caf944ff29ac575221f4a74f8"
            ],
            "layout": "IPY_MODEL_6aded1cf751b45aabdc8a75d8db87265"
          }
        },
        "7e083683c40b4ab4bd47d4341be4afed": {
          "model_module": "@jupyter-widgets/base",
          "model_module_version": "1.2.0",
          "model_name": "LayoutModel",
          "state": {
            "_model_module": "@jupyter-widgets/base",
            "_model_module_version": "1.2.0",
            "_model_name": "LayoutModel",
            "_view_count": null,
            "_view_module": "@jupyter-widgets/base",
            "_view_module_version": "1.2.0",
            "_view_name": "LayoutView",
            "align_content": null,
            "align_items": null,
            "align_self": null,
            "border": null,
            "bottom": null,
            "display": null,
            "flex": null,
            "flex_flow": null,
            "grid_area": null,
            "grid_auto_columns": null,
            "grid_auto_flow": null,
            "grid_auto_rows": null,
            "grid_column": null,
            "grid_gap": null,
            "grid_row": null,
            "grid_template_areas": null,
            "grid_template_columns": null,
            "grid_template_rows": null,
            "height": null,
            "justify_content": null,
            "justify_items": null,
            "left": null,
            "margin": null,
            "max_height": null,
            "max_width": null,
            "min_height": null,
            "min_width": null,
            "object_fit": null,
            "object_position": null,
            "order": null,
            "overflow": null,
            "overflow_x": null,
            "overflow_y": null,
            "padding": null,
            "right": null,
            "top": null,
            "visibility": null,
            "width": null
          }
        },
        "87e89cf687c94cb996bbd9dde8ef89fd": {
          "model_module": "@jupyter-widgets/base",
          "model_module_version": "1.2.0",
          "model_name": "LayoutModel",
          "state": {
            "_model_module": "@jupyter-widgets/base",
            "_model_module_version": "1.2.0",
            "_model_name": "LayoutModel",
            "_view_count": null,
            "_view_module": "@jupyter-widgets/base",
            "_view_module_version": "1.2.0",
            "_view_name": "LayoutView",
            "align_content": null,
            "align_items": null,
            "align_self": null,
            "border": null,
            "bottom": null,
            "display": null,
            "flex": null,
            "flex_flow": null,
            "grid_area": null,
            "grid_auto_columns": null,
            "grid_auto_flow": null,
            "grid_auto_rows": null,
            "grid_column": null,
            "grid_gap": null,
            "grid_row": null,
            "grid_template_areas": null,
            "grid_template_columns": null,
            "grid_template_rows": null,
            "height": null,
            "justify_content": null,
            "justify_items": null,
            "left": null,
            "margin": null,
            "max_height": null,
            "max_width": null,
            "min_height": null,
            "min_width": null,
            "object_fit": null,
            "object_position": null,
            "order": null,
            "overflow": null,
            "overflow_x": null,
            "overflow_y": null,
            "padding": null,
            "right": null,
            "top": null,
            "visibility": null,
            "width": "20px"
          }
        },
        "8bd97919890c46d3839facdd5c394faa": {
          "model_module": "@jupyter-widgets/base",
          "model_module_version": "1.2.0",
          "model_name": "LayoutModel",
          "state": {
            "_model_module": "@jupyter-widgets/base",
            "_model_module_version": "1.2.0",
            "_model_name": "LayoutModel",
            "_view_count": null,
            "_view_module": "@jupyter-widgets/base",
            "_view_module_version": "1.2.0",
            "_view_name": "LayoutView",
            "align_content": null,
            "align_items": null,
            "align_self": null,
            "border": null,
            "bottom": null,
            "display": null,
            "flex": null,
            "flex_flow": null,
            "grid_area": null,
            "grid_auto_columns": null,
            "grid_auto_flow": null,
            "grid_auto_rows": null,
            "grid_column": null,
            "grid_gap": null,
            "grid_row": null,
            "grid_template_areas": null,
            "grid_template_columns": null,
            "grid_template_rows": null,
            "height": null,
            "justify_content": null,
            "justify_items": null,
            "left": null,
            "margin": null,
            "max_height": null,
            "max_width": null,
            "min_height": null,
            "min_width": null,
            "object_fit": null,
            "object_position": null,
            "order": null,
            "overflow": null,
            "overflow_x": null,
            "overflow_y": null,
            "padding": null,
            "right": null,
            "top": null,
            "visibility": null,
            "width": null
          }
        },
        "8d0f36b902014dafb8a169c64e35cf3f": {
          "model_module": "@jupyter-widgets/base",
          "model_module_version": "1.2.0",
          "model_name": "LayoutModel",
          "state": {
            "_model_module": "@jupyter-widgets/base",
            "_model_module_version": "1.2.0",
            "_model_name": "LayoutModel",
            "_view_count": null,
            "_view_module": "@jupyter-widgets/base",
            "_view_module_version": "1.2.0",
            "_view_name": "LayoutView",
            "align_content": null,
            "align_items": null,
            "align_self": null,
            "border": null,
            "bottom": null,
            "display": null,
            "flex": null,
            "flex_flow": null,
            "grid_area": null,
            "grid_auto_columns": null,
            "grid_auto_flow": null,
            "grid_auto_rows": null,
            "grid_column": null,
            "grid_gap": null,
            "grid_row": null,
            "grid_template_areas": null,
            "grid_template_columns": null,
            "grid_template_rows": null,
            "height": null,
            "justify_content": null,
            "justify_items": null,
            "left": null,
            "margin": null,
            "max_height": null,
            "max_width": null,
            "min_height": null,
            "min_width": null,
            "object_fit": null,
            "object_position": null,
            "order": null,
            "overflow": null,
            "overflow_x": null,
            "overflow_y": null,
            "padding": null,
            "right": null,
            "top": null,
            "visibility": null,
            "width": "20px"
          }
        },
        "909b8c1fa10d46179974b7d646063351": {
          "model_module": "@jupyter-widgets/controls",
          "model_module_version": "1.5.0",
          "model_name": "HTMLModel",
          "state": {
            "_dom_classes": [],
            "_model_module": "@jupyter-widgets/controls",
            "_model_module_version": "1.5.0",
            "_model_name": "HTMLModel",
            "_view_count": null,
            "_view_module": "@jupyter-widgets/controls",
            "_view_module_version": "1.5.0",
            "_view_name": "HTMLView",
            "description": "",
            "description_tooltip": null,
            "layout": "IPY_MODEL_7e083683c40b4ab4bd47d4341be4afed",
            "placeholder": "​",
            "style": "IPY_MODEL_93b7a4532eaa44f0af75a8e84b1acdfb",
            "value": " 262143/262144 [00:22&lt;00:00, 10851.72 examples/s]"
          }
        },
        "93b7a4532eaa44f0af75a8e84b1acdfb": {
          "model_module": "@jupyter-widgets/controls",
          "model_module_version": "1.5.0",
          "model_name": "DescriptionStyleModel",
          "state": {
            "_model_module": "@jupyter-widgets/controls",
            "_model_module_version": "1.5.0",
            "_model_name": "DescriptionStyleModel",
            "_view_count": null,
            "_view_module": "@jupyter-widgets/base",
            "_view_module_version": "1.2.0",
            "_view_name": "StyleView",
            "description_width": ""
          }
        },
        "984f02986c90408fb89cfff97ea09f5c": {
          "model_module": "@jupyter-widgets/controls",
          "model_module_version": "1.5.0",
          "model_name": "HTMLModel",
          "state": {
            "_dom_classes": [],
            "_model_module": "@jupyter-widgets/controls",
            "_model_module_version": "1.5.0",
            "_model_name": "HTMLModel",
            "_view_count": null,
            "_view_module": "@jupyter-widgets/controls",
            "_view_module_version": "1.5.0",
            "_view_name": "HTMLView",
            "description": "",
            "description_tooltip": null,
            "layout": "IPY_MODEL_c8f3123167a4435d8873824a2a53124e",
            "placeholder": "​",
            "style": "IPY_MODEL_48e0a8c7f644431fbe1840268be3319a",
            "value": " 6/6 [14:39&lt;00:00, 277.41s/ file]"
          }
        },
        "993eb3963596426089f496b0dd5add39": {
          "model_module": "@jupyter-widgets/base",
          "model_module_version": "1.2.0",
          "model_name": "LayoutModel",
          "state": {
            "_model_module": "@jupyter-widgets/base",
            "_model_module_version": "1.2.0",
            "_model_name": "LayoutModel",
            "_view_count": null,
            "_view_module": "@jupyter-widgets/base",
            "_view_module_version": "1.2.0",
            "_view_name": "LayoutView",
            "align_content": null,
            "align_items": null,
            "align_self": null,
            "border": null,
            "bottom": null,
            "display": null,
            "flex": null,
            "flex_flow": null,
            "grid_area": null,
            "grid_auto_columns": null,
            "grid_auto_flow": null,
            "grid_auto_rows": null,
            "grid_column": null,
            "grid_gap": null,
            "grid_row": null,
            "grid_template_areas": null,
            "grid_template_columns": null,
            "grid_template_rows": null,
            "height": null,
            "justify_content": null,
            "justify_items": null,
            "left": null,
            "margin": null,
            "max_height": null,
            "max_width": null,
            "min_height": null,
            "min_width": null,
            "object_fit": null,
            "object_position": null,
            "order": null,
            "overflow": null,
            "overflow_x": null,
            "overflow_y": null,
            "padding": null,
            "right": null,
            "top": null,
            "visibility": null,
            "width": null
          }
        },
        "9aaf1f1863154729ba43519cd082046c": {
          "model_module": "@jupyter-widgets/base",
          "model_module_version": "1.2.0",
          "model_name": "LayoutModel",
          "state": {
            "_model_module": "@jupyter-widgets/base",
            "_model_module_version": "1.2.0",
            "_model_name": "LayoutModel",
            "_view_count": null,
            "_view_module": "@jupyter-widgets/base",
            "_view_module_version": "1.2.0",
            "_view_name": "LayoutView",
            "align_content": null,
            "align_items": null,
            "align_self": null,
            "border": null,
            "bottom": null,
            "display": null,
            "flex": null,
            "flex_flow": null,
            "grid_area": null,
            "grid_auto_columns": null,
            "grid_auto_flow": null,
            "grid_auto_rows": null,
            "grid_column": null,
            "grid_gap": null,
            "grid_row": null,
            "grid_template_areas": null,
            "grid_template_columns": null,
            "grid_template_rows": null,
            "height": null,
            "justify_content": null,
            "justify_items": null,
            "left": null,
            "margin": null,
            "max_height": null,
            "max_width": null,
            "min_height": null,
            "min_width": null,
            "object_fit": null,
            "object_position": null,
            "order": null,
            "overflow": null,
            "overflow_x": null,
            "overflow_y": null,
            "padding": null,
            "right": null,
            "top": null,
            "visibility": null,
            "width": null
          }
        },
        "9b724a957c704cffadeed642f1389e76": {
          "model_module": "@jupyter-widgets/controls",
          "model_module_version": "1.5.0",
          "model_name": "DescriptionStyleModel",
          "state": {
            "_model_module": "@jupyter-widgets/controls",
            "_model_module_version": "1.5.0",
            "_model_name": "DescriptionStyleModel",
            "_view_count": null,
            "_view_module": "@jupyter-widgets/base",
            "_view_module_version": "1.2.0",
            "_view_name": "StyleView",
            "description_width": ""
          }
        },
        "9ee58f3dc6f1407d9a993c8ac6773677": {
          "model_module": "@jupyter-widgets/base",
          "model_module_version": "1.2.0",
          "model_name": "LayoutModel",
          "state": {
            "_model_module": "@jupyter-widgets/base",
            "_model_module_version": "1.2.0",
            "_model_name": "LayoutModel",
            "_view_count": null,
            "_view_module": "@jupyter-widgets/base",
            "_view_module_version": "1.2.0",
            "_view_name": "LayoutView",
            "align_content": null,
            "align_items": null,
            "align_self": null,
            "border": null,
            "bottom": null,
            "display": null,
            "flex": null,
            "flex_flow": null,
            "grid_area": null,
            "grid_auto_columns": null,
            "grid_auto_flow": null,
            "grid_auto_rows": null,
            "grid_column": null,
            "grid_gap": null,
            "grid_row": null,
            "grid_template_areas": null,
            "grid_template_columns": null,
            "grid_template_rows": null,
            "height": null,
            "justify_content": null,
            "justify_items": null,
            "left": null,
            "margin": null,
            "max_height": null,
            "max_width": null,
            "min_height": null,
            "min_width": null,
            "object_fit": null,
            "object_position": null,
            "order": null,
            "overflow": null,
            "overflow_x": null,
            "overflow_y": null,
            "padding": null,
            "right": null,
            "top": null,
            "visibility": null,
            "width": null
          }
        },
        "9f5add146bb043079748299a4fe61bea": {
          "model_module": "@jupyter-widgets/controls",
          "model_module_version": "1.5.0",
          "model_name": "HTMLModel",
          "state": {
            "_dom_classes": [],
            "_model_module": "@jupyter-widgets/controls",
            "_model_module_version": "1.5.0",
            "_model_name": "HTMLModel",
            "_view_count": null,
            "_view_module": "@jupyter-widgets/controls",
            "_view_module_version": "1.5.0",
            "_view_name": "HTMLView",
            "description": "",
            "description_tooltip": null,
            "layout": "IPY_MODEL_6d39f984452741dea7e80c485107a667",
            "placeholder": "​",
            "style": "IPY_MODEL_054dd02548dd4b5c97f49e78c4d3c0c8",
            "value": ""
          }
        },
        "a0740bfe424241b88f4baf31061bd6cf": {
          "model_module": "@jupyter-widgets/controls",
          "model_module_version": "1.5.0",
          "model_name": "HTMLModel",
          "state": {
            "_dom_classes": [],
            "_model_module": "@jupyter-widgets/controls",
            "_model_module_version": "1.5.0",
            "_model_name": "HTMLModel",
            "_view_count": null,
            "_view_module": "@jupyter-widgets/controls",
            "_view_module_version": "1.5.0",
            "_view_name": "HTMLView",
            "description": "",
            "description_tooltip": null,
            "layout": "IPY_MODEL_3ca1641617c94349b2bbf0c253560bd0",
            "placeholder": "​",
            "style": "IPY_MODEL_c0b14486834849dfa9a9074f41bce122",
            "value": " 32767/32768 [00:01&lt;00:00, 20401.45 examples/s]"
          }
        },
        "a7e4cfd3ba66441389fccd02ae679da6": {
          "model_module": "@jupyter-widgets/base",
          "model_module_version": "1.2.0",
          "model_name": "LayoutModel",
          "state": {
            "_model_module": "@jupyter-widgets/base",
            "_model_module_version": "1.2.0",
            "_model_name": "LayoutModel",
            "_view_count": null,
            "_view_module": "@jupyter-widgets/base",
            "_view_module_version": "1.2.0",
            "_view_name": "LayoutView",
            "align_content": null,
            "align_items": null,
            "align_self": null,
            "border": null,
            "bottom": null,
            "display": null,
            "flex": null,
            "flex_flow": null,
            "grid_area": null,
            "grid_auto_columns": null,
            "grid_auto_flow": null,
            "grid_auto_rows": null,
            "grid_column": null,
            "grid_gap": null,
            "grid_row": null,
            "grid_template_areas": null,
            "grid_template_columns": null,
            "grid_template_rows": null,
            "height": null,
            "justify_content": null,
            "justify_items": null,
            "left": null,
            "margin": null,
            "max_height": null,
            "max_width": null,
            "min_height": null,
            "min_width": null,
            "object_fit": null,
            "object_position": null,
            "order": null,
            "overflow": null,
            "overflow_x": null,
            "overflow_y": null,
            "padding": null,
            "right": null,
            "top": null,
            "visibility": null,
            "width": null
          }
        },
        "a892433c2c424e068a72fca0a29dc101": {
          "model_module": "@jupyter-widgets/controls",
          "model_module_version": "1.5.0",
          "model_name": "HTMLModel",
          "state": {
            "_dom_classes": [],
            "_model_module": "@jupyter-widgets/controls",
            "_model_module_version": "1.5.0",
            "_model_name": "HTMLModel",
            "_view_count": null,
            "_view_module": "@jupyter-widgets/controls",
            "_view_module_version": "1.5.0",
            "_view_name": "HTMLView",
            "description": "",
            "description_tooltip": null,
            "layout": "IPY_MODEL_66396be346b24095a14021b6e882324d",
            "placeholder": "​",
            "style": "IPY_MODEL_010e2bae801e4d98b886a86cd4a3f2a0",
            "value": " 32767/32768 [00:01&lt;00:00, 20608.86 examples/s]"
          }
        },
        "aa0369da68444864bb6b794ff52fe80d": {
          "model_module": "@jupyter-widgets/controls",
          "model_module_version": "1.5.0",
          "model_name": "DescriptionStyleModel",
          "state": {
            "_model_module": "@jupyter-widgets/controls",
            "_model_module_version": "1.5.0",
            "_model_name": "DescriptionStyleModel",
            "_view_count": null,
            "_view_module": "@jupyter-widgets/base",
            "_view_module_version": "1.2.0",
            "_view_name": "StyleView",
            "description_width": ""
          }
        },
        "ac2a95aebe70401aa1858bf490ac1396": {
          "model_module": "@jupyter-widgets/controls",
          "model_module_version": "1.5.0",
          "model_name": "DescriptionStyleModel",
          "state": {
            "_model_module": "@jupyter-widgets/controls",
            "_model_module_version": "1.5.0",
            "_model_name": "DescriptionStyleModel",
            "_view_count": null,
            "_view_module": "@jupyter-widgets/base",
            "_view_module_version": "1.2.0",
            "_view_name": "StyleView",
            "description_width": ""
          }
        },
        "ac5325608c194c8ca0968a1301fec9e6": {
          "model_module": "@jupyter-widgets/controls",
          "model_module_version": "1.5.0",
          "model_name": "FloatProgressModel",
          "state": {
            "_dom_classes": [],
            "_model_module": "@jupyter-widgets/controls",
            "_model_module_version": "1.5.0",
            "_model_name": "FloatProgressModel",
            "_view_count": null,
            "_view_module": "@jupyter-widgets/controls",
            "_view_module_version": "1.5.0",
            "_view_name": "ProgressView",
            "bar_style": "success",
            "description": "",
            "description_tooltip": null,
            "layout": "IPY_MODEL_8d0f36b902014dafb8a169c64e35cf3f",
            "max": 1,
            "min": 0,
            "orientation": "horizontal",
            "style": "IPY_MODEL_2b8ed2b601fd49eb9a3f574f0a8c238c",
            "value": 1
          }
        },
        "ad43180a88ac492d86b41a79bfc56dc1": {
          "model_module": "@jupyter-widgets/base",
          "model_module_version": "1.2.0",
          "model_name": "LayoutModel",
          "state": {
            "_model_module": "@jupyter-widgets/base",
            "_model_module_version": "1.2.0",
            "_model_name": "LayoutModel",
            "_view_count": null,
            "_view_module": "@jupyter-widgets/base",
            "_view_module_version": "1.2.0",
            "_view_name": "LayoutView",
            "align_content": null,
            "align_items": null,
            "align_self": null,
            "border": null,
            "bottom": null,
            "display": null,
            "flex": null,
            "flex_flow": null,
            "grid_area": null,
            "grid_auto_columns": null,
            "grid_auto_flow": null,
            "grid_auto_rows": null,
            "grid_column": null,
            "grid_gap": null,
            "grid_row": null,
            "grid_template_areas": null,
            "grid_template_columns": null,
            "grid_template_rows": null,
            "height": null,
            "justify_content": null,
            "justify_items": null,
            "left": null,
            "margin": null,
            "max_height": null,
            "max_width": null,
            "min_height": null,
            "min_width": null,
            "object_fit": null,
            "object_position": null,
            "order": null,
            "overflow": null,
            "overflow_x": null,
            "overflow_y": null,
            "padding": null,
            "right": null,
            "top": null,
            "visibility": null,
            "width": null
          }
        },
        "ad8efcb4fd534f29a0df8a94f3bfb71a": {
          "model_module": "@jupyter-widgets/base",
          "model_module_version": "1.2.0",
          "model_name": "LayoutModel",
          "state": {
            "_model_module": "@jupyter-widgets/base",
            "_model_module_version": "1.2.0",
            "_model_name": "LayoutModel",
            "_view_count": null,
            "_view_module": "@jupyter-widgets/base",
            "_view_module_version": "1.2.0",
            "_view_name": "LayoutView",
            "align_content": null,
            "align_items": null,
            "align_self": null,
            "border": null,
            "bottom": null,
            "display": null,
            "flex": null,
            "flex_flow": null,
            "grid_area": null,
            "grid_auto_columns": null,
            "grid_auto_flow": null,
            "grid_auto_rows": null,
            "grid_column": null,
            "grid_gap": null,
            "grid_row": null,
            "grid_template_areas": null,
            "grid_template_columns": null,
            "grid_template_rows": null,
            "height": null,
            "justify_content": null,
            "justify_items": null,
            "left": null,
            "margin": null,
            "max_height": null,
            "max_width": null,
            "min_height": null,
            "min_width": null,
            "object_fit": null,
            "object_position": null,
            "order": null,
            "overflow": null,
            "overflow_x": null,
            "overflow_y": null,
            "padding": null,
            "right": null,
            "top": null,
            "visibility": null,
            "width": null
          }
        },
        "ae40ae50736447159569090c5dd447f5": {
          "model_module": "@jupyter-widgets/controls",
          "model_module_version": "1.5.0",
          "model_name": "FloatProgressModel",
          "state": {
            "_dom_classes": [],
            "_model_module": "@jupyter-widgets/controls",
            "_model_module_version": "1.5.0",
            "_model_name": "FloatProgressModel",
            "_view_count": null,
            "_view_module": "@jupyter-widgets/controls",
            "_view_module_version": "1.5.0",
            "_view_name": "ProgressView",
            "bar_style": "danger",
            "description": "",
            "description_tooltip": null,
            "layout": "IPY_MODEL_ad43180a88ac492d86b41a79bfc56dc1",
            "max": 32768,
            "min": 0,
            "orientation": "horizontal",
            "style": "IPY_MODEL_72d07b9c34bd49a9a5612954d6baa77c",
            "value": 32767
          }
        },
        "b2aeb367806043b1890d7676c5555cc0": {
          "model_module": "@jupyter-widgets/controls",
          "model_module_version": "1.5.0",
          "model_name": "HTMLModel",
          "state": {
            "_dom_classes": [],
            "_model_module": "@jupyter-widgets/controls",
            "_model_module_version": "1.5.0",
            "_model_name": "HTMLModel",
            "_view_count": null,
            "_view_module": "@jupyter-widgets/controls",
            "_view_module_version": "1.5.0",
            "_view_name": "HTMLView",
            "description": "",
            "description_tooltip": null,
            "layout": "IPY_MODEL_4853780752e64b6dafb57a089af7d155",
            "placeholder": "​",
            "style": "IPY_MODEL_409044f5bf994930b07629781793ccb7",
            "value": " 6/6 [14:39&lt;00:00, 256.40s/ url]"
          }
        },
        "b3a5d8b14df24bb4b55bb1d9edd29032": {
          "model_module": "@jupyter-widgets/controls",
          "model_module_version": "1.5.0",
          "model_name": "HTMLModel",
          "state": {
            "_dom_classes": [],
            "_model_module": "@jupyter-widgets/controls",
            "_model_module_version": "1.5.0",
            "_model_name": "HTMLModel",
            "_view_count": null,
            "_view_module": "@jupyter-widgets/controls",
            "_view_module_version": "1.5.0",
            "_view_name": "HTMLView",
            "description": "",
            "description_tooltip": null,
            "layout": "IPY_MODEL_6c8fa47b63494dea99be67acc1c6d443",
            "placeholder": "​",
            "style": "IPY_MODEL_9b724a957c704cffadeed642f1389e76",
            "value": " 7654/7654 [14:39&lt;00:00,  5.08 MiB/s]"
          }
        },
        "b468ad0f3b7a4514971d6e7ceb43ad7f": {
          "model_module": "@jupyter-widgets/controls",
          "model_module_version": "1.5.0",
          "model_name": "FloatProgressModel",
          "state": {
            "_dom_classes": [],
            "_model_module": "@jupyter-widgets/controls",
            "_model_module_version": "1.5.0",
            "_model_name": "FloatProgressModel",
            "_view_count": null,
            "_view_module": "@jupyter-widgets/controls",
            "_view_module_version": "1.5.0",
            "_view_name": "ProgressView",
            "bar_style": "danger",
            "description": "",
            "description_tooltip": null,
            "layout": "IPY_MODEL_bcebcd5447584e1898f6916d143388e3",
            "max": 262144,
            "min": 0,
            "orientation": "horizontal",
            "style": "IPY_MODEL_cf9cbba66cb849a3b446858218ffbe7c",
            "value": 262143
          }
        },
        "b5c4bb76c1b94bde9c69f5080635daab": {
          "model_module": "@jupyter-widgets/controls",
          "model_module_version": "1.5.0",
          "model_name": "HBoxModel",
          "state": {
            "_dom_classes": [],
            "_model_module": "@jupyter-widgets/controls",
            "_model_module_version": "1.5.0",
            "_model_name": "HBoxModel",
            "_view_count": null,
            "_view_module": "@jupyter-widgets/controls",
            "_view_module_version": "1.5.0",
            "_view_name": "HBoxView",
            "box_style": "",
            "children": [
              "IPY_MODEL_f7a0eed362e840a5af550e0c1bcc1ef0",
              "IPY_MODEL_6ebe787c7b7743628c567228f0a5a052",
              "IPY_MODEL_b3a5d8b14df24bb4b55bb1d9edd29032"
            ],
            "layout": "IPY_MODEL_5ea1d1f898fa4a85865633f29c6da875"
          }
        },
        "b6809c7637e948238686a2b3da61b0b2": {
          "model_module": "@jupyter-widgets/controls",
          "model_module_version": "1.5.0",
          "model_name": "HTMLModel",
          "state": {
            "_dom_classes": [],
            "_model_module": "@jupyter-widgets/controls",
            "_model_module_version": "1.5.0",
            "_model_name": "HTMLModel",
            "_view_count": null,
            "_view_module": "@jupyter-widgets/controls",
            "_view_module_version": "1.5.0",
            "_view_name": "HTMLView",
            "description": "",
            "description_tooltip": null,
            "layout": "IPY_MODEL_61f073dfbfbb4dc887636adf67c8508b",
            "placeholder": "​",
            "style": "IPY_MODEL_753ccbf204aa4f43bea7dcf90c032770",
            "value": " 32741/0 [01:20&lt;00:00, 420.84 examples/s]"
          }
        },
        "b99c03fb72ea440a981dce882a339590": {
          "model_module": "@jupyter-widgets/controls",
          "model_module_version": "1.5.0",
          "model_name": "HTMLModel",
          "state": {
            "_dom_classes": [],
            "_model_module": "@jupyter-widgets/controls",
            "_model_module_version": "1.5.0",
            "_model_name": "HTMLModel",
            "_view_count": null,
            "_view_module": "@jupyter-widgets/controls",
            "_view_module_version": "1.5.0",
            "_view_name": "HTMLView",
            "description": "",
            "description_tooltip": null,
            "layout": "IPY_MODEL_3ea3922946a0432099df01b9fcdfe49e",
            "placeholder": "​",
            "style": "IPY_MODEL_1ab57d9a03ee449ea3c1de8b8e2f08b6",
            "value": ""
          }
        },
        "bb66b2a010d94830942df39de7a7b915": {
          "model_module": "@jupyter-widgets/controls",
          "model_module_version": "1.5.0",
          "model_name": "FloatProgressModel",
          "state": {
            "_dom_classes": [],
            "_model_module": "@jupyter-widgets/controls",
            "_model_module_version": "1.5.0",
            "_model_name": "FloatProgressModel",
            "_view_count": null,
            "_view_module": "@jupyter-widgets/controls",
            "_view_module_version": "1.5.0",
            "_view_name": "ProgressView",
            "bar_style": "info",
            "description": "",
            "description_tooltip": null,
            "layout": "IPY_MODEL_59a7e24dbfe04306b716eb403e9bb7e2",
            "max": 1,
            "min": 0,
            "orientation": "horizontal",
            "style": "IPY_MODEL_2f9d9e5d8bf74725b32e88726c0d9f16",
            "value": 1
          }
        },
        "bcebcd5447584e1898f6916d143388e3": {
          "model_module": "@jupyter-widgets/base",
          "model_module_version": "1.2.0",
          "model_name": "LayoutModel",
          "state": {
            "_model_module": "@jupyter-widgets/base",
            "_model_module_version": "1.2.0",
            "_model_name": "LayoutModel",
            "_view_count": null,
            "_view_module": "@jupyter-widgets/base",
            "_view_module_version": "1.2.0",
            "_view_name": "LayoutView",
            "align_content": null,
            "align_items": null,
            "align_self": null,
            "border": null,
            "bottom": null,
            "display": null,
            "flex": null,
            "flex_flow": null,
            "grid_area": null,
            "grid_auto_columns": null,
            "grid_auto_flow": null,
            "grid_auto_rows": null,
            "grid_column": null,
            "grid_gap": null,
            "grid_row": null,
            "grid_template_areas": null,
            "grid_template_columns": null,
            "grid_template_rows": null,
            "height": null,
            "justify_content": null,
            "justify_items": null,
            "left": null,
            "margin": null,
            "max_height": null,
            "max_width": null,
            "min_height": null,
            "min_width": null,
            "object_fit": null,
            "object_position": null,
            "order": null,
            "overflow": null,
            "overflow_x": null,
            "overflow_y": null,
            "padding": null,
            "right": null,
            "top": null,
            "visibility": null,
            "width": null
          }
        },
        "bf7a67ae3edb41d19dba9f0a9f04e7be": {
          "model_module": "@jupyter-widgets/controls",
          "model_module_version": "1.5.0",
          "model_name": "HBoxModel",
          "state": {
            "_dom_classes": [],
            "_model_module": "@jupyter-widgets/controls",
            "_model_module_version": "1.5.0",
            "_model_name": "HBoxModel",
            "_view_count": null,
            "_view_module": "@jupyter-widgets/controls",
            "_view_module_version": "1.5.0",
            "_view_name": "HBoxView",
            "box_style": "",
            "children": [
              "IPY_MODEL_b99c03fb72ea440a981dce882a339590",
              "IPY_MODEL_5601295861934b019b494500ccf468e5",
              "IPY_MODEL_b6809c7637e948238686a2b3da61b0b2"
            ],
            "layout": "IPY_MODEL_e29f1a7529594d249de6e88d7481fc4c"
          }
        },
        "c0b14486834849dfa9a9074f41bce122": {
          "model_module": "@jupyter-widgets/controls",
          "model_module_version": "1.5.0",
          "model_name": "DescriptionStyleModel",
          "state": {
            "_model_module": "@jupyter-widgets/controls",
            "_model_module_version": "1.5.0",
            "_model_name": "DescriptionStyleModel",
            "_view_count": null,
            "_view_module": "@jupyter-widgets/base",
            "_view_module_version": "1.2.0",
            "_view_name": "StyleView",
            "description_width": ""
          }
        },
        "c385aafd8df04d30bb51874c572d594c": {
          "model_module": "@jupyter-widgets/controls",
          "model_module_version": "1.5.0",
          "model_name": "ProgressStyleModel",
          "state": {
            "_model_module": "@jupyter-widgets/controls",
            "_model_module_version": "1.5.0",
            "_model_name": "ProgressStyleModel",
            "_view_count": null,
            "_view_module": "@jupyter-widgets/base",
            "_view_module_version": "1.2.0",
            "_view_name": "StyleView",
            "bar_color": null,
            "description_width": ""
          }
        },
        "c700656635db4da0a8824aee8a01473f": {
          "model_module": "@jupyter-widgets/controls",
          "model_module_version": "1.5.0",
          "model_name": "HBoxModel",
          "state": {
            "_dom_classes": [],
            "_model_module": "@jupyter-widgets/controls",
            "_model_module_version": "1.5.0",
            "_model_name": "HBoxModel",
            "_view_count": null,
            "_view_module": "@jupyter-widgets/controls",
            "_view_module_version": "1.5.0",
            "_view_name": "HBoxView",
            "box_style": "",
            "children": [
              "IPY_MODEL_fbc91b86e6874ef4ab1a67551475d4e3",
              "IPY_MODEL_57ec808ea2554e7ba200c7ac92362ce6",
              "IPY_MODEL_a892433c2c424e068a72fca0a29dc101"
            ],
            "layout": "IPY_MODEL_993eb3963596426089f496b0dd5add39"
          }
        },
        "c8f3123167a4435d8873824a2a53124e": {
          "model_module": "@jupyter-widgets/base",
          "model_module_version": "1.2.0",
          "model_name": "LayoutModel",
          "state": {
            "_model_module": "@jupyter-widgets/base",
            "_model_module_version": "1.2.0",
            "_model_name": "LayoutModel",
            "_view_count": null,
            "_view_module": "@jupyter-widgets/base",
            "_view_module_version": "1.2.0",
            "_view_name": "LayoutView",
            "align_content": null,
            "align_items": null,
            "align_self": null,
            "border": null,
            "bottom": null,
            "display": null,
            "flex": null,
            "flex_flow": null,
            "grid_area": null,
            "grid_auto_columns": null,
            "grid_auto_flow": null,
            "grid_auto_rows": null,
            "grid_column": null,
            "grid_gap": null,
            "grid_row": null,
            "grid_template_areas": null,
            "grid_template_columns": null,
            "grid_template_rows": null,
            "height": null,
            "justify_content": null,
            "justify_items": null,
            "left": null,
            "margin": null,
            "max_height": null,
            "max_width": null,
            "min_height": null,
            "min_width": null,
            "object_fit": null,
            "object_position": null,
            "order": null,
            "overflow": null,
            "overflow_x": null,
            "overflow_y": null,
            "padding": null,
            "right": null,
            "top": null,
            "visibility": null,
            "width": null
          }
        },
        "cd65720434e54852a033a0af4357b6c5": {
          "model_module": "@jupyter-widgets/controls",
          "model_module_version": "1.5.0",
          "model_name": "HTMLModel",
          "state": {
            "_dom_classes": [],
            "_model_module": "@jupyter-widgets/controls",
            "_model_module_version": "1.5.0",
            "_model_name": "HTMLModel",
            "_view_count": null,
            "_view_module": "@jupyter-widgets/controls",
            "_view_module_version": "1.5.0",
            "_view_name": "HTMLView",
            "description": "",
            "description_tooltip": null,
            "layout": "IPY_MODEL_5ceab3f1107f4bf795db54717bfc7646",
            "placeholder": "​",
            "style": "IPY_MODEL_ffdab5643bea4478838f7be025d5485e",
            "value": "100%"
          }
        },
        "cf9cbba66cb849a3b446858218ffbe7c": {
          "model_module": "@jupyter-widgets/controls",
          "model_module_version": "1.5.0",
          "model_name": "ProgressStyleModel",
          "state": {
            "_model_module": "@jupyter-widgets/controls",
            "_model_module_version": "1.5.0",
            "_model_name": "ProgressStyleModel",
            "_view_count": null,
            "_view_module": "@jupyter-widgets/base",
            "_view_module_version": "1.2.0",
            "_view_name": "StyleView",
            "bar_color": null,
            "description_width": ""
          }
        },
        "da036ddb1f794f38bb6bd3981de5effe": {
          "model_module": "@jupyter-widgets/controls",
          "model_module_version": "1.5.0",
          "model_name": "DescriptionStyleModel",
          "state": {
            "_model_module": "@jupyter-widgets/controls",
            "_model_module_version": "1.5.0",
            "_model_name": "DescriptionStyleModel",
            "_view_count": null,
            "_view_module": "@jupyter-widgets/base",
            "_view_module_version": "1.2.0",
            "_view_name": "StyleView",
            "description_width": ""
          }
        },
        "db82b44c06bf4b82be4284c058bfa3fb": {
          "model_module": "@jupyter-widgets/base",
          "model_module_version": "1.2.0",
          "model_name": "LayoutModel",
          "state": {
            "_model_module": "@jupyter-widgets/base",
            "_model_module_version": "1.2.0",
            "_model_name": "LayoutModel",
            "_view_count": null,
            "_view_module": "@jupyter-widgets/base",
            "_view_module_version": "1.2.0",
            "_view_name": "LayoutView",
            "align_content": null,
            "align_items": null,
            "align_self": null,
            "border": null,
            "bottom": null,
            "display": null,
            "flex": null,
            "flex_flow": null,
            "grid_area": null,
            "grid_auto_columns": null,
            "grid_auto_flow": null,
            "grid_auto_rows": null,
            "grid_column": null,
            "grid_gap": null,
            "grid_row": null,
            "grid_template_areas": null,
            "grid_template_columns": null,
            "grid_template_rows": null,
            "height": null,
            "justify_content": null,
            "justify_items": null,
            "left": null,
            "margin": null,
            "max_height": null,
            "max_width": null,
            "min_height": null,
            "min_width": null,
            "object_fit": null,
            "object_position": null,
            "order": null,
            "overflow": null,
            "overflow_x": null,
            "overflow_y": null,
            "padding": null,
            "right": null,
            "top": null,
            "visibility": null,
            "width": null
          }
        },
        "dc6b493c625e4b0aacab28c982a752ef": {
          "model_module": "@jupyter-widgets/base",
          "model_module_version": "1.2.0",
          "model_name": "LayoutModel",
          "state": {
            "_model_module": "@jupyter-widgets/base",
            "_model_module_version": "1.2.0",
            "_model_name": "LayoutModel",
            "_view_count": null,
            "_view_module": "@jupyter-widgets/base",
            "_view_module_version": "1.2.0",
            "_view_name": "LayoutView",
            "align_content": null,
            "align_items": null,
            "align_self": null,
            "border": null,
            "bottom": null,
            "display": null,
            "flex": null,
            "flex_flow": null,
            "grid_area": null,
            "grid_auto_columns": null,
            "grid_auto_flow": null,
            "grid_auto_rows": null,
            "grid_column": null,
            "grid_gap": null,
            "grid_row": null,
            "grid_template_areas": null,
            "grid_template_columns": null,
            "grid_template_rows": null,
            "height": null,
            "justify_content": null,
            "justify_items": null,
            "left": null,
            "margin": null,
            "max_height": null,
            "max_width": null,
            "min_height": null,
            "min_width": null,
            "object_fit": null,
            "object_position": null,
            "order": null,
            "overflow": null,
            "overflow_x": null,
            "overflow_y": null,
            "padding": null,
            "right": null,
            "top": null,
            "visibility": null,
            "width": null
          }
        },
        "df2b8fa7102b4c8f917614a34bf0560b": {
          "model_module": "@jupyter-widgets/base",
          "model_module_version": "1.2.0",
          "model_name": "LayoutModel",
          "state": {
            "_model_module": "@jupyter-widgets/base",
            "_model_module_version": "1.2.0",
            "_model_name": "LayoutModel",
            "_view_count": null,
            "_view_module": "@jupyter-widgets/base",
            "_view_module_version": "1.2.0",
            "_view_name": "LayoutView",
            "align_content": null,
            "align_items": null,
            "align_self": null,
            "border": null,
            "bottom": null,
            "display": null,
            "flex": null,
            "flex_flow": null,
            "grid_area": null,
            "grid_auto_columns": null,
            "grid_auto_flow": null,
            "grid_auto_rows": null,
            "grid_column": null,
            "grid_gap": null,
            "grid_row": null,
            "grid_template_areas": null,
            "grid_template_columns": null,
            "grid_template_rows": null,
            "height": null,
            "justify_content": null,
            "justify_items": null,
            "left": null,
            "margin": null,
            "max_height": null,
            "max_width": null,
            "min_height": null,
            "min_width": null,
            "object_fit": null,
            "object_position": null,
            "order": null,
            "overflow": null,
            "overflow_x": null,
            "overflow_y": null,
            "padding": null,
            "right": null,
            "top": null,
            "visibility": null,
            "width": null
          }
        },
        "e29f1a7529594d249de6e88d7481fc4c": {
          "model_module": "@jupyter-widgets/base",
          "model_module_version": "1.2.0",
          "model_name": "LayoutModel",
          "state": {
            "_model_module": "@jupyter-widgets/base",
            "_model_module_version": "1.2.0",
            "_model_name": "LayoutModel",
            "_view_count": null,
            "_view_module": "@jupyter-widgets/base",
            "_view_module_version": "1.2.0",
            "_view_name": "LayoutView",
            "align_content": null,
            "align_items": null,
            "align_self": null,
            "border": null,
            "bottom": null,
            "display": null,
            "flex": null,
            "flex_flow": null,
            "grid_area": null,
            "grid_auto_columns": null,
            "grid_auto_flow": null,
            "grid_auto_rows": null,
            "grid_column": null,
            "grid_gap": null,
            "grid_row": null,
            "grid_template_areas": null,
            "grid_template_columns": null,
            "grid_template_rows": null,
            "height": null,
            "justify_content": null,
            "justify_items": null,
            "left": null,
            "margin": null,
            "max_height": null,
            "max_width": null,
            "min_height": null,
            "min_width": null,
            "object_fit": null,
            "object_position": null,
            "order": null,
            "overflow": null,
            "overflow_x": null,
            "overflow_y": null,
            "padding": null,
            "right": null,
            "top": null,
            "visibility": null,
            "width": null
          }
        },
        "e868868b26d34ba4b9641b4c8b30f16e": {
          "model_module": "@jupyter-widgets/controls",
          "model_module_version": "1.5.0",
          "model_name": "HTMLModel",
          "state": {
            "_dom_classes": [],
            "_model_module": "@jupyter-widgets/controls",
            "_model_module_version": "1.5.0",
            "_model_name": "HTMLModel",
            "_view_count": null,
            "_view_module": "@jupyter-widgets/controls",
            "_view_module_version": "1.5.0",
            "_view_name": "HTMLView",
            "description": "",
            "description_tooltip": null,
            "layout": "IPY_MODEL_db82b44c06bf4b82be4284c058bfa3fb",
            "placeholder": "​",
            "style": "IPY_MODEL_f1795aa769a44142a455fd3ada02f1b5",
            "value": "100%"
          }
        },
        "ec8f4272294a469fb9863036384b3b40": {
          "model_module": "@jupyter-widgets/controls",
          "model_module_version": "1.5.0",
          "model_name": "DescriptionStyleModel",
          "state": {
            "_model_module": "@jupyter-widgets/controls",
            "_model_module_version": "1.5.0",
            "_model_name": "DescriptionStyleModel",
            "_view_count": null,
            "_view_module": "@jupyter-widgets/base",
            "_view_module_version": "1.2.0",
            "_view_name": "StyleView",
            "description_width": ""
          }
        },
        "f1795aa769a44142a455fd3ada02f1b5": {
          "model_module": "@jupyter-widgets/controls",
          "model_module_version": "1.5.0",
          "model_name": "DescriptionStyleModel",
          "state": {
            "_model_module": "@jupyter-widgets/controls",
            "_model_module_version": "1.5.0",
            "_model_name": "DescriptionStyleModel",
            "_view_count": null,
            "_view_module": "@jupyter-widgets/base",
            "_view_module_version": "1.2.0",
            "_view_name": "StyleView",
            "description_width": ""
          }
        },
        "f25b2b8403ed47b7a059678744a0c673": {
          "model_module": "@jupyter-widgets/controls",
          "model_module_version": "1.5.0",
          "model_name": "ProgressStyleModel",
          "state": {
            "_model_module": "@jupyter-widgets/controls",
            "_model_module_version": "1.5.0",
            "_model_name": "ProgressStyleModel",
            "_view_count": null,
            "_view_module": "@jupyter-widgets/base",
            "_view_module_version": "1.2.0",
            "_view_name": "StyleView",
            "bar_color": null,
            "description_width": ""
          }
        },
        "f6d743bd74f94d528eddc6ac8ba74e5d": {
          "model_module": "@jupyter-widgets/base",
          "model_module_version": "1.2.0",
          "model_name": "LayoutModel",
          "state": {
            "_model_module": "@jupyter-widgets/base",
            "_model_module_version": "1.2.0",
            "_model_name": "LayoutModel",
            "_view_count": null,
            "_view_module": "@jupyter-widgets/base",
            "_view_module_version": "1.2.0",
            "_view_name": "LayoutView",
            "align_content": null,
            "align_items": null,
            "align_self": null,
            "border": null,
            "bottom": null,
            "display": null,
            "flex": null,
            "flex_flow": null,
            "grid_area": null,
            "grid_auto_columns": null,
            "grid_auto_flow": null,
            "grid_auto_rows": null,
            "grid_column": null,
            "grid_gap": null,
            "grid_row": null,
            "grid_template_areas": null,
            "grid_template_columns": null,
            "grid_template_rows": null,
            "height": null,
            "justify_content": null,
            "justify_items": null,
            "left": null,
            "margin": null,
            "max_height": null,
            "max_width": null,
            "min_height": null,
            "min_width": null,
            "object_fit": null,
            "object_position": null,
            "order": null,
            "overflow": null,
            "overflow_x": null,
            "overflow_y": null,
            "padding": null,
            "right": null,
            "top": null,
            "visibility": null,
            "width": null
          }
        },
        "f7a0eed362e840a5af550e0c1bcc1ef0": {
          "model_module": "@jupyter-widgets/controls",
          "model_module_version": "1.5.0",
          "model_name": "HTMLModel",
          "state": {
            "_dom_classes": [],
            "_model_module": "@jupyter-widgets/controls",
            "_model_module_version": "1.5.0",
            "_model_name": "HTMLModel",
            "_view_count": null,
            "_view_module": "@jupyter-widgets/controls",
            "_view_module_version": "1.5.0",
            "_view_name": "HTMLView",
            "description": "",
            "description_tooltip": null,
            "layout": "IPY_MODEL_fa40d3b063764b88968399ec48865e04",
            "placeholder": "​",
            "style": "IPY_MODEL_705954764912478aa1f4db09bde4cfec",
            "value": "Dl Size...: 100%"
          }
        },
        "fa40d3b063764b88968399ec48865e04": {
          "model_module": "@jupyter-widgets/base",
          "model_module_version": "1.2.0",
          "model_name": "LayoutModel",
          "state": {
            "_model_module": "@jupyter-widgets/base",
            "_model_module_version": "1.2.0",
            "_model_name": "LayoutModel",
            "_view_count": null,
            "_view_module": "@jupyter-widgets/base",
            "_view_module_version": "1.2.0",
            "_view_name": "LayoutView",
            "align_content": null,
            "align_items": null,
            "align_self": null,
            "border": null,
            "bottom": null,
            "display": null,
            "flex": null,
            "flex_flow": null,
            "grid_area": null,
            "grid_auto_columns": null,
            "grid_auto_flow": null,
            "grid_auto_rows": null,
            "grid_column": null,
            "grid_gap": null,
            "grid_row": null,
            "grid_template_areas": null,
            "grid_template_columns": null,
            "grid_template_rows": null,
            "height": null,
            "justify_content": null,
            "justify_items": null,
            "left": null,
            "margin": null,
            "max_height": null,
            "max_width": null,
            "min_height": null,
            "min_width": null,
            "object_fit": null,
            "object_position": null,
            "order": null,
            "overflow": null,
            "overflow_x": null,
            "overflow_y": null,
            "padding": null,
            "right": null,
            "top": null,
            "visibility": null,
            "width": null
          }
        },
        "fbc91b86e6874ef4ab1a67551475d4e3": {
          "model_module": "@jupyter-widgets/controls",
          "model_module_version": "1.5.0",
          "model_name": "HTMLModel",
          "state": {
            "_dom_classes": [],
            "_model_module": "@jupyter-widgets/controls",
            "_model_module_version": "1.5.0",
            "_model_name": "HTMLModel",
            "_view_count": null,
            "_view_module": "@jupyter-widgets/controls",
            "_view_module_version": "1.5.0",
            "_view_name": "HTMLView",
            "description": "",
            "description_tooltip": null,
            "layout": "IPY_MODEL_6818a8f7d5964172a916aa8a5fe20ce5",
            "placeholder": "​",
            "style": "IPY_MODEL_ac2a95aebe70401aa1858bf490ac1396",
            "value": "100%"
          }
        },
        "fd07d4c50e51487bb775788259bbecc4": {
          "model_module": "@jupyter-widgets/controls",
          "model_module_version": "1.5.0",
          "model_name": "HBoxModel",
          "state": {
            "_dom_classes": [],
            "_model_module": "@jupyter-widgets/controls",
            "_model_module_version": "1.5.0",
            "_model_name": "HBoxModel",
            "_view_count": null,
            "_view_module": "@jupyter-widgets/controls",
            "_view_module_version": "1.5.0",
            "_view_name": "HBoxView",
            "box_style": "",
            "children": [
              "IPY_MODEL_07086b677f8e46ecb6700710f0a85edf",
              "IPY_MODEL_ac5325608c194c8ca0968a1301fec9e6",
              "IPY_MODEL_b2aeb367806043b1890d7676c5555cc0"
            ],
            "layout": "IPY_MODEL_9aaf1f1863154729ba43519cd082046c"
          }
        },
        "ffdab5643bea4478838f7be025d5485e": {
          "model_module": "@jupyter-widgets/controls",
          "model_module_version": "1.5.0",
          "model_name": "DescriptionStyleModel",
          "state": {
            "_model_module": "@jupyter-widgets/controls",
            "_model_module_version": "1.5.0",
            "_model_name": "DescriptionStyleModel",
            "_view_count": null,
            "_view_module": "@jupyter-widgets/base",
            "_view_module_version": "1.2.0",
            "_view_name": "StyleView",
            "description_width": ""
          }
        }
      }
    }
  },
  "nbformat": 4,
  "nbformat_minor": 0
}
