{
  "nbformat": 4,
  "nbformat_minor": 0,
  "metadata": {
    "colab": {
      "name": "ConvolutionalNeuralNetwork(Version_1_Step_4_64_128_128_Part_2).ipynb",
      "provenance": [],
      "collapsed_sections": [],
      "machine_shape": "hm"
    },
    "kernelspec": {
      "name": "python3",
      "display_name": "Python 3"
    },
    "language_info": {
      "name": "python"
    },
    "accelerator": "GPU",
    "widgets": {
      "application/vnd.jupyter.widget-state+json": {
        "8076f7826be6432f8fe4ca7255454482": {
          "model_module": "@jupyter-widgets/controls",
          "model_name": "HBoxModel",
          "model_module_version": "1.5.0",
          "state": {
            "_dom_classes": [],
            "_model_module": "@jupyter-widgets/controls",
            "_model_module_version": "1.5.0",
            "_model_name": "HBoxModel",
            "_view_count": null,
            "_view_module": "@jupyter-widgets/controls",
            "_view_module_version": "1.5.0",
            "_view_name": "HBoxView",
            "box_style": "",
            "children": [
              "IPY_MODEL_79601b6be0884813add8b246598efbbf",
              "IPY_MODEL_f7f4d4bbd5d54727a82bb7b687f5f8cd",
              "IPY_MODEL_c8b9199ca8f4492891eeb55dc1a0f3ce"
            ],
            "layout": "IPY_MODEL_211250af16a34648a6f724d0721d0d3e"
          }
        },
        "79601b6be0884813add8b246598efbbf": {
          "model_module": "@jupyter-widgets/controls",
          "model_name": "HTMLModel",
          "model_module_version": "1.5.0",
          "state": {
            "_dom_classes": [],
            "_model_module": "@jupyter-widgets/controls",
            "_model_module_version": "1.5.0",
            "_model_name": "HTMLModel",
            "_view_count": null,
            "_view_module": "@jupyter-widgets/controls",
            "_view_module_version": "1.5.0",
            "_view_name": "HTMLView",
            "description": "",
            "description_tooltip": null,
            "layout": "IPY_MODEL_2d2dd752250649afa746a6ced690413f",
            "placeholder": "​",
            "style": "IPY_MODEL_910f529debc544d7a78ef5a171445d30",
            "value": "Dl Completed...: 100%"
          }
        },
        "f7f4d4bbd5d54727a82bb7b687f5f8cd": {
          "model_module": "@jupyter-widgets/controls",
          "model_name": "FloatProgressModel",
          "model_module_version": "1.5.0",
          "state": {
            "_dom_classes": [],
            "_model_module": "@jupyter-widgets/controls",
            "_model_module_version": "1.5.0",
            "_model_name": "FloatProgressModel",
            "_view_count": null,
            "_view_module": "@jupyter-widgets/controls",
            "_view_module_version": "1.5.0",
            "_view_name": "ProgressView",
            "bar_style": "success",
            "description": "",
            "description_tooltip": null,
            "layout": "IPY_MODEL_b145b65772ae49d9bebd17062593f215",
            "max": 1,
            "min": 0,
            "orientation": "horizontal",
            "style": "IPY_MODEL_c0470c385f024d3aab6b959dce0b2f45",
            "value": 1
          }
        },
        "c8b9199ca8f4492891eeb55dc1a0f3ce": {
          "model_module": "@jupyter-widgets/controls",
          "model_name": "HTMLModel",
          "model_module_version": "1.5.0",
          "state": {
            "_dom_classes": [],
            "_model_module": "@jupyter-widgets/controls",
            "_model_module_version": "1.5.0",
            "_model_name": "HTMLModel",
            "_view_count": null,
            "_view_module": "@jupyter-widgets/controls",
            "_view_module_version": "1.5.0",
            "_view_name": "HTMLView",
            "description": "",
            "description_tooltip": null,
            "layout": "IPY_MODEL_506dd2da309446cd90540ac450430169",
            "placeholder": "​",
            "style": "IPY_MODEL_df8f6b21648e4b8f94f5bd85d25cbfbb",
            "value": " 6/6 [16:15&lt;00:00, 279.03s/ url]"
          }
        },
        "211250af16a34648a6f724d0721d0d3e": {
          "model_module": "@jupyter-widgets/base",
          "model_name": "LayoutModel",
          "model_module_version": "1.2.0",
          "state": {
            "_model_module": "@jupyter-widgets/base",
            "_model_module_version": "1.2.0",
            "_model_name": "LayoutModel",
            "_view_count": null,
            "_view_module": "@jupyter-widgets/base",
            "_view_module_version": "1.2.0",
            "_view_name": "LayoutView",
            "align_content": null,
            "align_items": null,
            "align_self": null,
            "border": null,
            "bottom": null,
            "display": null,
            "flex": null,
            "flex_flow": null,
            "grid_area": null,
            "grid_auto_columns": null,
            "grid_auto_flow": null,
            "grid_auto_rows": null,
            "grid_column": null,
            "grid_gap": null,
            "grid_row": null,
            "grid_template_areas": null,
            "grid_template_columns": null,
            "grid_template_rows": null,
            "height": null,
            "justify_content": null,
            "justify_items": null,
            "left": null,
            "margin": null,
            "max_height": null,
            "max_width": null,
            "min_height": null,
            "min_width": null,
            "object_fit": null,
            "object_position": null,
            "order": null,
            "overflow": null,
            "overflow_x": null,
            "overflow_y": null,
            "padding": null,
            "right": null,
            "top": null,
            "visibility": null,
            "width": null
          }
        },
        "2d2dd752250649afa746a6ced690413f": {
          "model_module": "@jupyter-widgets/base",
          "model_name": "LayoutModel",
          "model_module_version": "1.2.0",
          "state": {
            "_model_module": "@jupyter-widgets/base",
            "_model_module_version": "1.2.0",
            "_model_name": "LayoutModel",
            "_view_count": null,
            "_view_module": "@jupyter-widgets/base",
            "_view_module_version": "1.2.0",
            "_view_name": "LayoutView",
            "align_content": null,
            "align_items": null,
            "align_self": null,
            "border": null,
            "bottom": null,
            "display": null,
            "flex": null,
            "flex_flow": null,
            "grid_area": null,
            "grid_auto_columns": null,
            "grid_auto_flow": null,
            "grid_auto_rows": null,
            "grid_column": null,
            "grid_gap": null,
            "grid_row": null,
            "grid_template_areas": null,
            "grid_template_columns": null,
            "grid_template_rows": null,
            "height": null,
            "justify_content": null,
            "justify_items": null,
            "left": null,
            "margin": null,
            "max_height": null,
            "max_width": null,
            "min_height": null,
            "min_width": null,
            "object_fit": null,
            "object_position": null,
            "order": null,
            "overflow": null,
            "overflow_x": null,
            "overflow_y": null,
            "padding": null,
            "right": null,
            "top": null,
            "visibility": null,
            "width": null
          }
        },
        "910f529debc544d7a78ef5a171445d30": {
          "model_module": "@jupyter-widgets/controls",
          "model_name": "DescriptionStyleModel",
          "model_module_version": "1.5.0",
          "state": {
            "_model_module": "@jupyter-widgets/controls",
            "_model_module_version": "1.5.0",
            "_model_name": "DescriptionStyleModel",
            "_view_count": null,
            "_view_module": "@jupyter-widgets/base",
            "_view_module_version": "1.2.0",
            "_view_name": "StyleView",
            "description_width": ""
          }
        },
        "b145b65772ae49d9bebd17062593f215": {
          "model_module": "@jupyter-widgets/base",
          "model_name": "LayoutModel",
          "model_module_version": "1.2.0",
          "state": {
            "_model_module": "@jupyter-widgets/base",
            "_model_module_version": "1.2.0",
            "_model_name": "LayoutModel",
            "_view_count": null,
            "_view_module": "@jupyter-widgets/base",
            "_view_module_version": "1.2.0",
            "_view_name": "LayoutView",
            "align_content": null,
            "align_items": null,
            "align_self": null,
            "border": null,
            "bottom": null,
            "display": null,
            "flex": null,
            "flex_flow": null,
            "grid_area": null,
            "grid_auto_columns": null,
            "grid_auto_flow": null,
            "grid_auto_rows": null,
            "grid_column": null,
            "grid_gap": null,
            "grid_row": null,
            "grid_template_areas": null,
            "grid_template_columns": null,
            "grid_template_rows": null,
            "height": null,
            "justify_content": null,
            "justify_items": null,
            "left": null,
            "margin": null,
            "max_height": null,
            "max_width": null,
            "min_height": null,
            "min_width": null,
            "object_fit": null,
            "object_position": null,
            "order": null,
            "overflow": null,
            "overflow_x": null,
            "overflow_y": null,
            "padding": null,
            "right": null,
            "top": null,
            "visibility": null,
            "width": "20px"
          }
        },
        "c0470c385f024d3aab6b959dce0b2f45": {
          "model_module": "@jupyter-widgets/controls",
          "model_name": "ProgressStyleModel",
          "model_module_version": "1.5.0",
          "state": {
            "_model_module": "@jupyter-widgets/controls",
            "_model_module_version": "1.5.0",
            "_model_name": "ProgressStyleModel",
            "_view_count": null,
            "_view_module": "@jupyter-widgets/base",
            "_view_module_version": "1.2.0",
            "_view_name": "StyleView",
            "bar_color": null,
            "description_width": ""
          }
        },
        "506dd2da309446cd90540ac450430169": {
          "model_module": "@jupyter-widgets/base",
          "model_name": "LayoutModel",
          "model_module_version": "1.2.0",
          "state": {
            "_model_module": "@jupyter-widgets/base",
            "_model_module_version": "1.2.0",
            "_model_name": "LayoutModel",
            "_view_count": null,
            "_view_module": "@jupyter-widgets/base",
            "_view_module_version": "1.2.0",
            "_view_name": "LayoutView",
            "align_content": null,
            "align_items": null,
            "align_self": null,
            "border": null,
            "bottom": null,
            "display": null,
            "flex": null,
            "flex_flow": null,
            "grid_area": null,
            "grid_auto_columns": null,
            "grid_auto_flow": null,
            "grid_auto_rows": null,
            "grid_column": null,
            "grid_gap": null,
            "grid_row": null,
            "grid_template_areas": null,
            "grid_template_columns": null,
            "grid_template_rows": null,
            "height": null,
            "justify_content": null,
            "justify_items": null,
            "left": null,
            "margin": null,
            "max_height": null,
            "max_width": null,
            "min_height": null,
            "min_width": null,
            "object_fit": null,
            "object_position": null,
            "order": null,
            "overflow": null,
            "overflow_x": null,
            "overflow_y": null,
            "padding": null,
            "right": null,
            "top": null,
            "visibility": null,
            "width": null
          }
        },
        "df8f6b21648e4b8f94f5bd85d25cbfbb": {
          "model_module": "@jupyter-widgets/controls",
          "model_name": "DescriptionStyleModel",
          "model_module_version": "1.5.0",
          "state": {
            "_model_module": "@jupyter-widgets/controls",
            "_model_module_version": "1.5.0",
            "_model_name": "DescriptionStyleModel",
            "_view_count": null,
            "_view_module": "@jupyter-widgets/base",
            "_view_module_version": "1.2.0",
            "_view_name": "StyleView",
            "description_width": ""
          }
        },
        "39a709f9075c4d7491f571fdcd4d21fa": {
          "model_module": "@jupyter-widgets/controls",
          "model_name": "HBoxModel",
          "model_module_version": "1.5.0",
          "state": {
            "_dom_classes": [],
            "_model_module": "@jupyter-widgets/controls",
            "_model_module_version": "1.5.0",
            "_model_name": "HBoxModel",
            "_view_count": null,
            "_view_module": "@jupyter-widgets/controls",
            "_view_module_version": "1.5.0",
            "_view_name": "HBoxView",
            "box_style": "",
            "children": [
              "IPY_MODEL_ebaa57644c294ee0873336a0e0db1980",
              "IPY_MODEL_2b4d89c390814baa9e4c728f5df2fd1b",
              "IPY_MODEL_0245075f28d44371a86b0f8d2be5d4aa"
            ],
            "layout": "IPY_MODEL_dd2f55fb04704d768bc8e92922a980dd"
          }
        },
        "ebaa57644c294ee0873336a0e0db1980": {
          "model_module": "@jupyter-widgets/controls",
          "model_name": "HTMLModel",
          "model_module_version": "1.5.0",
          "state": {
            "_dom_classes": [],
            "_model_module": "@jupyter-widgets/controls",
            "_model_module_version": "1.5.0",
            "_model_name": "HTMLModel",
            "_view_count": null,
            "_view_module": "@jupyter-widgets/controls",
            "_view_module_version": "1.5.0",
            "_view_name": "HTMLView",
            "description": "",
            "description_tooltip": null,
            "layout": "IPY_MODEL_7bb86aa80b1d43818cf3b10b6205d12c",
            "placeholder": "​",
            "style": "IPY_MODEL_247246364a23450fab11c151945ca970",
            "value": "Dl Size...: 100%"
          }
        },
        "2b4d89c390814baa9e4c728f5df2fd1b": {
          "model_module": "@jupyter-widgets/controls",
          "model_name": "FloatProgressModel",
          "model_module_version": "1.5.0",
          "state": {
            "_dom_classes": [],
            "_model_module": "@jupyter-widgets/controls",
            "_model_module_version": "1.5.0",
            "_model_name": "FloatProgressModel",
            "_view_count": null,
            "_view_module": "@jupyter-widgets/controls",
            "_view_module_version": "1.5.0",
            "_view_name": "ProgressView",
            "bar_style": "success",
            "description": "",
            "description_tooltip": null,
            "layout": "IPY_MODEL_9bf96883d7cd445f98507a29cbaa30e4",
            "max": 1,
            "min": 0,
            "orientation": "horizontal",
            "style": "IPY_MODEL_46faada62a464c188a0dd53ce638884c",
            "value": 1
          }
        },
        "0245075f28d44371a86b0f8d2be5d4aa": {
          "model_module": "@jupyter-widgets/controls",
          "model_name": "HTMLModel",
          "model_module_version": "1.5.0",
          "state": {
            "_dom_classes": [],
            "_model_module": "@jupyter-widgets/controls",
            "_model_module_version": "1.5.0",
            "_model_name": "HTMLModel",
            "_view_count": null,
            "_view_module": "@jupyter-widgets/controls",
            "_view_module_version": "1.5.0",
            "_view_name": "HTMLView",
            "description": "",
            "description_tooltip": null,
            "layout": "IPY_MODEL_8c916cf1535a46adbee1222202233357",
            "placeholder": "​",
            "style": "IPY_MODEL_f919379793d849669cecd43cc02711a7",
            "value": " 7654/7654 [16:15&lt;00:00, 11.43 MiB/s]"
          }
        },
        "dd2f55fb04704d768bc8e92922a980dd": {
          "model_module": "@jupyter-widgets/base",
          "model_name": "LayoutModel",
          "model_module_version": "1.2.0",
          "state": {
            "_model_module": "@jupyter-widgets/base",
            "_model_module_version": "1.2.0",
            "_model_name": "LayoutModel",
            "_view_count": null,
            "_view_module": "@jupyter-widgets/base",
            "_view_module_version": "1.2.0",
            "_view_name": "LayoutView",
            "align_content": null,
            "align_items": null,
            "align_self": null,
            "border": null,
            "bottom": null,
            "display": null,
            "flex": null,
            "flex_flow": null,
            "grid_area": null,
            "grid_auto_columns": null,
            "grid_auto_flow": null,
            "grid_auto_rows": null,
            "grid_column": null,
            "grid_gap": null,
            "grid_row": null,
            "grid_template_areas": null,
            "grid_template_columns": null,
            "grid_template_rows": null,
            "height": null,
            "justify_content": null,
            "justify_items": null,
            "left": null,
            "margin": null,
            "max_height": null,
            "max_width": null,
            "min_height": null,
            "min_width": null,
            "object_fit": null,
            "object_position": null,
            "order": null,
            "overflow": null,
            "overflow_x": null,
            "overflow_y": null,
            "padding": null,
            "right": null,
            "top": null,
            "visibility": null,
            "width": null
          }
        },
        "7bb86aa80b1d43818cf3b10b6205d12c": {
          "model_module": "@jupyter-widgets/base",
          "model_name": "LayoutModel",
          "model_module_version": "1.2.0",
          "state": {
            "_model_module": "@jupyter-widgets/base",
            "_model_module_version": "1.2.0",
            "_model_name": "LayoutModel",
            "_view_count": null,
            "_view_module": "@jupyter-widgets/base",
            "_view_module_version": "1.2.0",
            "_view_name": "LayoutView",
            "align_content": null,
            "align_items": null,
            "align_self": null,
            "border": null,
            "bottom": null,
            "display": null,
            "flex": null,
            "flex_flow": null,
            "grid_area": null,
            "grid_auto_columns": null,
            "grid_auto_flow": null,
            "grid_auto_rows": null,
            "grid_column": null,
            "grid_gap": null,
            "grid_row": null,
            "grid_template_areas": null,
            "grid_template_columns": null,
            "grid_template_rows": null,
            "height": null,
            "justify_content": null,
            "justify_items": null,
            "left": null,
            "margin": null,
            "max_height": null,
            "max_width": null,
            "min_height": null,
            "min_width": null,
            "object_fit": null,
            "object_position": null,
            "order": null,
            "overflow": null,
            "overflow_x": null,
            "overflow_y": null,
            "padding": null,
            "right": null,
            "top": null,
            "visibility": null,
            "width": null
          }
        },
        "247246364a23450fab11c151945ca970": {
          "model_module": "@jupyter-widgets/controls",
          "model_name": "DescriptionStyleModel",
          "model_module_version": "1.5.0",
          "state": {
            "_model_module": "@jupyter-widgets/controls",
            "_model_module_version": "1.5.0",
            "_model_name": "DescriptionStyleModel",
            "_view_count": null,
            "_view_module": "@jupyter-widgets/base",
            "_view_module_version": "1.2.0",
            "_view_name": "StyleView",
            "description_width": ""
          }
        },
        "9bf96883d7cd445f98507a29cbaa30e4": {
          "model_module": "@jupyter-widgets/base",
          "model_name": "LayoutModel",
          "model_module_version": "1.2.0",
          "state": {
            "_model_module": "@jupyter-widgets/base",
            "_model_module_version": "1.2.0",
            "_model_name": "LayoutModel",
            "_view_count": null,
            "_view_module": "@jupyter-widgets/base",
            "_view_module_version": "1.2.0",
            "_view_name": "LayoutView",
            "align_content": null,
            "align_items": null,
            "align_self": null,
            "border": null,
            "bottom": null,
            "display": null,
            "flex": null,
            "flex_flow": null,
            "grid_area": null,
            "grid_auto_columns": null,
            "grid_auto_flow": null,
            "grid_auto_rows": null,
            "grid_column": null,
            "grid_gap": null,
            "grid_row": null,
            "grid_template_areas": null,
            "grid_template_columns": null,
            "grid_template_rows": null,
            "height": null,
            "justify_content": null,
            "justify_items": null,
            "left": null,
            "margin": null,
            "max_height": null,
            "max_width": null,
            "min_height": null,
            "min_width": null,
            "object_fit": null,
            "object_position": null,
            "order": null,
            "overflow": null,
            "overflow_x": null,
            "overflow_y": null,
            "padding": null,
            "right": null,
            "top": null,
            "visibility": null,
            "width": "20px"
          }
        },
        "46faada62a464c188a0dd53ce638884c": {
          "model_module": "@jupyter-widgets/controls",
          "model_name": "ProgressStyleModel",
          "model_module_version": "1.5.0",
          "state": {
            "_model_module": "@jupyter-widgets/controls",
            "_model_module_version": "1.5.0",
            "_model_name": "ProgressStyleModel",
            "_view_count": null,
            "_view_module": "@jupyter-widgets/base",
            "_view_module_version": "1.2.0",
            "_view_name": "StyleView",
            "bar_color": null,
            "description_width": ""
          }
        },
        "8c916cf1535a46adbee1222202233357": {
          "model_module": "@jupyter-widgets/base",
          "model_name": "LayoutModel",
          "model_module_version": "1.2.0",
          "state": {
            "_model_module": "@jupyter-widgets/base",
            "_model_module_version": "1.2.0",
            "_model_name": "LayoutModel",
            "_view_count": null,
            "_view_module": "@jupyter-widgets/base",
            "_view_module_version": "1.2.0",
            "_view_name": "LayoutView",
            "align_content": null,
            "align_items": null,
            "align_self": null,
            "border": null,
            "bottom": null,
            "display": null,
            "flex": null,
            "flex_flow": null,
            "grid_area": null,
            "grid_auto_columns": null,
            "grid_auto_flow": null,
            "grid_auto_rows": null,
            "grid_column": null,
            "grid_gap": null,
            "grid_row": null,
            "grid_template_areas": null,
            "grid_template_columns": null,
            "grid_template_rows": null,
            "height": null,
            "justify_content": null,
            "justify_items": null,
            "left": null,
            "margin": null,
            "max_height": null,
            "max_width": null,
            "min_height": null,
            "min_width": null,
            "object_fit": null,
            "object_position": null,
            "order": null,
            "overflow": null,
            "overflow_x": null,
            "overflow_y": null,
            "padding": null,
            "right": null,
            "top": null,
            "visibility": null,
            "width": null
          }
        },
        "f919379793d849669cecd43cc02711a7": {
          "model_module": "@jupyter-widgets/controls",
          "model_name": "DescriptionStyleModel",
          "model_module_version": "1.5.0",
          "state": {
            "_model_module": "@jupyter-widgets/controls",
            "_model_module_version": "1.5.0",
            "_model_name": "DescriptionStyleModel",
            "_view_count": null,
            "_view_module": "@jupyter-widgets/base",
            "_view_module_version": "1.2.0",
            "_view_name": "StyleView",
            "description_width": ""
          }
        },
        "48a45c088ff741f58be39ad2030bfb17": {
          "model_module": "@jupyter-widgets/controls",
          "model_name": "HBoxModel",
          "model_module_version": "1.5.0",
          "state": {
            "_dom_classes": [],
            "_model_module": "@jupyter-widgets/controls",
            "_model_module_version": "1.5.0",
            "_model_name": "HBoxModel",
            "_view_count": null,
            "_view_module": "@jupyter-widgets/controls",
            "_view_module_version": "1.5.0",
            "_view_name": "HBoxView",
            "box_style": "",
            "children": [
              "IPY_MODEL_152cf187c3114900bbb7b947f65d85ad",
              "IPY_MODEL_8dc976a06c8e461bb8a8569cd168fa4e",
              "IPY_MODEL_3590007fb56748f0a0dde949b9b15837"
            ],
            "layout": "IPY_MODEL_5522c627c05c417e8148f96eca50ab78"
          }
        },
        "152cf187c3114900bbb7b947f65d85ad": {
          "model_module": "@jupyter-widgets/controls",
          "model_name": "HTMLModel",
          "model_module_version": "1.5.0",
          "state": {
            "_dom_classes": [],
            "_model_module": "@jupyter-widgets/controls",
            "_model_module_version": "1.5.0",
            "_model_name": "HTMLModel",
            "_view_count": null,
            "_view_module": "@jupyter-widgets/controls",
            "_view_module_version": "1.5.0",
            "_view_name": "HTMLView",
            "description": "",
            "description_tooltip": null,
            "layout": "IPY_MODEL_72ea1703b2124bccb907c4d3f021d69a",
            "placeholder": "​",
            "style": "IPY_MODEL_7d17cf897ff945829a1241b75a606a5e",
            "value": "Extraction completed...: 100%"
          }
        },
        "8dc976a06c8e461bb8a8569cd168fa4e": {
          "model_module": "@jupyter-widgets/controls",
          "model_name": "FloatProgressModel",
          "model_module_version": "1.5.0",
          "state": {
            "_dom_classes": [],
            "_model_module": "@jupyter-widgets/controls",
            "_model_module_version": "1.5.0",
            "_model_name": "FloatProgressModel",
            "_view_count": null,
            "_view_module": "@jupyter-widgets/controls",
            "_view_module_version": "1.5.0",
            "_view_name": "ProgressView",
            "bar_style": "success",
            "description": "",
            "description_tooltip": null,
            "layout": "IPY_MODEL_411b7f3762b54112adee1dc3f9331ff4",
            "max": 1,
            "min": 0,
            "orientation": "horizontal",
            "style": "IPY_MODEL_138c1b6b279f4ad28e90cd5d1cf44e9c",
            "value": 1
          }
        },
        "3590007fb56748f0a0dde949b9b15837": {
          "model_module": "@jupyter-widgets/controls",
          "model_name": "HTMLModel",
          "model_module_version": "1.5.0",
          "state": {
            "_dom_classes": [],
            "_model_module": "@jupyter-widgets/controls",
            "_model_module_version": "1.5.0",
            "_model_name": "HTMLModel",
            "_view_count": null,
            "_view_module": "@jupyter-widgets/controls",
            "_view_module_version": "1.5.0",
            "_view_name": "HTMLView",
            "description": "",
            "description_tooltip": null,
            "layout": "IPY_MODEL_0d25fab10e0b4d2386c554288cdea3f2",
            "placeholder": "​",
            "style": "IPY_MODEL_dbc75f4cba5049c6a2f63cfe0e85e915",
            "value": " 6/6 [16:15&lt;00:00, 300.10s/ file]"
          }
        },
        "5522c627c05c417e8148f96eca50ab78": {
          "model_module": "@jupyter-widgets/base",
          "model_name": "LayoutModel",
          "model_module_version": "1.2.0",
          "state": {
            "_model_module": "@jupyter-widgets/base",
            "_model_module_version": "1.2.0",
            "_model_name": "LayoutModel",
            "_view_count": null,
            "_view_module": "@jupyter-widgets/base",
            "_view_module_version": "1.2.0",
            "_view_name": "LayoutView",
            "align_content": null,
            "align_items": null,
            "align_self": null,
            "border": null,
            "bottom": null,
            "display": null,
            "flex": null,
            "flex_flow": null,
            "grid_area": null,
            "grid_auto_columns": null,
            "grid_auto_flow": null,
            "grid_auto_rows": null,
            "grid_column": null,
            "grid_gap": null,
            "grid_row": null,
            "grid_template_areas": null,
            "grid_template_columns": null,
            "grid_template_rows": null,
            "height": null,
            "justify_content": null,
            "justify_items": null,
            "left": null,
            "margin": null,
            "max_height": null,
            "max_width": null,
            "min_height": null,
            "min_width": null,
            "object_fit": null,
            "object_position": null,
            "order": null,
            "overflow": null,
            "overflow_x": null,
            "overflow_y": null,
            "padding": null,
            "right": null,
            "top": null,
            "visibility": null,
            "width": null
          }
        },
        "72ea1703b2124bccb907c4d3f021d69a": {
          "model_module": "@jupyter-widgets/base",
          "model_name": "LayoutModel",
          "model_module_version": "1.2.0",
          "state": {
            "_model_module": "@jupyter-widgets/base",
            "_model_module_version": "1.2.0",
            "_model_name": "LayoutModel",
            "_view_count": null,
            "_view_module": "@jupyter-widgets/base",
            "_view_module_version": "1.2.0",
            "_view_name": "LayoutView",
            "align_content": null,
            "align_items": null,
            "align_self": null,
            "border": null,
            "bottom": null,
            "display": null,
            "flex": null,
            "flex_flow": null,
            "grid_area": null,
            "grid_auto_columns": null,
            "grid_auto_flow": null,
            "grid_auto_rows": null,
            "grid_column": null,
            "grid_gap": null,
            "grid_row": null,
            "grid_template_areas": null,
            "grid_template_columns": null,
            "grid_template_rows": null,
            "height": null,
            "justify_content": null,
            "justify_items": null,
            "left": null,
            "margin": null,
            "max_height": null,
            "max_width": null,
            "min_height": null,
            "min_width": null,
            "object_fit": null,
            "object_position": null,
            "order": null,
            "overflow": null,
            "overflow_x": null,
            "overflow_y": null,
            "padding": null,
            "right": null,
            "top": null,
            "visibility": null,
            "width": null
          }
        },
        "7d17cf897ff945829a1241b75a606a5e": {
          "model_module": "@jupyter-widgets/controls",
          "model_name": "DescriptionStyleModel",
          "model_module_version": "1.5.0",
          "state": {
            "_model_module": "@jupyter-widgets/controls",
            "_model_module_version": "1.5.0",
            "_model_name": "DescriptionStyleModel",
            "_view_count": null,
            "_view_module": "@jupyter-widgets/base",
            "_view_module_version": "1.2.0",
            "_view_name": "StyleView",
            "description_width": ""
          }
        },
        "411b7f3762b54112adee1dc3f9331ff4": {
          "model_module": "@jupyter-widgets/base",
          "model_name": "LayoutModel",
          "model_module_version": "1.2.0",
          "state": {
            "_model_module": "@jupyter-widgets/base",
            "_model_module_version": "1.2.0",
            "_model_name": "LayoutModel",
            "_view_count": null,
            "_view_module": "@jupyter-widgets/base",
            "_view_module_version": "1.2.0",
            "_view_name": "LayoutView",
            "align_content": null,
            "align_items": null,
            "align_self": null,
            "border": null,
            "bottom": null,
            "display": null,
            "flex": null,
            "flex_flow": null,
            "grid_area": null,
            "grid_auto_columns": null,
            "grid_auto_flow": null,
            "grid_auto_rows": null,
            "grid_column": null,
            "grid_gap": null,
            "grid_row": null,
            "grid_template_areas": null,
            "grid_template_columns": null,
            "grid_template_rows": null,
            "height": null,
            "justify_content": null,
            "justify_items": null,
            "left": null,
            "margin": null,
            "max_height": null,
            "max_width": null,
            "min_height": null,
            "min_width": null,
            "object_fit": null,
            "object_position": null,
            "order": null,
            "overflow": null,
            "overflow_x": null,
            "overflow_y": null,
            "padding": null,
            "right": null,
            "top": null,
            "visibility": null,
            "width": "20px"
          }
        },
        "138c1b6b279f4ad28e90cd5d1cf44e9c": {
          "model_module": "@jupyter-widgets/controls",
          "model_name": "ProgressStyleModel",
          "model_module_version": "1.5.0",
          "state": {
            "_model_module": "@jupyter-widgets/controls",
            "_model_module_version": "1.5.0",
            "_model_name": "ProgressStyleModel",
            "_view_count": null,
            "_view_module": "@jupyter-widgets/base",
            "_view_module_version": "1.2.0",
            "_view_name": "StyleView",
            "bar_color": null,
            "description_width": ""
          }
        },
        "0d25fab10e0b4d2386c554288cdea3f2": {
          "model_module": "@jupyter-widgets/base",
          "model_name": "LayoutModel",
          "model_module_version": "1.2.0",
          "state": {
            "_model_module": "@jupyter-widgets/base",
            "_model_module_version": "1.2.0",
            "_model_name": "LayoutModel",
            "_view_count": null,
            "_view_module": "@jupyter-widgets/base",
            "_view_module_version": "1.2.0",
            "_view_name": "LayoutView",
            "align_content": null,
            "align_items": null,
            "align_self": null,
            "border": null,
            "bottom": null,
            "display": null,
            "flex": null,
            "flex_flow": null,
            "grid_area": null,
            "grid_auto_columns": null,
            "grid_auto_flow": null,
            "grid_auto_rows": null,
            "grid_column": null,
            "grid_gap": null,
            "grid_row": null,
            "grid_template_areas": null,
            "grid_template_columns": null,
            "grid_template_rows": null,
            "height": null,
            "justify_content": null,
            "justify_items": null,
            "left": null,
            "margin": null,
            "max_height": null,
            "max_width": null,
            "min_height": null,
            "min_width": null,
            "object_fit": null,
            "object_position": null,
            "order": null,
            "overflow": null,
            "overflow_x": null,
            "overflow_y": null,
            "padding": null,
            "right": null,
            "top": null,
            "visibility": null,
            "width": null
          }
        },
        "dbc75f4cba5049c6a2f63cfe0e85e915": {
          "model_module": "@jupyter-widgets/controls",
          "model_name": "DescriptionStyleModel",
          "model_module_version": "1.5.0",
          "state": {
            "_model_module": "@jupyter-widgets/controls",
            "_model_module_version": "1.5.0",
            "_model_name": "DescriptionStyleModel",
            "_view_count": null,
            "_view_module": "@jupyter-widgets/base",
            "_view_module_version": "1.2.0",
            "_view_name": "StyleView",
            "description_width": ""
          }
        },
        "fad7ad508f8c4e4eb146d7d5097aa029": {
          "model_module": "@jupyter-widgets/controls",
          "model_name": "HBoxModel",
          "model_module_version": "1.5.0",
          "state": {
            "_dom_classes": [],
            "_model_module": "@jupyter-widgets/controls",
            "_model_module_version": "1.5.0",
            "_model_name": "HBoxModel",
            "_view_count": null,
            "_view_module": "@jupyter-widgets/controls",
            "_view_module_version": "1.5.0",
            "_view_name": "HBoxView",
            "box_style": "",
            "children": [
              "IPY_MODEL_4ad8df2cdda94898a04369b4cf10f10f",
              "IPY_MODEL_8da05fbffbea4b6a996b0cbbf5c108b2",
              "IPY_MODEL_e0a08225d46748ceba00896be9e9d872"
            ],
            "layout": "IPY_MODEL_1d5714d0630844eb93e53fddb0ddbca1"
          }
        },
        "4ad8df2cdda94898a04369b4cf10f10f": {
          "model_module": "@jupyter-widgets/controls",
          "model_name": "HTMLModel",
          "model_module_version": "1.5.0",
          "state": {
            "_dom_classes": [],
            "_model_module": "@jupyter-widgets/controls",
            "_model_module_version": "1.5.0",
            "_model_name": "HTMLModel",
            "_view_count": null,
            "_view_module": "@jupyter-widgets/controls",
            "_view_module_version": "1.5.0",
            "_view_name": "HTMLView",
            "description": "",
            "description_tooltip": null,
            "layout": "IPY_MODEL_0d9227f24b994e27b2613503b89a9928",
            "placeholder": "​",
            "style": "IPY_MODEL_9261b467f6314d80aa0045331475e352",
            "value": ""
          }
        },
        "8da05fbffbea4b6a996b0cbbf5c108b2": {
          "model_module": "@jupyter-widgets/controls",
          "model_name": "FloatProgressModel",
          "model_module_version": "1.5.0",
          "state": {
            "_dom_classes": [],
            "_model_module": "@jupyter-widgets/controls",
            "_model_module_version": "1.5.0",
            "_model_name": "FloatProgressModel",
            "_view_count": null,
            "_view_module": "@jupyter-widgets/controls",
            "_view_module_version": "1.5.0",
            "_view_name": "ProgressView",
            "bar_style": "info",
            "description": "",
            "description_tooltip": null,
            "layout": "IPY_MODEL_54d4e15214634cc0a52c8de3aeca91f6",
            "max": 1,
            "min": 0,
            "orientation": "horizontal",
            "style": "IPY_MODEL_60ad18185fef474f8fc6dd06d349b011",
            "value": 1
          }
        },
        "e0a08225d46748ceba00896be9e9d872": {
          "model_module": "@jupyter-widgets/controls",
          "model_name": "HTMLModel",
          "model_module_version": "1.5.0",
          "state": {
            "_dom_classes": [],
            "_model_module": "@jupyter-widgets/controls",
            "_model_module_version": "1.5.0",
            "_model_name": "HTMLModel",
            "_view_count": null,
            "_view_module": "@jupyter-widgets/controls",
            "_view_module_version": "1.5.0",
            "_view_name": "HTMLView",
            "description": "",
            "description_tooltip": null,
            "layout": "IPY_MODEL_789a411733ea4fe9a925cd9b00da0809",
            "placeholder": "​",
            "style": "IPY_MODEL_b47248f4eb6d48efb068c7a347a6c163",
            "value": " 32734/0 [01:25&lt;00:00, 407.90 examples/s]"
          }
        },
        "1d5714d0630844eb93e53fddb0ddbca1": {
          "model_module": "@jupyter-widgets/base",
          "model_name": "LayoutModel",
          "model_module_version": "1.2.0",
          "state": {
            "_model_module": "@jupyter-widgets/base",
            "_model_module_version": "1.2.0",
            "_model_name": "LayoutModel",
            "_view_count": null,
            "_view_module": "@jupyter-widgets/base",
            "_view_module_version": "1.2.0",
            "_view_name": "LayoutView",
            "align_content": null,
            "align_items": null,
            "align_self": null,
            "border": null,
            "bottom": null,
            "display": null,
            "flex": null,
            "flex_flow": null,
            "grid_area": null,
            "grid_auto_columns": null,
            "grid_auto_flow": null,
            "grid_auto_rows": null,
            "grid_column": null,
            "grid_gap": null,
            "grid_row": null,
            "grid_template_areas": null,
            "grid_template_columns": null,
            "grid_template_rows": null,
            "height": null,
            "justify_content": null,
            "justify_items": null,
            "left": null,
            "margin": null,
            "max_height": null,
            "max_width": null,
            "min_height": null,
            "min_width": null,
            "object_fit": null,
            "object_position": null,
            "order": null,
            "overflow": null,
            "overflow_x": null,
            "overflow_y": null,
            "padding": null,
            "right": null,
            "top": null,
            "visibility": null,
            "width": null
          }
        },
        "0d9227f24b994e27b2613503b89a9928": {
          "model_module": "@jupyter-widgets/base",
          "model_name": "LayoutModel",
          "model_module_version": "1.2.0",
          "state": {
            "_model_module": "@jupyter-widgets/base",
            "_model_module_version": "1.2.0",
            "_model_name": "LayoutModel",
            "_view_count": null,
            "_view_module": "@jupyter-widgets/base",
            "_view_module_version": "1.2.0",
            "_view_name": "LayoutView",
            "align_content": null,
            "align_items": null,
            "align_self": null,
            "border": null,
            "bottom": null,
            "display": null,
            "flex": null,
            "flex_flow": null,
            "grid_area": null,
            "grid_auto_columns": null,
            "grid_auto_flow": null,
            "grid_auto_rows": null,
            "grid_column": null,
            "grid_gap": null,
            "grid_row": null,
            "grid_template_areas": null,
            "grid_template_columns": null,
            "grid_template_rows": null,
            "height": null,
            "justify_content": null,
            "justify_items": null,
            "left": null,
            "margin": null,
            "max_height": null,
            "max_width": null,
            "min_height": null,
            "min_width": null,
            "object_fit": null,
            "object_position": null,
            "order": null,
            "overflow": null,
            "overflow_x": null,
            "overflow_y": null,
            "padding": null,
            "right": null,
            "top": null,
            "visibility": null,
            "width": null
          }
        },
        "9261b467f6314d80aa0045331475e352": {
          "model_module": "@jupyter-widgets/controls",
          "model_name": "DescriptionStyleModel",
          "model_module_version": "1.5.0",
          "state": {
            "_model_module": "@jupyter-widgets/controls",
            "_model_module_version": "1.5.0",
            "_model_name": "DescriptionStyleModel",
            "_view_count": null,
            "_view_module": "@jupyter-widgets/base",
            "_view_module_version": "1.2.0",
            "_view_name": "StyleView",
            "description_width": ""
          }
        },
        "54d4e15214634cc0a52c8de3aeca91f6": {
          "model_module": "@jupyter-widgets/base",
          "model_name": "LayoutModel",
          "model_module_version": "1.2.0",
          "state": {
            "_model_module": "@jupyter-widgets/base",
            "_model_module_version": "1.2.0",
            "_model_name": "LayoutModel",
            "_view_count": null,
            "_view_module": "@jupyter-widgets/base",
            "_view_module_version": "1.2.0",
            "_view_name": "LayoutView",
            "align_content": null,
            "align_items": null,
            "align_self": null,
            "border": null,
            "bottom": null,
            "display": null,
            "flex": null,
            "flex_flow": null,
            "grid_area": null,
            "grid_auto_columns": null,
            "grid_auto_flow": null,
            "grid_auto_rows": null,
            "grid_column": null,
            "grid_gap": null,
            "grid_row": null,
            "grid_template_areas": null,
            "grid_template_columns": null,
            "grid_template_rows": null,
            "height": null,
            "justify_content": null,
            "justify_items": null,
            "left": null,
            "margin": null,
            "max_height": null,
            "max_width": null,
            "min_height": null,
            "min_width": null,
            "object_fit": null,
            "object_position": null,
            "order": null,
            "overflow": null,
            "overflow_x": null,
            "overflow_y": null,
            "padding": null,
            "right": null,
            "top": null,
            "visibility": null,
            "width": "20px"
          }
        },
        "60ad18185fef474f8fc6dd06d349b011": {
          "model_module": "@jupyter-widgets/controls",
          "model_name": "ProgressStyleModel",
          "model_module_version": "1.5.0",
          "state": {
            "_model_module": "@jupyter-widgets/controls",
            "_model_module_version": "1.5.0",
            "_model_name": "ProgressStyleModel",
            "_view_count": null,
            "_view_module": "@jupyter-widgets/base",
            "_view_module_version": "1.2.0",
            "_view_name": "StyleView",
            "bar_color": null,
            "description_width": ""
          }
        },
        "789a411733ea4fe9a925cd9b00da0809": {
          "model_module": "@jupyter-widgets/base",
          "model_name": "LayoutModel",
          "model_module_version": "1.2.0",
          "state": {
            "_model_module": "@jupyter-widgets/base",
            "_model_module_version": "1.2.0",
            "_model_name": "LayoutModel",
            "_view_count": null,
            "_view_module": "@jupyter-widgets/base",
            "_view_module_version": "1.2.0",
            "_view_name": "LayoutView",
            "align_content": null,
            "align_items": null,
            "align_self": null,
            "border": null,
            "bottom": null,
            "display": null,
            "flex": null,
            "flex_flow": null,
            "grid_area": null,
            "grid_auto_columns": null,
            "grid_auto_flow": null,
            "grid_auto_rows": null,
            "grid_column": null,
            "grid_gap": null,
            "grid_row": null,
            "grid_template_areas": null,
            "grid_template_columns": null,
            "grid_template_rows": null,
            "height": null,
            "justify_content": null,
            "justify_items": null,
            "left": null,
            "margin": null,
            "max_height": null,
            "max_width": null,
            "min_height": null,
            "min_width": null,
            "object_fit": null,
            "object_position": null,
            "order": null,
            "overflow": null,
            "overflow_x": null,
            "overflow_y": null,
            "padding": null,
            "right": null,
            "top": null,
            "visibility": null,
            "width": null
          }
        },
        "b47248f4eb6d48efb068c7a347a6c163": {
          "model_module": "@jupyter-widgets/controls",
          "model_name": "DescriptionStyleModel",
          "model_module_version": "1.5.0",
          "state": {
            "_model_module": "@jupyter-widgets/controls",
            "_model_module_version": "1.5.0",
            "_model_name": "DescriptionStyleModel",
            "_view_count": null,
            "_view_module": "@jupyter-widgets/base",
            "_view_module_version": "1.2.0",
            "_view_name": "StyleView",
            "description_width": ""
          }
        },
        "2a77c714df7f4cafb3bb68fd9cb98813": {
          "model_module": "@jupyter-widgets/controls",
          "model_name": "HBoxModel",
          "model_module_version": "1.5.0",
          "state": {
            "_dom_classes": [],
            "_model_module": "@jupyter-widgets/controls",
            "_model_module_version": "1.5.0",
            "_model_name": "HBoxModel",
            "_view_count": null,
            "_view_module": "@jupyter-widgets/controls",
            "_view_module_version": "1.5.0",
            "_view_name": "HBoxView",
            "box_style": "",
            "children": [
              "IPY_MODEL_b1ac799c05974b6da04ce393c80a46b8",
              "IPY_MODEL_836a12cdb15f4277a055adc175000536",
              "IPY_MODEL_ba91f007a112444d8e202c595ee4b310"
            ],
            "layout": "IPY_MODEL_7fe42963997142bc995e9dd4a17fd6c8"
          }
        },
        "b1ac799c05974b6da04ce393c80a46b8": {
          "model_module": "@jupyter-widgets/controls",
          "model_name": "HTMLModel",
          "model_module_version": "1.5.0",
          "state": {
            "_dom_classes": [],
            "_model_module": "@jupyter-widgets/controls",
            "_model_module_version": "1.5.0",
            "_model_name": "HTMLModel",
            "_view_count": null,
            "_view_module": "@jupyter-widgets/controls",
            "_view_module_version": "1.5.0",
            "_view_name": "HTMLView",
            "description": "",
            "description_tooltip": null,
            "layout": "IPY_MODEL_0976cdd191414f7584ef33fb77c9d625",
            "placeholder": "​",
            "style": "IPY_MODEL_ebb6123108254963953366e66bda60c7",
            "value": "100%"
          }
        },
        "836a12cdb15f4277a055adc175000536": {
          "model_module": "@jupyter-widgets/controls",
          "model_name": "FloatProgressModel",
          "model_module_version": "1.5.0",
          "state": {
            "_dom_classes": [],
            "_model_module": "@jupyter-widgets/controls",
            "_model_module_version": "1.5.0",
            "_model_name": "FloatProgressModel",
            "_view_count": null,
            "_view_module": "@jupyter-widgets/controls",
            "_view_module_version": "1.5.0",
            "_view_name": "ProgressView",
            "bar_style": "danger",
            "description": "",
            "description_tooltip": null,
            "layout": "IPY_MODEL_c81dfe4369dc4b1d943fcd5a09ece909",
            "max": 32768,
            "min": 0,
            "orientation": "horizontal",
            "style": "IPY_MODEL_3bab449a5402484598ce7d6ce7c8565b",
            "value": 32767
          }
        },
        "ba91f007a112444d8e202c595ee4b310": {
          "model_module": "@jupyter-widgets/controls",
          "model_name": "HTMLModel",
          "model_module_version": "1.5.0",
          "state": {
            "_dom_classes": [],
            "_model_module": "@jupyter-widgets/controls",
            "_model_module_version": "1.5.0",
            "_model_name": "HTMLModel",
            "_view_count": null,
            "_view_module": "@jupyter-widgets/controls",
            "_view_module_version": "1.5.0",
            "_view_name": "HTMLView",
            "description": "",
            "description_tooltip": null,
            "layout": "IPY_MODEL_c676387ca80844f1b71c274c596b0bdf",
            "placeholder": "​",
            "style": "IPY_MODEL_ad5d16b36b51431c908322174d542b2c",
            "value": " 32767/32768 [00:01&lt;00:00, 16435.72 examples/s]"
          }
        },
        "7fe42963997142bc995e9dd4a17fd6c8": {
          "model_module": "@jupyter-widgets/base",
          "model_name": "LayoutModel",
          "model_module_version": "1.2.0",
          "state": {
            "_model_module": "@jupyter-widgets/base",
            "_model_module_version": "1.2.0",
            "_model_name": "LayoutModel",
            "_view_count": null,
            "_view_module": "@jupyter-widgets/base",
            "_view_module_version": "1.2.0",
            "_view_name": "LayoutView",
            "align_content": null,
            "align_items": null,
            "align_self": null,
            "border": null,
            "bottom": null,
            "display": null,
            "flex": null,
            "flex_flow": null,
            "grid_area": null,
            "grid_auto_columns": null,
            "grid_auto_flow": null,
            "grid_auto_rows": null,
            "grid_column": null,
            "grid_gap": null,
            "grid_row": null,
            "grid_template_areas": null,
            "grid_template_columns": null,
            "grid_template_rows": null,
            "height": null,
            "justify_content": null,
            "justify_items": null,
            "left": null,
            "margin": null,
            "max_height": null,
            "max_width": null,
            "min_height": null,
            "min_width": null,
            "object_fit": null,
            "object_position": null,
            "order": null,
            "overflow": null,
            "overflow_x": null,
            "overflow_y": null,
            "padding": null,
            "right": null,
            "top": null,
            "visibility": null,
            "width": null
          }
        },
        "0976cdd191414f7584ef33fb77c9d625": {
          "model_module": "@jupyter-widgets/base",
          "model_name": "LayoutModel",
          "model_module_version": "1.2.0",
          "state": {
            "_model_module": "@jupyter-widgets/base",
            "_model_module_version": "1.2.0",
            "_model_name": "LayoutModel",
            "_view_count": null,
            "_view_module": "@jupyter-widgets/base",
            "_view_module_version": "1.2.0",
            "_view_name": "LayoutView",
            "align_content": null,
            "align_items": null,
            "align_self": null,
            "border": null,
            "bottom": null,
            "display": null,
            "flex": null,
            "flex_flow": null,
            "grid_area": null,
            "grid_auto_columns": null,
            "grid_auto_flow": null,
            "grid_auto_rows": null,
            "grid_column": null,
            "grid_gap": null,
            "grid_row": null,
            "grid_template_areas": null,
            "grid_template_columns": null,
            "grid_template_rows": null,
            "height": null,
            "justify_content": null,
            "justify_items": null,
            "left": null,
            "margin": null,
            "max_height": null,
            "max_width": null,
            "min_height": null,
            "min_width": null,
            "object_fit": null,
            "object_position": null,
            "order": null,
            "overflow": null,
            "overflow_x": null,
            "overflow_y": null,
            "padding": null,
            "right": null,
            "top": null,
            "visibility": null,
            "width": null
          }
        },
        "ebb6123108254963953366e66bda60c7": {
          "model_module": "@jupyter-widgets/controls",
          "model_name": "DescriptionStyleModel",
          "model_module_version": "1.5.0",
          "state": {
            "_model_module": "@jupyter-widgets/controls",
            "_model_module_version": "1.5.0",
            "_model_name": "DescriptionStyleModel",
            "_view_count": null,
            "_view_module": "@jupyter-widgets/base",
            "_view_module_version": "1.2.0",
            "_view_name": "StyleView",
            "description_width": ""
          }
        },
        "c81dfe4369dc4b1d943fcd5a09ece909": {
          "model_module": "@jupyter-widgets/base",
          "model_name": "LayoutModel",
          "model_module_version": "1.2.0",
          "state": {
            "_model_module": "@jupyter-widgets/base",
            "_model_module_version": "1.2.0",
            "_model_name": "LayoutModel",
            "_view_count": null,
            "_view_module": "@jupyter-widgets/base",
            "_view_module_version": "1.2.0",
            "_view_name": "LayoutView",
            "align_content": null,
            "align_items": null,
            "align_self": null,
            "border": null,
            "bottom": null,
            "display": null,
            "flex": null,
            "flex_flow": null,
            "grid_area": null,
            "grid_auto_columns": null,
            "grid_auto_flow": null,
            "grid_auto_rows": null,
            "grid_column": null,
            "grid_gap": null,
            "grid_row": null,
            "grid_template_areas": null,
            "grid_template_columns": null,
            "grid_template_rows": null,
            "height": null,
            "justify_content": null,
            "justify_items": null,
            "left": null,
            "margin": null,
            "max_height": null,
            "max_width": null,
            "min_height": null,
            "min_width": null,
            "object_fit": null,
            "object_position": null,
            "order": null,
            "overflow": null,
            "overflow_x": null,
            "overflow_y": null,
            "padding": null,
            "right": null,
            "top": null,
            "visibility": null,
            "width": null
          }
        },
        "3bab449a5402484598ce7d6ce7c8565b": {
          "model_module": "@jupyter-widgets/controls",
          "model_name": "ProgressStyleModel",
          "model_module_version": "1.5.0",
          "state": {
            "_model_module": "@jupyter-widgets/controls",
            "_model_module_version": "1.5.0",
            "_model_name": "ProgressStyleModel",
            "_view_count": null,
            "_view_module": "@jupyter-widgets/base",
            "_view_module_version": "1.2.0",
            "_view_name": "StyleView",
            "bar_color": null,
            "description_width": ""
          }
        },
        "c676387ca80844f1b71c274c596b0bdf": {
          "model_module": "@jupyter-widgets/base",
          "model_name": "LayoutModel",
          "model_module_version": "1.2.0",
          "state": {
            "_model_module": "@jupyter-widgets/base",
            "_model_module_version": "1.2.0",
            "_model_name": "LayoutModel",
            "_view_count": null,
            "_view_module": "@jupyter-widgets/base",
            "_view_module_version": "1.2.0",
            "_view_name": "LayoutView",
            "align_content": null,
            "align_items": null,
            "align_self": null,
            "border": null,
            "bottom": null,
            "display": null,
            "flex": null,
            "flex_flow": null,
            "grid_area": null,
            "grid_auto_columns": null,
            "grid_auto_flow": null,
            "grid_auto_rows": null,
            "grid_column": null,
            "grid_gap": null,
            "grid_row": null,
            "grid_template_areas": null,
            "grid_template_columns": null,
            "grid_template_rows": null,
            "height": null,
            "justify_content": null,
            "justify_items": null,
            "left": null,
            "margin": null,
            "max_height": null,
            "max_width": null,
            "min_height": null,
            "min_width": null,
            "object_fit": null,
            "object_position": null,
            "order": null,
            "overflow": null,
            "overflow_x": null,
            "overflow_y": null,
            "padding": null,
            "right": null,
            "top": null,
            "visibility": null,
            "width": null
          }
        },
        "ad5d16b36b51431c908322174d542b2c": {
          "model_module": "@jupyter-widgets/controls",
          "model_name": "DescriptionStyleModel",
          "model_module_version": "1.5.0",
          "state": {
            "_model_module": "@jupyter-widgets/controls",
            "_model_module_version": "1.5.0",
            "_model_name": "DescriptionStyleModel",
            "_view_count": null,
            "_view_module": "@jupyter-widgets/base",
            "_view_module_version": "1.2.0",
            "_view_name": "StyleView",
            "description_width": ""
          }
        },
        "60c974cea6e6483789b2a0698ee10eba": {
          "model_module": "@jupyter-widgets/controls",
          "model_name": "HBoxModel",
          "model_module_version": "1.5.0",
          "state": {
            "_dom_classes": [],
            "_model_module": "@jupyter-widgets/controls",
            "_model_module_version": "1.5.0",
            "_model_name": "HBoxModel",
            "_view_count": null,
            "_view_module": "@jupyter-widgets/controls",
            "_view_module_version": "1.5.0",
            "_view_name": "HBoxView",
            "box_style": "",
            "children": [
              "IPY_MODEL_f1e758541d3d4ffc9e8587081cbcb67a",
              "IPY_MODEL_ae46a9ebe58b4378a038f0ca4596e33a",
              "IPY_MODEL_d0cf896ef56f4b66a377cd88732b87aa"
            ],
            "layout": "IPY_MODEL_b22b00ae22e1433d8c63e4cbb3257d5f"
          }
        },
        "f1e758541d3d4ffc9e8587081cbcb67a": {
          "model_module": "@jupyter-widgets/controls",
          "model_name": "HTMLModel",
          "model_module_version": "1.5.0",
          "state": {
            "_dom_classes": [],
            "_model_module": "@jupyter-widgets/controls",
            "_model_module_version": "1.5.0",
            "_model_name": "HTMLModel",
            "_view_count": null,
            "_view_module": "@jupyter-widgets/controls",
            "_view_module_version": "1.5.0",
            "_view_name": "HTMLView",
            "description": "",
            "description_tooltip": null,
            "layout": "IPY_MODEL_2f66769a5a664ff293fd23449e0ea4ab",
            "placeholder": "​",
            "style": "IPY_MODEL_951538091ada4e638aed30bc777ab19a",
            "value": ""
          }
        },
        "ae46a9ebe58b4378a038f0ca4596e33a": {
          "model_module": "@jupyter-widgets/controls",
          "model_name": "FloatProgressModel",
          "model_module_version": "1.5.0",
          "state": {
            "_dom_classes": [],
            "_model_module": "@jupyter-widgets/controls",
            "_model_module_version": "1.5.0",
            "_model_name": "FloatProgressModel",
            "_view_count": null,
            "_view_module": "@jupyter-widgets/controls",
            "_view_module_version": "1.5.0",
            "_view_name": "ProgressView",
            "bar_style": "info",
            "description": "",
            "description_tooltip": null,
            "layout": "IPY_MODEL_5a008e4982ab40f49928ccd4c4c0a05e",
            "max": 1,
            "min": 0,
            "orientation": "horizontal",
            "style": "IPY_MODEL_07a0fa735ce949b2943327fb4e82ab4b",
            "value": 1
          }
        },
        "d0cf896ef56f4b66a377cd88732b87aa": {
          "model_module": "@jupyter-widgets/controls",
          "model_name": "HTMLModel",
          "model_module_version": "1.5.0",
          "state": {
            "_dom_classes": [],
            "_model_module": "@jupyter-widgets/controls",
            "_model_module_version": "1.5.0",
            "_model_name": "HTMLModel",
            "_view_count": null,
            "_view_module": "@jupyter-widgets/controls",
            "_view_module_version": "1.5.0",
            "_view_name": "HTMLView",
            "description": "",
            "description_tooltip": null,
            "layout": "IPY_MODEL_e7e6d34cbfbd45ba9fd928f1a23396b6",
            "placeholder": "​",
            "style": "IPY_MODEL_b72ba451f06c42aaa4751db1b11ba254",
            "value": " 262142/0 [10:39&lt;00:00, 419.21 examples/s]"
          }
        },
        "b22b00ae22e1433d8c63e4cbb3257d5f": {
          "model_module": "@jupyter-widgets/base",
          "model_name": "LayoutModel",
          "model_module_version": "1.2.0",
          "state": {
            "_model_module": "@jupyter-widgets/base",
            "_model_module_version": "1.2.0",
            "_model_name": "LayoutModel",
            "_view_count": null,
            "_view_module": "@jupyter-widgets/base",
            "_view_module_version": "1.2.0",
            "_view_name": "LayoutView",
            "align_content": null,
            "align_items": null,
            "align_self": null,
            "border": null,
            "bottom": null,
            "display": null,
            "flex": null,
            "flex_flow": null,
            "grid_area": null,
            "grid_auto_columns": null,
            "grid_auto_flow": null,
            "grid_auto_rows": null,
            "grid_column": null,
            "grid_gap": null,
            "grid_row": null,
            "grid_template_areas": null,
            "grid_template_columns": null,
            "grid_template_rows": null,
            "height": null,
            "justify_content": null,
            "justify_items": null,
            "left": null,
            "margin": null,
            "max_height": null,
            "max_width": null,
            "min_height": null,
            "min_width": null,
            "object_fit": null,
            "object_position": null,
            "order": null,
            "overflow": null,
            "overflow_x": null,
            "overflow_y": null,
            "padding": null,
            "right": null,
            "top": null,
            "visibility": null,
            "width": null
          }
        },
        "2f66769a5a664ff293fd23449e0ea4ab": {
          "model_module": "@jupyter-widgets/base",
          "model_name": "LayoutModel",
          "model_module_version": "1.2.0",
          "state": {
            "_model_module": "@jupyter-widgets/base",
            "_model_module_version": "1.2.0",
            "_model_name": "LayoutModel",
            "_view_count": null,
            "_view_module": "@jupyter-widgets/base",
            "_view_module_version": "1.2.0",
            "_view_name": "LayoutView",
            "align_content": null,
            "align_items": null,
            "align_self": null,
            "border": null,
            "bottom": null,
            "display": null,
            "flex": null,
            "flex_flow": null,
            "grid_area": null,
            "grid_auto_columns": null,
            "grid_auto_flow": null,
            "grid_auto_rows": null,
            "grid_column": null,
            "grid_gap": null,
            "grid_row": null,
            "grid_template_areas": null,
            "grid_template_columns": null,
            "grid_template_rows": null,
            "height": null,
            "justify_content": null,
            "justify_items": null,
            "left": null,
            "margin": null,
            "max_height": null,
            "max_width": null,
            "min_height": null,
            "min_width": null,
            "object_fit": null,
            "object_position": null,
            "order": null,
            "overflow": null,
            "overflow_x": null,
            "overflow_y": null,
            "padding": null,
            "right": null,
            "top": null,
            "visibility": null,
            "width": null
          }
        },
        "951538091ada4e638aed30bc777ab19a": {
          "model_module": "@jupyter-widgets/controls",
          "model_name": "DescriptionStyleModel",
          "model_module_version": "1.5.0",
          "state": {
            "_model_module": "@jupyter-widgets/controls",
            "_model_module_version": "1.5.0",
            "_model_name": "DescriptionStyleModel",
            "_view_count": null,
            "_view_module": "@jupyter-widgets/base",
            "_view_module_version": "1.2.0",
            "_view_name": "StyleView",
            "description_width": ""
          }
        },
        "5a008e4982ab40f49928ccd4c4c0a05e": {
          "model_module": "@jupyter-widgets/base",
          "model_name": "LayoutModel",
          "model_module_version": "1.2.0",
          "state": {
            "_model_module": "@jupyter-widgets/base",
            "_model_module_version": "1.2.0",
            "_model_name": "LayoutModel",
            "_view_count": null,
            "_view_module": "@jupyter-widgets/base",
            "_view_module_version": "1.2.0",
            "_view_name": "LayoutView",
            "align_content": null,
            "align_items": null,
            "align_self": null,
            "border": null,
            "bottom": null,
            "display": null,
            "flex": null,
            "flex_flow": null,
            "grid_area": null,
            "grid_auto_columns": null,
            "grid_auto_flow": null,
            "grid_auto_rows": null,
            "grid_column": null,
            "grid_gap": null,
            "grid_row": null,
            "grid_template_areas": null,
            "grid_template_columns": null,
            "grid_template_rows": null,
            "height": null,
            "justify_content": null,
            "justify_items": null,
            "left": null,
            "margin": null,
            "max_height": null,
            "max_width": null,
            "min_height": null,
            "min_width": null,
            "object_fit": null,
            "object_position": null,
            "order": null,
            "overflow": null,
            "overflow_x": null,
            "overflow_y": null,
            "padding": null,
            "right": null,
            "top": null,
            "visibility": null,
            "width": "20px"
          }
        },
        "07a0fa735ce949b2943327fb4e82ab4b": {
          "model_module": "@jupyter-widgets/controls",
          "model_name": "ProgressStyleModel",
          "model_module_version": "1.5.0",
          "state": {
            "_model_module": "@jupyter-widgets/controls",
            "_model_module_version": "1.5.0",
            "_model_name": "ProgressStyleModel",
            "_view_count": null,
            "_view_module": "@jupyter-widgets/base",
            "_view_module_version": "1.2.0",
            "_view_name": "StyleView",
            "bar_color": null,
            "description_width": ""
          }
        },
        "e7e6d34cbfbd45ba9fd928f1a23396b6": {
          "model_module": "@jupyter-widgets/base",
          "model_name": "LayoutModel",
          "model_module_version": "1.2.0",
          "state": {
            "_model_module": "@jupyter-widgets/base",
            "_model_module_version": "1.2.0",
            "_model_name": "LayoutModel",
            "_view_count": null,
            "_view_module": "@jupyter-widgets/base",
            "_view_module_version": "1.2.0",
            "_view_name": "LayoutView",
            "align_content": null,
            "align_items": null,
            "align_self": null,
            "border": null,
            "bottom": null,
            "display": null,
            "flex": null,
            "flex_flow": null,
            "grid_area": null,
            "grid_auto_columns": null,
            "grid_auto_flow": null,
            "grid_auto_rows": null,
            "grid_column": null,
            "grid_gap": null,
            "grid_row": null,
            "grid_template_areas": null,
            "grid_template_columns": null,
            "grid_template_rows": null,
            "height": null,
            "justify_content": null,
            "justify_items": null,
            "left": null,
            "margin": null,
            "max_height": null,
            "max_width": null,
            "min_height": null,
            "min_width": null,
            "object_fit": null,
            "object_position": null,
            "order": null,
            "overflow": null,
            "overflow_x": null,
            "overflow_y": null,
            "padding": null,
            "right": null,
            "top": null,
            "visibility": null,
            "width": null
          }
        },
        "b72ba451f06c42aaa4751db1b11ba254": {
          "model_module": "@jupyter-widgets/controls",
          "model_name": "DescriptionStyleModel",
          "model_module_version": "1.5.0",
          "state": {
            "_model_module": "@jupyter-widgets/controls",
            "_model_module_version": "1.5.0",
            "_model_name": "DescriptionStyleModel",
            "_view_count": null,
            "_view_module": "@jupyter-widgets/base",
            "_view_module_version": "1.2.0",
            "_view_name": "StyleView",
            "description_width": ""
          }
        },
        "696916d0f82b44e29c1126bacb22e679": {
          "model_module": "@jupyter-widgets/controls",
          "model_name": "HBoxModel",
          "model_module_version": "1.5.0",
          "state": {
            "_dom_classes": [],
            "_model_module": "@jupyter-widgets/controls",
            "_model_module_version": "1.5.0",
            "_model_name": "HBoxModel",
            "_view_count": null,
            "_view_module": "@jupyter-widgets/controls",
            "_view_module_version": "1.5.0",
            "_view_name": "HBoxView",
            "box_style": "",
            "children": [
              "IPY_MODEL_faa1b1a0130548e58d7f3395c8bf8b36",
              "IPY_MODEL_585763a41adc4c90ab77794900fec6ae",
              "IPY_MODEL_b2a09e68b46f48e89787dd94cfff2664"
            ],
            "layout": "IPY_MODEL_aaa87fe645d643e8934312c3e1add72b"
          }
        },
        "faa1b1a0130548e58d7f3395c8bf8b36": {
          "model_module": "@jupyter-widgets/controls",
          "model_name": "HTMLModel",
          "model_module_version": "1.5.0",
          "state": {
            "_dom_classes": [],
            "_model_module": "@jupyter-widgets/controls",
            "_model_module_version": "1.5.0",
            "_model_name": "HTMLModel",
            "_view_count": null,
            "_view_module": "@jupyter-widgets/controls",
            "_view_module_version": "1.5.0",
            "_view_name": "HTMLView",
            "description": "",
            "description_tooltip": null,
            "layout": "IPY_MODEL_ebe2e1c25fd34b748eee4cdee3ff96eb",
            "placeholder": "​",
            "style": "IPY_MODEL_6b70aa68f4064a04991b787bfc20f9a8",
            "value": "100%"
          }
        },
        "585763a41adc4c90ab77794900fec6ae": {
          "model_module": "@jupyter-widgets/controls",
          "model_name": "FloatProgressModel",
          "model_module_version": "1.5.0",
          "state": {
            "_dom_classes": [],
            "_model_module": "@jupyter-widgets/controls",
            "_model_module_version": "1.5.0",
            "_model_name": "FloatProgressModel",
            "_view_count": null,
            "_view_module": "@jupyter-widgets/controls",
            "_view_module_version": "1.5.0",
            "_view_name": "ProgressView",
            "bar_style": "danger",
            "description": "",
            "description_tooltip": null,
            "layout": "IPY_MODEL_be0152190bfe4c7b9982e73d39967b01",
            "max": 262144,
            "min": 0,
            "orientation": "horizontal",
            "style": "IPY_MODEL_7fc66a9233bd42a6b8aedd9799e46319",
            "value": 262143
          }
        },
        "b2a09e68b46f48e89787dd94cfff2664": {
          "model_module": "@jupyter-widgets/controls",
          "model_name": "HTMLModel",
          "model_module_version": "1.5.0",
          "state": {
            "_dom_classes": [],
            "_model_module": "@jupyter-widgets/controls",
            "_model_module_version": "1.5.0",
            "_model_name": "HTMLModel",
            "_view_count": null,
            "_view_module": "@jupyter-widgets/controls",
            "_view_module_version": "1.5.0",
            "_view_name": "HTMLView",
            "description": "",
            "description_tooltip": null,
            "layout": "IPY_MODEL_de809cc2f77841479865aa08ce4583cd",
            "placeholder": "​",
            "style": "IPY_MODEL_4067320922ee4dac8ab8ccb4bf38b626",
            "value": " 262143/262144 [00:22&lt;00:00, 10683.24 examples/s]"
          }
        },
        "aaa87fe645d643e8934312c3e1add72b": {
          "model_module": "@jupyter-widgets/base",
          "model_name": "LayoutModel",
          "model_module_version": "1.2.0",
          "state": {
            "_model_module": "@jupyter-widgets/base",
            "_model_module_version": "1.2.0",
            "_model_name": "LayoutModel",
            "_view_count": null,
            "_view_module": "@jupyter-widgets/base",
            "_view_module_version": "1.2.0",
            "_view_name": "LayoutView",
            "align_content": null,
            "align_items": null,
            "align_self": null,
            "border": null,
            "bottom": null,
            "display": null,
            "flex": null,
            "flex_flow": null,
            "grid_area": null,
            "grid_auto_columns": null,
            "grid_auto_flow": null,
            "grid_auto_rows": null,
            "grid_column": null,
            "grid_gap": null,
            "grid_row": null,
            "grid_template_areas": null,
            "grid_template_columns": null,
            "grid_template_rows": null,
            "height": null,
            "justify_content": null,
            "justify_items": null,
            "left": null,
            "margin": null,
            "max_height": null,
            "max_width": null,
            "min_height": null,
            "min_width": null,
            "object_fit": null,
            "object_position": null,
            "order": null,
            "overflow": null,
            "overflow_x": null,
            "overflow_y": null,
            "padding": null,
            "right": null,
            "top": null,
            "visibility": null,
            "width": null
          }
        },
        "ebe2e1c25fd34b748eee4cdee3ff96eb": {
          "model_module": "@jupyter-widgets/base",
          "model_name": "LayoutModel",
          "model_module_version": "1.2.0",
          "state": {
            "_model_module": "@jupyter-widgets/base",
            "_model_module_version": "1.2.0",
            "_model_name": "LayoutModel",
            "_view_count": null,
            "_view_module": "@jupyter-widgets/base",
            "_view_module_version": "1.2.0",
            "_view_name": "LayoutView",
            "align_content": null,
            "align_items": null,
            "align_self": null,
            "border": null,
            "bottom": null,
            "display": null,
            "flex": null,
            "flex_flow": null,
            "grid_area": null,
            "grid_auto_columns": null,
            "grid_auto_flow": null,
            "grid_auto_rows": null,
            "grid_column": null,
            "grid_gap": null,
            "grid_row": null,
            "grid_template_areas": null,
            "grid_template_columns": null,
            "grid_template_rows": null,
            "height": null,
            "justify_content": null,
            "justify_items": null,
            "left": null,
            "margin": null,
            "max_height": null,
            "max_width": null,
            "min_height": null,
            "min_width": null,
            "object_fit": null,
            "object_position": null,
            "order": null,
            "overflow": null,
            "overflow_x": null,
            "overflow_y": null,
            "padding": null,
            "right": null,
            "top": null,
            "visibility": null,
            "width": null
          }
        },
        "6b70aa68f4064a04991b787bfc20f9a8": {
          "model_module": "@jupyter-widgets/controls",
          "model_name": "DescriptionStyleModel",
          "model_module_version": "1.5.0",
          "state": {
            "_model_module": "@jupyter-widgets/controls",
            "_model_module_version": "1.5.0",
            "_model_name": "DescriptionStyleModel",
            "_view_count": null,
            "_view_module": "@jupyter-widgets/base",
            "_view_module_version": "1.2.0",
            "_view_name": "StyleView",
            "description_width": ""
          }
        },
        "be0152190bfe4c7b9982e73d39967b01": {
          "model_module": "@jupyter-widgets/base",
          "model_name": "LayoutModel",
          "model_module_version": "1.2.0",
          "state": {
            "_model_module": "@jupyter-widgets/base",
            "_model_module_version": "1.2.0",
            "_model_name": "LayoutModel",
            "_view_count": null,
            "_view_module": "@jupyter-widgets/base",
            "_view_module_version": "1.2.0",
            "_view_name": "LayoutView",
            "align_content": null,
            "align_items": null,
            "align_self": null,
            "border": null,
            "bottom": null,
            "display": null,
            "flex": null,
            "flex_flow": null,
            "grid_area": null,
            "grid_auto_columns": null,
            "grid_auto_flow": null,
            "grid_auto_rows": null,
            "grid_column": null,
            "grid_gap": null,
            "grid_row": null,
            "grid_template_areas": null,
            "grid_template_columns": null,
            "grid_template_rows": null,
            "height": null,
            "justify_content": null,
            "justify_items": null,
            "left": null,
            "margin": null,
            "max_height": null,
            "max_width": null,
            "min_height": null,
            "min_width": null,
            "object_fit": null,
            "object_position": null,
            "order": null,
            "overflow": null,
            "overflow_x": null,
            "overflow_y": null,
            "padding": null,
            "right": null,
            "top": null,
            "visibility": null,
            "width": null
          }
        },
        "7fc66a9233bd42a6b8aedd9799e46319": {
          "model_module": "@jupyter-widgets/controls",
          "model_name": "ProgressStyleModel",
          "model_module_version": "1.5.0",
          "state": {
            "_model_module": "@jupyter-widgets/controls",
            "_model_module_version": "1.5.0",
            "_model_name": "ProgressStyleModel",
            "_view_count": null,
            "_view_module": "@jupyter-widgets/base",
            "_view_module_version": "1.2.0",
            "_view_name": "StyleView",
            "bar_color": null,
            "description_width": ""
          }
        },
        "de809cc2f77841479865aa08ce4583cd": {
          "model_module": "@jupyter-widgets/base",
          "model_name": "LayoutModel",
          "model_module_version": "1.2.0",
          "state": {
            "_model_module": "@jupyter-widgets/base",
            "_model_module_version": "1.2.0",
            "_model_name": "LayoutModel",
            "_view_count": null,
            "_view_module": "@jupyter-widgets/base",
            "_view_module_version": "1.2.0",
            "_view_name": "LayoutView",
            "align_content": null,
            "align_items": null,
            "align_self": null,
            "border": null,
            "bottom": null,
            "display": null,
            "flex": null,
            "flex_flow": null,
            "grid_area": null,
            "grid_auto_columns": null,
            "grid_auto_flow": null,
            "grid_auto_rows": null,
            "grid_column": null,
            "grid_gap": null,
            "grid_row": null,
            "grid_template_areas": null,
            "grid_template_columns": null,
            "grid_template_rows": null,
            "height": null,
            "justify_content": null,
            "justify_items": null,
            "left": null,
            "margin": null,
            "max_height": null,
            "max_width": null,
            "min_height": null,
            "min_width": null,
            "object_fit": null,
            "object_position": null,
            "order": null,
            "overflow": null,
            "overflow_x": null,
            "overflow_y": null,
            "padding": null,
            "right": null,
            "top": null,
            "visibility": null,
            "width": null
          }
        },
        "4067320922ee4dac8ab8ccb4bf38b626": {
          "model_module": "@jupyter-widgets/controls",
          "model_name": "DescriptionStyleModel",
          "model_module_version": "1.5.0",
          "state": {
            "_model_module": "@jupyter-widgets/controls",
            "_model_module_version": "1.5.0",
            "_model_name": "DescriptionStyleModel",
            "_view_count": null,
            "_view_module": "@jupyter-widgets/base",
            "_view_module_version": "1.2.0",
            "_view_name": "StyleView",
            "description_width": ""
          }
        },
        "3dce858de5bf42a285758da5343e13ed": {
          "model_module": "@jupyter-widgets/controls",
          "model_name": "HBoxModel",
          "model_module_version": "1.5.0",
          "state": {
            "_dom_classes": [],
            "_model_module": "@jupyter-widgets/controls",
            "_model_module_version": "1.5.0",
            "_model_name": "HBoxModel",
            "_view_count": null,
            "_view_module": "@jupyter-widgets/controls",
            "_view_module_version": "1.5.0",
            "_view_name": "HBoxView",
            "box_style": "",
            "children": [
              "IPY_MODEL_d54a107aafb340c4b75e2c33e9061832",
              "IPY_MODEL_e14af47f853d4c12bb511f29008de1bb",
              "IPY_MODEL_936039998c0d4555a09afcab07695439"
            ],
            "layout": "IPY_MODEL_412c89fde81643e1a127c0ead7f62d12"
          }
        },
        "d54a107aafb340c4b75e2c33e9061832": {
          "model_module": "@jupyter-widgets/controls",
          "model_name": "HTMLModel",
          "model_module_version": "1.5.0",
          "state": {
            "_dom_classes": [],
            "_model_module": "@jupyter-widgets/controls",
            "_model_module_version": "1.5.0",
            "_model_name": "HTMLModel",
            "_view_count": null,
            "_view_module": "@jupyter-widgets/controls",
            "_view_module_version": "1.5.0",
            "_view_name": "HTMLView",
            "description": "",
            "description_tooltip": null,
            "layout": "IPY_MODEL_68a46dbec8074ae29dc6ebd23e0ba075",
            "placeholder": "​",
            "style": "IPY_MODEL_46d0832692b74052a57b4fa58ec4b9ad",
            "value": ""
          }
        },
        "e14af47f853d4c12bb511f29008de1bb": {
          "model_module": "@jupyter-widgets/controls",
          "model_name": "FloatProgressModel",
          "model_module_version": "1.5.0",
          "state": {
            "_dom_classes": [],
            "_model_module": "@jupyter-widgets/controls",
            "_model_module_version": "1.5.0",
            "_model_name": "FloatProgressModel",
            "_view_count": null,
            "_view_module": "@jupyter-widgets/controls",
            "_view_module_version": "1.5.0",
            "_view_name": "ProgressView",
            "bar_style": "info",
            "description": "",
            "description_tooltip": null,
            "layout": "IPY_MODEL_85d84dc201444c3786bbc53579035f41",
            "max": 1,
            "min": 0,
            "orientation": "horizontal",
            "style": "IPY_MODEL_302a6cd2e61b4d4e8ce2d5f31ffce489",
            "value": 1
          }
        },
        "936039998c0d4555a09afcab07695439": {
          "model_module": "@jupyter-widgets/controls",
          "model_name": "HTMLModel",
          "model_module_version": "1.5.0",
          "state": {
            "_dom_classes": [],
            "_model_module": "@jupyter-widgets/controls",
            "_model_module_version": "1.5.0",
            "_model_name": "HTMLModel",
            "_view_count": null,
            "_view_module": "@jupyter-widgets/controls",
            "_view_module_version": "1.5.0",
            "_view_name": "HTMLView",
            "description": "",
            "description_tooltip": null,
            "layout": "IPY_MODEL_65438921caaf4a238b997060b62aea97",
            "placeholder": "​",
            "style": "IPY_MODEL_62a4436429f74d86933f3c39ff635aa8",
            "value": " 32745/0 [01:21&lt;00:00, 401.56 examples/s]"
          }
        },
        "412c89fde81643e1a127c0ead7f62d12": {
          "model_module": "@jupyter-widgets/base",
          "model_name": "LayoutModel",
          "model_module_version": "1.2.0",
          "state": {
            "_model_module": "@jupyter-widgets/base",
            "_model_module_version": "1.2.0",
            "_model_name": "LayoutModel",
            "_view_count": null,
            "_view_module": "@jupyter-widgets/base",
            "_view_module_version": "1.2.0",
            "_view_name": "LayoutView",
            "align_content": null,
            "align_items": null,
            "align_self": null,
            "border": null,
            "bottom": null,
            "display": null,
            "flex": null,
            "flex_flow": null,
            "grid_area": null,
            "grid_auto_columns": null,
            "grid_auto_flow": null,
            "grid_auto_rows": null,
            "grid_column": null,
            "grid_gap": null,
            "grid_row": null,
            "grid_template_areas": null,
            "grid_template_columns": null,
            "grid_template_rows": null,
            "height": null,
            "justify_content": null,
            "justify_items": null,
            "left": null,
            "margin": null,
            "max_height": null,
            "max_width": null,
            "min_height": null,
            "min_width": null,
            "object_fit": null,
            "object_position": null,
            "order": null,
            "overflow": null,
            "overflow_x": null,
            "overflow_y": null,
            "padding": null,
            "right": null,
            "top": null,
            "visibility": null,
            "width": null
          }
        },
        "68a46dbec8074ae29dc6ebd23e0ba075": {
          "model_module": "@jupyter-widgets/base",
          "model_name": "LayoutModel",
          "model_module_version": "1.2.0",
          "state": {
            "_model_module": "@jupyter-widgets/base",
            "_model_module_version": "1.2.0",
            "_model_name": "LayoutModel",
            "_view_count": null,
            "_view_module": "@jupyter-widgets/base",
            "_view_module_version": "1.2.0",
            "_view_name": "LayoutView",
            "align_content": null,
            "align_items": null,
            "align_self": null,
            "border": null,
            "bottom": null,
            "display": null,
            "flex": null,
            "flex_flow": null,
            "grid_area": null,
            "grid_auto_columns": null,
            "grid_auto_flow": null,
            "grid_auto_rows": null,
            "grid_column": null,
            "grid_gap": null,
            "grid_row": null,
            "grid_template_areas": null,
            "grid_template_columns": null,
            "grid_template_rows": null,
            "height": null,
            "justify_content": null,
            "justify_items": null,
            "left": null,
            "margin": null,
            "max_height": null,
            "max_width": null,
            "min_height": null,
            "min_width": null,
            "object_fit": null,
            "object_position": null,
            "order": null,
            "overflow": null,
            "overflow_x": null,
            "overflow_y": null,
            "padding": null,
            "right": null,
            "top": null,
            "visibility": null,
            "width": null
          }
        },
        "46d0832692b74052a57b4fa58ec4b9ad": {
          "model_module": "@jupyter-widgets/controls",
          "model_name": "DescriptionStyleModel",
          "model_module_version": "1.5.0",
          "state": {
            "_model_module": "@jupyter-widgets/controls",
            "_model_module_version": "1.5.0",
            "_model_name": "DescriptionStyleModel",
            "_view_count": null,
            "_view_module": "@jupyter-widgets/base",
            "_view_module_version": "1.2.0",
            "_view_name": "StyleView",
            "description_width": ""
          }
        },
        "85d84dc201444c3786bbc53579035f41": {
          "model_module": "@jupyter-widgets/base",
          "model_name": "LayoutModel",
          "model_module_version": "1.2.0",
          "state": {
            "_model_module": "@jupyter-widgets/base",
            "_model_module_version": "1.2.0",
            "_model_name": "LayoutModel",
            "_view_count": null,
            "_view_module": "@jupyter-widgets/base",
            "_view_module_version": "1.2.0",
            "_view_name": "LayoutView",
            "align_content": null,
            "align_items": null,
            "align_self": null,
            "border": null,
            "bottom": null,
            "display": null,
            "flex": null,
            "flex_flow": null,
            "grid_area": null,
            "grid_auto_columns": null,
            "grid_auto_flow": null,
            "grid_auto_rows": null,
            "grid_column": null,
            "grid_gap": null,
            "grid_row": null,
            "grid_template_areas": null,
            "grid_template_columns": null,
            "grid_template_rows": null,
            "height": null,
            "justify_content": null,
            "justify_items": null,
            "left": null,
            "margin": null,
            "max_height": null,
            "max_width": null,
            "min_height": null,
            "min_width": null,
            "object_fit": null,
            "object_position": null,
            "order": null,
            "overflow": null,
            "overflow_x": null,
            "overflow_y": null,
            "padding": null,
            "right": null,
            "top": null,
            "visibility": null,
            "width": "20px"
          }
        },
        "302a6cd2e61b4d4e8ce2d5f31ffce489": {
          "model_module": "@jupyter-widgets/controls",
          "model_name": "ProgressStyleModel",
          "model_module_version": "1.5.0",
          "state": {
            "_model_module": "@jupyter-widgets/controls",
            "_model_module_version": "1.5.0",
            "_model_name": "ProgressStyleModel",
            "_view_count": null,
            "_view_module": "@jupyter-widgets/base",
            "_view_module_version": "1.2.0",
            "_view_name": "StyleView",
            "bar_color": null,
            "description_width": ""
          }
        },
        "65438921caaf4a238b997060b62aea97": {
          "model_module": "@jupyter-widgets/base",
          "model_name": "LayoutModel",
          "model_module_version": "1.2.0",
          "state": {
            "_model_module": "@jupyter-widgets/base",
            "_model_module_version": "1.2.0",
            "_model_name": "LayoutModel",
            "_view_count": null,
            "_view_module": "@jupyter-widgets/base",
            "_view_module_version": "1.2.0",
            "_view_name": "LayoutView",
            "align_content": null,
            "align_items": null,
            "align_self": null,
            "border": null,
            "bottom": null,
            "display": null,
            "flex": null,
            "flex_flow": null,
            "grid_area": null,
            "grid_auto_columns": null,
            "grid_auto_flow": null,
            "grid_auto_rows": null,
            "grid_column": null,
            "grid_gap": null,
            "grid_row": null,
            "grid_template_areas": null,
            "grid_template_columns": null,
            "grid_template_rows": null,
            "height": null,
            "justify_content": null,
            "justify_items": null,
            "left": null,
            "margin": null,
            "max_height": null,
            "max_width": null,
            "min_height": null,
            "min_width": null,
            "object_fit": null,
            "object_position": null,
            "order": null,
            "overflow": null,
            "overflow_x": null,
            "overflow_y": null,
            "padding": null,
            "right": null,
            "top": null,
            "visibility": null,
            "width": null
          }
        },
        "62a4436429f74d86933f3c39ff635aa8": {
          "model_module": "@jupyter-widgets/controls",
          "model_name": "DescriptionStyleModel",
          "model_module_version": "1.5.0",
          "state": {
            "_model_module": "@jupyter-widgets/controls",
            "_model_module_version": "1.5.0",
            "_model_name": "DescriptionStyleModel",
            "_view_count": null,
            "_view_module": "@jupyter-widgets/base",
            "_view_module_version": "1.2.0",
            "_view_name": "StyleView",
            "description_width": ""
          }
        },
        "fc5bac0dbeb542d5b03cd3acb985ccdd": {
          "model_module": "@jupyter-widgets/controls",
          "model_name": "HBoxModel",
          "model_module_version": "1.5.0",
          "state": {
            "_dom_classes": [],
            "_model_module": "@jupyter-widgets/controls",
            "_model_module_version": "1.5.0",
            "_model_name": "HBoxModel",
            "_view_count": null,
            "_view_module": "@jupyter-widgets/controls",
            "_view_module_version": "1.5.0",
            "_view_name": "HBoxView",
            "box_style": "",
            "children": [
              "IPY_MODEL_3076320896b8478298f8b6ecd9fa16f6",
              "IPY_MODEL_8c04d5c7286241f284476b5d6d48287b",
              "IPY_MODEL_305aeafe17ba4cf39657d52a25e7c6d4"
            ],
            "layout": "IPY_MODEL_113f93fbdbd040e1b0706b1f5b59a5cd"
          }
        },
        "3076320896b8478298f8b6ecd9fa16f6": {
          "model_module": "@jupyter-widgets/controls",
          "model_name": "HTMLModel",
          "model_module_version": "1.5.0",
          "state": {
            "_dom_classes": [],
            "_model_module": "@jupyter-widgets/controls",
            "_model_module_version": "1.5.0",
            "_model_name": "HTMLModel",
            "_view_count": null,
            "_view_module": "@jupyter-widgets/controls",
            "_view_module_version": "1.5.0",
            "_view_name": "HTMLView",
            "description": "",
            "description_tooltip": null,
            "layout": "IPY_MODEL_13c4134d64c4469097dc7e63403a1aa0",
            "placeholder": "​",
            "style": "IPY_MODEL_9ee5b37c4ec24dfb98c3924a27bc438b",
            "value": "100%"
          }
        },
        "8c04d5c7286241f284476b5d6d48287b": {
          "model_module": "@jupyter-widgets/controls",
          "model_name": "FloatProgressModel",
          "model_module_version": "1.5.0",
          "state": {
            "_dom_classes": [],
            "_model_module": "@jupyter-widgets/controls",
            "_model_module_version": "1.5.0",
            "_model_name": "FloatProgressModel",
            "_view_count": null,
            "_view_module": "@jupyter-widgets/controls",
            "_view_module_version": "1.5.0",
            "_view_name": "ProgressView",
            "bar_style": "danger",
            "description": "",
            "description_tooltip": null,
            "layout": "IPY_MODEL_1fcdded4e9e3405db1544656f85957b7",
            "max": 32768,
            "min": 0,
            "orientation": "horizontal",
            "style": "IPY_MODEL_ce9f7790e02f4573b33b42033c944828",
            "value": 32767
          }
        },
        "305aeafe17ba4cf39657d52a25e7c6d4": {
          "model_module": "@jupyter-widgets/controls",
          "model_name": "HTMLModel",
          "model_module_version": "1.5.0",
          "state": {
            "_dom_classes": [],
            "_model_module": "@jupyter-widgets/controls",
            "_model_module_version": "1.5.0",
            "_model_name": "HTMLModel",
            "_view_count": null,
            "_view_module": "@jupyter-widgets/controls",
            "_view_module_version": "1.5.0",
            "_view_name": "HTMLView",
            "description": "",
            "description_tooltip": null,
            "layout": "IPY_MODEL_6fb8decba0ae4e9f8f0371be2d5d94ee",
            "placeholder": "​",
            "style": "IPY_MODEL_1e984b09af6e4038854b67ba3174cb8e",
            "value": " 32767/32768 [00:01&lt;00:00, 14701.95 examples/s]"
          }
        },
        "113f93fbdbd040e1b0706b1f5b59a5cd": {
          "model_module": "@jupyter-widgets/base",
          "model_name": "LayoutModel",
          "model_module_version": "1.2.0",
          "state": {
            "_model_module": "@jupyter-widgets/base",
            "_model_module_version": "1.2.0",
            "_model_name": "LayoutModel",
            "_view_count": null,
            "_view_module": "@jupyter-widgets/base",
            "_view_module_version": "1.2.0",
            "_view_name": "LayoutView",
            "align_content": null,
            "align_items": null,
            "align_self": null,
            "border": null,
            "bottom": null,
            "display": null,
            "flex": null,
            "flex_flow": null,
            "grid_area": null,
            "grid_auto_columns": null,
            "grid_auto_flow": null,
            "grid_auto_rows": null,
            "grid_column": null,
            "grid_gap": null,
            "grid_row": null,
            "grid_template_areas": null,
            "grid_template_columns": null,
            "grid_template_rows": null,
            "height": null,
            "justify_content": null,
            "justify_items": null,
            "left": null,
            "margin": null,
            "max_height": null,
            "max_width": null,
            "min_height": null,
            "min_width": null,
            "object_fit": null,
            "object_position": null,
            "order": null,
            "overflow": null,
            "overflow_x": null,
            "overflow_y": null,
            "padding": null,
            "right": null,
            "top": null,
            "visibility": null,
            "width": null
          }
        },
        "13c4134d64c4469097dc7e63403a1aa0": {
          "model_module": "@jupyter-widgets/base",
          "model_name": "LayoutModel",
          "model_module_version": "1.2.0",
          "state": {
            "_model_module": "@jupyter-widgets/base",
            "_model_module_version": "1.2.0",
            "_model_name": "LayoutModel",
            "_view_count": null,
            "_view_module": "@jupyter-widgets/base",
            "_view_module_version": "1.2.0",
            "_view_name": "LayoutView",
            "align_content": null,
            "align_items": null,
            "align_self": null,
            "border": null,
            "bottom": null,
            "display": null,
            "flex": null,
            "flex_flow": null,
            "grid_area": null,
            "grid_auto_columns": null,
            "grid_auto_flow": null,
            "grid_auto_rows": null,
            "grid_column": null,
            "grid_gap": null,
            "grid_row": null,
            "grid_template_areas": null,
            "grid_template_columns": null,
            "grid_template_rows": null,
            "height": null,
            "justify_content": null,
            "justify_items": null,
            "left": null,
            "margin": null,
            "max_height": null,
            "max_width": null,
            "min_height": null,
            "min_width": null,
            "object_fit": null,
            "object_position": null,
            "order": null,
            "overflow": null,
            "overflow_x": null,
            "overflow_y": null,
            "padding": null,
            "right": null,
            "top": null,
            "visibility": null,
            "width": null
          }
        },
        "9ee5b37c4ec24dfb98c3924a27bc438b": {
          "model_module": "@jupyter-widgets/controls",
          "model_name": "DescriptionStyleModel",
          "model_module_version": "1.5.0",
          "state": {
            "_model_module": "@jupyter-widgets/controls",
            "_model_module_version": "1.5.0",
            "_model_name": "DescriptionStyleModel",
            "_view_count": null,
            "_view_module": "@jupyter-widgets/base",
            "_view_module_version": "1.2.0",
            "_view_name": "StyleView",
            "description_width": ""
          }
        },
        "1fcdded4e9e3405db1544656f85957b7": {
          "model_module": "@jupyter-widgets/base",
          "model_name": "LayoutModel",
          "model_module_version": "1.2.0",
          "state": {
            "_model_module": "@jupyter-widgets/base",
            "_model_module_version": "1.2.0",
            "_model_name": "LayoutModel",
            "_view_count": null,
            "_view_module": "@jupyter-widgets/base",
            "_view_module_version": "1.2.0",
            "_view_name": "LayoutView",
            "align_content": null,
            "align_items": null,
            "align_self": null,
            "border": null,
            "bottom": null,
            "display": null,
            "flex": null,
            "flex_flow": null,
            "grid_area": null,
            "grid_auto_columns": null,
            "grid_auto_flow": null,
            "grid_auto_rows": null,
            "grid_column": null,
            "grid_gap": null,
            "grid_row": null,
            "grid_template_areas": null,
            "grid_template_columns": null,
            "grid_template_rows": null,
            "height": null,
            "justify_content": null,
            "justify_items": null,
            "left": null,
            "margin": null,
            "max_height": null,
            "max_width": null,
            "min_height": null,
            "min_width": null,
            "object_fit": null,
            "object_position": null,
            "order": null,
            "overflow": null,
            "overflow_x": null,
            "overflow_y": null,
            "padding": null,
            "right": null,
            "top": null,
            "visibility": null,
            "width": null
          }
        },
        "ce9f7790e02f4573b33b42033c944828": {
          "model_module": "@jupyter-widgets/controls",
          "model_name": "ProgressStyleModel",
          "model_module_version": "1.5.0",
          "state": {
            "_model_module": "@jupyter-widgets/controls",
            "_model_module_version": "1.5.0",
            "_model_name": "ProgressStyleModel",
            "_view_count": null,
            "_view_module": "@jupyter-widgets/base",
            "_view_module_version": "1.2.0",
            "_view_name": "StyleView",
            "bar_color": null,
            "description_width": ""
          }
        },
        "6fb8decba0ae4e9f8f0371be2d5d94ee": {
          "model_module": "@jupyter-widgets/base",
          "model_name": "LayoutModel",
          "model_module_version": "1.2.0",
          "state": {
            "_model_module": "@jupyter-widgets/base",
            "_model_module_version": "1.2.0",
            "_model_name": "LayoutModel",
            "_view_count": null,
            "_view_module": "@jupyter-widgets/base",
            "_view_module_version": "1.2.0",
            "_view_name": "LayoutView",
            "align_content": null,
            "align_items": null,
            "align_self": null,
            "border": null,
            "bottom": null,
            "display": null,
            "flex": null,
            "flex_flow": null,
            "grid_area": null,
            "grid_auto_columns": null,
            "grid_auto_flow": null,
            "grid_auto_rows": null,
            "grid_column": null,
            "grid_gap": null,
            "grid_row": null,
            "grid_template_areas": null,
            "grid_template_columns": null,
            "grid_template_rows": null,
            "height": null,
            "justify_content": null,
            "justify_items": null,
            "left": null,
            "margin": null,
            "max_height": null,
            "max_width": null,
            "min_height": null,
            "min_width": null,
            "object_fit": null,
            "object_position": null,
            "order": null,
            "overflow": null,
            "overflow_x": null,
            "overflow_y": null,
            "padding": null,
            "right": null,
            "top": null,
            "visibility": null,
            "width": null
          }
        },
        "1e984b09af6e4038854b67ba3174cb8e": {
          "model_module": "@jupyter-widgets/controls",
          "model_name": "DescriptionStyleModel",
          "model_module_version": "1.5.0",
          "state": {
            "_model_module": "@jupyter-widgets/controls",
            "_model_module_version": "1.5.0",
            "_model_name": "DescriptionStyleModel",
            "_view_count": null,
            "_view_module": "@jupyter-widgets/base",
            "_view_module_version": "1.2.0",
            "_view_name": "StyleView",
            "description_width": ""
          }
        }
      }
    }
  },
  "cells": [
    {
      "cell_type": "markdown",
      "source": [
        "Step 4: In this phase different optimizers will be implemented for the 6 models from Step 3."
      ],
      "metadata": {
        "id": "Wk8XOratppQl"
      }
    },
    {
      "cell_type": "code",
      "execution_count": 1,
      "metadata": {
        "id": "EtdpbtRMpN-0"
      },
      "outputs": [],
      "source": [
        "# Import libraries\n",
        "\n",
        "import tensorflow as tf\n",
        "import numpy as np\n",
        "from tensorflow.keras.layers import Input, Dense, Conv2D, MaxPool2D, Flatten, Dropout\n",
        "from tensorflow.keras.models import Model\n",
        "from tensorflow.keras.optimizers import SGD\n",
        "from tensorflow.keras.utils import to_categorical\n",
        "from tensorflow.keras.callbacks import ModelCheckpoint\n",
        "from sklearn import metrics\n",
        "from sklearn.metrics import confusion_matrix, ConfusionMatrixDisplay\n",
        "from tensorflow.keras.utils import plot_model\n",
        "\n",
        "\n",
        "\n",
        "import tensorflow_datasets as tfds"
      ]
    },
    {
      "cell_type": "code",
      "source": [
        "# Load the data\n",
        "\n",
        "p_camelyon, p_camelyon_info = tfds.load(\"patch_camelyon\", with_info=True)"
      ],
      "metadata": {
        "id": "bSVV1okbqNYR",
        "colab": {
          "base_uri": "https://localhost:8080/",
          "height": 368,
          "referenced_widgets": [
            "8076f7826be6432f8fe4ca7255454482",
            "79601b6be0884813add8b246598efbbf",
            "f7f4d4bbd5d54727a82bb7b687f5f8cd",
            "c8b9199ca8f4492891eeb55dc1a0f3ce",
            "211250af16a34648a6f724d0721d0d3e",
            "2d2dd752250649afa746a6ced690413f",
            "910f529debc544d7a78ef5a171445d30",
            "b145b65772ae49d9bebd17062593f215",
            "c0470c385f024d3aab6b959dce0b2f45",
            "506dd2da309446cd90540ac450430169",
            "df8f6b21648e4b8f94f5bd85d25cbfbb",
            "39a709f9075c4d7491f571fdcd4d21fa",
            "ebaa57644c294ee0873336a0e0db1980",
            "2b4d89c390814baa9e4c728f5df2fd1b",
            "0245075f28d44371a86b0f8d2be5d4aa",
            "dd2f55fb04704d768bc8e92922a980dd",
            "7bb86aa80b1d43818cf3b10b6205d12c",
            "247246364a23450fab11c151945ca970",
            "9bf96883d7cd445f98507a29cbaa30e4",
            "46faada62a464c188a0dd53ce638884c",
            "8c916cf1535a46adbee1222202233357",
            "f919379793d849669cecd43cc02711a7",
            "48a45c088ff741f58be39ad2030bfb17",
            "152cf187c3114900bbb7b947f65d85ad",
            "8dc976a06c8e461bb8a8569cd168fa4e",
            "3590007fb56748f0a0dde949b9b15837",
            "5522c627c05c417e8148f96eca50ab78",
            "72ea1703b2124bccb907c4d3f021d69a",
            "7d17cf897ff945829a1241b75a606a5e",
            "411b7f3762b54112adee1dc3f9331ff4",
            "138c1b6b279f4ad28e90cd5d1cf44e9c",
            "0d25fab10e0b4d2386c554288cdea3f2",
            "dbc75f4cba5049c6a2f63cfe0e85e915",
            "fad7ad508f8c4e4eb146d7d5097aa029",
            "4ad8df2cdda94898a04369b4cf10f10f",
            "8da05fbffbea4b6a996b0cbbf5c108b2",
            "e0a08225d46748ceba00896be9e9d872",
            "1d5714d0630844eb93e53fddb0ddbca1",
            "0d9227f24b994e27b2613503b89a9928",
            "9261b467f6314d80aa0045331475e352",
            "54d4e15214634cc0a52c8de3aeca91f6",
            "60ad18185fef474f8fc6dd06d349b011",
            "789a411733ea4fe9a925cd9b00da0809",
            "b47248f4eb6d48efb068c7a347a6c163",
            "2a77c714df7f4cafb3bb68fd9cb98813",
            "b1ac799c05974b6da04ce393c80a46b8",
            "836a12cdb15f4277a055adc175000536",
            "ba91f007a112444d8e202c595ee4b310",
            "7fe42963997142bc995e9dd4a17fd6c8",
            "0976cdd191414f7584ef33fb77c9d625",
            "ebb6123108254963953366e66bda60c7",
            "c81dfe4369dc4b1d943fcd5a09ece909",
            "3bab449a5402484598ce7d6ce7c8565b",
            "c676387ca80844f1b71c274c596b0bdf",
            "ad5d16b36b51431c908322174d542b2c",
            "60c974cea6e6483789b2a0698ee10eba",
            "f1e758541d3d4ffc9e8587081cbcb67a",
            "ae46a9ebe58b4378a038f0ca4596e33a",
            "d0cf896ef56f4b66a377cd88732b87aa",
            "b22b00ae22e1433d8c63e4cbb3257d5f",
            "2f66769a5a664ff293fd23449e0ea4ab",
            "951538091ada4e638aed30bc777ab19a",
            "5a008e4982ab40f49928ccd4c4c0a05e",
            "07a0fa735ce949b2943327fb4e82ab4b",
            "e7e6d34cbfbd45ba9fd928f1a23396b6",
            "b72ba451f06c42aaa4751db1b11ba254",
            "696916d0f82b44e29c1126bacb22e679",
            "faa1b1a0130548e58d7f3395c8bf8b36",
            "585763a41adc4c90ab77794900fec6ae",
            "b2a09e68b46f48e89787dd94cfff2664",
            "aaa87fe645d643e8934312c3e1add72b",
            "ebe2e1c25fd34b748eee4cdee3ff96eb",
            "6b70aa68f4064a04991b787bfc20f9a8",
            "be0152190bfe4c7b9982e73d39967b01",
            "7fc66a9233bd42a6b8aedd9799e46319",
            "de809cc2f77841479865aa08ce4583cd",
            "4067320922ee4dac8ab8ccb4bf38b626",
            "3dce858de5bf42a285758da5343e13ed",
            "d54a107aafb340c4b75e2c33e9061832",
            "e14af47f853d4c12bb511f29008de1bb",
            "936039998c0d4555a09afcab07695439",
            "412c89fde81643e1a127c0ead7f62d12",
            "68a46dbec8074ae29dc6ebd23e0ba075",
            "46d0832692b74052a57b4fa58ec4b9ad",
            "85d84dc201444c3786bbc53579035f41",
            "302a6cd2e61b4d4e8ce2d5f31ffce489",
            "65438921caaf4a238b997060b62aea97",
            "62a4436429f74d86933f3c39ff635aa8",
            "fc5bac0dbeb542d5b03cd3acb985ccdd",
            "3076320896b8478298f8b6ecd9fa16f6",
            "8c04d5c7286241f284476b5d6d48287b",
            "305aeafe17ba4cf39657d52a25e7c6d4",
            "113f93fbdbd040e1b0706b1f5b59a5cd",
            "13c4134d64c4469097dc7e63403a1aa0",
            "9ee5b37c4ec24dfb98c3924a27bc438b",
            "1fcdded4e9e3405db1544656f85957b7",
            "ce9f7790e02f4573b33b42033c944828",
            "6fb8decba0ae4e9f8f0371be2d5d94ee",
            "1e984b09af6e4038854b67ba3174cb8e"
          ]
        },
        "outputId": "9748a259-5aed-4aef-9516-0ce601931ec3"
      },
      "execution_count": 2,
      "outputs": [
        {
          "output_type": "stream",
          "name": "stdout",
          "text": [
            "\u001b[1mDownloading and preparing dataset patch_camelyon/2.0.0 (download: 7.48 GiB, generated: Unknown size, total: 7.48 GiB) to /root/tensorflow_datasets/patch_camelyon/2.0.0...\u001b[0m\n"
          ]
        },
        {
          "output_type": "display_data",
          "data": {
            "text/plain": [
              "Dl Completed...: 0 url [00:00, ? url/s]"
            ],
            "application/vnd.jupyter.widget-view+json": {
              "version_major": 2,
              "version_minor": 0,
              "model_id": "8076f7826be6432f8fe4ca7255454482"
            }
          },
          "metadata": {}
        },
        {
          "output_type": "display_data",
          "data": {
            "text/plain": [
              "Dl Size...: 0 MiB [00:00, ? MiB/s]"
            ],
            "application/vnd.jupyter.widget-view+json": {
              "version_major": 2,
              "version_minor": 0,
              "model_id": "39a709f9075c4d7491f571fdcd4d21fa"
            }
          },
          "metadata": {}
        },
        {
          "output_type": "display_data",
          "data": {
            "text/plain": [
              "Extraction completed...: 0 file [00:00, ? file/s]"
            ],
            "application/vnd.jupyter.widget-view+json": {
              "version_major": 2,
              "version_minor": 0,
              "model_id": "48a45c088ff741f58be39ad2030bfb17"
            }
          },
          "metadata": {}
        },
        {
          "output_type": "stream",
          "name": "stdout",
          "text": [
            "\n",
            "\n",
            "\n"
          ]
        },
        {
          "output_type": "display_data",
          "data": {
            "text/plain": [
              "0 examples [00:00, ? examples/s]"
            ],
            "application/vnd.jupyter.widget-view+json": {
              "version_major": 2,
              "version_minor": 0,
              "model_id": "fad7ad508f8c4e4eb146d7d5097aa029"
            }
          },
          "metadata": {}
        },
        {
          "output_type": "stream",
          "name": "stdout",
          "text": [
            "Shuffling and writing examples to /root/tensorflow_datasets/patch_camelyon/2.0.0.incompleteBDRB4T/patch_camelyon-test.tfrecord\n"
          ]
        },
        {
          "output_type": "display_data",
          "data": {
            "text/plain": [
              "  0%|          | 0/32768 [00:00<?, ? examples/s]"
            ],
            "application/vnd.jupyter.widget-view+json": {
              "version_major": 2,
              "version_minor": 0,
              "model_id": "2a77c714df7f4cafb3bb68fd9cb98813"
            }
          },
          "metadata": {}
        },
        {
          "output_type": "display_data",
          "data": {
            "text/plain": [
              "0 examples [00:00, ? examples/s]"
            ],
            "application/vnd.jupyter.widget-view+json": {
              "version_major": 2,
              "version_minor": 0,
              "model_id": "60c974cea6e6483789b2a0698ee10eba"
            }
          },
          "metadata": {}
        },
        {
          "output_type": "stream",
          "name": "stdout",
          "text": [
            "Shuffling and writing examples to /root/tensorflow_datasets/patch_camelyon/2.0.0.incompleteBDRB4T/patch_camelyon-train.tfrecord\n"
          ]
        },
        {
          "output_type": "display_data",
          "data": {
            "text/plain": [
              "  0%|          | 0/262144 [00:00<?, ? examples/s]"
            ],
            "application/vnd.jupyter.widget-view+json": {
              "version_major": 2,
              "version_minor": 0,
              "model_id": "696916d0f82b44e29c1126bacb22e679"
            }
          },
          "metadata": {}
        },
        {
          "output_type": "display_data",
          "data": {
            "text/plain": [
              "0 examples [00:00, ? examples/s]"
            ],
            "application/vnd.jupyter.widget-view+json": {
              "version_major": 2,
              "version_minor": 0,
              "model_id": "3dce858de5bf42a285758da5343e13ed"
            }
          },
          "metadata": {}
        },
        {
          "output_type": "stream",
          "name": "stdout",
          "text": [
            "Shuffling and writing examples to /root/tensorflow_datasets/patch_camelyon/2.0.0.incompleteBDRB4T/patch_camelyon-validation.tfrecord\n"
          ]
        },
        {
          "output_type": "display_data",
          "data": {
            "text/plain": [
              "  0%|          | 0/32768 [00:00<?, ? examples/s]"
            ],
            "application/vnd.jupyter.widget-view+json": {
              "version_major": 2,
              "version_minor": 0,
              "model_id": "fc5bac0dbeb542d5b03cd3acb985ccdd"
            }
          },
          "metadata": {}
        },
        {
          "output_type": "stream",
          "name": "stdout",
          "text": [
            "\u001b[1mDataset patch_camelyon downloaded and prepared to /root/tensorflow_datasets/patch_camelyon/2.0.0. Subsequent calls will reuse this data.\u001b[0m\n"
          ]
        }
      ]
    },
    {
      "cell_type": "code",
      "source": [
        "# Defining a \"normalize\" function to process the data before feeding it into the deep neural network. \n",
        "\n",
        "def normalize(x):\n",
        "  image, label = x['image'], x['label']\n",
        "  image = tf.image.convert_image_dtype(image, tf.float32)\n",
        "  label = tf.one_hot(label, 2, dtype=tf.float32)\n",
        "  return image, label"
      ],
      "metadata": {
        "id": "Xqz4ycyQqOD2"
      },
      "execution_count": 5,
      "outputs": []
    },
    {
      "cell_type": "code",
      "source": [
        "# Applying \"normalize\" function along with others to the data\n",
        "\n",
        "# Processing the training dataset\n",
        "train_ds = p_camelyon['train'].map(normalize, num_parallel_calls=8)\n",
        "train_ds = train_ds.shuffle(1024)\n",
        "train_ds = train_ds.repeat()\n",
        "train_ds = train_ds.batch(128)\n",
        "train_ds = train_ds.prefetch(2)\n",
        "\n",
        "# Processing validation dataset\n",
        "validation_ds = p_camelyon['validation'].map(normalize, num_parallel_calls=8)\n",
        "validation_ds = validation_ds.repeat()\n",
        "validation_ds = validation_ds.batch(128)\n",
        "validation_ds = validation_ds.prefetch(2)\n",
        "\n",
        "#Processing the test dataset\n",
        "test_ds = p_camelyon['test'].map(normalize, num_parallel_calls=8)\n",
        "test_ds = test_ds.batch(128)\n",
        "test_ds = test_ds.prefetch(2)\n",
        "\n",
        "#Seperating image and label into different variables\n",
        "train_images, train_labels = next(iter(train_ds))\n",
        "valid_images, valid_labels = next(iter(validation_ds))\n",
        "test_images, test_labels  = next(iter(test_ds))\n"
      ],
      "metadata": {
        "id": "U_fw0QJFqPLA"
      },
      "execution_count": 6,
      "outputs": []
    },
    {
      "cell_type": "code",
      "source": [
        "import math\n",
        "\n",
        "batch_size_for_training = 64\n",
        "batch_size_for_validation = 128\n",
        "batch_size_for_test = 128\n",
        "\n",
        "training_size = 262144\n",
        "validation_size = 32768\n",
        "test_size =  32768\n",
        "        \n",
        "\n",
        "# Calculate steps for training and testing the model\n",
        "calculate_steps_training = lambda x: int(math.ceil(1. * x / batch_size_for_training))\n",
        "calculate_steps_validation = lambda x: int(math.ceil(1. * x / batch_size_for_validation))\n",
        "calculate_steps_test= lambda x: int(math.ceil(1. * x / batch_size_for_test))\n",
        "\n",
        "steps_per_epoch = calculate_steps_training(training_size) \n",
        "validation_steps = calculate_steps_validation(validation_size)\n",
        "steps = calculate_steps_test(test_size)\n",
        "\n",
        "print(\"Training steps: \", steps_per_epoch)\n",
        "print(\"Validation steps: \", validation_steps)\n",
        "print(\"Testing steps: \", steps)\n"
      ],
      "metadata": {
        "colab": {
          "base_uri": "https://localhost:8080/"
        },
        "id": "DJouK7rMGqqg",
        "outputId": "4a1ecaf8-74a6-4658-ced6-79de7cf31abb"
      },
      "execution_count": 7,
      "outputs": [
        {
          "output_type": "stream",
          "name": "stdout",
          "text": [
            "Training steps:  4096\n",
            "Validation steps:  256\n",
            "Testing steps:  256\n"
          ]
        }
      ]
    },
    {
      "cell_type": "code",
      "source": [
        "import matplotlib.pyplot as plt\n",
        "\n",
        "def plot_hist(history):\n",
        "  plt.plot(history.history[\"acc\"])\n",
        "  plt.plot(history.history[\"val_acc\"])\n",
        "  plt.title(\"Model Accuracy\")\n",
        "  plt.ylabel(\"Accuracy\")\n",
        "  plt.xlabel(\"Epochs\")\n",
        "  plt.legend([\"train\", \"validation\"], loc=\"upper left\")\n",
        "  plt.show()"
      ],
      "metadata": {
        "id": "-F3QjhfEGmOR"
      },
      "execution_count": 8,
      "outputs": []
    },
    {
      "cell_type": "code",
      "source": [
        "# Building the Convolutonal Neural Network Model 1.1.1 Version 1\n",
        "\n",
        "# Setting up the output with the right size\n",
        "input = Input(shape=(96,96,3))\n",
        "\n",
        "# Relu activation functions only, with softmax activation function for the last Dense layer\n",
        "x = Conv2D(16, (3,3), activation='relu', padding='valid')(input)\n",
        "x = MaxPool2D(pool_size=(2,2), strides=(2,2))(x)\n",
        "x = Conv2D(32, (3,3), activation='relu', padding='valid')(x)\n",
        "x = MaxPool2D(pool_size=(2,2), strides=(2,2))(x)\n",
        "x = Conv2D(64, (3,3), activation='relu', padding='valid')(x)\n",
        "x = MaxPool2D(pool_size=(2,2), strides=(2,2))(x)\n",
        "x = Flatten()(x)\n",
        "x = Dense(256, activation='relu')(x)\n",
        "x = Dropout(rate=0.3)(x)\n",
        "x = Dense(128, activation='relu')(x)\n",
        "x = Dropout(rate=0.2)(x)\n",
        "output = Dense(2, activation='softmax')(x)\n",
        "\n",
        "# Optimizer = sgd\n",
        "# Loss function = hinge\n",
        "model_1_1_1_version_1 = Model(inputs=input, outputs = output)\n",
        "model_1_1_1_version_1.compile(optimizer='sgd', \n",
        "              loss=tf.keras.losses.Hinge(),\n",
        "              metrics=['acc'])\n",
        "\n",
        "model_1_1_1_version_1.summary()\n",
        "plot_model(model_1_1_1_version_1)"
      ],
      "metadata": {
        "colab": {
          "base_uri": "https://localhost:8080/",
          "height": 1000
        },
        "id": "o-Zsxtvo6NiN",
        "outputId": "b00fd313-7466-4619-8330-0d5e510ba725"
      },
      "execution_count": null,
      "outputs": [
        {
          "output_type": "stream",
          "name": "stdout",
          "text": [
            "Model: \"model\"\n",
            "_________________________________________________________________\n",
            " Layer (type)                Output Shape              Param #   \n",
            "=================================================================\n",
            " input_1 (InputLayer)        [(None, 96, 96, 3)]       0         \n",
            "                                                                 \n",
            " conv2d (Conv2D)             (None, 94, 94, 16)        448       \n",
            "                                                                 \n",
            " max_pooling2d (MaxPooling2D  (None, 47, 47, 16)       0         \n",
            " )                                                               \n",
            "                                                                 \n",
            " conv2d_1 (Conv2D)           (None, 45, 45, 32)        4640      \n",
            "                                                                 \n",
            " max_pooling2d_1 (MaxPooling  (None, 22, 22, 32)       0         \n",
            " 2D)                                                             \n",
            "                                                                 \n",
            " conv2d_2 (Conv2D)           (None, 20, 20, 64)        18496     \n",
            "                                                                 \n",
            " max_pooling2d_2 (MaxPooling  (None, 10, 10, 64)       0         \n",
            " 2D)                                                             \n",
            "                                                                 \n",
            " flatten (Flatten)           (None, 6400)              0         \n",
            "                                                                 \n",
            " dense (Dense)               (None, 256)               1638656   \n",
            "                                                                 \n",
            " dropout (Dropout)           (None, 256)               0         \n",
            "                                                                 \n",
            " dense_1 (Dense)             (None, 128)               32896     \n",
            "                                                                 \n",
            " dropout_1 (Dropout)         (None, 128)               0         \n",
            "                                                                 \n",
            " dense_2 (Dense)             (None, 2)                 258       \n",
            "                                                                 \n",
            "=================================================================\n",
            "Total params: 1,695,394\n",
            "Trainable params: 1,695,394\n",
            "Non-trainable params: 0\n",
            "_________________________________________________________________\n"
          ]
        },
        {
          "output_type": "execute_result",
          "data": {
            "text/plain": [
              "<IPython.core.display.Image object>"
            ],
            "image/png": "[encoded data removed]"
          },
          "metadata": {},
          "execution_count": 9
        }
      ]
    },
    {
      "cell_type": "code",
      "source": [
        "# Building the Convolutonal Neural Network Model 1.1.2 Version 1\n",
        "\n",
        "# Setting up the output with the right size\n",
        "input = Input(shape=(96,96,3))\n",
        "\n",
        "# Relu activation functions only, with softmax activation function for the last Dense layer\n",
        "x = Conv2D(16, (3,3), activation='relu', padding='valid')(input)\n",
        "x = MaxPool2D(pool_size=(2,2), strides=(2,2))(x)\n",
        "x = Conv2D(32, (3,3), activation='relu', padding='valid')(x)\n",
        "x = MaxPool2D(pool_size=(2,2), strides=(2,2))(x)\n",
        "x = Conv2D(64, (3,3), activation='relu', padding='valid')(x)\n",
        "x = MaxPool2D(pool_size=(2,2), strides=(2,2))(x)\n",
        "x = Flatten()(x)\n",
        "x = Dense(256, activation='relu')(x)\n",
        "x = Dropout(rate=0.3)(x)\n",
        "x = Dense(128, activation='relu')(x)\n",
        "x = Dropout(rate=0.2)(x)\n",
        "output = Dense(2, activation='softmax')(x)\n",
        "\n",
        "# Optimizer = adagrad\n",
        "# Loss function = hinge\n",
        "model_1_1_2_version_1 = Model(inputs=input, outputs = output)\n",
        "model_1_1_2_version_1.compile(optimizer='adagrad', \n",
        "              loss=tf.keras.losses.Hinge(),\n",
        "              metrics=['acc'])\n",
        "\n",
        "model_1_1_2_version_1.summary()\n",
        "#plot_model(model_1_1_2_version_1)"
      ],
      "metadata": {
        "colab": {
          "base_uri": "https://localhost:8080/"
        },
        "id": "iAFhz75d6RV8",
        "outputId": "689eb705-96ab-4001-d052-1797621fe591"
      },
      "execution_count": null,
      "outputs": [
        {
          "output_type": "stream",
          "name": "stdout",
          "text": [
            "Model: \"model_1\"\n",
            "_________________________________________________________________\n",
            " Layer (type)                Output Shape              Param #   \n",
            "=================================================================\n",
            " input_2 (InputLayer)        [(None, 96, 96, 3)]       0         \n",
            "                                                                 \n",
            " conv2d_3 (Conv2D)           (None, 94, 94, 16)        448       \n",
            "                                                                 \n",
            " max_pooling2d_3 (MaxPooling  (None, 47, 47, 16)       0         \n",
            " 2D)                                                             \n",
            "                                                                 \n",
            " conv2d_4 (Conv2D)           (None, 45, 45, 32)        4640      \n",
            "                                                                 \n",
            " max_pooling2d_4 (MaxPooling  (None, 22, 22, 32)       0         \n",
            " 2D)                                                             \n",
            "                                                                 \n",
            " conv2d_5 (Conv2D)           (None, 20, 20, 64)        18496     \n",
            "                                                                 \n",
            " max_pooling2d_5 (MaxPooling  (None, 10, 10, 64)       0         \n",
            " 2D)                                                             \n",
            "                                                                 \n",
            " flatten_1 (Flatten)         (None, 6400)              0         \n",
            "                                                                 \n",
            " dense_3 (Dense)             (None, 256)               1638656   \n",
            "                                                                 \n",
            " dropout_2 (Dropout)         (None, 256)               0         \n",
            "                                                                 \n",
            " dense_4 (Dense)             (None, 128)               32896     \n",
            "                                                                 \n",
            " dropout_3 (Dropout)         (None, 128)               0         \n",
            "                                                                 \n",
            " dense_5 (Dense)             (None, 2)                 258       \n",
            "                                                                 \n",
            "=================================================================\n",
            "Total params: 1,695,394\n",
            "Trainable params: 1,695,394\n",
            "Non-trainable params: 0\n",
            "_________________________________________________________________\n"
          ]
        }
      ]
    },
    {
      "cell_type": "code",
      "source": [
        "# Building the Convolutonal Neural Network Model 1.1.3 Version 1\n",
        "\n",
        "# Setting up the output with the right size\n",
        "input = Input(shape=(96,96,3))\n",
        "\n",
        "# Relu activation functions only, with softmax activation function for the last Dense layer\n",
        "x = Conv2D(16, (3,3), activation='relu', padding='valid')(input)\n",
        "x = MaxPool2D(pool_size=(2,2), strides=(2,2))(x)\n",
        "x = Conv2D(32, (3,3), activation='relu', padding='valid')(x)\n",
        "x = MaxPool2D(pool_size=(2,2), strides=(2,2))(x)\n",
        "x = Conv2D(64, (3,3), activation='relu', padding='valid')(x)\n",
        "x = MaxPool2D(pool_size=(2,2), strides=(2,2))(x)\n",
        "x = Flatten()(x)\n",
        "x = Dense(256, activation='relu')(x)\n",
        "x = Dropout(rate=0.3)(x)\n",
        "x = Dense(128, activation='relu')(x)\n",
        "x = Dropout(rate=0.2)(x)\n",
        "output = Dense(2, activation='softmax')(x)\n",
        "\n",
        "# Optimizer = RMSprop\n",
        "# Loss function = hinge\n",
        "model_1_1_3_version_1 = Model(inputs=input, outputs = output)\n",
        "model_1_1_3_version_1.compile(optimizer='RMSprop', \n",
        "              loss=tf.keras.losses.Hinge(),\n",
        "              metrics=['acc'])\n",
        "\n",
        "model_1_1_3_version_1.summary()\n",
        "#plot_model(model_1_1_3_version_1)"
      ],
      "metadata": {
        "colab": {
          "base_uri": "https://localhost:8080/"
        },
        "id": "0teRzonF6R9k",
        "outputId": "594a5cfb-7edd-47d9-ab10-ad578b04313b"
      },
      "execution_count": null,
      "outputs": [
        {
          "output_type": "stream",
          "name": "stdout",
          "text": [
            "Model: \"model_2\"\n",
            "_________________________________________________________________\n",
            " Layer (type)                Output Shape              Param #   \n",
            "=================================================================\n",
            " input_3 (InputLayer)        [(None, 96, 96, 3)]       0         \n",
            "                                                                 \n",
            " conv2d_6 (Conv2D)           (None, 94, 94, 16)        448       \n",
            "                                                                 \n",
            " max_pooling2d_6 (MaxPooling  (None, 47, 47, 16)       0         \n",
            " 2D)                                                             \n",
            "                                                                 \n",
            " conv2d_7 (Conv2D)           (None, 45, 45, 32)        4640      \n",
            "                                                                 \n",
            " max_pooling2d_7 (MaxPooling  (None, 22, 22, 32)       0         \n",
            " 2D)                                                             \n",
            "                                                                 \n",
            " conv2d_8 (Conv2D)           (None, 20, 20, 64)        18496     \n",
            "                                                                 \n",
            " max_pooling2d_8 (MaxPooling  (None, 10, 10, 64)       0         \n",
            " 2D)                                                             \n",
            "                                                                 \n",
            " flatten_2 (Flatten)         (None, 6400)              0         \n",
            "                                                                 \n",
            " dense_6 (Dense)             (None, 256)               1638656   \n",
            "                                                                 \n",
            " dropout_4 (Dropout)         (None, 256)               0         \n",
            "                                                                 \n",
            " dense_7 (Dense)             (None, 128)               32896     \n",
            "                                                                 \n",
            " dropout_5 (Dropout)         (None, 128)               0         \n",
            "                                                                 \n",
            " dense_8 (Dense)             (None, 2)                 258       \n",
            "                                                                 \n",
            "=================================================================\n",
            "Total params: 1,695,394\n",
            "Trainable params: 1,695,394\n",
            "Non-trainable params: 0\n",
            "_________________________________________________________________\n"
          ]
        }
      ]
    },
    {
      "cell_type": "code",
      "source": [
        "# Building the Convolutonal Network Model 1.2.1 Version 1\n",
        "\n",
        "# Setting up the output with the right size\n",
        "input = Input(shape=(96,96,3))\n",
        "\n",
        "# Relu activation functions only, with softmax activation function for the last Dense layer\n",
        "x = Conv2D(16, (3,3), activation='relu', padding='valid')(input)\n",
        "x = MaxPool2D(pool_size=(2,2), strides=(2,2))(x)\n",
        "x = Conv2D(32, (3,3), activation='relu', padding='valid')(x)\n",
        "x = MaxPool2D(pool_size=(2,2), strides=(2,2))(x)\n",
        "x = Conv2D(64, (3,3), activation='relu', padding='valid')(x)\n",
        "x = MaxPool2D(pool_size=(2,2), strides=(2,2))(x)\n",
        "x = Flatten()(x)\n",
        "x = Dense(256, activation='relu')(x)\n",
        "x = Dropout(rate=0.3)(x)\n",
        "x = Dense(128, activation='relu')(x)\n",
        "x = Dropout(rate=0.2)(x)\n",
        "output = Dense(2, activation='softmax')(x)\n",
        "\n",
        "# Optimizer = sgd\n",
        "# Loss function =   MSE\n",
        "model_1_2_1_version_1 = Model(inputs=input, outputs = output)\n",
        "model_1_2_1_version_1.compile(optimizer='sgd', \n",
        "              loss='MSE',\n",
        "              metrics=['acc'])\n",
        "\n",
        "model_1_2_1_version_1.summary()\n",
        "#plot_model(model_1_2_1_version_1)"
      ],
      "metadata": {
        "colab": {
          "base_uri": "https://localhost:8080/"
        },
        "id": "Gj-k44v16Tft",
        "outputId": "d2ed7f0c-ea04-473c-c4a9-117bf8a3c22c"
      },
      "execution_count": null,
      "outputs": [
        {
          "output_type": "stream",
          "name": "stdout",
          "text": [
            "Model: \"model_3\"\n",
            "_________________________________________________________________\n",
            " Layer (type)                Output Shape              Param #   \n",
            "=================================================================\n",
            " input_4 (InputLayer)        [(None, 96, 96, 3)]       0         \n",
            "                                                                 \n",
            " conv2d_9 (Conv2D)           (None, 94, 94, 16)        448       \n",
            "                                                                 \n",
            " max_pooling2d_9 (MaxPooling  (None, 47, 47, 16)       0         \n",
            " 2D)                                                             \n",
            "                                                                 \n",
            " conv2d_10 (Conv2D)          (None, 45, 45, 32)        4640      \n",
            "                                                                 \n",
            " max_pooling2d_10 (MaxPoolin  (None, 22, 22, 32)       0         \n",
            " g2D)                                                            \n",
            "                                                                 \n",
            " conv2d_11 (Conv2D)          (None, 20, 20, 64)        18496     \n",
            "                                                                 \n",
            " max_pooling2d_11 (MaxPoolin  (None, 10, 10, 64)       0         \n",
            " g2D)                                                            \n",
            "                                                                 \n",
            " flatten_3 (Flatten)         (None, 6400)              0         \n",
            "                                                                 \n",
            " dense_9 (Dense)             (None, 256)               1638656   \n",
            "                                                                 \n",
            " dropout_6 (Dropout)         (None, 256)               0         \n",
            "                                                                 \n",
            " dense_10 (Dense)            (None, 128)               32896     \n",
            "                                                                 \n",
            " dropout_7 (Dropout)         (None, 128)               0         \n",
            "                                                                 \n",
            " dense_11 (Dense)            (None, 2)                 258       \n",
            "                                                                 \n",
            "=================================================================\n",
            "Total params: 1,695,394\n",
            "Trainable params: 1,695,394\n",
            "Non-trainable params: 0\n",
            "_________________________________________________________________\n"
          ]
        }
      ]
    },
    {
      "cell_type": "code",
      "source": [
        "# Building the Convolutonal Network Model 1.2.2 Version 1\n",
        "\n",
        "# Setting up the output with the right size\n",
        "input = Input(shape=(96,96,3))\n",
        "\n",
        "# Relu activation functions only, with softmax activation function for the last Dense layer\n",
        "x = Conv2D(16, (3,3), activation='relu', padding='valid')(input)\n",
        "x = MaxPool2D(pool_size=(2,2), strides=(2,2))(x)\n",
        "x = Conv2D(32, (3,3), activation='relu', padding='valid')(x)\n",
        "x = MaxPool2D(pool_size=(2,2), strides=(2,2))(x)\n",
        "x = Conv2D(64, (3,3), activation='relu', padding='valid')(x)\n",
        "x = MaxPool2D(pool_size=(2,2), strides=(2,2))(x)\n",
        "x = Flatten()(x)\n",
        "x = Dense(256, activation='relu')(x)\n",
        "x = Dropout(rate=0.3)(x)\n",
        "x = Dense(128, activation='relu')(x)\n",
        "x = Dropout(rate=0.2)(x)\n",
        "output = Dense(2, activation='softmax')(x)\n",
        "\n",
        "# Optimizer = adagrad\n",
        "# Loss function =   MSE\n",
        "model_1_2_2_version_1 = Model(inputs=input, outputs = output)\n",
        "model_1_2_2_version_1.compile(optimizer='adagrad', \n",
        "              loss='MSE',\n",
        "              metrics=['acc'])\n",
        "\n",
        "model_1_2_2_version_1.summary()\n",
        "#plot_model(model_1_2_2_version_1)"
      ],
      "metadata": {
        "colab": {
          "base_uri": "https://localhost:8080/"
        },
        "id": "2uMvQjqw6VCM",
        "outputId": "2907eb4a-8887-447e-f29f-ce02531dba55"
      },
      "execution_count": null,
      "outputs": [
        {
          "output_type": "stream",
          "name": "stdout",
          "text": [
            "Model: \"model_4\"\n",
            "_________________________________________________________________\n",
            " Layer (type)                Output Shape              Param #   \n",
            "=================================================================\n",
            " input_5 (InputLayer)        [(None, 96, 96, 3)]       0         \n",
            "                                                                 \n",
            " conv2d_12 (Conv2D)          (None, 94, 94, 16)        448       \n",
            "                                                                 \n",
            " max_pooling2d_12 (MaxPoolin  (None, 47, 47, 16)       0         \n",
            " g2D)                                                            \n",
            "                                                                 \n",
            " conv2d_13 (Conv2D)          (None, 45, 45, 32)        4640      \n",
            "                                                                 \n",
            " max_pooling2d_13 (MaxPoolin  (None, 22, 22, 32)       0         \n",
            " g2D)                                                            \n",
            "                                                                 \n",
            " conv2d_14 (Conv2D)          (None, 20, 20, 64)        18496     \n",
            "                                                                 \n",
            " max_pooling2d_14 (MaxPoolin  (None, 10, 10, 64)       0         \n",
            " g2D)                                                            \n",
            "                                                                 \n",
            " flatten_4 (Flatten)         (None, 6400)              0         \n",
            "                                                                 \n",
            " dense_12 (Dense)            (None, 256)               1638656   \n",
            "                                                                 \n",
            " dropout_8 (Dropout)         (None, 256)               0         \n",
            "                                                                 \n",
            " dense_13 (Dense)            (None, 128)               32896     \n",
            "                                                                 \n",
            " dropout_9 (Dropout)         (None, 128)               0         \n",
            "                                                                 \n",
            " dense_14 (Dense)            (None, 2)                 258       \n",
            "                                                                 \n",
            "=================================================================\n",
            "Total params: 1,695,394\n",
            "Trainable params: 1,695,394\n",
            "Non-trainable params: 0\n",
            "_________________________________________________________________\n"
          ]
        }
      ]
    },
    {
      "cell_type": "code",
      "source": [
        "# Building the Convolutonal Network Model 1.2.3 Version 1\n",
        "\n",
        "# Setting up the output with the right size\n",
        "input = Input(shape=(96,96,3))\n",
        "\n",
        "# Relu activation functions only, with softmax activation function for the last Dense layer\n",
        "x = Conv2D(16, (3,3), activation='relu', padding='valid')(input)\n",
        "x = MaxPool2D(pool_size=(2,2), strides=(2,2))(x)\n",
        "x = Conv2D(32, (3,3), activation='relu', padding='valid')(x)\n",
        "x = MaxPool2D(pool_size=(2,2), strides=(2,2))(x)\n",
        "x = Conv2D(64, (3,3), activation='relu', padding='valid')(x)\n",
        "x = MaxPool2D(pool_size=(2,2), strides=(2,2))(x)\n",
        "x = Flatten()(x)\n",
        "x = Dense(256, activation='relu')(x)\n",
        "x = Dropout(rate=0.3)(x)\n",
        "x = Dense(128, activation='relu')(x)\n",
        "x = Dropout(rate=0.2)(x)\n",
        "output = Dense(2, activation='softmax')(x)\n",
        "\n",
        "# Optimizer = RMSprop\n",
        "# Loss function =   MSE\n",
        "model_1_2_3_version_1 = Model(inputs=input, outputs = output)\n",
        "model_1_2_3_version_1.compile(optimizer='RMSprop', \n",
        "              loss='MSE',\n",
        "              metrics=['acc'])\n",
        "\n",
        "model_1_2_3_version_1.summary()\n",
        "#plot_model(model_1_2_3_version_1)"
      ],
      "metadata": {
        "colab": {
          "base_uri": "https://localhost:8080/"
        },
        "id": "S19AXlQu6WU-",
        "outputId": "3c97b9ba-e40c-432e-ba4a-2c5092d89e70"
      },
      "execution_count": null,
      "outputs": [
        {
          "output_type": "stream",
          "name": "stdout",
          "text": [
            "Model: \"model_5\"\n",
            "_________________________________________________________________\n",
            " Layer (type)                Output Shape              Param #   \n",
            "=================================================================\n",
            " input_6 (InputLayer)        [(None, 96, 96, 3)]       0         \n",
            "                                                                 \n",
            " conv2d_15 (Conv2D)          (None, 94, 94, 16)        448       \n",
            "                                                                 \n",
            " max_pooling2d_15 (MaxPoolin  (None, 47, 47, 16)       0         \n",
            " g2D)                                                            \n",
            "                                                                 \n",
            " conv2d_16 (Conv2D)          (None, 45, 45, 32)        4640      \n",
            "                                                                 \n",
            " max_pooling2d_16 (MaxPoolin  (None, 22, 22, 32)       0         \n",
            " g2D)                                                            \n",
            "                                                                 \n",
            " conv2d_17 (Conv2D)          (None, 20, 20, 64)        18496     \n",
            "                                                                 \n",
            " max_pooling2d_17 (MaxPoolin  (None, 10, 10, 64)       0         \n",
            " g2D)                                                            \n",
            "                                                                 \n",
            " flatten_5 (Flatten)         (None, 6400)              0         \n",
            "                                                                 \n",
            " dense_15 (Dense)            (None, 256)               1638656   \n",
            "                                                                 \n",
            " dropout_10 (Dropout)        (None, 256)               0         \n",
            "                                                                 \n",
            " dense_16 (Dense)            (None, 128)               32896     \n",
            "                                                                 \n",
            " dropout_11 (Dropout)        (None, 128)               0         \n",
            "                                                                 \n",
            " dense_17 (Dense)            (None, 2)                 258       \n",
            "                                                                 \n",
            "=================================================================\n",
            "Total params: 1,695,394\n",
            "Trainable params: 1,695,394\n",
            "Non-trainable params: 0\n",
            "_________________________________________________________________\n"
          ]
        }
      ]
    },
    {
      "cell_type": "code",
      "source": [
        "# Building the Convolutonal Network Model 2.1.1 Version 1\n",
        "\n",
        "# Setting up the output with the right size\n",
        "input = Input(shape=(96,96,3))\n",
        "\n",
        "# Sigmoid activation functions only with softmax for the last Dense layer\n",
        "\n",
        "x = Conv2D(16, (3,3), activation='sigmoid', padding='valid')(input)\n",
        "x = MaxPool2D(pool_size=(2,2), strides=(2,2))(x)\n",
        "x = Conv2D(32, (3,3), activation='sigmoid', padding='valid')(x)\n",
        "x = MaxPool2D(pool_size=(2,2), strides=(2,2))(x)\n",
        "x = Conv2D(64, (3,3), activation='sigmoid', padding='valid')(x)\n",
        "x = MaxPool2D(pool_size=(2,2), strides=(2,2))(x)\n",
        "x = Flatten()(x)\n",
        "x = Dense(256, activation='sigmoid')(x)\n",
        "x = Dropout(rate=0.3)(x)\n",
        "x = Dense(128, activation='sigmoid')(x)\n",
        "x = Dropout(rate=0.2)(x)\n",
        "output = Dense(2, activation='softmax')(x)\n",
        "\n",
        "# Optimizer = sgd\n",
        "# Loss function = hinge\n",
        "model_2_1_1_version_1 = Model(inputs=input, outputs = output)\n",
        "model_2_1_1_version_1.compile(optimizer='sgd', \n",
        "              loss=tf.keras.losses.Hinge(),\n",
        "              metrics=['acc'])\n",
        "\n",
        "model_2_1_1_version_1.summary()\n",
        "#plot_model(model_2_1_1_version_1)"
      ],
      "metadata": {
        "colab": {
          "base_uri": "https://localhost:8080/"
        },
        "id": "YAKn1LR_6bPf",
        "outputId": "b1997c8e-1ea0-4786-c75d-7629d09067dc"
      },
      "execution_count": null,
      "outputs": [
        {
          "output_type": "stream",
          "name": "stdout",
          "text": [
            "Model: \"model_6\"\n",
            "_________________________________________________________________\n",
            " Layer (type)                Output Shape              Param #   \n",
            "=================================================================\n",
            " input_7 (InputLayer)        [(None, 96, 96, 3)]       0         \n",
            "                                                                 \n",
            " conv2d_18 (Conv2D)          (None, 94, 94, 16)        448       \n",
            "                                                                 \n",
            " max_pooling2d_18 (MaxPoolin  (None, 47, 47, 16)       0         \n",
            " g2D)                                                            \n",
            "                                                                 \n",
            " conv2d_19 (Conv2D)          (None, 45, 45, 32)        4640      \n",
            "                                                                 \n",
            " max_pooling2d_19 (MaxPoolin  (None, 22, 22, 32)       0         \n",
            " g2D)                                                            \n",
            "                                                                 \n",
            " conv2d_20 (Conv2D)          (None, 20, 20, 64)        18496     \n",
            "                                                                 \n",
            " max_pooling2d_20 (MaxPoolin  (None, 10, 10, 64)       0         \n",
            " g2D)                                                            \n",
            "                                                                 \n",
            " flatten_6 (Flatten)         (None, 6400)              0         \n",
            "                                                                 \n",
            " dense_18 (Dense)            (None, 256)               1638656   \n",
            "                                                                 \n",
            " dropout_12 (Dropout)        (None, 256)               0         \n",
            "                                                                 \n",
            " dense_19 (Dense)            (None, 128)               32896     \n",
            "                                                                 \n",
            " dropout_13 (Dropout)        (None, 128)               0         \n",
            "                                                                 \n",
            " dense_20 (Dense)            (None, 2)                 258       \n",
            "                                                                 \n",
            "=================================================================\n",
            "Total params: 1,695,394\n",
            "Trainable params: 1,695,394\n",
            "Non-trainable params: 0\n",
            "_________________________________________________________________\n"
          ]
        }
      ]
    },
    {
      "cell_type": "code",
      "source": [
        "# Building the Convolutonal Network Model 2.1.2 Version 1\n",
        "\n",
        "# Setting up the output with the right size\n",
        "input = Input(shape=(96,96,3))\n",
        "\n",
        "# Sigmoid activation functions only with softmax for the last Dense layer\n",
        "\n",
        "x = Conv2D(16, (3,3), activation='sigmoid', padding='valid')(input)\n",
        "x = MaxPool2D(pool_size=(2,2), strides=(2,2))(x)\n",
        "x = Conv2D(32, (3,3), activation='sigmoid', padding='valid')(x)\n",
        "x = MaxPool2D(pool_size=(2,2), strides=(2,2))(x)\n",
        "x = Conv2D(64, (3,3), activation='sigmoid', padding='valid')(x)\n",
        "x = MaxPool2D(pool_size=(2,2), strides=(2,2))(x)\n",
        "x = Flatten()(x)\n",
        "x = Dense(256, activation='sigmoid')(x)\n",
        "x = Dropout(rate=0.3)(x)\n",
        "x = Dense(128, activation='sigmoid')(x)\n",
        "x = Dropout(rate=0.2)(x)\n",
        "output = Dense(2, activation='softmax')(x)\n",
        "\n",
        "# Optimizer = Adagrad\n",
        "# Loss function = hinge\n",
        "model_2_1_2_version_1 = Model(inputs=input, outputs = output)\n",
        "model_2_1_2_version_1.compile(optimizer='adagrad', \n",
        "              loss=tf.keras.losses.Hinge(),\n",
        "              metrics=['acc'])\n",
        "\n",
        "model_2_1_2_version_1.summary()\n",
        "#plot_model(model_2_1_2_version_1)"
      ],
      "metadata": {
        "colab": {
          "base_uri": "https://localhost:8080/"
        },
        "id": "Sgb7jRmg6b0D",
        "outputId": "568edb5d-c174-4442-8731-b5833953b1a5"
      },
      "execution_count": null,
      "outputs": [
        {
          "output_type": "stream",
          "name": "stdout",
          "text": [
            "Model: \"model_7\"\n",
            "_________________________________________________________________\n",
            " Layer (type)                Output Shape              Param #   \n",
            "=================================================================\n",
            " input_8 (InputLayer)        [(None, 96, 96, 3)]       0         \n",
            "                                                                 \n",
            " conv2d_21 (Conv2D)          (None, 94, 94, 16)        448       \n",
            "                                                                 \n",
            " max_pooling2d_21 (MaxPoolin  (None, 47, 47, 16)       0         \n",
            " g2D)                                                            \n",
            "                                                                 \n",
            " conv2d_22 (Conv2D)          (None, 45, 45, 32)        4640      \n",
            "                                                                 \n",
            " max_pooling2d_22 (MaxPoolin  (None, 22, 22, 32)       0         \n",
            " g2D)                                                            \n",
            "                                                                 \n",
            " conv2d_23 (Conv2D)          (None, 20, 20, 64)        18496     \n",
            "                                                                 \n",
            " max_pooling2d_23 (MaxPoolin  (None, 10, 10, 64)       0         \n",
            " g2D)                                                            \n",
            "                                                                 \n",
            " flatten_7 (Flatten)         (None, 6400)              0         \n",
            "                                                                 \n",
            " dense_21 (Dense)            (None, 256)               1638656   \n",
            "                                                                 \n",
            " dropout_14 (Dropout)        (None, 256)               0         \n",
            "                                                                 \n",
            " dense_22 (Dense)            (None, 128)               32896     \n",
            "                                                                 \n",
            " dropout_15 (Dropout)        (None, 128)               0         \n",
            "                                                                 \n",
            " dense_23 (Dense)            (None, 2)                 258       \n",
            "                                                                 \n",
            "=================================================================\n",
            "Total params: 1,695,394\n",
            "Trainable params: 1,695,394\n",
            "Non-trainable params: 0\n",
            "_________________________________________________________________\n"
          ]
        }
      ]
    },
    {
      "cell_type": "code",
      "source": [
        "# Building the Convolutonal Network Model 2.1.3 Version 1\n",
        "\n",
        "# Setting up the output with the right size\n",
        "input = Input(shape=(96,96,3))\n",
        "\n",
        "# Sigmoid activation functions only with softmax for the last Dense layer\n",
        "\n",
        "x = Conv2D(16, (3,3), activation='sigmoid', padding='valid')(input)\n",
        "x = MaxPool2D(pool_size=(2,2), strides=(2,2))(x)\n",
        "x = Conv2D(32, (3,3), activation='sigmoid', padding='valid')(x)\n",
        "x = MaxPool2D(pool_size=(2,2), strides=(2,2))(x)\n",
        "x = Conv2D(64, (3,3), activation='sigmoid', padding='valid')(x)\n",
        "x = MaxPool2D(pool_size=(2,2), strides=(2,2))(x)\n",
        "x = Flatten()(x)\n",
        "x = Dense(256, activation='sigmoid')(x)\n",
        "x = Dropout(rate=0.3)(x)\n",
        "x = Dense(128, activation='sigmoid')(x)\n",
        "x = Dropout(rate=0.2)(x)\n",
        "output = Dense(2, activation='softmax')(x)\n",
        "\n",
        "# Optimizer = RMSprop\n",
        "# Loss function = hinge\n",
        "model_2_1_3_version_1 = Model(inputs=input, outputs = output)\n",
        "model_2_1_3_version_1.compile(optimizer='RMSprop', \n",
        "              loss=tf.keras.losses.Hinge(),\n",
        "              metrics=['acc'])\n",
        "\n",
        "model_2_1_3_version_1.summary()\n",
        "#plot_model(model_2_1_3_version_1)"
      ],
      "metadata": {
        "colab": {
          "base_uri": "https://localhost:8080/"
        },
        "id": "gAgf9vK76b2j",
        "outputId": "5c0d2a80-67f3-4d54-ad83-e1424c675157"
      },
      "execution_count": null,
      "outputs": [
        {
          "output_type": "stream",
          "name": "stdout",
          "text": [
            "Model: \"model_8\"\n",
            "_________________________________________________________________\n",
            " Layer (type)                Output Shape              Param #   \n",
            "=================================================================\n",
            " input_9 (InputLayer)        [(None, 96, 96, 3)]       0         \n",
            "                                                                 \n",
            " conv2d_24 (Conv2D)          (None, 94, 94, 16)        448       \n",
            "                                                                 \n",
            " max_pooling2d_24 (MaxPoolin  (None, 47, 47, 16)       0         \n",
            " g2D)                                                            \n",
            "                                                                 \n",
            " conv2d_25 (Conv2D)          (None, 45, 45, 32)        4640      \n",
            "                                                                 \n",
            " max_pooling2d_25 (MaxPoolin  (None, 22, 22, 32)       0         \n",
            " g2D)                                                            \n",
            "                                                                 \n",
            " conv2d_26 (Conv2D)          (None, 20, 20, 64)        18496     \n",
            "                                                                 \n",
            " max_pooling2d_26 (MaxPoolin  (None, 10, 10, 64)       0         \n",
            " g2D)                                                            \n",
            "                                                                 \n",
            " flatten_8 (Flatten)         (None, 6400)              0         \n",
            "                                                                 \n",
            " dense_24 (Dense)            (None, 256)               1638656   \n",
            "                                                                 \n",
            " dropout_16 (Dropout)        (None, 256)               0         \n",
            "                                                                 \n",
            " dense_25 (Dense)            (None, 128)               32896     \n",
            "                                                                 \n",
            " dropout_17 (Dropout)        (None, 128)               0         \n",
            "                                                                 \n",
            " dense_26 (Dense)            (None, 2)                 258       \n",
            "                                                                 \n",
            "=================================================================\n",
            "Total params: 1,695,394\n",
            "Trainable params: 1,695,394\n",
            "Non-trainable params: 0\n",
            "_________________________________________________________________\n"
          ]
        }
      ]
    },
    {
      "cell_type": "code",
      "source": [
        "# Building the Convolutonal Network Model 2.2.1 Version 1\n",
        "\n",
        "# Setting up the output with the right size\n",
        "input = Input(shape=(96,96,3))\n",
        "\n",
        "# Sigmoid activation functions only with softmax for the last Dense layer\n",
        "\n",
        "x = Conv2D(16, (3,3), activation='sigmoid', padding='valid')(input)\n",
        "x = MaxPool2D(pool_size=(2,2), strides=(2,2))(x)\n",
        "x = Conv2D(32, (3,3), activation='sigmoid', padding='valid')(x)\n",
        "x = MaxPool2D(pool_size=(2,2), strides=(2,2))(x)\n",
        "x = Conv2D(64, (3,3), activation='sigmoid', padding='valid')(x)\n",
        "x = MaxPool2D(pool_size=(2,2), strides=(2,2))(x)\n",
        "x = Flatten()(x)\n",
        "x = Dense(256, activation='sigmoid')(x)\n",
        "x = Dropout(rate=0.3)(x)\n",
        "x = Dense(128, activation='sigmoid')(x)\n",
        "x = Dropout(rate=0.2)(x)\n",
        "output = Dense(2, activation='softmax')(x)\n",
        "\n",
        "# Optimizer = sgd\n",
        "# Loss function = MSE\n",
        "model_2_2_1_version_1 = Model(inputs=input, outputs = output)\n",
        "model_2_2_1_version_1.compile(optimizer='sgd', \n",
        "              loss='MSE',\n",
        "              metrics=['acc'])\n",
        "\n",
        "model_2_2_1_version_1.summary()\n",
        "#plot_model(model_2_2_1_version_1)"
      ],
      "metadata": {
        "colab": {
          "base_uri": "https://localhost:8080/"
        },
        "id": "yU_N10A46b4r",
        "outputId": "13c37f4e-1960-42b8-e85b-c6e778f3453b"
      },
      "execution_count": 9,
      "outputs": [
        {
          "output_type": "stream",
          "name": "stdout",
          "text": [
            "Model: \"model\"\n",
            "_________________________________________________________________\n",
            " Layer (type)                Output Shape              Param #   \n",
            "=================================================================\n",
            " input_1 (InputLayer)        [(None, 96, 96, 3)]       0         \n",
            "                                                                 \n",
            " conv2d (Conv2D)             (None, 94, 94, 16)        448       \n",
            "                                                                 \n",
            " max_pooling2d (MaxPooling2D  (None, 47, 47, 16)       0         \n",
            " )                                                               \n",
            "                                                                 \n",
            " conv2d_1 (Conv2D)           (None, 45, 45, 32)        4640      \n",
            "                                                                 \n",
            " max_pooling2d_1 (MaxPooling  (None, 22, 22, 32)       0         \n",
            " 2D)                                                             \n",
            "                                                                 \n",
            " conv2d_2 (Conv2D)           (None, 20, 20, 64)        18496     \n",
            "                                                                 \n",
            " max_pooling2d_2 (MaxPooling  (None, 10, 10, 64)       0         \n",
            " 2D)                                                             \n",
            "                                                                 \n",
            " flatten (Flatten)           (None, 6400)              0         \n",
            "                                                                 \n",
            " dense (Dense)               (None, 256)               1638656   \n",
            "                                                                 \n",
            " dropout (Dropout)           (None, 256)               0         \n",
            "                                                                 \n",
            " dense_1 (Dense)             (None, 128)               32896     \n",
            "                                                                 \n",
            " dropout_1 (Dropout)         (None, 128)               0         \n",
            "                                                                 \n",
            " dense_2 (Dense)             (None, 2)                 258       \n",
            "                                                                 \n",
            "=================================================================\n",
            "Total params: 1,695,394\n",
            "Trainable params: 1,695,394\n",
            "Non-trainable params: 0\n",
            "_________________________________________________________________\n"
          ]
        }
      ]
    },
    {
      "cell_type": "code",
      "source": [
        "# Building the Convolutonal Network Model 2.2.2 Version 1\n",
        "\n",
        "# Setting up the output with the right size\n",
        "input = Input(shape=(96,96,3))\n",
        "\n",
        "# Sigmoid activation functions only with softmax for the last Dense layer\n",
        "\n",
        "x = Conv2D(16, (3,3), activation='sigmoid', padding='valid')(input)\n",
        "x = MaxPool2D(pool_size=(2,2), strides=(2,2))(x)\n",
        "x = Conv2D(32, (3,3), activation='sigmoid', padding='valid')(x)\n",
        "x = MaxPool2D(pool_size=(2,2), strides=(2,2))(x)\n",
        "x = Conv2D(64, (3,3), activation='sigmoid', padding='valid')(x)\n",
        "x = MaxPool2D(pool_size=(2,2), strides=(2,2))(x)\n",
        "x = Flatten()(x)\n",
        "x = Dense(256, activation='sigmoid')(x)\n",
        "x = Dropout(rate=0.3)(x)\n",
        "x = Dense(128, activation='sigmoid')(x)\n",
        "x = Dropout(rate=0.2)(x)\n",
        "output = Dense(2, activation='softmax')(x)\n",
        "\n",
        "# Optimizer = Adagrad\n",
        "# Loss function = MSE\n",
        "model_2_2_2_version_1 = Model(inputs=input, outputs = output)\n",
        "model_2_2_2_version_1.compile(optimizer='adagrad', \n",
        "              loss='MSE',\n",
        "              metrics=['acc'])\n",
        "\n",
        "model_2_2_2_version_1.summary()\n",
        "#plot_model(model_2_2_2_version_1)"
      ],
      "metadata": {
        "colab": {
          "base_uri": "https://localhost:8080/"
        },
        "id": "g44cRYnU6b7J",
        "outputId": "0780e2a5-422b-4767-89f0-5139c79493e5"
      },
      "execution_count": 10,
      "outputs": [
        {
          "output_type": "stream",
          "name": "stdout",
          "text": [
            "Model: \"model_1\"\n",
            "_________________________________________________________________\n",
            " Layer (type)                Output Shape              Param #   \n",
            "=================================================================\n",
            " input_2 (InputLayer)        [(None, 96, 96, 3)]       0         \n",
            "                                                                 \n",
            " conv2d_3 (Conv2D)           (None, 94, 94, 16)        448       \n",
            "                                                                 \n",
            " max_pooling2d_3 (MaxPooling  (None, 47, 47, 16)       0         \n",
            " 2D)                                                             \n",
            "                                                                 \n",
            " conv2d_4 (Conv2D)           (None, 45, 45, 32)        4640      \n",
            "                                                                 \n",
            " max_pooling2d_4 (MaxPooling  (None, 22, 22, 32)       0         \n",
            " 2D)                                                             \n",
            "                                                                 \n",
            " conv2d_5 (Conv2D)           (None, 20, 20, 64)        18496     \n",
            "                                                                 \n",
            " max_pooling2d_5 (MaxPooling  (None, 10, 10, 64)       0         \n",
            " 2D)                                                             \n",
            "                                                                 \n",
            " flatten_1 (Flatten)         (None, 6400)              0         \n",
            "                                                                 \n",
            " dense_3 (Dense)             (None, 256)               1638656   \n",
            "                                                                 \n",
            " dropout_2 (Dropout)         (None, 256)               0         \n",
            "                                                                 \n",
            " dense_4 (Dense)             (None, 128)               32896     \n",
            "                                                                 \n",
            " dropout_3 (Dropout)         (None, 128)               0         \n",
            "                                                                 \n",
            " dense_5 (Dense)             (None, 2)                 258       \n",
            "                                                                 \n",
            "=================================================================\n",
            "Total params: 1,695,394\n",
            "Trainable params: 1,695,394\n",
            "Non-trainable params: 0\n",
            "_________________________________________________________________\n"
          ]
        }
      ]
    },
    {
      "cell_type": "code",
      "source": [
        "# Building the Convolutonal Network Model 2.2.3 Version 1\n",
        "\n",
        "# Setting up the output with the right size\n",
        "input = Input(shape=(96,96,3))\n",
        "\n",
        "# Sigmoid activation functions only with softmax for the last Dense layer\n",
        "\n",
        "x = Conv2D(16, (3,3), activation='sigmoid', padding='valid')(input)\n",
        "x = MaxPool2D(pool_size=(2,2), strides=(2,2))(x)\n",
        "x = Conv2D(32, (3,3), activation='sigmoid', padding='valid')(x)\n",
        "x = MaxPool2D(pool_size=(2,2), strides=(2,2))(x)\n",
        "x = Conv2D(64, (3,3), activation='sigmoid', padding='valid')(x)\n",
        "x = MaxPool2D(pool_size=(2,2), strides=(2,2))(x)\n",
        "x = Flatten()(x)\n",
        "x = Dense(256, activation='sigmoid')(x)\n",
        "x = Dropout(rate=0.3)(x)\n",
        "x = Dense(128, activation='sigmoid')(x)\n",
        "x = Dropout(rate=0.2)(x)\n",
        "output = Dense(2, activation='softmax')(x)\n",
        "\n",
        "# Optimizer = RMSprop\n",
        "# Loss function = MSE\n",
        "model_2_2_3_version_1 = Model(inputs=input, outputs = output)\n",
        "model_2_2_3_version_1.compile(optimizer='RMSprop', \n",
        "              loss='MSE',\n",
        "              metrics=['acc'])\n",
        "\n",
        "model_2_2_3_version_1.summary()\n",
        "#plot_model(model_2_2_3_version_1)"
      ],
      "metadata": {
        "colab": {
          "base_uri": "https://localhost:8080/"
        },
        "id": "MKpa0jSs6b9b",
        "outputId": "7267c563-05a2-4cd6-ff18-9ebd5cb8fff0"
      },
      "execution_count": 11,
      "outputs": [
        {
          "output_type": "stream",
          "name": "stdout",
          "text": [
            "Model: \"model_2\"\n",
            "_________________________________________________________________\n",
            " Layer (type)                Output Shape              Param #   \n",
            "=================================================================\n",
            " input_3 (InputLayer)        [(None, 96, 96, 3)]       0         \n",
            "                                                                 \n",
            " conv2d_6 (Conv2D)           (None, 94, 94, 16)        448       \n",
            "                                                                 \n",
            " max_pooling2d_6 (MaxPooling  (None, 47, 47, 16)       0         \n",
            " 2D)                                                             \n",
            "                                                                 \n",
            " conv2d_7 (Conv2D)           (None, 45, 45, 32)        4640      \n",
            "                                                                 \n",
            " max_pooling2d_7 (MaxPooling  (None, 22, 22, 32)       0         \n",
            " 2D)                                                             \n",
            "                                                                 \n",
            " conv2d_8 (Conv2D)           (None, 20, 20, 64)        18496     \n",
            "                                                                 \n",
            " max_pooling2d_8 (MaxPooling  (None, 10, 10, 64)       0         \n",
            " 2D)                                                             \n",
            "                                                                 \n",
            " flatten_2 (Flatten)         (None, 6400)              0         \n",
            "                                                                 \n",
            " dense_6 (Dense)             (None, 256)               1638656   \n",
            "                                                                 \n",
            " dropout_4 (Dropout)         (None, 256)               0         \n",
            "                                                                 \n",
            " dense_7 (Dense)             (None, 128)               32896     \n",
            "                                                                 \n",
            " dropout_5 (Dropout)         (None, 128)               0         \n",
            "                                                                 \n",
            " dense_8 (Dense)             (None, 2)                 258       \n",
            "                                                                 \n",
            "=================================================================\n",
            "Total params: 1,695,394\n",
            "Trainable params: 1,695,394\n",
            "Non-trainable params: 0\n",
            "_________________________________________________________________\n"
          ]
        }
      ]
    },
    {
      "cell_type": "code",
      "source": [
        "# Building the Convolutonal Network Model 3.1.1 Version 1\n",
        "\n",
        "# Setting up the output with the right size\n",
        "input = Input(shape=(96,96,3))\n",
        "\n",
        "# A conbination of relu and sigmoid activation functions\n",
        "x = Conv2D(16, (3,3), activation='sigmoid', padding='valid')(input)\n",
        "x = MaxPool2D(pool_size=(2,2), strides=(2,2))(x)\n",
        "x = Conv2D(32, (3,3), activation='relu', padding='valid')(x)\n",
        "x = MaxPool2D(pool_size=(2,2), strides=(2,2))(x)\n",
        "x = Conv2D(64, (3,3), activation='sigmoid', padding='valid')(x)\n",
        "x = MaxPool2D(pool_size=(2,2), strides=(2,2))(x)\n",
        "x = Flatten()(x)\n",
        "x = Dense(256, activation='relu')(x)\n",
        "x = Dropout(rate=0.3)(x)\n",
        "x = Dense(128, activation='sigmoid')(x)\n",
        "x = Dropout(rate=0.2)(x)\n",
        "output = Dense(2, activation='softmax')(x)\n",
        "\n",
        "# Optimizer = sgd\n",
        "# Loss function = hinge\n",
        "model_3_1_1_version_1 = Model(inputs=input, outputs = output)\n",
        "model_3_1_1_version_1.compile(optimizer='sgd', \n",
        "              loss=tf.keras.losses.Hinge(),\n",
        "              metrics=['acc'])\n",
        "\n",
        "model_3_1_1_version_1.summary()\n",
        "#plot_model(model_3_1_1_version_1)"
      ],
      "metadata": {
        "colab": {
          "base_uri": "https://localhost:8080/"
        },
        "id": "TgsJ6K_K6cB5",
        "outputId": "1ff0f63d-7108-4470-cbd9-bb28d0125480"
      },
      "execution_count": 12,
      "outputs": [
        {
          "output_type": "stream",
          "name": "stdout",
          "text": [
            "Model: \"model_3\"\n",
            "_________________________________________________________________\n",
            " Layer (type)                Output Shape              Param #   \n",
            "=================================================================\n",
            " input_4 (InputLayer)        [(None, 96, 96, 3)]       0         \n",
            "                                                                 \n",
            " conv2d_9 (Conv2D)           (None, 94, 94, 16)        448       \n",
            "                                                                 \n",
            " max_pooling2d_9 (MaxPooling  (None, 47, 47, 16)       0         \n",
            " 2D)                                                             \n",
            "                                                                 \n",
            " conv2d_10 (Conv2D)          (None, 45, 45, 32)        4640      \n",
            "                                                                 \n",
            " max_pooling2d_10 (MaxPoolin  (None, 22, 22, 32)       0         \n",
            " g2D)                                                            \n",
            "                                                                 \n",
            " conv2d_11 (Conv2D)          (None, 20, 20, 64)        18496     \n",
            "                                                                 \n",
            " max_pooling2d_11 (MaxPoolin  (None, 10, 10, 64)       0         \n",
            " g2D)                                                            \n",
            "                                                                 \n",
            " flatten_3 (Flatten)         (None, 6400)              0         \n",
            "                                                                 \n",
            " dense_9 (Dense)             (None, 256)               1638656   \n",
            "                                                                 \n",
            " dropout_6 (Dropout)         (None, 256)               0         \n",
            "                                                                 \n",
            " dense_10 (Dense)            (None, 128)               32896     \n",
            "                                                                 \n",
            " dropout_7 (Dropout)         (None, 128)               0         \n",
            "                                                                 \n",
            " dense_11 (Dense)            (None, 2)                 258       \n",
            "                                                                 \n",
            "=================================================================\n",
            "Total params: 1,695,394\n",
            "Trainable params: 1,695,394\n",
            "Non-trainable params: 0\n",
            "_________________________________________________________________\n"
          ]
        }
      ]
    },
    {
      "cell_type": "code",
      "source": [
        "# Building the Convolutonal Network Model 3.1.2 Version 1\n",
        "\n",
        "# Setting up the output with the right size\n",
        "input = Input(shape=(96,96,3))\n",
        "\n",
        "# A conbination of relu and sigmoid activation functions\n",
        "x = Conv2D(16, (3,3), activation='sigmoid', padding='valid')(input)\n",
        "x = MaxPool2D(pool_size=(2,2), strides=(2,2))(x)\n",
        "x = Conv2D(32, (3,3), activation='relu', padding='valid')(x)\n",
        "x = MaxPool2D(pool_size=(2,2), strides=(2,2))(x)\n",
        "x = Conv2D(64, (3,3), activation='sigmoid', padding='valid')(x)\n",
        "x = MaxPool2D(pool_size=(2,2), strides=(2,2))(x)\n",
        "x = Flatten()(x)\n",
        "x = Dense(256, activation='relu')(x)\n",
        "x = Dropout(rate=0.3)(x)\n",
        "x = Dense(128, activation='sigmoid')(x)\n",
        "x = Dropout(rate=0.2)(x)\n",
        "output = Dense(2, activation='softmax')(x)\n",
        "\n",
        "# Optimizer = Adagrad\n",
        "# Loss function = hinge\n",
        "model_3_1_2_version_1 = Model(inputs=input, outputs = output)\n",
        "model_3_1_2_version_1.compile(optimizer='adagrad', \n",
        "              loss=tf.keras.losses.Hinge(),\n",
        "              metrics=['acc'])\n",
        "\n",
        "model_3_1_2_version_1.summary()\n",
        "#plot_model(model_3_1_2_version_1)"
      ],
      "metadata": {
        "colab": {
          "base_uri": "https://localhost:8080/"
        },
        "id": "bVr13eEb6cEB",
        "outputId": "b76152fb-02d3-4c03-e883-9168cbe78fd0"
      },
      "execution_count": 13,
      "outputs": [
        {
          "output_type": "stream",
          "name": "stdout",
          "text": [
            "Model: \"model_4\"\n",
            "_________________________________________________________________\n",
            " Layer (type)                Output Shape              Param #   \n",
            "=================================================================\n",
            " input_5 (InputLayer)        [(None, 96, 96, 3)]       0         \n",
            "                                                                 \n",
            " conv2d_12 (Conv2D)          (None, 94, 94, 16)        448       \n",
            "                                                                 \n",
            " max_pooling2d_12 (MaxPoolin  (None, 47, 47, 16)       0         \n",
            " g2D)                                                            \n",
            "                                                                 \n",
            " conv2d_13 (Conv2D)          (None, 45, 45, 32)        4640      \n",
            "                                                                 \n",
            " max_pooling2d_13 (MaxPoolin  (None, 22, 22, 32)       0         \n",
            " g2D)                                                            \n",
            "                                                                 \n",
            " conv2d_14 (Conv2D)          (None, 20, 20, 64)        18496     \n",
            "                                                                 \n",
            " max_pooling2d_14 (MaxPoolin  (None, 10, 10, 64)       0         \n",
            " g2D)                                                            \n",
            "                                                                 \n",
            " flatten_4 (Flatten)         (None, 6400)              0         \n",
            "                                                                 \n",
            " dense_12 (Dense)            (None, 256)               1638656   \n",
            "                                                                 \n",
            " dropout_8 (Dropout)         (None, 256)               0         \n",
            "                                                                 \n",
            " dense_13 (Dense)            (None, 128)               32896     \n",
            "                                                                 \n",
            " dropout_9 (Dropout)         (None, 128)               0         \n",
            "                                                                 \n",
            " dense_14 (Dense)            (None, 2)                 258       \n",
            "                                                                 \n",
            "=================================================================\n",
            "Total params: 1,695,394\n",
            "Trainable params: 1,695,394\n",
            "Non-trainable params: 0\n",
            "_________________________________________________________________\n"
          ]
        }
      ]
    },
    {
      "cell_type": "code",
      "source": [
        "# Building the Convolutonal Network Model 3.1.3 Version 1\n",
        "\n",
        "# Setting up the output with the right size\n",
        "input = Input(shape=(96,96,3))\n",
        "\n",
        "# A conbination of relu and sigmoid activation functions\n",
        "x = Conv2D(16, (3,3), activation='sigmoid', padding='valid')(input)\n",
        "x = MaxPool2D(pool_size=(2,2), strides=(2,2))(x)\n",
        "x = Conv2D(32, (3,3), activation='relu', padding='valid')(x)\n",
        "x = MaxPool2D(pool_size=(2,2), strides=(2,2))(x)\n",
        "x = Conv2D(64, (3,3), activation='sigmoid', padding='valid')(x)\n",
        "x = MaxPool2D(pool_size=(2,2), strides=(2,2))(x)\n",
        "x = Flatten()(x)\n",
        "x = Dense(256, activation='relu')(x)\n",
        "x = Dropout(rate=0.3)(x)\n",
        "x = Dense(128, activation='sigmoid')(x)\n",
        "x = Dropout(rate=0.2)(x)\n",
        "output = Dense(2, activation='softmax')(x)\n",
        "\n",
        "# Optimizer = RMSprop\n",
        "# Loss function = hinge\n",
        "model_3_1_3_version_1 = Model(inputs=input, outputs = output)\n",
        "model_3_1_3_version_1.compile(optimizer='RMSprop', \n",
        "              loss=tf.keras.losses.Hinge(),\n",
        "              metrics=['acc'])\n",
        "\n",
        "model_3_1_3_version_1.summary()\n",
        "#plot_model(model_3_1_3_version_1)"
      ],
      "metadata": {
        "colab": {
          "base_uri": "https://localhost:8080/"
        },
        "id": "8V3JMgtd6cGQ",
        "outputId": "3c80b2f5-a471-48a8-aa2d-d5985a2ec3a2"
      },
      "execution_count": 14,
      "outputs": [
        {
          "output_type": "stream",
          "name": "stdout",
          "text": [
            "Model: \"model_5\"\n",
            "_________________________________________________________________\n",
            " Layer (type)                Output Shape              Param #   \n",
            "=================================================================\n",
            " input_6 (InputLayer)        [(None, 96, 96, 3)]       0         \n",
            "                                                                 \n",
            " conv2d_15 (Conv2D)          (None, 94, 94, 16)        448       \n",
            "                                                                 \n",
            " max_pooling2d_15 (MaxPoolin  (None, 47, 47, 16)       0         \n",
            " g2D)                                                            \n",
            "                                                                 \n",
            " conv2d_16 (Conv2D)          (None, 45, 45, 32)        4640      \n",
            "                                                                 \n",
            " max_pooling2d_16 (MaxPoolin  (None, 22, 22, 32)       0         \n",
            " g2D)                                                            \n",
            "                                                                 \n",
            " conv2d_17 (Conv2D)          (None, 20, 20, 64)        18496     \n",
            "                                                                 \n",
            " max_pooling2d_17 (MaxPoolin  (None, 10, 10, 64)       0         \n",
            " g2D)                                                            \n",
            "                                                                 \n",
            " flatten_5 (Flatten)         (None, 6400)              0         \n",
            "                                                                 \n",
            " dense_15 (Dense)            (None, 256)               1638656   \n",
            "                                                                 \n",
            " dropout_10 (Dropout)        (None, 256)               0         \n",
            "                                                                 \n",
            " dense_16 (Dense)            (None, 128)               32896     \n",
            "                                                                 \n",
            " dropout_11 (Dropout)        (None, 128)               0         \n",
            "                                                                 \n",
            " dense_17 (Dense)            (None, 2)                 258       \n",
            "                                                                 \n",
            "=================================================================\n",
            "Total params: 1,695,394\n",
            "Trainable params: 1,695,394\n",
            "Non-trainable params: 0\n",
            "_________________________________________________________________\n"
          ]
        }
      ]
    },
    {
      "cell_type": "code",
      "source": [
        "# Building the Convolutonal Network Model 3.2.1 Version 1\n",
        "\n",
        "# Setting up the output with the right size\n",
        "input = Input(shape=(96,96,3))\n",
        "\n",
        "# A conbination of relu and sigmoid activation functions\n",
        "x = Conv2D(16, (3,3), activation='sigmoid', padding='valid')(input)\n",
        "x = MaxPool2D(pool_size=(2,2), strides=(2,2))(x)\n",
        "x = Conv2D(32, (3,3), activation='relu', padding='valid')(x)\n",
        "x = MaxPool2D(pool_size=(2,2), strides=(2,2))(x)\n",
        "x = Conv2D(64, (3,3), activation='sigmoid', padding='valid')(x)\n",
        "x = MaxPool2D(pool_size=(2,2), strides=(2,2))(x)\n",
        "x = Flatten()(x)\n",
        "x = Dense(256, activation='relu')(x)\n",
        "x = Dropout(rate=0.3)(x)\n",
        "x = Dense(128, activation='sigmoid')(x)\n",
        "x = Dropout(rate=0.2)(x)\n",
        "output = Dense(2, activation='softmax')(x)\n",
        "\n",
        "# Optimizer = sgd\n",
        "# Loss function = MSE\n",
        "model_3_2_1_version_1 = Model(inputs=input, outputs = output)\n",
        "model_3_2_1_version_1.compile(optimizer='sgd', \n",
        "              loss='MSE',\n",
        "              metrics=['acc'])\n",
        "\n",
        "model_3_2_1_version_1.summary()\n",
        "#plot_model(model_3_2_1_version_1)"
      ],
      "metadata": {
        "colab": {
          "base_uri": "https://localhost:8080/"
        },
        "id": "1Cm6V_4I6cIb",
        "outputId": "536cac61-b370-41a9-981a-8a57716b0310"
      },
      "execution_count": 15,
      "outputs": [
        {
          "output_type": "stream",
          "name": "stdout",
          "text": [
            "Model: \"model_6\"\n",
            "_________________________________________________________________\n",
            " Layer (type)                Output Shape              Param #   \n",
            "=================================================================\n",
            " input_7 (InputLayer)        [(None, 96, 96, 3)]       0         \n",
            "                                                                 \n",
            " conv2d_18 (Conv2D)          (None, 94, 94, 16)        448       \n",
            "                                                                 \n",
            " max_pooling2d_18 (MaxPoolin  (None, 47, 47, 16)       0         \n",
            " g2D)                                                            \n",
            "                                                                 \n",
            " conv2d_19 (Conv2D)          (None, 45, 45, 32)        4640      \n",
            "                                                                 \n",
            " max_pooling2d_19 (MaxPoolin  (None, 22, 22, 32)       0         \n",
            " g2D)                                                            \n",
            "                                                                 \n",
            " conv2d_20 (Conv2D)          (None, 20, 20, 64)        18496     \n",
            "                                                                 \n",
            " max_pooling2d_20 (MaxPoolin  (None, 10, 10, 64)       0         \n",
            " g2D)                                                            \n",
            "                                                                 \n",
            " flatten_6 (Flatten)         (None, 6400)              0         \n",
            "                                                                 \n",
            " dense_18 (Dense)            (None, 256)               1638656   \n",
            "                                                                 \n",
            " dropout_12 (Dropout)        (None, 256)               0         \n",
            "                                                                 \n",
            " dense_19 (Dense)            (None, 128)               32896     \n",
            "                                                                 \n",
            " dropout_13 (Dropout)        (None, 128)               0         \n",
            "                                                                 \n",
            " dense_20 (Dense)            (None, 2)                 258       \n",
            "                                                                 \n",
            "=================================================================\n",
            "Total params: 1,695,394\n",
            "Trainable params: 1,695,394\n",
            "Non-trainable params: 0\n",
            "_________________________________________________________________\n"
          ]
        }
      ]
    },
    {
      "cell_type": "code",
      "source": [
        "# Building the Convolutonal Network Model 3.2.2 Version 1\n",
        "\n",
        "# Setting up the output with the right size\n",
        "input = Input(shape=(96,96,3))\n",
        "\n",
        "# A conbination of relu and sigmoid activation functions\n",
        "x = Conv2D(16, (3,3), activation='sigmoid', padding='valid')(input)\n",
        "x = MaxPool2D(pool_size=(2,2), strides=(2,2))(x)\n",
        "x = Conv2D(32, (3,3), activation='relu', padding='valid')(x)\n",
        "x = MaxPool2D(pool_size=(2,2), strides=(2,2))(x)\n",
        "x = Conv2D(64, (3,3), activation='sigmoid', padding='valid')(x)\n",
        "x = MaxPool2D(pool_size=(2,2), strides=(2,2))(x)\n",
        "x = Flatten()(x)\n",
        "x = Dense(256, activation='relu')(x)\n",
        "x = Dropout(rate=0.3)(x)\n",
        "x = Dense(128, activation='sigmoid')(x)\n",
        "x = Dropout(rate=0.2)(x)\n",
        "output = Dense(2, activation='softmax')(x)\n",
        "\n",
        "# Optimizer = Adagrad\n",
        "# Loss function = MSE\n",
        "model_3_2_2_version_1 = Model(inputs=input, outputs = output)\n",
        "model_3_2_2_version_1.compile(optimizer='Adagrad', \n",
        "              loss='MSE',\n",
        "              metrics=['acc'])\n",
        "\n",
        "model_3_2_2_version_1.summary()\n",
        "#plot_model(model_3_2_2_version_1)"
      ],
      "metadata": {
        "colab": {
          "base_uri": "https://localhost:8080/"
        },
        "id": "qJQ88zRD6cKi",
        "outputId": "1f942449-eec6-412d-bb12-9ed972d8f36b"
      },
      "execution_count": 16,
      "outputs": [
        {
          "output_type": "stream",
          "name": "stdout",
          "text": [
            "Model: \"model_7\"\n",
            "_________________________________________________________________\n",
            " Layer (type)                Output Shape              Param #   \n",
            "=================================================================\n",
            " input_8 (InputLayer)        [(None, 96, 96, 3)]       0         \n",
            "                                                                 \n",
            " conv2d_21 (Conv2D)          (None, 94, 94, 16)        448       \n",
            "                                                                 \n",
            " max_pooling2d_21 (MaxPoolin  (None, 47, 47, 16)       0         \n",
            " g2D)                                                            \n",
            "                                                                 \n",
            " conv2d_22 (Conv2D)          (None, 45, 45, 32)        4640      \n",
            "                                                                 \n",
            " max_pooling2d_22 (MaxPoolin  (None, 22, 22, 32)       0         \n",
            " g2D)                                                            \n",
            "                                                                 \n",
            " conv2d_23 (Conv2D)          (None, 20, 20, 64)        18496     \n",
            "                                                                 \n",
            " max_pooling2d_23 (MaxPoolin  (None, 10, 10, 64)       0         \n",
            " g2D)                                                            \n",
            "                                                                 \n",
            " flatten_7 (Flatten)         (None, 6400)              0         \n",
            "                                                                 \n",
            " dense_21 (Dense)            (None, 256)               1638656   \n",
            "                                                                 \n",
            " dropout_14 (Dropout)        (None, 256)               0         \n",
            "                                                                 \n",
            " dense_22 (Dense)            (None, 128)               32896     \n",
            "                                                                 \n",
            " dropout_15 (Dropout)        (None, 128)               0         \n",
            "                                                                 \n",
            " dense_23 (Dense)            (None, 2)                 258       \n",
            "                                                                 \n",
            "=================================================================\n",
            "Total params: 1,695,394\n",
            "Trainable params: 1,695,394\n",
            "Non-trainable params: 0\n",
            "_________________________________________________________________\n"
          ]
        }
      ]
    },
    {
      "cell_type": "code",
      "source": [
        "# Building the Convolutonal Network Model 3.2.3 Version 1\n",
        "\n",
        "# Setting up the output with the right size\n",
        "input = Input(shape=(96,96,3))\n",
        "\n",
        "# A conbination of relu and sigmoid activation functions\n",
        "x = Conv2D(16, (3,3), activation='sigmoid', padding='valid')(input)\n",
        "x = MaxPool2D(pool_size=(2,2), strides=(2,2))(x)\n",
        "x = Conv2D(32, (3,3), activation='relu', padding='valid')(x)\n",
        "x = MaxPool2D(pool_size=(2,2), strides=(2,2))(x)\n",
        "x = Conv2D(64, (3,3), activation='sigmoid', padding='valid')(x)\n",
        "x = MaxPool2D(pool_size=(2,2), strides=(2,2))(x)\n",
        "x = Flatten()(x)\n",
        "x = Dense(256, activation='relu')(x)\n",
        "x = Dropout(rate=0.3)(x)\n",
        "x = Dense(128, activation='sigmoid')(x)\n",
        "x = Dropout(rate=0.2)(x)\n",
        "output = Dense(2, activation='softmax')(x)\n",
        "\n",
        "# Optimizer = RMSprop\n",
        "# Loss function = MSE\n",
        "model_3_2_3_version_1 = Model(inputs=input, outputs = output)\n",
        "model_3_2_3_version_1.compile(optimizer='RMSprop', \n",
        "              loss='MSE',\n",
        "              metrics=['acc'])\n",
        "\n",
        "model_3_2_3_version_1.summary()\n",
        "#plot_model(model_3_2_3_version_1)"
      ],
      "metadata": {
        "colab": {
          "base_uri": "https://localhost:8080/"
        },
        "id": "1y3NHC-i6cM1",
        "outputId": "931676c6-9819-4c43-eea7-2182d5e51566"
      },
      "execution_count": 17,
      "outputs": [
        {
          "output_type": "stream",
          "name": "stdout",
          "text": [
            "Model: \"model_8\"\n",
            "_________________________________________________________________\n",
            " Layer (type)                Output Shape              Param #   \n",
            "=================================================================\n",
            " input_9 (InputLayer)        [(None, 96, 96, 3)]       0         \n",
            "                                                                 \n",
            " conv2d_24 (Conv2D)          (None, 94, 94, 16)        448       \n",
            "                                                                 \n",
            " max_pooling2d_24 (MaxPoolin  (None, 47, 47, 16)       0         \n",
            " g2D)                                                            \n",
            "                                                                 \n",
            " conv2d_25 (Conv2D)          (None, 45, 45, 32)        4640      \n",
            "                                                                 \n",
            " max_pooling2d_25 (MaxPoolin  (None, 22, 22, 32)       0         \n",
            " g2D)                                                            \n",
            "                                                                 \n",
            " conv2d_26 (Conv2D)          (None, 20, 20, 64)        18496     \n",
            "                                                                 \n",
            " max_pooling2d_26 (MaxPoolin  (None, 10, 10, 64)       0         \n",
            " g2D)                                                            \n",
            "                                                                 \n",
            " flatten_8 (Flatten)         (None, 6400)              0         \n",
            "                                                                 \n",
            " dense_24 (Dense)            (None, 256)               1638656   \n",
            "                                                                 \n",
            " dropout_16 (Dropout)        (None, 256)               0         \n",
            "                                                                 \n",
            " dense_25 (Dense)            (None, 128)               32896     \n",
            "                                                                 \n",
            " dropout_17 (Dropout)        (None, 128)               0         \n",
            "                                                                 \n",
            " dense_26 (Dense)            (None, 2)                 258       \n",
            "                                                                 \n",
            "=================================================================\n",
            "Total params: 1,695,394\n",
            "Trainable params: 1,695,394\n",
            "Non-trainable params: 0\n",
            "_________________________________________________________________\n"
          ]
        }
      ]
    },
    {
      "cell_type": "code",
      "source": [
        "import matplotlib.pyplot as plt\n",
        "\n",
        "def plot_hist(history):\n",
        "  plt.plot(history.history[\"acc\"])\n",
        "  plt.plot(history.history[\"val_acc\"])\n",
        "  plt.title(\"Model Accuracy\")\n",
        "  plt.ylabel(\"Accuracy\")\n",
        "  plt.xlabel(\"Epochs\")\n",
        "  plt.legend([\"train\", \"validation\"], loc=\"upper left\")\n",
        "  plt.show()"
      ],
      "metadata": {
        "id": "8LQnGysc6cRi"
      },
      "execution_count": 18,
      "outputs": []
    },
    {
      "cell_type": "code",
      "source": [
        "# Training the model 1.1.1 Version 1\n",
        "\n",
        "history_1_1_1_version_1= model_1_1_1_version_1.fit(train_ds, validation_data=validation_ds, epochs = 10, verbose = 1, steps_per_epoch=steps_per_epoch, validation_steps=validation_steps)\n",
        "plot_hist(history_1_1_1_version_1)"
      ],
      "metadata": {
        "colab": {
          "base_uri": "https://localhost:8080/",
          "height": 662
        },
        "id": "H0OVO3OC6cYd",
        "outputId": "ab415c5b-568d-4c73-cd9a-5f641171b6f5"
      },
      "execution_count": null,
      "outputs": [
        {
          "output_type": "stream",
          "name": "stdout",
          "text": [
            "Epoch 1/10\n",
            "4096/4096 [==============================] - 158s 36ms/step - loss: 0.7868 - acc: 0.7229 - val_loss: 0.7532 - val_acc: 0.7472\n",
            "Epoch 2/10\n",
            "4096/4096 [==============================] - 145s 35ms/step - loss: 0.7215 - acc: 0.7801 - val_loss: 0.7419 - val_acc: 0.7599\n",
            "Epoch 3/10\n",
            "4096/4096 [==============================] - 149s 36ms/step - loss: 0.7082 - acc: 0.7933 - val_loss: 0.7351 - val_acc: 0.7661\n",
            "Epoch 4/10\n",
            "4096/4096 [==============================] - 145s 35ms/step - loss: 0.6937 - acc: 0.8085 - val_loss: 0.7116 - val_acc: 0.7897\n",
            "Epoch 5/10\n",
            "4096/4096 [==============================] - 149s 36ms/step - loss: 0.6777 - acc: 0.8250 - val_loss: 0.7137 - val_acc: 0.7882\n",
            "Epoch 6/10\n",
            "4096/4096 [==============================] - 173s 42ms/step - loss: 0.6678 - acc: 0.8346 - val_loss: 0.7082 - val_acc: 0.7928\n",
            "Epoch 7/10\n",
            "4096/4096 [==============================] - 149s 36ms/step - loss: 0.6598 - acc: 0.8426 - val_loss: 0.6930 - val_acc: 0.8086\n",
            "Epoch 8/10\n",
            "4096/4096 [==============================] - 147s 36ms/step - loss: 0.6538 - acc: 0.8483 - val_loss: 0.6843 - val_acc: 0.8198\n",
            "Epoch 9/10\n",
            "4096/4096 [==============================] - 148s 36ms/step - loss: 0.6487 - acc: 0.8531 - val_loss: 0.7089 - val_acc: 0.7924\n",
            "Epoch 10/10\n",
            "4096/4096 [==============================] - 145s 35ms/step - loss: 0.6447 - acc: 0.8571 - val_loss: 0.7135 - val_acc: 0.7874\n"
          ]
        },
        {
          "output_type": "display_data",
          "data": {
            "text/plain": [
              "<Figure size 432x288 with 1 Axes>"
            ],
            "image/png": "[encoded data removed]"
          },
          "metadata": {
            "needs_background": "light"
          }
        }
      ]
    },
    {
      "cell_type": "code",
      "source": [
        "# Training the model 1.1.2 Version 1\n",
        "\n",
        "history_1_1_2_version_1= model_1_1_2_version_1.fit(train_ds, validation_data=validation_ds, epochs = 10, verbose = 1, steps_per_epoch=steps_per_epoch, validation_steps=validation_steps)\n",
        "plot_hist(history_1_1_2_version_1)"
      ],
      "metadata": {
        "colab": {
          "base_uri": "https://localhost:8080/",
          "height": 662
        },
        "id": "_0NijtZD6cbE",
        "outputId": "6a83724f-1a4c-40f5-c514-ada617c5c426"
      },
      "execution_count": null,
      "outputs": [
        {
          "output_type": "stream",
          "name": "stdout",
          "text": [
            "Epoch 1/10\n",
            "4096/4096 [==============================] - 154s 37ms/step - loss: 0.8280 - acc: 0.7052 - val_loss: 0.7499 - val_acc: 0.7560\n",
            "Epoch 2/10\n",
            "4096/4096 [==============================] - 143s 35ms/step - loss: 0.7265 - acc: 0.7802 - val_loss: 0.7440 - val_acc: 0.7590\n",
            "Epoch 3/10\n",
            "4096/4096 [==============================] - 152s 37ms/step - loss: 0.7207 - acc: 0.7832 - val_loss: 0.7432 - val_acc: 0.7593\n",
            "Epoch 4/10\n",
            "4096/4096 [==============================] - 170s 42ms/step - loss: 0.7178 - acc: 0.7851 - val_loss: 0.7422 - val_acc: 0.7595\n",
            "Epoch 5/10\n",
            "4096/4096 [==============================] - 148s 36ms/step - loss: 0.7160 - acc: 0.7864 - val_loss: 0.7376 - val_acc: 0.7623\n",
            "Epoch 6/10\n",
            "4096/4096 [==============================] - 149s 36ms/step - loss: 0.7145 - acc: 0.7878 - val_loss: 0.7366 - val_acc: 0.7630\n",
            "Epoch 7/10\n",
            "4096/4096 [==============================] - 147s 36ms/step - loss: 0.7133 - acc: 0.7887 - val_loss: 0.7377 - val_acc: 0.7639\n",
            "Epoch 8/10\n",
            "4096/4096 [==============================] - 151s 37ms/step - loss: 0.7122 - acc: 0.7899 - val_loss: 0.7369 - val_acc: 0.7635\n",
            "Epoch 9/10\n",
            "4096/4096 [==============================] - 146s 36ms/step - loss: 0.7113 - acc: 0.7908 - val_loss: 0.7314 - val_acc: 0.7685\n",
            "Epoch 10/10\n",
            "4096/4096 [==============================] - 149s 36ms/step - loss: 0.7106 - acc: 0.7914 - val_loss: 0.7326 - val_acc: 0.7672\n"
          ]
        },
        {
          "output_type": "display_data",
          "data": {
            "text/plain": [
              "<Figure size 432x288 with 1 Axes>"
            ],
            "image/png": "[encoded data removed]"
          },
          "metadata": {
            "needs_background": "light"
          }
        }
      ]
    },
    {
      "cell_type": "code",
      "source": [
        "# Training the model 1.1.3 Version 1\n",
        "\n",
        "history_1_1_3_version_1= model_1_1_3_version_1.fit(train_ds, validation_data=validation_ds, epochs = 10, verbose = 1, steps_per_epoch=steps_per_epoch, validation_steps=validation_steps)\n",
        "plot_hist(history_1_1_3_version_1)"
      ],
      "metadata": {
        "colab": {
          "base_uri": "https://localhost:8080/",
          "height": 662
        },
        "id": "FfeexYpU7NLh",
        "outputId": "f5adbb1e-067f-4c6d-805b-a7365ca700d9"
      },
      "execution_count": null,
      "outputs": [
        {
          "output_type": "stream",
          "name": "stdout",
          "text": [
            "Epoch 1/10\n",
            "4096/4096 [==============================] - 150s 36ms/step - loss: 0.7747 - acc: 0.7255 - val_loss: 0.7681 - val_acc: 0.7318\n",
            "Epoch 2/10\n",
            "4096/4096 [==============================] - 170s 41ms/step - loss: 0.8715 - acc: 0.6285 - val_loss: 0.9996 - val_acc: 0.5004\n",
            "Epoch 3/10\n",
            "4096/4096 [==============================] - 147s 36ms/step - loss: 1.0000 - acc: 0.5000 - val_loss: 0.9995 - val_acc: 0.5005\n",
            "Epoch 4/10\n",
            "4096/4096 [==============================] - 149s 36ms/step - loss: 1.0000 - acc: 0.5000 - val_loss: 0.9995 - val_acc: 0.5005\n",
            "Epoch 5/10\n",
            "4096/4096 [==============================] - 150s 37ms/step - loss: 1.0000 - acc: 0.5000 - val_loss: 0.9995 - val_acc: 0.5005\n",
            "Epoch 6/10\n",
            "4096/4096 [==============================] - 148s 36ms/step - loss: 1.0000 - acc: 0.5000 - val_loss: 0.9995 - val_acc: 0.5005\n",
            "Epoch 7/10\n",
            "4096/4096 [==============================] - 150s 37ms/step - loss: 1.0000 - acc: 0.5000 - val_loss: 0.9995 - val_acc: 0.5005\n",
            "Epoch 8/10\n",
            "4096/4096 [==============================] - 149s 36ms/step - loss: 1.0000 - acc: 0.5000 - val_loss: 0.9995 - val_acc: 0.5005\n",
            "Epoch 9/10\n",
            "4096/4096 [==============================] - 149s 36ms/step - loss: 1.0000 - acc: 0.5000 - val_loss: 0.9995 - val_acc: 0.5005\n",
            "Epoch 10/10\n",
            "4096/4096 [==============================] - 150s 37ms/step - loss: 1.0000 - acc: 0.5000 - val_loss: 0.9995 - val_acc: 0.5005\n"
          ]
        },
        {
          "output_type": "display_data",
          "data": {
            "text/plain": [
              "<Figure size 432x288 with 1 Axes>"
            ],
            "image/png": "[encoded data removed]"
          },
          "metadata": {
            "needs_background": "light"
          }
        }
      ]
    },
    {
      "cell_type": "code",
      "source": [
        "# Training the model 1.2.1 Version 1\n",
        "\n",
        "history_1_2_1_version_1= model_1_2_1_version_1.fit(train_ds, validation_data=validation_ds, epochs = 10, verbose = 1, steps_per_epoch=steps_per_epoch, validation_steps=validation_steps)\n",
        "plot_hist(history_1_2_1_version_1)"
      ],
      "metadata": {
        "colab": {
          "base_uri": "https://localhost:8080/",
          "height": 662
        },
        "id": "hzARgJEh7NOC",
        "outputId": "5384761b-65d7-431b-c09b-2c480a389fea"
      },
      "execution_count": null,
      "outputs": [
        {
          "output_type": "stream",
          "name": "stdout",
          "text": [
            "Epoch 1/10\n",
            "4096/4096 [==============================] - 149s 36ms/step - loss: 0.1730 - acc: 0.7456 - val_loss: 0.1540 - val_acc: 0.7682\n",
            "Epoch 2/10\n",
            "4096/4096 [==============================] - 169s 41ms/step - loss: 0.1486 - acc: 0.7904 - val_loss: 0.1586 - val_acc: 0.7640\n",
            "Epoch 3/10\n",
            "4096/4096 [==============================] - 145s 35ms/step - loss: 0.1419 - acc: 0.8007 - val_loss: 0.1473 - val_acc: 0.7901\n",
            "Epoch 4/10\n",
            "4096/4096 [==============================] - 147s 36ms/step - loss: 0.1315 - acc: 0.8173 - val_loss: 0.1302 - val_acc: 0.8078\n",
            "Epoch 5/10\n",
            "4096/4096 [==============================] - 150s 37ms/step - loss: 0.1219 - acc: 0.8325 - val_loss: 0.1362 - val_acc: 0.8031\n",
            "Epoch 6/10\n",
            "4096/4096 [==============================] - 148s 36ms/step - loss: 0.1146 - acc: 0.8434 - val_loss: 0.1227 - val_acc: 0.8250\n",
            "Epoch 7/10\n",
            "4096/4096 [==============================] - 150s 37ms/step - loss: 0.1097 - acc: 0.8505 - val_loss: 0.1244 - val_acc: 0.8213\n",
            "Epoch 8/10\n",
            "4096/4096 [==============================] - 148s 36ms/step - loss: 0.1055 - acc: 0.8569 - val_loss: 0.1213 - val_acc: 0.8248\n",
            "Epoch 9/10\n",
            "4096/4096 [==============================] - 150s 37ms/step - loss: 0.1017 - acc: 0.8625 - val_loss: 0.1345 - val_acc: 0.8095\n",
            "Epoch 10/10\n",
            "4096/4096 [==============================] - 148s 36ms/step - loss: 0.0982 - acc: 0.8674 - val_loss: 0.1206 - val_acc: 0.8319\n"
          ]
        },
        {
          "output_type": "display_data",
          "data": {
            "text/plain": [
              "<Figure size 432x288 with 1 Axes>"
            ],
            "image/png": "[encoded data removed]"
          },
          "metadata": {
            "needs_background": "light"
          }
        }
      ]
    },
    {
      "cell_type": "code",
      "source": [
        "# Training the model 1.2.2 Version_1\n",
        "\n",
        "history_1_2_2_version_1= model_1_2_2_version_1.fit(train_ds, validation_data=validation_ds, epochs = 10, verbose = 1, steps_per_epoch=steps_per_epoch, validation_steps=validation_steps)\n",
        "plot_hist(history_1_2_2_version_1)"
      ],
      "metadata": {
        "colab": {
          "base_uri": "https://localhost:8080/",
          "height": 662
        },
        "id": "0D39vdo07NQX",
        "outputId": "38f6f4e6-0b56-480d-c96c-fc06e837fb1a"
      },
      "execution_count": null,
      "outputs": [
        {
          "output_type": "stream",
          "name": "stdout",
          "text": [
            "Epoch 1/10\n",
            "4096/4096 [==============================] - 148s 36ms/step - loss: 0.2118 - acc: 0.6676 - val_loss: 0.1536 - val_acc: 0.7695\n",
            "Epoch 2/10\n",
            "4096/4096 [==============================] - 170s 42ms/step - loss: 0.1579 - acc: 0.7784 - val_loss: 0.1534 - val_acc: 0.7680\n",
            "Epoch 3/10\n",
            "4096/4096 [==============================] - 145s 35ms/step - loss: 0.1535 - acc: 0.7850 - val_loss: 0.1536 - val_acc: 0.7681\n",
            "Epoch 4/10\n",
            "4096/4096 [==============================] - 148s 36ms/step - loss: 0.1515 - acc: 0.7876 - val_loss: 0.1532 - val_acc: 0.7680\n",
            "Epoch 5/10\n",
            "4096/4096 [==============================] - 157s 38ms/step - loss: 0.1500 - acc: 0.7900 - val_loss: 0.1539 - val_acc: 0.7693\n",
            "Epoch 6/10\n",
            "4096/4096 [==============================] - 146s 36ms/step - loss: 0.1489 - acc: 0.7915 - val_loss: 0.1529 - val_acc: 0.7717\n",
            "Epoch 7/10\n",
            "4096/4096 [==============================] - 150s 37ms/step - loss: 0.1477 - acc: 0.7933 - val_loss: 0.1541 - val_acc: 0.7682\n",
            "Epoch 8/10\n",
            "4096/4096 [==============================] - 150s 37ms/step - loss: 0.1466 - acc: 0.7950 - val_loss: 0.1516 - val_acc: 0.7741\n",
            "Epoch 9/10\n",
            "4096/4096 [==============================] - 148s 36ms/step - loss: 0.1455 - acc: 0.7965 - val_loss: 0.1516 - val_acc: 0.7756\n",
            "Epoch 10/10\n",
            "4096/4096 [==============================] - 151s 37ms/step - loss: 0.1444 - acc: 0.7983 - val_loss: 0.1525 - val_acc: 0.7727\n"
          ]
        },
        {
          "output_type": "display_data",
          "data": {
            "text/plain": [
              "<Figure size 432x288 with 1 Axes>"
            ],
            "image/png": "[encoded data removed]"
          },
          "metadata": {
            "needs_background": "light"
          }
        }
      ]
    },
    {
      "cell_type": "code",
      "source": [
        "# Training the model 1.2.3 Version 1\n",
        "\n",
        "history_1_2_3_version_1= model_1_2_3_version_1.fit(train_ds, validation_data=validation_ds, epochs = 10, verbose = 1, steps_per_epoch=steps_per_epoch, validation_steps=validation_steps)\n",
        "plot_hist(history_1_2_3_version_1)"
      ],
      "metadata": {
        "colab": {
          "base_uri": "https://localhost:8080/",
          "height": 662
        },
        "id": "swn0YFV47NSd",
        "outputId": "3e907b01-56d1-4e6f-8cc7-75ad45982b09"
      },
      "execution_count": null,
      "outputs": [
        {
          "output_type": "stream",
          "name": "stdout",
          "text": [
            "Epoch 1/10\n",
            "4096/4096 [==============================] - 149s 36ms/step - loss: 0.1253 - acc: 0.8261 - val_loss: 0.1130 - val_acc: 0.8453\n",
            "Epoch 2/10\n",
            "4096/4096 [==============================] - 171s 42ms/step - loss: 0.0817 - acc: 0.8919 - val_loss: 0.1533 - val_acc: 0.8178\n",
            "Epoch 3/10\n",
            "4096/4096 [==============================] - 153s 37ms/step - loss: 0.0671 - acc: 0.9127 - val_loss: 0.1135 - val_acc: 0.8484\n",
            "Epoch 4/10\n",
            "4096/4096 [==============================] - 160s 39ms/step - loss: 0.0596 - acc: 0.9235 - val_loss: 0.1074 - val_acc: 0.8524\n",
            "Epoch 5/10\n",
            "4096/4096 [==============================] - 150s 37ms/step - loss: 0.0545 - acc: 0.9307 - val_loss: 0.1295 - val_acc: 0.8393\n",
            "Epoch 6/10\n",
            "4096/4096 [==============================] - 155s 38ms/step - loss: 0.0515 - acc: 0.9350 - val_loss: 0.1437 - val_acc: 0.8271\n",
            "Epoch 7/10\n",
            "4096/4096 [==============================] - 150s 37ms/step - loss: 0.0491 - acc: 0.9380 - val_loss: 0.1228 - val_acc: 0.8370\n",
            "Epoch 8/10\n",
            "4096/4096 [==============================] - 153s 37ms/step - loss: 0.0485 - acc: 0.9397 - val_loss: 0.1265 - val_acc: 0.8407\n",
            "Epoch 9/10\n",
            "4096/4096 [==============================] - 149s 36ms/step - loss: 0.0475 - acc: 0.9407 - val_loss: 0.1155 - val_acc: 0.8538\n",
            "Epoch 10/10\n",
            "4096/4096 [==============================] - 161s 39ms/step - loss: 0.0467 - acc: 0.9423 - val_loss: 0.1253 - val_acc: 0.8429\n"
          ]
        },
        {
          "output_type": "display_data",
          "data": {
            "text/plain": [
              "<Figure size 432x288 with 1 Axes>"
            ],
            "image/png": "[encoded data removed]"
          },
          "metadata": {
            "needs_background": "light"
          }
        }
      ]
    },
    {
      "cell_type": "code",
      "source": [
        "# Training the model 2.1.1 Version 1\n",
        "\n",
        "history_2_1_1_version_1= model_2_1_1_version_1.fit(train_ds, validation_data=validation_ds, epochs = 10, verbose = 1, steps_per_epoch=steps_per_epoch, validation_steps=validation_steps)\n",
        "plot_hist(history_2_1_1_version_1)"
      ],
      "metadata": {
        "colab": {
          "base_uri": "https://localhost:8080/",
          "height": 662
        },
        "id": "uwI2ghI07NUr",
        "outputId": "6c6c231d-c5e9-406f-820e-d7df6713ee63"
      },
      "execution_count": null,
      "outputs": [
        {
          "output_type": "stream",
          "name": "stdout",
          "text": [
            "Epoch 1/10\n",
            "4096/4096 [==============================] - 148s 36ms/step - loss: 1.0001 - acc: 0.5000 - val_loss: 0.9996 - val_acc: 0.5005\n",
            "Epoch 2/10\n",
            "4096/4096 [==============================] - 171s 42ms/step - loss: 1.0001 - acc: 0.5000 - val_loss: 0.9996 - val_acc: 0.5005\n",
            "Epoch 3/10\n",
            "4096/4096 [==============================] - 150s 37ms/step - loss: 1.0000 - acc: 0.5000 - val_loss: 0.9996 - val_acc: 0.5005\n",
            "Epoch 4/10\n",
            "4096/4096 [==============================] - 147s 36ms/step - loss: 1.0000 - acc: 0.5000 - val_loss: 0.9996 - val_acc: 0.5005\n",
            "Epoch 5/10\n",
            "4096/4096 [==============================] - 149s 36ms/step - loss: 1.0000 - acc: 0.5000 - val_loss: 0.9996 - val_acc: 0.5005\n",
            "Epoch 6/10\n",
            "4096/4096 [==============================] - 147s 36ms/step - loss: 1.0000 - acc: 0.5000 - val_loss: 0.9996 - val_acc: 0.5005\n",
            "Epoch 7/10\n",
            "4096/4096 [==============================] - 149s 36ms/step - loss: 1.0000 - acc: 0.5000 - val_loss: 0.9996 - val_acc: 0.5005\n",
            "Epoch 8/10\n",
            "4096/4096 [==============================] - 150s 37ms/step - loss: 1.0000 - acc: 0.5000 - val_loss: 0.9996 - val_acc: 0.5005\n",
            "Epoch 9/10\n",
            "4096/4096 [==============================] - 151s 37ms/step - loss: 1.0000 - acc: 0.5000 - val_loss: 0.9996 - val_acc: 0.5005\n",
            "Epoch 10/10\n",
            "4096/4096 [==============================] - 152s 37ms/step - loss: 1.0000 - acc: 0.5000 - val_loss: 0.9996 - val_acc: 0.5005\n"
          ]
        },
        {
          "output_type": "display_data",
          "data": {
            "text/plain": [
              "<Figure size 432x288 with 1 Axes>"
            ],
            "image/png": "[encoded data removed]"
          },
          "metadata": {
            "needs_background": "light"
          }
        }
      ]
    },
    {
      "cell_type": "code",
      "source": [
        "# Training the model 2.1.2 Version 1\n",
        "\n",
        "history_2_1_2_version_1= model_2_1_2_version_1.fit(train_ds, validation_data=validation_ds, epochs = 10, verbose = 1, steps_per_epoch=steps_per_epoch, validation_steps=validation_steps)\n",
        "plot_hist(history_2_1_2_version_1)"
      ],
      "metadata": {
        "colab": {
          "base_uri": "https://localhost:8080/",
          "height": 662
        },
        "id": "D0eXeYDt2Jgg",
        "outputId": "42d1fb67-e5ed-4011-ed0a-e95914e5d06a"
      },
      "execution_count": null,
      "outputs": [
        {
          "output_type": "stream",
          "name": "stdout",
          "text": [
            "Epoch 1/10\n",
            "4096/4096 [==============================] - 149s 36ms/step - loss: 0.9998 - acc: 0.5005 - val_loss: 1.0002 - val_acc: 0.4995\n",
            "Epoch 2/10\n",
            "4096/4096 [==============================] - 171s 42ms/step - loss: 0.9999 - acc: 0.4993 - val_loss: 1.0001 - val_acc: 0.4995\n",
            "Epoch 3/10\n",
            "4096/4096 [==============================] - 149s 36ms/step - loss: 0.9998 - acc: 0.5004 - val_loss: 1.0001 - val_acc: 0.4995\n",
            "Epoch 4/10\n",
            "4096/4096 [==============================] - 149s 36ms/step - loss: 0.9998 - acc: 0.4999 - val_loss: 1.0001 - val_acc: 0.4995\n",
            "Epoch 5/10\n",
            "4096/4096 [==============================] - 148s 36ms/step - loss: 1.0002 - acc: 0.4995 - val_loss: 1.0001 - val_acc: 0.4995\n",
            "Epoch 6/10\n",
            "4096/4096 [==============================] - 147s 36ms/step - loss: 1.0002 - acc: 0.4995 - val_loss: 1.0001 - val_acc: 0.4995\n",
            "Epoch 7/10\n",
            "4096/4096 [==============================] - 150s 37ms/step - loss: 1.0001 - acc: 0.5004 - val_loss: 1.0001 - val_acc: 0.4995\n",
            "Epoch 8/10\n",
            "4096/4096 [==============================] - 148s 36ms/step - loss: 1.0002 - acc: 0.5000 - val_loss: 1.0001 - val_acc: 0.4995\n",
            "Epoch 9/10\n",
            "4096/4096 [==============================] - 179s 44ms/step - loss: 0.9998 - acc: 0.5004 - val_loss: 1.0001 - val_acc: 0.4995\n",
            "Epoch 10/10\n",
            "4096/4096 [==============================] - 151s 37ms/step - loss: 1.0001 - acc: 0.4997 - val_loss: 1.0001 - val_acc: 0.4995\n"
          ]
        },
        {
          "output_type": "display_data",
          "data": {
            "text/plain": [
              "<Figure size 432x288 with 1 Axes>"
            ],
            "image/png": "[encoded data removed]"
          },
          "metadata": {
            "needs_background": "light"
          }
        }
      ]
    },
    {
      "cell_type": "code",
      "source": [
        "# Training the model 2.1.3 Version 1\n",
        "\n",
        "history_2_1_3_version_1= model_2_1_3_version_1.fit(train_ds, validation_data=validation_ds, epochs = 10, verbose = 1, steps_per_epoch=steps_per_epoch, validation_steps=validation_steps)\n",
        "plot_hist(history_2_1_3_version_1)"
      ],
      "metadata": {
        "colab": {
          "base_uri": "https://localhost:8080/",
          "height": 662
        },
        "id": "v82ZbAI37Vu0",
        "outputId": "3adffe07-7782-4256-9d27-f9f3c4e8268b"
      },
      "execution_count": null,
      "outputs": [
        {
          "output_type": "stream",
          "name": "stdout",
          "text": [
            "Epoch 1/10\n",
            "4096/4096 [==============================] - 156s 38ms/step - loss: 1.0007 - acc: 0.4988 - val_loss: 0.9996 - val_acc: 0.5005\n",
            "Epoch 2/10\n",
            "4096/4096 [==============================] - 146s 36ms/step - loss: 1.0004 - acc: 0.4998 - val_loss: 1.0005 - val_acc: 0.4995\n",
            "Epoch 3/10\n",
            "4096/4096 [==============================] - 152s 37ms/step - loss: 1.0000 - acc: 0.5000 - val_loss: 1.0005 - val_acc: 0.4995\n",
            "Epoch 4/10\n",
            "4096/4096 [==============================] - 147s 36ms/step - loss: 1.0000 - acc: 0.5000 - val_loss: 1.0005 - val_acc: 0.4995\n",
            "Epoch 5/10\n",
            "4096/4096 [==============================] - 153s 37ms/step - loss: 1.0000 - acc: 0.5000 - val_loss: 1.0005 - val_acc: 0.4995\n",
            "Epoch 6/10\n",
            "4096/4096 [==============================] - 149s 36ms/step - loss: 1.0000 - acc: 0.5000 - val_loss: 1.0005 - val_acc: 0.4995\n",
            "Epoch 7/10\n",
            "4096/4096 [==============================] - 157s 38ms/step - loss: 1.0000 - acc: 0.5000 - val_loss: 1.0005 - val_acc: 0.4995\n",
            "Epoch 8/10\n",
            "4096/4096 [==============================] - 160s 39ms/step - loss: 1.0000 - acc: 0.5000 - val_loss: 1.0005 - val_acc: 0.4995\n",
            "Epoch 9/10\n",
            "4096/4096 [==============================] - 150s 37ms/step - loss: 1.0000 - acc: 0.5000 - val_loss: 1.0005 - val_acc: 0.4995\n",
            "Epoch 10/10\n",
            "4096/4096 [==============================] - 152s 37ms/step - loss: 1.0000 - acc: 0.5000 - val_loss: 1.0005 - val_acc: 0.4995\n"
          ]
        },
        {
          "output_type": "display_data",
          "data": {
            "text/plain": [
              "<Figure size 432x288 with 1 Axes>"
            ],
            "image/png": "[encoded data removed]"
          },
          "metadata": {
            "needs_background": "light"
          }
        }
      ]
    },
    {
      "cell_type": "code",
      "source": [
        "# Training the model 2.2.1 Version 1\n",
        "\n",
        "history_2_2_1_version_1= model_2_2_1_version_1.fit(train_ds, validation_data=validation_ds, epochs = 10, verbose = 1, steps_per_epoch=steps_per_epoch, validation_steps=validation_steps)\n",
        "plot_hist(history_2_2_1_version_1)"
      ],
      "metadata": {
        "id": "T1Eej7kD2Mzj",
        "colab": {
          "base_uri": "https://localhost:8080/",
          "height": 662
        },
        "outputId": "22471bde-6138-496a-b21e-d6802c2ccc1b"
      },
      "execution_count": 19,
      "outputs": [
        {
          "output_type": "stream",
          "name": "stdout",
          "text": [
            "Epoch 1/10\n",
            "4096/4096 [==============================] - 160s 37ms/step - loss: 0.2587 - acc: 0.5003 - val_loss: 0.2502 - val_acc: 0.5005\n",
            "Epoch 2/10\n",
            "4096/4096 [==============================] - 146s 36ms/step - loss: 0.2522 - acc: 0.5002 - val_loss: 0.2502 - val_acc: 0.5005\n",
            "Epoch 3/10\n",
            "4096/4096 [==============================] - 150s 37ms/step - loss: 0.2511 - acc: 0.5005 - val_loss: 0.2501 - val_acc: 0.5005\n",
            "Epoch 4/10\n",
            "4096/4096 [==============================] - 147s 36ms/step - loss: 0.2507 - acc: 0.5002 - val_loss: 0.2503 - val_acc: 0.5005\n",
            "Epoch 5/10\n",
            "4096/4096 [==============================] - 150s 37ms/step - loss: 0.2505 - acc: 0.4995 - val_loss: 0.2502 - val_acc: 0.5005\n",
            "Epoch 6/10\n",
            "4096/4096 [==============================] - 150s 37ms/step - loss: 0.2503 - acc: 0.4998 - val_loss: 0.2501 - val_acc: 0.5005\n",
            "Epoch 7/10\n",
            "4096/4096 [==============================] - 149s 36ms/step - loss: 0.2503 - acc: 0.5007 - val_loss: 0.2501 - val_acc: 0.5005\n",
            "Epoch 8/10\n",
            "4096/4096 [==============================] - 154s 38ms/step - loss: 0.2502 - acc: 0.5000 - val_loss: 0.2502 - val_acc: 0.5005\n",
            "Epoch 9/10\n",
            "4096/4096 [==============================] - 152s 37ms/step - loss: 0.2502 - acc: 0.5005 - val_loss: 0.2501 - val_acc: 0.5005\n",
            "Epoch 10/10\n",
            "4096/4096 [==============================] - 151s 37ms/step - loss: 0.2502 - acc: 0.5006 - val_loss: 0.2503 - val_acc: 0.5005\n"
          ]
        },
        {
          "output_type": "display_data",
          "data": {
            "text/plain": [
              "<Figure size 432x288 with 1 Axes>"
            ],
            "image/png": "[encoded data removed]"
          },
          "metadata": {
            "needs_background": "light"
          }
        }
      ]
    },
    {
      "cell_type": "code",
      "source": [
        "# Training the model 2.2.2 Version 1\n",
        "\n",
        "history_2_2_2_version_1= model_2_2_2_version_1.fit(train_ds, validation_data=validation_ds, epochs = 10, verbose = 1, steps_per_epoch=steps_per_epoch, validation_steps=validation_steps)\n",
        "plot_hist(history_2_2_2_version_1)"
      ],
      "metadata": {
        "id": "OoZJXBee2ONU",
        "colab": {
          "base_uri": "https://localhost:8080/",
          "height": 662
        },
        "outputId": "9b36933d-0675-4c1f-9b39-fd3acca37e0e"
      },
      "execution_count": 20,
      "outputs": [
        {
          "output_type": "stream",
          "name": "stdout",
          "text": [
            "Epoch 1/10\n",
            "4096/4096 [==============================] - 150s 36ms/step - loss: 0.2672 - acc: 0.5000 - val_loss: 0.2500 - val_acc: 0.5005\n",
            "Epoch 2/10\n",
            "4096/4096 [==============================] - 171s 42ms/step - loss: 0.2613 - acc: 0.4993 - val_loss: 0.2500 - val_acc: 0.5005\n",
            "Epoch 3/10\n",
            "4096/4096 [==============================] - 148s 36ms/step - loss: 0.2586 - acc: 0.4997 - val_loss: 0.2500 - val_acc: 0.5005\n",
            "Epoch 4/10\n",
            "4096/4096 [==============================] - 149s 36ms/step - loss: 0.2568 - acc: 0.5011 - val_loss: 0.2500 - val_acc: 0.5005\n",
            "Epoch 5/10\n",
            "4096/4096 [==============================] - 151s 37ms/step - loss: 0.2559 - acc: 0.4995 - val_loss: 0.2500 - val_acc: 0.5005\n",
            "Epoch 6/10\n",
            "4096/4096 [==============================] - 152s 37ms/step - loss: 0.2550 - acc: 0.5002 - val_loss: 0.2500 - val_acc: 0.5005\n",
            "Epoch 7/10\n",
            "4096/4096 [==============================] - 149s 36ms/step - loss: 0.2544 - acc: 0.4999 - val_loss: 0.2500 - val_acc: 0.5005\n",
            "Epoch 8/10\n",
            "4096/4096 [==============================] - 148s 36ms/step - loss: 0.2538 - acc: 0.5000 - val_loss: 0.2500 - val_acc: 0.5005\n",
            "Epoch 9/10\n",
            "4096/4096 [==============================] - 149s 36ms/step - loss: 0.2536 - acc: 0.4992 - val_loss: 0.2500 - val_acc: 0.5005\n",
            "Epoch 10/10\n",
            "4096/4096 [==============================] - 149s 36ms/step - loss: 0.2531 - acc: 0.5010 - val_loss: 0.2500 - val_acc: 0.5005\n"
          ]
        },
        {
          "output_type": "display_data",
          "data": {
            "text/plain": [
              "<Figure size 432x288 with 1 Axes>"
            ],
            "image/png": "[encoded data removed]"
          },
          "metadata": {
            "needs_background": "light"
          }
        }
      ]
    },
    {
      "cell_type": "code",
      "source": [
        "# Training the model 2.2.3 Version 1\n",
        "\n",
        "history_2_2_3_version_1= model_2_2_3_version_1.fit(train_ds, validation_data=validation_ds, epochs = 10, verbose = 1, steps_per_epoch=steps_per_epoch, validation_steps=validation_steps)\n",
        "plot_hist(history_2_2_3_version_1)"
      ],
      "metadata": {
        "id": "s45t9Nw12Pev",
        "colab": {
          "base_uri": "https://localhost:8080/",
          "height": 662
        },
        "outputId": "b56b66e3-ae81-465f-cd7f-5a4cc3a3103c"
      },
      "execution_count": 21,
      "outputs": [
        {
          "output_type": "stream",
          "name": "stdout",
          "text": [
            "Epoch 1/10\n",
            "4096/4096 [==============================] - 151s 37ms/step - loss: 0.2510 - acc: 0.5003 - val_loss: 0.2500 - val_acc: 0.5005\n",
            "Epoch 2/10\n",
            "4096/4096 [==============================] - 172s 42ms/step - loss: 0.2500 - acc: 0.5002 - val_loss: 0.2500 - val_acc: 0.5005\n",
            "Epoch 3/10\n",
            "4096/4096 [==============================] - 176s 43ms/step - loss: 0.2500 - acc: 0.5005 - val_loss: 0.2500 - val_acc: 0.5005\n",
            "Epoch 4/10\n",
            "4096/4096 [==============================] - 150s 37ms/step - loss: 0.2500 - acc: 0.5006 - val_loss: 0.2500 - val_acc: 0.5005\n",
            "Epoch 5/10\n",
            "4096/4096 [==============================] - 154s 38ms/step - loss: 0.2478 - acc: 0.5141 - val_loss: 0.2117 - val_acc: 0.6432\n",
            "Epoch 6/10\n",
            "4096/4096 [==============================] - 179s 44ms/step - loss: 0.1913 - acc: 0.7096 - val_loss: 0.1392 - val_acc: 0.8069\n",
            "Epoch 7/10\n",
            "4096/4096 [==============================] - 182s 44ms/step - loss: 0.1605 - acc: 0.7708 - val_loss: 0.1599 - val_acc: 0.7668\n",
            "Epoch 8/10\n",
            "4096/4096 [==============================] - 178s 43ms/step - loss: 0.1521 - acc: 0.7839 - val_loss: 0.1378 - val_acc: 0.8017\n",
            "Epoch 9/10\n",
            "4096/4096 [==============================] - 151s 37ms/step - loss: 0.1464 - acc: 0.7927 - val_loss: 0.1407 - val_acc: 0.7903\n",
            "Epoch 10/10\n",
            "4095/4096 [============================>.] - ETA: 0s - loss: 0.1414 - acc: 0.8013"
          ]
        },
        {
          "output_type": "display_data",
          "data": {
            "text/plain": [
              "<Figure size 432x288 with 1 Axes>"
            ],
            "image/png": "[encoded data removed]"
          },
          "metadata": {
            "needs_background": "light"
          }
        }
      ]
    },
    {
      "cell_type": "code",
      "source": [
        "# Training the model 3.1.1 Version 1\n",
        "\n",
        "history_3_1_1_version_1= model_3_1_1_version_1.fit(train_ds, validation_data=validation_ds, epochs = 10, verbose = 1, steps_per_epoch=steps_per_epoch, validation_steps=validation_steps)\n",
        "plot_hist(history_3_1_1_version_1)"
      ],
      "metadata": {
        "id": "OjLGGKWF2QpQ",
        "colab": {
          "base_uri": "https://localhost:8080/",
          "height": 662
        },
        "outputId": "806c19ba-86d4-417d-cfe8-8e2c96577057"
      },
      "execution_count": 22,
      "outputs": [
        {
          "output_type": "stream",
          "name": "stdout",
          "text": [
            "Epoch 1/10\n",
            "4096/4096 [==============================] - 159s 39ms/step - loss: 1.0001 - acc: 0.5001 - val_loss: 0.9996 - val_acc: 0.5005\n",
            "Epoch 2/10\n",
            "4096/4096 [==============================] - 147s 36ms/step - loss: 1.0000 - acc: 0.5000 - val_loss: 0.9995 - val_acc: 0.5005\n",
            "Epoch 3/10\n",
            "4096/4096 [==============================] - 152s 37ms/step - loss: 1.0000 - acc: 0.5000 - val_loss: 0.9994 - val_acc: 0.5005\n",
            "Epoch 4/10\n",
            "4096/4096 [==============================] - 149s 36ms/step - loss: 0.9999 - acc: 0.5000 - val_loss: 0.9992 - val_acc: 0.5005\n",
            "Epoch 5/10\n",
            "4096/4096 [==============================] - 156s 38ms/step - loss: 0.9997 - acc: 0.5000 - val_loss: 0.9978 - val_acc: 0.5005\n",
            "Epoch 6/10\n",
            "4096/4096 [==============================] - 151s 37ms/step - loss: 0.9909 - acc: 0.5209 - val_loss: 0.9176 - val_acc: 0.6608\n",
            "Epoch 7/10\n",
            "4096/4096 [==============================] - 153s 37ms/step - loss: 0.8885 - acc: 0.6221 - val_loss: 0.8388 - val_acc: 0.6634\n",
            "Epoch 8/10\n",
            "4096/4096 [==============================] - 149s 36ms/step - loss: 0.8742 - acc: 0.6280 - val_loss: 0.8371 - val_acc: 0.6638\n",
            "Epoch 9/10\n",
            "4096/4096 [==============================] - 153s 37ms/step - loss: 0.8713 - acc: 0.6302 - val_loss: 0.8326 - val_acc: 0.6679\n",
            "Epoch 10/10\n",
            "4096/4096 [==============================] - 149s 36ms/step - loss: 0.8696 - acc: 0.6315 - val_loss: 0.8298 - val_acc: 0.6707\n"
          ]
        },
        {
          "output_type": "display_data",
          "data": {
            "text/plain": [
              "<Figure size 432x288 with 1 Axes>"
            ],
            "image/png": "[encoded data removed]"
          },
          "metadata": {
            "needs_background": "light"
          }
        }
      ]
    },
    {
      "cell_type": "code",
      "source": [
        "# Training the model 3.1.1 Version 1\n",
        "\n",
        "history_3_1_1_version_1= model_3_1_1_version_1.fit(train_ds, validation_data=validation_ds, epochs = 10, verbose = 1, steps_per_epoch=steps_per_epoch, validation_steps=validation_steps)\n",
        "plot_hist(history_3_1_1_version_1)"
      ],
      "metadata": {
        "id": "jH-aWHL42Uc3",
        "colab": {
          "base_uri": "https://localhost:8080/",
          "height": 662
        },
        "outputId": "0572e604-4136-4055-df52-369e262dded9"
      },
      "execution_count": 23,
      "outputs": [
        {
          "output_type": "stream",
          "name": "stdout",
          "text": [
            "Epoch 1/10\n",
            "4096/4096 [==============================] - 150s 37ms/step - loss: 0.8680 - acc: 0.6329 - val_loss: 0.8295 - val_acc: 0.6713\n",
            "Epoch 2/10\n",
            "4096/4096 [==============================] - 171s 42ms/step - loss: 0.8666 - acc: 0.6344 - val_loss: 0.8291 - val_acc: 0.6719\n",
            "Epoch 3/10\n",
            "4096/4096 [==============================] - 158s 38ms/step - loss: 0.8655 - acc: 0.6352 - val_loss: 0.8285 - val_acc: 0.6717\n",
            "Epoch 4/10\n",
            "4096/4096 [==============================] - 153s 37ms/step - loss: 0.8646 - acc: 0.6361 - val_loss: 0.8271 - val_acc: 0.6734\n",
            "Epoch 5/10\n",
            "4096/4096 [==============================] - 150s 37ms/step - loss: 0.8636 - acc: 0.6372 - val_loss: 0.8265 - val_acc: 0.6739\n",
            "Epoch 6/10\n",
            "4096/4096 [==============================] - 153s 37ms/step - loss: 0.8631 - acc: 0.6376 - val_loss: 0.8261 - val_acc: 0.6743\n",
            "Epoch 7/10\n",
            "4096/4096 [==============================] - 150s 37ms/step - loss: 0.8621 - acc: 0.6387 - val_loss: 0.8254 - val_acc: 0.6753\n",
            "Epoch 8/10\n",
            "4096/4096 [==============================] - 154s 38ms/step - loss: 0.8615 - acc: 0.6393 - val_loss: 0.8248 - val_acc: 0.6754\n",
            "Epoch 9/10\n",
            "4096/4096 [==============================] - 151s 37ms/step - loss: 0.8098 - acc: 0.6958 - val_loss: 0.7532 - val_acc: 0.7503\n",
            "Epoch 10/10\n",
            "4096/4096 [==============================] - 155s 38ms/step - loss: 0.7731 - acc: 0.7297 - val_loss: 0.7458 - val_acc: 0.7561\n"
          ]
        },
        {
          "output_type": "display_data",
          "data": {
            "text/plain": [
              "<Figure size 432x288 with 1 Axes>"
            ],
            "image/png": "[encoded data removed]"
          },
          "metadata": {
            "needs_background": "light"
          }
        }
      ]
    },
    {
      "cell_type": "code",
      "source": [
        "# Training the model 3.1.2 Version 1\n",
        "\n",
        "history_3_1_2_version_1= model_3_1_2_version_1.fit(train_ds, validation_data=validation_ds, epochs = 10, verbose = 1, steps_per_epoch=steps_per_epoch, validation_steps=validation_steps)\n",
        "plot_hist(history_3_1_2_version_1)"
      ],
      "metadata": {
        "id": "EtY7LMmZ7NZa",
        "colab": {
          "base_uri": "https://localhost:8080/",
          "height": 662
        },
        "outputId": "231cce11-1667-486d-aab9-6b459f6feb60"
      },
      "execution_count": 25,
      "outputs": [
        {
          "output_type": "stream",
          "name": "stdout",
          "text": [
            "Epoch 1/10\n",
            "4096/4096 [==============================] - 152s 37ms/step - loss: 0.9976 - acc: 0.5074 - val_loss: 0.9951 - val_acc: 0.5635\n",
            "Epoch 2/10\n",
            "4096/4096 [==============================] - 149s 36ms/step - loss: 0.9951 - acc: 0.5148 - val_loss: 0.9896 - val_acc: 0.6180\n",
            "Epoch 3/10\n",
            "4096/4096 [==============================] - 154s 38ms/step - loss: 0.9872 - acc: 0.5383 - val_loss: 0.9657 - val_acc: 0.6565\n",
            "Epoch 4/10\n",
            "4096/4096 [==============================] - 152s 37ms/step - loss: 0.9462 - acc: 0.6003 - val_loss: 0.8743 - val_acc: 0.6603\n",
            "Epoch 5/10\n",
            "4096/4096 [==============================] - 153s 37ms/step - loss: 0.8965 - acc: 0.6216 - val_loss: 0.8501 - val_acc: 0.6610\n",
            "Epoch 6/10\n",
            "4096/4096 [==============================] - 151s 37ms/step - loss: 0.8852 - acc: 0.6230 - val_loss: 0.8439 - val_acc: 0.6624\n",
            "Epoch 7/10\n",
            "4096/4096 [==============================] - 156s 38ms/step - loss: 0.8815 - acc: 0.6241 - val_loss: 0.8417 - val_acc: 0.6632\n",
            "Epoch 8/10\n",
            "4096/4096 [==============================] - 153s 37ms/step - loss: 0.8792 - acc: 0.6250 - val_loss: 0.8398 - val_acc: 0.6649\n",
            "Epoch 9/10\n",
            "4096/4096 [==============================] - 154s 38ms/step - loss: 0.8779 - acc: 0.6257 - val_loss: 0.8389 - val_acc: 0.6649\n",
            "Epoch 10/10\n",
            "4096/4096 [==============================] - 152s 37ms/step - loss: 0.8769 - acc: 0.6261 - val_loss: 0.8380 - val_acc: 0.6658\n"
          ]
        },
        {
          "output_type": "display_data",
          "data": {
            "text/plain": [
              "<Figure size 432x288 with 1 Axes>"
            ],
            "image/png": "[encoded data removed]"
          },
          "metadata": {
            "needs_background": "light"
          }
        }
      ]
    },
    {
      "cell_type": "code",
      "source": [
        "# Training the model 3.1.3 Version 1\n",
        "\n",
        "history_3_1_3_version_1= model_3_1_3_version_1.fit(train_ds, validation_data=validation_ds, epochs = 10, verbose = 1, steps_per_epoch=steps_per_epoch, validation_steps=validation_steps)\n",
        "plot_hist(history_3_1_3_version_1)"
      ],
      "metadata": {
        "id": "GwSQRNgN7Na7",
        "colab": {
          "base_uri": "https://localhost:8080/",
          "height": 662
        },
        "outputId": "0930d600-d68c-4847-e03a-9554a51a19aa"
      },
      "execution_count": 26,
      "outputs": [
        {
          "output_type": "stream",
          "name": "stdout",
          "text": [
            "Epoch 1/10\n",
            "4096/4096 [==============================] - 152s 37ms/step - loss: 0.9015 - acc: 0.5990 - val_loss: 0.8762 - val_acc: 0.6240\n",
            "Epoch 2/10\n",
            "4096/4096 [==============================] - 153s 37ms/step - loss: 0.8734 - acc: 0.6266 - val_loss: 0.8320 - val_acc: 0.6678\n",
            "Epoch 3/10\n",
            "4096/4096 [==============================] - 155s 38ms/step - loss: 0.8705 - acc: 0.6295 - val_loss: 0.8326 - val_acc: 0.6675\n",
            "Epoch 4/10\n",
            "4096/4096 [==============================] - 154s 38ms/step - loss: 0.8758 - acc: 0.6242 - val_loss: 0.8345 - val_acc: 0.6654\n",
            "Epoch 5/10\n",
            "4096/4096 [==============================] - 154s 38ms/step - loss: 0.8697 - acc: 0.6303 - val_loss: 0.8328 - val_acc: 0.6675\n",
            "Epoch 6/10\n",
            "4096/4096 [==============================] - 157s 38ms/step - loss: 0.8671 - acc: 0.6329 - val_loss: 0.8305 - val_acc: 0.6696\n",
            "Epoch 7/10\n",
            "4096/4096 [==============================] - 181s 44ms/step - loss: 0.8688 - acc: 0.6312 - val_loss: 0.8317 - val_acc: 0.6682\n",
            "Epoch 8/10\n",
            "4096/4096 [==============================] - 181s 44ms/step - loss: 0.8686 - acc: 0.6314 - val_loss: 0.8317 - val_acc: 0.6685\n",
            "Epoch 9/10\n",
            "4096/4096 [==============================] - 180s 44ms/step - loss: 0.8898 - acc: 0.6102 - val_loss: 1.0005 - val_acc: 0.4995\n",
            "Epoch 10/10\n",
            "4096/4096 [==============================] - 181s 44ms/step - loss: 0.8789 - acc: 0.6212 - val_loss: 0.8381 - val_acc: 0.6621\n"
          ]
        },
        {
          "output_type": "display_data",
          "data": {
            "text/plain": [
              "<Figure size 432x288 with 1 Axes>"
            ],
            "image/png": "[encoded data removed]"
          },
          "metadata": {
            "needs_background": "light"
          }
        }
      ]
    },
    {
      "cell_type": "code",
      "source": [
        "# Training the model 3.2.1 Version 1\n",
        "\n",
        "history_3_2_1_version_1= model_3_2_1_version_1.fit(train_ds, validation_data=validation_ds, epochs = 10, verbose = 1, steps_per_epoch=steps_per_epoch, validation_steps=validation_steps)\n",
        "plot_hist(history_3_2_1_version_1)"
      ],
      "metadata": {
        "id": "YkOG30ok6cc4",
        "colab": {
          "base_uri": "https://localhost:8080/",
          "height": 662
        },
        "outputId": "6e5a190a-5028-4e35-f901-390373cb25fe"
      },
      "execution_count": 27,
      "outputs": [
        {
          "output_type": "stream",
          "name": "stdout",
          "text": [
            "Epoch 1/10\n",
            "4096/4096 [==============================] - 151s 37ms/step - loss: 0.2560 - acc: 0.4992 - val_loss: 0.2501 - val_acc: 0.5005\n",
            "Epoch 2/10\n",
            "4096/4096 [==============================] - 149s 36ms/step - loss: 0.2513 - acc: 0.5006 - val_loss: 0.2501 - val_acc: 0.5005\n",
            "Epoch 3/10\n",
            "4096/4096 [==============================] - 154s 38ms/step - loss: 0.2506 - acc: 0.5012 - val_loss: 0.2500 - val_acc: 0.5005\n",
            "Epoch 4/10\n",
            "4096/4096 [==============================] - 152s 37ms/step - loss: 0.2504 - acc: 0.5000 - val_loss: 0.2502 - val_acc: 0.5005\n",
            "Epoch 5/10\n",
            "4096/4096 [==============================] - 153s 37ms/step - loss: 0.2503 - acc: 0.5009 - val_loss: 0.2501 - val_acc: 0.5005\n",
            "Epoch 6/10\n",
            "4096/4096 [==============================] - 153s 37ms/step - loss: 0.2502 - acc: 0.5007 - val_loss: 0.2500 - val_acc: 0.5005\n",
            "Epoch 7/10\n",
            "4096/4096 [==============================] - 154s 38ms/step - loss: 0.2502 - acc: 0.5005 - val_loss: 0.2501 - val_acc: 0.5005\n",
            "Epoch 8/10\n",
            "4096/4096 [==============================] - 153s 37ms/step - loss: 0.2502 - acc: 0.5006 - val_loss: 0.2501 - val_acc: 0.5005\n",
            "Epoch 9/10\n",
            "4096/4096 [==============================] - 157s 38ms/step - loss: 0.2502 - acc: 0.5001 - val_loss: 0.2501 - val_acc: 0.5005\n",
            "Epoch 10/10\n",
            "4096/4096 [==============================] - 151s 37ms/step - loss: 0.2501 - acc: 0.5015 - val_loss: 0.2500 - val_acc: 0.5005\n"
          ]
        },
        {
          "output_type": "display_data",
          "data": {
            "text/plain": [
              "<Figure size 432x288 with 1 Axes>"
            ],
            "image/png": "[encoded data removed]"
          },
          "metadata": {
            "needs_background": "light"
          }
        }
      ]
    },
    {
      "cell_type": "code",
      "source": [
        "# Training the model 3.2.2 Version 1\n",
        "\n",
        "history_3_2_2_version_1= model_3_2_2_version_1.fit(train_ds, validation_data=validation_ds, epochs = 10, verbose = 1, steps_per_epoch=steps_per_epoch, validation_steps=validation_steps)\n",
        "plot_hist(history_3_2_2_version_1)"
      ],
      "metadata": {
        "id": "pEa1_3816cgI",
        "colab": {
          "base_uri": "https://localhost:8080/",
          "height": 662
        },
        "outputId": "a09d5c85-b9ed-4ac4-c61c-9fc544fa4333"
      },
      "execution_count": 28,
      "outputs": [
        {
          "output_type": "stream",
          "name": "stdout",
          "text": [
            "Epoch 1/10\n",
            "4096/4096 [==============================] - 151s 37ms/step - loss: 0.2594 - acc: 0.5009 - val_loss: 0.2499 - val_acc: 0.5005\n",
            "Epoch 2/10\n",
            "4096/4096 [==============================] - 149s 36ms/step - loss: 0.2552 - acc: 0.5006 - val_loss: 0.2499 - val_acc: 0.5005\n",
            "Epoch 3/10\n",
            "4096/4096 [==============================] - 156s 38ms/step - loss: 0.2538 - acc: 0.4995 - val_loss: 0.2499 - val_acc: 0.6330\n",
            "Epoch 4/10\n",
            "4096/4096 [==============================] - 153s 37ms/step - loss: 0.2528 - acc: 0.5012 - val_loss: 0.2499 - val_acc: 0.5005\n",
            "Epoch 5/10\n",
            "4096/4096 [==============================] - 157s 38ms/step - loss: 0.2522 - acc: 0.5014 - val_loss: 0.2499 - val_acc: 0.5005\n",
            "Epoch 6/10\n",
            "4096/4096 [==============================] - 153s 37ms/step - loss: 0.2519 - acc: 0.5004 - val_loss: 0.2499 - val_acc: 0.5005\n",
            "Epoch 7/10\n",
            "4096/4096 [==============================] - 154s 38ms/step - loss: 0.2517 - acc: 0.5007 - val_loss: 0.2499 - val_acc: 0.4831\n",
            "Epoch 8/10\n",
            "4096/4096 [==============================] - 155s 38ms/step - loss: 0.2514 - acc: 0.5016 - val_loss: 0.2499 - val_acc: 0.5000\n",
            "Epoch 9/10\n",
            "4096/4096 [==============================] - 180s 44ms/step - loss: 0.2512 - acc: 0.5019 - val_loss: 0.2499 - val_acc: 0.5005\n",
            "Epoch 10/10\n",
            "4096/4096 [==============================] - 178s 43ms/step - loss: 0.2513 - acc: 0.4999 - val_loss: 0.2499 - val_acc: 0.6039\n"
          ]
        },
        {
          "output_type": "display_data",
          "data": {
            "text/plain": [
              "<Figure size 432x288 with 1 Axes>"
            ],
            "image/png": "[encoded data removed]"
          },
          "metadata": {
            "needs_background": "light"
          }
        }
      ]
    },
    {
      "cell_type": "code",
      "source": [
        "# Training the model 3.2.3 Version 1\n",
        "\n",
        "history_3_2_3_version_1= model_3_2_3_version_1.fit(train_ds, validation_data=validation_ds, epochs = 10, verbose = 1, steps_per_epoch=steps_per_epoch, validation_steps=validation_steps)\n",
        "plot_hist(history_3_2_3_version_1)"
      ],
      "metadata": {
        "id": "wu_ZTIjl6ciY",
        "colab": {
          "base_uri": "https://localhost:8080/",
          "height": 662
        },
        "outputId": "9425d1be-298b-432e-8f3b-3e8cfc4496ca"
      },
      "execution_count": 29,
      "outputs": [
        {
          "output_type": "stream",
          "name": "stdout",
          "text": [
            "Epoch 1/10\n",
            "4096/4096 [==============================] - 153s 37ms/step - loss: 0.2263 - acc: 0.6200 - val_loss: 0.2125 - val_acc: 0.7038\n",
            "Epoch 2/10\n",
            "4096/4096 [==============================] - 151s 37ms/step - loss: 0.1698 - acc: 0.7532 - val_loss: 0.1505 - val_acc: 0.7772\n",
            "Epoch 3/10\n",
            "4096/4096 [==============================] - 157s 38ms/step - loss: 0.1362 - acc: 0.8087 - val_loss: 0.1376 - val_acc: 0.8041\n",
            "Epoch 4/10\n",
            "4096/4096 [==============================] - 155s 38ms/step - loss: 0.1192 - acc: 0.8346 - val_loss: 0.1415 - val_acc: 0.7945\n",
            "Epoch 5/10\n",
            "4096/4096 [==============================] - 154s 38ms/step - loss: 0.1077 - acc: 0.8530 - val_loss: 0.1526 - val_acc: 0.7896\n",
            "Epoch 6/10\n",
            "4096/4096 [==============================] - 156s 38ms/step - loss: 0.0980 - acc: 0.8684 - val_loss: 0.1354 - val_acc: 0.8154\n",
            "Epoch 7/10\n",
            "4096/4096 [==============================] - 184s 45ms/step - loss: 0.0890 - acc: 0.8826 - val_loss: 0.1371 - val_acc: 0.8125\n",
            "Epoch 8/10\n",
            "4096/4096 [==============================] - 179s 44ms/step - loss: 0.0812 - acc: 0.8946 - val_loss: 0.1474 - val_acc: 0.8036\n",
            "Epoch 9/10\n",
            "4096/4096 [==============================] - 183s 45ms/step - loss: 0.0745 - acc: 0.9044 - val_loss: 0.1634 - val_acc: 0.7886\n",
            "Epoch 10/10\n",
            "4096/4096 [==============================] - 155s 38ms/step - loss: 0.0689 - acc: 0.9123 - val_loss: 0.1877 - val_acc: 0.7590\n"
          ]
        },
        {
          "output_type": "display_data",
          "data": {
            "text/plain": [
              "<Figure size 432x288 with 1 Axes>"
            ],
            "image/png": "[encoded data removed]"
          },
          "metadata": {
            "needs_background": "light"
          }
        }
      ]
    },
    {
      "cell_type": "code",
      "source": [
        "# Testing the models\n",
        "\n",
        "print(\"Test dataset accuracy for model 1.1.1 version 1 is: {0:.4f}\".format(model_1_1_1_version_1.evaluate(test_ds, steps=steps, verbose=1)[1]))\n",
        "print(\"Test dataset accuracy for model 1.1.2 version 1 is: {0:.4f}\".format(model_1_1_2_version_1.evaluate(test_ds, steps=steps, verbose=1)[1]))\n",
        "print(\"Test dataset accuracy for model 1.1.3 version 1 is: {0:.4f}\".format(model_1_1_3_version_1.evaluate(test_ds, steps=steps, verbose=1)[1]))\n",
        "\n",
        "print(\"Test dataset accuracy for model 1.2.1 version 1 is: {0:.4f}\".format(model_1_2_1_version_1.evaluate(test_ds, steps=steps, verbose=1)[1]))\n",
        "print(\"Test dataset accuracy for model 1.2.2 version 1 is: {0:.4f}\".format(model_1_2_2_version_1.evaluate(test_ds, steps=steps, verbose=1)[1]))\n",
        "print(\"Test dataset accuracy for model 1.2.3 version 1 is: {0:.4f}\".format(model_1_2_3_version_1.evaluate(test_ds, steps=steps, verbose=1)[1]))\n",
        "\n",
        "print(\"Test dataset accuracy for model 2.1.1 version 1 is: {0:.4f}\".format(model_2_1_1_version_1.evaluate(test_ds, steps=steps, verbose=1)[1]))\n",
        "print(\"Test dataset accuracy for model 2.1.2 version 1 is: {0:.4f}\".format(model_2_1_2_version_1.evaluate(test_ds, steps=steps, verbose=1)[1]))\n",
        "print(\"Test dataset accuracy for model 2.1.3 version 1 is: {0:.4f}\".format(model_2_1_3_version_1.evaluate(test_ds, steps=steps, verbose=1)[1]))"
      ],
      "metadata": {
        "colab": {
          "base_uri": "https://localhost:8080/"
        },
        "id": "bZ2OA1yX7i7C",
        "outputId": "9be71d86-6ca1-4a7c-9cfd-8087110ba019"
      },
      "execution_count": null,
      "outputs": [
        {
          "output_type": "stream",
          "name": "stdout",
          "text": [
            "256/256 [==============================] - 8s 32ms/step - loss: 0.7308 - acc: 0.7690\n",
            "Test dataset accuracy for model 1.1.1 version 1 is: 0.7690\n",
            "256/256 [==============================] - 8s 29ms/step - loss: 0.7255 - acc: 0.7763\n",
            "Test dataset accuracy for model 1.1.2 version 1 is: 0.7763\n",
            "256/256 [==============================] - 8s 29ms/step - loss: 0.9998 - acc: 0.5002\n",
            "Test dataset accuracy for model 1.1.3 version 1 is: 0.5002\n",
            "256/256 [==============================] - 8s 29ms/step - loss: 0.1476 - acc: 0.7986\n",
            "Test dataset accuracy for model 1.2.1 version 1 is: 0.7986\n",
            "256/256 [==============================] - 8s 29ms/step - loss: 0.1612 - acc: 0.7695\n",
            "Test dataset accuracy for model 1.2.2 version 1 is: 0.7695\n",
            "256/256 [==============================] - 7s 29ms/step - loss: 0.1720 - acc: 0.7935\n",
            "Test dataset accuracy for model 1.2.3 version 1 is: 0.7935\n",
            "256/256 [==============================] - 8s 30ms/step - loss: 0.9998 - acc: 0.5002\n",
            "Test dataset accuracy for model 2.1.1 version 1 is: 0.5002\n",
            "256/256 [==============================] - 8s 30ms/step - loss: 1.0001 - acc: 0.4998\n",
            "Test dataset accuracy for model 2.1.2 version 1 is: 0.4998\n",
            "256/256 [==============================] - 8s 29ms/step - loss: 1.0002 - acc: 0.4998\n",
            "Test dataset accuracy for model 2.1.3 version 1 is: 0.4998\n"
          ]
        }
      ]
    },
    {
      "cell_type": "code",
      "source": [
        "import joblib"
      ],
      "metadata": {
        "id": "jNbMB5F37koa"
      },
      "execution_count": 32,
      "outputs": []
    },
    {
      "cell_type": "code",
      "source": [
        "\n",
        "joblib.dump(model_1_1_1_version_1, 'model_1_1_1_version_1')\n",
        "joblib.dump(model_1_1_2_version_1, 'model_1_1_2_version_1')\n",
        "joblib.dump(model_1_1_3_version_1, 'model_1_1_3_version_1')\n",
        "\n",
        "joblib.dump(model_1_2_1_version_1, 'model_1_2_1_version_1')\n",
        "joblib.dump(model_1_2_2_version_1, 'model_1_2_2_version_1')\n",
        "joblib.dump(model_1_2_3_version_1, 'model_1_2_3_version_1')\n",
        "\n",
        "joblib.dump(model_2_1_1_version_1, 'model_2_1_1_version_1')\n",
        "joblib.dump(model_2_1_2_version_1, 'model_2_1_2_version_1')\n",
        "joblib.dump(model_2_1_3_version_1, 'model_2_1_3_version_1')"
      ],
      "metadata": {
        "colab": {
          "base_uri": "https://localhost:8080/"
        },
        "id": "EZtJqFw87lrD",
        "outputId": "1368fa5a-50f9-4f8d-f709-09fe95f546be"
      },
      "execution_count": null,
      "outputs": [
        {
          "output_type": "stream",
          "name": "stdout",
          "text": [
            "INFO:tensorflow:Assets written to: ram://b7286f7b-200b-41b7-bab6-e54ae9a7902b/assets\n"
          ]
        },
        {
          "output_type": "stream",
          "name": "stderr",
          "text": [
            "INFO:tensorflow:Assets written to: ram://b7286f7b-200b-41b7-bab6-e54ae9a7902b/assets\n"
          ]
        },
        {
          "output_type": "stream",
          "name": "stdout",
          "text": [
            "INFO:tensorflow:Assets written to: ram://9df2c7cc-5611-4d2d-b96e-d43638465896/assets\n"
          ]
        },
        {
          "output_type": "stream",
          "name": "stderr",
          "text": [
            "INFO:tensorflow:Assets written to: ram://9df2c7cc-5611-4d2d-b96e-d43638465896/assets\n"
          ]
        },
        {
          "output_type": "stream",
          "name": "stdout",
          "text": [
            "INFO:tensorflow:Assets written to: ram://e051a648-a2fb-4c85-acf8-776bc69c6530/assets\n"
          ]
        },
        {
          "output_type": "stream",
          "name": "stderr",
          "text": [
            "INFO:tensorflow:Assets written to: ram://e051a648-a2fb-4c85-acf8-776bc69c6530/assets\n"
          ]
        },
        {
          "output_type": "stream",
          "name": "stdout",
          "text": [
            "INFO:tensorflow:Assets written to: ram://5cbe387b-a8d5-4e9f-911e-422d1f5d4180/assets\n"
          ]
        },
        {
          "output_type": "stream",
          "name": "stderr",
          "text": [
            "INFO:tensorflow:Assets written to: ram://5cbe387b-a8d5-4e9f-911e-422d1f5d4180/assets\n"
          ]
        },
        {
          "output_type": "stream",
          "name": "stdout",
          "text": [
            "INFO:tensorflow:Assets written to: ram://da320dae-948f-4c9c-a1d8-26501895c8db/assets\n"
          ]
        },
        {
          "output_type": "stream",
          "name": "stderr",
          "text": [
            "INFO:tensorflow:Assets written to: ram://da320dae-948f-4c9c-a1d8-26501895c8db/assets\n"
          ]
        },
        {
          "output_type": "stream",
          "name": "stdout",
          "text": [
            "INFO:tensorflow:Assets written to: ram://0ff83324-501b-4170-b3c8-d691c77a97f3/assets\n"
          ]
        },
        {
          "output_type": "stream",
          "name": "stderr",
          "text": [
            "INFO:tensorflow:Assets written to: ram://0ff83324-501b-4170-b3c8-d691c77a97f3/assets\n"
          ]
        },
        {
          "output_type": "stream",
          "name": "stdout",
          "text": [
            "INFO:tensorflow:Assets written to: ram://208d421e-fd78-4da5-b7b9-fe927dc229dc/assets\n"
          ]
        },
        {
          "output_type": "stream",
          "name": "stderr",
          "text": [
            "INFO:tensorflow:Assets written to: ram://208d421e-fd78-4da5-b7b9-fe927dc229dc/assets\n"
          ]
        },
        {
          "output_type": "stream",
          "name": "stdout",
          "text": [
            "INFO:tensorflow:Assets written to: ram://dd5eeed4-04d1-474f-8232-668418d4417f/assets\n"
          ]
        },
        {
          "output_type": "stream",
          "name": "stderr",
          "text": [
            "INFO:tensorflow:Assets written to: ram://dd5eeed4-04d1-474f-8232-668418d4417f/assets\n"
          ]
        },
        {
          "output_type": "stream",
          "name": "stdout",
          "text": [
            "INFO:tensorflow:Assets written to: ram://19af0dfb-7b18-4976-958e-9e1b35cdae08/assets\n"
          ]
        },
        {
          "output_type": "stream",
          "name": "stderr",
          "text": [
            "INFO:tensorflow:Assets written to: ram://19af0dfb-7b18-4976-958e-9e1b35cdae08/assets\n"
          ]
        },
        {
          "output_type": "execute_result",
          "data": {
            "text/plain": [
              "['model_2_1_3_version_1']"
            ]
          },
          "metadata": {},
          "execution_count": 39
        }
      ]
    },
    {
      "cell_type": "code",
      "source": [
        "\n",
        "model_1_1_1_version_1_object= joblib.load('model_1_1_1_version_1')\n",
        "model_1_1_2_version_1_object= joblib.load('model_1_1_2_version_1')\n",
        "model_1_1_3_version_1_object= joblib.load('model_1_1_3_version_1')\n",
        "\n",
        "model_1_2_1_version_1_object= joblib.load('model_1_2_1_version_1')\n",
        "model_1_2_2_version_1_object= joblib.load('model_1_2_2_version_1')\n",
        "model_1_2_3_version_1_object= joblib.load('model_1_2_3_version_1')\n",
        "\n",
        "model_2_1_1_version_1_object= joblib.load('model_2_1_1_version_1')\n",
        "model_2_1_2_version_1_object= joblib.load('model_2_1_2_version_1')\n",
        "model_2_1_3_version_1_object= joblib.load('model_2_1_3_version_1')"
      ],
      "metadata": {
        "id": "Sx9AyvgA7m2i"
      },
      "execution_count": null,
      "outputs": []
    },
    {
      "cell_type": "code",
      "source": [
        "# Testing the models using the model objects\n",
        "\n",
        "\n",
        "print(\"Test dataset accuracy for model 1.1.1 version 1 is: {0:.4f}\".format(model_1_1_1_version_1_object.evaluate(test_ds, steps=steps, verbose=1)[1]))\n",
        "print(\"Test dataset accuracy for model 1.1.2 version 1 is: {0:.4f}\".format(model_1_1_2_version_1_object.evaluate(test_ds, steps=steps, verbose=1)[1]))\n",
        "print(\"Test dataset accuracy for model 1.1.3 version 1 is: {0:.4f}\".format(model_1_1_3_version_1_object.evaluate(test_ds, steps=steps, verbose=1)[1]))\n",
        "\n",
        "print(\"Test dataset accuracy for model 1.2.1 version 1 is: {0:.4f}\".format(model_1_2_1_version_1_object.evaluate(test_ds, steps=steps, verbose=1)[1]))\n",
        "print(\"Test dataset accuracy for model 1.2.2 version 1 is: {0:.4f}\".format(model_1_2_2_version_1_object.evaluate(test_ds, steps=steps, verbose=1)[1]))\n",
        "print(\"Test dataset accuracy for model 1.2.3 version 1 is: {0:.4f}\".format(model_1_2_3_version_1_object.evaluate(test_ds, steps=steps, verbose=1)[1]))\n",
        "\n",
        "print(\"Test dataset accuracy for model 2.1.1 version 1 is: {0:.4f}\".format(model_2_1_1_version_1_object.evaluate(test_ds, steps=steps, verbose=1)[1]))\n",
        "print(\"Test dataset accuracy for model 2.1.2 version 1 is: {0:.4f}\".format(model_2_1_2_version_1_object.evaluate(test_ds, steps=steps, verbose=1)[1]))\n",
        "print(\"Test dataset accuracy for model 2.1.3 version 1 is: {0:.4f}\".format(model_2_1_3_version_1_object.evaluate(test_ds, steps=steps, verbose=1)[1]))\n"
      ],
      "metadata": {
        "colab": {
          "base_uri": "https://localhost:8080/"
        },
        "id": "KAlt-Ojd7n_Q",
        "outputId": "11737659-5532-4f33-bae3-1413fad99e6f"
      },
      "execution_count": null,
      "outputs": [
        {
          "output_type": "stream",
          "name": "stdout",
          "text": [
            "256/256 [==============================] - 7s 28ms/step - loss: 0.7308 - acc: 0.7690\n",
            "Test dataset accuracy for model 1.1.1 version 1 is: 0.7690\n",
            "256/256 [==============================] - 8s 29ms/step - loss: 0.7255 - acc: 0.7763\n",
            "Test dataset accuracy for model 1.1.2 version 1 is: 0.7763\n",
            "256/256 [==============================] - 8s 30ms/step - loss: 0.9998 - acc: 0.5002\n",
            "Test dataset accuracy for model 1.1.3 version 1 is: 0.5002\n",
            "256/256 [==============================] - 8s 29ms/step - loss: 0.1476 - acc: 0.7986\n",
            "Test dataset accuracy for model 1.2.1 version 1 is: 0.7986\n",
            "256/256 [==============================] - 8s 29ms/step - loss: 0.1612 - acc: 0.7695\n",
            "Test dataset accuracy for model 1.2.2 version 1 is: 0.7695\n",
            "256/256 [==============================] - 8s 29ms/step - loss: 0.1720 - acc: 0.7935\n",
            "Test dataset accuracy for model 1.2.3 version 1 is: 0.7935\n",
            "256/256 [==============================] - 8s 30ms/step - loss: 0.9998 - acc: 0.5002\n",
            "Test dataset accuracy for model 2.1.1 version 1 is: 0.5002\n",
            "256/256 [==============================] - 8s 29ms/step - loss: 1.0001 - acc: 0.4998\n",
            "Test dataset accuracy for model 2.1.2 version 1 is: 0.4998\n",
            "256/256 [==============================] - 8s 30ms/step - loss: 1.0002 - acc: 0.4998\n",
            "Test dataset accuracy for model 2.1.3 version 1 is: 0.4998\n"
          ]
        }
      ]
    },
    {
      "cell_type": "markdown",
      "source": [
        "Second part"
      ],
      "metadata": {
        "id": "6SKIHqwR90e4"
      }
    },
    {
      "cell_type": "code",
      "source": [
        "print(\"Test dataset accuracy for model 2.2.1 version 1 is: {0:.4f}\".format(model_2_2_1_version_1.evaluate(test_ds, steps=steps, verbose=1)[1]))\n",
        "print(\"Test dataset accuracy for model 2.2.2 version 1 is: {0:.4f}\".format(model_2_2_2_version_1.evaluate(test_ds, steps=steps, verbose=1)[1]))\n",
        "print(\"Test dataset accuracy for model 2.2.3 version 1 is: {0:.4f}\".format(model_2_2_3_version_1.evaluate(test_ds, steps=steps, verbose=1)[1]))\n",
        "\n",
        "print(\"Test dataset accuracy for model 3.1.1 version 1 is: {0:.4f}\".format(model_3_1_1_version_1.evaluate(test_ds, steps=steps, verbose=1)[1]))\n",
        "print(\"Test dataset accuracy for model 3.1.2 version 1 is: {0:.4f}\".format(model_3_1_2_version_1.evaluate(test_ds, steps=steps, verbose=1)[1]))\n",
        "print(\"Test dataset accuracy for model 3.1.3 version 1 is: {0:.4f}\".format(model_3_1_3_version_1.evaluate(test_ds, steps=steps, verbose=1)[1]))\n",
        "\n",
        "print(\"Test dataset accuracy for model 3.2.1 version 1 is: {0:.4f}\".format(model_3_2_1_version_1.evaluate(test_ds, steps=steps, verbose=1)[1]))\n",
        "print(\"Test dataset accuracy for model 3.2.2 version 1 is: {0:.4f}\".format(model_3_2_2_version_1.evaluate(test_ds, steps=steps, verbose=1)[1]))\n",
        "print(\"Test dataset accuracy for model 3.2.3 version 1 is: {0:.4f}\".format(model_3_2_3_version_1.evaluate(test_ds, steps=steps, verbose=1)[1]))\n"
      ],
      "metadata": {
        "colab": {
          "base_uri": "https://localhost:8080/"
        },
        "id": "2b7V97HR9xyA",
        "outputId": "bb34e08f-d536-4ee5-bfd9-2382a9880396"
      },
      "execution_count": 30,
      "outputs": [
        {
          "output_type": "stream",
          "name": "stdout",
          "text": [
            "256/256 [==============================] - 10s 37ms/step - loss: 0.2503 - acc: 0.5002\n",
            "Test dataset accuracy for model 2.2.1 version 1 is: 0.5002\n",
            "256/256 [==============================] - 8s 30ms/step - loss: 0.2500 - acc: 0.5002\n",
            "Test dataset accuracy for model 2.2.2 version 1 is: 0.5002\n",
            "256/256 [==============================] - 8s 30ms/step - loss: 0.1598 - acc: 0.7639\n",
            "Test dataset accuracy for model 2.2.3 version 1 is: 0.7639\n",
            "256/256 [==============================] - 8s 30ms/step - loss: 0.7830 - acc: 0.7192\n",
            "Test dataset accuracy for model 3.1.1 version 1 is: 0.7192\n",
            "256/256 [==============================] - 8s 29ms/step - loss: 0.8559 - acc: 0.6467\n",
            "Test dataset accuracy for model 3.1.2 version 1 is: 0.6467\n",
            "256/256 [==============================] - 8s 30ms/step - loss: 0.8612 - acc: 0.6389\n",
            "Test dataset accuracy for model 3.1.3 version 1 is: 0.6389\n",
            "256/256 [==============================] - 8s 30ms/step - loss: 0.2500 - acc: 0.5002\n",
            "Test dataset accuracy for model 3.2.1 version 1 is: 0.5002\n",
            "256/256 [==============================] - 8s 30ms/step - loss: 0.2499 - acc: 0.6199\n",
            "Test dataset accuracy for model 3.2.2 version 1 is: 0.6199\n",
            "256/256 [==============================] - 8s 30ms/step - loss: 0.1920 - acc: 0.7564\n",
            "Test dataset accuracy for model 3.2.3 version 1 is: 0.7564\n"
          ]
        }
      ]
    },
    {
      "cell_type": "code",
      "source": [
        "joblib.dump(model_2_2_1_version_1, 'model_2_2_1_version_1')\n",
        "joblib.dump(model_2_2_2_version_1, 'model_2_2_2_version_1')\n",
        "joblib.dump(model_2_2_3_version_1, 'model_2_2_3_version_1')\n",
        "\n",
        "joblib.dump(model_3_1_1_version_1, 'model_3_1_1_version_1')\n",
        "joblib.dump(model_3_1_2_version_1, 'model_3_1_2_version_1')\n",
        "joblib.dump(model_3_1_3_version_1, 'model_3_1_3_version_1')\n",
        "\n",
        "joblib.dump(model_3_2_1_version_1, 'model_3_2_1_version_1')\n",
        "joblib.dump(model_3_2_2_version_1, 'model_3_2_2_version_1')\n",
        "joblib.dump(model_3_2_3_version_1, 'model_3_2_3_version_1')"
      ],
      "metadata": {
        "colab": {
          "base_uri": "https://localhost:8080/"
        },
        "id": "wZ3iCMjJ-JMG",
        "outputId": "9f958a22-f563-47e2-cc1f-ea9bfbcd791a"
      },
      "execution_count": 33,
      "outputs": [
        {
          "output_type": "stream",
          "name": "stdout",
          "text": [
            "INFO:tensorflow:Assets written to: ram://3c60c11f-25e9-4b0a-8405-a65c0bf12f46/assets\n"
          ]
        },
        {
          "output_type": "stream",
          "name": "stderr",
          "text": [
            "INFO:tensorflow:Assets written to: ram://3c60c11f-25e9-4b0a-8405-a65c0bf12f46/assets\n"
          ]
        },
        {
          "output_type": "stream",
          "name": "stdout",
          "text": [
            "INFO:tensorflow:Assets written to: ram://473177c5-fc2e-43f5-becd-7796a4135642/assets\n"
          ]
        },
        {
          "output_type": "stream",
          "name": "stderr",
          "text": [
            "INFO:tensorflow:Assets written to: ram://473177c5-fc2e-43f5-becd-7796a4135642/assets\n"
          ]
        },
        {
          "output_type": "stream",
          "name": "stdout",
          "text": [
            "INFO:tensorflow:Assets written to: ram://a5551414-f0af-4160-bc37-87eb96f1603a/assets\n"
          ]
        },
        {
          "output_type": "stream",
          "name": "stderr",
          "text": [
            "INFO:tensorflow:Assets written to: ram://a5551414-f0af-4160-bc37-87eb96f1603a/assets\n"
          ]
        },
        {
          "output_type": "stream",
          "name": "stdout",
          "text": [
            "INFO:tensorflow:Assets written to: ram://bf0f1ddb-34c0-4f85-9451-6ab7558d5cf1/assets\n"
          ]
        },
        {
          "output_type": "stream",
          "name": "stderr",
          "text": [
            "INFO:tensorflow:Assets written to: ram://bf0f1ddb-34c0-4f85-9451-6ab7558d5cf1/assets\n"
          ]
        },
        {
          "output_type": "stream",
          "name": "stdout",
          "text": [
            "INFO:tensorflow:Assets written to: ram://72ad141b-f93e-42ec-a1ed-2d1d87598d4f/assets\n"
          ]
        },
        {
          "output_type": "stream",
          "name": "stderr",
          "text": [
            "INFO:tensorflow:Assets written to: ram://72ad141b-f93e-42ec-a1ed-2d1d87598d4f/assets\n"
          ]
        },
        {
          "output_type": "stream",
          "name": "stdout",
          "text": [
            "INFO:tensorflow:Assets written to: ram://55c0cf97-9615-4730-9105-0a26665e99f3/assets\n"
          ]
        },
        {
          "output_type": "stream",
          "name": "stderr",
          "text": [
            "INFO:tensorflow:Assets written to: ram://55c0cf97-9615-4730-9105-0a26665e99f3/assets\n"
          ]
        },
        {
          "output_type": "stream",
          "name": "stdout",
          "text": [
            "INFO:tensorflow:Assets written to: ram://dffe689b-a911-4e1f-b54e-7d79679eb4f8/assets\n"
          ]
        },
        {
          "output_type": "stream",
          "name": "stderr",
          "text": [
            "INFO:tensorflow:Assets written to: ram://dffe689b-a911-4e1f-b54e-7d79679eb4f8/assets\n"
          ]
        },
        {
          "output_type": "stream",
          "name": "stdout",
          "text": [
            "INFO:tensorflow:Assets written to: ram://2c3c30eb-af72-4ab1-bc23-5ae820101f4f/assets\n"
          ]
        },
        {
          "output_type": "stream",
          "name": "stderr",
          "text": [
            "INFO:tensorflow:Assets written to: ram://2c3c30eb-af72-4ab1-bc23-5ae820101f4f/assets\n"
          ]
        },
        {
          "output_type": "stream",
          "name": "stdout",
          "text": [
            "INFO:tensorflow:Assets written to: ram://1cc729da-f49f-49ce-96f9-1e9a8045da2a/assets\n"
          ]
        },
        {
          "output_type": "stream",
          "name": "stderr",
          "text": [
            "INFO:tensorflow:Assets written to: ram://1cc729da-f49f-49ce-96f9-1e9a8045da2a/assets\n"
          ]
        },
        {
          "output_type": "execute_result",
          "data": {
            "text/plain": [
              "['model_3_2_3_version_1']"
            ]
          },
          "metadata": {},
          "execution_count": 33
        }
      ]
    },
    {
      "cell_type": "code",
      "source": [
        "model_2_2_1_version_1_object= joblib.load('model_2_2_1_version_1')\n",
        "model_2_2_2_version_1_object= joblib.load('model_2_2_2_version_1')\n",
        "model_2_2_3_version_1_object= joblib.load('model_2_2_3_version_1')\n",
        "\n",
        "model_3_1_1_version_1_object= joblib.load('model_3_1_1_version_1')\n",
        "model_3_1_2_version_1_object= joblib.load('model_3_1_2_version_1')\n",
        "model_3_1_3_version_1_object= joblib.load('model_3_1_3_version_1')\n",
        "\n",
        "model_3_2_1_version_1_object= joblib.load('model_3_2_1_version_1')\n",
        "model_3_2_2_version_1_object= joblib.load('model_3_2_2_version_1')\n",
        "model_3_2_3_version_1_object= joblib.load('model_3_2_3_version_1')"
      ],
      "metadata": {
        "id": "Dy6pPXE3-RZs"
      },
      "execution_count": 34,
      "outputs": []
    },
    {
      "cell_type": "code",
      "source": [
        "print(\"Test dataset accuracy for model 2.2.1 version 1 is: {0:.4f}\".format(model_2_2_1_version_1_object.evaluate(test_ds, steps=steps, verbose=1)[1]))\n",
        "print(\"Test dataset accuracy for model 2.2.2 version 1 is: {0:.4f}\".format(model_2_2_2_version_1_object.evaluate(test_ds, steps=steps, verbose=1)[1]))\n",
        "print(\"Test dataset accuracy for model 2.2.3 version 1 is: {0:.4f}\".format(model_2_2_3_version_1_object.evaluate(test_ds, steps=steps, verbose=1)[1]))\n",
        "\n",
        "print(\"Test dataset accuracy for model 3.1.1 version 1 is: {0:.4f}\".format(model_3_1_1_version_1_object.evaluate(test_ds, steps=steps, verbose=1)[1]))\n",
        "print(\"Test dataset accuracy for model 3.1.2 version 1 is: {0:.4f}\".format(model_3_1_2_version_1_object.evaluate(test_ds, steps=steps, verbose=1)[1]))\n",
        "print(\"Test dataset accuracy for model 3.1.3 version 1 is: {0:.4f}\".format(model_3_1_3_version_1_object.evaluate(test_ds, steps=steps, verbose=1)[1]))\n",
        "\n",
        "print(\"Test dataset accuracy for model 3.2.1 version 1 is: {0:.4f}\".format(model_3_2_1_version_1_object.evaluate(test_ds, steps=steps, verbose=1)[1]))\n",
        "print(\"Test dataset accuracy for model 3.2.2 version 1 is: {0:.4f}\".format(model_3_2_2_version_1_object.evaluate(test_ds, steps=steps, verbose=1)[1]))\n",
        "print(\"Test dataset accuracy for model 3.2.3 version 1 is: {0:.4f}\".format(model_3_2_3_version_1_object.evaluate(test_ds, steps=steps, verbose=1)[1]))"
      ],
      "metadata": {
        "colab": {
          "base_uri": "https://localhost:8080/"
        },
        "id": "uo2dk9RG-W28",
        "outputId": "bcdff048-efa1-4f03-a8d7-4c93d48785aa"
      },
      "execution_count": 35,
      "outputs": [
        {
          "output_type": "stream",
          "name": "stdout",
          "text": [
            "256/256 [==============================] - 8s 30ms/step - loss: 0.2503 - acc: 0.5002\n",
            "Test dataset accuracy for model 2.2.1 version 1 is: 0.5002\n",
            "256/256 [==============================] - 8s 30ms/step - loss: 0.2500 - acc: 0.5002\n",
            "Test dataset accuracy for model 2.2.2 version 1 is: 0.5002\n",
            "256/256 [==============================] - 8s 30ms/step - loss: 0.1598 - acc: 0.7639\n",
            "Test dataset accuracy for model 2.2.3 version 1 is: 0.7639\n",
            "256/256 [==============================] - 7s 28ms/step - loss: 0.7830 - acc: 0.7192\n",
            "Test dataset accuracy for model 3.1.1 version 1 is: 0.7192\n",
            "256/256 [==============================] - 8s 29ms/step - loss: 0.8559 - acc: 0.6467\n",
            "Test dataset accuracy for model 3.1.2 version 1 is: 0.6467\n",
            "256/256 [==============================] - 8s 30ms/step - loss: 0.8612 - acc: 0.6389\n",
            "Test dataset accuracy for model 3.1.3 version 1 is: 0.6389\n",
            "256/256 [==============================] - 8s 30ms/step - loss: 0.2500 - acc: 0.5002\n",
            "Test dataset accuracy for model 3.2.1 version 1 is: 0.5002\n",
            "256/256 [==============================] - 8s 30ms/step - loss: 0.2499 - acc: 0.6199\n",
            "Test dataset accuracy for model 3.2.2 version 1 is: 0.6199\n",
            "256/256 [==============================] - 8s 30ms/step - loss: 0.1920 - acc: 0.7564\n",
            "Test dataset accuracy for model 3.2.3 version 1 is: 0.7564\n"
          ]
        }
      ]
    }
  ]
}