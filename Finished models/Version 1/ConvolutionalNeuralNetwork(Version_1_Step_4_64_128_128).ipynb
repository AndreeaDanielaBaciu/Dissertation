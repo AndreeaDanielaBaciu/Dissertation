{
  "nbformat": 4,
  "nbformat_minor": 0,
  "metadata": {
    "colab": {
      "name": "ConvolutionalNeuralNetwork(Version_1_Step_4_64_128_128).ipynb",
      "provenance": [],
      "collapsed_sections": [],
      "machine_shape": "hm"
    },
    "kernelspec": {
      "name": "python3",
      "display_name": "Python 3"
    },
    "language_info": {
      "name": "python"
    },
    "accelerator": "GPU",
    "widgets": {
      "application/vnd.jupyter.widget-state+json": {
        "ef931ab51f8c4d6da39a52b2884ad61c": {
          "model_module": "@jupyter-widgets/controls",
          "model_name": "HBoxModel",
          "model_module_version": "1.5.0",
          "state": {
            "_dom_classes": [],
            "_model_module": "@jupyter-widgets/controls",
            "_model_module_version": "1.5.0",
            "_model_name": "HBoxModel",
            "_view_count": null,
            "_view_module": "@jupyter-widgets/controls",
            "_view_module_version": "1.5.0",
            "_view_name": "HBoxView",
            "box_style": "",
            "children": [
              "IPY_MODEL_2caa8934f3bd4aa78255830fce7ae0d7",
              "IPY_MODEL_a04db938a7bd4c898ecac33fd03c0786",
              "IPY_MODEL_50e738f64a73499581862e89619ce5f5"
            ],
            "layout": "IPY_MODEL_55d6d458ee9d45c99ab4bda537773539"
          }
        },
        "2caa8934f3bd4aa78255830fce7ae0d7": {
          "model_module": "@jupyter-widgets/controls",
          "model_name": "HTMLModel",
          "model_module_version": "1.5.0",
          "state": {
            "_dom_classes": [],
            "_model_module": "@jupyter-widgets/controls",
            "_model_module_version": "1.5.0",
            "_model_name": "HTMLModel",
            "_view_count": null,
            "_view_module": "@jupyter-widgets/controls",
            "_view_module_version": "1.5.0",
            "_view_name": "HTMLView",
            "description": "",
            "description_tooltip": null,
            "layout": "IPY_MODEL_f2ee5ee8bee44ab9aa33b55e69709d26",
            "placeholder": "​",
            "style": "IPY_MODEL_0656ccefa18f4f6d8abac20150ac1f01",
            "value": "Dl Completed...: "
          }
        },
        "a04db938a7bd4c898ecac33fd03c0786": {
          "model_module": "@jupyter-widgets/controls",
          "model_name": "FloatProgressModel",
          "model_module_version": "1.5.0",
          "state": {
            "_dom_classes": [],
            "_model_module": "@jupyter-widgets/controls",
            "_model_module_version": "1.5.0",
            "_model_name": "FloatProgressModel",
            "_view_count": null,
            "_view_module": "@jupyter-widgets/controls",
            "_view_module_version": "1.5.0",
            "_view_name": "ProgressView",
            "bar_style": "success",
            "description": "",
            "description_tooltip": null,
            "layout": "IPY_MODEL_14fc29ea098740caa52288681f844d16",
            "max": 1,
            "min": 0,
            "orientation": "horizontal",
            "style": "IPY_MODEL_6f8364920ecf44bc8e3c4a4b620a8f16",
            "value": 0
          }
        },
        "50e738f64a73499581862e89619ce5f5": {
          "model_module": "@jupyter-widgets/controls",
          "model_name": "HTMLModel",
          "model_module_version": "1.5.0",
          "state": {
            "_dom_classes": [],
            "_model_module": "@jupyter-widgets/controls",
            "_model_module_version": "1.5.0",
            "_model_name": "HTMLModel",
            "_view_count": null,
            "_view_module": "@jupyter-widgets/controls",
            "_view_module_version": "1.5.0",
            "_view_name": "HTMLView",
            "description": "",
            "description_tooltip": null,
            "layout": "IPY_MODEL_31b57fda08344059ba54b9770a48e7ae",
            "placeholder": "​",
            "style": "IPY_MODEL_61964a29887344a896683063ee2f91d2",
            "value": " 0/0 [00:00&lt;?, ? url/s]"
          }
        },
        "55d6d458ee9d45c99ab4bda537773539": {
          "model_module": "@jupyter-widgets/base",
          "model_name": "LayoutModel",
          "model_module_version": "1.2.0",
          "state": {
            "_model_module": "@jupyter-widgets/base",
            "_model_module_version": "1.2.0",
            "_model_name": "LayoutModel",
            "_view_count": null,
            "_view_module": "@jupyter-widgets/base",
            "_view_module_version": "1.2.0",
            "_view_name": "LayoutView",
            "align_content": null,
            "align_items": null,
            "align_self": null,
            "border": null,
            "bottom": null,
            "display": null,
            "flex": null,
            "flex_flow": null,
            "grid_area": null,
            "grid_auto_columns": null,
            "grid_auto_flow": null,
            "grid_auto_rows": null,
            "grid_column": null,
            "grid_gap": null,
            "grid_row": null,
            "grid_template_areas": null,
            "grid_template_columns": null,
            "grid_template_rows": null,
            "height": null,
            "justify_content": null,
            "justify_items": null,
            "left": null,
            "margin": null,
            "max_height": null,
            "max_width": null,
            "min_height": null,
            "min_width": null,
            "object_fit": null,
            "object_position": null,
            "order": null,
            "overflow": null,
            "overflow_x": null,
            "overflow_y": null,
            "padding": null,
            "right": null,
            "top": null,
            "visibility": null,
            "width": null
          }
        },
        "f2ee5ee8bee44ab9aa33b55e69709d26": {
          "model_module": "@jupyter-widgets/base",
          "model_name": "LayoutModel",
          "model_module_version": "1.2.0",
          "state": {
            "_model_module": "@jupyter-widgets/base",
            "_model_module_version": "1.2.0",
            "_model_name": "LayoutModel",
            "_view_count": null,
            "_view_module": "@jupyter-widgets/base",
            "_view_module_version": "1.2.0",
            "_view_name": "LayoutView",
            "align_content": null,
            "align_items": null,
            "align_self": null,
            "border": null,
            "bottom": null,
            "display": null,
            "flex": null,
            "flex_flow": null,
            "grid_area": null,
            "grid_auto_columns": null,
            "grid_auto_flow": null,
            "grid_auto_rows": null,
            "grid_column": null,
            "grid_gap": null,
            "grid_row": null,
            "grid_template_areas": null,
            "grid_template_columns": null,
            "grid_template_rows": null,
            "height": null,
            "justify_content": null,
            "justify_items": null,
            "left": null,
            "margin": null,
            "max_height": null,
            "max_width": null,
            "min_height": null,
            "min_width": null,
            "object_fit": null,
            "object_position": null,
            "order": null,
            "overflow": null,
            "overflow_x": null,
            "overflow_y": null,
            "padding": null,
            "right": null,
            "top": null,
            "visibility": null,
            "width": null
          }
        },
        "0656ccefa18f4f6d8abac20150ac1f01": {
          "model_module": "@jupyter-widgets/controls",
          "model_name": "DescriptionStyleModel",
          "model_module_version": "1.5.0",
          "state": {
            "_model_module": "@jupyter-widgets/controls",
            "_model_module_version": "1.5.0",
            "_model_name": "DescriptionStyleModel",
            "_view_count": null,
            "_view_module": "@jupyter-widgets/base",
            "_view_module_version": "1.2.0",
            "_view_name": "StyleView",
            "description_width": ""
          }
        },
        "14fc29ea098740caa52288681f844d16": {
          "model_module": "@jupyter-widgets/base",
          "model_name": "LayoutModel",
          "model_module_version": "1.2.0",
          "state": {
            "_model_module": "@jupyter-widgets/base",
            "_model_module_version": "1.2.0",
            "_model_name": "LayoutModel",
            "_view_count": null,
            "_view_module": "@jupyter-widgets/base",
            "_view_module_version": "1.2.0",
            "_view_name": "LayoutView",
            "align_content": null,
            "align_items": null,
            "align_self": null,
            "border": null,
            "bottom": null,
            "display": null,
            "flex": null,
            "flex_flow": null,
            "grid_area": null,
            "grid_auto_columns": null,
            "grid_auto_flow": null,
            "grid_auto_rows": null,
            "grid_column": null,
            "grid_gap": null,
            "grid_row": null,
            "grid_template_areas": null,
            "grid_template_columns": null,
            "grid_template_rows": null,
            "height": null,
            "justify_content": null,
            "justify_items": null,
            "left": null,
            "margin": null,
            "max_height": null,
            "max_width": null,
            "min_height": null,
            "min_width": null,
            "object_fit": null,
            "object_position": null,
            "order": null,
            "overflow": null,
            "overflow_x": null,
            "overflow_y": null,
            "padding": null,
            "right": null,
            "top": null,
            "visibility": null,
            "width": "20px"
          }
        },
        "6f8364920ecf44bc8e3c4a4b620a8f16": {
          "model_module": "@jupyter-widgets/controls",
          "model_name": "ProgressStyleModel",
          "model_module_version": "1.5.0",
          "state": {
            "_model_module": "@jupyter-widgets/controls",
            "_model_module_version": "1.5.0",
            "_model_name": "ProgressStyleModel",
            "_view_count": null,
            "_view_module": "@jupyter-widgets/base",
            "_view_module_version": "1.2.0",
            "_view_name": "StyleView",
            "bar_color": null,
            "description_width": ""
          }
        },
        "31b57fda08344059ba54b9770a48e7ae": {
          "model_module": "@jupyter-widgets/base",
          "model_name": "LayoutModel",
          "model_module_version": "1.2.0",
          "state": {
            "_model_module": "@jupyter-widgets/base",
            "_model_module_version": "1.2.0",
            "_model_name": "LayoutModel",
            "_view_count": null,
            "_view_module": "@jupyter-widgets/base",
            "_view_module_version": "1.2.0",
            "_view_name": "LayoutView",
            "align_content": null,
            "align_items": null,
            "align_self": null,
            "border": null,
            "bottom": null,
            "display": null,
            "flex": null,
            "flex_flow": null,
            "grid_area": null,
            "grid_auto_columns": null,
            "grid_auto_flow": null,
            "grid_auto_rows": null,
            "grid_column": null,
            "grid_gap": null,
            "grid_row": null,
            "grid_template_areas": null,
            "grid_template_columns": null,
            "grid_template_rows": null,
            "height": null,
            "justify_content": null,
            "justify_items": null,
            "left": null,
            "margin": null,
            "max_height": null,
            "max_width": null,
            "min_height": null,
            "min_width": null,
            "object_fit": null,
            "object_position": null,
            "order": null,
            "overflow": null,
            "overflow_x": null,
            "overflow_y": null,
            "padding": null,
            "right": null,
            "top": null,
            "visibility": null,
            "width": null
          }
        },
        "61964a29887344a896683063ee2f91d2": {
          "model_module": "@jupyter-widgets/controls",
          "model_name": "DescriptionStyleModel",
          "model_module_version": "1.5.0",
          "state": {
            "_model_module": "@jupyter-widgets/controls",
            "_model_module_version": "1.5.0",
            "_model_name": "DescriptionStyleModel",
            "_view_count": null,
            "_view_module": "@jupyter-widgets/base",
            "_view_module_version": "1.2.0",
            "_view_name": "StyleView",
            "description_width": ""
          }
        },
        "5e3ce2449f5d4dfa8f4c99863cea731a": {
          "model_module": "@jupyter-widgets/controls",
          "model_name": "HBoxModel",
          "model_module_version": "1.5.0",
          "state": {
            "_dom_classes": [],
            "_model_module": "@jupyter-widgets/controls",
            "_model_module_version": "1.5.0",
            "_model_name": "HBoxModel",
            "_view_count": null,
            "_view_module": "@jupyter-widgets/controls",
            "_view_module_version": "1.5.0",
            "_view_name": "HBoxView",
            "box_style": "",
            "children": [
              "IPY_MODEL_e0933b0c4fd94c48a126f947b4ff0fd2",
              "IPY_MODEL_28731d74b8684724aa7b7779ba04b557",
              "IPY_MODEL_62f9eadbf5b64553ae9b5b3790852732"
            ],
            "layout": "IPY_MODEL_53af1b2ef5fb4bac8369bc0ad2e29a83"
          }
        },
        "e0933b0c4fd94c48a126f947b4ff0fd2": {
          "model_module": "@jupyter-widgets/controls",
          "model_name": "HTMLModel",
          "model_module_version": "1.5.0",
          "state": {
            "_dom_classes": [],
            "_model_module": "@jupyter-widgets/controls",
            "_model_module_version": "1.5.0",
            "_model_name": "HTMLModel",
            "_view_count": null,
            "_view_module": "@jupyter-widgets/controls",
            "_view_module_version": "1.5.0",
            "_view_name": "HTMLView",
            "description": "",
            "description_tooltip": null,
            "layout": "IPY_MODEL_6e346cf7e1ad4e0cab495e474b3d6345",
            "placeholder": "​",
            "style": "IPY_MODEL_ef11dffd698f4cc3a76726a5f1baf307",
            "value": "Dl Size...: "
          }
        },
        "28731d74b8684724aa7b7779ba04b557": {
          "model_module": "@jupyter-widgets/controls",
          "model_name": "FloatProgressModel",
          "model_module_version": "1.5.0",
          "state": {
            "_dom_classes": [],
            "_model_module": "@jupyter-widgets/controls",
            "_model_module_version": "1.5.0",
            "_model_name": "FloatProgressModel",
            "_view_count": null,
            "_view_module": "@jupyter-widgets/controls",
            "_view_module_version": "1.5.0",
            "_view_name": "ProgressView",
            "bar_style": "success",
            "description": "",
            "description_tooltip": null,
            "layout": "IPY_MODEL_70872e16b9fe4cad843a93a73ccf3ebd",
            "max": 1,
            "min": 0,
            "orientation": "horizontal",
            "style": "IPY_MODEL_177e46cab66f4fc8ae28a95de3ceea2d",
            "value": 0
          }
        },
        "62f9eadbf5b64553ae9b5b3790852732": {
          "model_module": "@jupyter-widgets/controls",
          "model_name": "HTMLModel",
          "model_module_version": "1.5.0",
          "state": {
            "_dom_classes": [],
            "_model_module": "@jupyter-widgets/controls",
            "_model_module_version": "1.5.0",
            "_model_name": "HTMLModel",
            "_view_count": null,
            "_view_module": "@jupyter-widgets/controls",
            "_view_module_version": "1.5.0",
            "_view_name": "HTMLView",
            "description": "",
            "description_tooltip": null,
            "layout": "IPY_MODEL_1ecd78d2e3c341769077431cef1e2802",
            "placeholder": "​",
            "style": "IPY_MODEL_a372526f65ed4f76a780a2a530926c38",
            "value": " 0/0 [00:00&lt;?, ? MiB/s]"
          }
        },
        "53af1b2ef5fb4bac8369bc0ad2e29a83": {
          "model_module": "@jupyter-widgets/base",
          "model_name": "LayoutModel",
          "model_module_version": "1.2.0",
          "state": {
            "_model_module": "@jupyter-widgets/base",
            "_model_module_version": "1.2.0",
            "_model_name": "LayoutModel",
            "_view_count": null,
            "_view_module": "@jupyter-widgets/base",
            "_view_module_version": "1.2.0",
            "_view_name": "LayoutView",
            "align_content": null,
            "align_items": null,
            "align_self": null,
            "border": null,
            "bottom": null,
            "display": null,
            "flex": null,
            "flex_flow": null,
            "grid_area": null,
            "grid_auto_columns": null,
            "grid_auto_flow": null,
            "grid_auto_rows": null,
            "grid_column": null,
            "grid_gap": null,
            "grid_row": null,
            "grid_template_areas": null,
            "grid_template_columns": null,
            "grid_template_rows": null,
            "height": null,
            "justify_content": null,
            "justify_items": null,
            "left": null,
            "margin": null,
            "max_height": null,
            "max_width": null,
            "min_height": null,
            "min_width": null,
            "object_fit": null,
            "object_position": null,
            "order": null,
            "overflow": null,
            "overflow_x": null,
            "overflow_y": null,
            "padding": null,
            "right": null,
            "top": null,
            "visibility": null,
            "width": null
          }
        },
        "6e346cf7e1ad4e0cab495e474b3d6345": {
          "model_module": "@jupyter-widgets/base",
          "model_name": "LayoutModel",
          "model_module_version": "1.2.0",
          "state": {
            "_model_module": "@jupyter-widgets/base",
            "_model_module_version": "1.2.0",
            "_model_name": "LayoutModel",
            "_view_count": null,
            "_view_module": "@jupyter-widgets/base",
            "_view_module_version": "1.2.0",
            "_view_name": "LayoutView",
            "align_content": null,
            "align_items": null,
            "align_self": null,
            "border": null,
            "bottom": null,
            "display": null,
            "flex": null,
            "flex_flow": null,
            "grid_area": null,
            "grid_auto_columns": null,
            "grid_auto_flow": null,
            "grid_auto_rows": null,
            "grid_column": null,
            "grid_gap": null,
            "grid_row": null,
            "grid_template_areas": null,
            "grid_template_columns": null,
            "grid_template_rows": null,
            "height": null,
            "justify_content": null,
            "justify_items": null,
            "left": null,
            "margin": null,
            "max_height": null,
            "max_width": null,
            "min_height": null,
            "min_width": null,
            "object_fit": null,
            "object_position": null,
            "order": null,
            "overflow": null,
            "overflow_x": null,
            "overflow_y": null,
            "padding": null,
            "right": null,
            "top": null,
            "visibility": null,
            "width": null
          }
        },
        "ef11dffd698f4cc3a76726a5f1baf307": {
          "model_module": "@jupyter-widgets/controls",
          "model_name": "DescriptionStyleModel",
          "model_module_version": "1.5.0",
          "state": {
            "_model_module": "@jupyter-widgets/controls",
            "_model_module_version": "1.5.0",
            "_model_name": "DescriptionStyleModel",
            "_view_count": null,
            "_view_module": "@jupyter-widgets/base",
            "_view_module_version": "1.2.0",
            "_view_name": "StyleView",
            "description_width": ""
          }
        },
        "70872e16b9fe4cad843a93a73ccf3ebd": {
          "model_module": "@jupyter-widgets/base",
          "model_name": "LayoutModel",
          "model_module_version": "1.2.0",
          "state": {
            "_model_module": "@jupyter-widgets/base",
            "_model_module_version": "1.2.0",
            "_model_name": "LayoutModel",
            "_view_count": null,
            "_view_module": "@jupyter-widgets/base",
            "_view_module_version": "1.2.0",
            "_view_name": "LayoutView",
            "align_content": null,
            "align_items": null,
            "align_self": null,
            "border": null,
            "bottom": null,
            "display": null,
            "flex": null,
            "flex_flow": null,
            "grid_area": null,
            "grid_auto_columns": null,
            "grid_auto_flow": null,
            "grid_auto_rows": null,
            "grid_column": null,
            "grid_gap": null,
            "grid_row": null,
            "grid_template_areas": null,
            "grid_template_columns": null,
            "grid_template_rows": null,
            "height": null,
            "justify_content": null,
            "justify_items": null,
            "left": null,
            "margin": null,
            "max_height": null,
            "max_width": null,
            "min_height": null,
            "min_width": null,
            "object_fit": null,
            "object_position": null,
            "order": null,
            "overflow": null,
            "overflow_x": null,
            "overflow_y": null,
            "padding": null,
            "right": null,
            "top": null,
            "visibility": null,
            "width": "20px"
          }
        },
        "177e46cab66f4fc8ae28a95de3ceea2d": {
          "model_module": "@jupyter-widgets/controls",
          "model_name": "ProgressStyleModel",
          "model_module_version": "1.5.0",
          "state": {
            "_model_module": "@jupyter-widgets/controls",
            "_model_module_version": "1.5.0",
            "_model_name": "ProgressStyleModel",
            "_view_count": null,
            "_view_module": "@jupyter-widgets/base",
            "_view_module_version": "1.2.0",
            "_view_name": "StyleView",
            "bar_color": null,
            "description_width": ""
          }
        },
        "1ecd78d2e3c341769077431cef1e2802": {
          "model_module": "@jupyter-widgets/base",
          "model_name": "LayoutModel",
          "model_module_version": "1.2.0",
          "state": {
            "_model_module": "@jupyter-widgets/base",
            "_model_module_version": "1.2.0",
            "_model_name": "LayoutModel",
            "_view_count": null,
            "_view_module": "@jupyter-widgets/base",
            "_view_module_version": "1.2.0",
            "_view_name": "LayoutView",
            "align_content": null,
            "align_items": null,
            "align_self": null,
            "border": null,
            "bottom": null,
            "display": null,
            "flex": null,
            "flex_flow": null,
            "grid_area": null,
            "grid_auto_columns": null,
            "grid_auto_flow": null,
            "grid_auto_rows": null,
            "grid_column": null,
            "grid_gap": null,
            "grid_row": null,
            "grid_template_areas": null,
            "grid_template_columns": null,
            "grid_template_rows": null,
            "height": null,
            "justify_content": null,
            "justify_items": null,
            "left": null,
            "margin": null,
            "max_height": null,
            "max_width": null,
            "min_height": null,
            "min_width": null,
            "object_fit": null,
            "object_position": null,
            "order": null,
            "overflow": null,
            "overflow_x": null,
            "overflow_y": null,
            "padding": null,
            "right": null,
            "top": null,
            "visibility": null,
            "width": null
          }
        },
        "a372526f65ed4f76a780a2a530926c38": {
          "model_module": "@jupyter-widgets/controls",
          "model_name": "DescriptionStyleModel",
          "model_module_version": "1.5.0",
          "state": {
            "_model_module": "@jupyter-widgets/controls",
            "_model_module_version": "1.5.0",
            "_model_name": "DescriptionStyleModel",
            "_view_count": null,
            "_view_module": "@jupyter-widgets/base",
            "_view_module_version": "1.2.0",
            "_view_name": "StyleView",
            "description_width": ""
          }
        },
        "5cdfc4e90a42441f863d29276cfe6d34": {
          "model_module": "@jupyter-widgets/controls",
          "model_name": "HBoxModel",
          "model_module_version": "1.5.0",
          "state": {
            "_dom_classes": [],
            "_model_module": "@jupyter-widgets/controls",
            "_model_module_version": "1.5.0",
            "_model_name": "HBoxModel",
            "_view_count": null,
            "_view_module": "@jupyter-widgets/controls",
            "_view_module_version": "1.5.0",
            "_view_name": "HBoxView",
            "box_style": "",
            "children": [
              "IPY_MODEL_cd99e42feafe4a51b7c568146eceddc4",
              "IPY_MODEL_ee212746a7004c5aaf2d6911561441ac",
              "IPY_MODEL_8d27ce9a3e004c9aa7d14221be041022"
            ],
            "layout": "IPY_MODEL_412cb23630c84f5bbfb60bea37d02a77"
          }
        },
        "cd99e42feafe4a51b7c568146eceddc4": {
          "model_module": "@jupyter-widgets/controls",
          "model_name": "HTMLModel",
          "model_module_version": "1.5.0",
          "state": {
            "_dom_classes": [],
            "_model_module": "@jupyter-widgets/controls",
            "_model_module_version": "1.5.0",
            "_model_name": "HTMLModel",
            "_view_count": null,
            "_view_module": "@jupyter-widgets/controls",
            "_view_module_version": "1.5.0",
            "_view_name": "HTMLView",
            "description": "",
            "description_tooltip": null,
            "layout": "IPY_MODEL_caa69f52d6194684a129ad9464d042bd",
            "placeholder": "​",
            "style": "IPY_MODEL_1e512b9b43d24749a1b5d82c0f17069b",
            "value": "Extraction completed...: "
          }
        },
        "ee212746a7004c5aaf2d6911561441ac": {
          "model_module": "@jupyter-widgets/controls",
          "model_name": "FloatProgressModel",
          "model_module_version": "1.5.0",
          "state": {
            "_dom_classes": [],
            "_model_module": "@jupyter-widgets/controls",
            "_model_module_version": "1.5.0",
            "_model_name": "FloatProgressModel",
            "_view_count": null,
            "_view_module": "@jupyter-widgets/controls",
            "_view_module_version": "1.5.0",
            "_view_name": "ProgressView",
            "bar_style": "success",
            "description": "",
            "description_tooltip": null,
            "layout": "IPY_MODEL_0260c6fc24f24a7185c3717479f3e452",
            "max": 1,
            "min": 0,
            "orientation": "horizontal",
            "style": "IPY_MODEL_9ccb7587185740f68328ba0a8b8a857e",
            "value": 0
          }
        },
        "8d27ce9a3e004c9aa7d14221be041022": {
          "model_module": "@jupyter-widgets/controls",
          "model_name": "HTMLModel",
          "model_module_version": "1.5.0",
          "state": {
            "_dom_classes": [],
            "_model_module": "@jupyter-widgets/controls",
            "_model_module_version": "1.5.0",
            "_model_name": "HTMLModel",
            "_view_count": null,
            "_view_module": "@jupyter-widgets/controls",
            "_view_module_version": "1.5.0",
            "_view_name": "HTMLView",
            "description": "",
            "description_tooltip": null,
            "layout": "IPY_MODEL_66d0e55295d044cc8ea3900f1efc0cc1",
            "placeholder": "​",
            "style": "IPY_MODEL_3d4e0909936b484098422bf9cd5a2b32",
            "value": " 0/0 [00:00&lt;?, ? file/s]"
          }
        },
        "412cb23630c84f5bbfb60bea37d02a77": {
          "model_module": "@jupyter-widgets/base",
          "model_name": "LayoutModel",
          "model_module_version": "1.2.0",
          "state": {
            "_model_module": "@jupyter-widgets/base",
            "_model_module_version": "1.2.0",
            "_model_name": "LayoutModel",
            "_view_count": null,
            "_view_module": "@jupyter-widgets/base",
            "_view_module_version": "1.2.0",
            "_view_name": "LayoutView",
            "align_content": null,
            "align_items": null,
            "align_self": null,
            "border": null,
            "bottom": null,
            "display": null,
            "flex": null,
            "flex_flow": null,
            "grid_area": null,
            "grid_auto_columns": null,
            "grid_auto_flow": null,
            "grid_auto_rows": null,
            "grid_column": null,
            "grid_gap": null,
            "grid_row": null,
            "grid_template_areas": null,
            "grid_template_columns": null,
            "grid_template_rows": null,
            "height": null,
            "justify_content": null,
            "justify_items": null,
            "left": null,
            "margin": null,
            "max_height": null,
            "max_width": null,
            "min_height": null,
            "min_width": null,
            "object_fit": null,
            "object_position": null,
            "order": null,
            "overflow": null,
            "overflow_x": null,
            "overflow_y": null,
            "padding": null,
            "right": null,
            "top": null,
            "visibility": null,
            "width": null
          }
        },
        "caa69f52d6194684a129ad9464d042bd": {
          "model_module": "@jupyter-widgets/base",
          "model_name": "LayoutModel",
          "model_module_version": "1.2.0",
          "state": {
            "_model_module": "@jupyter-widgets/base",
            "_model_module_version": "1.2.0",
            "_model_name": "LayoutModel",
            "_view_count": null,
            "_view_module": "@jupyter-widgets/base",
            "_view_module_version": "1.2.0",
            "_view_name": "LayoutView",
            "align_content": null,
            "align_items": null,
            "align_self": null,
            "border": null,
            "bottom": null,
            "display": null,
            "flex": null,
            "flex_flow": null,
            "grid_area": null,
            "grid_auto_columns": null,
            "grid_auto_flow": null,
            "grid_auto_rows": null,
            "grid_column": null,
            "grid_gap": null,
            "grid_row": null,
            "grid_template_areas": null,
            "grid_template_columns": null,
            "grid_template_rows": null,
            "height": null,
            "justify_content": null,
            "justify_items": null,
            "left": null,
            "margin": null,
            "max_height": null,
            "max_width": null,
            "min_height": null,
            "min_width": null,
            "object_fit": null,
            "object_position": null,
            "order": null,
            "overflow": null,
            "overflow_x": null,
            "overflow_y": null,
            "padding": null,
            "right": null,
            "top": null,
            "visibility": null,
            "width": null
          }
        },
        "1e512b9b43d24749a1b5d82c0f17069b": {
          "model_module": "@jupyter-widgets/controls",
          "model_name": "DescriptionStyleModel",
          "model_module_version": "1.5.0",
          "state": {
            "_model_module": "@jupyter-widgets/controls",
            "_model_module_version": "1.5.0",
            "_model_name": "DescriptionStyleModel",
            "_view_count": null,
            "_view_module": "@jupyter-widgets/base",
            "_view_module_version": "1.2.0",
            "_view_name": "StyleView",
            "description_width": ""
          }
        },
        "0260c6fc24f24a7185c3717479f3e452": {
          "model_module": "@jupyter-widgets/base",
          "model_name": "LayoutModel",
          "model_module_version": "1.2.0",
          "state": {
            "_model_module": "@jupyter-widgets/base",
            "_model_module_version": "1.2.0",
            "_model_name": "LayoutModel",
            "_view_count": null,
            "_view_module": "@jupyter-widgets/base",
            "_view_module_version": "1.2.0",
            "_view_name": "LayoutView",
            "align_content": null,
            "align_items": null,
            "align_self": null,
            "border": null,
            "bottom": null,
            "display": null,
            "flex": null,
            "flex_flow": null,
            "grid_area": null,
            "grid_auto_columns": null,
            "grid_auto_flow": null,
            "grid_auto_rows": null,
            "grid_column": null,
            "grid_gap": null,
            "grid_row": null,
            "grid_template_areas": null,
            "grid_template_columns": null,
            "grid_template_rows": null,
            "height": null,
            "justify_content": null,
            "justify_items": null,
            "left": null,
            "margin": null,
            "max_height": null,
            "max_width": null,
            "min_height": null,
            "min_width": null,
            "object_fit": null,
            "object_position": null,
            "order": null,
            "overflow": null,
            "overflow_x": null,
            "overflow_y": null,
            "padding": null,
            "right": null,
            "top": null,
            "visibility": null,
            "width": "20px"
          }
        },
        "9ccb7587185740f68328ba0a8b8a857e": {
          "model_module": "@jupyter-widgets/controls",
          "model_name": "ProgressStyleModel",
          "model_module_version": "1.5.0",
          "state": {
            "_model_module": "@jupyter-widgets/controls",
            "_model_module_version": "1.5.0",
            "_model_name": "ProgressStyleModel",
            "_view_count": null,
            "_view_module": "@jupyter-widgets/base",
            "_view_module_version": "1.2.0",
            "_view_name": "StyleView",
            "bar_color": null,
            "description_width": ""
          }
        },
        "66d0e55295d044cc8ea3900f1efc0cc1": {
          "model_module": "@jupyter-widgets/base",
          "model_name": "LayoutModel",
          "model_module_version": "1.2.0",
          "state": {
            "_model_module": "@jupyter-widgets/base",
            "_model_module_version": "1.2.0",
            "_model_name": "LayoutModel",
            "_view_count": null,
            "_view_module": "@jupyter-widgets/base",
            "_view_module_version": "1.2.0",
            "_view_name": "LayoutView",
            "align_content": null,
            "align_items": null,
            "align_self": null,
            "border": null,
            "bottom": null,
            "display": null,
            "flex": null,
            "flex_flow": null,
            "grid_area": null,
            "grid_auto_columns": null,
            "grid_auto_flow": null,
            "grid_auto_rows": null,
            "grid_column": null,
            "grid_gap": null,
            "grid_row": null,
            "grid_template_areas": null,
            "grid_template_columns": null,
            "grid_template_rows": null,
            "height": null,
            "justify_content": null,
            "justify_items": null,
            "left": null,
            "margin": null,
            "max_height": null,
            "max_width": null,
            "min_height": null,
            "min_width": null,
            "object_fit": null,
            "object_position": null,
            "order": null,
            "overflow": null,
            "overflow_x": null,
            "overflow_y": null,
            "padding": null,
            "right": null,
            "top": null,
            "visibility": null,
            "width": null
          }
        },
        "3d4e0909936b484098422bf9cd5a2b32": {
          "model_module": "@jupyter-widgets/controls",
          "model_name": "DescriptionStyleModel",
          "model_module_version": "1.5.0",
          "state": {
            "_model_module": "@jupyter-widgets/controls",
            "_model_module_version": "1.5.0",
            "_model_name": "DescriptionStyleModel",
            "_view_count": null,
            "_view_module": "@jupyter-widgets/base",
            "_view_module_version": "1.2.0",
            "_view_name": "StyleView",
            "description_width": ""
          }
        },
        "1f992558af384e0ba65eaf61a72fa2af": {
          "model_module": "@jupyter-widgets/controls",
          "model_name": "HBoxModel",
          "model_module_version": "1.5.0",
          "state": {
            "_dom_classes": [],
            "_model_module": "@jupyter-widgets/controls",
            "_model_module_version": "1.5.0",
            "_model_name": "HBoxModel",
            "_view_count": null,
            "_view_module": "@jupyter-widgets/controls",
            "_view_module_version": "1.5.0",
            "_view_name": "HBoxView",
            "box_style": "",
            "children": [
              "IPY_MODEL_200ec0cdd6d74127ac36bd750db45ad6",
              "IPY_MODEL_a41a6b973fa84c1ea3010627d7886f57",
              "IPY_MODEL_5c594b8b4ebc4e6a927a9a07c48037e3"
            ],
            "layout": "IPY_MODEL_cb709a135e7b42beaa53f655a727ce6a"
          }
        },
        "200ec0cdd6d74127ac36bd750db45ad6": {
          "model_module": "@jupyter-widgets/controls",
          "model_name": "HTMLModel",
          "model_module_version": "1.5.0",
          "state": {
            "_dom_classes": [],
            "_model_module": "@jupyter-widgets/controls",
            "_model_module_version": "1.5.0",
            "_model_name": "HTMLModel",
            "_view_count": null,
            "_view_module": "@jupyter-widgets/controls",
            "_view_module_version": "1.5.0",
            "_view_name": "HTMLView",
            "description": "",
            "description_tooltip": null,
            "layout": "IPY_MODEL_26c6650dc9c3474a8ec2504839aff181",
            "placeholder": "​",
            "style": "IPY_MODEL_08bc5b94bb764e67b166e6a6b4e19c0a",
            "value": ""
          }
        },
        "a41a6b973fa84c1ea3010627d7886f57": {
          "model_module": "@jupyter-widgets/controls",
          "model_name": "FloatProgressModel",
          "model_module_version": "1.5.0",
          "state": {
            "_dom_classes": [],
            "_model_module": "@jupyter-widgets/controls",
            "_model_module_version": "1.5.0",
            "_model_name": "FloatProgressModel",
            "_view_count": null,
            "_view_module": "@jupyter-widgets/controls",
            "_view_module_version": "1.5.0",
            "_view_name": "ProgressView",
            "bar_style": "info",
            "description": "",
            "description_tooltip": null,
            "layout": "IPY_MODEL_156d4e66b1b846e0acbb22b15e6eecca",
            "max": 1,
            "min": 0,
            "orientation": "horizontal",
            "style": "IPY_MODEL_47c946d00d4e4e87a53068930494550a",
            "value": 1
          }
        },
        "5c594b8b4ebc4e6a927a9a07c48037e3": {
          "model_module": "@jupyter-widgets/controls",
          "model_name": "HTMLModel",
          "model_module_version": "1.5.0",
          "state": {
            "_dom_classes": [],
            "_model_module": "@jupyter-widgets/controls",
            "_model_module_version": "1.5.0",
            "_model_name": "HTMLModel",
            "_view_count": null,
            "_view_module": "@jupyter-widgets/controls",
            "_view_module_version": "1.5.0",
            "_view_name": "HTMLView",
            "description": "",
            "description_tooltip": null,
            "layout": "IPY_MODEL_d6cfd697d2f249878baf9a722d2c87e7",
            "placeholder": "​",
            "style": "IPY_MODEL_c3fe7068b13f4d1cb92679e2a57e3ffb",
            "value": " 32754/0 [01:16&lt;00:00, 430.67 examples/s]"
          }
        },
        "cb709a135e7b42beaa53f655a727ce6a": {
          "model_module": "@jupyter-widgets/base",
          "model_name": "LayoutModel",
          "model_module_version": "1.2.0",
          "state": {
            "_model_module": "@jupyter-widgets/base",
            "_model_module_version": "1.2.0",
            "_model_name": "LayoutModel",
            "_view_count": null,
            "_view_module": "@jupyter-widgets/base",
            "_view_module_version": "1.2.0",
            "_view_name": "LayoutView",
            "align_content": null,
            "align_items": null,
            "align_self": null,
            "border": null,
            "bottom": null,
            "display": null,
            "flex": null,
            "flex_flow": null,
            "grid_area": null,
            "grid_auto_columns": null,
            "grid_auto_flow": null,
            "grid_auto_rows": null,
            "grid_column": null,
            "grid_gap": null,
            "grid_row": null,
            "grid_template_areas": null,
            "grid_template_columns": null,
            "grid_template_rows": null,
            "height": null,
            "justify_content": null,
            "justify_items": null,
            "left": null,
            "margin": null,
            "max_height": null,
            "max_width": null,
            "min_height": null,
            "min_width": null,
            "object_fit": null,
            "object_position": null,
            "order": null,
            "overflow": null,
            "overflow_x": null,
            "overflow_y": null,
            "padding": null,
            "right": null,
            "top": null,
            "visibility": null,
            "width": null
          }
        },
        "26c6650dc9c3474a8ec2504839aff181": {
          "model_module": "@jupyter-widgets/base",
          "model_name": "LayoutModel",
          "model_module_version": "1.2.0",
          "state": {
            "_model_module": "@jupyter-widgets/base",
            "_model_module_version": "1.2.0",
            "_model_name": "LayoutModel",
            "_view_count": null,
            "_view_module": "@jupyter-widgets/base",
            "_view_module_version": "1.2.0",
            "_view_name": "LayoutView",
            "align_content": null,
            "align_items": null,
            "align_self": null,
            "border": null,
            "bottom": null,
            "display": null,
            "flex": null,
            "flex_flow": null,
            "grid_area": null,
            "grid_auto_columns": null,
            "grid_auto_flow": null,
            "grid_auto_rows": null,
            "grid_column": null,
            "grid_gap": null,
            "grid_row": null,
            "grid_template_areas": null,
            "grid_template_columns": null,
            "grid_template_rows": null,
            "height": null,
            "justify_content": null,
            "justify_items": null,
            "left": null,
            "margin": null,
            "max_height": null,
            "max_width": null,
            "min_height": null,
            "min_width": null,
            "object_fit": null,
            "object_position": null,
            "order": null,
            "overflow": null,
            "overflow_x": null,
            "overflow_y": null,
            "padding": null,
            "right": null,
            "top": null,
            "visibility": null,
            "width": null
          }
        },
        "08bc5b94bb764e67b166e6a6b4e19c0a": {
          "model_module": "@jupyter-widgets/controls",
          "model_name": "DescriptionStyleModel",
          "model_module_version": "1.5.0",
          "state": {
            "_model_module": "@jupyter-widgets/controls",
            "_model_module_version": "1.5.0",
            "_model_name": "DescriptionStyleModel",
            "_view_count": null,
            "_view_module": "@jupyter-widgets/base",
            "_view_module_version": "1.2.0",
            "_view_name": "StyleView",
            "description_width": ""
          }
        },
        "156d4e66b1b846e0acbb22b15e6eecca": {
          "model_module": "@jupyter-widgets/base",
          "model_name": "LayoutModel",
          "model_module_version": "1.2.0",
          "state": {
            "_model_module": "@jupyter-widgets/base",
            "_model_module_version": "1.2.0",
            "_model_name": "LayoutModel",
            "_view_count": null,
            "_view_module": "@jupyter-widgets/base",
            "_view_module_version": "1.2.0",
            "_view_name": "LayoutView",
            "align_content": null,
            "align_items": null,
            "align_self": null,
            "border": null,
            "bottom": null,
            "display": null,
            "flex": null,
            "flex_flow": null,
            "grid_area": null,
            "grid_auto_columns": null,
            "grid_auto_flow": null,
            "grid_auto_rows": null,
            "grid_column": null,
            "grid_gap": null,
            "grid_row": null,
            "grid_template_areas": null,
            "grid_template_columns": null,
            "grid_template_rows": null,
            "height": null,
            "justify_content": null,
            "justify_items": null,
            "left": null,
            "margin": null,
            "max_height": null,
            "max_width": null,
            "min_height": null,
            "min_width": null,
            "object_fit": null,
            "object_position": null,
            "order": null,
            "overflow": null,
            "overflow_x": null,
            "overflow_y": null,
            "padding": null,
            "right": null,
            "top": null,
            "visibility": null,
            "width": "20px"
          }
        },
        "47c946d00d4e4e87a53068930494550a": {
          "model_module": "@jupyter-widgets/controls",
          "model_name": "ProgressStyleModel",
          "model_module_version": "1.5.0",
          "state": {
            "_model_module": "@jupyter-widgets/controls",
            "_model_module_version": "1.5.0",
            "_model_name": "ProgressStyleModel",
            "_view_count": null,
            "_view_module": "@jupyter-widgets/base",
            "_view_module_version": "1.2.0",
            "_view_name": "StyleView",
            "bar_color": null,
            "description_width": ""
          }
        },
        "d6cfd697d2f249878baf9a722d2c87e7": {
          "model_module": "@jupyter-widgets/base",
          "model_name": "LayoutModel",
          "model_module_version": "1.2.0",
          "state": {
            "_model_module": "@jupyter-widgets/base",
            "_model_module_version": "1.2.0",
            "_model_name": "LayoutModel",
            "_view_count": null,
            "_view_module": "@jupyter-widgets/base",
            "_view_module_version": "1.2.0",
            "_view_name": "LayoutView",
            "align_content": null,
            "align_items": null,
            "align_self": null,
            "border": null,
            "bottom": null,
            "display": null,
            "flex": null,
            "flex_flow": null,
            "grid_area": null,
            "grid_auto_columns": null,
            "grid_auto_flow": null,
            "grid_auto_rows": null,
            "grid_column": null,
            "grid_gap": null,
            "grid_row": null,
            "grid_template_areas": null,
            "grid_template_columns": null,
            "grid_template_rows": null,
            "height": null,
            "justify_content": null,
            "justify_items": null,
            "left": null,
            "margin": null,
            "max_height": null,
            "max_width": null,
            "min_height": null,
            "min_width": null,
            "object_fit": null,
            "object_position": null,
            "order": null,
            "overflow": null,
            "overflow_x": null,
            "overflow_y": null,
            "padding": null,
            "right": null,
            "top": null,
            "visibility": null,
            "width": null
          }
        },
        "c3fe7068b13f4d1cb92679e2a57e3ffb": {
          "model_module": "@jupyter-widgets/controls",
          "model_name": "DescriptionStyleModel",
          "model_module_version": "1.5.0",
          "state": {
            "_model_module": "@jupyter-widgets/controls",
            "_model_module_version": "1.5.0",
            "_model_name": "DescriptionStyleModel",
            "_view_count": null,
            "_view_module": "@jupyter-widgets/base",
            "_view_module_version": "1.2.0",
            "_view_name": "StyleView",
            "description_width": ""
          }
        },
        "a96a33ff568d4d75bb5f2bec4ac09642": {
          "model_module": "@jupyter-widgets/controls",
          "model_name": "HBoxModel",
          "model_module_version": "1.5.0",
          "state": {
            "_dom_classes": [],
            "_model_module": "@jupyter-widgets/controls",
            "_model_module_version": "1.5.0",
            "_model_name": "HBoxModel",
            "_view_count": null,
            "_view_module": "@jupyter-widgets/controls",
            "_view_module_version": "1.5.0",
            "_view_name": "HBoxView",
            "box_style": "",
            "children": [
              "IPY_MODEL_ca1e5b7fbc744d52b610fb8cb6859b91",
              "IPY_MODEL_8056eb0f3b6e4ad7b76a2f51e9cb2acf",
              "IPY_MODEL_b28f6ba47310471b8ba41d79bc45ecb5"
            ],
            "layout": "IPY_MODEL_f03acac73c014ba482000ed6696e1f93"
          }
        },
        "ca1e5b7fbc744d52b610fb8cb6859b91": {
          "model_module": "@jupyter-widgets/controls",
          "model_name": "HTMLModel",
          "model_module_version": "1.5.0",
          "state": {
            "_dom_classes": [],
            "_model_module": "@jupyter-widgets/controls",
            "_model_module_version": "1.5.0",
            "_model_name": "HTMLModel",
            "_view_count": null,
            "_view_module": "@jupyter-widgets/controls",
            "_view_module_version": "1.5.0",
            "_view_name": "HTMLView",
            "description": "",
            "description_tooltip": null,
            "layout": "IPY_MODEL_f07d5b5089e543c4b793262c897e7b9f",
            "placeholder": "​",
            "style": "IPY_MODEL_6cffdac731f2498da83766af3573e3f0",
            "value": "100%"
          }
        },
        "8056eb0f3b6e4ad7b76a2f51e9cb2acf": {
          "model_module": "@jupyter-widgets/controls",
          "model_name": "FloatProgressModel",
          "model_module_version": "1.5.0",
          "state": {
            "_dom_classes": [],
            "_model_module": "@jupyter-widgets/controls",
            "_model_module_version": "1.5.0",
            "_model_name": "FloatProgressModel",
            "_view_count": null,
            "_view_module": "@jupyter-widgets/controls",
            "_view_module_version": "1.5.0",
            "_view_name": "ProgressView",
            "bar_style": "danger",
            "description": "",
            "description_tooltip": null,
            "layout": "IPY_MODEL_d8db7ff0bda644edb1d1f6be20234b7d",
            "max": 32768,
            "min": 0,
            "orientation": "horizontal",
            "style": "IPY_MODEL_d1cc29e3a6614179a03265462353ed8f",
            "value": 32767
          }
        },
        "b28f6ba47310471b8ba41d79bc45ecb5": {
          "model_module": "@jupyter-widgets/controls",
          "model_name": "HTMLModel",
          "model_module_version": "1.5.0",
          "state": {
            "_dom_classes": [],
            "_model_module": "@jupyter-widgets/controls",
            "_model_module_version": "1.5.0",
            "_model_name": "HTMLModel",
            "_view_count": null,
            "_view_module": "@jupyter-widgets/controls",
            "_view_module_version": "1.5.0",
            "_view_name": "HTMLView",
            "description": "",
            "description_tooltip": null,
            "layout": "IPY_MODEL_1ed2207efb9244d7be20615f0da27d03",
            "placeholder": "​",
            "style": "IPY_MODEL_63faa4749b3342b980b34e71967e9047",
            "value": " 32767/32768 [00:01&lt;00:00, 22970.19 examples/s]"
          }
        },
        "f03acac73c014ba482000ed6696e1f93": {
          "model_module": "@jupyter-widgets/base",
          "model_name": "LayoutModel",
          "model_module_version": "1.2.0",
          "state": {
            "_model_module": "@jupyter-widgets/base",
            "_model_module_version": "1.2.0",
            "_model_name": "LayoutModel",
            "_view_count": null,
            "_view_module": "@jupyter-widgets/base",
            "_view_module_version": "1.2.0",
            "_view_name": "LayoutView",
            "align_content": null,
            "align_items": null,
            "align_self": null,
            "border": null,
            "bottom": null,
            "display": null,
            "flex": null,
            "flex_flow": null,
            "grid_area": null,
            "grid_auto_columns": null,
            "grid_auto_flow": null,
            "grid_auto_rows": null,
            "grid_column": null,
            "grid_gap": null,
            "grid_row": null,
            "grid_template_areas": null,
            "grid_template_columns": null,
            "grid_template_rows": null,
            "height": null,
            "justify_content": null,
            "justify_items": null,
            "left": null,
            "margin": null,
            "max_height": null,
            "max_width": null,
            "min_height": null,
            "min_width": null,
            "object_fit": null,
            "object_position": null,
            "order": null,
            "overflow": null,
            "overflow_x": null,
            "overflow_y": null,
            "padding": null,
            "right": null,
            "top": null,
            "visibility": null,
            "width": null
          }
        },
        "f07d5b5089e543c4b793262c897e7b9f": {
          "model_module": "@jupyter-widgets/base",
          "model_name": "LayoutModel",
          "model_module_version": "1.2.0",
          "state": {
            "_model_module": "@jupyter-widgets/base",
            "_model_module_version": "1.2.0",
            "_model_name": "LayoutModel",
            "_view_count": null,
            "_view_module": "@jupyter-widgets/base",
            "_view_module_version": "1.2.0",
            "_view_name": "LayoutView",
            "align_content": null,
            "align_items": null,
            "align_self": null,
            "border": null,
            "bottom": null,
            "display": null,
            "flex": null,
            "flex_flow": null,
            "grid_area": null,
            "grid_auto_columns": null,
            "grid_auto_flow": null,
            "grid_auto_rows": null,
            "grid_column": null,
            "grid_gap": null,
            "grid_row": null,
            "grid_template_areas": null,
            "grid_template_columns": null,
            "grid_template_rows": null,
            "height": null,
            "justify_content": null,
            "justify_items": null,
            "left": null,
            "margin": null,
            "max_height": null,
            "max_width": null,
            "min_height": null,
            "min_width": null,
            "object_fit": null,
            "object_position": null,
            "order": null,
            "overflow": null,
            "overflow_x": null,
            "overflow_y": null,
            "padding": null,
            "right": null,
            "top": null,
            "visibility": null,
            "width": null
          }
        },
        "6cffdac731f2498da83766af3573e3f0": {
          "model_module": "@jupyter-widgets/controls",
          "model_name": "DescriptionStyleModel",
          "model_module_version": "1.5.0",
          "state": {
            "_model_module": "@jupyter-widgets/controls",
            "_model_module_version": "1.5.0",
            "_model_name": "DescriptionStyleModel",
            "_view_count": null,
            "_view_module": "@jupyter-widgets/base",
            "_view_module_version": "1.2.0",
            "_view_name": "StyleView",
            "description_width": ""
          }
        },
        "d8db7ff0bda644edb1d1f6be20234b7d": {
          "model_module": "@jupyter-widgets/base",
          "model_name": "LayoutModel",
          "model_module_version": "1.2.0",
          "state": {
            "_model_module": "@jupyter-widgets/base",
            "_model_module_version": "1.2.0",
            "_model_name": "LayoutModel",
            "_view_count": null,
            "_view_module": "@jupyter-widgets/base",
            "_view_module_version": "1.2.0",
            "_view_name": "LayoutView",
            "align_content": null,
            "align_items": null,
            "align_self": null,
            "border": null,
            "bottom": null,
            "display": null,
            "flex": null,
            "flex_flow": null,
            "grid_area": null,
            "grid_auto_columns": null,
            "grid_auto_flow": null,
            "grid_auto_rows": null,
            "grid_column": null,
            "grid_gap": null,
            "grid_row": null,
            "grid_template_areas": null,
            "grid_template_columns": null,
            "grid_template_rows": null,
            "height": null,
            "justify_content": null,
            "justify_items": null,
            "left": null,
            "margin": null,
            "max_height": null,
            "max_width": null,
            "min_height": null,
            "min_width": null,
            "object_fit": null,
            "object_position": null,
            "order": null,
            "overflow": null,
            "overflow_x": null,
            "overflow_y": null,
            "padding": null,
            "right": null,
            "top": null,
            "visibility": null,
            "width": null
          }
        },
        "d1cc29e3a6614179a03265462353ed8f": {
          "model_module": "@jupyter-widgets/controls",
          "model_name": "ProgressStyleModel",
          "model_module_version": "1.5.0",
          "state": {
            "_model_module": "@jupyter-widgets/controls",
            "_model_module_version": "1.5.0",
            "_model_name": "ProgressStyleModel",
            "_view_count": null,
            "_view_module": "@jupyter-widgets/base",
            "_view_module_version": "1.2.0",
            "_view_name": "StyleView",
            "bar_color": null,
            "description_width": ""
          }
        },
        "1ed2207efb9244d7be20615f0da27d03": {
          "model_module": "@jupyter-widgets/base",
          "model_name": "LayoutModel",
          "model_module_version": "1.2.0",
          "state": {
            "_model_module": "@jupyter-widgets/base",
            "_model_module_version": "1.2.0",
            "_model_name": "LayoutModel",
            "_view_count": null,
            "_view_module": "@jupyter-widgets/base",
            "_view_module_version": "1.2.0",
            "_view_name": "LayoutView",
            "align_content": null,
            "align_items": null,
            "align_self": null,
            "border": null,
            "bottom": null,
            "display": null,
            "flex": null,
            "flex_flow": null,
            "grid_area": null,
            "grid_auto_columns": null,
            "grid_auto_flow": null,
            "grid_auto_rows": null,
            "grid_column": null,
            "grid_gap": null,
            "grid_row": null,
            "grid_template_areas": null,
            "grid_template_columns": null,
            "grid_template_rows": null,
            "height": null,
            "justify_content": null,
            "justify_items": null,
            "left": null,
            "margin": null,
            "max_height": null,
            "max_width": null,
            "min_height": null,
            "min_width": null,
            "object_fit": null,
            "object_position": null,
            "order": null,
            "overflow": null,
            "overflow_x": null,
            "overflow_y": null,
            "padding": null,
            "right": null,
            "top": null,
            "visibility": null,
            "width": null
          }
        },
        "63faa4749b3342b980b34e71967e9047": {
          "model_module": "@jupyter-widgets/controls",
          "model_name": "DescriptionStyleModel",
          "model_module_version": "1.5.0",
          "state": {
            "_model_module": "@jupyter-widgets/controls",
            "_model_module_version": "1.5.0",
            "_model_name": "DescriptionStyleModel",
            "_view_count": null,
            "_view_module": "@jupyter-widgets/base",
            "_view_module_version": "1.2.0",
            "_view_name": "StyleView",
            "description_width": ""
          }
        },
        "1fd80e5b7ced4c5a9d34c0ae5aa69718": {
          "model_module": "@jupyter-widgets/controls",
          "model_name": "HBoxModel",
          "model_module_version": "1.5.0",
          "state": {
            "_dom_classes": [],
            "_model_module": "@jupyter-widgets/controls",
            "_model_module_version": "1.5.0",
            "_model_name": "HBoxModel",
            "_view_count": null,
            "_view_module": "@jupyter-widgets/controls",
            "_view_module_version": "1.5.0",
            "_view_name": "HBoxView",
            "box_style": "",
            "children": [
              "IPY_MODEL_425458035c434589b8b55a20907d88c1",
              "IPY_MODEL_8d4d31f24a304564bb03896ab0f7fa74",
              "IPY_MODEL_11c67abbb72d44bfb379bd8d646bc380"
            ],
            "layout": "IPY_MODEL_34803dce2ed740bea10980c580cc08a2"
          }
        },
        "425458035c434589b8b55a20907d88c1": {
          "model_module": "@jupyter-widgets/controls",
          "model_name": "HTMLModel",
          "model_module_version": "1.5.0",
          "state": {
            "_dom_classes": [],
            "_model_module": "@jupyter-widgets/controls",
            "_model_module_version": "1.5.0",
            "_model_name": "HTMLModel",
            "_view_count": null,
            "_view_module": "@jupyter-widgets/controls",
            "_view_module_version": "1.5.0",
            "_view_name": "HTMLView",
            "description": "",
            "description_tooltip": null,
            "layout": "IPY_MODEL_3df2bc64a244453fa3c6489490668907",
            "placeholder": "​",
            "style": "IPY_MODEL_f31099c9bfe4451e889ebfc1919faf47",
            "value": ""
          }
        },
        "8d4d31f24a304564bb03896ab0f7fa74": {
          "model_module": "@jupyter-widgets/controls",
          "model_name": "FloatProgressModel",
          "model_module_version": "1.5.0",
          "state": {
            "_dom_classes": [],
            "_model_module": "@jupyter-widgets/controls",
            "_model_module_version": "1.5.0",
            "_model_name": "FloatProgressModel",
            "_view_count": null,
            "_view_module": "@jupyter-widgets/controls",
            "_view_module_version": "1.5.0",
            "_view_name": "ProgressView",
            "bar_style": "info",
            "description": "",
            "description_tooltip": null,
            "layout": "IPY_MODEL_3d9ec33046c54dfb99039ff6fd4630a1",
            "max": 1,
            "min": 0,
            "orientation": "horizontal",
            "style": "IPY_MODEL_7ebe225ce9ef46d099f617e3d18f1cfd",
            "value": 1
          }
        },
        "11c67abbb72d44bfb379bd8d646bc380": {
          "model_module": "@jupyter-widgets/controls",
          "model_name": "HTMLModel",
          "model_module_version": "1.5.0",
          "state": {
            "_dom_classes": [],
            "_model_module": "@jupyter-widgets/controls",
            "_model_module_version": "1.5.0",
            "_model_name": "HTMLModel",
            "_view_count": null,
            "_view_module": "@jupyter-widgets/controls",
            "_view_module_version": "1.5.0",
            "_view_name": "HTMLView",
            "description": "",
            "description_tooltip": null,
            "layout": "IPY_MODEL_398419151959406ba814a6f733e96be0",
            "placeholder": "​",
            "style": "IPY_MODEL_cd1fa8eb5ab84bfd975161fa2c410e64",
            "value": " 262106/0 [10:50&lt;00:00, 411.77 examples/s]"
          }
        },
        "34803dce2ed740bea10980c580cc08a2": {
          "model_module": "@jupyter-widgets/base",
          "model_name": "LayoutModel",
          "model_module_version": "1.2.0",
          "state": {
            "_model_module": "@jupyter-widgets/base",
            "_model_module_version": "1.2.0",
            "_model_name": "LayoutModel",
            "_view_count": null,
            "_view_module": "@jupyter-widgets/base",
            "_view_module_version": "1.2.0",
            "_view_name": "LayoutView",
            "align_content": null,
            "align_items": null,
            "align_self": null,
            "border": null,
            "bottom": null,
            "display": null,
            "flex": null,
            "flex_flow": null,
            "grid_area": null,
            "grid_auto_columns": null,
            "grid_auto_flow": null,
            "grid_auto_rows": null,
            "grid_column": null,
            "grid_gap": null,
            "grid_row": null,
            "grid_template_areas": null,
            "grid_template_columns": null,
            "grid_template_rows": null,
            "height": null,
            "justify_content": null,
            "justify_items": null,
            "left": null,
            "margin": null,
            "max_height": null,
            "max_width": null,
            "min_height": null,
            "min_width": null,
            "object_fit": null,
            "object_position": null,
            "order": null,
            "overflow": null,
            "overflow_x": null,
            "overflow_y": null,
            "padding": null,
            "right": null,
            "top": null,
            "visibility": null,
            "width": null
          }
        },
        "3df2bc64a244453fa3c6489490668907": {
          "model_module": "@jupyter-widgets/base",
          "model_name": "LayoutModel",
          "model_module_version": "1.2.0",
          "state": {
            "_model_module": "@jupyter-widgets/base",
            "_model_module_version": "1.2.0",
            "_model_name": "LayoutModel",
            "_view_count": null,
            "_view_module": "@jupyter-widgets/base",
            "_view_module_version": "1.2.0",
            "_view_name": "LayoutView",
            "align_content": null,
            "align_items": null,
            "align_self": null,
            "border": null,
            "bottom": null,
            "display": null,
            "flex": null,
            "flex_flow": null,
            "grid_area": null,
            "grid_auto_columns": null,
            "grid_auto_flow": null,
            "grid_auto_rows": null,
            "grid_column": null,
            "grid_gap": null,
            "grid_row": null,
            "grid_template_areas": null,
            "grid_template_columns": null,
            "grid_template_rows": null,
            "height": null,
            "justify_content": null,
            "justify_items": null,
            "left": null,
            "margin": null,
            "max_height": null,
            "max_width": null,
            "min_height": null,
            "min_width": null,
            "object_fit": null,
            "object_position": null,
            "order": null,
            "overflow": null,
            "overflow_x": null,
            "overflow_y": null,
            "padding": null,
            "right": null,
            "top": null,
            "visibility": null,
            "width": null
          }
        },
        "f31099c9bfe4451e889ebfc1919faf47": {
          "model_module": "@jupyter-widgets/controls",
          "model_name": "DescriptionStyleModel",
          "model_module_version": "1.5.0",
          "state": {
            "_model_module": "@jupyter-widgets/controls",
            "_model_module_version": "1.5.0",
            "_model_name": "DescriptionStyleModel",
            "_view_count": null,
            "_view_module": "@jupyter-widgets/base",
            "_view_module_version": "1.2.0",
            "_view_name": "StyleView",
            "description_width": ""
          }
        },
        "3d9ec33046c54dfb99039ff6fd4630a1": {
          "model_module": "@jupyter-widgets/base",
          "model_name": "LayoutModel",
          "model_module_version": "1.2.0",
          "state": {
            "_model_module": "@jupyter-widgets/base",
            "_model_module_version": "1.2.0",
            "_model_name": "LayoutModel",
            "_view_count": null,
            "_view_module": "@jupyter-widgets/base",
            "_view_module_version": "1.2.0",
            "_view_name": "LayoutView",
            "align_content": null,
            "align_items": null,
            "align_self": null,
            "border": null,
            "bottom": null,
            "display": null,
            "flex": null,
            "flex_flow": null,
            "grid_area": null,
            "grid_auto_columns": null,
            "grid_auto_flow": null,
            "grid_auto_rows": null,
            "grid_column": null,
            "grid_gap": null,
            "grid_row": null,
            "grid_template_areas": null,
            "grid_template_columns": null,
            "grid_template_rows": null,
            "height": null,
            "justify_content": null,
            "justify_items": null,
            "left": null,
            "margin": null,
            "max_height": null,
            "max_width": null,
            "min_height": null,
            "min_width": null,
            "object_fit": null,
            "object_position": null,
            "order": null,
            "overflow": null,
            "overflow_x": null,
            "overflow_y": null,
            "padding": null,
            "right": null,
            "top": null,
            "visibility": null,
            "width": "20px"
          }
        },
        "7ebe225ce9ef46d099f617e3d18f1cfd": {
          "model_module": "@jupyter-widgets/controls",
          "model_name": "ProgressStyleModel",
          "model_module_version": "1.5.0",
          "state": {
            "_model_module": "@jupyter-widgets/controls",
            "_model_module_version": "1.5.0",
            "_model_name": "ProgressStyleModel",
            "_view_count": null,
            "_view_module": "@jupyter-widgets/base",
            "_view_module_version": "1.2.0",
            "_view_name": "StyleView",
            "bar_color": null,
            "description_width": ""
          }
        },
        "398419151959406ba814a6f733e96be0": {
          "model_module": "@jupyter-widgets/base",
          "model_name": "LayoutModel",
          "model_module_version": "1.2.0",
          "state": {
            "_model_module": "@jupyter-widgets/base",
            "_model_module_version": "1.2.0",
            "_model_name": "LayoutModel",
            "_view_count": null,
            "_view_module": "@jupyter-widgets/base",
            "_view_module_version": "1.2.0",
            "_view_name": "LayoutView",
            "align_content": null,
            "align_items": null,
            "align_self": null,
            "border": null,
            "bottom": null,
            "display": null,
            "flex": null,
            "flex_flow": null,
            "grid_area": null,
            "grid_auto_columns": null,
            "grid_auto_flow": null,
            "grid_auto_rows": null,
            "grid_column": null,
            "grid_gap": null,
            "grid_row": null,
            "grid_template_areas": null,
            "grid_template_columns": null,
            "grid_template_rows": null,
            "height": null,
            "justify_content": null,
            "justify_items": null,
            "left": null,
            "margin": null,
            "max_height": null,
            "max_width": null,
            "min_height": null,
            "min_width": null,
            "object_fit": null,
            "object_position": null,
            "order": null,
            "overflow": null,
            "overflow_x": null,
            "overflow_y": null,
            "padding": null,
            "right": null,
            "top": null,
            "visibility": null,
            "width": null
          }
        },
        "cd1fa8eb5ab84bfd975161fa2c410e64": {
          "model_module": "@jupyter-widgets/controls",
          "model_name": "DescriptionStyleModel",
          "model_module_version": "1.5.0",
          "state": {
            "_model_module": "@jupyter-widgets/controls",
            "_model_module_version": "1.5.0",
            "_model_name": "DescriptionStyleModel",
            "_view_count": null,
            "_view_module": "@jupyter-widgets/base",
            "_view_module_version": "1.2.0",
            "_view_name": "StyleView",
            "description_width": ""
          }
        },
        "f10dfe6a5e424f09b000d5bf236d512e": {
          "model_module": "@jupyter-widgets/controls",
          "model_name": "HBoxModel",
          "model_module_version": "1.5.0",
          "state": {
            "_dom_classes": [],
            "_model_module": "@jupyter-widgets/controls",
            "_model_module_version": "1.5.0",
            "_model_name": "HBoxModel",
            "_view_count": null,
            "_view_module": "@jupyter-widgets/controls",
            "_view_module_version": "1.5.0",
            "_view_name": "HBoxView",
            "box_style": "",
            "children": [
              "IPY_MODEL_444a80d819bd401cadfd6eeac8de2b05",
              "IPY_MODEL_d2740100205e4d05be826fa43d593d58",
              "IPY_MODEL_5251c79416a74662a770e594f04108c2"
            ],
            "layout": "IPY_MODEL_726158098e654779bf907217911e501b"
          }
        },
        "444a80d819bd401cadfd6eeac8de2b05": {
          "model_module": "@jupyter-widgets/controls",
          "model_name": "HTMLModel",
          "model_module_version": "1.5.0",
          "state": {
            "_dom_classes": [],
            "_model_module": "@jupyter-widgets/controls",
            "_model_module_version": "1.5.0",
            "_model_name": "HTMLModel",
            "_view_count": null,
            "_view_module": "@jupyter-widgets/controls",
            "_view_module_version": "1.5.0",
            "_view_name": "HTMLView",
            "description": "",
            "description_tooltip": null,
            "layout": "IPY_MODEL_798dcc5911534b9681f66ee714ebee11",
            "placeholder": "​",
            "style": "IPY_MODEL_efaf7d9a6f214071a288bf6d91b84bbd",
            "value": "100%"
          }
        },
        "d2740100205e4d05be826fa43d593d58": {
          "model_module": "@jupyter-widgets/controls",
          "model_name": "FloatProgressModel",
          "model_module_version": "1.5.0",
          "state": {
            "_dom_classes": [],
            "_model_module": "@jupyter-widgets/controls",
            "_model_module_version": "1.5.0",
            "_model_name": "FloatProgressModel",
            "_view_count": null,
            "_view_module": "@jupyter-widgets/controls",
            "_view_module_version": "1.5.0",
            "_view_name": "ProgressView",
            "bar_style": "danger",
            "description": "",
            "description_tooltip": null,
            "layout": "IPY_MODEL_33555f1374874ded85125ef8ddf37274",
            "max": 262144,
            "min": 0,
            "orientation": "horizontal",
            "style": "IPY_MODEL_3f571423c0da4ed2b07bfc61fd022779",
            "value": 262143
          }
        },
        "5251c79416a74662a770e594f04108c2": {
          "model_module": "@jupyter-widgets/controls",
          "model_name": "HTMLModel",
          "model_module_version": "1.5.0",
          "state": {
            "_dom_classes": [],
            "_model_module": "@jupyter-widgets/controls",
            "_model_module_version": "1.5.0",
            "_model_name": "HTMLModel",
            "_view_count": null,
            "_view_module": "@jupyter-widgets/controls",
            "_view_module_version": "1.5.0",
            "_view_name": "HTMLView",
            "description": "",
            "description_tooltip": null,
            "layout": "IPY_MODEL_0a870bac3bb7407c93bcdbd6f49d9974",
            "placeholder": "​",
            "style": "IPY_MODEL_ac2e44622dee4b6394ae80d7f8b3f466",
            "value": " 262143/262144 [00:31&lt;00:00, 9267.48 examples/s]"
          }
        },
        "726158098e654779bf907217911e501b": {
          "model_module": "@jupyter-widgets/base",
          "model_name": "LayoutModel",
          "model_module_version": "1.2.0",
          "state": {
            "_model_module": "@jupyter-widgets/base",
            "_model_module_version": "1.2.0",
            "_model_name": "LayoutModel",
            "_view_count": null,
            "_view_module": "@jupyter-widgets/base",
            "_view_module_version": "1.2.0",
            "_view_name": "LayoutView",
            "align_content": null,
            "align_items": null,
            "align_self": null,
            "border": null,
            "bottom": null,
            "display": null,
            "flex": null,
            "flex_flow": null,
            "grid_area": null,
            "grid_auto_columns": null,
            "grid_auto_flow": null,
            "grid_auto_rows": null,
            "grid_column": null,
            "grid_gap": null,
            "grid_row": null,
            "grid_template_areas": null,
            "grid_template_columns": null,
            "grid_template_rows": null,
            "height": null,
            "justify_content": null,
            "justify_items": null,
            "left": null,
            "margin": null,
            "max_height": null,
            "max_width": null,
            "min_height": null,
            "min_width": null,
            "object_fit": null,
            "object_position": null,
            "order": null,
            "overflow": null,
            "overflow_x": null,
            "overflow_y": null,
            "padding": null,
            "right": null,
            "top": null,
            "visibility": null,
            "width": null
          }
        },
        "798dcc5911534b9681f66ee714ebee11": {
          "model_module": "@jupyter-widgets/base",
          "model_name": "LayoutModel",
          "model_module_version": "1.2.0",
          "state": {
            "_model_module": "@jupyter-widgets/base",
            "_model_module_version": "1.2.0",
            "_model_name": "LayoutModel",
            "_view_count": null,
            "_view_module": "@jupyter-widgets/base",
            "_view_module_version": "1.2.0",
            "_view_name": "LayoutView",
            "align_content": null,
            "align_items": null,
            "align_self": null,
            "border": null,
            "bottom": null,
            "display": null,
            "flex": null,
            "flex_flow": null,
            "grid_area": null,
            "grid_auto_columns": null,
            "grid_auto_flow": null,
            "grid_auto_rows": null,
            "grid_column": null,
            "grid_gap": null,
            "grid_row": null,
            "grid_template_areas": null,
            "grid_template_columns": null,
            "grid_template_rows": null,
            "height": null,
            "justify_content": null,
            "justify_items": null,
            "left": null,
            "margin": null,
            "max_height": null,
            "max_width": null,
            "min_height": null,
            "min_width": null,
            "object_fit": null,
            "object_position": null,
            "order": null,
            "overflow": null,
            "overflow_x": null,
            "overflow_y": null,
            "padding": null,
            "right": null,
            "top": null,
            "visibility": null,
            "width": null
          }
        },
        "efaf7d9a6f214071a288bf6d91b84bbd": {
          "model_module": "@jupyter-widgets/controls",
          "model_name": "DescriptionStyleModel",
          "model_module_version": "1.5.0",
          "state": {
            "_model_module": "@jupyter-widgets/controls",
            "_model_module_version": "1.5.0",
            "_model_name": "DescriptionStyleModel",
            "_view_count": null,
            "_view_module": "@jupyter-widgets/base",
            "_view_module_version": "1.2.0",
            "_view_name": "StyleView",
            "description_width": ""
          }
        },
        "33555f1374874ded85125ef8ddf37274": {
          "model_module": "@jupyter-widgets/base",
          "model_name": "LayoutModel",
          "model_module_version": "1.2.0",
          "state": {
            "_model_module": "@jupyter-widgets/base",
            "_model_module_version": "1.2.0",
            "_model_name": "LayoutModel",
            "_view_count": null,
            "_view_module": "@jupyter-widgets/base",
            "_view_module_version": "1.2.0",
            "_view_name": "LayoutView",
            "align_content": null,
            "align_items": null,
            "align_self": null,
            "border": null,
            "bottom": null,
            "display": null,
            "flex": null,
            "flex_flow": null,
            "grid_area": null,
            "grid_auto_columns": null,
            "grid_auto_flow": null,
            "grid_auto_rows": null,
            "grid_column": null,
            "grid_gap": null,
            "grid_row": null,
            "grid_template_areas": null,
            "grid_template_columns": null,
            "grid_template_rows": null,
            "height": null,
            "justify_content": null,
            "justify_items": null,
            "left": null,
            "margin": null,
            "max_height": null,
            "max_width": null,
            "min_height": null,
            "min_width": null,
            "object_fit": null,
            "object_position": null,
            "order": null,
            "overflow": null,
            "overflow_x": null,
            "overflow_y": null,
            "padding": null,
            "right": null,
            "top": null,
            "visibility": null,
            "width": null
          }
        },
        "3f571423c0da4ed2b07bfc61fd022779": {
          "model_module": "@jupyter-widgets/controls",
          "model_name": "ProgressStyleModel",
          "model_module_version": "1.5.0",
          "state": {
            "_model_module": "@jupyter-widgets/controls",
            "_model_module_version": "1.5.0",
            "_model_name": "ProgressStyleModel",
            "_view_count": null,
            "_view_module": "@jupyter-widgets/base",
            "_view_module_version": "1.2.0",
            "_view_name": "StyleView",
            "bar_color": null,
            "description_width": ""
          }
        },
        "0a870bac3bb7407c93bcdbd6f49d9974": {
          "model_module": "@jupyter-widgets/base",
          "model_name": "LayoutModel",
          "model_module_version": "1.2.0",
          "state": {
            "_model_module": "@jupyter-widgets/base",
            "_model_module_version": "1.2.0",
            "_model_name": "LayoutModel",
            "_view_count": null,
            "_view_module": "@jupyter-widgets/base",
            "_view_module_version": "1.2.0",
            "_view_name": "LayoutView",
            "align_content": null,
            "align_items": null,
            "align_self": null,
            "border": null,
            "bottom": null,
            "display": null,
            "flex": null,
            "flex_flow": null,
            "grid_area": null,
            "grid_auto_columns": null,
            "grid_auto_flow": null,
            "grid_auto_rows": null,
            "grid_column": null,
            "grid_gap": null,
            "grid_row": null,
            "grid_template_areas": null,
            "grid_template_columns": null,
            "grid_template_rows": null,
            "height": null,
            "justify_content": null,
            "justify_items": null,
            "left": null,
            "margin": null,
            "max_height": null,
            "max_width": null,
            "min_height": null,
            "min_width": null,
            "object_fit": null,
            "object_position": null,
            "order": null,
            "overflow": null,
            "overflow_x": null,
            "overflow_y": null,
            "padding": null,
            "right": null,
            "top": null,
            "visibility": null,
            "width": null
          }
        },
        "ac2e44622dee4b6394ae80d7f8b3f466": {
          "model_module": "@jupyter-widgets/controls",
          "model_name": "DescriptionStyleModel",
          "model_module_version": "1.5.0",
          "state": {
            "_model_module": "@jupyter-widgets/controls",
            "_model_module_version": "1.5.0",
            "_model_name": "DescriptionStyleModel",
            "_view_count": null,
            "_view_module": "@jupyter-widgets/base",
            "_view_module_version": "1.2.0",
            "_view_name": "StyleView",
            "description_width": ""
          }
        },
        "0fa343a1f408431ba25f611ad3e49761": {
          "model_module": "@jupyter-widgets/controls",
          "model_name": "HBoxModel",
          "model_module_version": "1.5.0",
          "state": {
            "_dom_classes": [],
            "_model_module": "@jupyter-widgets/controls",
            "_model_module_version": "1.5.0",
            "_model_name": "HBoxModel",
            "_view_count": null,
            "_view_module": "@jupyter-widgets/controls",
            "_view_module_version": "1.5.0",
            "_view_name": "HBoxView",
            "box_style": "",
            "children": [
              "IPY_MODEL_4ae9934665e1488980b63ab5e4f86686",
              "IPY_MODEL_68fa6228053b4b09b9953a4bd2fcf7d4",
              "IPY_MODEL_913518bfa49b49a993646409de6cf8a6"
            ],
            "layout": "IPY_MODEL_bed65efd89164e38b4cb50d09d34cfaf"
          }
        },
        "4ae9934665e1488980b63ab5e4f86686": {
          "model_module": "@jupyter-widgets/controls",
          "model_name": "HTMLModel",
          "model_module_version": "1.5.0",
          "state": {
            "_dom_classes": [],
            "_model_module": "@jupyter-widgets/controls",
            "_model_module_version": "1.5.0",
            "_model_name": "HTMLModel",
            "_view_count": null,
            "_view_module": "@jupyter-widgets/controls",
            "_view_module_version": "1.5.0",
            "_view_name": "HTMLView",
            "description": "",
            "description_tooltip": null,
            "layout": "IPY_MODEL_4f934fdd8a344d8a8c88fede09350f55",
            "placeholder": "​",
            "style": "IPY_MODEL_057cfef9efcd400f97ad204d4fbfdb98",
            "value": ""
          }
        },
        "68fa6228053b4b09b9953a4bd2fcf7d4": {
          "model_module": "@jupyter-widgets/controls",
          "model_name": "FloatProgressModel",
          "model_module_version": "1.5.0",
          "state": {
            "_dom_classes": [],
            "_model_module": "@jupyter-widgets/controls",
            "_model_module_version": "1.5.0",
            "_model_name": "FloatProgressModel",
            "_view_count": null,
            "_view_module": "@jupyter-widgets/controls",
            "_view_module_version": "1.5.0",
            "_view_name": "ProgressView",
            "bar_style": "info",
            "description": "",
            "description_tooltip": null,
            "layout": "IPY_MODEL_07435ba623f84ae2a867e47c27fbdbd2",
            "max": 1,
            "min": 0,
            "orientation": "horizontal",
            "style": "IPY_MODEL_f2ecdafffa6c4d778abfa238a86804de",
            "value": 1
          }
        },
        "913518bfa49b49a993646409de6cf8a6": {
          "model_module": "@jupyter-widgets/controls",
          "model_name": "HTMLModel",
          "model_module_version": "1.5.0",
          "state": {
            "_dom_classes": [],
            "_model_module": "@jupyter-widgets/controls",
            "_model_module_version": "1.5.0",
            "_model_name": "HTMLModel",
            "_view_count": null,
            "_view_module": "@jupyter-widgets/controls",
            "_view_module_version": "1.5.0",
            "_view_name": "HTMLView",
            "description": "",
            "description_tooltip": null,
            "layout": "IPY_MODEL_2a74a0d897904de1a2e279010b0ea52a",
            "placeholder": "​",
            "style": "IPY_MODEL_132a112c2b554b0b988e7732a367b54c",
            "value": " 32757/0 [01:18&lt;00:00, 416.04 examples/s]"
          }
        },
        "bed65efd89164e38b4cb50d09d34cfaf": {
          "model_module": "@jupyter-widgets/base",
          "model_name": "LayoutModel",
          "model_module_version": "1.2.0",
          "state": {
            "_model_module": "@jupyter-widgets/base",
            "_model_module_version": "1.2.0",
            "_model_name": "LayoutModel",
            "_view_count": null,
            "_view_module": "@jupyter-widgets/base",
            "_view_module_version": "1.2.0",
            "_view_name": "LayoutView",
            "align_content": null,
            "align_items": null,
            "align_self": null,
            "border": null,
            "bottom": null,
            "display": null,
            "flex": null,
            "flex_flow": null,
            "grid_area": null,
            "grid_auto_columns": null,
            "grid_auto_flow": null,
            "grid_auto_rows": null,
            "grid_column": null,
            "grid_gap": null,
            "grid_row": null,
            "grid_template_areas": null,
            "grid_template_columns": null,
            "grid_template_rows": null,
            "height": null,
            "justify_content": null,
            "justify_items": null,
            "left": null,
            "margin": null,
            "max_height": null,
            "max_width": null,
            "min_height": null,
            "min_width": null,
            "object_fit": null,
            "object_position": null,
            "order": null,
            "overflow": null,
            "overflow_x": null,
            "overflow_y": null,
            "padding": null,
            "right": null,
            "top": null,
            "visibility": null,
            "width": null
          }
        },
        "4f934fdd8a344d8a8c88fede09350f55": {
          "model_module": "@jupyter-widgets/base",
          "model_name": "LayoutModel",
          "model_module_version": "1.2.0",
          "state": {
            "_model_module": "@jupyter-widgets/base",
            "_model_module_version": "1.2.0",
            "_model_name": "LayoutModel",
            "_view_count": null,
            "_view_module": "@jupyter-widgets/base",
            "_view_module_version": "1.2.0",
            "_view_name": "LayoutView",
            "align_content": null,
            "align_items": null,
            "align_self": null,
            "border": null,
            "bottom": null,
            "display": null,
            "flex": null,
            "flex_flow": null,
            "grid_area": null,
            "grid_auto_columns": null,
            "grid_auto_flow": null,
            "grid_auto_rows": null,
            "grid_column": null,
            "grid_gap": null,
            "grid_row": null,
            "grid_template_areas": null,
            "grid_template_columns": null,
            "grid_template_rows": null,
            "height": null,
            "justify_content": null,
            "justify_items": null,
            "left": null,
            "margin": null,
            "max_height": null,
            "max_width": null,
            "min_height": null,
            "min_width": null,
            "object_fit": null,
            "object_position": null,
            "order": null,
            "overflow": null,
            "overflow_x": null,
            "overflow_y": null,
            "padding": null,
            "right": null,
            "top": null,
            "visibility": null,
            "width": null
          }
        },
        "057cfef9efcd400f97ad204d4fbfdb98": {
          "model_module": "@jupyter-widgets/controls",
          "model_name": "DescriptionStyleModel",
          "model_module_version": "1.5.0",
          "state": {
            "_model_module": "@jupyter-widgets/controls",
            "_model_module_version": "1.5.0",
            "_model_name": "DescriptionStyleModel",
            "_view_count": null,
            "_view_module": "@jupyter-widgets/base",
            "_view_module_version": "1.2.0",
            "_view_name": "StyleView",
            "description_width": ""
          }
        },
        "07435ba623f84ae2a867e47c27fbdbd2": {
          "model_module": "@jupyter-widgets/base",
          "model_name": "LayoutModel",
          "model_module_version": "1.2.0",
          "state": {
            "_model_module": "@jupyter-widgets/base",
            "_model_module_version": "1.2.0",
            "_model_name": "LayoutModel",
            "_view_count": null,
            "_view_module": "@jupyter-widgets/base",
            "_view_module_version": "1.2.0",
            "_view_name": "LayoutView",
            "align_content": null,
            "align_items": null,
            "align_self": null,
            "border": null,
            "bottom": null,
            "display": null,
            "flex": null,
            "flex_flow": null,
            "grid_area": null,
            "grid_auto_columns": null,
            "grid_auto_flow": null,
            "grid_auto_rows": null,
            "grid_column": null,
            "grid_gap": null,
            "grid_row": null,
            "grid_template_areas": null,
            "grid_template_columns": null,
            "grid_template_rows": null,
            "height": null,
            "justify_content": null,
            "justify_items": null,
            "left": null,
            "margin": null,
            "max_height": null,
            "max_width": null,
            "min_height": null,
            "min_width": null,
            "object_fit": null,
            "object_position": null,
            "order": null,
            "overflow": null,
            "overflow_x": null,
            "overflow_y": null,
            "padding": null,
            "right": null,
            "top": null,
            "visibility": null,
            "width": "20px"
          }
        },
        "f2ecdafffa6c4d778abfa238a86804de": {
          "model_module": "@jupyter-widgets/controls",
          "model_name": "ProgressStyleModel",
          "model_module_version": "1.5.0",
          "state": {
            "_model_module": "@jupyter-widgets/controls",
            "_model_module_version": "1.5.0",
            "_model_name": "ProgressStyleModel",
            "_view_count": null,
            "_view_module": "@jupyter-widgets/base",
            "_view_module_version": "1.2.0",
            "_view_name": "StyleView",
            "bar_color": null,
            "description_width": ""
          }
        },
        "2a74a0d897904de1a2e279010b0ea52a": {
          "model_module": "@jupyter-widgets/base",
          "model_name": "LayoutModel",
          "model_module_version": "1.2.0",
          "state": {
            "_model_module": "@jupyter-widgets/base",
            "_model_module_version": "1.2.0",
            "_model_name": "LayoutModel",
            "_view_count": null,
            "_view_module": "@jupyter-widgets/base",
            "_view_module_version": "1.2.0",
            "_view_name": "LayoutView",
            "align_content": null,
            "align_items": null,
            "align_self": null,
            "border": null,
            "bottom": null,
            "display": null,
            "flex": null,
            "flex_flow": null,
            "grid_area": null,
            "grid_auto_columns": null,
            "grid_auto_flow": null,
            "grid_auto_rows": null,
            "grid_column": null,
            "grid_gap": null,
            "grid_row": null,
            "grid_template_areas": null,
            "grid_template_columns": null,
            "grid_template_rows": null,
            "height": null,
            "justify_content": null,
            "justify_items": null,
            "left": null,
            "margin": null,
            "max_height": null,
            "max_width": null,
            "min_height": null,
            "min_width": null,
            "object_fit": null,
            "object_position": null,
            "order": null,
            "overflow": null,
            "overflow_x": null,
            "overflow_y": null,
            "padding": null,
            "right": null,
            "top": null,
            "visibility": null,
            "width": null
          }
        },
        "132a112c2b554b0b988e7732a367b54c": {
          "model_module": "@jupyter-widgets/controls",
          "model_name": "DescriptionStyleModel",
          "model_module_version": "1.5.0",
          "state": {
            "_model_module": "@jupyter-widgets/controls",
            "_model_module_version": "1.5.0",
            "_model_name": "DescriptionStyleModel",
            "_view_count": null,
            "_view_module": "@jupyter-widgets/base",
            "_view_module_version": "1.2.0",
            "_view_name": "StyleView",
            "description_width": ""
          }
        },
        "ab87a36b61604af1a71982240c95b4dc": {
          "model_module": "@jupyter-widgets/controls",
          "model_name": "HBoxModel",
          "model_module_version": "1.5.0",
          "state": {
            "_dom_classes": [],
            "_model_module": "@jupyter-widgets/controls",
            "_model_module_version": "1.5.0",
            "_model_name": "HBoxModel",
            "_view_count": null,
            "_view_module": "@jupyter-widgets/controls",
            "_view_module_version": "1.5.0",
            "_view_name": "HBoxView",
            "box_style": "",
            "children": [
              "IPY_MODEL_792259b277664c64b6791143217898f8",
              "IPY_MODEL_064df2ff36f94e298320e6b630871ebb",
              "IPY_MODEL_a2f9638f517c4b288dca0c697a5a239d"
            ],
            "layout": "IPY_MODEL_3e75462436264328a63c7bd36e560f4b"
          }
        },
        "792259b277664c64b6791143217898f8": {
          "model_module": "@jupyter-widgets/controls",
          "model_name": "HTMLModel",
          "model_module_version": "1.5.0",
          "state": {
            "_dom_classes": [],
            "_model_module": "@jupyter-widgets/controls",
            "_model_module_version": "1.5.0",
            "_model_name": "HTMLModel",
            "_view_count": null,
            "_view_module": "@jupyter-widgets/controls",
            "_view_module_version": "1.5.0",
            "_view_name": "HTMLView",
            "description": "",
            "description_tooltip": null,
            "layout": "IPY_MODEL_a6b7c9fadd6f43abaa7f3066ccc3564b",
            "placeholder": "​",
            "style": "IPY_MODEL_30c5601276444a4a9685304b03d76957",
            "value": "100%"
          }
        },
        "064df2ff36f94e298320e6b630871ebb": {
          "model_module": "@jupyter-widgets/controls",
          "model_name": "FloatProgressModel",
          "model_module_version": "1.5.0",
          "state": {
            "_dom_classes": [],
            "_model_module": "@jupyter-widgets/controls",
            "_model_module_version": "1.5.0",
            "_model_name": "FloatProgressModel",
            "_view_count": null,
            "_view_module": "@jupyter-widgets/controls",
            "_view_module_version": "1.5.0",
            "_view_name": "ProgressView",
            "bar_style": "danger",
            "description": "",
            "description_tooltip": null,
            "layout": "IPY_MODEL_bfd88bbe74d3494a93596124834dbd5a",
            "max": 32768,
            "min": 0,
            "orientation": "horizontal",
            "style": "IPY_MODEL_fab15ca08493446f908c557411a3be11",
            "value": 32767
          }
        },
        "a2f9638f517c4b288dca0c697a5a239d": {
          "model_module": "@jupyter-widgets/controls",
          "model_name": "HTMLModel",
          "model_module_version": "1.5.0",
          "state": {
            "_dom_classes": [],
            "_model_module": "@jupyter-widgets/controls",
            "_model_module_version": "1.5.0",
            "_model_name": "HTMLModel",
            "_view_count": null,
            "_view_module": "@jupyter-widgets/controls",
            "_view_module_version": "1.5.0",
            "_view_name": "HTMLView",
            "description": "",
            "description_tooltip": null,
            "layout": "IPY_MODEL_32945533aa754a40893eef66a017d8c0",
            "placeholder": "​",
            "style": "IPY_MODEL_c12bbed5800a490b9b20698f2ca61444",
            "value": " 32767/32768 [00:01&lt;00:00, 35939.24 examples/s]"
          }
        },
        "3e75462436264328a63c7bd36e560f4b": {
          "model_module": "@jupyter-widgets/base",
          "model_name": "LayoutModel",
          "model_module_version": "1.2.0",
          "state": {
            "_model_module": "@jupyter-widgets/base",
            "_model_module_version": "1.2.0",
            "_model_name": "LayoutModel",
            "_view_count": null,
            "_view_module": "@jupyter-widgets/base",
            "_view_module_version": "1.2.0",
            "_view_name": "LayoutView",
            "align_content": null,
            "align_items": null,
            "align_self": null,
            "border": null,
            "bottom": null,
            "display": null,
            "flex": null,
            "flex_flow": null,
            "grid_area": null,
            "grid_auto_columns": null,
            "grid_auto_flow": null,
            "grid_auto_rows": null,
            "grid_column": null,
            "grid_gap": null,
            "grid_row": null,
            "grid_template_areas": null,
            "grid_template_columns": null,
            "grid_template_rows": null,
            "height": null,
            "justify_content": null,
            "justify_items": null,
            "left": null,
            "margin": null,
            "max_height": null,
            "max_width": null,
            "min_height": null,
            "min_width": null,
            "object_fit": null,
            "object_position": null,
            "order": null,
            "overflow": null,
            "overflow_x": null,
            "overflow_y": null,
            "padding": null,
            "right": null,
            "top": null,
            "visibility": null,
            "width": null
          }
        },
        "a6b7c9fadd6f43abaa7f3066ccc3564b": {
          "model_module": "@jupyter-widgets/base",
          "model_name": "LayoutModel",
          "model_module_version": "1.2.0",
          "state": {
            "_model_module": "@jupyter-widgets/base",
            "_model_module_version": "1.2.0",
            "_model_name": "LayoutModel",
            "_view_count": null,
            "_view_module": "@jupyter-widgets/base",
            "_view_module_version": "1.2.0",
            "_view_name": "LayoutView",
            "align_content": null,
            "align_items": null,
            "align_self": null,
            "border": null,
            "bottom": null,
            "display": null,
            "flex": null,
            "flex_flow": null,
            "grid_area": null,
            "grid_auto_columns": null,
            "grid_auto_flow": null,
            "grid_auto_rows": null,
            "grid_column": null,
            "grid_gap": null,
            "grid_row": null,
            "grid_template_areas": null,
            "grid_template_columns": null,
            "grid_template_rows": null,
            "height": null,
            "justify_content": null,
            "justify_items": null,
            "left": null,
            "margin": null,
            "max_height": null,
            "max_width": null,
            "min_height": null,
            "min_width": null,
            "object_fit": null,
            "object_position": null,
            "order": null,
            "overflow": null,
            "overflow_x": null,
            "overflow_y": null,
            "padding": null,
            "right": null,
            "top": null,
            "visibility": null,
            "width": null
          }
        },
        "30c5601276444a4a9685304b03d76957": {
          "model_module": "@jupyter-widgets/controls",
          "model_name": "DescriptionStyleModel",
          "model_module_version": "1.5.0",
          "state": {
            "_model_module": "@jupyter-widgets/controls",
            "_model_module_version": "1.5.0",
            "_model_name": "DescriptionStyleModel",
            "_view_count": null,
            "_view_module": "@jupyter-widgets/base",
            "_view_module_version": "1.2.0",
            "_view_name": "StyleView",
            "description_width": ""
          }
        },
        "bfd88bbe74d3494a93596124834dbd5a": {
          "model_module": "@jupyter-widgets/base",
          "model_name": "LayoutModel",
          "model_module_version": "1.2.0",
          "state": {
            "_model_module": "@jupyter-widgets/base",
            "_model_module_version": "1.2.0",
            "_model_name": "LayoutModel",
            "_view_count": null,
            "_view_module": "@jupyter-widgets/base",
            "_view_module_version": "1.2.0",
            "_view_name": "LayoutView",
            "align_content": null,
            "align_items": null,
            "align_self": null,
            "border": null,
            "bottom": null,
            "display": null,
            "flex": null,
            "flex_flow": null,
            "grid_area": null,
            "grid_auto_columns": null,
            "grid_auto_flow": null,
            "grid_auto_rows": null,
            "grid_column": null,
            "grid_gap": null,
            "grid_row": null,
            "grid_template_areas": null,
            "grid_template_columns": null,
            "grid_template_rows": null,
            "height": null,
            "justify_content": null,
            "justify_items": null,
            "left": null,
            "margin": null,
            "max_height": null,
            "max_width": null,
            "min_height": null,
            "min_width": null,
            "object_fit": null,
            "object_position": null,
            "order": null,
            "overflow": null,
            "overflow_x": null,
            "overflow_y": null,
            "padding": null,
            "right": null,
            "top": null,
            "visibility": null,
            "width": null
          }
        },
        "fab15ca08493446f908c557411a3be11": {
          "model_module": "@jupyter-widgets/controls",
          "model_name": "ProgressStyleModel",
          "model_module_version": "1.5.0",
          "state": {
            "_model_module": "@jupyter-widgets/controls",
            "_model_module_version": "1.5.0",
            "_model_name": "ProgressStyleModel",
            "_view_count": null,
            "_view_module": "@jupyter-widgets/base",
            "_view_module_version": "1.2.0",
            "_view_name": "StyleView",
            "bar_color": null,
            "description_width": ""
          }
        },
        "32945533aa754a40893eef66a017d8c0": {
          "model_module": "@jupyter-widgets/base",
          "model_name": "LayoutModel",
          "model_module_version": "1.2.0",
          "state": {
            "_model_module": "@jupyter-widgets/base",
            "_model_module_version": "1.2.0",
            "_model_name": "LayoutModel",
            "_view_count": null,
            "_view_module": "@jupyter-widgets/base",
            "_view_module_version": "1.2.0",
            "_view_name": "LayoutView",
            "align_content": null,
            "align_items": null,
            "align_self": null,
            "border": null,
            "bottom": null,
            "display": null,
            "flex": null,
            "flex_flow": null,
            "grid_area": null,
            "grid_auto_columns": null,
            "grid_auto_flow": null,
            "grid_auto_rows": null,
            "grid_column": null,
            "grid_gap": null,
            "grid_row": null,
            "grid_template_areas": null,
            "grid_template_columns": null,
            "grid_template_rows": null,
            "height": null,
            "justify_content": null,
            "justify_items": null,
            "left": null,
            "margin": null,
            "max_height": null,
            "max_width": null,
            "min_height": null,
            "min_width": null,
            "object_fit": null,
            "object_position": null,
            "order": null,
            "overflow": null,
            "overflow_x": null,
            "overflow_y": null,
            "padding": null,
            "right": null,
            "top": null,
            "visibility": null,
            "width": null
          }
        },
        "c12bbed5800a490b9b20698f2ca61444": {
          "model_module": "@jupyter-widgets/controls",
          "model_name": "DescriptionStyleModel",
          "model_module_version": "1.5.0",
          "state": {
            "_model_module": "@jupyter-widgets/controls",
            "_model_module_version": "1.5.0",
            "_model_name": "DescriptionStyleModel",
            "_view_count": null,
            "_view_module": "@jupyter-widgets/base",
            "_view_module_version": "1.2.0",
            "_view_name": "StyleView",
            "description_width": ""
          }
        }
      }
    }
  },
  "cells": [
    {
      "cell_type": "markdown",
      "source": [
        "Step 4: In this phase different optimizers will be implemented for the 6 models from Step 3."
      ],
      "metadata": {
        "id": "Wk8XOratppQl"
      }
    },
    {
      "cell_type": "code",
      "execution_count": 2,
      "metadata": {
        "id": "EtdpbtRMpN-0"
      },
      "outputs": [],
      "source": [
        "# Import libraries\n",
        "\n",
        "import tensorflow as tf\n",
        "import numpy as np\n",
        "from tensorflow.keras.layers import Input, Dense, Conv2D, MaxPool2D, Flatten, Dropout\n",
        "from tensorflow.keras.models import Model\n",
        "from tensorflow.keras.optimizers import SGD\n",
        "from tensorflow.keras.utils import to_categorical\n",
        "from tensorflow.keras.callbacks import ModelCheckpoint\n",
        "from sklearn import metrics\n",
        "from sklearn.metrics import confusion_matrix, ConfusionMatrixDisplay\n",
        "from tensorflow.keras.utils import plot_model\n",
        "\n",
        "\n",
        "\n",
        "import tensorflow_datasets as tfds"
      ]
    },
    {
      "cell_type": "code",
      "source": [
        "# Load the data\n",
        "\n",
        "p_camelyon, p_camelyon_info = tfds.load(\"patch_camelyon\", with_info=True)"
      ],
      "metadata": {
        "id": "bSVV1okbqNYR",
        "colab": {
          "base_uri": "https://localhost:8080/",
          "height": 452,
          "referenced_widgets": [
            "ef931ab51f8c4d6da39a52b2884ad61c",
            "2caa8934f3bd4aa78255830fce7ae0d7",
            "a04db938a7bd4c898ecac33fd03c0786",
            "50e738f64a73499581862e89619ce5f5",
            "55d6d458ee9d45c99ab4bda537773539",
            "f2ee5ee8bee44ab9aa33b55e69709d26",
            "0656ccefa18f4f6d8abac20150ac1f01",
            "14fc29ea098740caa52288681f844d16",
            "6f8364920ecf44bc8e3c4a4b620a8f16",
            "31b57fda08344059ba54b9770a48e7ae",
            "61964a29887344a896683063ee2f91d2",
            "5e3ce2449f5d4dfa8f4c99863cea731a",
            "e0933b0c4fd94c48a126f947b4ff0fd2",
            "28731d74b8684724aa7b7779ba04b557",
            "62f9eadbf5b64553ae9b5b3790852732",
            "53af1b2ef5fb4bac8369bc0ad2e29a83",
            "6e346cf7e1ad4e0cab495e474b3d6345",
            "ef11dffd698f4cc3a76726a5f1baf307",
            "70872e16b9fe4cad843a93a73ccf3ebd",
            "177e46cab66f4fc8ae28a95de3ceea2d",
            "1ecd78d2e3c341769077431cef1e2802",
            "a372526f65ed4f76a780a2a530926c38",
            "5cdfc4e90a42441f863d29276cfe6d34",
            "cd99e42feafe4a51b7c568146eceddc4",
            "ee212746a7004c5aaf2d6911561441ac",
            "8d27ce9a3e004c9aa7d14221be041022",
            "412cb23630c84f5bbfb60bea37d02a77",
            "caa69f52d6194684a129ad9464d042bd",
            "1e512b9b43d24749a1b5d82c0f17069b",
            "0260c6fc24f24a7185c3717479f3e452",
            "9ccb7587185740f68328ba0a8b8a857e",
            "66d0e55295d044cc8ea3900f1efc0cc1",
            "3d4e0909936b484098422bf9cd5a2b32",
            "1f992558af384e0ba65eaf61a72fa2af",
            "200ec0cdd6d74127ac36bd750db45ad6",
            "a41a6b973fa84c1ea3010627d7886f57",
            "5c594b8b4ebc4e6a927a9a07c48037e3",
            "cb709a135e7b42beaa53f655a727ce6a",
            "26c6650dc9c3474a8ec2504839aff181",
            "08bc5b94bb764e67b166e6a6b4e19c0a",
            "156d4e66b1b846e0acbb22b15e6eecca",
            "47c946d00d4e4e87a53068930494550a",
            "d6cfd697d2f249878baf9a722d2c87e7",
            "c3fe7068b13f4d1cb92679e2a57e3ffb",
            "a96a33ff568d4d75bb5f2bec4ac09642",
            "ca1e5b7fbc744d52b610fb8cb6859b91",
            "8056eb0f3b6e4ad7b76a2f51e9cb2acf",
            "b28f6ba47310471b8ba41d79bc45ecb5",
            "f03acac73c014ba482000ed6696e1f93",
            "f07d5b5089e543c4b793262c897e7b9f",
            "6cffdac731f2498da83766af3573e3f0",
            "d8db7ff0bda644edb1d1f6be20234b7d",
            "d1cc29e3a6614179a03265462353ed8f",
            "1ed2207efb9244d7be20615f0da27d03",
            "63faa4749b3342b980b34e71967e9047",
            "1fd80e5b7ced4c5a9d34c0ae5aa69718",
            "425458035c434589b8b55a20907d88c1",
            "8d4d31f24a304564bb03896ab0f7fa74",
            "11c67abbb72d44bfb379bd8d646bc380",
            "34803dce2ed740bea10980c580cc08a2",
            "3df2bc64a244453fa3c6489490668907",
            "f31099c9bfe4451e889ebfc1919faf47",
            "3d9ec33046c54dfb99039ff6fd4630a1",
            "7ebe225ce9ef46d099f617e3d18f1cfd",
            "398419151959406ba814a6f733e96be0",
            "cd1fa8eb5ab84bfd975161fa2c410e64",
            "f10dfe6a5e424f09b000d5bf236d512e",
            "444a80d819bd401cadfd6eeac8de2b05",
            "d2740100205e4d05be826fa43d593d58",
            "5251c79416a74662a770e594f04108c2",
            "726158098e654779bf907217911e501b",
            "798dcc5911534b9681f66ee714ebee11",
            "efaf7d9a6f214071a288bf6d91b84bbd",
            "33555f1374874ded85125ef8ddf37274",
            "3f571423c0da4ed2b07bfc61fd022779",
            "0a870bac3bb7407c93bcdbd6f49d9974",
            "ac2e44622dee4b6394ae80d7f8b3f466",
            "0fa343a1f408431ba25f611ad3e49761",
            "4ae9934665e1488980b63ab5e4f86686",
            "68fa6228053b4b09b9953a4bd2fcf7d4",
            "913518bfa49b49a993646409de6cf8a6",
            "bed65efd89164e38b4cb50d09d34cfaf",
            "4f934fdd8a344d8a8c88fede09350f55",
            "057cfef9efcd400f97ad204d4fbfdb98",
            "07435ba623f84ae2a867e47c27fbdbd2",
            "f2ecdafffa6c4d778abfa238a86804de",
            "2a74a0d897904de1a2e279010b0ea52a",
            "132a112c2b554b0b988e7732a367b54c",
            "ab87a36b61604af1a71982240c95b4dc",
            "792259b277664c64b6791143217898f8",
            "064df2ff36f94e298320e6b630871ebb",
            "a2f9638f517c4b288dca0c697a5a239d",
            "3e75462436264328a63c7bd36e560f4b",
            "a6b7c9fadd6f43abaa7f3066ccc3564b",
            "30c5601276444a4a9685304b03d76957",
            "bfd88bbe74d3494a93596124834dbd5a",
            "fab15ca08493446f908c557411a3be11",
            "32945533aa754a40893eef66a017d8c0",
            "c12bbed5800a490b9b20698f2ca61444"
          ]
        },
        "outputId": "097a0544-59e4-4425-e56b-d0f1beecf636"
      },
      "execution_count": 4,
      "outputs": [
        {
          "output_type": "stream",
          "name": "stdout",
          "text": [
            "\u001b[1mDownloading and preparing dataset patch_camelyon/2.0.0 (download: 7.48 GiB, generated: Unknown size, total: 7.48 GiB) to /root/tensorflow_datasets/patch_camelyon/2.0.0...\u001b[0m\n"
          ]
        },
        {
          "output_type": "display_data",
          "data": {
            "text/plain": [
              "Dl Completed...: 0 url [00:00, ? url/s]"
            ],
            "application/vnd.jupyter.widget-view+json": {
              "version_major": 2,
              "version_minor": 0,
              "model_id": "ef931ab51f8c4d6da39a52b2884ad61c"
            }
          },
          "metadata": {}
        },
        {
          "output_type": "display_data",
          "data": {
            "text/plain": [
              "Dl Size...: 0 MiB [00:00, ? MiB/s]"
            ],
            "application/vnd.jupyter.widget-view+json": {
              "version_major": 2,
              "version_minor": 0,
              "model_id": "5e3ce2449f5d4dfa8f4c99863cea731a"
            }
          },
          "metadata": {}
        },
        {
          "output_type": "display_data",
          "data": {
            "text/plain": [
              "Extraction completed...: 0 file [00:00, ? file/s]"
            ],
            "application/vnd.jupyter.widget-view+json": {
              "version_major": 2,
              "version_minor": 0,
              "model_id": "5cdfc4e90a42441f863d29276cfe6d34"
            }
          },
          "metadata": {}
        },
        {
          "output_type": "stream",
          "name": "stdout",
          "text": [
            "\n",
            "\n",
            "\n"
          ]
        },
        {
          "output_type": "display_data",
          "data": {
            "text/plain": [
              "0 examples [00:00, ? examples/s]"
            ],
            "application/vnd.jupyter.widget-view+json": {
              "version_major": 2,
              "version_minor": 0,
              "model_id": "1f992558af384e0ba65eaf61a72fa2af"
            }
          },
          "metadata": {}
        },
        {
          "output_type": "stream",
          "name": "stdout",
          "text": [
            "Shuffling and writing examples to /root/tensorflow_datasets/patch_camelyon/2.0.0.incompleteIVKEIN/patch_camelyon-test.tfrecord\n"
          ]
        },
        {
          "output_type": "display_data",
          "data": {
            "text/plain": [
              "  0%|          | 0/32768 [00:00<?, ? examples/s]"
            ],
            "application/vnd.jupyter.widget-view+json": {
              "version_major": 2,
              "version_minor": 0,
              "model_id": "a96a33ff568d4d75bb5f2bec4ac09642"
            }
          },
          "metadata": {}
        },
        {
          "output_type": "display_data",
          "data": {
            "text/plain": [
              "0 examples [00:00, ? examples/s]"
            ],
            "application/vnd.jupyter.widget-view+json": {
              "version_major": 2,
              "version_minor": 0,
              "model_id": "1fd80e5b7ced4c5a9d34c0ae5aa69718"
            }
          },
          "metadata": {}
        },
        {
          "output_type": "stream",
          "name": "stdout",
          "text": [
            "Shuffling and writing examples to /root/tensorflow_datasets/patch_camelyon/2.0.0.incompleteIVKEIN/patch_camelyon-train.tfrecord\n"
          ]
        },
        {
          "output_type": "display_data",
          "data": {
            "text/plain": [
              "  0%|          | 0/262144 [00:00<?, ? examples/s]"
            ],
            "application/vnd.jupyter.widget-view+json": {
              "version_major": 2,
              "version_minor": 0,
              "model_id": "f10dfe6a5e424f09b000d5bf236d512e"
            }
          },
          "metadata": {}
        },
        {
          "output_type": "display_data",
          "data": {
            "text/plain": [
              "0 examples [00:00, ? examples/s]"
            ],
            "application/vnd.jupyter.widget-view+json": {
              "version_major": 2,
              "version_minor": 0,
              "model_id": "0fa343a1f408431ba25f611ad3e49761"
            }
          },
          "metadata": {}
        },
        {
          "output_type": "stream",
          "name": "stdout",
          "text": [
            "Shuffling and writing examples to /root/tensorflow_datasets/patch_camelyon/2.0.0.incompleteIVKEIN/patch_camelyon-validation.tfrecord\n"
          ]
        },
        {
          "output_type": "display_data",
          "data": {
            "text/plain": [
              "  0%|          | 0/32768 [00:00<?, ? examples/s]"
            ],
            "application/vnd.jupyter.widget-view+json": {
              "version_major": 2,
              "version_minor": 0,
              "model_id": "ab87a36b61604af1a71982240c95b4dc"
            }
          },
          "metadata": {}
        },
        {
          "output_type": "stream",
          "name": "stdout",
          "text": [
            "\u001b[1mDataset patch_camelyon downloaded and prepared to /root/tensorflow_datasets/patch_camelyon/2.0.0. Subsequent calls will reuse this data.\u001b[0m\n"
          ]
        }
      ]
    },
    {
      "cell_type": "code",
      "source": [
        "# Defining a \"normalize\" function to process the data before feeding it into the deep neural network. \n",
        "\n",
        "def normalize(x):\n",
        "  image, label = x['image'], x['label']\n",
        "  image = tf.image.convert_image_dtype(image, tf.float32)\n",
        "  label = tf.one_hot(label, 2, dtype=tf.float32)\n",
        "  return image, label"
      ],
      "metadata": {
        "id": "Xqz4ycyQqOD2"
      },
      "execution_count": 5,
      "outputs": []
    },
    {
      "cell_type": "code",
      "source": [
        "# Applying \"normalize\" function along with others to the data\n",
        "\n",
        "# Processing the training dataset\n",
        "train_ds = p_camelyon['train'].map(normalize, num_parallel_calls=8)\n",
        "train_ds = train_ds.shuffle(1024)\n",
        "train_ds = train_ds.repeat()\n",
        "train_ds = train_ds.batch(128)\n",
        "train_ds = train_ds.prefetch(2)\n",
        "\n",
        "# Processing validation dataset\n",
        "validation_ds = p_camelyon['validation'].map(normalize, num_parallel_calls=8)\n",
        "validation_ds = validation_ds.repeat()\n",
        "validation_ds = validation_ds.batch(128)\n",
        "validation_ds = validation_ds.prefetch(2)\n",
        "\n",
        "#Processing the test dataset\n",
        "test_ds = p_camelyon['test'].map(normalize, num_parallel_calls=8)\n",
        "test_ds = test_ds.batch(128)\n",
        "test_ds = test_ds.prefetch(2)\n",
        "\n",
        "#Seperating image and label into different variables\n",
        "train_images, train_labels = next(iter(train_ds))\n",
        "valid_images, valid_labels = next(iter(validation_ds))\n",
        "test_images, test_labels  = next(iter(test_ds))\n"
      ],
      "metadata": {
        "id": "U_fw0QJFqPLA"
      },
      "execution_count": 6,
      "outputs": []
    },
    {
      "cell_type": "code",
      "source": [
        "import math\n",
        "\n",
        "batch_size_for_training = 64\n",
        "batch_size_for_validation = 128\n",
        "batch_size_for_test = 128\n",
        "\n",
        "training_size = 262144\n",
        "validation_size = 32768\n",
        "test_size =  32768\n",
        "        \n",
        "\n",
        "# Calculate steps for training and testing the model\n",
        "calculate_steps_training = lambda x: int(math.ceil(1. * x / batch_size_for_training))\n",
        "calculate_steps_validation = lambda x: int(math.ceil(1. * x / batch_size_for_validation))\n",
        "calculate_steps_test= lambda x: int(math.ceil(1. * x / batch_size_for_test))\n",
        "\n",
        "steps_per_epoch = calculate_steps_training(training_size) \n",
        "validation_steps = calculate_steps_validation(validation_size)\n",
        "steps = calculate_steps_test(test_size)\n",
        "\n",
        "print(\"Training steps: \", steps_per_epoch)\n",
        "print(\"Validation steps: \", validation_steps)\n",
        "print(\"Testing steps: \", steps)\n"
      ],
      "metadata": {
        "colab": {
          "base_uri": "https://localhost:8080/"
        },
        "id": "DJouK7rMGqqg",
        "outputId": "d46ce1f7-87e8-4339-fd35-d918a94ad2d1"
      },
      "execution_count": 7,
      "outputs": [
        {
          "output_type": "stream",
          "name": "stdout",
          "text": [
            "Training steps:  4096\n",
            "Validation steps:  256\n",
            "Testing steps:  256\n"
          ]
        }
      ]
    },
    {
      "cell_type": "code",
      "source": [
        "import matplotlib.pyplot as plt\n",
        "\n",
        "def plot_hist(history):\n",
        "  plt.plot(history.history[\"acc\"])\n",
        "  plt.plot(history.history[\"val_acc\"])\n",
        "  plt.title(\"Model Accuracy\")\n",
        "  plt.ylabel(\"Accuracy\")\n",
        "  plt.xlabel(\"Epochs\")\n",
        "  plt.legend([\"train\", \"validation\"], loc=\"upper left\")\n",
        "  plt.show()"
      ],
      "metadata": {
        "id": "-F3QjhfEGmOR"
      },
      "execution_count": 8,
      "outputs": []
    },
    {
      "cell_type": "code",
      "source": [
        "# Building the Convolutonal Neural Network Model 1.1.1 Version 1\n",
        "\n",
        "# Setting up the output with the right size\n",
        "input = Input(shape=(96,96,3))\n",
        "\n",
        "# Relu activation functions only, with softmax activation function for the last Dense layer\n",
        "x = Conv2D(16, (3,3), activation='relu', padding='valid')(input)\n",
        "x = MaxPool2D(pool_size=(2,2), strides=(2,2))(x)\n",
        "x = Conv2D(32, (3,3), activation='relu', padding='valid')(x)\n",
        "x = MaxPool2D(pool_size=(2,2), strides=(2,2))(x)\n",
        "x = Conv2D(64, (3,3), activation='relu', padding='valid')(x)\n",
        "x = MaxPool2D(pool_size=(2,2), strides=(2,2))(x)\n",
        "x = Flatten()(x)\n",
        "x = Dense(256, activation='relu')(x)\n",
        "x = Dropout(rate=0.3)(x)\n",
        "x = Dense(128, activation='relu')(x)\n",
        "x = Dropout(rate=0.2)(x)\n",
        "output = Dense(2, activation='softmax')(x)\n",
        "\n",
        "# Optimizer = sgd\n",
        "# Loss function = hinge\n",
        "model_1_1_1_version_1 = Model(inputs=input, outputs = output)\n",
        "model_1_1_1_version_1.compile(optimizer='sgd', \n",
        "              loss=tf.keras.losses.Hinge(),\n",
        "              metrics=['acc'])\n",
        "\n",
        "model_1_1_1_version_1.summary()\n",
        "plot_model(model_1_1_1_version_1)"
      ],
      "metadata": {
        "colab": {
          "base_uri": "https://localhost:8080/",
          "height": 1000
        },
        "id": "o-Zsxtvo6NiN",
        "outputId": "b00fd313-7466-4619-8330-0d5e510ba725"
      },
      "execution_count": 9,
      "outputs": [
        {
          "output_type": "stream",
          "name": "stdout",
          "text": [
            "Model: \"model\"\n",
            "_________________________________________________________________\n",
            " Layer (type)                Output Shape              Param #   \n",
            "=================================================================\n",
            " input_1 (InputLayer)        [(None, 96, 96, 3)]       0         \n",
            "                                                                 \n",
            " conv2d (Conv2D)             (None, 94, 94, 16)        448       \n",
            "                                                                 \n",
            " max_pooling2d (MaxPooling2D  (None, 47, 47, 16)       0         \n",
            " )                                                               \n",
            "                                                                 \n",
            " conv2d_1 (Conv2D)           (None, 45, 45, 32)        4640      \n",
            "                                                                 \n",
            " max_pooling2d_1 (MaxPooling  (None, 22, 22, 32)       0         \n",
            " 2D)                                                             \n",
            "                                                                 \n",
            " conv2d_2 (Conv2D)           (None, 20, 20, 64)        18496     \n",
            "                                                                 \n",
            " max_pooling2d_2 (MaxPooling  (None, 10, 10, 64)       0         \n",
            " 2D)                                                             \n",
            "                                                                 \n",
            " flatten (Flatten)           (None, 6400)              0         \n",
            "                                                                 \n",
            " dense (Dense)               (None, 256)               1638656   \n",
            "                                                                 \n",
            " dropout (Dropout)           (None, 256)               0         \n",
            "                                                                 \n",
            " dense_1 (Dense)             (None, 128)               32896     \n",
            "                                                                 \n",
            " dropout_1 (Dropout)         (None, 128)               0         \n",
            "                                                                 \n",
            " dense_2 (Dense)             (None, 2)                 258       \n",
            "                                                                 \n",
            "=================================================================\n",
            "Total params: 1,695,394\n",
            "Trainable params: 1,695,394\n",
            "Non-trainable params: 0\n",
            "_________________________________________________________________\n"
          ]
        },
        {
          "output_type": "execute_result",
          "data": {
            "text/plain": [
              "<IPython.core.display.Image object>"
            ],
            "image/png": "[encoded data removed]"
          },
          "metadata": {},
          "execution_count": 9
        }
      ]
    },
    {
      "cell_type": "code",
      "source": [
        "# Building the Convolutonal Neural Network Model 1.1.2 Version 1\n",
        "\n",
        "# Setting up the output with the right size\n",
        "input = Input(shape=(96,96,3))\n",
        "\n",
        "# Relu activation functions only, with softmax activation function for the last Dense layer\n",
        "x = Conv2D(16, (3,3), activation='relu', padding='valid')(input)\n",
        "x = MaxPool2D(pool_size=(2,2), strides=(2,2))(x)\n",
        "x = Conv2D(32, (3,3), activation='relu', padding='valid')(x)\n",
        "x = MaxPool2D(pool_size=(2,2), strides=(2,2))(x)\n",
        "x = Conv2D(64, (3,3), activation='relu', padding='valid')(x)\n",
        "x = MaxPool2D(pool_size=(2,2), strides=(2,2))(x)\n",
        "x = Flatten()(x)\n",
        "x = Dense(256, activation='relu')(x)\n",
        "x = Dropout(rate=0.3)(x)\n",
        "x = Dense(128, activation='relu')(x)\n",
        "x = Dropout(rate=0.2)(x)\n",
        "output = Dense(2, activation='softmax')(x)\n",
        "\n",
        "# Optimizer = adagrad\n",
        "# Loss function = hinge\n",
        "model_1_1_2_version_1 = Model(inputs=input, outputs = output)\n",
        "model_1_1_2_version_1.compile(optimizer='adagrad', \n",
        "              loss=tf.keras.losses.Hinge(),\n",
        "              metrics=['acc'])\n",
        "\n",
        "model_1_1_2_version_1.summary()\n",
        "#plot_model(model_1_1_2_version_1)"
      ],
      "metadata": {
        "colab": {
          "base_uri": "https://localhost:8080/"
        },
        "id": "iAFhz75d6RV8",
        "outputId": "689eb705-96ab-4001-d052-1797621fe591"
      },
      "execution_count": 10,
      "outputs": [
        {
          "output_type": "stream",
          "name": "stdout",
          "text": [
            "Model: \"model_1\"\n",
            "_________________________________________________________________\n",
            " Layer (type)                Output Shape              Param #   \n",
            "=================================================================\n",
            " input_2 (InputLayer)        [(None, 96, 96, 3)]       0         \n",
            "                                                                 \n",
            " conv2d_3 (Conv2D)           (None, 94, 94, 16)        448       \n",
            "                                                                 \n",
            " max_pooling2d_3 (MaxPooling  (None, 47, 47, 16)       0         \n",
            " 2D)                                                             \n",
            "                                                                 \n",
            " conv2d_4 (Conv2D)           (None, 45, 45, 32)        4640      \n",
            "                                                                 \n",
            " max_pooling2d_4 (MaxPooling  (None, 22, 22, 32)       0         \n",
            " 2D)                                                             \n",
            "                                                                 \n",
            " conv2d_5 (Conv2D)           (None, 20, 20, 64)        18496     \n",
            "                                                                 \n",
            " max_pooling2d_5 (MaxPooling  (None, 10, 10, 64)       0         \n",
            " 2D)                                                             \n",
            "                                                                 \n",
            " flatten_1 (Flatten)         (None, 6400)              0         \n",
            "                                                                 \n",
            " dense_3 (Dense)             (None, 256)               1638656   \n",
            "                                                                 \n",
            " dropout_2 (Dropout)         (None, 256)               0         \n",
            "                                                                 \n",
            " dense_4 (Dense)             (None, 128)               32896     \n",
            "                                                                 \n",
            " dropout_3 (Dropout)         (None, 128)               0         \n",
            "                                                                 \n",
            " dense_5 (Dense)             (None, 2)                 258       \n",
            "                                                                 \n",
            "=================================================================\n",
            "Total params: 1,695,394\n",
            "Trainable params: 1,695,394\n",
            "Non-trainable params: 0\n",
            "_________________________________________________________________\n"
          ]
        }
      ]
    },
    {
      "cell_type": "code",
      "source": [
        "# Building the Convolutonal Neural Network Model 1.1.3 Version 1\n",
        "\n",
        "# Setting up the output with the right size\n",
        "input = Input(shape=(96,96,3))\n",
        "\n",
        "# Relu activation functions only, with softmax activation function for the last Dense layer\n",
        "x = Conv2D(16, (3,3), activation='relu', padding='valid')(input)\n",
        "x = MaxPool2D(pool_size=(2,2), strides=(2,2))(x)\n",
        "x = Conv2D(32, (3,3), activation='relu', padding='valid')(x)\n",
        "x = MaxPool2D(pool_size=(2,2), strides=(2,2))(x)\n",
        "x = Conv2D(64, (3,3), activation='relu', padding='valid')(x)\n",
        "x = MaxPool2D(pool_size=(2,2), strides=(2,2))(x)\n",
        "x = Flatten()(x)\n",
        "x = Dense(256, activation='relu')(x)\n",
        "x = Dropout(rate=0.3)(x)\n",
        "x = Dense(128, activation='relu')(x)\n",
        "x = Dropout(rate=0.2)(x)\n",
        "output = Dense(2, activation='softmax')(x)\n",
        "\n",
        "# Optimizer = RMSprop\n",
        "# Loss function = hinge\n",
        "model_1_1_3_version_1 = Model(inputs=input, outputs = output)\n",
        "model_1_1_3_version_1.compile(optimizer='RMSprop', \n",
        "              loss=tf.keras.losses.Hinge(),\n",
        "              metrics=['acc'])\n",
        "\n",
        "model_1_1_3_version_1.summary()\n",
        "#plot_model(model_1_1_3_version_1)"
      ],
      "metadata": {
        "colab": {
          "base_uri": "https://localhost:8080/"
        },
        "id": "0teRzonF6R9k",
        "outputId": "594a5cfb-7edd-47d9-ab10-ad578b04313b"
      },
      "execution_count": 11,
      "outputs": [
        {
          "output_type": "stream",
          "name": "stdout",
          "text": [
            "Model: \"model_2\"\n",
            "_________________________________________________________________\n",
            " Layer (type)                Output Shape              Param #   \n",
            "=================================================================\n",
            " input_3 (InputLayer)        [(None, 96, 96, 3)]       0         \n",
            "                                                                 \n",
            " conv2d_6 (Conv2D)           (None, 94, 94, 16)        448       \n",
            "                                                                 \n",
            " max_pooling2d_6 (MaxPooling  (None, 47, 47, 16)       0         \n",
            " 2D)                                                             \n",
            "                                                                 \n",
            " conv2d_7 (Conv2D)           (None, 45, 45, 32)        4640      \n",
            "                                                                 \n",
            " max_pooling2d_7 (MaxPooling  (None, 22, 22, 32)       0         \n",
            " 2D)                                                             \n",
            "                                                                 \n",
            " conv2d_8 (Conv2D)           (None, 20, 20, 64)        18496     \n",
            "                                                                 \n",
            " max_pooling2d_8 (MaxPooling  (None, 10, 10, 64)       0         \n",
            " 2D)                                                             \n",
            "                                                                 \n",
            " flatten_2 (Flatten)         (None, 6400)              0         \n",
            "                                                                 \n",
            " dense_6 (Dense)             (None, 256)               1638656   \n",
            "                                                                 \n",
            " dropout_4 (Dropout)         (None, 256)               0         \n",
            "                                                                 \n",
            " dense_7 (Dense)             (None, 128)               32896     \n",
            "                                                                 \n",
            " dropout_5 (Dropout)         (None, 128)               0         \n",
            "                                                                 \n",
            " dense_8 (Dense)             (None, 2)                 258       \n",
            "                                                                 \n",
            "=================================================================\n",
            "Total params: 1,695,394\n",
            "Trainable params: 1,695,394\n",
            "Non-trainable params: 0\n",
            "_________________________________________________________________\n"
          ]
        }
      ]
    },
    {
      "cell_type": "code",
      "source": [
        "# Building the Convolutonal Network Model 1.2.1 Version 1\n",
        "\n",
        "# Setting up the output with the right size\n",
        "input = Input(shape=(96,96,3))\n",
        "\n",
        "# Relu activation functions only, with softmax activation function for the last Dense layer\n",
        "x = Conv2D(16, (3,3), activation='relu', padding='valid')(input)\n",
        "x = MaxPool2D(pool_size=(2,2), strides=(2,2))(x)\n",
        "x = Conv2D(32, (3,3), activation='relu', padding='valid')(x)\n",
        "x = MaxPool2D(pool_size=(2,2), strides=(2,2))(x)\n",
        "x = Conv2D(64, (3,3), activation='relu', padding='valid')(x)\n",
        "x = MaxPool2D(pool_size=(2,2), strides=(2,2))(x)\n",
        "x = Flatten()(x)\n",
        "x = Dense(256, activation='relu')(x)\n",
        "x = Dropout(rate=0.3)(x)\n",
        "x = Dense(128, activation='relu')(x)\n",
        "x = Dropout(rate=0.2)(x)\n",
        "output = Dense(2, activation='softmax')(x)\n",
        "\n",
        "# Optimizer = sgd\n",
        "# Loss function =   MSE\n",
        "model_1_2_1_version_1 = Model(inputs=input, outputs = output)\n",
        "model_1_2_1_version_1.compile(optimizer='sgd', \n",
        "              loss='MSE',\n",
        "              metrics=['acc'])\n",
        "\n",
        "model_1_2_1_version_1.summary()\n",
        "#plot_model(model_1_2_1_version_1)"
      ],
      "metadata": {
        "colab": {
          "base_uri": "https://localhost:8080/"
        },
        "id": "Gj-k44v16Tft",
        "outputId": "d2ed7f0c-ea04-473c-c4a9-117bf8a3c22c"
      },
      "execution_count": 12,
      "outputs": [
        {
          "output_type": "stream",
          "name": "stdout",
          "text": [
            "Model: \"model_3\"\n",
            "_________________________________________________________________\n",
            " Layer (type)                Output Shape              Param #   \n",
            "=================================================================\n",
            " input_4 (InputLayer)        [(None, 96, 96, 3)]       0         \n",
            "                                                                 \n",
            " conv2d_9 (Conv2D)           (None, 94, 94, 16)        448       \n",
            "                                                                 \n",
            " max_pooling2d_9 (MaxPooling  (None, 47, 47, 16)       0         \n",
            " 2D)                                                             \n",
            "                                                                 \n",
            " conv2d_10 (Conv2D)          (None, 45, 45, 32)        4640      \n",
            "                                                                 \n",
            " max_pooling2d_10 (MaxPoolin  (None, 22, 22, 32)       0         \n",
            " g2D)                                                            \n",
            "                                                                 \n",
            " conv2d_11 (Conv2D)          (None, 20, 20, 64)        18496     \n",
            "                                                                 \n",
            " max_pooling2d_11 (MaxPoolin  (None, 10, 10, 64)       0         \n",
            " g2D)                                                            \n",
            "                                                                 \n",
            " flatten_3 (Flatten)         (None, 6400)              0         \n",
            "                                                                 \n",
            " dense_9 (Dense)             (None, 256)               1638656   \n",
            "                                                                 \n",
            " dropout_6 (Dropout)         (None, 256)               0         \n",
            "                                                                 \n",
            " dense_10 (Dense)            (None, 128)               32896     \n",
            "                                                                 \n",
            " dropout_7 (Dropout)         (None, 128)               0         \n",
            "                                                                 \n",
            " dense_11 (Dense)            (None, 2)                 258       \n",
            "                                                                 \n",
            "=================================================================\n",
            "Total params: 1,695,394\n",
            "Trainable params: 1,695,394\n",
            "Non-trainable params: 0\n",
            "_________________________________________________________________\n"
          ]
        }
      ]
    },
    {
      "cell_type": "code",
      "source": [
        "# Building the Convolutonal Network Model 1.2.2 Version 1\n",
        "\n",
        "# Setting up the output with the right size\n",
        "input = Input(shape=(96,96,3))\n",
        "\n",
        "# Relu activation functions only, with softmax activation function for the last Dense layer\n",
        "x = Conv2D(16, (3,3), activation='relu', padding='valid')(input)\n",
        "x = MaxPool2D(pool_size=(2,2), strides=(2,2))(x)\n",
        "x = Conv2D(32, (3,3), activation='relu', padding='valid')(x)\n",
        "x = MaxPool2D(pool_size=(2,2), strides=(2,2))(x)\n",
        "x = Conv2D(64, (3,3), activation='relu', padding='valid')(x)\n",
        "x = MaxPool2D(pool_size=(2,2), strides=(2,2))(x)\n",
        "x = Flatten()(x)\n",
        "x = Dense(256, activation='relu')(x)\n",
        "x = Dropout(rate=0.3)(x)\n",
        "x = Dense(128, activation='relu')(x)\n",
        "x = Dropout(rate=0.2)(x)\n",
        "output = Dense(2, activation='softmax')(x)\n",
        "\n",
        "# Optimizer = adagrad\n",
        "# Loss function =   MSE\n",
        "model_1_2_2_version_1 = Model(inputs=input, outputs = output)\n",
        "model_1_2_2_version_1.compile(optimizer='adagrad', \n",
        "              loss='MSE',\n",
        "              metrics=['acc'])\n",
        "\n",
        "model_1_2_2_version_1.summary()\n",
        "#plot_model(model_1_2_2_version_1)"
      ],
      "metadata": {
        "colab": {
          "base_uri": "https://localhost:8080/"
        },
        "id": "2uMvQjqw6VCM",
        "outputId": "2907eb4a-8887-447e-f29f-ce02531dba55"
      },
      "execution_count": 13,
      "outputs": [
        {
          "output_type": "stream",
          "name": "stdout",
          "text": [
            "Model: \"model_4\"\n",
            "_________________________________________________________________\n",
            " Layer (type)                Output Shape              Param #   \n",
            "=================================================================\n",
            " input_5 (InputLayer)        [(None, 96, 96, 3)]       0         \n",
            "                                                                 \n",
            " conv2d_12 (Conv2D)          (None, 94, 94, 16)        448       \n",
            "                                                                 \n",
            " max_pooling2d_12 (MaxPoolin  (None, 47, 47, 16)       0         \n",
            " g2D)                                                            \n",
            "                                                                 \n",
            " conv2d_13 (Conv2D)          (None, 45, 45, 32)        4640      \n",
            "                                                                 \n",
            " max_pooling2d_13 (MaxPoolin  (None, 22, 22, 32)       0         \n",
            " g2D)                                                            \n",
            "                                                                 \n",
            " conv2d_14 (Conv2D)          (None, 20, 20, 64)        18496     \n",
            "                                                                 \n",
            " max_pooling2d_14 (MaxPoolin  (None, 10, 10, 64)       0         \n",
            " g2D)                                                            \n",
            "                                                                 \n",
            " flatten_4 (Flatten)         (None, 6400)              0         \n",
            "                                                                 \n",
            " dense_12 (Dense)            (None, 256)               1638656   \n",
            "                                                                 \n",
            " dropout_8 (Dropout)         (None, 256)               0         \n",
            "                                                                 \n",
            " dense_13 (Dense)            (None, 128)               32896     \n",
            "                                                                 \n",
            " dropout_9 (Dropout)         (None, 128)               0         \n",
            "                                                                 \n",
            " dense_14 (Dense)            (None, 2)                 258       \n",
            "                                                                 \n",
            "=================================================================\n",
            "Total params: 1,695,394\n",
            "Trainable params: 1,695,394\n",
            "Non-trainable params: 0\n",
            "_________________________________________________________________\n"
          ]
        }
      ]
    },
    {
      "cell_type": "code",
      "source": [
        "# Building the Convolutonal Network Model 1.2.3 Version 1\n",
        "\n",
        "# Setting up the output with the right size\n",
        "input = Input(shape=(96,96,3))\n",
        "\n",
        "# Relu activation functions only, with softmax activation function for the last Dense layer\n",
        "x = Conv2D(16, (3,3), activation='relu', padding='valid')(input)\n",
        "x = MaxPool2D(pool_size=(2,2), strides=(2,2))(x)\n",
        "x = Conv2D(32, (3,3), activation='relu', padding='valid')(x)\n",
        "x = MaxPool2D(pool_size=(2,2), strides=(2,2))(x)\n",
        "x = Conv2D(64, (3,3), activation='relu', padding='valid')(x)\n",
        "x = MaxPool2D(pool_size=(2,2), strides=(2,2))(x)\n",
        "x = Flatten()(x)\n",
        "x = Dense(256, activation='relu')(x)\n",
        "x = Dropout(rate=0.3)(x)\n",
        "x = Dense(128, activation='relu')(x)\n",
        "x = Dropout(rate=0.2)(x)\n",
        "output = Dense(2, activation='softmax')(x)\n",
        "\n",
        "# Optimizer = RMSprop\n",
        "# Loss function =   MSE\n",
        "model_1_2_3_version_1 = Model(inputs=input, outputs = output)\n",
        "model_1_2_3_version_1.compile(optimizer='RMSprop', \n",
        "              loss='MSE',\n",
        "              metrics=['acc'])\n",
        "\n",
        "model_1_2_3_version_1.summary()\n",
        "#plot_model(model_1_2_3_version_1)"
      ],
      "metadata": {
        "colab": {
          "base_uri": "https://localhost:8080/"
        },
        "id": "S19AXlQu6WU-",
        "outputId": "3c97b9ba-e40c-432e-ba4a-2c5092d89e70"
      },
      "execution_count": 14,
      "outputs": [
        {
          "output_type": "stream",
          "name": "stdout",
          "text": [
            "Model: \"model_5\"\n",
            "_________________________________________________________________\n",
            " Layer (type)                Output Shape              Param #   \n",
            "=================================================================\n",
            " input_6 (InputLayer)        [(None, 96, 96, 3)]       0         \n",
            "                                                                 \n",
            " conv2d_15 (Conv2D)          (None, 94, 94, 16)        448       \n",
            "                                                                 \n",
            " max_pooling2d_15 (MaxPoolin  (None, 47, 47, 16)       0         \n",
            " g2D)                                                            \n",
            "                                                                 \n",
            " conv2d_16 (Conv2D)          (None, 45, 45, 32)        4640      \n",
            "                                                                 \n",
            " max_pooling2d_16 (MaxPoolin  (None, 22, 22, 32)       0         \n",
            " g2D)                                                            \n",
            "                                                                 \n",
            " conv2d_17 (Conv2D)          (None, 20, 20, 64)        18496     \n",
            "                                                                 \n",
            " max_pooling2d_17 (MaxPoolin  (None, 10, 10, 64)       0         \n",
            " g2D)                                                            \n",
            "                                                                 \n",
            " flatten_5 (Flatten)         (None, 6400)              0         \n",
            "                                                                 \n",
            " dense_15 (Dense)            (None, 256)               1638656   \n",
            "                                                                 \n",
            " dropout_10 (Dropout)        (None, 256)               0         \n",
            "                                                                 \n",
            " dense_16 (Dense)            (None, 128)               32896     \n",
            "                                                                 \n",
            " dropout_11 (Dropout)        (None, 128)               0         \n",
            "                                                                 \n",
            " dense_17 (Dense)            (None, 2)                 258       \n",
            "                                                                 \n",
            "=================================================================\n",
            "Total params: 1,695,394\n",
            "Trainable params: 1,695,394\n",
            "Non-trainable params: 0\n",
            "_________________________________________________________________\n"
          ]
        }
      ]
    },
    {
      "cell_type": "code",
      "source": [
        "# Building the Convolutonal Network Model 2.1.1 Version 1\n",
        "\n",
        "# Setting up the output with the right size\n",
        "input = Input(shape=(96,96,3))\n",
        "\n",
        "# Sigmoid activation functions only with softmax for the last Dense layer\n",
        "\n",
        "x = Conv2D(16, (3,3), activation='sigmoid', padding='valid')(input)\n",
        "x = MaxPool2D(pool_size=(2,2), strides=(2,2))(x)\n",
        "x = Conv2D(32, (3,3), activation='sigmoid', padding='valid')(x)\n",
        "x = MaxPool2D(pool_size=(2,2), strides=(2,2))(x)\n",
        "x = Conv2D(64, (3,3), activation='sigmoid', padding='valid')(x)\n",
        "x = MaxPool2D(pool_size=(2,2), strides=(2,2))(x)\n",
        "x = Flatten()(x)\n",
        "x = Dense(256, activation='sigmoid')(x)\n",
        "x = Dropout(rate=0.3)(x)\n",
        "x = Dense(128, activation='sigmoid')(x)\n",
        "x = Dropout(rate=0.2)(x)\n",
        "output = Dense(2, activation='softmax')(x)\n",
        "\n",
        "# Optimizer = sgd\n",
        "# Loss function = hinge\n",
        "model_2_1_1_version_1 = Model(inputs=input, outputs = output)\n",
        "model_2_1_1_version_1.compile(optimizer='sgd', \n",
        "              loss=tf.keras.losses.Hinge(),\n",
        "              metrics=['acc'])\n",
        "\n",
        "model_2_1_1_version_1.summary()\n",
        "#plot_model(model_2_1_1_version_1)"
      ],
      "metadata": {
        "colab": {
          "base_uri": "https://localhost:8080/"
        },
        "id": "YAKn1LR_6bPf",
        "outputId": "b1997c8e-1ea0-4786-c75d-7629d09067dc"
      },
      "execution_count": 15,
      "outputs": [
        {
          "output_type": "stream",
          "name": "stdout",
          "text": [
            "Model: \"model_6\"\n",
            "_________________________________________________________________\n",
            " Layer (type)                Output Shape              Param #   \n",
            "=================================================================\n",
            " input_7 (InputLayer)        [(None, 96, 96, 3)]       0         \n",
            "                                                                 \n",
            " conv2d_18 (Conv2D)          (None, 94, 94, 16)        448       \n",
            "                                                                 \n",
            " max_pooling2d_18 (MaxPoolin  (None, 47, 47, 16)       0         \n",
            " g2D)                                                            \n",
            "                                                                 \n",
            " conv2d_19 (Conv2D)          (None, 45, 45, 32)        4640      \n",
            "                                                                 \n",
            " max_pooling2d_19 (MaxPoolin  (None, 22, 22, 32)       0         \n",
            " g2D)                                                            \n",
            "                                                                 \n",
            " conv2d_20 (Conv2D)          (None, 20, 20, 64)        18496     \n",
            "                                                                 \n",
            " max_pooling2d_20 (MaxPoolin  (None, 10, 10, 64)       0         \n",
            " g2D)                                                            \n",
            "                                                                 \n",
            " flatten_6 (Flatten)         (None, 6400)              0         \n",
            "                                                                 \n",
            " dense_18 (Dense)            (None, 256)               1638656   \n",
            "                                                                 \n",
            " dropout_12 (Dropout)        (None, 256)               0         \n",
            "                                                                 \n",
            " dense_19 (Dense)            (None, 128)               32896     \n",
            "                                                                 \n",
            " dropout_13 (Dropout)        (None, 128)               0         \n",
            "                                                                 \n",
            " dense_20 (Dense)            (None, 2)                 258       \n",
            "                                                                 \n",
            "=================================================================\n",
            "Total params: 1,695,394\n",
            "Trainable params: 1,695,394\n",
            "Non-trainable params: 0\n",
            "_________________________________________________________________\n"
          ]
        }
      ]
    },
    {
      "cell_type": "code",
      "source": [
        "# Building the Convolutonal Network Model 2.1.2 Version 1\n",
        "\n",
        "# Setting up the output with the right size\n",
        "input = Input(shape=(96,96,3))\n",
        "\n",
        "# Sigmoid activation functions only with softmax for the last Dense layer\n",
        "\n",
        "x = Conv2D(16, (3,3), activation='sigmoid', padding='valid')(input)\n",
        "x = MaxPool2D(pool_size=(2,2), strides=(2,2))(x)\n",
        "x = Conv2D(32, (3,3), activation='sigmoid', padding='valid')(x)\n",
        "x = MaxPool2D(pool_size=(2,2), strides=(2,2))(x)\n",
        "x = Conv2D(64, (3,3), activation='sigmoid', padding='valid')(x)\n",
        "x = MaxPool2D(pool_size=(2,2), strides=(2,2))(x)\n",
        "x = Flatten()(x)\n",
        "x = Dense(256, activation='sigmoid')(x)\n",
        "x = Dropout(rate=0.3)(x)\n",
        "x = Dense(128, activation='sigmoid')(x)\n",
        "x = Dropout(rate=0.2)(x)\n",
        "output = Dense(2, activation='softmax')(x)\n",
        "\n",
        "# Optimizer = Adagrad\n",
        "# Loss function = hinge\n",
        "model_2_1_2_version_1 = Model(inputs=input, outputs = output)\n",
        "model_2_1_2_version_1.compile(optimizer='adagrad', \n",
        "              loss=tf.keras.losses.Hinge(),\n",
        "              metrics=['acc'])\n",
        "\n",
        "model_2_1_2_version_1.summary()\n",
        "#plot_model(model_2_1_2_version_1)"
      ],
      "metadata": {
        "colab": {
          "base_uri": "https://localhost:8080/"
        },
        "id": "Sgb7jRmg6b0D",
        "outputId": "568edb5d-c174-4442-8731-b5833953b1a5"
      },
      "execution_count": 16,
      "outputs": [
        {
          "output_type": "stream",
          "name": "stdout",
          "text": [
            "Model: \"model_7\"\n",
            "_________________________________________________________________\n",
            " Layer (type)                Output Shape              Param #   \n",
            "=================================================================\n",
            " input_8 (InputLayer)        [(None, 96, 96, 3)]       0         \n",
            "                                                                 \n",
            " conv2d_21 (Conv2D)          (None, 94, 94, 16)        448       \n",
            "                                                                 \n",
            " max_pooling2d_21 (MaxPoolin  (None, 47, 47, 16)       0         \n",
            " g2D)                                                            \n",
            "                                                                 \n",
            " conv2d_22 (Conv2D)          (None, 45, 45, 32)        4640      \n",
            "                                                                 \n",
            " max_pooling2d_22 (MaxPoolin  (None, 22, 22, 32)       0         \n",
            " g2D)                                                            \n",
            "                                                                 \n",
            " conv2d_23 (Conv2D)          (None, 20, 20, 64)        18496     \n",
            "                                                                 \n",
            " max_pooling2d_23 (MaxPoolin  (None, 10, 10, 64)       0         \n",
            " g2D)                                                            \n",
            "                                                                 \n",
            " flatten_7 (Flatten)         (None, 6400)              0         \n",
            "                                                                 \n",
            " dense_21 (Dense)            (None, 256)               1638656   \n",
            "                                                                 \n",
            " dropout_14 (Dropout)        (None, 256)               0         \n",
            "                                                                 \n",
            " dense_22 (Dense)            (None, 128)               32896     \n",
            "                                                                 \n",
            " dropout_15 (Dropout)        (None, 128)               0         \n",
            "                                                                 \n",
            " dense_23 (Dense)            (None, 2)                 258       \n",
            "                                                                 \n",
            "=================================================================\n",
            "Total params: 1,695,394\n",
            "Trainable params: 1,695,394\n",
            "Non-trainable params: 0\n",
            "_________________________________________________________________\n"
          ]
        }
      ]
    },
    {
      "cell_type": "code",
      "source": [
        "# Building the Convolutonal Network Model 2.1.3 Version 1\n",
        "\n",
        "# Setting up the output with the right size\n",
        "input = Input(shape=(96,96,3))\n",
        "\n",
        "# Sigmoid activation functions only with softmax for the last Dense layer\n",
        "\n",
        "x = Conv2D(16, (3,3), activation='sigmoid', padding='valid')(input)\n",
        "x = MaxPool2D(pool_size=(2,2), strides=(2,2))(x)\n",
        "x = Conv2D(32, (3,3), activation='sigmoid', padding='valid')(x)\n",
        "x = MaxPool2D(pool_size=(2,2), strides=(2,2))(x)\n",
        "x = Conv2D(64, (3,3), activation='sigmoid', padding='valid')(x)\n",
        "x = MaxPool2D(pool_size=(2,2), strides=(2,2))(x)\n",
        "x = Flatten()(x)\n",
        "x = Dense(256, activation='sigmoid')(x)\n",
        "x = Dropout(rate=0.3)(x)\n",
        "x = Dense(128, activation='sigmoid')(x)\n",
        "x = Dropout(rate=0.2)(x)\n",
        "output = Dense(2, activation='softmax')(x)\n",
        "\n",
        "# Optimizer = RMSprop\n",
        "# Loss function = hinge\n",
        "model_2_1_3_version_1 = Model(inputs=input, outputs = output)\n",
        "model_2_1_3_version_1.compile(optimizer='RMSprop', \n",
        "              loss=tf.keras.losses.Hinge(),\n",
        "              metrics=['acc'])\n",
        "\n",
        "model_2_1_3_version_1.summary()\n",
        "#plot_model(model_2_1_3_version_1)"
      ],
      "metadata": {
        "colab": {
          "base_uri": "https://localhost:8080/"
        },
        "id": "gAgf9vK76b2j",
        "outputId": "5c0d2a80-67f3-4d54-ad83-e1424c675157"
      },
      "execution_count": 17,
      "outputs": [
        {
          "output_type": "stream",
          "name": "stdout",
          "text": [
            "Model: \"model_8\"\n",
            "_________________________________________________________________\n",
            " Layer (type)                Output Shape              Param #   \n",
            "=================================================================\n",
            " input_9 (InputLayer)        [(None, 96, 96, 3)]       0         \n",
            "                                                                 \n",
            " conv2d_24 (Conv2D)          (None, 94, 94, 16)        448       \n",
            "                                                                 \n",
            " max_pooling2d_24 (MaxPoolin  (None, 47, 47, 16)       0         \n",
            " g2D)                                                            \n",
            "                                                                 \n",
            " conv2d_25 (Conv2D)          (None, 45, 45, 32)        4640      \n",
            "                                                                 \n",
            " max_pooling2d_25 (MaxPoolin  (None, 22, 22, 32)       0         \n",
            " g2D)                                                            \n",
            "                                                                 \n",
            " conv2d_26 (Conv2D)          (None, 20, 20, 64)        18496     \n",
            "                                                                 \n",
            " max_pooling2d_26 (MaxPoolin  (None, 10, 10, 64)       0         \n",
            " g2D)                                                            \n",
            "                                                                 \n",
            " flatten_8 (Flatten)         (None, 6400)              0         \n",
            "                                                                 \n",
            " dense_24 (Dense)            (None, 256)               1638656   \n",
            "                                                                 \n",
            " dropout_16 (Dropout)        (None, 256)               0         \n",
            "                                                                 \n",
            " dense_25 (Dense)            (None, 128)               32896     \n",
            "                                                                 \n",
            " dropout_17 (Dropout)        (None, 128)               0         \n",
            "                                                                 \n",
            " dense_26 (Dense)            (None, 2)                 258       \n",
            "                                                                 \n",
            "=================================================================\n",
            "Total params: 1,695,394\n",
            "Trainable params: 1,695,394\n",
            "Non-trainable params: 0\n",
            "_________________________________________________________________\n"
          ]
        }
      ]
    },
    {
      "cell_type": "code",
      "source": [
        "# Building the Convolutonal Network Model 2.2.1 Version 1\n",
        "\n",
        "# Setting up the output with the right size\n",
        "input = Input(shape=(96,96,3))\n",
        "\n",
        "# Sigmoid activation functions only with softmax for the last Dense layer\n",
        "\n",
        "x = Conv2D(16, (3,3), activation='sigmoid', padding='valid')(input)\n",
        "x = MaxPool2D(pool_size=(2,2), strides=(2,2))(x)\n",
        "x = Conv2D(32, (3,3), activation='sigmoid', padding='valid')(x)\n",
        "x = MaxPool2D(pool_size=(2,2), strides=(2,2))(x)\n",
        "x = Conv2D(64, (3,3), activation='sigmoid', padding='valid')(x)\n",
        "x = MaxPool2D(pool_size=(2,2), strides=(2,2))(x)\n",
        "x = Flatten()(x)\n",
        "x = Dense(256, activation='sigmoid')(x)\n",
        "x = Dropout(rate=0.3)(x)\n",
        "x = Dense(128, activation='sigmoid')(x)\n",
        "x = Dropout(rate=0.2)(x)\n",
        "output = Dense(2, activation='softmax')(x)\n",
        "\n",
        "# Optimizer = sgd\n",
        "# Loss function = MSE\n",
        "model_2_2_1_version_1 = Model(inputs=input, outputs = output)\n",
        "model_2_2_1_version_1.compile(optimizer='sgd', \n",
        "              loss='MSE',\n",
        "              metrics=['acc'])\n",
        "\n",
        "model_2_2_1_version_1.summary()\n",
        "#plot_model(model_2_2_1_version_1)"
      ],
      "metadata": {
        "colab": {
          "base_uri": "https://localhost:8080/"
        },
        "id": "yU_N10A46b4r",
        "outputId": "cf2884bf-0078-4c59-ac15-85054d7454b8"
      },
      "execution_count": 18,
      "outputs": [
        {
          "output_type": "stream",
          "name": "stdout",
          "text": [
            "Model: \"model_9\"\n",
            "_________________________________________________________________\n",
            " Layer (type)                Output Shape              Param #   \n",
            "=================================================================\n",
            " input_10 (InputLayer)       [(None, 96, 96, 3)]       0         \n",
            "                                                                 \n",
            " conv2d_27 (Conv2D)          (None, 94, 94, 16)        448       \n",
            "                                                                 \n",
            " max_pooling2d_27 (MaxPoolin  (None, 47, 47, 16)       0         \n",
            " g2D)                                                            \n",
            "                                                                 \n",
            " conv2d_28 (Conv2D)          (None, 45, 45, 32)        4640      \n",
            "                                                                 \n",
            " max_pooling2d_28 (MaxPoolin  (None, 22, 22, 32)       0         \n",
            " g2D)                                                            \n",
            "                                                                 \n",
            " conv2d_29 (Conv2D)          (None, 20, 20, 64)        18496     \n",
            "                                                                 \n",
            " max_pooling2d_29 (MaxPoolin  (None, 10, 10, 64)       0         \n",
            " g2D)                                                            \n",
            "                                                                 \n",
            " flatten_9 (Flatten)         (None, 6400)              0         \n",
            "                                                                 \n",
            " dense_27 (Dense)            (None, 256)               1638656   \n",
            "                                                                 \n",
            " dropout_18 (Dropout)        (None, 256)               0         \n",
            "                                                                 \n",
            " dense_28 (Dense)            (None, 128)               32896     \n",
            "                                                                 \n",
            " dropout_19 (Dropout)        (None, 128)               0         \n",
            "                                                                 \n",
            " dense_29 (Dense)            (None, 2)                 258       \n",
            "                                                                 \n",
            "=================================================================\n",
            "Total params: 1,695,394\n",
            "Trainable params: 1,695,394\n",
            "Non-trainable params: 0\n",
            "_________________________________________________________________\n"
          ]
        }
      ]
    },
    {
      "cell_type": "code",
      "source": [
        "# Building the Convolutonal Network Model 2.2.2 Version 1\n",
        "\n",
        "# Setting up the output with the right size\n",
        "input = Input(shape=(96,96,3))\n",
        "\n",
        "# Sigmoid activation functions only with softmax for the last Dense layer\n",
        "\n",
        "x = Conv2D(16, (3,3), activation='sigmoid', padding='valid')(input)\n",
        "x = MaxPool2D(pool_size=(2,2), strides=(2,2))(x)\n",
        "x = Conv2D(32, (3,3), activation='sigmoid', padding='valid')(x)\n",
        "x = MaxPool2D(pool_size=(2,2), strides=(2,2))(x)\n",
        "x = Conv2D(64, (3,3), activation='sigmoid', padding='valid')(x)\n",
        "x = MaxPool2D(pool_size=(2,2), strides=(2,2))(x)\n",
        "x = Flatten()(x)\n",
        "x = Dense(256, activation='sigmoid')(x)\n",
        "x = Dropout(rate=0.3)(x)\n",
        "x = Dense(128, activation='sigmoid')(x)\n",
        "x = Dropout(rate=0.2)(x)\n",
        "output = Dense(2, activation='softmax')(x)\n",
        "\n",
        "# Optimizer = Adagrad\n",
        "# Loss function = MSE\n",
        "model_2_2_2_version_1 = Model(inputs=input, outputs = output)\n",
        "model_2_2_2_version_1.compile(optimizer='adagrad', \n",
        "              loss='MSE',\n",
        "              metrics=['acc'])\n",
        "\n",
        "model_2_2_2_version_1.summary()\n",
        "#plot_model(model_2_2_2_version_1)"
      ],
      "metadata": {
        "colab": {
          "base_uri": "https://localhost:8080/"
        },
        "id": "g44cRYnU6b7J",
        "outputId": "0e800a25-cc8b-440d-f2a7-a9632102c95d"
      },
      "execution_count": 19,
      "outputs": [
        {
          "output_type": "stream",
          "name": "stdout",
          "text": [
            "Model: \"model_10\"\n",
            "_________________________________________________________________\n",
            " Layer (type)                Output Shape              Param #   \n",
            "=================================================================\n",
            " input_11 (InputLayer)       [(None, 96, 96, 3)]       0         \n",
            "                                                                 \n",
            " conv2d_30 (Conv2D)          (None, 94, 94, 16)        448       \n",
            "                                                                 \n",
            " max_pooling2d_30 (MaxPoolin  (None, 47, 47, 16)       0         \n",
            " g2D)                                                            \n",
            "                                                                 \n",
            " conv2d_31 (Conv2D)          (None, 45, 45, 32)        4640      \n",
            "                                                                 \n",
            " max_pooling2d_31 (MaxPoolin  (None, 22, 22, 32)       0         \n",
            " g2D)                                                            \n",
            "                                                                 \n",
            " conv2d_32 (Conv2D)          (None, 20, 20, 64)        18496     \n",
            "                                                                 \n",
            " max_pooling2d_32 (MaxPoolin  (None, 10, 10, 64)       0         \n",
            " g2D)                                                            \n",
            "                                                                 \n",
            " flatten_10 (Flatten)        (None, 6400)              0         \n",
            "                                                                 \n",
            " dense_30 (Dense)            (None, 256)               1638656   \n",
            "                                                                 \n",
            " dropout_20 (Dropout)        (None, 256)               0         \n",
            "                                                                 \n",
            " dense_31 (Dense)            (None, 128)               32896     \n",
            "                                                                 \n",
            " dropout_21 (Dropout)        (None, 128)               0         \n",
            "                                                                 \n",
            " dense_32 (Dense)            (None, 2)                 258       \n",
            "                                                                 \n",
            "=================================================================\n",
            "Total params: 1,695,394\n",
            "Trainable params: 1,695,394\n",
            "Non-trainable params: 0\n",
            "_________________________________________________________________\n"
          ]
        }
      ]
    },
    {
      "cell_type": "code",
      "source": [
        "# Building the Convolutonal Network Model 2.2.3 Version 1\n",
        "\n",
        "# Setting up the output with the right size\n",
        "input = Input(shape=(96,96,3))\n",
        "\n",
        "# Sigmoid activation functions only with softmax for the last Dense layer\n",
        "\n",
        "x = Conv2D(16, (3,3), activation='sigmoid', padding='valid')(input)\n",
        "x = MaxPool2D(pool_size=(2,2), strides=(2,2))(x)\n",
        "x = Conv2D(32, (3,3), activation='sigmoid', padding='valid')(x)\n",
        "x = MaxPool2D(pool_size=(2,2), strides=(2,2))(x)\n",
        "x = Conv2D(64, (3,3), activation='sigmoid', padding='valid')(x)\n",
        "x = MaxPool2D(pool_size=(2,2), strides=(2,2))(x)\n",
        "x = Flatten()(x)\n",
        "x = Dense(256, activation='sigmoid')(x)\n",
        "x = Dropout(rate=0.3)(x)\n",
        "x = Dense(128, activation='sigmoid')(x)\n",
        "x = Dropout(rate=0.2)(x)\n",
        "output = Dense(2, activation='softmax')(x)\n",
        "\n",
        "# Optimizer = RMSprop\n",
        "# Loss function = MSE\n",
        "model_2_2_3_version_1 = Model(inputs=input, outputs = output)\n",
        "model_2_2_3_version_1.compile(optimizer='RMSprop', \n",
        "              loss='MSE',\n",
        "              metrics=['acc'])\n",
        "\n",
        "model_2_2_3_version_1.summary()\n",
        "#plot_model(model_2_2_3_version_1)"
      ],
      "metadata": {
        "colab": {
          "base_uri": "https://localhost:8080/"
        },
        "id": "MKpa0jSs6b9b",
        "outputId": "3c27f61e-27d1-4c9a-a061-46a4635e2741"
      },
      "execution_count": 20,
      "outputs": [
        {
          "output_type": "stream",
          "name": "stdout",
          "text": [
            "Model: \"model_11\"\n",
            "_________________________________________________________________\n",
            " Layer (type)                Output Shape              Param #   \n",
            "=================================================================\n",
            " input_12 (InputLayer)       [(None, 96, 96, 3)]       0         \n",
            "                                                                 \n",
            " conv2d_33 (Conv2D)          (None, 94, 94, 16)        448       \n",
            "                                                                 \n",
            " max_pooling2d_33 (MaxPoolin  (None, 47, 47, 16)       0         \n",
            " g2D)                                                            \n",
            "                                                                 \n",
            " conv2d_34 (Conv2D)          (None, 45, 45, 32)        4640      \n",
            "                                                                 \n",
            " max_pooling2d_34 (MaxPoolin  (None, 22, 22, 32)       0         \n",
            " g2D)                                                            \n",
            "                                                                 \n",
            " conv2d_35 (Conv2D)          (None, 20, 20, 64)        18496     \n",
            "                                                                 \n",
            " max_pooling2d_35 (MaxPoolin  (None, 10, 10, 64)       0         \n",
            " g2D)                                                            \n",
            "                                                                 \n",
            " flatten_11 (Flatten)        (None, 6400)              0         \n",
            "                                                                 \n",
            " dense_33 (Dense)            (None, 256)               1638656   \n",
            "                                                                 \n",
            " dropout_22 (Dropout)        (None, 256)               0         \n",
            "                                                                 \n",
            " dense_34 (Dense)            (None, 128)               32896     \n",
            "                                                                 \n",
            " dropout_23 (Dropout)        (None, 128)               0         \n",
            "                                                                 \n",
            " dense_35 (Dense)            (None, 2)                 258       \n",
            "                                                                 \n",
            "=================================================================\n",
            "Total params: 1,695,394\n",
            "Trainable params: 1,695,394\n",
            "Non-trainable params: 0\n",
            "_________________________________________________________________\n"
          ]
        }
      ]
    },
    {
      "cell_type": "code",
      "source": [
        "# Building the Convolutonal Network Model 3.1.1 Version 1\n",
        "\n",
        "# Setting up the output with the right size\n",
        "input = Input(shape=(96,96,3))\n",
        "\n",
        "# A conbination of relu and sigmoid activation functions\n",
        "x = Conv2D(16, (3,3), activation='sigmoid', padding='valid')(input)\n",
        "x = MaxPool2D(pool_size=(2,2), strides=(2,2))(x)\n",
        "x = Conv2D(32, (3,3), activation='relu', padding='valid')(x)\n",
        "x = MaxPool2D(pool_size=(2,2), strides=(2,2))(x)\n",
        "x = Conv2D(64, (3,3), activation='sigmoid', padding='valid')(x)\n",
        "x = MaxPool2D(pool_size=(2,2), strides=(2,2))(x)\n",
        "x = Flatten()(x)\n",
        "x = Dense(256, activation='relu')(x)\n",
        "x = Dropout(rate=0.3)(x)\n",
        "x = Dense(128, activation='sigmoid')(x)\n",
        "x = Dropout(rate=0.2)(x)\n",
        "output = Dense(2, activation='softmax')(x)\n",
        "\n",
        "# Optimizer = sgd\n",
        "# Loss function = hinge\n",
        "model_3_1_1_version_1 = Model(inputs=input, outputs = output)\n",
        "model_3_1_1_version_1.compile(optimizer='sgd', \n",
        "              loss=tf.keras.losses.Hinge(),\n",
        "              metrics=['acc'])\n",
        "\n",
        "model_3_1_1_version_1.summary()\n",
        "#plot_model(model_3_1_1_version_1)"
      ],
      "metadata": {
        "colab": {
          "base_uri": "https://localhost:8080/"
        },
        "id": "TgsJ6K_K6cB5",
        "outputId": "f383aae1-5df4-4dad-9c90-82acd0c32e21"
      },
      "execution_count": 21,
      "outputs": [
        {
          "output_type": "stream",
          "name": "stdout",
          "text": [
            "Model: \"model_12\"\n",
            "_________________________________________________________________\n",
            " Layer (type)                Output Shape              Param #   \n",
            "=================================================================\n",
            " input_13 (InputLayer)       [(None, 96, 96, 3)]       0         \n",
            "                                                                 \n",
            " conv2d_36 (Conv2D)          (None, 94, 94, 16)        448       \n",
            "                                                                 \n",
            " max_pooling2d_36 (MaxPoolin  (None, 47, 47, 16)       0         \n",
            " g2D)                                                            \n",
            "                                                                 \n",
            " conv2d_37 (Conv2D)          (None, 45, 45, 32)        4640      \n",
            "                                                                 \n",
            " max_pooling2d_37 (MaxPoolin  (None, 22, 22, 32)       0         \n",
            " g2D)                                                            \n",
            "                                                                 \n",
            " conv2d_38 (Conv2D)          (None, 20, 20, 64)        18496     \n",
            "                                                                 \n",
            " max_pooling2d_38 (MaxPoolin  (None, 10, 10, 64)       0         \n",
            " g2D)                                                            \n",
            "                                                                 \n",
            " flatten_12 (Flatten)        (None, 6400)              0         \n",
            "                                                                 \n",
            " dense_36 (Dense)            (None, 256)               1638656   \n",
            "                                                                 \n",
            " dropout_24 (Dropout)        (None, 256)               0         \n",
            "                                                                 \n",
            " dense_37 (Dense)            (None, 128)               32896     \n",
            "                                                                 \n",
            " dropout_25 (Dropout)        (None, 128)               0         \n",
            "                                                                 \n",
            " dense_38 (Dense)            (None, 2)                 258       \n",
            "                                                                 \n",
            "=================================================================\n",
            "Total params: 1,695,394\n",
            "Trainable params: 1,695,394\n",
            "Non-trainable params: 0\n",
            "_________________________________________________________________\n"
          ]
        }
      ]
    },
    {
      "cell_type": "code",
      "source": [
        "# Building the Convolutonal Network Model 3.1.2 Version 1\n",
        "\n",
        "# Setting up the output with the right size\n",
        "input = Input(shape=(96,96,3))\n",
        "\n",
        "# A conbination of relu and sigmoid activation functions\n",
        "x = Conv2D(16, (3,3), activation='sigmoid', padding='valid')(input)\n",
        "x = MaxPool2D(pool_size=(2,2), strides=(2,2))(x)\n",
        "x = Conv2D(32, (3,3), activation='relu', padding='valid')(x)\n",
        "x = MaxPool2D(pool_size=(2,2), strides=(2,2))(x)\n",
        "x = Conv2D(64, (3,3), activation='sigmoid', padding='valid')(x)\n",
        "x = MaxPool2D(pool_size=(2,2), strides=(2,2))(x)\n",
        "x = Flatten()(x)\n",
        "x = Dense(256, activation='relu')(x)\n",
        "x = Dropout(rate=0.3)(x)\n",
        "x = Dense(128, activation='sigmoid')(x)\n",
        "x = Dropout(rate=0.2)(x)\n",
        "output = Dense(2, activation='softmax')(x)\n",
        "\n",
        "# Optimizer = Adagrad\n",
        "# Loss function = hinge\n",
        "model_3_1_2_version_1 = Model(inputs=input, outputs = output)\n",
        "model_3_1_2_version_1.compile(optimizer='adagrad', \n",
        "              loss=tf.keras.losses.Hinge(),\n",
        "              metrics=['acc'])\n",
        "\n",
        "model_3_1_2_version_1.summary()\n",
        "#plot_model(model_3_1_2_version_1)"
      ],
      "metadata": {
        "colab": {
          "base_uri": "https://localhost:8080/"
        },
        "id": "bVr13eEb6cEB",
        "outputId": "dc6ce4eb-a230-4fa6-e263-dee9df3de5c6"
      },
      "execution_count": 22,
      "outputs": [
        {
          "output_type": "stream",
          "name": "stdout",
          "text": [
            "Model: \"model_13\"\n",
            "_________________________________________________________________\n",
            " Layer (type)                Output Shape              Param #   \n",
            "=================================================================\n",
            " input_14 (InputLayer)       [(None, 96, 96, 3)]       0         \n",
            "                                                                 \n",
            " conv2d_39 (Conv2D)          (None, 94, 94, 16)        448       \n",
            "                                                                 \n",
            " max_pooling2d_39 (MaxPoolin  (None, 47, 47, 16)       0         \n",
            " g2D)                                                            \n",
            "                                                                 \n",
            " conv2d_40 (Conv2D)          (None, 45, 45, 32)        4640      \n",
            "                                                                 \n",
            " max_pooling2d_40 (MaxPoolin  (None, 22, 22, 32)       0         \n",
            " g2D)                                                            \n",
            "                                                                 \n",
            " conv2d_41 (Conv2D)          (None, 20, 20, 64)        18496     \n",
            "                                                                 \n",
            " max_pooling2d_41 (MaxPoolin  (None, 10, 10, 64)       0         \n",
            " g2D)                                                            \n",
            "                                                                 \n",
            " flatten_13 (Flatten)        (None, 6400)              0         \n",
            "                                                                 \n",
            " dense_39 (Dense)            (None, 256)               1638656   \n",
            "                                                                 \n",
            " dropout_26 (Dropout)        (None, 256)               0         \n",
            "                                                                 \n",
            " dense_40 (Dense)            (None, 128)               32896     \n",
            "                                                                 \n",
            " dropout_27 (Dropout)        (None, 128)               0         \n",
            "                                                                 \n",
            " dense_41 (Dense)            (None, 2)                 258       \n",
            "                                                                 \n",
            "=================================================================\n",
            "Total params: 1,695,394\n",
            "Trainable params: 1,695,394\n",
            "Non-trainable params: 0\n",
            "_________________________________________________________________\n"
          ]
        }
      ]
    },
    {
      "cell_type": "code",
      "source": [
        "# Building the Convolutonal Network Model 3.1.3 Version 1\n",
        "\n",
        "# Setting up the output with the right size\n",
        "input = Input(shape=(96,96,3))\n",
        "\n",
        "# A conbination of relu and sigmoid activation functions\n",
        "x = Conv2D(16, (3,3), activation='sigmoid', padding='valid')(input)\n",
        "x = MaxPool2D(pool_size=(2,2), strides=(2,2))(x)\n",
        "x = Conv2D(32, (3,3), activation='relu', padding='valid')(x)\n",
        "x = MaxPool2D(pool_size=(2,2), strides=(2,2))(x)\n",
        "x = Conv2D(64, (3,3), activation='sigmoid', padding='valid')(x)\n",
        "x = MaxPool2D(pool_size=(2,2), strides=(2,2))(x)\n",
        "x = Flatten()(x)\n",
        "x = Dense(256, activation='relu')(x)\n",
        "x = Dropout(rate=0.3)(x)\n",
        "x = Dense(128, activation='sigmoid')(x)\n",
        "x = Dropout(rate=0.2)(x)\n",
        "output = Dense(2, activation='softmax')(x)\n",
        "\n",
        "# Optimizer = RMSprop\n",
        "# Loss function = hinge\n",
        "model_3_1_3_version_1 = Model(inputs=input, outputs = output)\n",
        "model_3_1_3_version_1.compile(optimizer='RMSprop', \n",
        "              loss=tf.keras.losses.Hinge(),\n",
        "              metrics=['acc'])\n",
        "\n",
        "model_3_1_3_version_1.summary()\n",
        "#plot_model(model_3_1_3_version_1)"
      ],
      "metadata": {
        "colab": {
          "base_uri": "https://localhost:8080/"
        },
        "id": "8V3JMgtd6cGQ",
        "outputId": "0bd1d51c-1388-4a3a-8c83-156b977ce5c3"
      },
      "execution_count": 23,
      "outputs": [
        {
          "output_type": "stream",
          "name": "stdout",
          "text": [
            "Model: \"model_14\"\n",
            "_________________________________________________________________\n",
            " Layer (type)                Output Shape              Param #   \n",
            "=================================================================\n",
            " input_15 (InputLayer)       [(None, 96, 96, 3)]       0         \n",
            "                                                                 \n",
            " conv2d_42 (Conv2D)          (None, 94, 94, 16)        448       \n",
            "                                                                 \n",
            " max_pooling2d_42 (MaxPoolin  (None, 47, 47, 16)       0         \n",
            " g2D)                                                            \n",
            "                                                                 \n",
            " conv2d_43 (Conv2D)          (None, 45, 45, 32)        4640      \n",
            "                                                                 \n",
            " max_pooling2d_43 (MaxPoolin  (None, 22, 22, 32)       0         \n",
            " g2D)                                                            \n",
            "                                                                 \n",
            " conv2d_44 (Conv2D)          (None, 20, 20, 64)        18496     \n",
            "                                                                 \n",
            " max_pooling2d_44 (MaxPoolin  (None, 10, 10, 64)       0         \n",
            " g2D)                                                            \n",
            "                                                                 \n",
            " flatten_14 (Flatten)        (None, 6400)              0         \n",
            "                                                                 \n",
            " dense_42 (Dense)            (None, 256)               1638656   \n",
            "                                                                 \n",
            " dropout_28 (Dropout)        (None, 256)               0         \n",
            "                                                                 \n",
            " dense_43 (Dense)            (None, 128)               32896     \n",
            "                                                                 \n",
            " dropout_29 (Dropout)        (None, 128)               0         \n",
            "                                                                 \n",
            " dense_44 (Dense)            (None, 2)                 258       \n",
            "                                                                 \n",
            "=================================================================\n",
            "Total params: 1,695,394\n",
            "Trainable params: 1,695,394\n",
            "Non-trainable params: 0\n",
            "_________________________________________________________________\n"
          ]
        }
      ]
    },
    {
      "cell_type": "code",
      "source": [
        "# Building the Convolutonal Network Model 3.2.1 Version 1\n",
        "\n",
        "# Setting up the output with the right size\n",
        "input = Input(shape=(96,96,3))\n",
        "\n",
        "# A conbination of relu and sigmoid activation functions\n",
        "x = Conv2D(16, (3,3), activation='sigmoid', padding='valid')(input)\n",
        "x = MaxPool2D(pool_size=(2,2), strides=(2,2))(x)\n",
        "x = Conv2D(32, (3,3), activation='relu', padding='valid')(x)\n",
        "x = MaxPool2D(pool_size=(2,2), strides=(2,2))(x)\n",
        "x = Conv2D(64, (3,3), activation='sigmoid', padding='valid')(x)\n",
        "x = MaxPool2D(pool_size=(2,2), strides=(2,2))(x)\n",
        "x = Flatten()(x)\n",
        "x = Dense(256, activation='relu')(x)\n",
        "x = Dropout(rate=0.3)(x)\n",
        "x = Dense(128, activation='sigmoid')(x)\n",
        "x = Dropout(rate=0.2)(x)\n",
        "output = Dense(2, activation='softmax')(x)\n",
        "\n",
        "# Optimizer = sgd\n",
        "# Loss function = MSE\n",
        "model_3_2_1_version_1 = Model(inputs=input, outputs = output)\n",
        "model_3_2_1_version_1.compile(optimizer='sgd', \n",
        "              loss='MSE',\n",
        "              metrics=['acc'])\n",
        "\n",
        "model_3_2_1_version_1.summary()\n",
        "#plot_model(model_3_2_1_version_1)"
      ],
      "metadata": {
        "colab": {
          "base_uri": "https://localhost:8080/"
        },
        "id": "1Cm6V_4I6cIb",
        "outputId": "a245ef37-cf51-4084-8600-730c91f02702"
      },
      "execution_count": 24,
      "outputs": [
        {
          "output_type": "stream",
          "name": "stdout",
          "text": [
            "Model: \"model_15\"\n",
            "_________________________________________________________________\n",
            " Layer (type)                Output Shape              Param #   \n",
            "=================================================================\n",
            " input_16 (InputLayer)       [(None, 96, 96, 3)]       0         \n",
            "                                                                 \n",
            " conv2d_45 (Conv2D)          (None, 94, 94, 16)        448       \n",
            "                                                                 \n",
            " max_pooling2d_45 (MaxPoolin  (None, 47, 47, 16)       0         \n",
            " g2D)                                                            \n",
            "                                                                 \n",
            " conv2d_46 (Conv2D)          (None, 45, 45, 32)        4640      \n",
            "                                                                 \n",
            " max_pooling2d_46 (MaxPoolin  (None, 22, 22, 32)       0         \n",
            " g2D)                                                            \n",
            "                                                                 \n",
            " conv2d_47 (Conv2D)          (None, 20, 20, 64)        18496     \n",
            "                                                                 \n",
            " max_pooling2d_47 (MaxPoolin  (None, 10, 10, 64)       0         \n",
            " g2D)                                                            \n",
            "                                                                 \n",
            " flatten_15 (Flatten)        (None, 6400)              0         \n",
            "                                                                 \n",
            " dense_45 (Dense)            (None, 256)               1638656   \n",
            "                                                                 \n",
            " dropout_30 (Dropout)        (None, 256)               0         \n",
            "                                                                 \n",
            " dense_46 (Dense)            (None, 128)               32896     \n",
            "                                                                 \n",
            " dropout_31 (Dropout)        (None, 128)               0         \n",
            "                                                                 \n",
            " dense_47 (Dense)            (None, 2)                 258       \n",
            "                                                                 \n",
            "=================================================================\n",
            "Total params: 1,695,394\n",
            "Trainable params: 1,695,394\n",
            "Non-trainable params: 0\n",
            "_________________________________________________________________\n"
          ]
        }
      ]
    },
    {
      "cell_type": "code",
      "source": [
        "# Building the Convolutonal Network Model 3.2.2 Version 1\n",
        "\n",
        "# Setting up the output with the right size\n",
        "input = Input(shape=(96,96,3))\n",
        "\n",
        "# A conbination of relu and sigmoid activation functions\n",
        "x = Conv2D(16, (3,3), activation='sigmoid', padding='valid')(input)\n",
        "x = MaxPool2D(pool_size=(2,2), strides=(2,2))(x)\n",
        "x = Conv2D(32, (3,3), activation='relu', padding='valid')(x)\n",
        "x = MaxPool2D(pool_size=(2,2), strides=(2,2))(x)\n",
        "x = Conv2D(64, (3,3), activation='sigmoid', padding='valid')(x)\n",
        "x = MaxPool2D(pool_size=(2,2), strides=(2,2))(x)\n",
        "x = Flatten()(x)\n",
        "x = Dense(256, activation='relu')(x)\n",
        "x = Dropout(rate=0.3)(x)\n",
        "x = Dense(128, activation='sigmoid')(x)\n",
        "x = Dropout(rate=0.2)(x)\n",
        "output = Dense(2, activation='softmax')(x)\n",
        "\n",
        "# Optimizer = Adagrad\n",
        "# Loss function = MSE\n",
        "model_3_2_2_version_1 = Model(inputs=input, outputs = output)\n",
        "model_3_2_2_version_1.compile(optimizer='Adagrad', \n",
        "              loss='MSE',\n",
        "              metrics=['acc'])\n",
        "\n",
        "model_3_2_2_version_1.summary()\n",
        "#plot_model(model_3_2_2_version_1)"
      ],
      "metadata": {
        "colab": {
          "base_uri": "https://localhost:8080/"
        },
        "id": "qJQ88zRD6cKi",
        "outputId": "f067d4b1-561d-4177-9a08-4e2d46f16893"
      },
      "execution_count": 25,
      "outputs": [
        {
          "output_type": "stream",
          "name": "stdout",
          "text": [
            "Model: \"model_16\"\n",
            "_________________________________________________________________\n",
            " Layer (type)                Output Shape              Param #   \n",
            "=================================================================\n",
            " input_17 (InputLayer)       [(None, 96, 96, 3)]       0         \n",
            "                                                                 \n",
            " conv2d_48 (Conv2D)          (None, 94, 94, 16)        448       \n",
            "                                                                 \n",
            " max_pooling2d_48 (MaxPoolin  (None, 47, 47, 16)       0         \n",
            " g2D)                                                            \n",
            "                                                                 \n",
            " conv2d_49 (Conv2D)          (None, 45, 45, 32)        4640      \n",
            "                                                                 \n",
            " max_pooling2d_49 (MaxPoolin  (None, 22, 22, 32)       0         \n",
            " g2D)                                                            \n",
            "                                                                 \n",
            " conv2d_50 (Conv2D)          (None, 20, 20, 64)        18496     \n",
            "                                                                 \n",
            " max_pooling2d_50 (MaxPoolin  (None, 10, 10, 64)       0         \n",
            " g2D)                                                            \n",
            "                                                                 \n",
            " flatten_16 (Flatten)        (None, 6400)              0         \n",
            "                                                                 \n",
            " dense_48 (Dense)            (None, 256)               1638656   \n",
            "                                                                 \n",
            " dropout_32 (Dropout)        (None, 256)               0         \n",
            "                                                                 \n",
            " dense_49 (Dense)            (None, 128)               32896     \n",
            "                                                                 \n",
            " dropout_33 (Dropout)        (None, 128)               0         \n",
            "                                                                 \n",
            " dense_50 (Dense)            (None, 2)                 258       \n",
            "                                                                 \n",
            "=================================================================\n",
            "Total params: 1,695,394\n",
            "Trainable params: 1,695,394\n",
            "Non-trainable params: 0\n",
            "_________________________________________________________________\n"
          ]
        }
      ]
    },
    {
      "cell_type": "code",
      "source": [
        "# Building the Convolutonal Network Model 3.2.3 Version 1\n",
        "\n",
        "# Setting up the output with the right size\n",
        "input = Input(shape=(96,96,3))\n",
        "\n",
        "# A conbination of relu and sigmoid activation functions\n",
        "x = Conv2D(16, (3,3), activation='sigmoid', padding='valid')(input)\n",
        "x = MaxPool2D(pool_size=(2,2), strides=(2,2))(x)\n",
        "x = Conv2D(32, (3,3), activation='relu', padding='valid')(x)\n",
        "x = MaxPool2D(pool_size=(2,2), strides=(2,2))(x)\n",
        "x = Conv2D(64, (3,3), activation='sigmoid', padding='valid')(x)\n",
        "x = MaxPool2D(pool_size=(2,2), strides=(2,2))(x)\n",
        "x = Flatten()(x)\n",
        "x = Dense(256, activation='relu')(x)\n",
        "x = Dropout(rate=0.3)(x)\n",
        "x = Dense(128, activation='sigmoid')(x)\n",
        "x = Dropout(rate=0.2)(x)\n",
        "output = Dense(2, activation='softmax')(x)\n",
        "\n",
        "# Optimizer = RMSprop\n",
        "# Loss function = MSE\n",
        "model_3_2_3_version_1 = Model(inputs=input, outputs = output)\n",
        "model_3_2_3_version_1.compile(optimizer='RMSprop', \n",
        "              loss='MSE',\n",
        "              metrics=['acc'])\n",
        "\n",
        "model_3_2_3_version_1.summary()\n",
        "#plot_model(model_3_2_3_version_1)"
      ],
      "metadata": {
        "colab": {
          "base_uri": "https://localhost:8080/"
        },
        "id": "1y3NHC-i6cM1",
        "outputId": "1f9d4b8b-b8e1-4fb6-bdf2-c225bfcec4a8"
      },
      "execution_count": 26,
      "outputs": [
        {
          "output_type": "stream",
          "name": "stdout",
          "text": [
            "Model: \"model_17\"\n",
            "_________________________________________________________________\n",
            " Layer (type)                Output Shape              Param #   \n",
            "=================================================================\n",
            " input_18 (InputLayer)       [(None, 96, 96, 3)]       0         \n",
            "                                                                 \n",
            " conv2d_51 (Conv2D)          (None, 94, 94, 16)        448       \n",
            "                                                                 \n",
            " max_pooling2d_51 (MaxPoolin  (None, 47, 47, 16)       0         \n",
            " g2D)                                                            \n",
            "                                                                 \n",
            " conv2d_52 (Conv2D)          (None, 45, 45, 32)        4640      \n",
            "                                                                 \n",
            " max_pooling2d_52 (MaxPoolin  (None, 22, 22, 32)       0         \n",
            " g2D)                                                            \n",
            "                                                                 \n",
            " conv2d_53 (Conv2D)          (None, 20, 20, 64)        18496     \n",
            "                                                                 \n",
            " max_pooling2d_53 (MaxPoolin  (None, 10, 10, 64)       0         \n",
            " g2D)                                                            \n",
            "                                                                 \n",
            " flatten_17 (Flatten)        (None, 6400)              0         \n",
            "                                                                 \n",
            " dense_51 (Dense)            (None, 256)               1638656   \n",
            "                                                                 \n",
            " dropout_34 (Dropout)        (None, 256)               0         \n",
            "                                                                 \n",
            " dense_52 (Dense)            (None, 128)               32896     \n",
            "                                                                 \n",
            " dropout_35 (Dropout)        (None, 128)               0         \n",
            "                                                                 \n",
            " dense_53 (Dense)            (None, 2)                 258       \n",
            "                                                                 \n",
            "=================================================================\n",
            "Total params: 1,695,394\n",
            "Trainable params: 1,695,394\n",
            "Non-trainable params: 0\n",
            "_________________________________________________________________\n"
          ]
        }
      ]
    },
    {
      "cell_type": "code",
      "source": [
        "import matplotlib.pyplot as plt\n",
        "\n",
        "def plot_hist(history):\n",
        "  plt.plot(history.history[\"acc\"])\n",
        "  plt.plot(history.history[\"val_acc\"])\n",
        "  plt.title(\"Model Accuracy\")\n",
        "  plt.ylabel(\"Accuracy\")\n",
        "  plt.xlabel(\"Epochs\")\n",
        "  plt.legend([\"train\", \"validation\"], loc=\"upper left\")\n",
        "  plt.show()"
      ],
      "metadata": {
        "id": "8LQnGysc6cRi"
      },
      "execution_count": 27,
      "outputs": []
    },
    {
      "cell_type": "code",
      "source": [
        "# Training the model 1.1.1 Version 1\n",
        "\n",
        "history_1_1_1_version_1= model_1_1_1_version_1.fit(train_ds, validation_data=validation_ds, epochs = 10, verbose = 1, steps_per_epoch=steps_per_epoch, validation_steps=validation_steps)\n",
        "plot_hist(history_1_1_1_version_1)"
      ],
      "metadata": {
        "colab": {
          "base_uri": "https://localhost:8080/",
          "height": 662
        },
        "id": "H0OVO3OC6cYd",
        "outputId": "ab415c5b-568d-4c73-cd9a-5f641171b6f5"
      },
      "execution_count": 28,
      "outputs": [
        {
          "output_type": "stream",
          "name": "stdout",
          "text": [
            "Epoch 1/10\n",
            "4096/4096 [==============================] - 158s 36ms/step - loss: 0.7868 - acc: 0.7229 - val_loss: 0.7532 - val_acc: 0.7472\n",
            "Epoch 2/10\n",
            "4096/4096 [==============================] - 145s 35ms/step - loss: 0.7215 - acc: 0.7801 - val_loss: 0.7419 - val_acc: 0.7599\n",
            "Epoch 3/10\n",
            "4096/4096 [==============================] - 149s 36ms/step - loss: 0.7082 - acc: 0.7933 - val_loss: 0.7351 - val_acc: 0.7661\n",
            "Epoch 4/10\n",
            "4096/4096 [==============================] - 145s 35ms/step - loss: 0.6937 - acc: 0.8085 - val_loss: 0.7116 - val_acc: 0.7897\n",
            "Epoch 5/10\n",
            "4096/4096 [==============================] - 149s 36ms/step - loss: 0.6777 - acc: 0.8250 - val_loss: 0.7137 - val_acc: 0.7882\n",
            "Epoch 6/10\n",
            "4096/4096 [==============================] - 173s 42ms/step - loss: 0.6678 - acc: 0.8346 - val_loss: 0.7082 - val_acc: 0.7928\n",
            "Epoch 7/10\n",
            "4096/4096 [==============================] - 149s 36ms/step - loss: 0.6598 - acc: 0.8426 - val_loss: 0.6930 - val_acc: 0.8086\n",
            "Epoch 8/10\n",
            "4096/4096 [==============================] - 147s 36ms/step - loss: 0.6538 - acc: 0.8483 - val_loss: 0.6843 - val_acc: 0.8198\n",
            "Epoch 9/10\n",
            "4096/4096 [==============================] - 148s 36ms/step - loss: 0.6487 - acc: 0.8531 - val_loss: 0.7089 - val_acc: 0.7924\n",
            "Epoch 10/10\n",
            "4096/4096 [==============================] - 145s 35ms/step - loss: 0.6447 - acc: 0.8571 - val_loss: 0.7135 - val_acc: 0.7874\n"
          ]
        },
        {
          "output_type": "display_data",
          "data": {
            "text/plain": [
              "<Figure size 432x288 with 1 Axes>"
            ],
            "image/png": "[encoded data removed]"
          },
          "metadata": {
            "needs_background": "light"
          }
        }
      ]
    },
    {
      "cell_type": "code",
      "source": [
        "# Training the model 1.1.2 Version 1\n",
        "\n",
        "history_1_1_2_version_1= model_1_1_2_version_1.fit(train_ds, validation_data=validation_ds, epochs = 10, verbose = 1, steps_per_epoch=steps_per_epoch, validation_steps=validation_steps)\n",
        "plot_hist(history_1_1_2_version_1)"
      ],
      "metadata": {
        "colab": {
          "base_uri": "https://localhost:8080/",
          "height": 662
        },
        "id": "_0NijtZD6cbE",
        "outputId": "6a83724f-1a4c-40f5-c514-ada617c5c426"
      },
      "execution_count": 29,
      "outputs": [
        {
          "output_type": "stream",
          "name": "stdout",
          "text": [
            "Epoch 1/10\n",
            "4096/4096 [==============================] - 154s 37ms/step - loss: 0.8280 - acc: 0.7052 - val_loss: 0.7499 - val_acc: 0.7560\n",
            "Epoch 2/10\n",
            "4096/4096 [==============================] - 143s 35ms/step - loss: 0.7265 - acc: 0.7802 - val_loss: 0.7440 - val_acc: 0.7590\n",
            "Epoch 3/10\n",
            "4096/4096 [==============================] - 152s 37ms/step - loss: 0.7207 - acc: 0.7832 - val_loss: 0.7432 - val_acc: 0.7593\n",
            "Epoch 4/10\n",
            "4096/4096 [==============================] - 170s 42ms/step - loss: 0.7178 - acc: 0.7851 - val_loss: 0.7422 - val_acc: 0.7595\n",
            "Epoch 5/10\n",
            "4096/4096 [==============================] - 148s 36ms/step - loss: 0.7160 - acc: 0.7864 - val_loss: 0.7376 - val_acc: 0.7623\n",
            "Epoch 6/10\n",
            "4096/4096 [==============================] - 149s 36ms/step - loss: 0.7145 - acc: 0.7878 - val_loss: 0.7366 - val_acc: 0.7630\n",
            "Epoch 7/10\n",
            "4096/4096 [==============================] - 147s 36ms/step - loss: 0.7133 - acc: 0.7887 - val_loss: 0.7377 - val_acc: 0.7639\n",
            "Epoch 8/10\n",
            "4096/4096 [==============================] - 151s 37ms/step - loss: 0.7122 - acc: 0.7899 - val_loss: 0.7369 - val_acc: 0.7635\n",
            "Epoch 9/10\n",
            "4096/4096 [==============================] - 146s 36ms/step - loss: 0.7113 - acc: 0.7908 - val_loss: 0.7314 - val_acc: 0.7685\n",
            "Epoch 10/10\n",
            "4096/4096 [==============================] - 149s 36ms/step - loss: 0.7106 - acc: 0.7914 - val_loss: 0.7326 - val_acc: 0.7672\n"
          ]
        },
        {
          "output_type": "display_data",
          "data": {
            "text/plain": [
              "<Figure size 432x288 with 1 Axes>"
            ],
            "image/png": "[encoded data removed]"
          },
          "metadata": {
            "needs_background": "light"
          }
        }
      ]
    },
    {
      "cell_type": "code",
      "source": [
        "# Training the model 1.1.3 Version 1\n",
        "\n",
        "history_1_1_3_version_1= model_1_1_3_version_1.fit(train_ds, validation_data=validation_ds, epochs = 10, verbose = 1, steps_per_epoch=steps_per_epoch, validation_steps=validation_steps)\n",
        "plot_hist(history_1_1_3_version_1)"
      ],
      "metadata": {
        "colab": {
          "base_uri": "https://localhost:8080/",
          "height": 662
        },
        "id": "FfeexYpU7NLh",
        "outputId": "f5adbb1e-067f-4c6d-805b-a7365ca700d9"
      },
      "execution_count": 30,
      "outputs": [
        {
          "output_type": "stream",
          "name": "stdout",
          "text": [
            "Epoch 1/10\n",
            "4096/4096 [==============================] - 150s 36ms/step - loss: 0.7747 - acc: 0.7255 - val_loss: 0.7681 - val_acc: 0.7318\n",
            "Epoch 2/10\n",
            "4096/4096 [==============================] - 170s 41ms/step - loss: 0.8715 - acc: 0.6285 - val_loss: 0.9996 - val_acc: 0.5004\n",
            "Epoch 3/10\n",
            "4096/4096 [==============================] - 147s 36ms/step - loss: 1.0000 - acc: 0.5000 - val_loss: 0.9995 - val_acc: 0.5005\n",
            "Epoch 4/10\n",
            "4096/4096 [==============================] - 149s 36ms/step - loss: 1.0000 - acc: 0.5000 - val_loss: 0.9995 - val_acc: 0.5005\n",
            "Epoch 5/10\n",
            "4096/4096 [==============================] - 150s 37ms/step - loss: 1.0000 - acc: 0.5000 - val_loss: 0.9995 - val_acc: 0.5005\n",
            "Epoch 6/10\n",
            "4096/4096 [==============================] - 148s 36ms/step - loss: 1.0000 - acc: 0.5000 - val_loss: 0.9995 - val_acc: 0.5005\n",
            "Epoch 7/10\n",
            "4096/4096 [==============================] - 150s 37ms/step - loss: 1.0000 - acc: 0.5000 - val_loss: 0.9995 - val_acc: 0.5005\n",
            "Epoch 8/10\n",
            "4096/4096 [==============================] - 149s 36ms/step - loss: 1.0000 - acc: 0.5000 - val_loss: 0.9995 - val_acc: 0.5005\n",
            "Epoch 9/10\n",
            "4096/4096 [==============================] - 149s 36ms/step - loss: 1.0000 - acc: 0.5000 - val_loss: 0.9995 - val_acc: 0.5005\n",
            "Epoch 10/10\n",
            "4096/4096 [==============================] - 150s 37ms/step - loss: 1.0000 - acc: 0.5000 - val_loss: 0.9995 - val_acc: 0.5005\n"
          ]
        },
        {
          "output_type": "display_data",
          "data": {
            "text/plain": [
              "<Figure size 432x288 with 1 Axes>"
            ],
            "image/png": "[encoded data removed]"
          },
          "metadata": {
            "needs_background": "light"
          }
        }
      ]
    },
    {
      "cell_type": "code",
      "source": [
        "# Training the model 1.2.1 Version 1\n",
        "\n",
        "history_1_2_1_version_1= model_1_2_1_version_1.fit(train_ds, validation_data=validation_ds, epochs = 10, verbose = 1, steps_per_epoch=steps_per_epoch, validation_steps=validation_steps)\n",
        "plot_hist(history_1_2_1_version_1)"
      ],
      "metadata": {
        "colab": {
          "base_uri": "https://localhost:8080/",
          "height": 662
        },
        "id": "hzARgJEh7NOC",
        "outputId": "5384761b-65d7-431b-c09b-2c480a389fea"
      },
      "execution_count": 31,
      "outputs": [
        {
          "output_type": "stream",
          "name": "stdout",
          "text": [
            "Epoch 1/10\n",
            "4096/4096 [==============================] - 149s 36ms/step - loss: 0.1730 - acc: 0.7456 - val_loss: 0.1540 - val_acc: 0.7682\n",
            "Epoch 2/10\n",
            "4096/4096 [==============================] - 169s 41ms/step - loss: 0.1486 - acc: 0.7904 - val_loss: 0.1586 - val_acc: 0.7640\n",
            "Epoch 3/10\n",
            "4096/4096 [==============================] - 145s 35ms/step - loss: 0.1419 - acc: 0.8007 - val_loss: 0.1473 - val_acc: 0.7901\n",
            "Epoch 4/10\n",
            "4096/4096 [==============================] - 147s 36ms/step - loss: 0.1315 - acc: 0.8173 - val_loss: 0.1302 - val_acc: 0.8078\n",
            "Epoch 5/10\n",
            "4096/4096 [==============================] - 150s 37ms/step - loss: 0.1219 - acc: 0.8325 - val_loss: 0.1362 - val_acc: 0.8031\n",
            "Epoch 6/10\n",
            "4096/4096 [==============================] - 148s 36ms/step - loss: 0.1146 - acc: 0.8434 - val_loss: 0.1227 - val_acc: 0.8250\n",
            "Epoch 7/10\n",
            "4096/4096 [==============================] - 150s 37ms/step - loss: 0.1097 - acc: 0.8505 - val_loss: 0.1244 - val_acc: 0.8213\n",
            "Epoch 8/10\n",
            "4096/4096 [==============================] - 148s 36ms/step - loss: 0.1055 - acc: 0.8569 - val_loss: 0.1213 - val_acc: 0.8248\n",
            "Epoch 9/10\n",
            "4096/4096 [==============================] - 150s 37ms/step - loss: 0.1017 - acc: 0.8625 - val_loss: 0.1345 - val_acc: 0.8095\n",
            "Epoch 10/10\n",
            "4096/4096 [==============================] - 148s 36ms/step - loss: 0.0982 - acc: 0.8674 - val_loss: 0.1206 - val_acc: 0.8319\n"
          ]
        },
        {
          "output_type": "display_data",
          "data": {
            "text/plain": [
              "<Figure size 432x288 with 1 Axes>"
            ],
            "image/png": "[encoded data removed]"
          },
          "metadata": {
            "needs_background": "light"
          }
        }
      ]
    },
    {
      "cell_type": "code",
      "source": [
        "# Training the model 1.2.2 Version_1\n",
        "\n",
        "history_1_2_2_version_1= model_1_2_2_version_1.fit(train_ds, validation_data=validation_ds, epochs = 10, verbose = 1, steps_per_epoch=steps_per_epoch, validation_steps=validation_steps)\n",
        "plot_hist(history_1_2_2_version_1)"
      ],
      "metadata": {
        "colab": {
          "base_uri": "https://localhost:8080/",
          "height": 662
        },
        "id": "0D39vdo07NQX",
        "outputId": "38f6f4e6-0b56-480d-c96c-fc06e837fb1a"
      },
      "execution_count": 32,
      "outputs": [
        {
          "output_type": "stream",
          "name": "stdout",
          "text": [
            "Epoch 1/10\n",
            "4096/4096 [==============================] - 148s 36ms/step - loss: 0.2118 - acc: 0.6676 - val_loss: 0.1536 - val_acc: 0.7695\n",
            "Epoch 2/10\n",
            "4096/4096 [==============================] - 170s 42ms/step - loss: 0.1579 - acc: 0.7784 - val_loss: 0.1534 - val_acc: 0.7680\n",
            "Epoch 3/10\n",
            "4096/4096 [==============================] - 145s 35ms/step - loss: 0.1535 - acc: 0.7850 - val_loss: 0.1536 - val_acc: 0.7681\n",
            "Epoch 4/10\n",
            "4096/4096 [==============================] - 148s 36ms/step - loss: 0.1515 - acc: 0.7876 - val_loss: 0.1532 - val_acc: 0.7680\n",
            "Epoch 5/10\n",
            "4096/4096 [==============================] - 157s 38ms/step - loss: 0.1500 - acc: 0.7900 - val_loss: 0.1539 - val_acc: 0.7693\n",
            "Epoch 6/10\n",
            "4096/4096 [==============================] - 146s 36ms/step - loss: 0.1489 - acc: 0.7915 - val_loss: 0.1529 - val_acc: 0.7717\n",
            "Epoch 7/10\n",
            "4096/4096 [==============================] - 150s 37ms/step - loss: 0.1477 - acc: 0.7933 - val_loss: 0.1541 - val_acc: 0.7682\n",
            "Epoch 8/10\n",
            "4096/4096 [==============================] - 150s 37ms/step - loss: 0.1466 - acc: 0.7950 - val_loss: 0.1516 - val_acc: 0.7741\n",
            "Epoch 9/10\n",
            "4096/4096 [==============================] - 148s 36ms/step - loss: 0.1455 - acc: 0.7965 - val_loss: 0.1516 - val_acc: 0.7756\n",
            "Epoch 10/10\n",
            "4096/4096 [==============================] - 151s 37ms/step - loss: 0.1444 - acc: 0.7983 - val_loss: 0.1525 - val_acc: 0.7727\n"
          ]
        },
        {
          "output_type": "display_data",
          "data": {
            "text/plain": [
              "<Figure size 432x288 with 1 Axes>"
            ],
            "image/png": "[encoded data removed]"
          },
          "metadata": {
            "needs_background": "light"
          }
        }
      ]
    },
    {
      "cell_type": "code",
      "source": [
        "# Training the model 1.2.3 Version 1\n",
        "\n",
        "history_1_2_3_version_1= model_1_2_3_version_1.fit(train_ds, validation_data=validation_ds, epochs = 10, verbose = 1, steps_per_epoch=steps_per_epoch, validation_steps=validation_steps)\n",
        "plot_hist(history_1_2_3_version_1)"
      ],
      "metadata": {
        "colab": {
          "base_uri": "https://localhost:8080/",
          "height": 662
        },
        "id": "swn0YFV47NSd",
        "outputId": "3e907b01-56d1-4e6f-8cc7-75ad45982b09"
      },
      "execution_count": 33,
      "outputs": [
        {
          "output_type": "stream",
          "name": "stdout",
          "text": [
            "Epoch 1/10\n",
            "4096/4096 [==============================] - 149s 36ms/step - loss: 0.1253 - acc: 0.8261 - val_loss: 0.1130 - val_acc: 0.8453\n",
            "Epoch 2/10\n",
            "4096/4096 [==============================] - 171s 42ms/step - loss: 0.0817 - acc: 0.8919 - val_loss: 0.1533 - val_acc: 0.8178\n",
            "Epoch 3/10\n",
            "4096/4096 [==============================] - 153s 37ms/step - loss: 0.0671 - acc: 0.9127 - val_loss: 0.1135 - val_acc: 0.8484\n",
            "Epoch 4/10\n",
            "4096/4096 [==============================] - 160s 39ms/step - loss: 0.0596 - acc: 0.9235 - val_loss: 0.1074 - val_acc: 0.8524\n",
            "Epoch 5/10\n",
            "4096/4096 [==============================] - 150s 37ms/step - loss: 0.0545 - acc: 0.9307 - val_loss: 0.1295 - val_acc: 0.8393\n",
            "Epoch 6/10\n",
            "4096/4096 [==============================] - 155s 38ms/step - loss: 0.0515 - acc: 0.9350 - val_loss: 0.1437 - val_acc: 0.8271\n",
            "Epoch 7/10\n",
            "4096/4096 [==============================] - 150s 37ms/step - loss: 0.0491 - acc: 0.9380 - val_loss: 0.1228 - val_acc: 0.8370\n",
            "Epoch 8/10\n",
            "4096/4096 [==============================] - 153s 37ms/step - loss: 0.0485 - acc: 0.9397 - val_loss: 0.1265 - val_acc: 0.8407\n",
            "Epoch 9/10\n",
            "4096/4096 [==============================] - 149s 36ms/step - loss: 0.0475 - acc: 0.9407 - val_loss: 0.1155 - val_acc: 0.8538\n",
            "Epoch 10/10\n",
            "4096/4096 [==============================] - 161s 39ms/step - loss: 0.0467 - acc: 0.9423 - val_loss: 0.1253 - val_acc: 0.8429\n"
          ]
        },
        {
          "output_type": "display_data",
          "data": {
            "text/plain": [
              "<Figure size 432x288 with 1 Axes>"
            ],
            "image/png": "[encoded data removed]"
          },
          "metadata": {
            "needs_background": "light"
          }
        }
      ]
    },
    {
      "cell_type": "code",
      "source": [
        "# Training the model 2.1.1 Version 1\n",
        "\n",
        "history_2_1_1_version_1= model_2_1_1_version_1.fit(train_ds, validation_data=validation_ds, epochs = 10, verbose = 1, steps_per_epoch=steps_per_epoch, validation_steps=validation_steps)\n",
        "plot_hist(history_2_1_1_version_1)"
      ],
      "metadata": {
        "colab": {
          "base_uri": "https://localhost:8080/",
          "height": 662
        },
        "id": "uwI2ghI07NUr",
        "outputId": "6c6c231d-c5e9-406f-820e-d7df6713ee63"
      },
      "execution_count": 34,
      "outputs": [
        {
          "output_type": "stream",
          "name": "stdout",
          "text": [
            "Epoch 1/10\n",
            "4096/4096 [==============================] - 148s 36ms/step - loss: 1.0001 - acc: 0.5000 - val_loss: 0.9996 - val_acc: 0.5005\n",
            "Epoch 2/10\n",
            "4096/4096 [==============================] - 171s 42ms/step - loss: 1.0001 - acc: 0.5000 - val_loss: 0.9996 - val_acc: 0.5005\n",
            "Epoch 3/10\n",
            "4096/4096 [==============================] - 150s 37ms/step - loss: 1.0000 - acc: 0.5000 - val_loss: 0.9996 - val_acc: 0.5005\n",
            "Epoch 4/10\n",
            "4096/4096 [==============================] - 147s 36ms/step - loss: 1.0000 - acc: 0.5000 - val_loss: 0.9996 - val_acc: 0.5005\n",
            "Epoch 5/10\n",
            "4096/4096 [==============================] - 149s 36ms/step - loss: 1.0000 - acc: 0.5000 - val_loss: 0.9996 - val_acc: 0.5005\n",
            "Epoch 6/10\n",
            "4096/4096 [==============================] - 147s 36ms/step - loss: 1.0000 - acc: 0.5000 - val_loss: 0.9996 - val_acc: 0.5005\n",
            "Epoch 7/10\n",
            "4096/4096 [==============================] - 149s 36ms/step - loss: 1.0000 - acc: 0.5000 - val_loss: 0.9996 - val_acc: 0.5005\n",
            "Epoch 8/10\n",
            "4096/4096 [==============================] - 150s 37ms/step - loss: 1.0000 - acc: 0.5000 - val_loss: 0.9996 - val_acc: 0.5005\n",
            "Epoch 9/10\n",
            "4096/4096 [==============================] - 151s 37ms/step - loss: 1.0000 - acc: 0.5000 - val_loss: 0.9996 - val_acc: 0.5005\n",
            "Epoch 10/10\n",
            "4096/4096 [==============================] - 152s 37ms/step - loss: 1.0000 - acc: 0.5000 - val_loss: 0.9996 - val_acc: 0.5005\n"
          ]
        },
        {
          "output_type": "display_data",
          "data": {
            "text/plain": [
              "<Figure size 432x288 with 1 Axes>"
            ],
            "image/png": "[encoded data removed]"
          },
          "metadata": {
            "needs_background": "light"
          }
        }
      ]
    },
    {
      "cell_type": "code",
      "source": [
        "# Training the model 2.1.2 Version 1\n",
        "\n",
        "history_2_1_2_version_1= model_2_1_2_version_1.fit(train_ds, validation_data=validation_ds, epochs = 10, verbose = 1, steps_per_epoch=steps_per_epoch, validation_steps=validation_steps)\n",
        "plot_hist(history_2_1_2_version_1)"
      ],
      "metadata": {
        "colab": {
          "base_uri": "https://localhost:8080/",
          "height": 662
        },
        "id": "D0eXeYDt2Jgg",
        "outputId": "42d1fb67-e5ed-4011-ed0a-e95914e5d06a"
      },
      "execution_count": 35,
      "outputs": [
        {
          "output_type": "stream",
          "name": "stdout",
          "text": [
            "Epoch 1/10\n",
            "4096/4096 [==============================] - 149s 36ms/step - loss: 0.9998 - acc: 0.5005 - val_loss: 1.0002 - val_acc: 0.4995\n",
            "Epoch 2/10\n",
            "4096/4096 [==============================] - 171s 42ms/step - loss: 0.9999 - acc: 0.4993 - val_loss: 1.0001 - val_acc: 0.4995\n",
            "Epoch 3/10\n",
            "4096/4096 [==============================] - 149s 36ms/step - loss: 0.9998 - acc: 0.5004 - val_loss: 1.0001 - val_acc: 0.4995\n",
            "Epoch 4/10\n",
            "4096/4096 [==============================] - 149s 36ms/step - loss: 0.9998 - acc: 0.4999 - val_loss: 1.0001 - val_acc: 0.4995\n",
            "Epoch 5/10\n",
            "4096/4096 [==============================] - 148s 36ms/step - loss: 1.0002 - acc: 0.4995 - val_loss: 1.0001 - val_acc: 0.4995\n",
            "Epoch 6/10\n",
            "4096/4096 [==============================] - 147s 36ms/step - loss: 1.0002 - acc: 0.4995 - val_loss: 1.0001 - val_acc: 0.4995\n",
            "Epoch 7/10\n",
            "4096/4096 [==============================] - 150s 37ms/step - loss: 1.0001 - acc: 0.5004 - val_loss: 1.0001 - val_acc: 0.4995\n",
            "Epoch 8/10\n",
            "4096/4096 [==============================] - 148s 36ms/step - loss: 1.0002 - acc: 0.5000 - val_loss: 1.0001 - val_acc: 0.4995\n",
            "Epoch 9/10\n",
            "4096/4096 [==============================] - 179s 44ms/step - loss: 0.9998 - acc: 0.5004 - val_loss: 1.0001 - val_acc: 0.4995\n",
            "Epoch 10/10\n",
            "4096/4096 [==============================] - 151s 37ms/step - loss: 1.0001 - acc: 0.4997 - val_loss: 1.0001 - val_acc: 0.4995\n"
          ]
        },
        {
          "output_type": "display_data",
          "data": {
            "text/plain": [
              "<Figure size 432x288 with 1 Axes>"
            ],
            "image/png": "[encoded data removed]"
          },
          "metadata": {
            "needs_background": "light"
          }
        }
      ]
    },
    {
      "cell_type": "code",
      "source": [
        "# Training the model 2.1.3 Version 1\n",
        "\n",
        "history_2_1_3_version_1= model_2_1_3_version_1.fit(train_ds, validation_data=validation_ds, epochs = 10, verbose = 1, steps_per_epoch=steps_per_epoch, validation_steps=validation_steps)\n",
        "plot_hist(history_2_1_3_version_1)"
      ],
      "metadata": {
        "colab": {
          "base_uri": "https://localhost:8080/",
          "height": 662
        },
        "id": "v82ZbAI37Vu0",
        "outputId": "3adffe07-7782-4256-9d27-f9f3c4e8268b"
      },
      "execution_count": 36,
      "outputs": [
        {
          "output_type": "stream",
          "name": "stdout",
          "text": [
            "Epoch 1/10\n",
            "4096/4096 [==============================] - 156s 38ms/step - loss: 1.0007 - acc: 0.4988 - val_loss: 0.9996 - val_acc: 0.5005\n",
            "Epoch 2/10\n",
            "4096/4096 [==============================] - 146s 36ms/step - loss: 1.0004 - acc: 0.4998 - val_loss: 1.0005 - val_acc: 0.4995\n",
            "Epoch 3/10\n",
            "4096/4096 [==============================] - 152s 37ms/step - loss: 1.0000 - acc: 0.5000 - val_loss: 1.0005 - val_acc: 0.4995\n",
            "Epoch 4/10\n",
            "4096/4096 [==============================] - 147s 36ms/step - loss: 1.0000 - acc: 0.5000 - val_loss: 1.0005 - val_acc: 0.4995\n",
            "Epoch 5/10\n",
            "4096/4096 [==============================] - 153s 37ms/step - loss: 1.0000 - acc: 0.5000 - val_loss: 1.0005 - val_acc: 0.4995\n",
            "Epoch 6/10\n",
            "4096/4096 [==============================] - 149s 36ms/step - loss: 1.0000 - acc: 0.5000 - val_loss: 1.0005 - val_acc: 0.4995\n",
            "Epoch 7/10\n",
            "4096/4096 [==============================] - 157s 38ms/step - loss: 1.0000 - acc: 0.5000 - val_loss: 1.0005 - val_acc: 0.4995\n",
            "Epoch 8/10\n",
            "4096/4096 [==============================] - 160s 39ms/step - loss: 1.0000 - acc: 0.5000 - val_loss: 1.0005 - val_acc: 0.4995\n",
            "Epoch 9/10\n",
            "4096/4096 [==============================] - 150s 37ms/step - loss: 1.0000 - acc: 0.5000 - val_loss: 1.0005 - val_acc: 0.4995\n",
            "Epoch 10/10\n",
            "4096/4096 [==============================] - 152s 37ms/step - loss: 1.0000 - acc: 0.5000 - val_loss: 1.0005 - val_acc: 0.4995\n"
          ]
        },
        {
          "output_type": "display_data",
          "data": {
            "text/plain": [
              "<Figure size 432x288 with 1 Axes>"
            ],
            "image/png": "[encoded data removed]"
          },
          "metadata": {
            "needs_background": "light"
          }
        }
      ]
    },
    {
      "cell_type": "code",
      "source": [
        "# Training the model 2.2.1 Version 1\n",
        "\n",
        "history_2_2_1_version_1= model_2_2_1_version_1.fit(train_ds, validation_data=validation_ds, epochs = 10, verbose = 1, steps_per_epoch=steps_per_epoch, validation_steps=validation_steps)\n",
        "plot_hist(history_2_2_1_version_1)"
      ],
      "metadata": {
        "id": "T1Eej7kD2Mzj"
      },
      "execution_count": null,
      "outputs": []
    },
    {
      "cell_type": "code",
      "source": [
        "# Training the model 2.2.2 Version 1\n",
        "\n",
        "history_2_2_2_version_1= model_2_2_2_version_1.fit(train_ds, validation_data=validation_ds, epochs = 10, verbose = 1, steps_per_epoch=steps_per_epoch, validation_steps=validation_steps)\n",
        "plot_hist(history_2_2_2_version_1)"
      ],
      "metadata": {
        "id": "OoZJXBee2ONU"
      },
      "execution_count": null,
      "outputs": []
    },
    {
      "cell_type": "code",
      "source": [
        "# Training the model 2.2.3 Version 1\n",
        "\n",
        "history_2_2_3_version_1= model_2_2_3_version_1.fit(train_ds, validation_data=validation_ds, epochs = 10, verbose = 1, steps_per_epoch=steps_per_epoch, validation_steps=validation_steps)\n",
        "plot_hist(history_2_2_3_version_1)"
      ],
      "metadata": {
        "id": "s45t9Nw12Pev"
      },
      "execution_count": null,
      "outputs": []
    },
    {
      "cell_type": "code",
      "source": [
        "# Training the model 3.1.1 Version 1\n",
        "\n",
        "history_3_1_1_version_1= model_3_1_1_version_1.fit(train_ds, validation_data=validation_ds, epochs = 10, verbose = 1, steps_per_epoch=steps_per_epoch, validation_steps=validation_steps)\n",
        "plot_hist(history_3_1_1_version_1)"
      ],
      "metadata": {
        "id": "OjLGGKWF2QpQ"
      },
      "execution_count": null,
      "outputs": []
    },
    {
      "cell_type": "code",
      "source": [
        "# Training the model 3.1.1 Version 1\n",
        "\n",
        "history_3_1_1_version_1= model_3_1_1_version_1.fit(train_ds, validation_data=validation_ds, epochs = 10, verbose = 1, steps_per_epoch=steps_per_epoch, validation_steps=validation_steps)\n",
        "plot_hist(history_3_1_1_version_1)"
      ],
      "metadata": {
        "id": "jH-aWHL42Uc3"
      },
      "execution_count": null,
      "outputs": []
    },
    {
      "cell_type": "code",
      "source": [
        "# Training the model 3.1.2 Version 1\n",
        "\n",
        "history_3_1_2_version_1= model_3_1_2_version_1.fit(train_ds, validation_data=validation_ds, epochs = 10, verbose = 1, steps_per_epoch=steps_per_epoch, validation_steps=validation_steps)\n",
        "plot_hist(history_3_1_2_version_1)"
      ],
      "metadata": {
        "id": "EtY7LMmZ7NZa"
      },
      "execution_count": null,
      "outputs": []
    },
    {
      "cell_type": "code",
      "source": [
        "# Training the model 3.1.3 Version 1\n",
        "\n",
        "history_3_1_3_version_1= model_3_1_3_version_1.fit(train_ds, validation_data=validation_ds, epochs = 10, verbose = 1, steps_per_epoch=steps_per_epoch, validation_steps=validation_steps)\n",
        "plot_hist(history_3_1_3_version_1)"
      ],
      "metadata": {
        "id": "GwSQRNgN7Na7"
      },
      "execution_count": null,
      "outputs": []
    },
    {
      "cell_type": "code",
      "source": [
        "# Training the model 3.2.1 Version 1\n",
        "\n",
        "history_3_2_1_version_1= model_3_2_1_version_1.fit(train_ds, validation_data=validation_ds, epochs = 10, verbose = 1, steps_per_epoch=steps_per_epoch, validation_steps=validation_steps)\n",
        "plot_hist(history_3_2_1_version_1)"
      ],
      "metadata": {
        "id": "YkOG30ok6cc4"
      },
      "execution_count": null,
      "outputs": []
    },
    {
      "cell_type": "code",
      "source": [
        "# Training the model 3.2.2 Version 1\n",
        "\n",
        "history_3_2_2_version_1= model_3_2_2_version_1.fit(train_ds, validation_data=validation_ds, epochs = 10, verbose = 1, steps_per_epoch=steps_per_epoch, validation_steps=validation_steps)\n",
        "plot_hist(history_3_2_2_version_1)"
      ],
      "metadata": {
        "id": "pEa1_3816cgI"
      },
      "execution_count": null,
      "outputs": []
    },
    {
      "cell_type": "code",
      "source": [
        "# Training the model 3.2.3 Version 1\n",
        "\n",
        "history_3_2_3_version_1= model_3_2_3_version_1.fit(train_ds, validation_data=validation_ds, epochs = 10, verbose = 1, steps_per_epoch=steps_per_epoch, validation_steps=validation_steps)\n",
        "plot_hist(history_3_2_3_version_1)"
      ],
      "metadata": {
        "id": "wu_ZTIjl6ciY"
      },
      "execution_count": null,
      "outputs": []
    },
    {
      "cell_type": "code",
      "source": [
        "# Testing the models\n",
        "\n",
        "print(\"Test dataset accuracy for model 1.1.1 version 1 is: {0:.4f}\".format(model_1_1_1_version_1.evaluate(test_ds, steps=steps, verbose=1)[1]))\n",
        "print(\"Test dataset accuracy for model 1.1.2 version 1 is: {0:.4f}\".format(model_1_1_2_version_1.evaluate(test_ds, steps=steps, verbose=1)[1]))\n",
        "print(\"Test dataset accuracy for model 1.1.3 version 1 is: {0:.4f}\".format(model_1_1_3_version_1.evaluate(test_ds, steps=steps, verbose=1)[1]))\n",
        "\n",
        "print(\"Test dataset accuracy for model 1.2.1 version 1 is: {0:.4f}\".format(model_1_2_1_version_1.evaluate(test_ds, steps=steps, verbose=1)[1]))\n",
        "print(\"Test dataset accuracy for model 1.2.2 version 1 is: {0:.4f}\".format(model_1_2_2_version_1.evaluate(test_ds, steps=steps, verbose=1)[1]))\n",
        "print(\"Test dataset accuracy for model 1.2.3 version 1 is: {0:.4f}\".format(model_1_2_3_version_1.evaluate(test_ds, steps=steps, verbose=1)[1]))\n",
        "\n",
        "print(\"Test dataset accuracy for model 2.1.1 version 1 is: {0:.4f}\".format(model_2_1_1_version_1.evaluate(test_ds, steps=steps, verbose=1)[1]))\n",
        "print(\"Test dataset accuracy for model 2.1.2 version 1 is: {0:.4f}\".format(model_2_1_2_version_1.evaluate(test_ds, steps=steps, verbose=1)[1]))\n",
        "print(\"Test dataset accuracy for model 2.1.3 version 1 is: {0:.4f}\".format(model_2_1_3_version_1.evaluate(test_ds, steps=steps, verbose=1)[1]))\n",
        "\n",
        "#print(\"Test dataset accuracy for model 2.2.1 version 1 is: {0:.4f}\".format(model_2_2_1_version_1.evaluate(test_ds, steps=steps, verbose=1)[1]))\n",
        "#print(\"Test dataset accuracy for model 2.2.2 version 1 is: {0:.4f}\".format(model_2_2_2_version_1.evaluate(test_ds, steps=steps, verbose=1)[1]))\n",
        "#print(\"Test dataset accuracy for model 2.2.3 version 1 is: {0:.4f}\".format(model_2_2_3_version_1.evaluate(test_ds, steps=steps, verbose=1)[1]))\n",
        "\n",
        "#print(\"Test dataset accuracy for model 3.1.1 version 1 is: {0:.4f}\".format(model_3_1_1_version_1.evaluate(test_ds, steps=steps, verbose=1)[1]))\n",
        "#print(\"Test dataset accuracy for model 3.1.2 version 1 is: {0:.4f}\".format(model_3_1_2_version_1.evaluate(test_ds, steps=steps, verbose=1)[1]))\n",
        "#print(\"Test dataset accuracy for model 3.1.3 version 1 is: {0:.4f}\".format(model_3_1_3_version_1.evaluate(test_ds, steps=steps, verbose=1)[1]))\n",
        "\n",
        "#print(\"Test dataset accuracy for model 3.2.1 version 1 is: {0:.4f}\".format(model_3_2_1_version_1.evaluate(test_ds, steps=steps, verbose=1)[1]))\n",
        "#print(\"Test dataset accuracy for model 3.2.2 version 1 is: {0:.4f}\".format(model_3_2_2_version_1.evaluate(test_ds, steps=steps, verbose=1)[1]))\n",
        "#print(\"Test dataset accuracy for model 3.2.3 version 1 is: {0:.4f}\".format(model_3_2_3_version_1.evaluate(test_ds, steps=steps, verbose=1)[1]))\n"
      ],
      "metadata": {
        "colab": {
          "base_uri": "https://localhost:8080/"
        },
        "id": "bZ2OA1yX7i7C",
        "outputId": "9be71d86-6ca1-4a7c-9cfd-8087110ba019"
      },
      "execution_count": 37,
      "outputs": [
        {
          "output_type": "stream",
          "name": "stdout",
          "text": [
            "256/256 [==============================] - 8s 32ms/step - loss: 0.7308 - acc: 0.7690\n",
            "Test dataset accuracy for model 1.1.1 version 1 is: 0.7690\n",
            "256/256 [==============================] - 8s 29ms/step - loss: 0.7255 - acc: 0.7763\n",
            "Test dataset accuracy for model 1.1.2 version 1 is: 0.7763\n",
            "256/256 [==============================] - 8s 29ms/step - loss: 0.9998 - acc: 0.5002\n",
            "Test dataset accuracy for model 1.1.3 version 1 is: 0.5002\n",
            "256/256 [==============================] - 8s 29ms/step - loss: 0.1476 - acc: 0.7986\n",
            "Test dataset accuracy for model 1.2.1 version 1 is: 0.7986\n",
            "256/256 [==============================] - 8s 29ms/step - loss: 0.1612 - acc: 0.7695\n",
            "Test dataset accuracy for model 1.2.2 version 1 is: 0.7695\n",
            "256/256 [==============================] - 7s 29ms/step - loss: 0.1720 - acc: 0.7935\n",
            "Test dataset accuracy for model 1.2.3 version 1 is: 0.7935\n",
            "256/256 [==============================] - 8s 30ms/step - loss: 0.9998 - acc: 0.5002\n",
            "Test dataset accuracy for model 2.1.1 version 1 is: 0.5002\n",
            "256/256 [==============================] - 8s 30ms/step - loss: 1.0001 - acc: 0.4998\n",
            "Test dataset accuracy for model 2.1.2 version 1 is: 0.4998\n",
            "256/256 [==============================] - 8s 29ms/step - loss: 1.0002 - acc: 0.4998\n",
            "Test dataset accuracy for model 2.1.3 version 1 is: 0.4998\n"
          ]
        }
      ]
    },
    {
      "cell_type": "code",
      "source": [
        "import joblib"
      ],
      "metadata": {
        "id": "jNbMB5F37koa"
      },
      "execution_count": 38,
      "outputs": []
    },
    {
      "cell_type": "code",
      "source": [
        "\n",
        "joblib.dump(model_1_1_1_version_1, 'model_1_1_1_version_1')\n",
        "joblib.dump(model_1_1_2_version_1, 'model_1_1_2_version_1')\n",
        "joblib.dump(model_1_1_3_version_1, 'model_1_1_3_version_1')\n",
        "\n",
        "joblib.dump(model_1_2_1_version_1, 'model_1_2_1_version_1')\n",
        "joblib.dump(model_1_2_2_version_1, 'model_1_2_2_version_1')\n",
        "joblib.dump(model_1_2_3_version_1, 'model_1_2_3_version_1')\n",
        "\n",
        "joblib.dump(model_2_1_1_version_1, 'model_2_1_1_version_1')\n",
        "joblib.dump(model_2_1_2_version_1, 'model_2_1_2_version_1')\n",
        "joblib.dump(model_2_1_3_version_1, 'model_2_1_3_version_1')\n",
        "\n",
        "#joblib.dump(model_2_2_1_version_1, 'model_2_2_1_version_1')\n",
        "#joblib.dump(model_2_2_2_version_1, 'model_2_2_2_version_1')\n",
        "#joblib.dump(model_2_2_3_version_1, 'model_2_2_3_version_1')\n",
        "\n",
        "#joblib.dump(model_3_1_1_version_1, 'model_3_1_1_version_1')\n",
        "#joblib.dump(model_3_1_2_version_1, 'model_3_1_2_version_1')\n",
        "#joblib.dump(model_3_1_3_version_1, 'model_3_1_3_version_1')\n",
        "\n",
        "#joblib.dump(model_3_2_1_version_1, 'model_3_2_1_version_1')\n",
        "#joblib.dump(model_3_2_2_version_1, 'model_3_2_2_version_1')\n",
        "#joblib.dump(model_3_2_3_version_1, 'model_3_2_3_version_1')"
      ],
      "metadata": {
        "colab": {
          "base_uri": "https://localhost:8080/"
        },
        "id": "EZtJqFw87lrD",
        "outputId": "1368fa5a-50f9-4f8d-f709-09fe95f546be"
      },
      "execution_count": 39,
      "outputs": [
        {
          "output_type": "stream",
          "name": "stdout",
          "text": [
            "INFO:tensorflow:Assets written to: ram://b7286f7b-200b-41b7-bab6-e54ae9a7902b/assets\n"
          ]
        },
        {
          "output_type": "stream",
          "name": "stderr",
          "text": [
            "INFO:tensorflow:Assets written to: ram://b7286f7b-200b-41b7-bab6-e54ae9a7902b/assets\n"
          ]
        },
        {
          "output_type": "stream",
          "name": "stdout",
          "text": [
            "INFO:tensorflow:Assets written to: ram://9df2c7cc-5611-4d2d-b96e-d43638465896/assets\n"
          ]
        },
        {
          "output_type": "stream",
          "name": "stderr",
          "text": [
            "INFO:tensorflow:Assets written to: ram://9df2c7cc-5611-4d2d-b96e-d43638465896/assets\n"
          ]
        },
        {
          "output_type": "stream",
          "name": "stdout",
          "text": [
            "INFO:tensorflow:Assets written to: ram://e051a648-a2fb-4c85-acf8-776bc69c6530/assets\n"
          ]
        },
        {
          "output_type": "stream",
          "name": "stderr",
          "text": [
            "INFO:tensorflow:Assets written to: ram://e051a648-a2fb-4c85-acf8-776bc69c6530/assets\n"
          ]
        },
        {
          "output_type": "stream",
          "name": "stdout",
          "text": [
            "INFO:tensorflow:Assets written to: ram://5cbe387b-a8d5-4e9f-911e-422d1f5d4180/assets\n"
          ]
        },
        {
          "output_type": "stream",
          "name": "stderr",
          "text": [
            "INFO:tensorflow:Assets written to: ram://5cbe387b-a8d5-4e9f-911e-422d1f5d4180/assets\n"
          ]
        },
        {
          "output_type": "stream",
          "name": "stdout",
          "text": [
            "INFO:tensorflow:Assets written to: ram://da320dae-948f-4c9c-a1d8-26501895c8db/assets\n"
          ]
        },
        {
          "output_type": "stream",
          "name": "stderr",
          "text": [
            "INFO:tensorflow:Assets written to: ram://da320dae-948f-4c9c-a1d8-26501895c8db/assets\n"
          ]
        },
        {
          "output_type": "stream",
          "name": "stdout",
          "text": [
            "INFO:tensorflow:Assets written to: ram://0ff83324-501b-4170-b3c8-d691c77a97f3/assets\n"
          ]
        },
        {
          "output_type": "stream",
          "name": "stderr",
          "text": [
            "INFO:tensorflow:Assets written to: ram://0ff83324-501b-4170-b3c8-d691c77a97f3/assets\n"
          ]
        },
        {
          "output_type": "stream",
          "name": "stdout",
          "text": [
            "INFO:tensorflow:Assets written to: ram://208d421e-fd78-4da5-b7b9-fe927dc229dc/assets\n"
          ]
        },
        {
          "output_type": "stream",
          "name": "stderr",
          "text": [
            "INFO:tensorflow:Assets written to: ram://208d421e-fd78-4da5-b7b9-fe927dc229dc/assets\n"
          ]
        },
        {
          "output_type": "stream",
          "name": "stdout",
          "text": [
            "INFO:tensorflow:Assets written to: ram://dd5eeed4-04d1-474f-8232-668418d4417f/assets\n"
          ]
        },
        {
          "output_type": "stream",
          "name": "stderr",
          "text": [
            "INFO:tensorflow:Assets written to: ram://dd5eeed4-04d1-474f-8232-668418d4417f/assets\n"
          ]
        },
        {
          "output_type": "stream",
          "name": "stdout",
          "text": [
            "INFO:tensorflow:Assets written to: ram://19af0dfb-7b18-4976-958e-9e1b35cdae08/assets\n"
          ]
        },
        {
          "output_type": "stream",
          "name": "stderr",
          "text": [
            "INFO:tensorflow:Assets written to: ram://19af0dfb-7b18-4976-958e-9e1b35cdae08/assets\n"
          ]
        },
        {
          "output_type": "execute_result",
          "data": {
            "text/plain": [
              "['model_2_1_3_version_1']"
            ]
          },
          "metadata": {},
          "execution_count": 39
        }
      ]
    },
    {
      "cell_type": "code",
      "source": [
        "\n",
        "model_1_1_1_version_1_object= joblib.load('model_1_1_1_version_1')\n",
        "model_1_1_2_version_1_object= joblib.load('model_1_1_2_version_1')\n",
        "model_1_1_3_version_1_object= joblib.load('model_1_1_3_version_1')\n",
        "\n",
        "model_1_2_1_version_1_object= joblib.load('model_1_2_1_version_1')\n",
        "model_1_2_2_version_1_object= joblib.load('model_1_2_2_version_1')\n",
        "model_1_2_3_version_1_object= joblib.load('model_1_2_3_version_1')\n",
        "\n",
        "model_2_1_1_version_1_object= joblib.load('model_2_1_1_version_1')\n",
        "model_2_1_2_version_1_object= joblib.load('model_2_1_2_version_1')\n",
        "model_2_1_3_version_1_object= joblib.load('model_2_1_3_version_1')\n",
        "\n",
        "#model_2_2_1_version_1_object= joblib.load('model_2_2_1_version_1')\n",
        "#model_2_2_2_version_1_object= joblib.load('model_2_2_2_version_1')\n",
        "#model_2_2_3_version_1_object= joblib.load('model_2_2_3_version_1')\n",
        "\n",
        "#model_3_1_1_version_1_object= joblib.load('model_3_1_1_version_1')\n",
        "#model_3_1_2_version_1_object= joblib.load('model_3_1_2_version_1')\n",
        "#model_3_1_3_version_1_object= joblib.load('model_3_1_3_version_1')\n",
        "\n",
        "#model_3_2_1_version_1_object= joblib.load('model_3_2_1_version_1')\n",
        "#model_3_2_2_version_1_object= joblib.load('model_3_2_2_version_1')\n",
        "#model_3_2_3_version_1_object= joblib.load('model_3_2_3_version_1')"
      ],
      "metadata": {
        "id": "Sx9AyvgA7m2i"
      },
      "execution_count": 40,
      "outputs": []
    },
    {
      "cell_type": "code",
      "source": [
        "# Testing the models using the model objects\n",
        "\n",
        "\n",
        "print(\"Test dataset accuracy for model 1.1.1 version 1 is: {0:.4f}\".format(model_1_1_1_version_1_object.evaluate(test_ds, steps=steps, verbose=1)[1]))\n",
        "print(\"Test dataset accuracy for model 1.1.2 version 1 is: {0:.4f}\".format(model_1_1_2_version_1_object.evaluate(test_ds, steps=steps, verbose=1)[1]))\n",
        "print(\"Test dataset accuracy for model 1.1.3 version 1 is: {0:.4f}\".format(model_1_1_3_version_1_object.evaluate(test_ds, steps=steps, verbose=1)[1]))\n",
        "\n",
        "print(\"Test dataset accuracy for model 1.2.1 version 1 is: {0:.4f}\".format(model_1_2_1_version_1_object.evaluate(test_ds, steps=steps, verbose=1)[1]))\n",
        "print(\"Test dataset accuracy for model 1.2.2 version 1 is: {0:.4f}\".format(model_1_2_2_version_1_object.evaluate(test_ds, steps=steps, verbose=1)[1]))\n",
        "print(\"Test dataset accuracy for model 1.2.3 version 1 is: {0:.4f}\".format(model_1_2_3_version_1_object.evaluate(test_ds, steps=steps, verbose=1)[1]))\n",
        "\n",
        "print(\"Test dataset accuracy for model 2.1.1 version 1 is: {0:.4f}\".format(model_2_1_1_version_1_object.evaluate(test_ds, steps=steps, verbose=1)[1]))\n",
        "print(\"Test dataset accuracy for model 2.1.2 version 1 is: {0:.4f}\".format(model_2_1_2_version_1_object.evaluate(test_ds, steps=steps, verbose=1)[1]))\n",
        "print(\"Test dataset accuracy for model 2.1.3 version 1 is: {0:.4f}\".format(model_2_1_3_version_1_object.evaluate(test_ds, steps=steps, verbose=1)[1]))\n",
        "\n",
        "#print(\"Test dataset accuracy for model 2.2.1 version 1 is: {0:.4f}\".format(model_2_2_1_version_1_object.evaluate(test_ds, steps=steps, verbose=1)[1]))\n",
        "#print(\"Test dataset accuracy for model 2.2.2 version 1 is: {0:.4f}\".format(model_2_2_2_version_1_object.evaluate(test_ds, steps=steps, verbose=1)[1]))\n",
        "#print(\"Test dataset accuracy for model 2.2.3 version 1 is: {0:.4f}\".format(model_2_2_3_version_1_object.evaluate(test_ds, steps=steps, verbose=1)[1]))\n",
        "\n",
        "#print(\"Test dataset accuracy for model 3.1.1 version 1 is: {0:.4f}\".format(model_3_1_1_version_1_object.evaluate(test_ds, steps=steps, verbose=1)[1]))\n",
        "#print(\"Test dataset accuracy for model 3.1.2 version 1 is: {0:.4f}\".format(model_3_1_2_version_1_object.evaluate(test_ds, steps=steps, verbose=1)[1]))\n",
        "#print(\"Test dataset accuracy for model 3.1.3 version 1 is: {0:.4f}\".format(model_3_1_3_version_1_object.evaluate(test_ds, steps=steps, verbose=1)[1]))\n",
        "\n",
        "#print(\"Test dataset accuracy for model 3.2.1 version 1 is: {0:.4f}\".format(model_3_2_1_version_1_object.evaluate(test_ds, steps=steps, verbose=1)[1]))\n",
        "#print(\"Test dataset accuracy for model 3.2.2 version 1 is: {0:.4f}\".format(model_3_2_2_version_1_object.evaluate(test_ds, steps=steps, verbose=1)[1]))\n",
        "#print(\"Test dataset accuracy for model 3.2.3 version 1 is: {0:.4f}\".format(model_3_2_3_version_1_object.evaluate(test_ds, steps=steps, verbose=1)[1]))"
      ],
      "metadata": {
        "colab": {
          "base_uri": "https://localhost:8080/"
        },
        "id": "KAlt-Ojd7n_Q",
        "outputId": "11737659-5532-4f33-bae3-1413fad99e6f"
      },
      "execution_count": 41,
      "outputs": [
        {
          "output_type": "stream",
          "name": "stdout",
          "text": [
            "256/256 [==============================] - 7s 28ms/step - loss: 0.7308 - acc: 0.7690\n",
            "Test dataset accuracy for model 1.1.1 version 1 is: 0.7690\n",
            "256/256 [==============================] - 8s 29ms/step - loss: 0.7255 - acc: 0.7763\n",
            "Test dataset accuracy for model 1.1.2 version 1 is: 0.7763\n",
            "256/256 [==============================] - 8s 30ms/step - loss: 0.9998 - acc: 0.5002\n",
            "Test dataset accuracy for model 1.1.3 version 1 is: 0.5002\n",
            "256/256 [==============================] - 8s 29ms/step - loss: 0.1476 - acc: 0.7986\n",
            "Test dataset accuracy for model 1.2.1 version 1 is: 0.7986\n",
            "256/256 [==============================] - 8s 29ms/step - loss: 0.1612 - acc: 0.7695\n",
            "Test dataset accuracy for model 1.2.2 version 1 is: 0.7695\n",
            "256/256 [==============================] - 8s 29ms/step - loss: 0.1720 - acc: 0.7935\n",
            "Test dataset accuracy for model 1.2.3 version 1 is: 0.7935\n",
            "256/256 [==============================] - 8s 30ms/step - loss: 0.9998 - acc: 0.5002\n",
            "Test dataset accuracy for model 2.1.1 version 1 is: 0.5002\n",
            "256/256 [==============================] - 8s 29ms/step - loss: 1.0001 - acc: 0.4998\n",
            "Test dataset accuracy for model 2.1.2 version 1 is: 0.4998\n",
            "256/256 [==============================] - 8s 30ms/step - loss: 1.0002 - acc: 0.4998\n",
            "Test dataset accuracy for model 2.1.3 version 1 is: 0.4998\n"
          ]
        }
      ]
    }
  ]
}